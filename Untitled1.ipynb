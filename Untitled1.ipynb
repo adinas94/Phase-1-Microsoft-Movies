{
 "cells": [
  {
   "cell_type": "code",
   "execution_count": 1,
   "metadata": {},
   "outputs": [],
   "source": [
    "import pandas as pd\n",
    "import json\n",
    "import requests\n",
    "import time\n",
    "import numpy as np"
   ]
  },
  {
   "cell_type": "code",
   "execution_count": 2,
   "metadata": {},
   "outputs": [],
   "source": [
    "import tmdbsimple as tmdb"
   ]
  },
  {
   "cell_type": "code",
   "execution_count": 11,
   "metadata": {},
   "outputs": [],
   "source": [
    "tmdb.API_KEY = 'c2d178abd2b6b87a1c24e21c38bd5e24'"
   ]
  },
  {
   "cell_type": "code",
   "execution_count": 12,
   "metadata": {},
   "outputs": [],
   "source": [
    "api_key = 'c2d178abd2b6b87a1c24e21c38bd5e24'"
   ]
  },
  {
   "cell_type": "code",
   "execution_count": 13,
   "metadata": {},
   "outputs": [],
   "source": [
    "newlist=[]\n",
    "n=0\n",
    "while n<5:\n",
    "    n+=1\n",
    "    url='http://api.themoviedb.org/3/discover/movie?primary_release_year=2019&sort_by=revenue.desc&offset=20&page={}&api_key='.format(n)\n",
    "    req=requests.get(url+api_key).json()\n",
    "    results=req['results']\n",
    "    newlist.extend(results)"
   ]
  },
  {
   "cell_type": "code",
   "execution_count": 5,
   "metadata": {},
   "outputs": [
    {
     "data": {
      "text/plain": [
       "[{'popularity': 189.605,\n",
       "  'vote_count': 15353,\n",
       "  'video': False,\n",
       "  'poster_path': '/or06FN3Dka5tukK1e9sl16pB3iy.jpg',\n",
       "  'id': 299534,\n",
       "  'adult': False,\n",
       "  'backdrop_path': '/orjiB3oUIsyz60hoEqkiGpy5CeO.jpg',\n",
       "  'original_language': 'en',\n",
       "  'original_title': 'Avengers: Endgame',\n",
       "  'genre_ids': [28, 12, 878],\n",
       "  'title': 'Avengers: Endgame',\n",
       "  'vote_average': 8.3,\n",
       "  'overview': \"After the devastating events of Avengers: Infinity War, the universe is in ruins due to the efforts of the Mad Titan, Thanos. With the help of remaining allies, the Avengers must assemble once more in order to undo Thanos' actions and restore order to the universe once and for all, no matter what consequences may be in store.\",\n",
       "  'release_date': '2019-04-24'},\n",
       " {'popularity': 166.569,\n",
       "  'vote_count': 6923,\n",
       "  'video': False,\n",
       "  'poster_path': '/dzBtMocZuJbjLOXvrl4zGYigDzh.jpg',\n",
       "  'id': 420818,\n",
       "  'adult': False,\n",
       "  'backdrop_path': '/nRXO2SnOA75OsWhNhXstHB8ZmI3.jpg',\n",
       "  'original_language': 'en',\n",
       "  'original_title': 'The Lion King',\n",
       "  'genre_ids': [12, 16, 10402, 10751],\n",
       "  'title': 'The Lion King',\n",
       "  'vote_average': 7.2,\n",
       "  'overview': \"Simba idolizes his father, King Mufasa, and takes to heart his own royal destiny. But not everyone in the kingdom celebrates the new cub's arrival. Scar, Mufasa's brother—and former heir to the throne—has plans of his own. The battle for Pride Rock is ravaged with betrayal, tragedy and drama, ultimately resulting in Simba's exile. With help from a curious pair of newfound friends, Simba will have to figure out how to grow up and take back what is rightfully his.\",\n",
       "  'release_date': '2019-07-12'},\n",
       " {'popularity': 277.421,\n",
       "  'id': 330457,\n",
       "  'video': False,\n",
       "  'vote_count': 6264,\n",
       "  'vote_average': 7.3,\n",
       "  'title': 'Frozen II',\n",
       "  'release_date': '2019-11-20',\n",
       "  'original_language': 'en',\n",
       "  'original_title': 'Frozen II',\n",
       "  'genre_ids': [16, 10751, 12, 35, 14],\n",
       "  'backdrop_path': '/xJWPZIYOEFIjZpBL7SVBGnzRYXp.jpg',\n",
       "  'adult': False,\n",
       "  'overview': 'Elsa, Anna, Kristoff and Olaf head far into the forest to learn the truth about an ancient mystery of their kingdom.',\n",
       "  'poster_path': '/pjeMs3yqRmFL3giJy4PMXWZTTPa.jpg'},\n",
       " {'popularity': 192.696,\n",
       "  'vote_count': 8511,\n",
       "  'video': False,\n",
       "  'poster_path': '/4q2NNj4S5dG2RLF9CpXsej7yXl.jpg',\n",
       "  'id': 429617,\n",
       "  'adult': False,\n",
       "  'backdrop_path': '/5myQbDzw3l8K9yofUXRJ4UTVgam.jpg',\n",
       "  'original_language': 'en',\n",
       "  'original_title': 'Spider-Man: Far from Home',\n",
       "  'genre_ids': [28, 12, 878],\n",
       "  'title': 'Spider-Man: Far from Home',\n",
       "  'vote_average': 7.6,\n",
       "  'overview': 'Peter Parker and his friends go on a summer trip to Europe. However, they will hardly be able to rest - Peter will have to agree to help Nick Fury uncover the mystery of creatures that cause natural disasters and destruction throughout the continent.',\n",
       "  'release_date': '2019-06-28'},\n",
       " {'popularity': 121.159,\n",
       "  'id': 299537,\n",
       "  'video': False,\n",
       "  'vote_count': 10214,\n",
       "  'vote_average': 7,\n",
       "  'title': 'Captain Marvel',\n",
       "  'release_date': '2019-03-06',\n",
       "  'original_language': 'en',\n",
       "  'original_title': 'Captain Marvel',\n",
       "  'genre_ids': [28, 12, 878],\n",
       "  'backdrop_path': '/w2PMyoyLU22YvrGK3smVM9fW1jj.jpg',\n",
       "  'adult': False,\n",
       "  'overview': 'The story follows Carol Danvers as she becomes one of the universe’s most powerful heroes when Earth is caught in the middle of a galactic war between two alien races. Set in the 1990s, Captain Marvel is an all-new adventure from a previously unseen period in the history of the Marvel Cinematic Universe.',\n",
       "  'poster_path': '/AtsgWhDnHTq68L0lLsUrCnM7TjG.jpg'},\n",
       " {'popularity': 366.733,\n",
       "  'vote_count': 15202,\n",
       "  'video': False,\n",
       "  'poster_path': '/udDclJoHjfjb8Ekgsd4FDteOkCU.jpg',\n",
       "  'id': 475557,\n",
       "  'adult': False,\n",
       "  'backdrop_path': '/n6bUvigpRFqSwmPp1m2YADdbRBc.jpg',\n",
       "  'original_language': 'en',\n",
       "  'original_title': 'Joker',\n",
       "  'genre_ids': [80, 18, 53],\n",
       "  'title': 'Joker',\n",
       "  'vote_average': 8.2,\n",
       "  'overview': 'During the 1980s, a failed stand-up comedian is driven insane and turns to a life of crime and chaos in Gotham City while becoming an infamous psychopathic crime figure.',\n",
       "  'release_date': '2019-10-02'},\n",
       " {'popularity': 152.168,\n",
       "  'vote_count': 5779,\n",
       "  'video': False,\n",
       "  'poster_path': '/db32LaOibwEliAmSL2jjDF6oDdj.jpg',\n",
       "  'id': 181812,\n",
       "  'adult': False,\n",
       "  'backdrop_path': '/SPkEiZGxq5aHWQ2Zw7AITwSEo2.jpg',\n",
       "  'original_language': 'en',\n",
       "  'original_title': 'Star Wars: The Rise of Skywalker',\n",
       "  'genre_ids': [28, 12, 878],\n",
       "  'title': 'Star Wars: The Rise of Skywalker',\n",
       "  'vote_average': 6.6,\n",
       "  'overview': 'The surviving Resistance faces the First Order once again as the journey of Rey, Finn and Poe Dameron continues. With the power and knowledge of generations behind them, the final battle begins.',\n",
       "  'release_date': '2019-12-18'},\n",
       " {'popularity': 175.001,\n",
       "  'vote_count': 6143,\n",
       "  'video': False,\n",
       "  'poster_path': '/w9kR8qbmQ01HwnvK4alvnQ2ca0L.jpg',\n",
       "  'id': 301528,\n",
       "  'adult': False,\n",
       "  'backdrop_path': '/q62bpQ67qaXY0u6b2wFEnQYIbPd.jpg',\n",
       "  'original_language': 'en',\n",
       "  'original_title': 'Toy Story 4',\n",
       "  'genre_ids': [12, 16, 35, 14, 10751],\n",
       "  'title': 'Toy Story 4',\n",
       "  'vote_average': 7.6,\n",
       "  'overview': 'Woody has always been confident about his place in the world and that his priority is taking care of his kid, whether that\\'s Andy or Bonnie. But when Bonnie adds a reluctant new toy called \"Forky\" to her room, a road trip adventure alongside old and new friends will show Woody how big the world can be for a toy.',\n",
       "  'release_date': '2019-06-19'},\n",
       " {'popularity': 130.582,\n",
       "  'vote_count': 7043,\n",
       "  'video': False,\n",
       "  'poster_path': '/ykUEbfpkf8d0w49pHh0AD2KrT52.jpg',\n",
       "  'id': 420817,\n",
       "  'adult': False,\n",
       "  'backdrop_path': '/k40PQsaXYDXY2czuLXzCvL5BVpo.jpg',\n",
       "  'original_language': 'en',\n",
       "  'original_title': 'Aladdin',\n",
       "  'genre_ids': [12, 14, 10749, 10751],\n",
       "  'title': 'Aladdin',\n",
       "  'vote_average': 7.2,\n",
       "  'overview': 'A kindhearted street urchin named Aladdin embarks on a magical adventure after finding a lamp that releases a wisecracking genie while a power-hungry Grand Vizier vies for the same lamp that has the power to make their deepest wishes come true.',\n",
       "  'release_date': '2019-05-22'},\n",
       " {'popularity': 215.607,\n",
       "  'vote_count': 4854,\n",
       "  'video': False,\n",
       "  'poster_path': '/jyw8VKYEiM1UDzPB7NsisUgBeJ8.jpg',\n",
       "  'id': 512200,\n",
       "  'adult': False,\n",
       "  'backdrop_path': '/zTxHf9iIOCqRbxvl8W5QYKrsMLq.jpg',\n",
       "  'original_language': 'en',\n",
       "  'original_title': 'Jumanji: The Next Level',\n",
       "  'genre_ids': [12, 35, 14],\n",
       "  'title': 'Jumanji: The Next Level',\n",
       "  'vote_average': 7,\n",
       "  'overview': 'As the gang return to Jumanji to rescue one of their own, they discover that nothing is as they expect. The players will have to brave parts unknown and unexplored in order to escape the world’s most dangerous game.',\n",
       "  'release_date': '2019-12-04'},\n",
       " {'popularity': 214.027,\n",
       "  'vote_count': 4236,\n",
       "  'video': False,\n",
       "  'poster_path': '/qRyy2UmjC5ur9bDi3kpNNRCc5nc.jpg',\n",
       "  'id': 384018,\n",
       "  'adult': False,\n",
       "  'backdrop_path': '/qAhedRxRYWZAgZ8O8pHIl6QHdD7.jpg',\n",
       "  'original_language': 'en',\n",
       "  'original_title': 'Fast & Furious Presents: Hobbs & Shaw',\n",
       "  'genre_ids': [28, 12, 35],\n",
       "  'title': 'Fast & Furious Presents: Hobbs & Shaw',\n",
       "  'vote_average': 6.9,\n",
       "  'overview': \"Ever since US Diplomatic Security Service Agent Hobbs and lawless outcast Shaw first faced off, they just have swapped smacks and bad words. But when cyber-genetically enhanced anarchist Brixton's ruthless actions threaten the future of humanity, both join forces to defeat him. (A spin-off of “The Fate of the Furious,” focusing on Johnson's Luke Hobbs and Statham's Deckard Shaw.)\",\n",
       "  'release_date': '2019-08-01'},\n",
       " {'popularity': 20.78,\n",
       "  'vote_count': 152,\n",
       "  'video': False,\n",
       "  'poster_path': '/vhnxaQel1CwfcwLtCkTNpSdjte1.jpg',\n",
       "  'id': 615453,\n",
       "  'adult': False,\n",
       "  'backdrop_path': '/eGK2JJO1ZeoabWThHmC9IjUTmfP.jpg',\n",
       "  'original_language': 'zh',\n",
       "  'original_title': '哪吒之魔童降世',\n",
       "  'genre_ids': [16, 35, 14],\n",
       "  'title': 'Ne Zha',\n",
       "  'vote_average': 7.9,\n",
       "  'overview': 'The Primus extracts a Mixed Yuan Bead into a Spirit Seed and a Demon Pill. The Spirit Seed can be reincarnated as a human to help King Zhou establish a new dynasty, whereas the Demon Pill will create a devil threatening humanity. Ne Zha is the one who is destined to be the hero, but instead he becomes a devil incarnate, because the Spirit Seed and a Demon Pill are switched.',\n",
       "  'release_date': '2019-07-26'},\n",
       " {'popularity': 103.472,\n",
       "  'vote_count': 4001,\n",
       "  'video': False,\n",
       "  'poster_path': '/xvx4Yhf0DVH8G4LzNISpMfFBDy2.jpg',\n",
       "  'id': 166428,\n",
       "  'adult': False,\n",
       "  'backdrop_path': '/lFwykSz3Ykj1Q3JXJURnGUTNf1o.jpg',\n",
       "  'original_language': 'en',\n",
       "  'original_title': 'How to Train Your Dragon: The Hidden World',\n",
       "  'genre_ids': [12, 16, 10751],\n",
       "  'title': 'How to Train Your Dragon: The Hidden World',\n",
       "  'vote_average': 7.8,\n",
       "  'overview': 'As Hiccup fulfills his dream of creating a peaceful dragon utopia, Toothless’ discovery of an untamed, elusive mate draws the Night Fury away. When danger mounts at home and Hiccup’s reign as village chief is tested, both dragon and rider must make impossible decisions to save their kind.',\n",
       "  'release_date': '2019-01-03'},\n",
       " {'popularity': 0.6,\n",
       "  'vote_count': 1,\n",
       "  'video': False,\n",
       "  'poster_path': '/m7sGOqpSDGxk23qxBPkZ4qcZ2v9.jpg',\n",
       "  'id': 747121,\n",
       "  'adult': False,\n",
       "  'backdrop_path': None,\n",
       "  'original_language': 'en',\n",
       "  'original_title': 'Alha Sahma',\n",
       "  'genre_ids': [],\n",
       "  'title': 'Alha Sahma',\n",
       "  'vote_average': 10,\n",
       "  'overview': \"A bounty hunter has a mission, kill a jew, but things don't go according to plan.\",\n",
       "  'release_date': '2019-04-12'},\n",
       " {'popularity': 174.136,\n",
       "  'vote_count': 3722,\n",
       "  'video': False,\n",
       "  'poster_path': '/vloNTScJ3w7jwNwtNGoG8DbTThv.jpg',\n",
       "  'id': 420809,\n",
       "  'adult': False,\n",
       "  'backdrop_path': '/skvI4rYFrKXS73BJxWGH54Omlvv.jpg',\n",
       "  'original_language': 'en',\n",
       "  'original_title': 'Maleficent: Mistress of Evil',\n",
       "  'genre_ids': [12, 14, 10751],\n",
       "  'title': 'Maleficent: Mistress of Evil',\n",
       "  'vote_average': 7.3,\n",
       "  'overview': 'Maleficent and her goddaughter Aurora begin to question the complex family ties that bind them as they are pulled in different directions by impending nuptials, unexpected allies, and dark new forces at play.',\n",
       "  'release_date': '2019-10-16'},\n",
       " {'popularity': 438.78,\n",
       "  'vote_count': 4939,\n",
       "  'video': False,\n",
       "  'poster_path': '/zfE0R94v1E8cuKAerbskfD3VfUt.jpg',\n",
       "  'id': 474350,\n",
       "  'adult': False,\n",
       "  'backdrop_path': '/8moTOzunF7p40oR5XhlDvJckOSW.jpg',\n",
       "  'original_language': 'en',\n",
       "  'original_title': 'It Chapter Two',\n",
       "  'genre_ids': [14, 27],\n",
       "  'title': 'It Chapter Two',\n",
       "  'vote_average': 6.9,\n",
       "  'overview': \"27 years after overcoming the malevolent supernatural entity Pennywise, the former members of the Losers' Club, who have grown up and moved away from Derry, are brought back together by a devastating phone call.\",\n",
       "  'release_date': '2019-09-04'},\n",
       " {'popularity': 146.58,\n",
       "  'vote_count': 4333,\n",
       "  'video': False,\n",
       "  'poster_path': '/wgQ7APnFpf1TuviKHXeEe3KnsTV.jpg',\n",
       "  'id': 447404,\n",
       "  'adult': False,\n",
       "  'backdrop_path': '/nDP33LmQwNsnPv29GQazz59HjJI.jpg',\n",
       "  'original_language': 'en',\n",
       "  'original_title': 'Pokémon Detective Pikachu',\n",
       "  'genre_ids': [28, 12, 14],\n",
       "  'title': 'Pokémon Detective Pikachu',\n",
       "  'vote_average': 7,\n",
       "  'overview': 'In a world where people collect pocket-size monsters (Pokémon) to do battle, a boy comes across an intelligent monster who seeks to be a detective.',\n",
       "  'release_date': '2019-05-03'},\n",
       " {'popularity': 126.979,\n",
       "  'vote_count': 5795,\n",
       "  'video': False,\n",
       "  'poster_path': '/xRWht48C2V8XNfzvPehyClOvDni.jpg',\n",
       "  'id': 399579,\n",
       "  'adult': False,\n",
       "  'backdrop_path': '/8RKBHHRqOMOLh5qW3sS6TSFTd8h.jpg',\n",
       "  'original_language': 'en',\n",
       "  'original_title': 'Alita: Battle Angel',\n",
       "  'genre_ids': [28, 12, 878],\n",
       "  'title': 'Alita: Battle Angel',\n",
       "  'vote_average': 7.1,\n",
       "  'overview': 'When Alita awakens with no memory of who she is in a future world she does not recognize, she is taken in by Ido, a compassionate doctor who realizes that somewhere in this abandoned cyborg shell is the heart and soul of a young woman with an extraordinary past.',\n",
       "  'release_date': '2019-01-31'},\n",
       " {'popularity': 120.795,\n",
       "  'vote_count': 3016,\n",
       "  'video': False,\n",
       "  'poster_path': '/mzOHg7Q5q9yUmY0b9Esu8Qe6Nnm.jpg',\n",
       "  'id': 373571,\n",
       "  'adult': False,\n",
       "  'backdrop_path': '/jb6Ju38HmKX0bYHCmAxs8HyNeJ2.jpg',\n",
       "  'original_language': 'en',\n",
       "  'original_title': 'Godzilla: King of the Monsters',\n",
       "  'genre_ids': [28, 878],\n",
       "  'title': 'Godzilla: King of the Monsters',\n",
       "  'vote_average': 6.4,\n",
       "  'overview': \"Follows the heroic efforts of the crypto-zoological agency Monarch as its members face off against a battery of god-sized monsters, including the mighty Godzilla, who collides with Mothra, Rodan, and his ultimate nemesis, the three-headed King Ghidorah. When these ancient super-species, thought to be mere myths, rise again, they all vie for supremacy, leaving humanity's very existence hanging in the balance.\",\n",
       "  'release_date': '2019-05-29'},\n",
       " {'popularity': 214.084,\n",
       "  'vote_count': 6724,\n",
       "  'video': False,\n",
       "  'poster_path': '/iZf0KyrE25z1sage4SYFLCCrMi9.jpg',\n",
       "  'id': 530915,\n",
       "  'adult': False,\n",
       "  'backdrop_path': '/cqa3sa4c4jevgnEJwq3CMF8UfTG.jpg',\n",
       "  'original_language': 'en',\n",
       "  'original_title': '1917',\n",
       "  'genre_ids': [18, 10752],\n",
       "  'title': '1917',\n",
       "  'vote_average': 7.9,\n",
       "  'overview': 'At the height of the First World War, two young British soldiers must cross enemy territory and deliver a message that will stop a deadly attack on hundreds of soldiers.',\n",
       "  'release_date': '2019-12-25'},\n",
       " {'popularity': 49.905,\n",
       "  'vote_count': 7455,\n",
       "  'video': False,\n",
       "  'poster_path': '/8j58iEBw9pOXFD2L0nt0ZXeHviB.jpg',\n",
       "  'id': 466272,\n",
       "  'adult': False,\n",
       "  'backdrop_path': '/b82nVVhYNRgtsTFV1jkdDwe6LJZ.jpg',\n",
       "  'original_language': 'en',\n",
       "  'original_title': 'Once Upon a Time… in Hollywood',\n",
       "  'genre_ids': [35, 18, 53],\n",
       "  'title': 'Once Upon a Time… in Hollywood',\n",
       "  'vote_average': 7.5,\n",
       "  'overview': 'Los Angeles, 1969. TV star Rick Dalton, a struggling actor specializing in westerns, and stuntman Cliff Booth, his best friend, try to survive in a constantly changing movie industry. Dalton is the neighbor of the young and promising actress and model Sharon Tate, who has just married the prestigious Polish director Roman Polanski…',\n",
       "  'release_date': '2019-07-24'},\n",
       " {'popularity': 107.037,\n",
       "  'vote_count': 5651,\n",
       "  'video': False,\n",
       "  'poster_path': '/xnopI5Xtky18MPhK40cZAGAOVeV.jpg',\n",
       "  'id': 287947,\n",
       "  'adult': False,\n",
       "  'backdrop_path': '/qwgGtdlLMKYvT2tV8hLY22syRHN.jpg',\n",
       "  'original_language': 'en',\n",
       "  'original_title': 'Shazam!',\n",
       "  'genre_ids': [28, 35, 14],\n",
       "  'title': 'Shazam!',\n",
       "  'vote_average': 7,\n",
       "  'overview': 'A boy is given the ability to become an adult superhero in times of need with a single magic word.',\n",
       "  'release_date': '2019-03-29'},\n",
       " {'popularity': 159.32,\n",
       "  'vote_count': 5822,\n",
       "  'video': False,\n",
       "  'poster_path': '/ziEuG1essDuWuC5lpWUaw1uXY2O.jpg',\n",
       "  'id': 458156,\n",
       "  'adult': False,\n",
       "  'backdrop_path': '/vVpEOvdxVBP2aV166j5Xlvb5Cdc.jpg',\n",
       "  'original_language': 'en',\n",
       "  'original_title': 'John Wick: Chapter 3 - Parabellum',\n",
       "  'genre_ids': [28, 80, 53],\n",
       "  'title': 'John Wick: Chapter 3 - Parabellum',\n",
       "  'vote_average': 7.4,\n",
       "  'overview': 'Super-assassin John Wick returns with a $14 million price tag on his head and an army of bounty-hunting killers on his trail. After killing a member of the shadowy international assassin’s guild, the High Table, John Wick is excommunicado, but the world’s most ruthless hit men and women await his every turn.',\n",
       "  'release_date': '2019-05-15'},\n",
       " {'popularity': 51.978,\n",
       "  'vote_count': 5760,\n",
       "  'video': False,\n",
       "  'poster_path': '/pThyQovXQrw2m0s9x82twj48Jq4.jpg',\n",
       "  'id': 546554,\n",
       "  'adult': False,\n",
       "  'backdrop_path': '/4HWAQu28e2yaWrtupFPGFkdNU7V.jpg',\n",
       "  'original_language': 'en',\n",
       "  'original_title': 'Knives Out',\n",
       "  'genre_ids': [35, 80, 18, 9648, 53],\n",
       "  'title': 'Knives Out',\n",
       "  'vote_average': 7.9,\n",
       "  'overview': \"When renowned crime novelist Harlan Thrombey is found dead at his estate just after his 85th birthday, the inquisitive and debonair Detective Benoit Blanc is mysteriously enlisted to investigate. From Harlan's dysfunctional family to his devoted staff, Blanc sifts through a web of red herrings and self-serving lies to uncover the truth behind Harlan's untimely death.\",\n",
       "  'release_date': '2019-11-27'},\n",
       " {'popularity': 192.576,\n",
       "  'vote_count': 2883,\n",
       "  'video': False,\n",
       "  'poster_path': '/vqzNJRH4YyquRiWxCCOH0aXggHI.jpg',\n",
       "  'id': 290859,\n",
       "  'adult': False,\n",
       "  'backdrop_path': '/a6cDxdwaQIFjSkXf7uskg78ZyTq.jpg',\n",
       "  'original_language': 'en',\n",
       "  'original_title': 'Terminator: Dark Fate',\n",
       "  'genre_ids': [28, 12, 878],\n",
       "  'title': 'Terminator: Dark Fate',\n",
       "  'vote_average': 6.5,\n",
       "  'overview': 'Decades after Sarah Connor prevented Judgment Day, a lethal new Terminator is sent to eliminate the future leader of the resistance. In a fight to save mankind, battle-hardened Sarah Connor teams up with an unexpected ally and an enhanced super soldier to stop the deadliest Terminator yet.',\n",
       "  'release_date': '2019-10-23'},\n",
       " {'popularity': 99.31,\n",
       "  'vote_count': 9473,\n",
       "  'video': False,\n",
       "  'poster_path': '/7IiTTgloJzvGI1TAYymCfbfl3vT.jpg',\n",
       "  'id': 496243,\n",
       "  'adult': False,\n",
       "  'backdrop_path': '/ApiBzeaa95TNYliSbQ8pJv4Fje7.jpg',\n",
       "  'original_language': 'ko',\n",
       "  'original_title': '기생충',\n",
       "  'genre_ids': [35, 18, 53],\n",
       "  'title': 'Parasite',\n",
       "  'vote_average': 8.5,\n",
       "  'overview': \"All unemployed, Ki-taek's family takes peculiar interest in the wealthy and glamorous Parks for their livelihood until they get entangled in an unexpected incident.\",\n",
       "  'release_date': '2019-05-30'},\n",
       " {'popularity': 30.302,\n",
       "  'vote_count': 4411,\n",
       "  'video': False,\n",
       "  'poster_path': '/ux2dU1jQ2ACIMShzB3yP93Udpzc.jpg',\n",
       "  'id': 458723,\n",
       "  'adult': False,\n",
       "  'backdrop_path': '/ADJ6V8W96It4KElY2SPZvkKPBR.jpg',\n",
       "  'original_language': 'en',\n",
       "  'original_title': 'Us',\n",
       "  'genre_ids': [27, 9648, 53],\n",
       "  'title': 'Us',\n",
       "  'vote_average': 7,\n",
       "  'overview': 'Husband and wife Gabe and Adelaide Wilson take their kids to their beach house expecting to unplug and unwind with friends. But as night descends, their serenity turns to tension and chaos when some shocking visitors arrive uninvited.',\n",
       "  'release_date': '2019-03-14'},\n",
       " {'popularity': 82.388,\n",
       "  'id': 479455,\n",
       "  'video': False,\n",
       "  'vote_count': 2917,\n",
       "  'vote_average': 6,\n",
       "  'title': 'Men in Black: International',\n",
       "  'release_date': '2019-06-12',\n",
       "  'original_language': 'en',\n",
       "  'original_title': 'Men in Black: International',\n",
       "  'genre_ids': [35, 878],\n",
       "  'backdrop_path': '/uK9uFbAwQ1s2JHKkJ5l0obPTcXI.jpg',\n",
       "  'adult': False,\n",
       "  'overview': 'The Men in Black have always protected the Earth from the scum of the universe. In this new adventure, they tackle their biggest, most global threat to date: a mole in the Men in Black organization.',\n",
       "  'poster_path': '/dPrUPFcgLfNbmDL8V69vcrTyEfb.jpg'},\n",
       " {'popularity': 112.619,\n",
       "  'vote_count': 3999,\n",
       "  'video': False,\n",
       "  'poster_path': '/cCTJPelKGLhALq3r51A9uMonxKj.jpg',\n",
       "  'id': 320288,\n",
       "  'adult': False,\n",
       "  'backdrop_path': '/phxiKFDvPeQj4AbkvJLmuZEieDU.jpg',\n",
       "  'original_language': 'en',\n",
       "  'original_title': 'Dark Phoenix',\n",
       "  'genre_ids': [28, 12, 878],\n",
       "  'title': 'Dark Phoenix',\n",
       "  'vote_average': 6.1,\n",
       "  'overview': \"The X-Men face their most formidable and powerful foe when one of their own, Jean Grey, starts to spiral out of control. During a rescue mission in outer space, Jean is nearly killed when she's hit by a mysterious cosmic force. Once she returns home, this force not only makes her infinitely more powerful, but far more unstable. The X-Men must now band together to save her soul and battle aliens that want to use Grey's new abilities to rule the galaxy.\",\n",
       "  'release_date': '2019-06-05'},\n",
       " {'popularity': 63.209,\n",
       "  'vote_count': 5612,\n",
       "  'video': False,\n",
       "  'poster_path': '/svIDTNUoajS8dLEo7EosxvyAsgJ.jpg',\n",
       "  'id': 450465,\n",
       "  'adult': False,\n",
       "  'backdrop_path': '/ngBFDOsx13sFXiMweDoL54XYknR.jpg',\n",
       "  'original_language': 'en',\n",
       "  'original_title': 'Glass',\n",
       "  'genre_ids': [18, 878, 53],\n",
       "  'title': 'Glass',\n",
       "  'vote_average': 6.6,\n",
       "  'overview': 'In a series of escalating encounters, former security guard David Dunn uses his supernatural abilities to track Kevin Wendell Crumb, a disturbed man who has twenty-four personalities. Meanwhile, the shadowy presence of Elijah Price emerges as an orchestrator who holds secrets critical to both men.',\n",
       "  'release_date': '2019-01-16'},\n",
       " {'popularity': 62.323,\n",
       "  'vote_count': 1990,\n",
       "  'video': False,\n",
       "  'poster_path': '/qWsHMrbg9DsBY3bCMk9jyYCRVRs.jpg',\n",
       "  'id': 521029,\n",
       "  'adult': False,\n",
       "  'backdrop_path': '/jB98SrdXAYSbiprjIwc7WfVCuCV.jpg',\n",
       "  'original_language': 'en',\n",
       "  'original_title': 'Annabelle Comes Home',\n",
       "  'genre_ids': [27, 9648, 53],\n",
       "  'title': 'Annabelle Comes Home',\n",
       "  'vote_average': 6.4,\n",
       "  'overview': \"Determined to keep Annabelle from wreaking more havoc, demonologists Ed and Lorraine Warren bring the possessed doll to the locked artifacts room in their home, placing her “safely” behind sacred glass and enlisting a priest’s holy blessing. But an unholy night of horror awaits as Annabelle awakens the evil spirits in the room, who all set their sights on a new target—the Warrens' ten-year-old daughter, Judy, and her friends.\",\n",
       "  'release_date': '2019-06-26'},\n",
       " {'popularity': 88.232,\n",
       "  'vote_count': 3533,\n",
       "  'video': False,\n",
       "  'poster_path': '/6ApDtO7xaWAfPqfi2IARXIzj8QS.jpg',\n",
       "  'id': 359724,\n",
       "  'adult': False,\n",
       "  'backdrop_path': '/n3UanIvmnBlH531pykuzNs4LbH6.jpg',\n",
       "  'original_language': 'en',\n",
       "  'original_title': 'Ford v Ferrari',\n",
       "  'genre_ids': [18, 36],\n",
       "  'title': 'Ford v Ferrari',\n",
       "  'vote_average': 7.9,\n",
       "  'overview': 'American car designer Carroll Shelby and the British-born driver Ken Miles work together to battle corporate interference, the laws of physics, and their own personal demons to build a revolutionary race car for Ford Motor Company and take on the dominating race cars of Enzo Ferrari at the 24 Hours of Le Mans in France in 1966.',\n",
       "  'release_date': '2019-11-13'},\n",
       " {'popularity': 42.018,\n",
       "  'vote_count': 3173,\n",
       "  'video': False,\n",
       "  'poster_path': '/A7XkpLfNH0El2yyDLc4b0KLAKvE.jpg',\n",
       "  'id': 329996,\n",
       "  'adult': False,\n",
       "  'backdrop_path': '/5tFt6iuGnKapHl5tw0X0cKcnuVo.jpg',\n",
       "  'original_language': 'en',\n",
       "  'original_title': 'Dumbo',\n",
       "  'genre_ids': [12, 14, 10751],\n",
       "  'title': 'Dumbo',\n",
       "  'vote_average': 6.7,\n",
       "  'overview': 'A young elephant, whose oversized ears enable him to fly, helps save a struggling circus, but when the circus plans a new venture, Dumbo and his friends discover dark secrets beneath its shiny veneer.',\n",
       "  'release_date': '2019-03-27'},\n",
       " {'popularity': 164.975,\n",
       "  'vote_count': 1170,\n",
       "  'video': False,\n",
       "  'poster_path': '/q1epO0eO8DWu8Vo8tPfvVlzW48T.jpg',\n",
       "  'id': 481084,\n",
       "  'adult': False,\n",
       "  'backdrop_path': '/ur4NTeFGZmQ6Hz5uEkAMgPI3WRg.jpg',\n",
       "  'original_language': 'en',\n",
       "  'original_title': 'The Addams Family',\n",
       "  'genre_ids': [16, 35, 14, 10751],\n",
       "  'title': 'The Addams Family',\n",
       "  'vote_average': 6.6,\n",
       "  'overview': \"The Addams family's lives begin to unravel when they face-off against a treacherous, greedy crafty reality-TV host while also preparing for their extended family to arrive for a major celebration.\",\n",
       "  'release_date': '2019-10-10'},\n",
       " {'popularity': 14.699,\n",
       "  'vote_count': 605,\n",
       "  'video': False,\n",
       "  'poster_path': '/pWt1iRuhNpeVDNP2QiUT2C5OiBt.jpg',\n",
       "  'id': 535544,\n",
       "  'adult': False,\n",
       "  'backdrop_path': '/mFcfdnAYaQQhXhKcoITiDYtuO5b.jpg',\n",
       "  'original_language': 'en',\n",
       "  'original_title': 'Downton Abbey',\n",
       "  'genre_ids': [18, 36],\n",
       "  'title': 'Downton Abbey',\n",
       "  'vote_average': 7.1,\n",
       "  'overview': 'The beloved Crawleys and their intrepid staff prepare for the most important moment of their lives. A royal visit from the King and Queen of England will unleash scandal, romance and intrigue that will leave the future of Downton hanging in the balance.',\n",
       "  'release_date': '2019-09-12'},\n",
       " {'popularity': 74.064,\n",
       "  'vote_count': 2953,\n",
       "  'video': False,\n",
       "  'poster_path': '/yn5ihODtZ7ofn8pDYfxCmxh8AXI.jpg',\n",
       "  'id': 331482,\n",
       "  'adult': False,\n",
       "  'backdrop_path': '/lqxxwTRk0l7CubY6JkJdhnwJEkn.jpg',\n",
       "  'original_language': 'en',\n",
       "  'original_title': 'Little Women',\n",
       "  'genre_ids': [18, 10749],\n",
       "  'title': 'Little Women',\n",
       "  'vote_average': 8,\n",
       "  'overview': 'Four sisters come of age in America in the aftermath of the Civil War.',\n",
       "  'release_date': '2019-12-25'},\n",
       " {'popularity': 50.976,\n",
       "  'vote_count': 1265,\n",
       "  'video': False,\n",
       "  'poster_path': '/QTESAsBVZwjtGJNDP7utiGV37z.jpg',\n",
       "  'id': 280217,\n",
       "  'adult': False,\n",
       "  'backdrop_path': '/8kPozGb4BDrcWBSsGPrkULG2tP9.jpg',\n",
       "  'original_language': 'en',\n",
       "  'original_title': 'The Lego Movie 2: The Second Part',\n",
       "  'genre_ids': [28, 12, 16, 35, 10751],\n",
       "  'title': 'The Lego Movie 2: The Second Part',\n",
       "  'vote_average': 6.7,\n",
       "  'overview': \"It's been five years since everything was awesome and the citizens are facing a huge new threat: LEGO DUPLO® invaders from outer space, wrecking everything faster than they can rebuild.\",\n",
       "  'release_date': '2019-01-26'},\n",
       " {'popularity': 224.795,\n",
       "  'vote_count': 638,\n",
       "  'video': False,\n",
       "  'poster_path': '/qgrk7r1fV4IjuoeiGS5HOhXNdLJ.jpg',\n",
       "  'id': 568160,\n",
       "  'adult': False,\n",
       "  'backdrop_path': '/ize3ZieqSy0TCWljmVoEiy8fSFS.jpg',\n",
       "  'original_language': 'ja',\n",
       "  'original_title': '天気の子',\n",
       "  'genre_ids': [16, 18, 14, 10749],\n",
       "  'title': 'Weathering with You',\n",
       "  'vote_average': 8.1,\n",
       "  'overview': 'Tokyo is currently experiencing rain showers that seem to disrupt the usual pace of everyone living there to no end. Amidst this seemingly eternal downpour arrives the runaway high school student Hodaka Morishima, who struggles to financially support himself—ending up with a job at a small-time publisher. At the same time, the orphaned Hina Amano also strives to find work to sustain herself and her younger brother.\\r Both fates intertwine when Hodaka attempts to rescue Hina from shady men, deciding to run away together. Subsequently, Hodaka discovers that Hina has a strange yet astounding power: the ability to call out the sun whenever she prays for it. With Tokyo\\'s unusual weather in mind, Hodaka sees the potential of this ability. He suggests that Hina should become a \"sunshine girl\"—someone who will clear the sky for people when they need it the most.\\r Things begin looking up for them at first. However, it is common knowledge that power always comes with a hefty price...',\n",
       "  'release_date': '2019-07-19'},\n",
       " {'popularity': 154.756,\n",
       "  'id': 453405,\n",
       "  'video': False,\n",
       "  'vote_count': 3000,\n",
       "  'vote_average': 6.4,\n",
       "  'title': 'Gemini Man',\n",
       "  'release_date': '2019-10-02',\n",
       "  'original_language': 'en',\n",
       "  'original_title': 'Gemini Man',\n",
       "  'genre_ids': [28, 18, 878, 53],\n",
       "  'backdrop_path': '/c3F4P2oauA7IQmy4hM0OmRt2W7d.jpg',\n",
       "  'adult': False,\n",
       "  'overview': \"Henry Brogan is an elite 51-year-old assassin who's ready to call it quits after completing his 72nd job. His plans get turned upside down when he becomes the target of a mysterious operative who can seemingly predict his every move. To his horror, Brogan soon learns that the man who's trying to kill him is a younger, faster, cloned version of himself.\",\n",
       "  'poster_path': '/uTALxjQU8e1lhmNjP9nnJ3t2pRU.jpg'},\n",
       " {'popularity': 108.81,\n",
       "  'vote_count': 1685,\n",
       "  'video': False,\n",
       "  'poster_path': '/30YacPAcxpNemhhwX0PVUl9pVA3.jpg',\n",
       "  'id': 431693,\n",
       "  'adult': False,\n",
       "  'backdrop_path': '/lwSOhnpwrzjtKi2RD3e5RAcGzvt.jpg',\n",
       "  'original_language': 'en',\n",
       "  'original_title': 'Spies in Disguise',\n",
       "  'genre_ids': [28, 12, 16, 35],\n",
       "  'title': 'Spies in Disguise',\n",
       "  'vote_average': 7.8,\n",
       "  'overview': 'Super spy Lance Sterling and scientist Walter Beckett are almost exact opposites. Lance is smooth, suave and debonair. Walter is… not. But what Walter lacks in social skills he makes up for in smarts and invention, creating the awesome gadgets Lance uses on his epic missions. But when events take an unexpected turn, Walter and Lance suddenly have to rely on each other in a whole new way.',\n",
       "  'release_date': '2019-12-04'},\n",
       " {'popularity': 23.6,\n",
       "  'vote_count': 2722,\n",
       "  'video': False,\n",
       "  'poster_path': '/f4FF18ia7yTvHf2izNrHqBmgH8U.jpg',\n",
       "  'id': 504608,\n",
       "  'adult': False,\n",
       "  'backdrop_path': '/oAr5bgf49vxga9etWoQpAeRMvhp.jpg',\n",
       "  'original_language': 'en',\n",
       "  'original_title': 'Rocketman',\n",
       "  'genre_ids': [18, 10402],\n",
       "  'title': 'Rocketman',\n",
       "  'vote_average': 7.4,\n",
       "  'overview': \"The story of Elton John's life, from his years as a prodigy at the Royal Academy of Music through his influential and enduring musical partnership with Bernie Taupin.\",\n",
       "  'release_date': '2019-05-22'},\n",
       " {'popularity': 25.468,\n",
       "  'vote_count': 1917,\n",
       "  'video': False,\n",
       "  'poster_path': '/zBhv8rsLOfpFW2M5b6wW78Uoojs.jpg',\n",
       "  'id': 540901,\n",
       "  'adult': False,\n",
       "  'backdrop_path': '/mBBJ3N3an8FLkp0ZpGgIJwHKhBP.jpg',\n",
       "  'original_language': 'en',\n",
       "  'original_title': 'Hustlers',\n",
       "  'genre_ids': [35, 80, 18],\n",
       "  'title': 'Hustlers',\n",
       "  'vote_average': 6.4,\n",
       "  'overview': 'A crew of savvy former strip club employees band together to turn the tables on their Wall Street clients.',\n",
       "  'release_date': '2019-09-12'},\n",
       " {'popularity': 36.065,\n",
       "  'vote_count': 2576,\n",
       "  'video': False,\n",
       "  'poster_path': '/8Ls1tZ6qjGzfGHjBB7ihOnf7f0b.jpg',\n",
       "  'id': 522681,\n",
       "  'adult': False,\n",
       "  'backdrop_path': '/mWLljCmpqlcYQh7uh51BBMwCZwN.jpg',\n",
       "  'original_language': 'en',\n",
       "  'original_title': 'Escape Room',\n",
       "  'genre_ids': [28, 12, 27, 9648, 53],\n",
       "  'title': 'Escape Room',\n",
       "  'vote_average': 6.4,\n",
       "  'overview': 'Six strangers find themselves in circumstances beyond their control, and must use their wits to survive.',\n",
       "  'release_date': '2019-01-03'},\n",
       " {'popularity': 148.69,\n",
       "  'vote_count': 1817,\n",
       "  'video': False,\n",
       "  'poster_path': '/nYcaCNkB4EgVyvrXxxbklefDrGL.jpg',\n",
       "  'id': 412117,\n",
       "  'adult': False,\n",
       "  'backdrop_path': '/UxGdlGzCx5R5FdY8BDM0FQkyKi.jpg',\n",
       "  'original_language': 'en',\n",
       "  'original_title': 'The Secret Life of Pets 2',\n",
       "  'genre_ids': [12, 16, 35, 10751],\n",
       "  'title': 'The Secret Life of Pets 2',\n",
       "  'vote_average': 7,\n",
       "  'overview': 'Max the terrier must cope with some major life changes when his owner gets married and has a baby. When the family takes a trip to the countryside, nervous Max has numerous run-ins with canine-intolerant cows, hostile foxes and a scary turkey. Luckily for Max, he soon catches a break when he meets Rooster, a gruff farm dog who tries to cure the lovable pooch of his neuroses.',\n",
       "  'release_date': '2019-05-24'},\n",
       " {'popularity': 106.525,\n",
       "  'vote_count': 2015,\n",
       "  'video': False,\n",
       "  'poster_path': '/fapXd3v9qTcNBTm39ZC4KUVQDNf.jpg',\n",
       "  'id': 423204,\n",
       "  'adult': False,\n",
       "  'backdrop_path': '/k2WyDw2NTUIWnuEs5gT7wgrCQg6.jpg',\n",
       "  'original_language': 'en',\n",
       "  'original_title': 'Angel Has Fallen',\n",
       "  'genre_ids': [28, 53],\n",
       "  'title': 'Angel Has Fallen',\n",
       "  'vote_average': 6.4,\n",
       "  'overview': 'After a treacherous attack, Secret Service agent Mike Banning is charged with attempting to assassinate President Trumbull. Chased by his own colleagues and the FBI, Banning begins a race against the clock to clear his name.',\n",
       "  'release_date': '2019-08-21'},\n",
       " {'popularity': 54.846,\n",
       "  'vote_count': 4271,\n",
       "  'video': False,\n",
       "  'poster_path': '/xBHvZcjRiWyobQ9kxBhO6B2dtRI.jpg',\n",
       "  'id': 419704,\n",
       "  'adult': False,\n",
       "  'backdrop_path': '/cs6z1byqL0ffw1948FJI2Jr1HVT.jpg',\n",
       "  'original_language': 'en',\n",
       "  'original_title': 'Ad Astra',\n",
       "  'genre_ids': [18, 878],\n",
       "  'title': 'Ad Astra',\n",
       "  'vote_average': 6.1,\n",
       "  'overview': 'The near future, a time when both hope and hardships drive humanity to look to the stars and beyond. While a mysterious phenomenon menaces to destroy life on planet Earth, astronaut Roy McBride undertakes a mission across the immensity of space and its many perils to uncover the truth about a lost expedition that decades before boldly faced emptiness and silence in search of the unknown.',\n",
       "  'release_date': '2019-09-17'},\n",
       " {'popularity': 155.825,\n",
       "  'vote_count': 869,\n",
       "  'video': False,\n",
       "  'poster_path': '/ebe8hJRCwdflNQbUjRrfmqtUiNi.jpg',\n",
       "  'id': 454640,\n",
       "  'adult': False,\n",
       "  'backdrop_path': '/k7sE3loFwuU2mqf7FbZBeE3rjBa.jpg',\n",
       "  'original_language': 'en',\n",
       "  'original_title': 'The Angry Birds Movie 2',\n",
       "  'genre_ids': [12, 16, 35, 10751],\n",
       "  'title': 'The Angry Birds Movie 2',\n",
       "  'vote_average': 7.1,\n",
       "  'overview': 'Red, Chuck, Bomb and the rest of their feathered friends are surprised when a green pig suggests that they put aside their differences and unite to fight a common threat. Aggressive birds from an island covered in ice are planning to use an elaborate weapon to destroy the fowl and swine.',\n",
       "  'release_date': '2019-08-02'},\n",
       " {'popularity': 38.31,\n",
       "  'vote_count': 1249,\n",
       "  'video': False,\n",
       "  'poster_path': '/hj8pyoNnynGeJTAbl7jcLZO8Uhx.jpg',\n",
       "  'id': 522162,\n",
       "  'adult': False,\n",
       "  'backdrop_path': '/xjP88DFPCQ81mbZHXFscyYtGskT.jpg',\n",
       "  'original_language': 'en',\n",
       "  'original_title': 'Midway',\n",
       "  'genre_ids': [28, 18, 36, 10752],\n",
       "  'title': 'Midway',\n",
       "  'vote_average': 7.1,\n",
       "  'overview': 'The story of the Battle of Midway, and the leaders and soldiers who used their instincts, fortitude and bravery to overcome massive odds.',\n",
       "  'release_date': '2019-11-06'},\n",
       " {'popularity': 9.537,\n",
       "  'id': 567646,\n",
       "  'video': False,\n",
       "  'vote_count': 74,\n",
       "  'vote_average': 7.1,\n",
       "  'title': 'Extreme Job',\n",
       "  'release_date': '2019-01-23',\n",
       "  'original_language': 'ko',\n",
       "  'original_title': '극한직업',\n",
       "  'genre_ids': [28, 35, 80],\n",
       "  'backdrop_path': '/hn7oqr6RVqr3u6dcGoPRPi4jj1m.jpg',\n",
       "  'adult': False,\n",
       "  'overview': 'A drug squad attempts to take down a criminal organization and they must go undercover to do so, so they begin working at a chicken restaurant, that becomes famous for its delicious chicken. Due to the unexpected popularity, the detectives find themselves in a situation they never expected.',\n",
       "  'poster_path': '/x74VQTLwFs2MLHSg2LNufhX8lVg.jpg'},\n",
       " {'popularity': 142.841,\n",
       "  'vote_count': 2985,\n",
       "  'video': False,\n",
       "  'poster_path': '/dtRbVsUb5O12WWO54SRpiMtHKC0.jpg',\n",
       "  'id': 338967,\n",
       "  'adult': False,\n",
       "  'backdrop_path': '/3ghImmHdp4RnC3UkL6hpLayclnb.jpg',\n",
       "  'original_language': 'en',\n",
       "  'original_title': 'Zombieland: Double Tap',\n",
       "  'genre_ids': [28, 35, 27],\n",
       "  'title': 'Zombieland: Double Tap',\n",
       "  'vote_average': 7,\n",
       "  'overview': 'Columbus, Tallahassee, Wichita, and Little Rock move to the American heartland as they face off against evolved zombies, fellow survivors, and the growing pains of the snarky makeshift family.',\n",
       "  'release_date': '2019-10-09'},\n",
       " {'popularity': 46.479,\n",
       "  'vote_count': 1391,\n",
       "  'video': False,\n",
       "  'poster_path': '/jhZlXSnFUpNiLAek9EkPrtLEWQI.jpg',\n",
       "  'id': 480414,\n",
       "  'adult': False,\n",
       "  'backdrop_path': '/drpgGlcOarywXgwhb4Dap9QtSlg.jpg',\n",
       "  'original_language': 'en',\n",
       "  'original_title': 'The Curse of La Llorona',\n",
       "  'genre_ids': [27, 9648, 53],\n",
       "  'title': 'The Curse of La Llorona',\n",
       "  'vote_average': 5.7,\n",
       "  'overview': 'A social worker dealing with the disappearance of two children fears for her own family after beginning the investigation.',\n",
       "  'release_date': '2019-04-17'},\n",
       " {'popularity': 40.353,\n",
       "  'vote_count': 1136,\n",
       "  'video': False,\n",
       "  'poster_path': '/kDEjffiKgjuGo2DRzsqfjvW0CQh.jpg',\n",
       "  'id': 549053,\n",
       "  'adult': False,\n",
       "  'backdrop_path': '/oqjT71WAbCcZsGENHFNDa1guOAR.jpg',\n",
       "  'original_language': 'en',\n",
       "  'original_title': 'Last Christmas',\n",
       "  'genre_ids': [35, 18, 10749],\n",
       "  'title': 'Last Christmas',\n",
       "  'vote_average': 7.3,\n",
       "  'overview': \"Kate is a young woman who has a habit of making bad decisions, and her last date with disaster occurs after she accepts work as Santa's elf for a department store. However, after she meets Tom there, her life takes a new turn.\",\n",
       "  'release_date': '2019-11-07'},\n",
       " {'popularity': 40.014,\n",
       "  'vote_count': 412,\n",
       "  'video': False,\n",
       "  'poster_path': '/8KomINZhIuJeB4oB7k7tkq8tmE.jpg',\n",
       "  'id': 400157,\n",
       "  'adult': False,\n",
       "  'backdrop_path': '/nJyAdKPnW15IAvC6sLBTE0lp6Dv.jpg',\n",
       "  'original_language': 'en',\n",
       "  'original_title': 'Wonder Park',\n",
       "  'genre_ids': [12, 16, 35, 14, 10751],\n",
       "  'title': 'Wonder Park',\n",
       "  'vote_average': 6.5,\n",
       "  'overview': \"A young girl named June with a big imagination makes an incredible discovery -- the amusement park of her dreams has come to life. Filled with the world's wildest rides operated by fun-loving animals, the excitement never ends. But when trouble hits, June and her misfit team of furry friends begin an unforgettable journey to save the park.\",\n",
       "  'release_date': '2019-03-14'},\n",
       " {'popularity': 112.473,\n",
       "  'vote_count': 1054,\n",
       "  'video': False,\n",
       "  'poster_path': '/xvYCZ740XvngXK0FNeSNVTJJJ5v.jpg',\n",
       "  'id': 499701,\n",
       "  'adult': False,\n",
       "  'backdrop_path': '/61sbyO47yIpsMFyLhY1MWcqjg1Q.jpg',\n",
       "  'original_language': 'en',\n",
       "  'original_title': 'Dora and the Lost City of Gold',\n",
       "  'genre_ids': [12, 35, 10751],\n",
       "  'title': 'Dora and the Lost City of Gold',\n",
       "  'vote_average': 6.8,\n",
       "  'overview': 'Dora, a girl who has spent most of her life exploring the jungle with her parents, now must navigate her most dangerous adventure yet: high school. Always the explorer, Dora quickly finds herself leading Boots (her best friend, a monkey), Diego, and a rag tag group of teens on an adventure to save her parents and solve the impossible mystery behind a lost Inca civilization.',\n",
       "  'release_date': '2019-08-08'},\n",
       " {'popularity': 1.988,\n",
       "  'id': 746359,\n",
       "  'video': False,\n",
       "  'vote_count': 0,\n",
       "  'vote_average': 0,\n",
       "  'title': 'Meitantei Conan: Konjo no fisuto',\n",
       "  'release_date': '2019-04-12',\n",
       "  'original_language': 'ja',\n",
       "  'original_title': 'Meitantei Conan: Konjo no fisuto',\n",
       "  'genre_ids': [],\n",
       "  'backdrop_path': '/uQXbP48Gy9HNoXo7kFLyZnvQoCh.jpg',\n",
       "  'adult': False,\n",
       "  'overview': '',\n",
       "  'poster_path': '/vwQ1vbuEauIAhAmufjD61MerYN9.jpg'},\n",
       " {'popularity': 5.981,\n",
       "  'id': 566555,\n",
       "  'video': False,\n",
       "  'vote_count': 68,\n",
       "  'vote_average': 5.6,\n",
       "  'title': 'Detective Conan: The Fist of Blue Sapphire',\n",
       "  'release_date': '2019-04-12',\n",
       "  'original_language': 'ja',\n",
       "  'original_title': '名探偵コナン 紺青の拳（フィスト）',\n",
       "  'genre_ids': [16, 28, 18, 9648, 35],\n",
       "  'backdrop_path': '/wf6VDSi4aFCZfuD8sX8JAKLfJ5m.jpg',\n",
       "  'adult': False,\n",
       "  'overview': 'The world\\'s greatest blue sapphire, the \"blue lapis fist\", said to have sunk in a pirate ship in the late 19th century, on the coasts of Singapore. A local millionaire plots to retrieve it, and when it\\'s exhibited in an exhibition at the Singaporean Marina Sands hotel, a murder takes place.',\n",
       "  'poster_path': '/jUfCBwhSTE02jTN9REJbHm2lRL8.jpg'},\n",
       " {'popularity': 38.805,\n",
       "  'vote_count': 2173,\n",
       "  'video': False,\n",
       "  'poster_path': '/7SPhr7Qj39vbnfF9O2qHRYaKHAL.jpg',\n",
       "  'id': 157433,\n",
       "  'adult': False,\n",
       "  'backdrop_path': '/dpJq6trUDOutSPSLrFdROPmzaVn.jpg',\n",
       "  'original_language': 'en',\n",
       "  'original_title': 'Pet Sematary',\n",
       "  'genre_ids': [27, 53],\n",
       "  'title': 'Pet Sematary',\n",
       "  'vote_average': 5.8,\n",
       "  'overview': 'Dr. Louis Creed and his wife, Rachel, move from Boston to Ludlow, in rural Maine, with their two young children. Hidden in the woods near the new family home, Ellie, their eldest daughter, discovers a mysterious cemetery where the pets of community members are buried.',\n",
       "  'release_date': '2019-04-04'},\n",
       " {'popularity': 93.706,\n",
       "  'vote_count': 1208,\n",
       "  'video': False,\n",
       "  'poster_path': '/20djTLqppfBx5WYA67Y300S6aPD.jpg',\n",
       "  'id': 431580,\n",
       "  'adult': False,\n",
       "  'backdrop_path': '/tLCDKsXo6D84IVFanoElosSEKdp.jpg',\n",
       "  'original_language': 'en',\n",
       "  'original_title': 'Abominable',\n",
       "  'genre_ids': [12, 16, 35, 10751],\n",
       "  'title': 'Abominable',\n",
       "  'vote_average': 7.6,\n",
       "  'overview': 'A group of misfits encounter a young Yeti named Everest, and they set off to reunite the magical creature with his family on the mountain of his namesake.',\n",
       "  'release_date': '2019-09-19'},\n",
       " {'popularity': 34.624,\n",
       "  'vote_count': 672,\n",
       "  'video': False,\n",
       "  'poster_path': '/hPZ2caow1PCND6qnerfgn6RTXdm.jpg',\n",
       "  'id': 440472,\n",
       "  'adult': False,\n",
       "  'backdrop_path': '/mdGUvN7yCyExPNO5f4zAzifk1l1.jpg',\n",
       "  'original_language': 'en',\n",
       "  'original_title': 'The Upside',\n",
       "  'genre_ids': [35, 18],\n",
       "  'title': 'The Upside',\n",
       "  'vote_average': 7.1,\n",
       "  'overview': \"Phillip is a wealthy quadriplegic who needs a caretaker to help him with his day-to-day routine in his New York penthouse. He decides to hire Dell, a struggling parolee who's trying to reconnect with his ex and his young son. Despite coming from two different worlds, an unlikely friendship starts to blossom.\",\n",
       "  'release_date': '2019-01-10'},\n",
       " {'popularity': 30.277,\n",
       "  'id': 417384,\n",
       "  'video': False,\n",
       "  'vote_count': 1542,\n",
       "  'vote_average': 6.4,\n",
       "  'title': 'Scary Stories to Tell in the Dark',\n",
       "  'release_date': '2019-08-08',\n",
       "  'original_language': 'en',\n",
       "  'original_title': 'Scary Stories to Tell in the Dark',\n",
       "  'genre_ids': [27, 53],\n",
       "  'backdrop_path': '/snll1zUi2oxIah9qifXOvbfjcrG.jpg',\n",
       "  'adult': False,\n",
       "  'overview': 'Mill Valley, Pennsylvania, Halloween night, 1968. After playing a joke on a school bully, Sarah and her friends decide to sneak into a supposedly haunted house that once belonged to the powerful Bellows family, unleashing dark forces that they will be unable to control.',\n",
       "  'poster_path': '/n7GvmHR10Rr4L17pX5fiErjarNf.jpg'},\n",
       " {'popularity': 122.237,\n",
       "  'vote_count': 2207,\n",
       "  'video': False,\n",
       "  'poster_path': '/kTQ3J8oTTKofAVLYnds2cHUz9KO.jpg',\n",
       "  'id': 522938,\n",
       "  'adult': False,\n",
       "  'backdrop_path': '/spYx9XQFODuqEVoPpvaJI1ksAVt.jpg',\n",
       "  'original_language': 'en',\n",
       "  'original_title': 'Rambo: Last Blood',\n",
       "  'genre_ids': [28, 18, 53],\n",
       "  'title': 'Rambo: Last Blood',\n",
       "  'vote_average': 6.4,\n",
       "  'overview': 'After fighting his demons for decades, John Rambo now lives in peace on his family ranch in Arizona, but his rest is interrupted when Gabriela, the granddaughter of his housekeeper María, disappears after crossing the border into Mexico to meet her biological father. Rambo, who has become a true father figure for Gabriela over the years, undertakes a desperate and dangerous journey to find her.',\n",
       "  'release_date': '2019-09-19'},\n",
       " {'popularity': 77.025,\n",
       "  'vote_count': 1791,\n",
       "  'video': False,\n",
       "  'poster_path': '/mKxpYRIrCZLxZjNqpocJ2RdQW8v.jpg',\n",
       "  'id': 511987,\n",
       "  'adult': False,\n",
       "  'backdrop_path': '/lm4xH0YwFbVvTgdtau1thNK5S6J.jpg',\n",
       "  'original_language': 'en',\n",
       "  'original_title': 'Crawl',\n",
       "  'genre_ids': [18, 27, 53],\n",
       "  'title': 'Crawl',\n",
       "  'vote_average': 6.3,\n",
       "  'overview': 'When a huge hurricane hits her hometown in Florida, Haley ignores evacuation orders to look for her father. After finding him badly wounded, both are trapped by the flood. With virtually no time to escape the storm, they discover that rising water levels are the least of their problems.',\n",
       "  'release_date': '2019-07-11'},\n",
       " {'popularity': 35.074,\n",
       "  'vote_count': 2167,\n",
       "  'video': False,\n",
       "  'poster_path': '/1rjaRIAqFPQNnMtqSMLtg0VEABi.jpg',\n",
       "  'id': 515195,\n",
       "  'adult': False,\n",
       "  'backdrop_path': '/5om2iHhm2dgv0s2YgPDSEMIkRNx.jpg',\n",
       "  'original_language': 'en',\n",
       "  'original_title': 'Yesterday',\n",
       "  'genre_ids': [35, 14, 10402, 10749],\n",
       "  'title': 'Yesterday',\n",
       "  'vote_average': 6.7,\n",
       "  'overview': \"Jack Malik is a struggling singer-songwriter in an English seaside town whose dreams of fame are rapidly fading, despite the fierce devotion and support of his childhood best friend, Ellie. After a freak bus accident during a mysterious global blackout, Jack wakes up to discover that he's the only person on Earth who can remember The Beatles.\",\n",
       "  'release_date': '2019-06-27'},\n",
       " {'popularity': 44.018,\n",
       "  'vote_count': 4910,\n",
       "  'video': False,\n",
       "  'poster_path': '/7GsM4mtM0worCtIVeiQt28HieeN.jpg',\n",
       "  'id': 515001,\n",
       "  'adult': False,\n",
       "  'backdrop_path': '/lTyikzfGgRX5ZqIfVeT26APYfRL.jpg',\n",
       "  'original_language': 'en',\n",
       "  'original_title': 'Jojo Rabbit',\n",
       "  'genre_ids': [35, 18, 10752],\n",
       "  'title': 'Jojo Rabbit',\n",
       "  'vote_average': 8.1,\n",
       "  'overview': 'A World War II satire that follows a lonely German boy whose world view is turned upside down when he discovers his single mother is hiding a young Jewish girl in their attic. Aided only by his idiotic imaginary friend, Adolf Hitler, Jojo must confront his blind nationalism.',\n",
       "  'release_date': '2019-10-18'},\n",
       " {'popularity': 16.149,\n",
       "  'vote_count': 838,\n",
       "  'video': False,\n",
       "  'poster_path': '/uT9FhaKYzR8XQg0etoPiqQxaMj8.jpg',\n",
       "  'id': 505436,\n",
       "  'adult': False,\n",
       "  'backdrop_path': '/co1ItuquxZjxLqbjjCLwK9ADkS.jpg',\n",
       "  'original_language': 'fr',\n",
       "  'original_title': \"Qu'est-ce qu'on a encore fait au bon Dieu ?\",\n",
       "  'genre_ids': [35],\n",
       "  'title': 'Serial (Bad) Weddings 2',\n",
       "  'vote_average': 5.9,\n",
       "  'overview': 'Claude and Marie Verneuil face a new crisis. The four spouses of their daughters, David, Rachid, Chao and Charles decided to leave France for various reasons. Here they are imagining their lives elsewhere.',\n",
       "  'release_date': '2019-01-30'},\n",
       " {'popularity': 40.762,\n",
       "  'vote_count': 513,\n",
       "  'video': False,\n",
       "  'poster_path': '/aCNch5FmzT2WaUcY44925owIZXY.jpg',\n",
       "  'id': 536869,\n",
       "  'adult': False,\n",
       "  'backdrop_path': '/4F8M02OjkfDIIBg36R5ZluLK2nU.jpg',\n",
       "  'original_language': 'en',\n",
       "  'original_title': 'Cats',\n",
       "  'genre_ids': [35, 18, 14],\n",
       "  'title': 'Cats',\n",
       "  'vote_average': 4.4,\n",
       "  'overview': 'A tribe of cats called the Jellicles must decide yearly which one will ascend to the Heaviside Layer and come back to a new Jellicle life.',\n",
       "  'release_date': '2019-12-19'},\n",
       " {'popularity': 95.73,\n",
       "  'vote_count': 1629,\n",
       "  'video': False,\n",
       "  'poster_path': '/1DPUFG6QnGqzpvEaDEv7TaepycM.jpg',\n",
       "  'id': 458897,\n",
       "  'adult': False,\n",
       "  'backdrop_path': '/a0xTB1vBxMGt6LGG4N7k1wO9lfL.jpg',\n",
       "  'original_language': 'en',\n",
       "  'original_title': \"Charlie's Angels\",\n",
       "  'genre_ids': [28, 12, 35],\n",
       "  'title': \"Charlie's Angels\",\n",
       "  'vote_average': 6.7,\n",
       "  'overview': \"When a systems engineer blows the whistle on a dangerous technology, Charlie's Angels from across the globe are called into action, putting their lives on the line to protect society.\",\n",
       "  'release_date': '2019-11-14'},\n",
       " {'popularity': 35.844,\n",
       "  'vote_count': 1043,\n",
       "  'video': False,\n",
       "  'poster_path': '/tximyCXMEnWIIyOy9STkOduUprG.jpg',\n",
       "  'id': 521777,\n",
       "  'adult': False,\n",
       "  'backdrop_path': '/meag1aZB1wffo91pl5KQYTdmg9z.jpg',\n",
       "  'original_language': 'en',\n",
       "  'original_title': 'Good Boys',\n",
       "  'genre_ids': [35],\n",
       "  'title': 'Good Boys',\n",
       "  'vote_average': 6.8,\n",
       "  'overview': 'A group of young boys on the cusp of becoming teenagers embark on an epic quest to fix their broken drone before their parents get home.',\n",
       "  'release_date': '2019-08-14'},\n",
       " {'popularity': 43.558,\n",
       "  'vote_count': 2210,\n",
       "  'video': False,\n",
       "  'poster_path': '/p69QzIBbN06aTYqRRiCOY1emNBh.jpg',\n",
       "  'id': 501170,\n",
       "  'adult': False,\n",
       "  'backdrop_path': '/dfmqaiZ1HoBsGEcnImQ8pmHwNuh.jpg',\n",
       "  'original_language': 'en',\n",
       "  'original_title': 'Doctor Sleep',\n",
       "  'genre_ids': [18, 14, 27, 53],\n",
       "  'title': 'Doctor Sleep',\n",
       "  'vote_average': 7.1,\n",
       "  'overview': \"Still irrevocably scarred by the trauma he endured as a child at the Overlook, Dan Torrance has fought to find some semblance of peace. But that peace is shattered when he encounters Abra, a courageous teenager with her own powerful extrasensory gift, known as the 'shine'. Instinctively recognising that Dan shares her power, Abra has sought him out, desperate for his help against the merciless Rose the Hat and her followers.\",\n",
       "  'release_date': '2019-10-30'},\n",
       " {'popularity': 25.526,\n",
       "  'vote_count': 851,\n",
       "  'video': False,\n",
       "  'poster_path': '/30IiwvIRqPGjUV0bxJkZfnSiCL.jpg',\n",
       "  'id': 487297,\n",
       "  'adult': False,\n",
       "  'backdrop_path': '/pmVBOsh8TBvvtFKIo6QS5dE6tTs.jpg',\n",
       "  'original_language': 'en',\n",
       "  'original_title': 'What Men Want',\n",
       "  'genre_ids': [35, 10749],\n",
       "  'title': 'What Men Want',\n",
       "  'vote_average': 6.1,\n",
       "  'overview': 'Magically able to hear what men are thinking, a sports agent uses her newfound ability to turn the tables on her overbearing male colleagues.',\n",
       "  'release_date': '2019-02-08'},\n",
       " {'popularity': 148.031,\n",
       "  'vote_count': 5057,\n",
       "  'video': False,\n",
       "  'poster_path': '/u3B2YKUjWABcxXZ6Nm9h10hLUbh.jpg',\n",
       "  'id': 537915,\n",
       "  'adult': False,\n",
       "  'backdrop_path': '/997ToEZvF2Obp9zNZbY5ELVnmrW.jpg',\n",
       "  'original_language': 'en',\n",
       "  'original_title': 'After',\n",
       "  'genre_ids': [18, 10749],\n",
       "  'title': 'After',\n",
       "  'vote_average': 7.1,\n",
       "  'overview': \"Tessa Young is a dedicated student, dutiful daughter and loyal girlfriend to her high school sweetheart. Entering her first semester of college, Tessa's guarded world opens up when she meets Hardin Scott, a mysterious and brooding rebel who makes her question all she thought she knew about herself -- and what she wants out of life.\",\n",
       "  'release_date': '2019-04-11'},\n",
       " {'popularity': 11.845,\n",
       "  'vote_count': 62,\n",
       "  'video': False,\n",
       "  'poster_path': '/yt3vLjVqvZPRfpx3RUletHJVRVz.jpg',\n",
       "  'id': 572164,\n",
       "  'adult': False,\n",
       "  'backdrop_path': '/cxM5ifGuXvuqYM7B0cgrLw08F4R.jpg',\n",
       "  'original_language': 'ko',\n",
       "  'original_title': '엑시트',\n",
       "  'genre_ids': [28, 35],\n",
       "  'title': 'EXIT',\n",
       "  'vote_average': 7.4,\n",
       "  'overview': \"When an unknown toxic gas strikes Seoul in an unprecedented act of terror, Yong-nam has just met Eui-ju from college by chance at his mother's birthday banquet. The city falls under sudden noxious gas attack and together, they must escape the panic-stricken city.\",\n",
       "  'release_date': '2019-07-31'},\n",
       " {'popularity': 18.41,\n",
       "  'vote_count': 701,\n",
       "  'video': False,\n",
       "  'poster_path': '/p9vCAVhDK375XyobVcKqzqzsUHE.jpg',\n",
       "  'id': 501907,\n",
       "  'adult': False,\n",
       "  'backdrop_path': '/w0tJot6O0UtLVBRIPAdg3dQ2oNO.jpg',\n",
       "  'original_language': 'en',\n",
       "  'original_title': 'A Beautiful Day in the Neighborhood',\n",
       "  'genre_ids': [18],\n",
       "  'title': 'A Beautiful Day in the Neighborhood',\n",
       "  'vote_average': 7.1,\n",
       "  'overview': \"An award-winning cynical journalist, Lloyd Vogel, begrudgingly accepts an assignment to write an Esquire profile piece on the beloved television icon Fred Rogers. After his encounter with Rogers, Vogel's perspective on life is transformed.\",\n",
       "  'release_date': '2019-09-07'},\n",
       " {'popularity': 58.512,\n",
       "  'vote_count': 152,\n",
       "  'video': False,\n",
       "  'poster_path': '/gyDV5LppSJtas1YIE3aVhhG1t5D.jpg',\n",
       "  'id': 573699,\n",
       "  'adult': False,\n",
       "  'backdrop_path': '/yfewveQ7o5ignk7WnjmFFjb4QfH.jpg',\n",
       "  'original_language': 'zh',\n",
       "  'original_title': '白蛇：缘起',\n",
       "  'genre_ids': [16, 14, 10749],\n",
       "  'title': 'White Snake',\n",
       "  'vote_average': 7.7,\n",
       "  'overview': 'One day a young woman named Blanca is saved by Xuan, a snake catcher from a nearby village. She has lost her memory, and together they go on a journey to discover her real identity, developing deeper feelings for one another along the way. But as they learn more about her past, they uncover a darker plot of supernatural forces vying for power, with the fate of the world hanging in the balance.',\n",
       "  'release_date': '2019-01-11'},\n",
       " {'popularity': 8.153,\n",
       "  'vote_count': 85,\n",
       "  'video': False,\n",
       "  'poster_path': '/cEyIyJhlfWFE4J9wJLQ8t2w9haP.jpg',\n",
       "  'id': 585268,\n",
       "  'adult': False,\n",
       "  'backdrop_path': '/aOSDKvqglKVa3SYy4CPXYUAfDlf.jpg',\n",
       "  'original_language': 'hi',\n",
       "  'original_title': 'War',\n",
       "  'genre_ids': [28, 53],\n",
       "  'title': 'War',\n",
       "  'vote_average': 7,\n",
       "  'overview': 'Khalid, is entrusted with the task of eliminating Kabir, a former soldier turned rogue, as he engages in an epic battle with his mentor who had taught him everything.',\n",
       "  'release_date': '2019-10-02'},\n",
       " {'popularity': 0.6,\n",
       "  'vote_count': 1,\n",
       "  'video': False,\n",
       "  'poster_path': '/ybrXjWngEgaCwSKptlZBd3K50yG.jpg',\n",
       "  'id': 723540,\n",
       "  'adult': False,\n",
       "  'backdrop_path': '/j6Vnctfp9RbjoJuplcN7TPzI4bT.jpg',\n",
       "  'original_language': 'en',\n",
       "  'original_title': 'Hadestown',\n",
       "  'genre_ids': [36, 10402, 10749],\n",
       "  'title': 'Hadestown',\n",
       "  'vote_average': 10,\n",
       "  'overview': 'Hadestown is a musical with music, lyrics and book by Anaïs Mitchell. It tells a version of the ancient Greek myth of Orpheus and Eurydice, where Orpheus goes to the underworld to rescue his fiancée Eurydice.',\n",
       "  'release_date': '2019-03-22'},\n",
       " {'popularity': 57.657,\n",
       "  'id': 438650,\n",
       "  'video': False,\n",
       "  'vote_count': 1598,\n",
       "  'vote_average': 5.6,\n",
       "  'title': 'Cold Pursuit',\n",
       "  'release_date': '2019-02-07',\n",
       "  'original_language': 'en',\n",
       "  'original_title': 'Cold Pursuit',\n",
       "  'genre_ids': [28, 80, 53],\n",
       "  'backdrop_path': '/aiM3XxYE2JvW1vJ4AC6cI1RjAoT.jpg',\n",
       "  'adult': False,\n",
       "  'overview': \"The quiet family life of Nels Coxman, a snowplow driver, is upended after his son's murder. Nels begins a vengeful hunt for Viking, the drug lord he holds responsible for the killing, eliminating Viking's associates one by one. As Nels draws closer to Viking, his actions bring even more unexpected and violent consequences, as he proves that revenge is all in the execution.\",\n",
       "  'poster_path': '/hXgmWPd1SuujRZ4QnKLzrj79PAw.jpg'},\n",
       " {'popularity': 38.162,\n",
       "  'vote_count': 2128,\n",
       "  'video': False,\n",
       "  'poster_path': '/vOl6shtL0wknjaIs6JdKCpcHvg8.jpg',\n",
       "  'id': 567609,\n",
       "  'adult': False,\n",
       "  'backdrop_path': '/j8uPZSPjKYzHlN2B4NhPQVWWZ5x.jpg',\n",
       "  'original_language': 'en',\n",
       "  'original_title': 'Ready or Not',\n",
       "  'genre_ids': [35, 27, 9648, 53],\n",
       "  'title': 'Ready or Not',\n",
       "  'vote_average': 7,\n",
       "  'overview': \"A bride's wedding night takes a sinister turn when her eccentric new in-laws force her to take part in a terrifying game.\",\n",
       "  'release_date': '2019-08-21'},\n",
       " {'popularity': 5.746,\n",
       "  'vote_count': 65,\n",
       "  'video': False,\n",
       "  'poster_path': '/2J1FLlFnT3gxsiXnC5mTNtLM9ol.jpg',\n",
       "  'id': 577328,\n",
       "  'adult': False,\n",
       "  'backdrop_path': '/tRuZbvmuuLG8NpbsmKsqGuHgP3v.jpg',\n",
       "  'original_language': 'hi',\n",
       "  'original_title': 'कबीर सिंह',\n",
       "  'genre_ids': [28, 18, 10749],\n",
       "  'title': 'Kabir Singh',\n",
       "  'vote_average': 6.9,\n",
       "  'overview': 'When his girlfriend is forced to marry another man, a troubled young surgeon begins to self-destruct.',\n",
       "  'release_date': '2019-06-20'},\n",
       " {'popularity': 6.854,\n",
       "  'vote_count': 47,\n",
       "  'video': False,\n",
       "  'poster_path': '/rWXIpR2uPkwb1Hrhjj2FA62FGdu.jpg',\n",
       "  'id': 454292,\n",
       "  'adult': False,\n",
       "  'backdrop_path': '/svYKd14P9i3Ai7F0tRl3WNwjRa1.jpg',\n",
       "  'original_language': 'te',\n",
       "  'original_title': 'సాహో',\n",
       "  'genre_ids': [28, 53],\n",
       "  'title': 'Saaho',\n",
       "  'vote_average': 6.4,\n",
       "  'overview': 'A battle for power ensues as warring gangters thrive to gain possession of a \"black box\" that can make them richer than they already are, and an undercover cop intervenes with the help of his sharp intellect and an instinct to kill.',\n",
       "  'release_date': '2019-08-29'},\n",
       " {'popularity': 28.156,\n",
       "  'id': 459992,\n",
       "  'video': False,\n",
       "  'vote_count': 1625,\n",
       "  'vote_average': 6.8,\n",
       "  'title': 'Long Shot',\n",
       "  'release_date': '2019-05-02',\n",
       "  'original_language': 'en',\n",
       "  'original_title': 'Long Shot',\n",
       "  'genre_ids': [35, 10749],\n",
       "  'backdrop_path': '/88r25ghJzVYKq0vaOApqEOZsQlD.jpg',\n",
       "  'adult': False,\n",
       "  'overview': 'Fred Flarsky is a gifted and free-spirited journalist who has a knack for getting into trouble. Charlotte Field is one of the most influential women in the world -- a smart, sophisticated and accomplished politician. When Fred unexpectedly runs into Charlotte, he soon realizes that she was his former baby sitter and childhood crush. When Charlotte decides to make a run for the presidency, she impulsively hires Fred as her speechwriter -- much to the dismay of her trusted advisers.',\n",
       "  'poster_path': '/m2ttWZ8rMRwIMT7zA48Jo6mTkDS.jpg'},\n",
       " {'popularity': 37.551,\n",
       "  'vote_count': 1526,\n",
       "  'video': False,\n",
       "  'poster_path': '/gbPfvwBqbiHpQkYZQvVwB6MVauV.jpg',\n",
       "  'id': 525661,\n",
       "  'adult': False,\n",
       "  'backdrop_path': '/nj84vpuUWdbmYktBzjiWn5Ny1ZF.jpg',\n",
       "  'original_language': 'en',\n",
       "  'original_title': 'Bombshell',\n",
       "  'genre_ids': [18],\n",
       "  'title': 'Bombshell',\n",
       "  'vote_average': 6.9,\n",
       "  'overview': 'Bombshell is a revealing look inside the most powerful and controversial media empire of all time; and the explosive story of the women who brought down the infamous man who created it.',\n",
       "  'release_date': '2019-12-13'},\n",
       " {'popularity': 23.008,\n",
       "  'id': 502416,\n",
       "  'video': False,\n",
       "  'vote_count': 1209,\n",
       "  'vote_average': 5.8,\n",
       "  'title': 'Ma',\n",
       "  'release_date': '2019-05-29',\n",
       "  'original_language': 'en',\n",
       "  'original_title': 'Ma',\n",
       "  'genre_ids': [27],\n",
       "  'backdrop_path': '/mBOv5YrX5QGr5CusK0PKSHuxOt9.jpg',\n",
       "  'adult': False,\n",
       "  'overview': 'Sue Ann is a loner who keeps to herself in her quiet Ohio town. One day, she is asked by Maggie, a new teenager in town, to buy some booze for her and her friends, and Sue Ann sees the chance to make some unsuspecting, if younger, friends of her own.',\n",
       "  'poster_path': '/6n7ASmQ1wY2cxTubFFGlcvPpyk7.jpg'},\n",
       " {'popularity': 30.148,\n",
       "  'vote_count': 1045,\n",
       "  'video': False,\n",
       "  'poster_path': '/4YJNp1cquIkX8JxFwkKNEFQ9tgr.jpg',\n",
       "  'id': 522212,\n",
       "  'adult': False,\n",
       "  'backdrop_path': '/4x2AKefQtj8TmzxyRJEEdAayj1V.jpg',\n",
       "  'original_language': 'en',\n",
       "  'original_title': 'Just Mercy',\n",
       "  'genre_ids': [80, 18],\n",
       "  'title': 'Just Mercy',\n",
       "  'vote_average': 8,\n",
       "  'overview': 'The powerful true story of Harvard-educated lawyer Bryan Stevenson, who goes to Alabama to defend the disenfranchised and wrongly condemned — including Walter McMillian, a man sentenced to death despite evidence proving his innocence. Bryan fights tirelessly for Walter with the system stacked against them.',\n",
       "  'release_date': '2019-12-25'},\n",
       " {'popularity': 25.656,\n",
       "  'vote_count': 2376,\n",
       "  'video': False,\n",
       "  'poster_path': '/6XN1vxHc7kUSqNWtaQKN45J5x2v.jpg',\n",
       "  'id': 473033,\n",
       "  'adult': False,\n",
       "  'backdrop_path': '/uzvT6tYrU5SxfHe1ieimIGAqyFm.jpg',\n",
       "  'original_language': 'en',\n",
       "  'original_title': 'Uncut Gems',\n",
       "  'genre_ids': [80, 18, 53],\n",
       "  'title': 'Uncut Gems',\n",
       "  'vote_average': 7.1,\n",
       "  'overview': 'A charismatic New York City jeweler always on the lookout for the next big score makes a series of high-stakes bets that could lead to the windfall of a lifetime. Howard must perform a precarious high-wire act, balancing business, family, and encroaching adversaries on all sides in his relentless pursuit of the ultimate win.',\n",
       "  'release_date': '2019-08-30'},\n",
       " {'popularity': 24.266,\n",
       "  'vote_count': 1021,\n",
       "  'video': False,\n",
       "  'poster_path': '/qCDPKUMX5xrxxQY8XhGVCKO3fks.jpg',\n",
       "  'id': 599975,\n",
       "  'adult': False,\n",
       "  'backdrop_path': '/zETkzgle7c6wAeW11snnVUBp67S.jpg',\n",
       "  'original_language': 'en',\n",
       "  'original_title': 'Countdown',\n",
       "  'genre_ids': [27, 53],\n",
       "  'title': 'Countdown',\n",
       "  'vote_average': 6.3,\n",
       "  'overview': 'A young nurse downloads an app that tells her she only has three days to live. With time ticking away and a mysterious figure haunting her, she must find a way to save her life before time runs out.',\n",
       "  'release_date': '2019-10-24'},\n",
       " {'popularity': 51.016,\n",
       "  'id': 530385,\n",
       "  'video': False,\n",
       "  'vote_count': 2919,\n",
       "  'vote_average': 7.1,\n",
       "  'title': 'Midsommar',\n",
       "  'release_date': '2019-07-03',\n",
       "  'original_language': 'en',\n",
       "  'original_title': 'Midsommar',\n",
       "  'genre_ids': [27, 18, 9648],\n",
       "  'backdrop_path': '/g6GtOfXtzDpY73ef7wludoorTti.jpg',\n",
       "  'adult': False,\n",
       "  'overview': 'Several friends travel to Sweden to study as anthropologists a summer festival that is held every ninety years in the remote hometown of one of them. What begins as a dream vacation in a place where the sun never sets, gradually turns into a dark nightmare as the mysterious inhabitants invite them to participate in their disturbing festive activities.',\n",
       "  'poster_path': '/7LEI8ulZzO5gy9Ww2NVCrKmHeDZ.jpg'},\n",
       " {'popularity': 81.396,\n",
       "  'vote_count': 956,\n",
       "  'video': False,\n",
       "  'poster_path': '/bSN9SysoRBMwJKNkfOlQlCw2YQO.jpg',\n",
       "  'id': 535292,\n",
       "  'adult': False,\n",
       "  'backdrop_path': '/lctL7EljtAJPEPnFv6O4lETboXH.jpg',\n",
       "  'original_language': 'en',\n",
       "  'original_title': '21 Bridges',\n",
       "  'genre_ids': [28, 80, 18],\n",
       "  'title': '21 Bridges',\n",
       "  'vote_average': 6.8,\n",
       "  'overview': 'An embattled NYPD detective, is thrust into a citywide manhunt for a pair of cop killers after uncovering a massive and unexpected conspiracy. As the night unfolds, lines become blurred on who he is pursuing, and who is in pursuit of him.',\n",
       "  'release_date': '2019-10-24'},\n",
       " {'popularity': 18.173,\n",
       "  'vote_count': 320,\n",
       "  'video': False,\n",
       "  'poster_path': '/sH2s6IcU9OTc6KoJuJ6XwA6kTcy.jpg',\n",
       "  'id': 536743,\n",
       "  'adult': False,\n",
       "  'backdrop_path': '/vc27zpBFFpJD7954oiA9ilOJAxw.jpg',\n",
       "  'original_language': 'en',\n",
       "  'original_title': 'Queen & Slim',\n",
       "  'genre_ids': [80, 18, 10749],\n",
       "  'title': 'Queen & Slim',\n",
       "  'vote_average': 7.2,\n",
       "  'overview': 'While on a forgettable first date together in Ohio, a black man and a black woman are pulled over for a minor traffic infraction. The situation escalates, with sudden and tragic results.',\n",
       "  'release_date': '2019-11-27'},\n",
       " {'popularity': 11.582,\n",
       "  'vote_count': 408,\n",
       "  'video': False,\n",
       "  'poster_path': '/sFvOTUlZrIxCLdmz1fC16wK0lme.jpg',\n",
       "  'id': 464504,\n",
       "  'adult': False,\n",
       "  'backdrop_path': '/OmE63a2BroICnJXsPInPgbjKE8.jpg',\n",
       "  'original_language': 'en',\n",
       "  'original_title': 'A Madea Family Funeral',\n",
       "  'genre_ids': [35],\n",
       "  'title': 'A Madea Family Funeral',\n",
       "  'vote_average': 5.8,\n",
       "  'overview': 'A joyous family reunion becomes a hilarious nightmare as Madea and the crew travel to backwoods Georgia, where they find themselves unexpectedly planning a funeral that might unveil unpleasant family secrets.',\n",
       "  'release_date': '2019-03-01'},\n",
       " {'popularity': 33.293,\n",
       "  'vote_count': 1142,\n",
       "  'video': False,\n",
       "  'poster_path': '/rpS7ROczWulqfaXG2klYapULXKm.jpg',\n",
       "  'id': 533642,\n",
       "  'adult': False,\n",
       "  'backdrop_path': '/vHse4QK31Vc3X7BKKU5GOQhYxv6.jpg',\n",
       "  'original_language': 'en',\n",
       "  'original_title': \"Child's Play\",\n",
       "  'genre_ids': [27],\n",
       "  'title': \"Child's Play\",\n",
       "  'vote_average': 6.1,\n",
       "  'overview': 'Karen, a single mother, gifts her son Andy a Buddi doll for his birthday, unaware of its more sinister nature. A contemporary re-imagining of the 1988 horror classic.',\n",
       "  'release_date': '2019-06-19'},\n",
       " {'popularity': 77.692,\n",
       "  'vote_count': 2068,\n",
       "  'video': False,\n",
       "  'poster_path': '/bk8LyaMqUtaQ9hUShuvFznQYQKR.jpg',\n",
       "  'id': 456740,\n",
       "  'adult': False,\n",
       "  'backdrop_path': '/hMbP23EkGk6tjEjRZQXhnVAl5fW.jpg',\n",
       "  'original_language': 'en',\n",
       "  'original_title': 'Hellboy',\n",
       "  'genre_ids': [28, 12, 14, 878],\n",
       "  'title': 'Hellboy',\n",
       "  'vote_average': 5.4,\n",
       "  'overview': \"Hellboy comes to England, where he must defeat Nimue, Merlin's consort and the Blood Queen. But their battle will bring about the end of the world, a fate he desperately tries to turn away.\",\n",
       "  'release_date': '2019-04-10'},\n",
       " {'popularity': 51.138,\n",
       "  'vote_count': 376,\n",
       "  'video': False,\n",
       "  'poster_path': '/nBLPIpReSatt1zcgVzSVzq5e581.jpg',\n",
       "  'id': 554241,\n",
       "  'adult': False,\n",
       "  'backdrop_path': '/5ukCAyXdRYmQEZ3CbSD695Y70Zz.jpg',\n",
       "  'original_language': 'en',\n",
       "  'original_title': 'Playing with Fire',\n",
       "  'genre_ids': [35, 10751],\n",
       "  'title': 'Playing with Fire',\n",
       "  'vote_average': 7.1,\n",
       "  'overview': 'A crew of rugged firefighters meet their match when attempting to rescue three rambunctious kids.',\n",
       "  'release_date': '2019-11-08'},\n",
       " {'popularity': 44.007,\n",
       "  'vote_count': 209,\n",
       "  'video': False,\n",
       "  'poster_path': '/p08FoXVFgcRm5QZBaGj0VKa2W2Y.jpg',\n",
       "  'id': 422803,\n",
       "  'adult': False,\n",
       "  'backdrop_path': '/AgYlP6g4vrNn1sVsAIvflW3TfJU.jpg',\n",
       "  'original_language': 'en',\n",
       "  'original_title': 'A Shaun the Sheep Movie: Farmageddon',\n",
       "  'genre_ids': [16, 35, 10751],\n",
       "  'title': 'A Shaun the Sheep Movie: Farmageddon',\n",
       "  'vote_average': 7.1,\n",
       "  'overview': 'When an alien with amazing powers crash-lands near Mossy Bottom Farm, Shaun the Sheep goes on a mission to shepherd the intergalactic visitor home before a sinister organization can capture her.',\n",
       "  'release_date': '2019-09-26'},\n",
       " {'popularity': 8.864,\n",
       "  'vote_count': 324,\n",
       "  'video': False,\n",
       "  'poster_path': '/zw77BFPGJ73Lig8GwRzYj1XHq53.jpg',\n",
       "  'id': 620683,\n",
       "  'adult': False,\n",
       "  'backdrop_path': '/oTWT3IBGc95jmH3aH5QDXeAe9mR.jpg',\n",
       "  'original_language': 'pt',\n",
       "  'original_title': 'Minha Mãe é Uma Peça 3: O Filme',\n",
       "  'genre_ids': [35],\n",
       "  'title': 'My Mom is a Character 3',\n",
       "  'vote_average': 8.4,\n",
       "  'overview': 'Dona Hermínia will have to rediscover and reinvent herself because her children are forming new families. This supermom will have to deal with a new life scenario: Marcelina is pregnant and Juliano is getting married.',\n",
       "  'release_date': '2019-12-26'},\n",
       " {'popularity': 31.111,\n",
       "  'vote_count': 938,\n",
       "  'video': False,\n",
       "  'poster_path': '/cVhe15rJLRjolunSWLBN6xQLyGU.jpg',\n",
       "  'id': 445629,\n",
       "  'adult': False,\n",
       "  'backdrop_path': '/3ZORgdbK8wglKL8Vb4KTl465BfJ.jpg',\n",
       "  'original_language': 'en',\n",
       "  'original_title': 'Fighting with My Family',\n",
       "  'genre_ids': [35, 18],\n",
       "  'title': 'Fighting with My Family',\n",
       "  'vote_average': 6.8,\n",
       "  'overview': \"Born into a tight-knit wrestling family, Paige and her brother Zak are ecstatic when they get the once-in-a-lifetime opportunity to try out for the WWE. But when only Paige earns a spot in the competitive training program, she must leave her loved ones behind and face this new cutthroat world alone. Paige's journey pushes her to dig deep and ultimately prove to the world that what makes her different is the very thing that can make her a star.\",\n",
       "  'release_date': '2019-02-14'},\n",
       " {'popularity': 15.962,\n",
       "  'vote_count': 619,\n",
       "  'video': False,\n",
       "  'poster_path': '/iqJhHjD6k6T07waELjMKDpQJUP.jpg',\n",
       "  'id': 491283,\n",
       "  'adult': False,\n",
       "  'backdrop_path': '/hJXxDoCwchAuJ4K3gwtno2chgr8.jpg',\n",
       "  'original_language': 'en',\n",
       "  'original_title': 'Judy',\n",
       "  'genre_ids': [18],\n",
       "  'title': 'Judy',\n",
       "  'vote_average': 6.8,\n",
       "  'overview': 'Winter 1968 and showbiz legend Judy Garland arrives in Swinging London to perform a five-week sold-out run at The Talk of the Town. It is 30 years since she shot to global stardom in The Wizard of Oz, but if her voice has weakened, its dramatic intensity has only grown. As she prepares for the show, battles with management, charms musicians and reminisces with friends and adoring fans, her wit and warmth shine through. Even her dreams of love seem undimmed as she embarks on a whirlwind romance with Mickey Deans, her soon-to-be fifth husband.',\n",
       "  'release_date': '2019-09-27'},\n",
       " {'popularity': 30.238,\n",
       "  'id': 509730,\n",
       "  'video': False,\n",
       "  'vote_count': 219,\n",
       "  'vote_average': 5.8,\n",
       "  'title': \"The Queen's Corgi\",\n",
       "  'release_date': '2019-02-13',\n",
       "  'original_language': 'en',\n",
       "  'original_title': \"The Queen's Corgi\",\n",
       "  'genre_ids': [16, 10751],\n",
       "  'backdrop_path': '/h1IhhdKIq56cFO8RuZZoU21a4Zu.jpg',\n",
       "  'adult': False,\n",
       "  'overview': 'Since his arrival at Buckingham palace, Rex lives a life of luxury. Top dog, he has superseded his three fellow Corgis in Her Majesty’s heart. His arrogance can be quite irritating. When he causes a diplomatic incident during an official dinner with the President of the United States, he falls into disgrace. Betrayed by one of his peers, Rex becomes a stray dog in the streets of London. How can he redeem himself? In love, he will find the resources to surpass himself in the face of great danger…',\n",
       "  'poster_path': '/xcl4vYTqqzwn3ihUpjCQz0jqhV3.jpg'},\n",
       " {'popularity': 5.65,\n",
       "  'vote_count': 9,\n",
       "  'video': False,\n",
       "  'poster_path': '/pV6xLQh54ga8oaQqJtUqLp12LwQ.jpg',\n",
       "  'id': 541487,\n",
       "  'adult': False,\n",
       "  'backdrop_path': '/xqYYqPbU5T0F9uM0AvggFSBdh99.jpg',\n",
       "  'original_language': 'te',\n",
       "  'original_title': 'మహర్షి',\n",
       "  'genre_ids': [28, 18],\n",
       "  'title': 'Maharshi',\n",
       "  'vote_average': 7,\n",
       "  'overview': 'Rishi Kumar is a billionaire and the CEO of Origins, someone who has always strived for the success he now owns. His friend Ravi needs help, how will he come through?',\n",
       "  'release_date': '2019-05-09'},\n",
       " {'popularity': 7.236,\n",
       "  'vote_count': 86,\n",
       "  'video': False,\n",
       "  'poster_path': '/4RE7TD5TqEXbPKyUHcn7CSeMlrJ.jpg',\n",
       "  'id': 491625,\n",
       "  'adult': False,\n",
       "  'backdrop_path': '/gcZbciueHH7WmD03GcVZX7LYqmR.jpg',\n",
       "  'original_language': 'hi',\n",
       "  'original_title': 'गल्ली बॉय',\n",
       "  'genre_ids': [18, 10402],\n",
       "  'title': 'Gully Boy',\n",
       "  'vote_average': 7.6,\n",
       "  'overview': 'A coming-of-age story based on the lives of street rappers in Mumbai.',\n",
       "  'release_date': '2019-02-14'}]"
      ]
     },
     "execution_count": 5,
     "metadata": {},
     "output_type": "execute_result"
    }
   ],
   "source": [
    "newlist"
   ]
  },
  {
   "cell_type": "code",
   "execution_count": 6,
   "metadata": {},
   "outputs": [
    {
     "data": {
      "text/plain": [
       "100"
      ]
     },
     "execution_count": 6,
     "metadata": {},
     "output_type": "execute_result"
    }
   ],
   "source": [
    "len(newlist)"
   ]
  },
  {
   "cell_type": "code",
   "execution_count": 7,
   "metadata": {},
   "outputs": [],
   "source": [
    "df = pd.DataFrame(newlist)"
   ]
  },
  {
   "cell_type": "code",
   "execution_count": 8,
   "metadata": {},
   "outputs": [
    {
     "data": {
      "text/html": [
       "<div>\n",
       "<style scoped>\n",
       "    .dataframe tbody tr th:only-of-type {\n",
       "        vertical-align: middle;\n",
       "    }\n",
       "\n",
       "    .dataframe tbody tr th {\n",
       "        vertical-align: top;\n",
       "    }\n",
       "\n",
       "    .dataframe thead th {\n",
       "        text-align: right;\n",
       "    }\n",
       "</style>\n",
       "<table border=\"1\" class=\"dataframe\">\n",
       "  <thead>\n",
       "    <tr style=\"text-align: right;\">\n",
       "      <th></th>\n",
       "      <th>popularity</th>\n",
       "      <th>vote_count</th>\n",
       "      <th>video</th>\n",
       "      <th>poster_path</th>\n",
       "      <th>id</th>\n",
       "      <th>adult</th>\n",
       "      <th>backdrop_path</th>\n",
       "      <th>original_language</th>\n",
       "      <th>original_title</th>\n",
       "      <th>genre_ids</th>\n",
       "      <th>title</th>\n",
       "      <th>vote_average</th>\n",
       "      <th>overview</th>\n",
       "      <th>release_date</th>\n",
       "    </tr>\n",
       "  </thead>\n",
       "  <tbody>\n",
       "    <tr>\n",
       "      <th>0</th>\n",
       "      <td>189.605</td>\n",
       "      <td>15353</td>\n",
       "      <td>False</td>\n",
       "      <td>/or06FN3Dka5tukK1e9sl16pB3iy.jpg</td>\n",
       "      <td>299534</td>\n",
       "      <td>False</td>\n",
       "      <td>/orjiB3oUIsyz60hoEqkiGpy5CeO.jpg</td>\n",
       "      <td>en</td>\n",
       "      <td>Avengers: Endgame</td>\n",
       "      <td>[28, 12, 878]</td>\n",
       "      <td>Avengers: Endgame</td>\n",
       "      <td>8.3</td>\n",
       "      <td>After the devastating events of Avengers: Infi...</td>\n",
       "      <td>2019-04-24</td>\n",
       "    </tr>\n",
       "    <tr>\n",
       "      <th>1</th>\n",
       "      <td>166.569</td>\n",
       "      <td>6923</td>\n",
       "      <td>False</td>\n",
       "      <td>/dzBtMocZuJbjLOXvrl4zGYigDzh.jpg</td>\n",
       "      <td>420818</td>\n",
       "      <td>False</td>\n",
       "      <td>/nRXO2SnOA75OsWhNhXstHB8ZmI3.jpg</td>\n",
       "      <td>en</td>\n",
       "      <td>The Lion King</td>\n",
       "      <td>[12, 16, 10402, 10751]</td>\n",
       "      <td>The Lion King</td>\n",
       "      <td>7.2</td>\n",
       "      <td>Simba idolizes his father, King Mufasa, and ta...</td>\n",
       "      <td>2019-07-12</td>\n",
       "    </tr>\n",
       "    <tr>\n",
       "      <th>2</th>\n",
       "      <td>277.421</td>\n",
       "      <td>6264</td>\n",
       "      <td>False</td>\n",
       "      <td>/pjeMs3yqRmFL3giJy4PMXWZTTPa.jpg</td>\n",
       "      <td>330457</td>\n",
       "      <td>False</td>\n",
       "      <td>/xJWPZIYOEFIjZpBL7SVBGnzRYXp.jpg</td>\n",
       "      <td>en</td>\n",
       "      <td>Frozen II</td>\n",
       "      <td>[16, 10751, 12, 35, 14]</td>\n",
       "      <td>Frozen II</td>\n",
       "      <td>7.3</td>\n",
       "      <td>Elsa, Anna, Kristoff and Olaf head far into th...</td>\n",
       "      <td>2019-11-20</td>\n",
       "    </tr>\n",
       "    <tr>\n",
       "      <th>3</th>\n",
       "      <td>192.696</td>\n",
       "      <td>8511</td>\n",
       "      <td>False</td>\n",
       "      <td>/4q2NNj4S5dG2RLF9CpXsej7yXl.jpg</td>\n",
       "      <td>429617</td>\n",
       "      <td>False</td>\n",
       "      <td>/5myQbDzw3l8K9yofUXRJ4UTVgam.jpg</td>\n",
       "      <td>en</td>\n",
       "      <td>Spider-Man: Far from Home</td>\n",
       "      <td>[28, 12, 878]</td>\n",
       "      <td>Spider-Man: Far from Home</td>\n",
       "      <td>7.6</td>\n",
       "      <td>Peter Parker and his friends go on a summer tr...</td>\n",
       "      <td>2019-06-28</td>\n",
       "    </tr>\n",
       "    <tr>\n",
       "      <th>4</th>\n",
       "      <td>121.159</td>\n",
       "      <td>10214</td>\n",
       "      <td>False</td>\n",
       "      <td>/AtsgWhDnHTq68L0lLsUrCnM7TjG.jpg</td>\n",
       "      <td>299537</td>\n",
       "      <td>False</td>\n",
       "      <td>/w2PMyoyLU22YvrGK3smVM9fW1jj.jpg</td>\n",
       "      <td>en</td>\n",
       "      <td>Captain Marvel</td>\n",
       "      <td>[28, 12, 878]</td>\n",
       "      <td>Captain Marvel</td>\n",
       "      <td>7.0</td>\n",
       "      <td>The story follows Carol Danvers as she becomes...</td>\n",
       "      <td>2019-03-06</td>\n",
       "    </tr>\n",
       "    <tr>\n",
       "      <th>...</th>\n",
       "      <td>...</td>\n",
       "      <td>...</td>\n",
       "      <td>...</td>\n",
       "      <td>...</td>\n",
       "      <td>...</td>\n",
       "      <td>...</td>\n",
       "      <td>...</td>\n",
       "      <td>...</td>\n",
       "      <td>...</td>\n",
       "      <td>...</td>\n",
       "      <td>...</td>\n",
       "      <td>...</td>\n",
       "      <td>...</td>\n",
       "      <td>...</td>\n",
       "    </tr>\n",
       "    <tr>\n",
       "      <th>95</th>\n",
       "      <td>31.111</td>\n",
       "      <td>938</td>\n",
       "      <td>False</td>\n",
       "      <td>/cVhe15rJLRjolunSWLBN6xQLyGU.jpg</td>\n",
       "      <td>445629</td>\n",
       "      <td>False</td>\n",
       "      <td>/3ZORgdbK8wglKL8Vb4KTl465BfJ.jpg</td>\n",
       "      <td>en</td>\n",
       "      <td>Fighting with My Family</td>\n",
       "      <td>[35, 18]</td>\n",
       "      <td>Fighting with My Family</td>\n",
       "      <td>6.8</td>\n",
       "      <td>Born into a tight-knit wrestling family, Paige...</td>\n",
       "      <td>2019-02-14</td>\n",
       "    </tr>\n",
       "    <tr>\n",
       "      <th>96</th>\n",
       "      <td>15.962</td>\n",
       "      <td>619</td>\n",
       "      <td>False</td>\n",
       "      <td>/iqJhHjD6k6T07waELjMKDpQJUP.jpg</td>\n",
       "      <td>491283</td>\n",
       "      <td>False</td>\n",
       "      <td>/hJXxDoCwchAuJ4K3gwtno2chgr8.jpg</td>\n",
       "      <td>en</td>\n",
       "      <td>Judy</td>\n",
       "      <td>[18]</td>\n",
       "      <td>Judy</td>\n",
       "      <td>6.8</td>\n",
       "      <td>Winter 1968 and showbiz legend Judy Garland ar...</td>\n",
       "      <td>2019-09-27</td>\n",
       "    </tr>\n",
       "    <tr>\n",
       "      <th>97</th>\n",
       "      <td>30.238</td>\n",
       "      <td>219</td>\n",
       "      <td>False</td>\n",
       "      <td>/xcl4vYTqqzwn3ihUpjCQz0jqhV3.jpg</td>\n",
       "      <td>509730</td>\n",
       "      <td>False</td>\n",
       "      <td>/h1IhhdKIq56cFO8RuZZoU21a4Zu.jpg</td>\n",
       "      <td>en</td>\n",
       "      <td>The Queen's Corgi</td>\n",
       "      <td>[16, 10751]</td>\n",
       "      <td>The Queen's Corgi</td>\n",
       "      <td>5.8</td>\n",
       "      <td>Since his arrival at Buckingham palace, Rex li...</td>\n",
       "      <td>2019-02-13</td>\n",
       "    </tr>\n",
       "    <tr>\n",
       "      <th>98</th>\n",
       "      <td>5.650</td>\n",
       "      <td>9</td>\n",
       "      <td>False</td>\n",
       "      <td>/pV6xLQh54ga8oaQqJtUqLp12LwQ.jpg</td>\n",
       "      <td>541487</td>\n",
       "      <td>False</td>\n",
       "      <td>/xqYYqPbU5T0F9uM0AvggFSBdh99.jpg</td>\n",
       "      <td>te</td>\n",
       "      <td>మహర్షి</td>\n",
       "      <td>[28, 18]</td>\n",
       "      <td>Maharshi</td>\n",
       "      <td>7.0</td>\n",
       "      <td>Rishi Kumar is a billionaire and the CEO of Or...</td>\n",
       "      <td>2019-05-09</td>\n",
       "    </tr>\n",
       "    <tr>\n",
       "      <th>99</th>\n",
       "      <td>7.236</td>\n",
       "      <td>86</td>\n",
       "      <td>False</td>\n",
       "      <td>/4RE7TD5TqEXbPKyUHcn7CSeMlrJ.jpg</td>\n",
       "      <td>491625</td>\n",
       "      <td>False</td>\n",
       "      <td>/gcZbciueHH7WmD03GcVZX7LYqmR.jpg</td>\n",
       "      <td>hi</td>\n",
       "      <td>गल्ली बॉय</td>\n",
       "      <td>[18, 10402]</td>\n",
       "      <td>Gully Boy</td>\n",
       "      <td>7.6</td>\n",
       "      <td>A coming-of-age story based on the lives of st...</td>\n",
       "      <td>2019-02-14</td>\n",
       "    </tr>\n",
       "  </tbody>\n",
       "</table>\n",
       "<p>100 rows × 14 columns</p>\n",
       "</div>"
      ],
      "text/plain": [
       "    popularity  vote_count  video                       poster_path      id  \\\n",
       "0      189.605       15353  False  /or06FN3Dka5tukK1e9sl16pB3iy.jpg  299534   \n",
       "1      166.569        6923  False  /dzBtMocZuJbjLOXvrl4zGYigDzh.jpg  420818   \n",
       "2      277.421        6264  False  /pjeMs3yqRmFL3giJy4PMXWZTTPa.jpg  330457   \n",
       "3      192.696        8511  False   /4q2NNj4S5dG2RLF9CpXsej7yXl.jpg  429617   \n",
       "4      121.159       10214  False  /AtsgWhDnHTq68L0lLsUrCnM7TjG.jpg  299537   \n",
       "..         ...         ...    ...                               ...     ...   \n",
       "95      31.111         938  False  /cVhe15rJLRjolunSWLBN6xQLyGU.jpg  445629   \n",
       "96      15.962         619  False   /iqJhHjD6k6T07waELjMKDpQJUP.jpg  491283   \n",
       "97      30.238         219  False  /xcl4vYTqqzwn3ihUpjCQz0jqhV3.jpg  509730   \n",
       "98       5.650           9  False  /pV6xLQh54ga8oaQqJtUqLp12LwQ.jpg  541487   \n",
       "99       7.236          86  False  /4RE7TD5TqEXbPKyUHcn7CSeMlrJ.jpg  491625   \n",
       "\n",
       "    adult                     backdrop_path original_language  \\\n",
       "0   False  /orjiB3oUIsyz60hoEqkiGpy5CeO.jpg                en   \n",
       "1   False  /nRXO2SnOA75OsWhNhXstHB8ZmI3.jpg                en   \n",
       "2   False  /xJWPZIYOEFIjZpBL7SVBGnzRYXp.jpg                en   \n",
       "3   False  /5myQbDzw3l8K9yofUXRJ4UTVgam.jpg                en   \n",
       "4   False  /w2PMyoyLU22YvrGK3smVM9fW1jj.jpg                en   \n",
       "..    ...                               ...               ...   \n",
       "95  False  /3ZORgdbK8wglKL8Vb4KTl465BfJ.jpg                en   \n",
       "96  False  /hJXxDoCwchAuJ4K3gwtno2chgr8.jpg                en   \n",
       "97  False  /h1IhhdKIq56cFO8RuZZoU21a4Zu.jpg                en   \n",
       "98  False  /xqYYqPbU5T0F9uM0AvggFSBdh99.jpg                te   \n",
       "99  False  /gcZbciueHH7WmD03GcVZX7LYqmR.jpg                hi   \n",
       "\n",
       "               original_title                genre_ids  \\\n",
       "0           Avengers: Endgame            [28, 12, 878]   \n",
       "1               The Lion King   [12, 16, 10402, 10751]   \n",
       "2                   Frozen II  [16, 10751, 12, 35, 14]   \n",
       "3   Spider-Man: Far from Home            [28, 12, 878]   \n",
       "4              Captain Marvel            [28, 12, 878]   \n",
       "..                        ...                      ...   \n",
       "95    Fighting with My Family                 [35, 18]   \n",
       "96                       Judy                     [18]   \n",
       "97          The Queen's Corgi              [16, 10751]   \n",
       "98                     మహర్షి                 [28, 18]   \n",
       "99                  गल्ली बॉय              [18, 10402]   \n",
       "\n",
       "                        title  vote_average  \\\n",
       "0           Avengers: Endgame           8.3   \n",
       "1               The Lion King           7.2   \n",
       "2                   Frozen II           7.3   \n",
       "3   Spider-Man: Far from Home           7.6   \n",
       "4              Captain Marvel           7.0   \n",
       "..                        ...           ...   \n",
       "95    Fighting with My Family           6.8   \n",
       "96                       Judy           6.8   \n",
       "97          The Queen's Corgi           5.8   \n",
       "98                   Maharshi           7.0   \n",
       "99                  Gully Boy           7.6   \n",
       "\n",
       "                                             overview release_date  \n",
       "0   After the devastating events of Avengers: Infi...   2019-04-24  \n",
       "1   Simba idolizes his father, King Mufasa, and ta...   2019-07-12  \n",
       "2   Elsa, Anna, Kristoff and Olaf head far into th...   2019-11-20  \n",
       "3   Peter Parker and his friends go on a summer tr...   2019-06-28  \n",
       "4   The story follows Carol Danvers as she becomes...   2019-03-06  \n",
       "..                                                ...          ...  \n",
       "95  Born into a tight-knit wrestling family, Paige...   2019-02-14  \n",
       "96  Winter 1968 and showbiz legend Judy Garland ar...   2019-09-27  \n",
       "97  Since his arrival at Buckingham palace, Rex li...   2019-02-13  \n",
       "98  Rishi Kumar is a billionaire and the CEO of Or...   2019-05-09  \n",
       "99  A coming-of-age story based on the lives of st...   2019-02-14  \n",
       "\n",
       "[100 rows x 14 columns]"
      ]
     },
     "execution_count": 8,
     "metadata": {},
     "output_type": "execute_result"
    }
   ],
   "source": [
    "df"
   ]
  },
  {
   "cell_type": "code",
   "execution_count": 14,
   "metadata": {},
   "outputs": [
    {
     "name": "stdout",
     "output_type": "stream",
     "text": [
      "{299534: 2797800564, 420818: 1656943394, 330457: 1450026933, 429617: 1131927996, 299537: 1128276090, 475557: 1074251311, 181812: 1074144248, 301528: 1073394593, 420817: 1047612394, 512200: 796575993, 384018: 760098996, 615453: 686067000, 166428: 517526875, 747121: 500000000, 420809: 491570967, 474350: 473093228, 447404: 433005346, 399579: 404852543, 373571: 386600138, 530915: 374733942, 466272: 374251247, 287947: 363533271, 458156: 326709727, 546554: 309232797, 290859: 261119292, 496243: 257591776, 458723: 255105930, 479455: 252608480, 320288: 252442974, 450465: 246941965, 521029: 231252591, 359724: 225508210, 329996: 215832199, 481084: 203044905, 535544: 192094429, 331482: 191540586, 280217: 190514361, 568160: 186965409, 453405: 173469516, 431693: 171616764, 504608: 167323950, 540901: 157600000, 522681: 155313078, 412117: 155152550, 423204: 146661977, 419704: 132807427, 454640: 131359052, 522162: 125641396, 567646: 124652206, 338967: 122801777, 480414: 122033739, 549053: 121550750, 400157: 119559110, 499701: 116826172, 746359: 115570314, 566555: 115570314, 157433: 112399944, 431580: 111615070, 440472: 111353135, 417384: 95438172, 522938: 91490353, 511987: 89203432, 515195: 88092097, 515001: 82468705, 505436: 74769845, 536869: 73515024, 458897: 73279888, 521777: 72457330, 501170: 72281712, 487297: 69766483, 537915: 69497587, 572164: 68325551, 501907: 67760877, 573699: 66925842, 585268: 66293455, 723540: 62235335, 438650: 59213931, 567609: 57615777, 577328: 55478164, 454292: 55000000, 459992: 53847136, 525661: 53774397, 502416: 51749995, 522212: 50401502, 473033: 50020902, 599975: 48021766, 530385: 47862188, 535292: 47088457, 536743: 46597100, 464504: 46115383, 533642: 44902237, 456740: 44664690, 554241: 44400000, 422803: 42880428, 620683: 39273021, 445629: 39055536, 491283: 38981322, 509730: 36120360, 541487: 34000000, 491625: 33974264}\n"
     ]
    }
   ],
   "source": [
    "movie_dict = {}\n",
    "\n",
    "for item in newlist:\n",
    "        tmp = tmdb.Movies(item['id']).info()\n",
    "        movie_dict[tmp['id']] = tmp['revenue']\n",
    "    \n",
    "print(movie_dict)"
   ]
  },
  {
   "cell_type": "code",
   "execution_count": 37,
   "metadata": {},
   "outputs": [
    {
     "data": {
      "text/html": [
       "<div>\n",
       "<style scoped>\n",
       "    .dataframe tbody tr th:only-of-type {\n",
       "        vertical-align: middle;\n",
       "    }\n",
       "\n",
       "    .dataframe tbody tr th {\n",
       "        vertical-align: top;\n",
       "    }\n",
       "\n",
       "    .dataframe thead th {\n",
       "        text-align: right;\n",
       "    }\n",
       "</style>\n",
       "<table border=\"1\" class=\"dataframe\">\n",
       "  <thead>\n",
       "    <tr style=\"text-align: right;\">\n",
       "      <th></th>\n",
       "      <th>id</th>\n",
       "      <th>revenue</th>\n",
       "    </tr>\n",
       "  </thead>\n",
       "  <tbody>\n",
       "    <tr>\n",
       "      <th>0</th>\n",
       "      <td>299534</td>\n",
       "      <td>2797800564</td>\n",
       "    </tr>\n",
       "    <tr>\n",
       "      <th>1</th>\n",
       "      <td>420818</td>\n",
       "      <td>1656943394</td>\n",
       "    </tr>\n",
       "    <tr>\n",
       "      <th>2</th>\n",
       "      <td>330457</td>\n",
       "      <td>1450026933</td>\n",
       "    </tr>\n",
       "    <tr>\n",
       "      <th>3</th>\n",
       "      <td>429617</td>\n",
       "      <td>1131927996</td>\n",
       "    </tr>\n",
       "    <tr>\n",
       "      <th>4</th>\n",
       "      <td>299537</td>\n",
       "      <td>1128276090</td>\n",
       "    </tr>\n",
       "    <tr>\n",
       "      <th>...</th>\n",
       "      <td>...</td>\n",
       "      <td>...</td>\n",
       "    </tr>\n",
       "    <tr>\n",
       "      <th>95</th>\n",
       "      <td>445629</td>\n",
       "      <td>39055536</td>\n",
       "    </tr>\n",
       "    <tr>\n",
       "      <th>96</th>\n",
       "      <td>491283</td>\n",
       "      <td>38981322</td>\n",
       "    </tr>\n",
       "    <tr>\n",
       "      <th>97</th>\n",
       "      <td>509730</td>\n",
       "      <td>36120360</td>\n",
       "    </tr>\n",
       "    <tr>\n",
       "      <th>98</th>\n",
       "      <td>541487</td>\n",
       "      <td>34000000</td>\n",
       "    </tr>\n",
       "    <tr>\n",
       "      <th>99</th>\n",
       "      <td>491625</td>\n",
       "      <td>33974264</td>\n",
       "    </tr>\n",
       "  </tbody>\n",
       "</table>\n",
       "<p>100 rows × 2 columns</p>\n",
       "</div>"
      ],
      "text/plain": [
       "        id     revenue\n",
       "0   299534  2797800564\n",
       "1   420818  1656943394\n",
       "2   330457  1450026933\n",
       "3   429617  1131927996\n",
       "4   299537  1128276090\n",
       "..     ...         ...\n",
       "95  445629    39055536\n",
       "96  491283    38981322\n",
       "97  509730    36120360\n",
       "98  541487    34000000\n",
       "99  491625    33974264\n",
       "\n",
       "[100 rows x 2 columns]"
      ]
     },
     "execution_count": 37,
     "metadata": {},
     "output_type": "execute_result"
    }
   ],
   "source": [
    "df_revenue = pd.DataFrame.from_dict(movie_dict, orient=\"index\").reset_index()\n",
    "df_revenue.columns = ['id', 'revenue']\n",
    "\n",
    "df_revenue"
   ]
  },
  {
   "cell_type": "code",
   "execution_count": 18,
   "metadata": {},
   "outputs": [
    {
     "name": "stdout",
     "output_type": "stream",
     "text": [
      "{299534: 356000000, 420818: 260000000, 330457: 150000000, 429617: 160000000, 299537: 152000000, 475557: 55000000, 181812: 250000000, 301528: 175000000, 420817: 183000000, 512200: 125000000, 384018: 200000000, 615453: 0, 166428: 129000000, 747121: 0, 420809: 185000000, 474350: 79000000, 447404: 150000000, 399579: 170000000, 373571: 170000000, 530915: 100000000, 466272: 95000000, 287947: 80000000, 458156: 55000000, 546554: 40000000, 290859: 185000000, 496243: 11363000, 458723: 20000000, 479455: 110000000, 320288: 200000000, 450465: 20000000, 521029: 30000000, 359724: 97600000, 329996: 170000000, 481084: 40000000, 535544: 20000000, 331482: 40000000, 280217: 100000000, 568160: 0, 453405: 138000000, 431693: 100000000, 504608: 40000000, 540901: 20000000, 522681: 9000000, 412117: 80000000, 423204: 40000000, 419704: 87500000, 454640: 65000000, 522162: 100000000, 567646: 8120000, 338967: 42000000, 480414: 9000000, 549053: 30000000, 400157: 100000000, 499701: 49000000, 746359: 0, 566555: 0, 157433: 21000000, 431580: 75000000, 440472: 37500000, 417384: 25000000, 522938: 50000000, 511987: 13500000, 515195: 26000000, 515001: 14000000, 505436: 0, 536869: 95000000, 458897: 48000000, 521777: 20000000, 501170: 45000000, 487297: 20000000, 537915: 14000000, 572164: 10892000, 501907: 4000000, 573699: 11936735, 585268: 27941858, 723540: 11500000, 438650: 60000000, 567609: 6000000, 577328: 8751000, 454292: 51000000, 459992: 40000000, 525661: 32000000, 502416: 5000000, 522212: 25000000, 473033: 19000000, 599975: 6500000, 530385: 9000000, 535292: 33000000, 536743: 20000000, 464504: 0, 533642: 10000000, 456740: 50000000, 554241: 29900000, 422803: 0, 620683: 2000000, 445629: 11000000, 491283: 0, 509730: 0, 541487: 12000000, 491625: 5782853}\n"
     ]
    }
   ],
   "source": [
    "movie_dict_budget = {}\n",
    "\n",
    "for item in newlist:\n",
    "        tmp = tmdb.Movies(item['id']).info()\n",
    "        movie_dict_budget[tmp['id']] = tmp['budget']\n",
    "    \n",
    "print(movie_dict_budget)"
   ]
  },
  {
   "cell_type": "code",
   "execution_count": 35,
   "metadata": {},
   "outputs": [
    {
     "data": {
      "text/html": [
       "<div>\n",
       "<style scoped>\n",
       "    .dataframe tbody tr th:only-of-type {\n",
       "        vertical-align: middle;\n",
       "    }\n",
       "\n",
       "    .dataframe tbody tr th {\n",
       "        vertical-align: top;\n",
       "    }\n",
       "\n",
       "    .dataframe thead th {\n",
       "        text-align: right;\n",
       "    }\n",
       "</style>\n",
       "<table border=\"1\" class=\"dataframe\">\n",
       "  <thead>\n",
       "    <tr style=\"text-align: right;\">\n",
       "      <th></th>\n",
       "      <th>id</th>\n",
       "      <th>budget</th>\n",
       "    </tr>\n",
       "  </thead>\n",
       "  <tbody>\n",
       "    <tr>\n",
       "      <th>0</th>\n",
       "      <td>299534</td>\n",
       "      <td>356000000</td>\n",
       "    </tr>\n",
       "    <tr>\n",
       "      <th>1</th>\n",
       "      <td>420818</td>\n",
       "      <td>260000000</td>\n",
       "    </tr>\n",
       "    <tr>\n",
       "      <th>2</th>\n",
       "      <td>330457</td>\n",
       "      <td>150000000</td>\n",
       "    </tr>\n",
       "    <tr>\n",
       "      <th>3</th>\n",
       "      <td>429617</td>\n",
       "      <td>160000000</td>\n",
       "    </tr>\n",
       "    <tr>\n",
       "      <th>4</th>\n",
       "      <td>299537</td>\n",
       "      <td>152000000</td>\n",
       "    </tr>\n",
       "    <tr>\n",
       "      <th>...</th>\n",
       "      <td>...</td>\n",
       "      <td>...</td>\n",
       "    </tr>\n",
       "    <tr>\n",
       "      <th>95</th>\n",
       "      <td>445629</td>\n",
       "      <td>11000000</td>\n",
       "    </tr>\n",
       "    <tr>\n",
       "      <th>96</th>\n",
       "      <td>491283</td>\n",
       "      <td>0</td>\n",
       "    </tr>\n",
       "    <tr>\n",
       "      <th>97</th>\n",
       "      <td>509730</td>\n",
       "      <td>0</td>\n",
       "    </tr>\n",
       "    <tr>\n",
       "      <th>98</th>\n",
       "      <td>541487</td>\n",
       "      <td>12000000</td>\n",
       "    </tr>\n",
       "    <tr>\n",
       "      <th>99</th>\n",
       "      <td>491625</td>\n",
       "      <td>5782853</td>\n",
       "    </tr>\n",
       "  </tbody>\n",
       "</table>\n",
       "<p>100 rows × 2 columns</p>\n",
       "</div>"
      ],
      "text/plain": [
       "        id     budget\n",
       "0   299534  356000000\n",
       "1   420818  260000000\n",
       "2   330457  150000000\n",
       "3   429617  160000000\n",
       "4   299537  152000000\n",
       "..     ...        ...\n",
       "95  445629   11000000\n",
       "96  491283          0\n",
       "97  509730          0\n",
       "98  541487   12000000\n",
       "99  491625    5782853\n",
       "\n",
       "[100 rows x 2 columns]"
      ]
     },
     "execution_count": 35,
     "metadata": {},
     "output_type": "execute_result"
    }
   ],
   "source": [
    "df_budget = pd.DataFrame.from_dict(movie_dict_budget, orient=\"index\").reset_index()\n",
    "df_budget.columns = ['id', 'budget']\n",
    "\n",
    "df_budget "
   ]
  },
  {
   "cell_type": "code",
   "execution_count": 41,
   "metadata": {},
   "outputs": [],
   "source": [
    "df_budget_revenue = df_budget.join(df_revenue.set_index('id'), on='id')"
   ]
  },
  {
   "cell_type": "code",
   "execution_count": 44,
   "metadata": {},
   "outputs": [
    {
     "data": {
      "text/html": [
       "<div>\n",
       "<style scoped>\n",
       "    .dataframe tbody tr th:only-of-type {\n",
       "        vertical-align: middle;\n",
       "    }\n",
       "\n",
       "    .dataframe tbody tr th {\n",
       "        vertical-align: top;\n",
       "    }\n",
       "\n",
       "    .dataframe thead th {\n",
       "        text-align: right;\n",
       "    }\n",
       "</style>\n",
       "<table border=\"1\" class=\"dataframe\">\n",
       "  <thead>\n",
       "    <tr style=\"text-align: right;\">\n",
       "      <th></th>\n",
       "      <th>id</th>\n",
       "      <th>budget</th>\n",
       "      <th>revenue</th>\n",
       "    </tr>\n",
       "  </thead>\n",
       "  <tbody>\n",
       "    <tr>\n",
       "      <th>0</th>\n",
       "      <td>299534</td>\n",
       "      <td>356000000</td>\n",
       "      <td>2797800564</td>\n",
       "    </tr>\n",
       "    <tr>\n",
       "      <th>1</th>\n",
       "      <td>420818</td>\n",
       "      <td>260000000</td>\n",
       "      <td>1656943394</td>\n",
       "    </tr>\n",
       "    <tr>\n",
       "      <th>2</th>\n",
       "      <td>330457</td>\n",
       "      <td>150000000</td>\n",
       "      <td>1450026933</td>\n",
       "    </tr>\n",
       "    <tr>\n",
       "      <th>3</th>\n",
       "      <td>429617</td>\n",
       "      <td>160000000</td>\n",
       "      <td>1131927996</td>\n",
       "    </tr>\n",
       "    <tr>\n",
       "      <th>4</th>\n",
       "      <td>299537</td>\n",
       "      <td>152000000</td>\n",
       "      <td>1128276090</td>\n",
       "    </tr>\n",
       "    <tr>\n",
       "      <th>...</th>\n",
       "      <td>...</td>\n",
       "      <td>...</td>\n",
       "      <td>...</td>\n",
       "    </tr>\n",
       "    <tr>\n",
       "      <th>95</th>\n",
       "      <td>445629</td>\n",
       "      <td>11000000</td>\n",
       "      <td>39055536</td>\n",
       "    </tr>\n",
       "    <tr>\n",
       "      <th>96</th>\n",
       "      <td>491283</td>\n",
       "      <td>0</td>\n",
       "      <td>38981322</td>\n",
       "    </tr>\n",
       "    <tr>\n",
       "      <th>97</th>\n",
       "      <td>509730</td>\n",
       "      <td>0</td>\n",
       "      <td>36120360</td>\n",
       "    </tr>\n",
       "    <tr>\n",
       "      <th>98</th>\n",
       "      <td>541487</td>\n",
       "      <td>12000000</td>\n",
       "      <td>34000000</td>\n",
       "    </tr>\n",
       "    <tr>\n",
       "      <th>99</th>\n",
       "      <td>491625</td>\n",
       "      <td>5782853</td>\n",
       "      <td>33974264</td>\n",
       "    </tr>\n",
       "  </tbody>\n",
       "</table>\n",
       "<p>100 rows × 3 columns</p>\n",
       "</div>"
      ],
      "text/plain": [
       "        id     budget     revenue\n",
       "0   299534  356000000  2797800564\n",
       "1   420818  260000000  1656943394\n",
       "2   330457  150000000  1450026933\n",
       "3   429617  160000000  1131927996\n",
       "4   299537  152000000  1128276090\n",
       "..     ...        ...         ...\n",
       "95  445629   11000000    39055536\n",
       "96  491283          0    38981322\n",
       "97  509730          0    36120360\n",
       "98  541487   12000000    34000000\n",
       "99  491625    5782853    33974264\n",
       "\n",
       "[100 rows x 3 columns]"
      ]
     },
     "execution_count": 44,
     "metadata": {},
     "output_type": "execute_result"
    }
   ],
   "source": [
    "df_budget_revenue"
   ]
  },
  {
   "cell_type": "code",
   "execution_count": 47,
   "metadata": {},
   "outputs": [],
   "source": [
    "df2 = df_budget_revenue.join(df.set_index('id'), on='id')\n"
   ]
  },
  {
   "cell_type": "code",
   "execution_count": 52,
   "metadata": {},
   "outputs": [
    {
     "data": {
      "text/html": [
       "<div>\n",
       "<style scoped>\n",
       "    .dataframe tbody tr th:only-of-type {\n",
       "        vertical-align: middle;\n",
       "    }\n",
       "\n",
       "    .dataframe tbody tr th {\n",
       "        vertical-align: top;\n",
       "    }\n",
       "\n",
       "    .dataframe thead th {\n",
       "        text-align: right;\n",
       "    }\n",
       "</style>\n",
       "<table border=\"1\" class=\"dataframe\">\n",
       "  <thead>\n",
       "    <tr style=\"text-align: right;\">\n",
       "      <th></th>\n",
       "      <th>id</th>\n",
       "      <th>budget</th>\n",
       "      <th>revenue</th>\n",
       "      <th>popularity</th>\n",
       "      <th>vote_count</th>\n",
       "      <th>original_title</th>\n",
       "      <th>genre_ids</th>\n",
       "      <th>title</th>\n",
       "      <th>vote_average</th>\n",
       "      <th>overview</th>\n",
       "      <th>release_date</th>\n",
       "    </tr>\n",
       "  </thead>\n",
       "  <tbody>\n",
       "    <tr>\n",
       "      <th>0</th>\n",
       "      <td>299534</td>\n",
       "      <td>356000000</td>\n",
       "      <td>2797800564</td>\n",
       "      <td>189.605</td>\n",
       "      <td>15353</td>\n",
       "      <td>Avengers: Endgame</td>\n",
       "      <td>[28, 12, 878]</td>\n",
       "      <td>Avengers: Endgame</td>\n",
       "      <td>8.3</td>\n",
       "      <td>After the devastating events of Avengers: Infi...</td>\n",
       "      <td>2019-04-24</td>\n",
       "    </tr>\n",
       "    <tr>\n",
       "      <th>1</th>\n",
       "      <td>420818</td>\n",
       "      <td>260000000</td>\n",
       "      <td>1656943394</td>\n",
       "      <td>166.569</td>\n",
       "      <td>6923</td>\n",
       "      <td>The Lion King</td>\n",
       "      <td>[12, 16, 10402, 10751]</td>\n",
       "      <td>The Lion King</td>\n",
       "      <td>7.2</td>\n",
       "      <td>Simba idolizes his father, King Mufasa, and ta...</td>\n",
       "      <td>2019-07-12</td>\n",
       "    </tr>\n",
       "    <tr>\n",
       "      <th>2</th>\n",
       "      <td>330457</td>\n",
       "      <td>150000000</td>\n",
       "      <td>1450026933</td>\n",
       "      <td>277.421</td>\n",
       "      <td>6264</td>\n",
       "      <td>Frozen II</td>\n",
       "      <td>[16, 10751, 12, 35, 14]</td>\n",
       "      <td>Frozen II</td>\n",
       "      <td>7.3</td>\n",
       "      <td>Elsa, Anna, Kristoff and Olaf head far into th...</td>\n",
       "      <td>2019-11-20</td>\n",
       "    </tr>\n",
       "    <tr>\n",
       "      <th>3</th>\n",
       "      <td>429617</td>\n",
       "      <td>160000000</td>\n",
       "      <td>1131927996</td>\n",
       "      <td>192.696</td>\n",
       "      <td>8511</td>\n",
       "      <td>Spider-Man: Far from Home</td>\n",
       "      <td>[28, 12, 878]</td>\n",
       "      <td>Spider-Man: Far from Home</td>\n",
       "      <td>7.6</td>\n",
       "      <td>Peter Parker and his friends go on a summer tr...</td>\n",
       "      <td>2019-06-28</td>\n",
       "    </tr>\n",
       "    <tr>\n",
       "      <th>4</th>\n",
       "      <td>299537</td>\n",
       "      <td>152000000</td>\n",
       "      <td>1128276090</td>\n",
       "      <td>121.159</td>\n",
       "      <td>10214</td>\n",
       "      <td>Captain Marvel</td>\n",
       "      <td>[28, 12, 878]</td>\n",
       "      <td>Captain Marvel</td>\n",
       "      <td>7.0</td>\n",
       "      <td>The story follows Carol Danvers as she becomes...</td>\n",
       "      <td>2019-03-06</td>\n",
       "    </tr>\n",
       "    <tr>\n",
       "      <th>...</th>\n",
       "      <td>...</td>\n",
       "      <td>...</td>\n",
       "      <td>...</td>\n",
       "      <td>...</td>\n",
       "      <td>...</td>\n",
       "      <td>...</td>\n",
       "      <td>...</td>\n",
       "      <td>...</td>\n",
       "      <td>...</td>\n",
       "      <td>...</td>\n",
       "      <td>...</td>\n",
       "    </tr>\n",
       "    <tr>\n",
       "      <th>95</th>\n",
       "      <td>445629</td>\n",
       "      <td>11000000</td>\n",
       "      <td>39055536</td>\n",
       "      <td>31.111</td>\n",
       "      <td>938</td>\n",
       "      <td>Fighting with My Family</td>\n",
       "      <td>[35, 18]</td>\n",
       "      <td>Fighting with My Family</td>\n",
       "      <td>6.8</td>\n",
       "      <td>Born into a tight-knit wrestling family, Paige...</td>\n",
       "      <td>2019-02-14</td>\n",
       "    </tr>\n",
       "    <tr>\n",
       "      <th>96</th>\n",
       "      <td>491283</td>\n",
       "      <td>0</td>\n",
       "      <td>38981322</td>\n",
       "      <td>15.962</td>\n",
       "      <td>619</td>\n",
       "      <td>Judy</td>\n",
       "      <td>[18]</td>\n",
       "      <td>Judy</td>\n",
       "      <td>6.8</td>\n",
       "      <td>Winter 1968 and showbiz legend Judy Garland ar...</td>\n",
       "      <td>2019-09-27</td>\n",
       "    </tr>\n",
       "    <tr>\n",
       "      <th>97</th>\n",
       "      <td>509730</td>\n",
       "      <td>0</td>\n",
       "      <td>36120360</td>\n",
       "      <td>30.238</td>\n",
       "      <td>219</td>\n",
       "      <td>The Queen's Corgi</td>\n",
       "      <td>[16, 10751]</td>\n",
       "      <td>The Queen's Corgi</td>\n",
       "      <td>5.8</td>\n",
       "      <td>Since his arrival at Buckingham palace, Rex li...</td>\n",
       "      <td>2019-02-13</td>\n",
       "    </tr>\n",
       "    <tr>\n",
       "      <th>98</th>\n",
       "      <td>541487</td>\n",
       "      <td>12000000</td>\n",
       "      <td>34000000</td>\n",
       "      <td>5.650</td>\n",
       "      <td>9</td>\n",
       "      <td>మహర్షి</td>\n",
       "      <td>[28, 18]</td>\n",
       "      <td>Maharshi</td>\n",
       "      <td>7.0</td>\n",
       "      <td>Rishi Kumar is a billionaire and the CEO of Or...</td>\n",
       "      <td>2019-05-09</td>\n",
       "    </tr>\n",
       "    <tr>\n",
       "      <th>99</th>\n",
       "      <td>491625</td>\n",
       "      <td>5782853</td>\n",
       "      <td>33974264</td>\n",
       "      <td>7.236</td>\n",
       "      <td>86</td>\n",
       "      <td>गल्ली बॉय</td>\n",
       "      <td>[18, 10402]</td>\n",
       "      <td>Gully Boy</td>\n",
       "      <td>7.6</td>\n",
       "      <td>A coming-of-age story based on the lives of st...</td>\n",
       "      <td>2019-02-14</td>\n",
       "    </tr>\n",
       "  </tbody>\n",
       "</table>\n",
       "<p>100 rows × 11 columns</p>\n",
       "</div>"
      ],
      "text/plain": [
       "        id     budget     revenue  popularity  vote_count  \\\n",
       "0   299534  356000000  2797800564     189.605       15353   \n",
       "1   420818  260000000  1656943394     166.569        6923   \n",
       "2   330457  150000000  1450026933     277.421        6264   \n",
       "3   429617  160000000  1131927996     192.696        8511   \n",
       "4   299537  152000000  1128276090     121.159       10214   \n",
       "..     ...        ...         ...         ...         ...   \n",
       "95  445629   11000000    39055536      31.111         938   \n",
       "96  491283          0    38981322      15.962         619   \n",
       "97  509730          0    36120360      30.238         219   \n",
       "98  541487   12000000    34000000       5.650           9   \n",
       "99  491625    5782853    33974264       7.236          86   \n",
       "\n",
       "               original_title                genre_ids  \\\n",
       "0           Avengers: Endgame            [28, 12, 878]   \n",
       "1               The Lion King   [12, 16, 10402, 10751]   \n",
       "2                   Frozen II  [16, 10751, 12, 35, 14]   \n",
       "3   Spider-Man: Far from Home            [28, 12, 878]   \n",
       "4              Captain Marvel            [28, 12, 878]   \n",
       "..                        ...                      ...   \n",
       "95    Fighting with My Family                 [35, 18]   \n",
       "96                       Judy                     [18]   \n",
       "97          The Queen's Corgi              [16, 10751]   \n",
       "98                     మహర్షి                 [28, 18]   \n",
       "99                  गल्ली बॉय              [18, 10402]   \n",
       "\n",
       "                        title  vote_average  \\\n",
       "0           Avengers: Endgame           8.3   \n",
       "1               The Lion King           7.2   \n",
       "2                   Frozen II           7.3   \n",
       "3   Spider-Man: Far from Home           7.6   \n",
       "4              Captain Marvel           7.0   \n",
       "..                        ...           ...   \n",
       "95    Fighting with My Family           6.8   \n",
       "96                       Judy           6.8   \n",
       "97          The Queen's Corgi           5.8   \n",
       "98                   Maharshi           7.0   \n",
       "99                  Gully Boy           7.6   \n",
       "\n",
       "                                             overview release_date  \n",
       "0   After the devastating events of Avengers: Infi...   2019-04-24  \n",
       "1   Simba idolizes his father, King Mufasa, and ta...   2019-07-12  \n",
       "2   Elsa, Anna, Kristoff and Olaf head far into th...   2019-11-20  \n",
       "3   Peter Parker and his friends go on a summer tr...   2019-06-28  \n",
       "4   The story follows Carol Danvers as she becomes...   2019-03-06  \n",
       "..                                                ...          ...  \n",
       "95  Born into a tight-knit wrestling family, Paige...   2019-02-14  \n",
       "96  Winter 1968 and showbiz legend Judy Garland ar...   2019-09-27  \n",
       "97  Since his arrival at Buckingham palace, Rex li...   2019-02-13  \n",
       "98  Rishi Kumar is a billionaire and the CEO of Or...   2019-05-09  \n",
       "99  A coming-of-age story based on the lives of st...   2019-02-14  \n",
       "\n",
       "[100 rows x 11 columns]"
      ]
     },
     "execution_count": 52,
     "metadata": {},
     "output_type": "execute_result"
    }
   ],
   "source": [
    "df2"
   ]
  },
  {
   "cell_type": "code",
   "execution_count": 57,
   "metadata": {},
   "outputs": [
    {
     "data": {
      "text/html": [
       "<div>\n",
       "<style scoped>\n",
       "    .dataframe tbody tr th:only-of-type {\n",
       "        vertical-align: middle;\n",
       "    }\n",
       "\n",
       "    .dataframe tbody tr th {\n",
       "        vertical-align: top;\n",
       "    }\n",
       "\n",
       "    .dataframe thead th {\n",
       "        text-align: right;\n",
       "    }\n",
       "</style>\n",
       "<table border=\"1\" class=\"dataframe\">\n",
       "  <thead>\n",
       "    <tr style=\"text-align: right;\">\n",
       "      <th></th>\n",
       "      <th>id</th>\n",
       "      <th>budget</th>\n",
       "      <th>revenue</th>\n",
       "    </tr>\n",
       "  </thead>\n",
       "  <tbody>\n",
       "    <tr>\n",
       "      <th>0</th>\n",
       "      <td>299534</td>\n",
       "      <td>356000000</td>\n",
       "      <td>2797800564</td>\n",
       "    </tr>\n",
       "    <tr>\n",
       "      <th>1</th>\n",
       "      <td>420818</td>\n",
       "      <td>260000000</td>\n",
       "      <td>1656943394</td>\n",
       "    </tr>\n",
       "    <tr>\n",
       "      <th>2</th>\n",
       "      <td>330457</td>\n",
       "      <td>150000000</td>\n",
       "      <td>1450026933</td>\n",
       "    </tr>\n",
       "    <tr>\n",
       "      <th>3</th>\n",
       "      <td>429617</td>\n",
       "      <td>160000000</td>\n",
       "      <td>1131927996</td>\n",
       "    </tr>\n",
       "    <tr>\n",
       "      <th>4</th>\n",
       "      <td>299537</td>\n",
       "      <td>152000000</td>\n",
       "      <td>1128276090</td>\n",
       "    </tr>\n",
       "    <tr>\n",
       "      <th>...</th>\n",
       "      <td>...</td>\n",
       "      <td>...</td>\n",
       "      <td>...</td>\n",
       "    </tr>\n",
       "    <tr>\n",
       "      <th>95</th>\n",
       "      <td>445629</td>\n",
       "      <td>11000000</td>\n",
       "      <td>39055536</td>\n",
       "    </tr>\n",
       "    <tr>\n",
       "      <th>96</th>\n",
       "      <td>491283</td>\n",
       "      <td>0</td>\n",
       "      <td>38981322</td>\n",
       "    </tr>\n",
       "    <tr>\n",
       "      <th>97</th>\n",
       "      <td>509730</td>\n",
       "      <td>0</td>\n",
       "      <td>36120360</td>\n",
       "    </tr>\n",
       "    <tr>\n",
       "      <th>98</th>\n",
       "      <td>541487</td>\n",
       "      <td>12000000</td>\n",
       "      <td>34000000</td>\n",
       "    </tr>\n",
       "    <tr>\n",
       "      <th>99</th>\n",
       "      <td>491625</td>\n",
       "      <td>5782853</td>\n",
       "      <td>33974264</td>\n",
       "    </tr>\n",
       "  </tbody>\n",
       "</table>\n",
       "<p>100 rows × 3 columns</p>\n",
       "</div>"
      ],
      "text/plain": [
       "        id     budget     revenue\n",
       "0   299534  356000000  2797800564\n",
       "1   420818  260000000  1656943394\n",
       "2   330457  150000000  1450026933\n",
       "3   429617  160000000  1131927996\n",
       "4   299537  152000000  1128276090\n",
       "..     ...        ...         ...\n",
       "95  445629   11000000    39055536\n",
       "96  491283          0    38981322\n",
       "97  509730          0    36120360\n",
       "98  541487   12000000    34000000\n",
       "99  491625    5782853    33974264\n",
       "\n",
       "[100 rows x 3 columns]"
      ]
     },
     "execution_count": 57,
     "metadata": {},
     "output_type": "execute_result"
    }
   ],
   "source": [
    "df_budget_revenue"
   ]
  },
  {
   "cell_type": "code",
   "execution_count": 74,
   "metadata": {},
   "outputs": [],
   "source": [
    "df_budget_revenue.drop(['gross_profit'], axis=1, inplace=True)"
   ]
  },
  {
   "cell_type": "code",
   "execution_count": 75,
   "metadata": {},
   "outputs": [
    {
     "data": {
      "text/html": [
       "<div>\n",
       "<style scoped>\n",
       "    .dataframe tbody tr th:only-of-type {\n",
       "        vertical-align: middle;\n",
       "    }\n",
       "\n",
       "    .dataframe tbody tr th {\n",
       "        vertical-align: top;\n",
       "    }\n",
       "\n",
       "    .dataframe thead th {\n",
       "        text-align: right;\n",
       "    }\n",
       "</style>\n",
       "<table border=\"1\" class=\"dataframe\">\n",
       "  <thead>\n",
       "    <tr style=\"text-align: right;\">\n",
       "      <th></th>\n",
       "      <th>id</th>\n",
       "      <th>budget</th>\n",
       "      <th>revenue</th>\n",
       "    </tr>\n",
       "  </thead>\n",
       "  <tbody>\n",
       "    <tr>\n",
       "      <th>0</th>\n",
       "      <td>299534</td>\n",
       "      <td>356000000</td>\n",
       "      <td>2797800564</td>\n",
       "    </tr>\n",
       "    <tr>\n",
       "      <th>1</th>\n",
       "      <td>420818</td>\n",
       "      <td>260000000</td>\n",
       "      <td>1656943394</td>\n",
       "    </tr>\n",
       "    <tr>\n",
       "      <th>2</th>\n",
       "      <td>330457</td>\n",
       "      <td>150000000</td>\n",
       "      <td>1450026933</td>\n",
       "    </tr>\n",
       "    <tr>\n",
       "      <th>3</th>\n",
       "      <td>429617</td>\n",
       "      <td>160000000</td>\n",
       "      <td>1131927996</td>\n",
       "    </tr>\n",
       "    <tr>\n",
       "      <th>4</th>\n",
       "      <td>299537</td>\n",
       "      <td>152000000</td>\n",
       "      <td>1128276090</td>\n",
       "    </tr>\n",
       "    <tr>\n",
       "      <th>...</th>\n",
       "      <td>...</td>\n",
       "      <td>...</td>\n",
       "      <td>...</td>\n",
       "    </tr>\n",
       "    <tr>\n",
       "      <th>95</th>\n",
       "      <td>445629</td>\n",
       "      <td>11000000</td>\n",
       "      <td>39055536</td>\n",
       "    </tr>\n",
       "    <tr>\n",
       "      <th>96</th>\n",
       "      <td>491283</td>\n",
       "      <td>0</td>\n",
       "      <td>38981322</td>\n",
       "    </tr>\n",
       "    <tr>\n",
       "      <th>97</th>\n",
       "      <td>509730</td>\n",
       "      <td>0</td>\n",
       "      <td>36120360</td>\n",
       "    </tr>\n",
       "    <tr>\n",
       "      <th>98</th>\n",
       "      <td>541487</td>\n",
       "      <td>12000000</td>\n",
       "      <td>34000000</td>\n",
       "    </tr>\n",
       "    <tr>\n",
       "      <th>99</th>\n",
       "      <td>491625</td>\n",
       "      <td>5782853</td>\n",
       "      <td>33974264</td>\n",
       "    </tr>\n",
       "  </tbody>\n",
       "</table>\n",
       "<p>100 rows × 3 columns</p>\n",
       "</div>"
      ],
      "text/plain": [
       "        id     budget     revenue\n",
       "0   299534  356000000  2797800564\n",
       "1   420818  260000000  1656943394\n",
       "2   330457  150000000  1450026933\n",
       "3   429617  160000000  1131927996\n",
       "4   299537  152000000  1128276090\n",
       "..     ...        ...         ...\n",
       "95  445629   11000000    39055536\n",
       "96  491283          0    38981322\n",
       "97  509730          0    36120360\n",
       "98  541487   12000000    34000000\n",
       "99  491625    5782853    33974264\n",
       "\n",
       "[100 rows x 3 columns]"
      ]
     },
     "execution_count": 75,
     "metadata": {},
     "output_type": "execute_result"
    }
   ],
   "source": [
    "df_budget_revenue"
   ]
  },
  {
   "cell_type": "code",
   "execution_count": 76,
   "metadata": {},
   "outputs": [],
   "source": [
    "df_budget_revenue['gross_profit'] = df_budget_revenue['revenue'] - df_budget_revenue['budget']"
   ]
  },
  {
   "cell_type": "code",
   "execution_count": 77,
   "metadata": {},
   "outputs": [
    {
     "data": {
      "text/html": [
       "<div>\n",
       "<style scoped>\n",
       "    .dataframe tbody tr th:only-of-type {\n",
       "        vertical-align: middle;\n",
       "    }\n",
       "\n",
       "    .dataframe tbody tr th {\n",
       "        vertical-align: top;\n",
       "    }\n",
       "\n",
       "    .dataframe thead th {\n",
       "        text-align: right;\n",
       "    }\n",
       "</style>\n",
       "<table border=\"1\" class=\"dataframe\">\n",
       "  <thead>\n",
       "    <tr style=\"text-align: right;\">\n",
       "      <th></th>\n",
       "      <th>id</th>\n",
       "      <th>budget</th>\n",
       "      <th>revenue</th>\n",
       "      <th>gross_profit</th>\n",
       "    </tr>\n",
       "  </thead>\n",
       "  <tbody>\n",
       "    <tr>\n",
       "      <th>0</th>\n",
       "      <td>299534</td>\n",
       "      <td>356000000</td>\n",
       "      <td>2797800564</td>\n",
       "      <td>2441800564</td>\n",
       "    </tr>\n",
       "    <tr>\n",
       "      <th>1</th>\n",
       "      <td>420818</td>\n",
       "      <td>260000000</td>\n",
       "      <td>1656943394</td>\n",
       "      <td>1396943394</td>\n",
       "    </tr>\n",
       "    <tr>\n",
       "      <th>2</th>\n",
       "      <td>330457</td>\n",
       "      <td>150000000</td>\n",
       "      <td>1450026933</td>\n",
       "      <td>1300026933</td>\n",
       "    </tr>\n",
       "    <tr>\n",
       "      <th>3</th>\n",
       "      <td>429617</td>\n",
       "      <td>160000000</td>\n",
       "      <td>1131927996</td>\n",
       "      <td>971927996</td>\n",
       "    </tr>\n",
       "    <tr>\n",
       "      <th>4</th>\n",
       "      <td>299537</td>\n",
       "      <td>152000000</td>\n",
       "      <td>1128276090</td>\n",
       "      <td>976276090</td>\n",
       "    </tr>\n",
       "    <tr>\n",
       "      <th>...</th>\n",
       "      <td>...</td>\n",
       "      <td>...</td>\n",
       "      <td>...</td>\n",
       "      <td>...</td>\n",
       "    </tr>\n",
       "    <tr>\n",
       "      <th>95</th>\n",
       "      <td>445629</td>\n",
       "      <td>11000000</td>\n",
       "      <td>39055536</td>\n",
       "      <td>28055536</td>\n",
       "    </tr>\n",
       "    <tr>\n",
       "      <th>96</th>\n",
       "      <td>491283</td>\n",
       "      <td>0</td>\n",
       "      <td>38981322</td>\n",
       "      <td>38981322</td>\n",
       "    </tr>\n",
       "    <tr>\n",
       "      <th>97</th>\n",
       "      <td>509730</td>\n",
       "      <td>0</td>\n",
       "      <td>36120360</td>\n",
       "      <td>36120360</td>\n",
       "    </tr>\n",
       "    <tr>\n",
       "      <th>98</th>\n",
       "      <td>541487</td>\n",
       "      <td>12000000</td>\n",
       "      <td>34000000</td>\n",
       "      <td>22000000</td>\n",
       "    </tr>\n",
       "    <tr>\n",
       "      <th>99</th>\n",
       "      <td>491625</td>\n",
       "      <td>5782853</td>\n",
       "      <td>33974264</td>\n",
       "      <td>28191411</td>\n",
       "    </tr>\n",
       "  </tbody>\n",
       "</table>\n",
       "<p>100 rows × 4 columns</p>\n",
       "</div>"
      ],
      "text/plain": [
       "        id     budget     revenue  gross_profit\n",
       "0   299534  356000000  2797800564    2441800564\n",
       "1   420818  260000000  1656943394    1396943394\n",
       "2   330457  150000000  1450026933    1300026933\n",
       "3   429617  160000000  1131927996     971927996\n",
       "4   299537  152000000  1128276090     976276090\n",
       "..     ...        ...         ...           ...\n",
       "95  445629   11000000    39055536      28055536\n",
       "96  491283          0    38981322      38981322\n",
       "97  509730          0    36120360      36120360\n",
       "98  541487   12000000    34000000      22000000\n",
       "99  491625    5782853    33974264      28191411\n",
       "\n",
       "[100 rows x 4 columns]"
      ]
     },
     "execution_count": 77,
     "metadata": {},
     "output_type": "execute_result"
    }
   ],
   "source": [
    "df_budget_revenue"
   ]
  },
  {
   "cell_type": "code",
   "execution_count": 78,
   "metadata": {},
   "outputs": [],
   "source": [
    "df3 = df_budget_revenue.join(df.set_index('id'), on='id')"
   ]
  },
  {
   "cell_type": "code",
   "execution_count": 84,
   "metadata": {},
   "outputs": [
    {
     "data": {
      "text/html": [
       "<div>\n",
       "<style scoped>\n",
       "    .dataframe tbody tr th:only-of-type {\n",
       "        vertical-align: middle;\n",
       "    }\n",
       "\n",
       "    .dataframe tbody tr th {\n",
       "        vertical-align: top;\n",
       "    }\n",
       "\n",
       "    .dataframe thead th {\n",
       "        text-align: right;\n",
       "    }\n",
       "</style>\n",
       "<table border=\"1\" class=\"dataframe\">\n",
       "  <thead>\n",
       "    <tr style=\"text-align: right;\">\n",
       "      <th></th>\n",
       "      <th>id</th>\n",
       "      <th>budget</th>\n",
       "      <th>revenue</th>\n",
       "      <th>gross_profit</th>\n",
       "      <th>popularity</th>\n",
       "      <th>vote_count</th>\n",
       "      <th>video</th>\n",
       "      <th>poster_path</th>\n",
       "      <th>adult</th>\n",
       "      <th>backdrop_path</th>\n",
       "      <th>original_language</th>\n",
       "      <th>original_title</th>\n",
       "      <th>genre_ids</th>\n",
       "      <th>title</th>\n",
       "      <th>vote_average</th>\n",
       "      <th>overview</th>\n",
       "      <th>release_date</th>\n",
       "    </tr>\n",
       "  </thead>\n",
       "  <tbody>\n",
       "    <tr>\n",
       "      <th>0</th>\n",
       "      <td>299534</td>\n",
       "      <td>356000000</td>\n",
       "      <td>2797800564</td>\n",
       "      <td>2441800564</td>\n",
       "      <td>189.605</td>\n",
       "      <td>15353</td>\n",
       "      <td>False</td>\n",
       "      <td>/or06FN3Dka5tukK1e9sl16pB3iy.jpg</td>\n",
       "      <td>False</td>\n",
       "      <td>/orjiB3oUIsyz60hoEqkiGpy5CeO.jpg</td>\n",
       "      <td>en</td>\n",
       "      <td>Avengers: Endgame</td>\n",
       "      <td>[28, 12, 878]</td>\n",
       "      <td>Avengers: Endgame</td>\n",
       "      <td>8.3</td>\n",
       "      <td>After the devastating events of Avengers: Infi...</td>\n",
       "      <td>2019-04-24</td>\n",
       "    </tr>\n",
       "    <tr>\n",
       "      <th>1</th>\n",
       "      <td>420818</td>\n",
       "      <td>260000000</td>\n",
       "      <td>1656943394</td>\n",
       "      <td>1396943394</td>\n",
       "      <td>166.569</td>\n",
       "      <td>6923</td>\n",
       "      <td>False</td>\n",
       "      <td>/dzBtMocZuJbjLOXvrl4zGYigDzh.jpg</td>\n",
       "      <td>False</td>\n",
       "      <td>/nRXO2SnOA75OsWhNhXstHB8ZmI3.jpg</td>\n",
       "      <td>en</td>\n",
       "      <td>The Lion King</td>\n",
       "      <td>[12, 16, 10402, 10751]</td>\n",
       "      <td>The Lion King</td>\n",
       "      <td>7.2</td>\n",
       "      <td>Simba idolizes his father, King Mufasa, and ta...</td>\n",
       "      <td>2019-07-12</td>\n",
       "    </tr>\n",
       "    <tr>\n",
       "      <th>2</th>\n",
       "      <td>330457</td>\n",
       "      <td>150000000</td>\n",
       "      <td>1450026933</td>\n",
       "      <td>1300026933</td>\n",
       "      <td>277.421</td>\n",
       "      <td>6264</td>\n",
       "      <td>False</td>\n",
       "      <td>/pjeMs3yqRmFL3giJy4PMXWZTTPa.jpg</td>\n",
       "      <td>False</td>\n",
       "      <td>/xJWPZIYOEFIjZpBL7SVBGnzRYXp.jpg</td>\n",
       "      <td>en</td>\n",
       "      <td>Frozen II</td>\n",
       "      <td>[16, 10751, 12, 35, 14]</td>\n",
       "      <td>Frozen II</td>\n",
       "      <td>7.3</td>\n",
       "      <td>Elsa, Anna, Kristoff and Olaf head far into th...</td>\n",
       "      <td>2019-11-20</td>\n",
       "    </tr>\n",
       "    <tr>\n",
       "      <th>3</th>\n",
       "      <td>429617</td>\n",
       "      <td>160000000</td>\n",
       "      <td>1131927996</td>\n",
       "      <td>971927996</td>\n",
       "      <td>192.696</td>\n",
       "      <td>8511</td>\n",
       "      <td>False</td>\n",
       "      <td>/4q2NNj4S5dG2RLF9CpXsej7yXl.jpg</td>\n",
       "      <td>False</td>\n",
       "      <td>/5myQbDzw3l8K9yofUXRJ4UTVgam.jpg</td>\n",
       "      <td>en</td>\n",
       "      <td>Spider-Man: Far from Home</td>\n",
       "      <td>[28, 12, 878]</td>\n",
       "      <td>Spider-Man: Far from Home</td>\n",
       "      <td>7.6</td>\n",
       "      <td>Peter Parker and his friends go on a summer tr...</td>\n",
       "      <td>2019-06-28</td>\n",
       "    </tr>\n",
       "    <tr>\n",
       "      <th>4</th>\n",
       "      <td>299537</td>\n",
       "      <td>152000000</td>\n",
       "      <td>1128276090</td>\n",
       "      <td>976276090</td>\n",
       "      <td>121.159</td>\n",
       "      <td>10214</td>\n",
       "      <td>False</td>\n",
       "      <td>/AtsgWhDnHTq68L0lLsUrCnM7TjG.jpg</td>\n",
       "      <td>False</td>\n",
       "      <td>/w2PMyoyLU22YvrGK3smVM9fW1jj.jpg</td>\n",
       "      <td>en</td>\n",
       "      <td>Captain Marvel</td>\n",
       "      <td>[28, 12, 878]</td>\n",
       "      <td>Captain Marvel</td>\n",
       "      <td>7.0</td>\n",
       "      <td>The story follows Carol Danvers as she becomes...</td>\n",
       "      <td>2019-03-06</td>\n",
       "    </tr>\n",
       "    <tr>\n",
       "      <th>...</th>\n",
       "      <td>...</td>\n",
       "      <td>...</td>\n",
       "      <td>...</td>\n",
       "      <td>...</td>\n",
       "      <td>...</td>\n",
       "      <td>...</td>\n",
       "      <td>...</td>\n",
       "      <td>...</td>\n",
       "      <td>...</td>\n",
       "      <td>...</td>\n",
       "      <td>...</td>\n",
       "      <td>...</td>\n",
       "      <td>...</td>\n",
       "      <td>...</td>\n",
       "      <td>...</td>\n",
       "      <td>...</td>\n",
       "      <td>...</td>\n",
       "    </tr>\n",
       "    <tr>\n",
       "      <th>95</th>\n",
       "      <td>445629</td>\n",
       "      <td>11000000</td>\n",
       "      <td>39055536</td>\n",
       "      <td>28055536</td>\n",
       "      <td>31.111</td>\n",
       "      <td>938</td>\n",
       "      <td>False</td>\n",
       "      <td>/cVhe15rJLRjolunSWLBN6xQLyGU.jpg</td>\n",
       "      <td>False</td>\n",
       "      <td>/3ZORgdbK8wglKL8Vb4KTl465BfJ.jpg</td>\n",
       "      <td>en</td>\n",
       "      <td>Fighting with My Family</td>\n",
       "      <td>[35, 18]</td>\n",
       "      <td>Fighting with My Family</td>\n",
       "      <td>6.8</td>\n",
       "      <td>Born into a tight-knit wrestling family, Paige...</td>\n",
       "      <td>2019-02-14</td>\n",
       "    </tr>\n",
       "    <tr>\n",
       "      <th>96</th>\n",
       "      <td>491283</td>\n",
       "      <td>0</td>\n",
       "      <td>38981322</td>\n",
       "      <td>38981322</td>\n",
       "      <td>15.962</td>\n",
       "      <td>619</td>\n",
       "      <td>False</td>\n",
       "      <td>/iqJhHjD6k6T07waELjMKDpQJUP.jpg</td>\n",
       "      <td>False</td>\n",
       "      <td>/hJXxDoCwchAuJ4K3gwtno2chgr8.jpg</td>\n",
       "      <td>en</td>\n",
       "      <td>Judy</td>\n",
       "      <td>[18]</td>\n",
       "      <td>Judy</td>\n",
       "      <td>6.8</td>\n",
       "      <td>Winter 1968 and showbiz legend Judy Garland ar...</td>\n",
       "      <td>2019-09-27</td>\n",
       "    </tr>\n",
       "    <tr>\n",
       "      <th>97</th>\n",
       "      <td>509730</td>\n",
       "      <td>0</td>\n",
       "      <td>36120360</td>\n",
       "      <td>36120360</td>\n",
       "      <td>30.238</td>\n",
       "      <td>219</td>\n",
       "      <td>False</td>\n",
       "      <td>/xcl4vYTqqzwn3ihUpjCQz0jqhV3.jpg</td>\n",
       "      <td>False</td>\n",
       "      <td>/h1IhhdKIq56cFO8RuZZoU21a4Zu.jpg</td>\n",
       "      <td>en</td>\n",
       "      <td>The Queen's Corgi</td>\n",
       "      <td>[16, 10751]</td>\n",
       "      <td>The Queen's Corgi</td>\n",
       "      <td>5.8</td>\n",
       "      <td>Since his arrival at Buckingham palace, Rex li...</td>\n",
       "      <td>2019-02-13</td>\n",
       "    </tr>\n",
       "    <tr>\n",
       "      <th>98</th>\n",
       "      <td>541487</td>\n",
       "      <td>12000000</td>\n",
       "      <td>34000000</td>\n",
       "      <td>22000000</td>\n",
       "      <td>5.650</td>\n",
       "      <td>9</td>\n",
       "      <td>False</td>\n",
       "      <td>/pV6xLQh54ga8oaQqJtUqLp12LwQ.jpg</td>\n",
       "      <td>False</td>\n",
       "      <td>/xqYYqPbU5T0F9uM0AvggFSBdh99.jpg</td>\n",
       "      <td>te</td>\n",
       "      <td>మహర్షి</td>\n",
       "      <td>[28, 18]</td>\n",
       "      <td>Maharshi</td>\n",
       "      <td>7.0</td>\n",
       "      <td>Rishi Kumar is a billionaire and the CEO of Or...</td>\n",
       "      <td>2019-05-09</td>\n",
       "    </tr>\n",
       "    <tr>\n",
       "      <th>99</th>\n",
       "      <td>491625</td>\n",
       "      <td>5782853</td>\n",
       "      <td>33974264</td>\n",
       "      <td>28191411</td>\n",
       "      <td>7.236</td>\n",
       "      <td>86</td>\n",
       "      <td>False</td>\n",
       "      <td>/4RE7TD5TqEXbPKyUHcn7CSeMlrJ.jpg</td>\n",
       "      <td>False</td>\n",
       "      <td>/gcZbciueHH7WmD03GcVZX7LYqmR.jpg</td>\n",
       "      <td>hi</td>\n",
       "      <td>गल्ली बॉय</td>\n",
       "      <td>[18, 10402]</td>\n",
       "      <td>Gully Boy</td>\n",
       "      <td>7.6</td>\n",
       "      <td>A coming-of-age story based on the lives of st...</td>\n",
       "      <td>2019-02-14</td>\n",
       "    </tr>\n",
       "  </tbody>\n",
       "</table>\n",
       "<p>100 rows × 17 columns</p>\n",
       "</div>"
      ],
      "text/plain": [
       "        id     budget     revenue  gross_profit  popularity  vote_count  \\\n",
       "0   299534  356000000  2797800564    2441800564     189.605       15353   \n",
       "1   420818  260000000  1656943394    1396943394     166.569        6923   \n",
       "2   330457  150000000  1450026933    1300026933     277.421        6264   \n",
       "3   429617  160000000  1131927996     971927996     192.696        8511   \n",
       "4   299537  152000000  1128276090     976276090     121.159       10214   \n",
       "..     ...        ...         ...           ...         ...         ...   \n",
       "95  445629   11000000    39055536      28055536      31.111         938   \n",
       "96  491283          0    38981322      38981322      15.962         619   \n",
       "97  509730          0    36120360      36120360      30.238         219   \n",
       "98  541487   12000000    34000000      22000000       5.650           9   \n",
       "99  491625    5782853    33974264      28191411       7.236          86   \n",
       "\n",
       "    video                       poster_path  adult  \\\n",
       "0   False  /or06FN3Dka5tukK1e9sl16pB3iy.jpg  False   \n",
       "1   False  /dzBtMocZuJbjLOXvrl4zGYigDzh.jpg  False   \n",
       "2   False  /pjeMs3yqRmFL3giJy4PMXWZTTPa.jpg  False   \n",
       "3   False   /4q2NNj4S5dG2RLF9CpXsej7yXl.jpg  False   \n",
       "4   False  /AtsgWhDnHTq68L0lLsUrCnM7TjG.jpg  False   \n",
       "..    ...                               ...    ...   \n",
       "95  False  /cVhe15rJLRjolunSWLBN6xQLyGU.jpg  False   \n",
       "96  False   /iqJhHjD6k6T07waELjMKDpQJUP.jpg  False   \n",
       "97  False  /xcl4vYTqqzwn3ihUpjCQz0jqhV3.jpg  False   \n",
       "98  False  /pV6xLQh54ga8oaQqJtUqLp12LwQ.jpg  False   \n",
       "99  False  /4RE7TD5TqEXbPKyUHcn7CSeMlrJ.jpg  False   \n",
       "\n",
       "                       backdrop_path original_language  \\\n",
       "0   /orjiB3oUIsyz60hoEqkiGpy5CeO.jpg                en   \n",
       "1   /nRXO2SnOA75OsWhNhXstHB8ZmI3.jpg                en   \n",
       "2   /xJWPZIYOEFIjZpBL7SVBGnzRYXp.jpg                en   \n",
       "3   /5myQbDzw3l8K9yofUXRJ4UTVgam.jpg                en   \n",
       "4   /w2PMyoyLU22YvrGK3smVM9fW1jj.jpg                en   \n",
       "..                               ...               ...   \n",
       "95  /3ZORgdbK8wglKL8Vb4KTl465BfJ.jpg                en   \n",
       "96  /hJXxDoCwchAuJ4K3gwtno2chgr8.jpg                en   \n",
       "97  /h1IhhdKIq56cFO8RuZZoU21a4Zu.jpg                en   \n",
       "98  /xqYYqPbU5T0F9uM0AvggFSBdh99.jpg                te   \n",
       "99  /gcZbciueHH7WmD03GcVZX7LYqmR.jpg                hi   \n",
       "\n",
       "               original_title                genre_ids  \\\n",
       "0           Avengers: Endgame            [28, 12, 878]   \n",
       "1               The Lion King   [12, 16, 10402, 10751]   \n",
       "2                   Frozen II  [16, 10751, 12, 35, 14]   \n",
       "3   Spider-Man: Far from Home            [28, 12, 878]   \n",
       "4              Captain Marvel            [28, 12, 878]   \n",
       "..                        ...                      ...   \n",
       "95    Fighting with My Family                 [35, 18]   \n",
       "96                       Judy                     [18]   \n",
       "97          The Queen's Corgi              [16, 10751]   \n",
       "98                     మహర్షి                 [28, 18]   \n",
       "99                  गल्ली बॉय              [18, 10402]   \n",
       "\n",
       "                        title  vote_average  \\\n",
       "0           Avengers: Endgame           8.3   \n",
       "1               The Lion King           7.2   \n",
       "2                   Frozen II           7.3   \n",
       "3   Spider-Man: Far from Home           7.6   \n",
       "4              Captain Marvel           7.0   \n",
       "..                        ...           ...   \n",
       "95    Fighting with My Family           6.8   \n",
       "96                       Judy           6.8   \n",
       "97          The Queen's Corgi           5.8   \n",
       "98                   Maharshi           7.0   \n",
       "99                  Gully Boy           7.6   \n",
       "\n",
       "                                             overview release_date  \n",
       "0   After the devastating events of Avengers: Infi...   2019-04-24  \n",
       "1   Simba idolizes his father, King Mufasa, and ta...   2019-07-12  \n",
       "2   Elsa, Anna, Kristoff and Olaf head far into th...   2019-11-20  \n",
       "3   Peter Parker and his friends go on a summer tr...   2019-06-28  \n",
       "4   The story follows Carol Danvers as she becomes...   2019-03-06  \n",
       "..                                                ...          ...  \n",
       "95  Born into a tight-knit wrestling family, Paige...   2019-02-14  \n",
       "96  Winter 1968 and showbiz legend Judy Garland ar...   2019-09-27  \n",
       "97  Since his arrival at Buckingham palace, Rex li...   2019-02-13  \n",
       "98  Rishi Kumar is a billionaire and the CEO of Or...   2019-05-09  \n",
       "99  A coming-of-age story based on the lives of st...   2019-02-14  \n",
       "\n",
       "[100 rows x 17 columns]"
      ]
     },
     "execution_count": 84,
     "metadata": {},
     "output_type": "execute_result"
    }
   ],
   "source": [
    "df3"
   ]
  },
  {
   "cell_type": "code",
   "execution_count": null,
   "metadata": {},
   "outputs": [],
   "source": []
  },
  {
   "cell_type": "code",
   "execution_count": null,
   "metadata": {
    "scrolled": false
   },
   "outputs": [],
   "source": []
  },
  {
   "cell_type": "code",
   "execution_count": 92,
   "metadata": {},
   "outputs": [
    {
     "name": "stdout",
     "output_type": "stream",
     "text": [
      "<class 'pandas.core.frame.DataFrame'>\n",
      "RangeIndex: 100 entries, 0 to 99\n",
      "Data columns (total 9 columns):\n",
      "id                100 non-null int64\n",
      "budget            100 non-null int64\n",
      "revenue           100 non-null int64\n",
      "gross_profit      100 non-null int64\n",
      "popularity        100 non-null float64\n",
      "original_title    100 non-null object\n",
      "title             100 non-null object\n",
      "vote_average      100 non-null float64\n",
      "release_date      100 non-null object\n",
      "dtypes: float64(2), int64(4), object(3)\n",
      "memory usage: 7.2+ KB\n"
     ]
    }
   ],
   "source": [
    "df3.info()"
   ]
  },
  {
   "cell_type": "code",
   "execution_count": 96,
   "metadata": {},
   "outputs": [
    {
     "name": "stdout",
     "output_type": "stream",
     "text": [
      "<class 'pandas.core.frame.DataFrame'>\n",
      "RangeIndex: 100 entries, 0 to 99\n",
      "Data columns (total 9 columns):\n",
      "id                100 non-null int64\n",
      "budget            100 non-null int64\n",
      "revenue           100 non-null int64\n",
      "gross_profit      100 non-null int64\n",
      "popularity        100 non-null float64\n",
      "original_title    100 non-null object\n",
      "title             100 non-null object\n",
      "vote_average      100 non-null float64\n",
      "release_date      100 non-null object\n",
      "dtypes: float64(2), int64(4), object(3)\n",
      "memory usage: 7.2+ KB\n"
     ]
    }
   ],
   "source": [
    "df3.info()"
   ]
  },
  {
   "cell_type": "code",
   "execution_count": 97,
   "metadata": {},
   "outputs": [],
   "source": [
    "df3.drop(['original_title'], axis=1, inplace=True)"
   ]
  },
  {
   "cell_type": "code",
   "execution_count": 98,
   "metadata": {},
   "outputs": [
    {
     "data": {
      "text/html": [
       "<div>\n",
       "<style scoped>\n",
       "    .dataframe tbody tr th:only-of-type {\n",
       "        vertical-align: middle;\n",
       "    }\n",
       "\n",
       "    .dataframe tbody tr th {\n",
       "        vertical-align: top;\n",
       "    }\n",
       "\n",
       "    .dataframe thead th {\n",
       "        text-align: right;\n",
       "    }\n",
       "</style>\n",
       "<table border=\"1\" class=\"dataframe\">\n",
       "  <thead>\n",
       "    <tr style=\"text-align: right;\">\n",
       "      <th></th>\n",
       "      <th>id</th>\n",
       "      <th>budget</th>\n",
       "      <th>revenue</th>\n",
       "      <th>gross_profit</th>\n",
       "      <th>popularity</th>\n",
       "      <th>title</th>\n",
       "      <th>vote_average</th>\n",
       "      <th>release_date</th>\n",
       "    </tr>\n",
       "  </thead>\n",
       "  <tbody>\n",
       "    <tr>\n",
       "      <th>0</th>\n",
       "      <td>299534</td>\n",
       "      <td>356000000</td>\n",
       "      <td>2797800564</td>\n",
       "      <td>2441800564</td>\n",
       "      <td>189.605</td>\n",
       "      <td>Avengers: Endgame</td>\n",
       "      <td>8.3</td>\n",
       "      <td>2019-04-24</td>\n",
       "    </tr>\n",
       "    <tr>\n",
       "      <th>1</th>\n",
       "      <td>420818</td>\n",
       "      <td>260000000</td>\n",
       "      <td>1656943394</td>\n",
       "      <td>1396943394</td>\n",
       "      <td>166.569</td>\n",
       "      <td>The Lion King</td>\n",
       "      <td>7.2</td>\n",
       "      <td>2019-07-12</td>\n",
       "    </tr>\n",
       "    <tr>\n",
       "      <th>2</th>\n",
       "      <td>330457</td>\n",
       "      <td>150000000</td>\n",
       "      <td>1450026933</td>\n",
       "      <td>1300026933</td>\n",
       "      <td>277.421</td>\n",
       "      <td>Frozen II</td>\n",
       "      <td>7.3</td>\n",
       "      <td>2019-11-20</td>\n",
       "    </tr>\n",
       "    <tr>\n",
       "      <th>3</th>\n",
       "      <td>429617</td>\n",
       "      <td>160000000</td>\n",
       "      <td>1131927996</td>\n",
       "      <td>971927996</td>\n",
       "      <td>192.696</td>\n",
       "      <td>Spider-Man: Far from Home</td>\n",
       "      <td>7.6</td>\n",
       "      <td>2019-06-28</td>\n",
       "    </tr>\n",
       "    <tr>\n",
       "      <th>4</th>\n",
       "      <td>299537</td>\n",
       "      <td>152000000</td>\n",
       "      <td>1128276090</td>\n",
       "      <td>976276090</td>\n",
       "      <td>121.159</td>\n",
       "      <td>Captain Marvel</td>\n",
       "      <td>7.0</td>\n",
       "      <td>2019-03-06</td>\n",
       "    </tr>\n",
       "    <tr>\n",
       "      <th>...</th>\n",
       "      <td>...</td>\n",
       "      <td>...</td>\n",
       "      <td>...</td>\n",
       "      <td>...</td>\n",
       "      <td>...</td>\n",
       "      <td>...</td>\n",
       "      <td>...</td>\n",
       "      <td>...</td>\n",
       "    </tr>\n",
       "    <tr>\n",
       "      <th>95</th>\n",
       "      <td>445629</td>\n",
       "      <td>11000000</td>\n",
       "      <td>39055536</td>\n",
       "      <td>28055536</td>\n",
       "      <td>31.111</td>\n",
       "      <td>Fighting with My Family</td>\n",
       "      <td>6.8</td>\n",
       "      <td>2019-02-14</td>\n",
       "    </tr>\n",
       "    <tr>\n",
       "      <th>96</th>\n",
       "      <td>491283</td>\n",
       "      <td>0</td>\n",
       "      <td>38981322</td>\n",
       "      <td>38981322</td>\n",
       "      <td>15.962</td>\n",
       "      <td>Judy</td>\n",
       "      <td>6.8</td>\n",
       "      <td>2019-09-27</td>\n",
       "    </tr>\n",
       "    <tr>\n",
       "      <th>97</th>\n",
       "      <td>509730</td>\n",
       "      <td>0</td>\n",
       "      <td>36120360</td>\n",
       "      <td>36120360</td>\n",
       "      <td>30.238</td>\n",
       "      <td>The Queen's Corgi</td>\n",
       "      <td>5.8</td>\n",
       "      <td>2019-02-13</td>\n",
       "    </tr>\n",
       "    <tr>\n",
       "      <th>98</th>\n",
       "      <td>541487</td>\n",
       "      <td>12000000</td>\n",
       "      <td>34000000</td>\n",
       "      <td>22000000</td>\n",
       "      <td>5.650</td>\n",
       "      <td>Maharshi</td>\n",
       "      <td>7.0</td>\n",
       "      <td>2019-05-09</td>\n",
       "    </tr>\n",
       "    <tr>\n",
       "      <th>99</th>\n",
       "      <td>491625</td>\n",
       "      <td>5782853</td>\n",
       "      <td>33974264</td>\n",
       "      <td>28191411</td>\n",
       "      <td>7.236</td>\n",
       "      <td>Gully Boy</td>\n",
       "      <td>7.6</td>\n",
       "      <td>2019-02-14</td>\n",
       "    </tr>\n",
       "  </tbody>\n",
       "</table>\n",
       "<p>100 rows × 8 columns</p>\n",
       "</div>"
      ],
      "text/plain": [
       "        id     budget     revenue  gross_profit  popularity  \\\n",
       "0   299534  356000000  2797800564    2441800564     189.605   \n",
       "1   420818  260000000  1656943394    1396943394     166.569   \n",
       "2   330457  150000000  1450026933    1300026933     277.421   \n",
       "3   429617  160000000  1131927996     971927996     192.696   \n",
       "4   299537  152000000  1128276090     976276090     121.159   \n",
       "..     ...        ...         ...           ...         ...   \n",
       "95  445629   11000000    39055536      28055536      31.111   \n",
       "96  491283          0    38981322      38981322      15.962   \n",
       "97  509730          0    36120360      36120360      30.238   \n",
       "98  541487   12000000    34000000      22000000       5.650   \n",
       "99  491625    5782853    33974264      28191411       7.236   \n",
       "\n",
       "                        title  vote_average release_date  \n",
       "0           Avengers: Endgame           8.3   2019-04-24  \n",
       "1               The Lion King           7.2   2019-07-12  \n",
       "2                   Frozen II           7.3   2019-11-20  \n",
       "3   Spider-Man: Far from Home           7.6   2019-06-28  \n",
       "4              Captain Marvel           7.0   2019-03-06  \n",
       "..                        ...           ...          ...  \n",
       "95    Fighting with My Family           6.8   2019-02-14  \n",
       "96                       Judy           6.8   2019-09-27  \n",
       "97          The Queen's Corgi           5.8   2019-02-13  \n",
       "98                   Maharshi           7.0   2019-05-09  \n",
       "99                  Gully Boy           7.6   2019-02-14  \n",
       "\n",
       "[100 rows x 8 columns]"
      ]
     },
     "execution_count": 98,
     "metadata": {},
     "output_type": "execute_result"
    }
   ],
   "source": [
    "df3"
   ]
  },
  {
   "cell_type": "code",
   "execution_count": 99,
   "metadata": {},
   "outputs": [],
   "source": [
    "import seaborn as sns"
   ]
  },
  {
   "cell_type": "code",
   "execution_count": 100,
   "metadata": {},
   "outputs": [],
   "source": [
    "import plotly.express as px"
   ]
  },
  {
   "cell_type": "code",
   "execution_count": 108,
   "metadata": {},
   "outputs": [
    {
     "data": {
      "application/vnd.plotly.v1+json": {
       "config": {
        "plotlyServerURL": "https://plot.ly"
       },
       "data": [
        {
         "hoverlabel": {
          "namelength": 0
         },
         "hovertemplate": "budget=%{x}<br>gross_profit=%{y}",
         "legendgroup": "",
         "marker": {
          "color": "#636efa",
          "symbol": "circle"
         },
         "mode": "markers",
         "name": "",
         "showlegend": false,
         "type": "scatter",
         "x": [
          356000000,
          260000000,
          150000000,
          160000000,
          152000000,
          55000000,
          250000000,
          175000000,
          183000000,
          125000000,
          200000000,
          0,
          129000000,
          0,
          185000000,
          79000000,
          150000000,
          170000000,
          170000000,
          100000000,
          95000000,
          80000000,
          55000000,
          40000000,
          185000000,
          11363000,
          20000000,
          110000000,
          200000000,
          20000000,
          30000000,
          97600000,
          170000000,
          40000000,
          20000000,
          40000000,
          100000000,
          0,
          138000000,
          100000000,
          40000000,
          20000000,
          9000000,
          80000000,
          40000000,
          87500000,
          65000000,
          100000000,
          8120000,
          42000000,
          9000000,
          30000000,
          100000000,
          49000000,
          0,
          0,
          21000000,
          75000000,
          37500000,
          25000000,
          50000000,
          13500000,
          26000000,
          14000000,
          0,
          95000000,
          48000000,
          20000000,
          45000000,
          20000000,
          14000000,
          10892000,
          4000000,
          11936735,
          27941858,
          11500000,
          60000000,
          6000000,
          8751000,
          51000000,
          40000000,
          32000000,
          5000000,
          25000000,
          19000000,
          6500000,
          9000000,
          33000000,
          20000000,
          0,
          10000000,
          50000000,
          29900000,
          0,
          2000000,
          11000000,
          0,
          0,
          12000000,
          5782853
         ],
         "xaxis": "x",
         "y": [
          2441800564,
          1396943394,
          1300026933,
          971927996,
          976276090,
          1019251311,
          824144248,
          898394593,
          864612394,
          671575993,
          560098996,
          686067000,
          388526875,
          500000000,
          306570967,
          394093228,
          283005346,
          234852543,
          216600138,
          274733942,
          279251247,
          283533271,
          271709727,
          269232797,
          76119292,
          246228776,
          235105930,
          142608480,
          52442974,
          226941965,
          201252591,
          127908210,
          45832199,
          163044905,
          172094429,
          151540586,
          90514361,
          186965409,
          35469516,
          71616764,
          127323950,
          137600000,
          146313078,
          75152550,
          106661977,
          45307427,
          66359052,
          25641396,
          116532206,
          80801777,
          113033739,
          91550750,
          19559110,
          67826172,
          115570314,
          115570314,
          91399944,
          36615070,
          73853135,
          70438172,
          41490353,
          75703432,
          62092097,
          68468705,
          74769845,
          -21484976,
          25279888,
          52457330,
          27281712,
          49766483,
          55497587,
          57433551,
          63760877,
          54989107,
          38351597,
          50735335,
          -786069,
          51615777,
          46727164,
          4000000,
          13847136,
          21774397,
          46749995,
          25401502,
          31020902,
          41521766,
          38862188,
          14088457,
          26597100,
          46115383,
          34902237,
          -5335310,
          14500000,
          42880428,
          37273021,
          28055536,
          38981322,
          36120360,
          22000000,
          28191411
         ],
         "yaxis": "y"
        }
       ],
       "layout": {
        "height": 600,
        "legend": {
         "tracegroupgap": 0
        },
        "margin": {
         "t": 60
        },
        "template": {
         "data": {
          "bar": [
           {
            "error_x": {
             "color": "#2a3f5f"
            },
            "error_y": {
             "color": "#2a3f5f"
            },
            "marker": {
             "line": {
              "color": "#E5ECF6",
              "width": 0.5
             }
            },
            "type": "bar"
           }
          ],
          "barpolar": [
           {
            "marker": {
             "line": {
              "color": "#E5ECF6",
              "width": 0.5
             }
            },
            "type": "barpolar"
           }
          ],
          "carpet": [
           {
            "aaxis": {
             "endlinecolor": "#2a3f5f",
             "gridcolor": "white",
             "linecolor": "white",
             "minorgridcolor": "white",
             "startlinecolor": "#2a3f5f"
            },
            "baxis": {
             "endlinecolor": "#2a3f5f",
             "gridcolor": "white",
             "linecolor": "white",
             "minorgridcolor": "white",
             "startlinecolor": "#2a3f5f"
            },
            "type": "carpet"
           }
          ],
          "choropleth": [
           {
            "colorbar": {
             "outlinewidth": 0,
             "ticks": ""
            },
            "type": "choropleth"
           }
          ],
          "contour": [
           {
            "colorbar": {
             "outlinewidth": 0,
             "ticks": ""
            },
            "colorscale": [
             [
              0,
              "#0d0887"
             ],
             [
              0.1111111111111111,
              "#46039f"
             ],
             [
              0.2222222222222222,
              "#7201a8"
             ],
             [
              0.3333333333333333,
              "#9c179e"
             ],
             [
              0.4444444444444444,
              "#bd3786"
             ],
             [
              0.5555555555555556,
              "#d8576b"
             ],
             [
              0.6666666666666666,
              "#ed7953"
             ],
             [
              0.7777777777777778,
              "#fb9f3a"
             ],
             [
              0.8888888888888888,
              "#fdca26"
             ],
             [
              1,
              "#f0f921"
             ]
            ],
            "type": "contour"
           }
          ],
          "contourcarpet": [
           {
            "colorbar": {
             "outlinewidth": 0,
             "ticks": ""
            },
            "type": "contourcarpet"
           }
          ],
          "heatmap": [
           {
            "colorbar": {
             "outlinewidth": 0,
             "ticks": ""
            },
            "colorscale": [
             [
              0,
              "#0d0887"
             ],
             [
              0.1111111111111111,
              "#46039f"
             ],
             [
              0.2222222222222222,
              "#7201a8"
             ],
             [
              0.3333333333333333,
              "#9c179e"
             ],
             [
              0.4444444444444444,
              "#bd3786"
             ],
             [
              0.5555555555555556,
              "#d8576b"
             ],
             [
              0.6666666666666666,
              "#ed7953"
             ],
             [
              0.7777777777777778,
              "#fb9f3a"
             ],
             [
              0.8888888888888888,
              "#fdca26"
             ],
             [
              1,
              "#f0f921"
             ]
            ],
            "type": "heatmap"
           }
          ],
          "heatmapgl": [
           {
            "colorbar": {
             "outlinewidth": 0,
             "ticks": ""
            },
            "colorscale": [
             [
              0,
              "#0d0887"
             ],
             [
              0.1111111111111111,
              "#46039f"
             ],
             [
              0.2222222222222222,
              "#7201a8"
             ],
             [
              0.3333333333333333,
              "#9c179e"
             ],
             [
              0.4444444444444444,
              "#bd3786"
             ],
             [
              0.5555555555555556,
              "#d8576b"
             ],
             [
              0.6666666666666666,
              "#ed7953"
             ],
             [
              0.7777777777777778,
              "#fb9f3a"
             ],
             [
              0.8888888888888888,
              "#fdca26"
             ],
             [
              1,
              "#f0f921"
             ]
            ],
            "type": "heatmapgl"
           }
          ],
          "histogram": [
           {
            "marker": {
             "colorbar": {
              "outlinewidth": 0,
              "ticks": ""
             }
            },
            "type": "histogram"
           }
          ],
          "histogram2d": [
           {
            "colorbar": {
             "outlinewidth": 0,
             "ticks": ""
            },
            "colorscale": [
             [
              0,
              "#0d0887"
             ],
             [
              0.1111111111111111,
              "#46039f"
             ],
             [
              0.2222222222222222,
              "#7201a8"
             ],
             [
              0.3333333333333333,
              "#9c179e"
             ],
             [
              0.4444444444444444,
              "#bd3786"
             ],
             [
              0.5555555555555556,
              "#d8576b"
             ],
             [
              0.6666666666666666,
              "#ed7953"
             ],
             [
              0.7777777777777778,
              "#fb9f3a"
             ],
             [
              0.8888888888888888,
              "#fdca26"
             ],
             [
              1,
              "#f0f921"
             ]
            ],
            "type": "histogram2d"
           }
          ],
          "histogram2dcontour": [
           {
            "colorbar": {
             "outlinewidth": 0,
             "ticks": ""
            },
            "colorscale": [
             [
              0,
              "#0d0887"
             ],
             [
              0.1111111111111111,
              "#46039f"
             ],
             [
              0.2222222222222222,
              "#7201a8"
             ],
             [
              0.3333333333333333,
              "#9c179e"
             ],
             [
              0.4444444444444444,
              "#bd3786"
             ],
             [
              0.5555555555555556,
              "#d8576b"
             ],
             [
              0.6666666666666666,
              "#ed7953"
             ],
             [
              0.7777777777777778,
              "#fb9f3a"
             ],
             [
              0.8888888888888888,
              "#fdca26"
             ],
             [
              1,
              "#f0f921"
             ]
            ],
            "type": "histogram2dcontour"
           }
          ],
          "mesh3d": [
           {
            "colorbar": {
             "outlinewidth": 0,
             "ticks": ""
            },
            "type": "mesh3d"
           }
          ],
          "parcoords": [
           {
            "line": {
             "colorbar": {
              "outlinewidth": 0,
              "ticks": ""
             }
            },
            "type": "parcoords"
           }
          ],
          "scatter": [
           {
            "marker": {
             "colorbar": {
              "outlinewidth": 0,
              "ticks": ""
             }
            },
            "type": "scatter"
           }
          ],
          "scatter3d": [
           {
            "line": {
             "colorbar": {
              "outlinewidth": 0,
              "ticks": ""
             }
            },
            "marker": {
             "colorbar": {
              "outlinewidth": 0,
              "ticks": ""
             }
            },
            "type": "scatter3d"
           }
          ],
          "scattercarpet": [
           {
            "marker": {
             "colorbar": {
              "outlinewidth": 0,
              "ticks": ""
             }
            },
            "type": "scattercarpet"
           }
          ],
          "scattergeo": [
           {
            "marker": {
             "colorbar": {
              "outlinewidth": 0,
              "ticks": ""
             }
            },
            "type": "scattergeo"
           }
          ],
          "scattergl": [
           {
            "marker": {
             "colorbar": {
              "outlinewidth": 0,
              "ticks": ""
             }
            },
            "type": "scattergl"
           }
          ],
          "scattermapbox": [
           {
            "marker": {
             "colorbar": {
              "outlinewidth": 0,
              "ticks": ""
             }
            },
            "type": "scattermapbox"
           }
          ],
          "scatterpolar": [
           {
            "marker": {
             "colorbar": {
              "outlinewidth": 0,
              "ticks": ""
             }
            },
            "type": "scatterpolar"
           }
          ],
          "scatterpolargl": [
           {
            "marker": {
             "colorbar": {
              "outlinewidth": 0,
              "ticks": ""
             }
            },
            "type": "scatterpolargl"
           }
          ],
          "scatterternary": [
           {
            "marker": {
             "colorbar": {
              "outlinewidth": 0,
              "ticks": ""
             }
            },
            "type": "scatterternary"
           }
          ],
          "surface": [
           {
            "colorbar": {
             "outlinewidth": 0,
             "ticks": ""
            },
            "colorscale": [
             [
              0,
              "#0d0887"
             ],
             [
              0.1111111111111111,
              "#46039f"
             ],
             [
              0.2222222222222222,
              "#7201a8"
             ],
             [
              0.3333333333333333,
              "#9c179e"
             ],
             [
              0.4444444444444444,
              "#bd3786"
             ],
             [
              0.5555555555555556,
              "#d8576b"
             ],
             [
              0.6666666666666666,
              "#ed7953"
             ],
             [
              0.7777777777777778,
              "#fb9f3a"
             ],
             [
              0.8888888888888888,
              "#fdca26"
             ],
             [
              1,
              "#f0f921"
             ]
            ],
            "type": "surface"
           }
          ],
          "table": [
           {
            "cells": {
             "fill": {
              "color": "#EBF0F8"
             },
             "line": {
              "color": "white"
             }
            },
            "header": {
             "fill": {
              "color": "#C8D4E3"
             },
             "line": {
              "color": "white"
             }
            },
            "type": "table"
           }
          ]
         },
         "layout": {
          "annotationdefaults": {
           "arrowcolor": "#2a3f5f",
           "arrowhead": 0,
           "arrowwidth": 1
          },
          "colorscale": {
           "diverging": [
            [
             0,
             "#8e0152"
            ],
            [
             0.1,
             "#c51b7d"
            ],
            [
             0.2,
             "#de77ae"
            ],
            [
             0.3,
             "#f1b6da"
            ],
            [
             0.4,
             "#fde0ef"
            ],
            [
             0.5,
             "#f7f7f7"
            ],
            [
             0.6,
             "#e6f5d0"
            ],
            [
             0.7,
             "#b8e186"
            ],
            [
             0.8,
             "#7fbc41"
            ],
            [
             0.9,
             "#4d9221"
            ],
            [
             1,
             "#276419"
            ]
           ],
           "sequential": [
            [
             0,
             "#0d0887"
            ],
            [
             0.1111111111111111,
             "#46039f"
            ],
            [
             0.2222222222222222,
             "#7201a8"
            ],
            [
             0.3333333333333333,
             "#9c179e"
            ],
            [
             0.4444444444444444,
             "#bd3786"
            ],
            [
             0.5555555555555556,
             "#d8576b"
            ],
            [
             0.6666666666666666,
             "#ed7953"
            ],
            [
             0.7777777777777778,
             "#fb9f3a"
            ],
            [
             0.8888888888888888,
             "#fdca26"
            ],
            [
             1,
             "#f0f921"
            ]
           ],
           "sequentialminus": [
            [
             0,
             "#0d0887"
            ],
            [
             0.1111111111111111,
             "#46039f"
            ],
            [
             0.2222222222222222,
             "#7201a8"
            ],
            [
             0.3333333333333333,
             "#9c179e"
            ],
            [
             0.4444444444444444,
             "#bd3786"
            ],
            [
             0.5555555555555556,
             "#d8576b"
            ],
            [
             0.6666666666666666,
             "#ed7953"
            ],
            [
             0.7777777777777778,
             "#fb9f3a"
            ],
            [
             0.8888888888888888,
             "#fdca26"
            ],
            [
             1,
             "#f0f921"
            ]
           ]
          },
          "colorway": [
           "#636efa",
           "#EF553B",
           "#00cc96",
           "#ab63fa",
           "#FFA15A",
           "#19d3f3",
           "#FF6692",
           "#B6E880",
           "#FF97FF",
           "#FECB52"
          ],
          "font": {
           "color": "#2a3f5f"
          },
          "geo": {
           "bgcolor": "white",
           "lakecolor": "white",
           "landcolor": "#E5ECF6",
           "showlakes": true,
           "showland": true,
           "subunitcolor": "white"
          },
          "hoverlabel": {
           "align": "left"
          },
          "hovermode": "closest",
          "mapbox": {
           "style": "light"
          },
          "paper_bgcolor": "white",
          "plot_bgcolor": "#E5ECF6",
          "polar": {
           "angularaxis": {
            "gridcolor": "white",
            "linecolor": "white",
            "ticks": ""
           },
           "bgcolor": "#E5ECF6",
           "radialaxis": {
            "gridcolor": "white",
            "linecolor": "white",
            "ticks": ""
           }
          },
          "scene": {
           "xaxis": {
            "backgroundcolor": "#E5ECF6",
            "gridcolor": "white",
            "gridwidth": 2,
            "linecolor": "white",
            "showbackground": true,
            "ticks": "",
            "zerolinecolor": "white"
           },
           "yaxis": {
            "backgroundcolor": "#E5ECF6",
            "gridcolor": "white",
            "gridwidth": 2,
            "linecolor": "white",
            "showbackground": true,
            "ticks": "",
            "zerolinecolor": "white"
           },
           "zaxis": {
            "backgroundcolor": "#E5ECF6",
            "gridcolor": "white",
            "gridwidth": 2,
            "linecolor": "white",
            "showbackground": true,
            "ticks": "",
            "zerolinecolor": "white"
           }
          },
          "shapedefaults": {
           "line": {
            "color": "#2a3f5f"
           }
          },
          "ternary": {
           "aaxis": {
            "gridcolor": "white",
            "linecolor": "white",
            "ticks": ""
           },
           "baxis": {
            "gridcolor": "white",
            "linecolor": "white",
            "ticks": ""
           },
           "bgcolor": "#E5ECF6",
           "caxis": {
            "gridcolor": "white",
            "linecolor": "white",
            "ticks": ""
           }
          },
          "title": {
           "x": 0.05
          },
          "xaxis": {
           "automargin": true,
           "gridcolor": "white",
           "linecolor": "white",
           "ticks": "",
           "zerolinecolor": "white",
           "zerolinewidth": 2
          },
          "yaxis": {
           "automargin": true,
           "gridcolor": "white",
           "linecolor": "white",
           "ticks": "",
           "zerolinecolor": "white",
           "zerolinewidth": 2
          }
         }
        },
        "xaxis": {
         "anchor": "y",
         "domain": [
          0,
          0.98
         ],
         "title": {
          "text": "budget"
         }
        },
        "yaxis": {
         "anchor": "x",
         "domain": [
          0,
          1
         ],
         "title": {
          "text": "gross_profit"
         }
        }
       }
      },
      "text/html": [
       "<div>\n",
       "        \n",
       "        \n",
       "            <div id=\"ba6e9e17-947e-4edf-8783-60457d5aef4d\" class=\"plotly-graph-div\" style=\"height:600px; width:100%;\"></div>\n",
       "            <script type=\"text/javascript\">\n",
       "                require([\"plotly\"], function(Plotly) {\n",
       "                    window.PLOTLYENV=window.PLOTLYENV || {};\n",
       "                    \n",
       "                if (document.getElementById(\"ba6e9e17-947e-4edf-8783-60457d5aef4d\")) {\n",
       "                    Plotly.newPlot(\n",
       "                        'ba6e9e17-947e-4edf-8783-60457d5aef4d',\n",
       "                        [{\"hoverlabel\": {\"namelength\": 0}, \"hovertemplate\": \"budget=%{x}<br>gross_profit=%{y}\", \"legendgroup\": \"\", \"marker\": {\"color\": \"#636efa\", \"symbol\": \"circle\"}, \"mode\": \"markers\", \"name\": \"\", \"showlegend\": false, \"type\": \"scatter\", \"x\": [356000000, 260000000, 150000000, 160000000, 152000000, 55000000, 250000000, 175000000, 183000000, 125000000, 200000000, 0, 129000000, 0, 185000000, 79000000, 150000000, 170000000, 170000000, 100000000, 95000000, 80000000, 55000000, 40000000, 185000000, 11363000, 20000000, 110000000, 200000000, 20000000, 30000000, 97600000, 170000000, 40000000, 20000000, 40000000, 100000000, 0, 138000000, 100000000, 40000000, 20000000, 9000000, 80000000, 40000000, 87500000, 65000000, 100000000, 8120000, 42000000, 9000000, 30000000, 100000000, 49000000, 0, 0, 21000000, 75000000, 37500000, 25000000, 50000000, 13500000, 26000000, 14000000, 0, 95000000, 48000000, 20000000, 45000000, 20000000, 14000000, 10892000, 4000000, 11936735, 27941858, 11500000, 60000000, 6000000, 8751000, 51000000, 40000000, 32000000, 5000000, 25000000, 19000000, 6500000, 9000000, 33000000, 20000000, 0, 10000000, 50000000, 29900000, 0, 2000000, 11000000, 0, 0, 12000000, 5782853], \"xaxis\": \"x\", \"y\": [2441800564, 1396943394, 1300026933, 971927996, 976276090, 1019251311, 824144248, 898394593, 864612394, 671575993, 560098996, 686067000, 388526875, 500000000, 306570967, 394093228, 283005346, 234852543, 216600138, 274733942, 279251247, 283533271, 271709727, 269232797, 76119292, 246228776, 235105930, 142608480, 52442974, 226941965, 201252591, 127908210, 45832199, 163044905, 172094429, 151540586, 90514361, 186965409, 35469516, 71616764, 127323950, 137600000, 146313078, 75152550, 106661977, 45307427, 66359052, 25641396, 116532206, 80801777, 113033739, 91550750, 19559110, 67826172, 115570314, 115570314, 91399944, 36615070, 73853135, 70438172, 41490353, 75703432, 62092097, 68468705, 74769845, -21484976, 25279888, 52457330, 27281712, 49766483, 55497587, 57433551, 63760877, 54989107, 38351597, 50735335, -786069, 51615777, 46727164, 4000000, 13847136, 21774397, 46749995, 25401502, 31020902, 41521766, 38862188, 14088457, 26597100, 46115383, 34902237, -5335310, 14500000, 42880428, 37273021, 28055536, 38981322, 36120360, 22000000, 28191411], \"yaxis\": \"y\"}],\n",
       "                        {\"height\": 600, \"legend\": {\"tracegroupgap\": 0}, \"margin\": {\"t\": 60}, \"template\": {\"data\": {\"bar\": [{\"error_x\": {\"color\": \"#2a3f5f\"}, \"error_y\": {\"color\": \"#2a3f5f\"}, \"marker\": {\"line\": {\"color\": \"#E5ECF6\", \"width\": 0.5}}, \"type\": \"bar\"}], \"barpolar\": [{\"marker\": {\"line\": {\"color\": \"#E5ECF6\", \"width\": 0.5}}, \"type\": \"barpolar\"}], \"carpet\": [{\"aaxis\": {\"endlinecolor\": \"#2a3f5f\", \"gridcolor\": \"white\", \"linecolor\": \"white\", \"minorgridcolor\": \"white\", \"startlinecolor\": \"#2a3f5f\"}, \"baxis\": {\"endlinecolor\": \"#2a3f5f\", \"gridcolor\": \"white\", \"linecolor\": \"white\", \"minorgridcolor\": \"white\", \"startlinecolor\": \"#2a3f5f\"}, \"type\": \"carpet\"}], \"choropleth\": [{\"colorbar\": {\"outlinewidth\": 0, \"ticks\": \"\"}, \"type\": \"choropleth\"}], \"contour\": [{\"colorbar\": {\"outlinewidth\": 0, \"ticks\": \"\"}, \"colorscale\": [[0.0, \"#0d0887\"], [0.1111111111111111, \"#46039f\"], [0.2222222222222222, \"#7201a8\"], [0.3333333333333333, \"#9c179e\"], [0.4444444444444444, \"#bd3786\"], [0.5555555555555556, \"#d8576b\"], [0.6666666666666666, \"#ed7953\"], [0.7777777777777778, \"#fb9f3a\"], [0.8888888888888888, \"#fdca26\"], [1.0, \"#f0f921\"]], \"type\": \"contour\"}], \"contourcarpet\": [{\"colorbar\": {\"outlinewidth\": 0, \"ticks\": \"\"}, \"type\": \"contourcarpet\"}], \"heatmap\": [{\"colorbar\": {\"outlinewidth\": 0, \"ticks\": \"\"}, \"colorscale\": [[0.0, \"#0d0887\"], [0.1111111111111111, \"#46039f\"], [0.2222222222222222, \"#7201a8\"], [0.3333333333333333, \"#9c179e\"], [0.4444444444444444, \"#bd3786\"], [0.5555555555555556, \"#d8576b\"], [0.6666666666666666, \"#ed7953\"], [0.7777777777777778, \"#fb9f3a\"], [0.8888888888888888, \"#fdca26\"], [1.0, \"#f0f921\"]], \"type\": \"heatmap\"}], \"heatmapgl\": [{\"colorbar\": {\"outlinewidth\": 0, \"ticks\": \"\"}, \"colorscale\": [[0.0, \"#0d0887\"], [0.1111111111111111, \"#46039f\"], [0.2222222222222222, \"#7201a8\"], [0.3333333333333333, \"#9c179e\"], [0.4444444444444444, \"#bd3786\"], [0.5555555555555556, \"#d8576b\"], [0.6666666666666666, \"#ed7953\"], [0.7777777777777778, \"#fb9f3a\"], [0.8888888888888888, \"#fdca26\"], [1.0, \"#f0f921\"]], \"type\": \"heatmapgl\"}], \"histogram\": [{\"marker\": {\"colorbar\": {\"outlinewidth\": 0, \"ticks\": \"\"}}, \"type\": \"histogram\"}], \"histogram2d\": [{\"colorbar\": {\"outlinewidth\": 0, \"ticks\": \"\"}, \"colorscale\": [[0.0, \"#0d0887\"], [0.1111111111111111, \"#46039f\"], [0.2222222222222222, \"#7201a8\"], [0.3333333333333333, \"#9c179e\"], [0.4444444444444444, \"#bd3786\"], [0.5555555555555556, \"#d8576b\"], [0.6666666666666666, \"#ed7953\"], [0.7777777777777778, \"#fb9f3a\"], [0.8888888888888888, \"#fdca26\"], [1.0, \"#f0f921\"]], \"type\": \"histogram2d\"}], \"histogram2dcontour\": [{\"colorbar\": {\"outlinewidth\": 0, \"ticks\": \"\"}, \"colorscale\": [[0.0, \"#0d0887\"], [0.1111111111111111, \"#46039f\"], [0.2222222222222222, \"#7201a8\"], [0.3333333333333333, \"#9c179e\"], [0.4444444444444444, \"#bd3786\"], [0.5555555555555556, \"#d8576b\"], [0.6666666666666666, \"#ed7953\"], [0.7777777777777778, \"#fb9f3a\"], [0.8888888888888888, \"#fdca26\"], [1.0, \"#f0f921\"]], \"type\": \"histogram2dcontour\"}], \"mesh3d\": [{\"colorbar\": {\"outlinewidth\": 0, \"ticks\": \"\"}, \"type\": \"mesh3d\"}], \"parcoords\": [{\"line\": {\"colorbar\": {\"outlinewidth\": 0, \"ticks\": \"\"}}, \"type\": \"parcoords\"}], \"scatter\": [{\"marker\": {\"colorbar\": {\"outlinewidth\": 0, \"ticks\": \"\"}}, \"type\": \"scatter\"}], \"scatter3d\": [{\"line\": {\"colorbar\": {\"outlinewidth\": 0, \"ticks\": \"\"}}, \"marker\": {\"colorbar\": {\"outlinewidth\": 0, \"ticks\": \"\"}}, \"type\": \"scatter3d\"}], \"scattercarpet\": [{\"marker\": {\"colorbar\": {\"outlinewidth\": 0, \"ticks\": \"\"}}, \"type\": \"scattercarpet\"}], \"scattergeo\": [{\"marker\": {\"colorbar\": {\"outlinewidth\": 0, \"ticks\": \"\"}}, \"type\": \"scattergeo\"}], \"scattergl\": [{\"marker\": {\"colorbar\": {\"outlinewidth\": 0, \"ticks\": \"\"}}, \"type\": \"scattergl\"}], \"scattermapbox\": [{\"marker\": {\"colorbar\": {\"outlinewidth\": 0, \"ticks\": \"\"}}, \"type\": \"scattermapbox\"}], \"scatterpolar\": [{\"marker\": {\"colorbar\": {\"outlinewidth\": 0, \"ticks\": \"\"}}, \"type\": \"scatterpolar\"}], \"scatterpolargl\": [{\"marker\": {\"colorbar\": {\"outlinewidth\": 0, \"ticks\": \"\"}}, \"type\": \"scatterpolargl\"}], \"scatterternary\": [{\"marker\": {\"colorbar\": {\"outlinewidth\": 0, \"ticks\": \"\"}}, \"type\": \"scatterternary\"}], \"surface\": [{\"colorbar\": {\"outlinewidth\": 0, \"ticks\": \"\"}, \"colorscale\": [[0.0, \"#0d0887\"], [0.1111111111111111, \"#46039f\"], [0.2222222222222222, \"#7201a8\"], [0.3333333333333333, \"#9c179e\"], [0.4444444444444444, \"#bd3786\"], [0.5555555555555556, \"#d8576b\"], [0.6666666666666666, \"#ed7953\"], [0.7777777777777778, \"#fb9f3a\"], [0.8888888888888888, \"#fdca26\"], [1.0, \"#f0f921\"]], \"type\": \"surface\"}], \"table\": [{\"cells\": {\"fill\": {\"color\": \"#EBF0F8\"}, \"line\": {\"color\": \"white\"}}, \"header\": {\"fill\": {\"color\": \"#C8D4E3\"}, \"line\": {\"color\": \"white\"}}, \"type\": \"table\"}]}, \"layout\": {\"annotationdefaults\": {\"arrowcolor\": \"#2a3f5f\", \"arrowhead\": 0, \"arrowwidth\": 1}, \"colorscale\": {\"diverging\": [[0, \"#8e0152\"], [0.1, \"#c51b7d\"], [0.2, \"#de77ae\"], [0.3, \"#f1b6da\"], [0.4, \"#fde0ef\"], [0.5, \"#f7f7f7\"], [0.6, \"#e6f5d0\"], [0.7, \"#b8e186\"], [0.8, \"#7fbc41\"], [0.9, \"#4d9221\"], [1, \"#276419\"]], \"sequential\": [[0.0, \"#0d0887\"], [0.1111111111111111, \"#46039f\"], [0.2222222222222222, \"#7201a8\"], [0.3333333333333333, \"#9c179e\"], [0.4444444444444444, \"#bd3786\"], [0.5555555555555556, \"#d8576b\"], [0.6666666666666666, \"#ed7953\"], [0.7777777777777778, \"#fb9f3a\"], [0.8888888888888888, \"#fdca26\"], [1.0, \"#f0f921\"]], \"sequentialminus\": [[0.0, \"#0d0887\"], [0.1111111111111111, \"#46039f\"], [0.2222222222222222, \"#7201a8\"], [0.3333333333333333, \"#9c179e\"], [0.4444444444444444, \"#bd3786\"], [0.5555555555555556, \"#d8576b\"], [0.6666666666666666, \"#ed7953\"], [0.7777777777777778, \"#fb9f3a\"], [0.8888888888888888, \"#fdca26\"], [1.0, \"#f0f921\"]]}, \"colorway\": [\"#636efa\", \"#EF553B\", \"#00cc96\", \"#ab63fa\", \"#FFA15A\", \"#19d3f3\", \"#FF6692\", \"#B6E880\", \"#FF97FF\", \"#FECB52\"], \"font\": {\"color\": \"#2a3f5f\"}, \"geo\": {\"bgcolor\": \"white\", \"lakecolor\": \"white\", \"landcolor\": \"#E5ECF6\", \"showlakes\": true, \"showland\": true, \"subunitcolor\": \"white\"}, \"hoverlabel\": {\"align\": \"left\"}, \"hovermode\": \"closest\", \"mapbox\": {\"style\": \"light\"}, \"paper_bgcolor\": \"white\", \"plot_bgcolor\": \"#E5ECF6\", \"polar\": {\"angularaxis\": {\"gridcolor\": \"white\", \"linecolor\": \"white\", \"ticks\": \"\"}, \"bgcolor\": \"#E5ECF6\", \"radialaxis\": {\"gridcolor\": \"white\", \"linecolor\": \"white\", \"ticks\": \"\"}}, \"scene\": {\"xaxis\": {\"backgroundcolor\": \"#E5ECF6\", \"gridcolor\": \"white\", \"gridwidth\": 2, \"linecolor\": \"white\", \"showbackground\": true, \"ticks\": \"\", \"zerolinecolor\": \"white\"}, \"yaxis\": {\"backgroundcolor\": \"#E5ECF6\", \"gridcolor\": \"white\", \"gridwidth\": 2, \"linecolor\": \"white\", \"showbackground\": true, \"ticks\": \"\", \"zerolinecolor\": \"white\"}, \"zaxis\": {\"backgroundcolor\": \"#E5ECF6\", \"gridcolor\": \"white\", \"gridwidth\": 2, \"linecolor\": \"white\", \"showbackground\": true, \"ticks\": \"\", \"zerolinecolor\": \"white\"}}, \"shapedefaults\": {\"line\": {\"color\": \"#2a3f5f\"}}, \"ternary\": {\"aaxis\": {\"gridcolor\": \"white\", \"linecolor\": \"white\", \"ticks\": \"\"}, \"baxis\": {\"gridcolor\": \"white\", \"linecolor\": \"white\", \"ticks\": \"\"}, \"bgcolor\": \"#E5ECF6\", \"caxis\": {\"gridcolor\": \"white\", \"linecolor\": \"white\", \"ticks\": \"\"}}, \"title\": {\"x\": 0.05}, \"xaxis\": {\"automargin\": true, \"gridcolor\": \"white\", \"linecolor\": \"white\", \"ticks\": \"\", \"zerolinecolor\": \"white\", \"zerolinewidth\": 2}, \"yaxis\": {\"automargin\": true, \"gridcolor\": \"white\", \"linecolor\": \"white\", \"ticks\": \"\", \"zerolinecolor\": \"white\", \"zerolinewidth\": 2}}}, \"xaxis\": {\"anchor\": \"y\", \"domain\": [0.0, 0.98], \"title\": {\"text\": \"budget\"}}, \"yaxis\": {\"anchor\": \"x\", \"domain\": [0.0, 1.0], \"title\": {\"text\": \"gross_profit\"}}},\n",
       "                        {\"responsive\": true}\n",
       "                    ).then(function(){\n",
       "                            \n",
       "var gd = document.getElementById('ba6e9e17-947e-4edf-8783-60457d5aef4d');\n",
       "var x = new MutationObserver(function (mutations, observer) {{\n",
       "        var display = window.getComputedStyle(gd).display;\n",
       "        if (!display || display === 'none') {{\n",
       "            console.log([gd, 'removed!']);\n",
       "            Plotly.purge(gd);\n",
       "            observer.disconnect();\n",
       "        }}\n",
       "}});\n",
       "\n",
       "// Listen for the removal of the full notebook cells\n",
       "var notebookContainer = gd.closest('#notebook-container');\n",
       "if (notebookContainer) {{\n",
       "    x.observe(notebookContainer, {childList: true});\n",
       "}}\n",
       "\n",
       "// Listen for the clearing of the current output cell\n",
       "var outputEl = gd.closest('.output');\n",
       "if (outputEl) {{\n",
       "    x.observe(outputEl, {childList: true});\n",
       "}}\n",
       "\n",
       "                        })\n",
       "                };\n",
       "                });\n",
       "            </script>\n",
       "        </div>"
      ]
     },
     "metadata": {},
     "output_type": "display_data"
    }
   ],
   "source": [
    "fig = px.scatter(df3, x='budget', y='gross_profit')\n",
    "fig.show()"
   ]
  },
  {
   "cell_type": "code",
   "execution_count": 130,
   "metadata": {},
   "outputs": [
    {
     "data": {
      "application/vnd.plotly.v1+json": {
       "config": {
        "plotlyServerURL": "https://plot.ly"
       },
       "data": [
        {
         "alignmentgroup": "True",
         "hoverlabel": {
          "namelength": 0
         },
         "hovertemplate": "gross_profit=%{x}<br>title=%{y}<br>budget=%{marker.color}",
         "legendgroup": "",
         "marker": {
          "color": [
           356000000,
           260000000,
           150000000,
           160000000,
           152000000,
           55000000,
           250000000,
           175000000,
           183000000,
           125000000,
           200000000,
           0,
           129000000,
           0,
           185000000,
           79000000,
           150000000,
           170000000,
           170000000,
           100000000,
           95000000,
           80000000,
           55000000,
           40000000,
           185000000,
           11363000,
           20000000,
           110000000,
           200000000,
           20000000,
           30000000,
           97600000,
           170000000,
           40000000,
           20000000,
           40000000,
           100000000,
           0,
           138000000,
           100000000,
           40000000,
           20000000,
           9000000,
           80000000,
           40000000,
           87500000,
           65000000,
           100000000,
           8120000,
           42000000,
           9000000,
           30000000,
           100000000,
           49000000,
           0,
           0,
           21000000,
           75000000,
           37500000,
           25000000,
           50000000,
           13500000,
           26000000,
           14000000,
           0,
           95000000,
           48000000,
           20000000,
           45000000,
           20000000,
           14000000,
           10892000,
           4000000,
           11936735,
           27941858,
           11500000,
           60000000,
           6000000,
           8751000,
           51000000,
           40000000,
           32000000,
           5000000,
           25000000,
           19000000,
           6500000,
           9000000,
           33000000,
           20000000,
           0,
           10000000,
           50000000,
           29900000,
           0,
           2000000,
           11000000,
           0,
           0,
           12000000,
           5782853
          ],
          "coloraxis": "coloraxis"
         },
         "name": "",
         "offsetgroup": "",
         "orientation": "h",
         "showlegend": false,
         "textposition": "auto",
         "type": "bar",
         "x": [
          2441800564,
          1396943394,
          1300026933,
          971927996,
          976276090,
          1019251311,
          824144248,
          898394593,
          864612394,
          671575993,
          560098996,
          686067000,
          388526875,
          500000000,
          306570967,
          394093228,
          283005346,
          234852543,
          216600138,
          274733942,
          279251247,
          283533271,
          271709727,
          269232797,
          76119292,
          246228776,
          235105930,
          142608480,
          52442974,
          226941965,
          201252591,
          127908210,
          45832199,
          163044905,
          172094429,
          151540586,
          90514361,
          186965409,
          35469516,
          71616764,
          127323950,
          137600000,
          146313078,
          75152550,
          106661977,
          45307427,
          66359052,
          25641396,
          116532206,
          80801777,
          113033739,
          91550750,
          19559110,
          67826172,
          115570314,
          115570314,
          91399944,
          36615070,
          73853135,
          70438172,
          41490353,
          75703432,
          62092097,
          68468705,
          74769845,
          -21484976,
          25279888,
          52457330,
          27281712,
          49766483,
          55497587,
          57433551,
          63760877,
          54989107,
          38351597,
          50735335,
          -786069,
          51615777,
          46727164,
          4000000,
          13847136,
          21774397,
          46749995,
          25401502,
          31020902,
          41521766,
          38862188,
          14088457,
          26597100,
          46115383,
          34902237,
          -5335310,
          14500000,
          42880428,
          37273021,
          28055536,
          38981322,
          36120360,
          22000000,
          28191411
         ],
         "xaxis": "x",
         "y": [
          "Avengers: Endgame",
          "The Lion King",
          "Frozen II",
          "Spider-Man: Far from Home",
          "Captain Marvel",
          "Joker",
          "Star Wars: The Rise of Skywalker",
          "Toy Story 4",
          "Aladdin",
          "Jumanji: The Next Level",
          "Fast & Furious Presents: Hobbs & Shaw",
          "Ne Zha",
          "How to Train Your Dragon: The Hidden World",
          "Alha Sahma",
          "Maleficent: Mistress of Evil",
          "It Chapter Two",
          "Pokémon Detective Pikachu",
          "Alita: Battle Angel",
          "Godzilla: King of the Monsters",
          "1917",
          "Once Upon a Time… in Hollywood",
          "Shazam!",
          "John Wick: Chapter 3 - Parabellum",
          "Knives Out",
          "Terminator: Dark Fate",
          "Parasite",
          "Us",
          "Men in Black: International",
          "Dark Phoenix",
          "Glass",
          "Annabelle Comes Home",
          "Ford v Ferrari",
          "Dumbo",
          "The Addams Family",
          "Downton Abbey",
          "Little Women",
          "The Lego Movie 2: The Second Part",
          "Weathering with You",
          "Gemini Man",
          "Spies in Disguise",
          "Rocketman",
          "Hustlers",
          "Escape Room",
          "The Secret Life of Pets 2",
          "Angel Has Fallen",
          "Ad Astra",
          "The Angry Birds Movie 2",
          "Midway",
          "Extreme Job",
          "Zombieland: Double Tap",
          "The Curse of La Llorona",
          "Last Christmas",
          "Wonder Park",
          "Dora and the Lost City of Gold",
          "Meitantei Conan: Konjo no fisuto",
          "Detective Conan: The Fist of Blue Sapphire",
          "Pet Sematary",
          "Abominable",
          "The Upside",
          "Scary Stories to Tell in the Dark",
          "Rambo: Last Blood",
          "Crawl",
          "Yesterday",
          "Jojo Rabbit",
          "Serial (Bad) Weddings 2",
          "Cats",
          "Charlie's Angels",
          "Good Boys",
          "Doctor Sleep",
          "What Men Want",
          "After",
          "EXIT",
          "A Beautiful Day in the Neighborhood",
          "White Snake",
          "War",
          "Hadestown",
          "Cold Pursuit",
          "Ready or Not",
          "Kabir Singh",
          "Saaho",
          "Long Shot",
          "Bombshell",
          "Ma",
          "Just Mercy",
          "Uncut Gems",
          "Countdown",
          "Midsommar",
          "21 Bridges",
          "Queen & Slim",
          "A Madea Family Funeral",
          "Child's Play",
          "Hellboy",
          "Playing with Fire",
          "A Shaun the Sheep Movie: Farmageddon",
          "My Mom is a Character 3",
          "Fighting with My Family",
          "Judy",
          "The Queen's Corgi",
          "Maharshi",
          "Gully Boy"
         ],
         "yaxis": "y"
        }
       ],
       "layout": {
        "barmode": "relative",
        "coloraxis": {
         "colorbar": {
          "title": {
           "text": "budget"
          }
         },
         "colorscale": [
          [
           0,
           "#0d0887"
          ],
          [
           0.1111111111111111,
           "#46039f"
          ],
          [
           0.2222222222222222,
           "#7201a8"
          ],
          [
           0.3333333333333333,
           "#9c179e"
          ],
          [
           0.4444444444444444,
           "#bd3786"
          ],
          [
           0.5555555555555556,
           "#d8576b"
          ],
          [
           0.6666666666666666,
           "#ed7953"
          ],
          [
           0.7777777777777778,
           "#fb9f3a"
          ],
          [
           0.8888888888888888,
           "#fdca26"
          ],
          [
           1,
           "#f0f921"
          ]
         ]
        },
        "height": 600,
        "legend": {
         "tracegroupgap": 0
        },
        "template": {
         "data": {
          "bar": [
           {
            "error_x": {
             "color": "#2a3f5f"
            },
            "error_y": {
             "color": "#2a3f5f"
            },
            "marker": {
             "line": {
              "color": "#E5ECF6",
              "width": 0.5
             }
            },
            "type": "bar"
           }
          ],
          "barpolar": [
           {
            "marker": {
             "line": {
              "color": "#E5ECF6",
              "width": 0.5
             }
            },
            "type": "barpolar"
           }
          ],
          "carpet": [
           {
            "aaxis": {
             "endlinecolor": "#2a3f5f",
             "gridcolor": "white",
             "linecolor": "white",
             "minorgridcolor": "white",
             "startlinecolor": "#2a3f5f"
            },
            "baxis": {
             "endlinecolor": "#2a3f5f",
             "gridcolor": "white",
             "linecolor": "white",
             "minorgridcolor": "white",
             "startlinecolor": "#2a3f5f"
            },
            "type": "carpet"
           }
          ],
          "choropleth": [
           {
            "colorbar": {
             "outlinewidth": 0,
             "ticks": ""
            },
            "type": "choropleth"
           }
          ],
          "contour": [
           {
            "colorbar": {
             "outlinewidth": 0,
             "ticks": ""
            },
            "colorscale": [
             [
              0,
              "#0d0887"
             ],
             [
              0.1111111111111111,
              "#46039f"
             ],
             [
              0.2222222222222222,
              "#7201a8"
             ],
             [
              0.3333333333333333,
              "#9c179e"
             ],
             [
              0.4444444444444444,
              "#bd3786"
             ],
             [
              0.5555555555555556,
              "#d8576b"
             ],
             [
              0.6666666666666666,
              "#ed7953"
             ],
             [
              0.7777777777777778,
              "#fb9f3a"
             ],
             [
              0.8888888888888888,
              "#fdca26"
             ],
             [
              1,
              "#f0f921"
             ]
            ],
            "type": "contour"
           }
          ],
          "contourcarpet": [
           {
            "colorbar": {
             "outlinewidth": 0,
             "ticks": ""
            },
            "type": "contourcarpet"
           }
          ],
          "heatmap": [
           {
            "colorbar": {
             "outlinewidth": 0,
             "ticks": ""
            },
            "colorscale": [
             [
              0,
              "#0d0887"
             ],
             [
              0.1111111111111111,
              "#46039f"
             ],
             [
              0.2222222222222222,
              "#7201a8"
             ],
             [
              0.3333333333333333,
              "#9c179e"
             ],
             [
              0.4444444444444444,
              "#bd3786"
             ],
             [
              0.5555555555555556,
              "#d8576b"
             ],
             [
              0.6666666666666666,
              "#ed7953"
             ],
             [
              0.7777777777777778,
              "#fb9f3a"
             ],
             [
              0.8888888888888888,
              "#fdca26"
             ],
             [
              1,
              "#f0f921"
             ]
            ],
            "type": "heatmap"
           }
          ],
          "heatmapgl": [
           {
            "colorbar": {
             "outlinewidth": 0,
             "ticks": ""
            },
            "colorscale": [
             [
              0,
              "#0d0887"
             ],
             [
              0.1111111111111111,
              "#46039f"
             ],
             [
              0.2222222222222222,
              "#7201a8"
             ],
             [
              0.3333333333333333,
              "#9c179e"
             ],
             [
              0.4444444444444444,
              "#bd3786"
             ],
             [
              0.5555555555555556,
              "#d8576b"
             ],
             [
              0.6666666666666666,
              "#ed7953"
             ],
             [
              0.7777777777777778,
              "#fb9f3a"
             ],
             [
              0.8888888888888888,
              "#fdca26"
             ],
             [
              1,
              "#f0f921"
             ]
            ],
            "type": "heatmapgl"
           }
          ],
          "histogram": [
           {
            "marker": {
             "colorbar": {
              "outlinewidth": 0,
              "ticks": ""
             }
            },
            "type": "histogram"
           }
          ],
          "histogram2d": [
           {
            "colorbar": {
             "outlinewidth": 0,
             "ticks": ""
            },
            "colorscale": [
             [
              0,
              "#0d0887"
             ],
             [
              0.1111111111111111,
              "#46039f"
             ],
             [
              0.2222222222222222,
              "#7201a8"
             ],
             [
              0.3333333333333333,
              "#9c179e"
             ],
             [
              0.4444444444444444,
              "#bd3786"
             ],
             [
              0.5555555555555556,
              "#d8576b"
             ],
             [
              0.6666666666666666,
              "#ed7953"
             ],
             [
              0.7777777777777778,
              "#fb9f3a"
             ],
             [
              0.8888888888888888,
              "#fdca26"
             ],
             [
              1,
              "#f0f921"
             ]
            ],
            "type": "histogram2d"
           }
          ],
          "histogram2dcontour": [
           {
            "colorbar": {
             "outlinewidth": 0,
             "ticks": ""
            },
            "colorscale": [
             [
              0,
              "#0d0887"
             ],
             [
              0.1111111111111111,
              "#46039f"
             ],
             [
              0.2222222222222222,
              "#7201a8"
             ],
             [
              0.3333333333333333,
              "#9c179e"
             ],
             [
              0.4444444444444444,
              "#bd3786"
             ],
             [
              0.5555555555555556,
              "#d8576b"
             ],
             [
              0.6666666666666666,
              "#ed7953"
             ],
             [
              0.7777777777777778,
              "#fb9f3a"
             ],
             [
              0.8888888888888888,
              "#fdca26"
             ],
             [
              1,
              "#f0f921"
             ]
            ],
            "type": "histogram2dcontour"
           }
          ],
          "mesh3d": [
           {
            "colorbar": {
             "outlinewidth": 0,
             "ticks": ""
            },
            "type": "mesh3d"
           }
          ],
          "parcoords": [
           {
            "line": {
             "colorbar": {
              "outlinewidth": 0,
              "ticks": ""
             }
            },
            "type": "parcoords"
           }
          ],
          "scatter": [
           {
            "marker": {
             "colorbar": {
              "outlinewidth": 0,
              "ticks": ""
             }
            },
            "type": "scatter"
           }
          ],
          "scatter3d": [
           {
            "line": {
             "colorbar": {
              "outlinewidth": 0,
              "ticks": ""
             }
            },
            "marker": {
             "colorbar": {
              "outlinewidth": 0,
              "ticks": ""
             }
            },
            "type": "scatter3d"
           }
          ],
          "scattercarpet": [
           {
            "marker": {
             "colorbar": {
              "outlinewidth": 0,
              "ticks": ""
             }
            },
            "type": "scattercarpet"
           }
          ],
          "scattergeo": [
           {
            "marker": {
             "colorbar": {
              "outlinewidth": 0,
              "ticks": ""
             }
            },
            "type": "scattergeo"
           }
          ],
          "scattergl": [
           {
            "marker": {
             "colorbar": {
              "outlinewidth": 0,
              "ticks": ""
             }
            },
            "type": "scattergl"
           }
          ],
          "scattermapbox": [
           {
            "marker": {
             "colorbar": {
              "outlinewidth": 0,
              "ticks": ""
             }
            },
            "type": "scattermapbox"
           }
          ],
          "scatterpolar": [
           {
            "marker": {
             "colorbar": {
              "outlinewidth": 0,
              "ticks": ""
             }
            },
            "type": "scatterpolar"
           }
          ],
          "scatterpolargl": [
           {
            "marker": {
             "colorbar": {
              "outlinewidth": 0,
              "ticks": ""
             }
            },
            "type": "scatterpolargl"
           }
          ],
          "scatterternary": [
           {
            "marker": {
             "colorbar": {
              "outlinewidth": 0,
              "ticks": ""
             }
            },
            "type": "scatterternary"
           }
          ],
          "surface": [
           {
            "colorbar": {
             "outlinewidth": 0,
             "ticks": ""
            },
            "colorscale": [
             [
              0,
              "#0d0887"
             ],
             [
              0.1111111111111111,
              "#46039f"
             ],
             [
              0.2222222222222222,
              "#7201a8"
             ],
             [
              0.3333333333333333,
              "#9c179e"
             ],
             [
              0.4444444444444444,
              "#bd3786"
             ],
             [
              0.5555555555555556,
              "#d8576b"
             ],
             [
              0.6666666666666666,
              "#ed7953"
             ],
             [
              0.7777777777777778,
              "#fb9f3a"
             ],
             [
              0.8888888888888888,
              "#fdca26"
             ],
             [
              1,
              "#f0f921"
             ]
            ],
            "type": "surface"
           }
          ],
          "table": [
           {
            "cells": {
             "fill": {
              "color": "#EBF0F8"
             },
             "line": {
              "color": "white"
             }
            },
            "header": {
             "fill": {
              "color": "#C8D4E3"
             },
             "line": {
              "color": "white"
             }
            },
            "type": "table"
           }
          ]
         },
         "layout": {
          "annotationdefaults": {
           "arrowcolor": "#2a3f5f",
           "arrowhead": 0,
           "arrowwidth": 1
          },
          "colorscale": {
           "diverging": [
            [
             0,
             "#8e0152"
            ],
            [
             0.1,
             "#c51b7d"
            ],
            [
             0.2,
             "#de77ae"
            ],
            [
             0.3,
             "#f1b6da"
            ],
            [
             0.4,
             "#fde0ef"
            ],
            [
             0.5,
             "#f7f7f7"
            ],
            [
             0.6,
             "#e6f5d0"
            ],
            [
             0.7,
             "#b8e186"
            ],
            [
             0.8,
             "#7fbc41"
            ],
            [
             0.9,
             "#4d9221"
            ],
            [
             1,
             "#276419"
            ]
           ],
           "sequential": [
            [
             0,
             "#0d0887"
            ],
            [
             0.1111111111111111,
             "#46039f"
            ],
            [
             0.2222222222222222,
             "#7201a8"
            ],
            [
             0.3333333333333333,
             "#9c179e"
            ],
            [
             0.4444444444444444,
             "#bd3786"
            ],
            [
             0.5555555555555556,
             "#d8576b"
            ],
            [
             0.6666666666666666,
             "#ed7953"
            ],
            [
             0.7777777777777778,
             "#fb9f3a"
            ],
            [
             0.8888888888888888,
             "#fdca26"
            ],
            [
             1,
             "#f0f921"
            ]
           ],
           "sequentialminus": [
            [
             0,
             "#0d0887"
            ],
            [
             0.1111111111111111,
             "#46039f"
            ],
            [
             0.2222222222222222,
             "#7201a8"
            ],
            [
             0.3333333333333333,
             "#9c179e"
            ],
            [
             0.4444444444444444,
             "#bd3786"
            ],
            [
             0.5555555555555556,
             "#d8576b"
            ],
            [
             0.6666666666666666,
             "#ed7953"
            ],
            [
             0.7777777777777778,
             "#fb9f3a"
            ],
            [
             0.8888888888888888,
             "#fdca26"
            ],
            [
             1,
             "#f0f921"
            ]
           ]
          },
          "colorway": [
           "#636efa",
           "#EF553B",
           "#00cc96",
           "#ab63fa",
           "#FFA15A",
           "#19d3f3",
           "#FF6692",
           "#B6E880",
           "#FF97FF",
           "#FECB52"
          ],
          "font": {
           "color": "#2a3f5f"
          },
          "geo": {
           "bgcolor": "white",
           "lakecolor": "white",
           "landcolor": "#E5ECF6",
           "showlakes": true,
           "showland": true,
           "subunitcolor": "white"
          },
          "hoverlabel": {
           "align": "left"
          },
          "hovermode": "closest",
          "mapbox": {
           "style": "light"
          },
          "paper_bgcolor": "white",
          "plot_bgcolor": "#E5ECF6",
          "polar": {
           "angularaxis": {
            "gridcolor": "white",
            "linecolor": "white",
            "ticks": ""
           },
           "bgcolor": "#E5ECF6",
           "radialaxis": {
            "gridcolor": "white",
            "linecolor": "white",
            "ticks": ""
           }
          },
          "scene": {
           "xaxis": {
            "backgroundcolor": "#E5ECF6",
            "gridcolor": "white",
            "gridwidth": 2,
            "linecolor": "white",
            "showbackground": true,
            "ticks": "",
            "zerolinecolor": "white"
           },
           "yaxis": {
            "backgroundcolor": "#E5ECF6",
            "gridcolor": "white",
            "gridwidth": 2,
            "linecolor": "white",
            "showbackground": true,
            "ticks": "",
            "zerolinecolor": "white"
           },
           "zaxis": {
            "backgroundcolor": "#E5ECF6",
            "gridcolor": "white",
            "gridwidth": 2,
            "linecolor": "white",
            "showbackground": true,
            "ticks": "",
            "zerolinecolor": "white"
           }
          },
          "shapedefaults": {
           "line": {
            "color": "#2a3f5f"
           }
          },
          "ternary": {
           "aaxis": {
            "gridcolor": "white",
            "linecolor": "white",
            "ticks": ""
           },
           "baxis": {
            "gridcolor": "white",
            "linecolor": "white",
            "ticks": ""
           },
           "bgcolor": "#E5ECF6",
           "caxis": {
            "gridcolor": "white",
            "linecolor": "white",
            "ticks": ""
           }
          },
          "title": {
           "x": 0.05
          },
          "xaxis": {
           "automargin": true,
           "gridcolor": "white",
           "linecolor": "white",
           "ticks": "",
           "zerolinecolor": "white",
           "zerolinewidth": 2
          },
          "yaxis": {
           "automargin": true,
           "gridcolor": "white",
           "linecolor": "white",
           "ticks": "",
           "zerolinecolor": "white",
           "zerolinewidth": 2
          }
         }
        },
        "title": {
         "text": "Budget and Gross Profit Correlation"
        },
        "xaxis": {
         "anchor": "y",
         "domain": [
          0,
          0.98
         ],
         "title": {
          "text": "gross_profit"
         }
        },
        "yaxis": {
         "anchor": "x",
         "domain": [
          0,
          1
         ],
         "title": {
          "text": "title"
         }
        }
       }
      },
      "text/html": [
       "<div>\n",
       "        \n",
       "        \n",
       "            <div id=\"a11e611e-aaa8-4c90-8f4c-dcbdb32e60ad\" class=\"plotly-graph-div\" style=\"height:600px; width:100%;\"></div>\n",
       "            <script type=\"text/javascript\">\n",
       "                require([\"plotly\"], function(Plotly) {\n",
       "                    window.PLOTLYENV=window.PLOTLYENV || {};\n",
       "                    \n",
       "                if (document.getElementById(\"a11e611e-aaa8-4c90-8f4c-dcbdb32e60ad\")) {\n",
       "                    Plotly.newPlot(\n",
       "                        'a11e611e-aaa8-4c90-8f4c-dcbdb32e60ad',\n",
       "                        [{\"alignmentgroup\": \"True\", \"hoverlabel\": {\"namelength\": 0}, \"hovertemplate\": \"gross_profit=%{x}<br>title=%{y}<br>budget=%{marker.color}\", \"legendgroup\": \"\", \"marker\": {\"color\": [356000000, 260000000, 150000000, 160000000, 152000000, 55000000, 250000000, 175000000, 183000000, 125000000, 200000000, 0, 129000000, 0, 185000000, 79000000, 150000000, 170000000, 170000000, 100000000, 95000000, 80000000, 55000000, 40000000, 185000000, 11363000, 20000000, 110000000, 200000000, 20000000, 30000000, 97600000, 170000000, 40000000, 20000000, 40000000, 100000000, 0, 138000000, 100000000, 40000000, 20000000, 9000000, 80000000, 40000000, 87500000, 65000000, 100000000, 8120000, 42000000, 9000000, 30000000, 100000000, 49000000, 0, 0, 21000000, 75000000, 37500000, 25000000, 50000000, 13500000, 26000000, 14000000, 0, 95000000, 48000000, 20000000, 45000000, 20000000, 14000000, 10892000, 4000000, 11936735, 27941858, 11500000, 60000000, 6000000, 8751000, 51000000, 40000000, 32000000, 5000000, 25000000, 19000000, 6500000, 9000000, 33000000, 20000000, 0, 10000000, 50000000, 29900000, 0, 2000000, 11000000, 0, 0, 12000000, 5782853], \"coloraxis\": \"coloraxis\"}, \"name\": \"\", \"offsetgroup\": \"\", \"orientation\": \"h\", \"showlegend\": false, \"textposition\": \"auto\", \"type\": \"bar\", \"x\": [2441800564, 1396943394, 1300026933, 971927996, 976276090, 1019251311, 824144248, 898394593, 864612394, 671575993, 560098996, 686067000, 388526875, 500000000, 306570967, 394093228, 283005346, 234852543, 216600138, 274733942, 279251247, 283533271, 271709727, 269232797, 76119292, 246228776, 235105930, 142608480, 52442974, 226941965, 201252591, 127908210, 45832199, 163044905, 172094429, 151540586, 90514361, 186965409, 35469516, 71616764, 127323950, 137600000, 146313078, 75152550, 106661977, 45307427, 66359052, 25641396, 116532206, 80801777, 113033739, 91550750, 19559110, 67826172, 115570314, 115570314, 91399944, 36615070, 73853135, 70438172, 41490353, 75703432, 62092097, 68468705, 74769845, -21484976, 25279888, 52457330, 27281712, 49766483, 55497587, 57433551, 63760877, 54989107, 38351597, 50735335, -786069, 51615777, 46727164, 4000000, 13847136, 21774397, 46749995, 25401502, 31020902, 41521766, 38862188, 14088457, 26597100, 46115383, 34902237, -5335310, 14500000, 42880428, 37273021, 28055536, 38981322, 36120360, 22000000, 28191411], \"xaxis\": \"x\", \"y\": [\"Avengers: Endgame\", \"The Lion King\", \"Frozen II\", \"Spider-Man: Far from Home\", \"Captain Marvel\", \"Joker\", \"Star Wars: The Rise of Skywalker\", \"Toy Story 4\", \"Aladdin\", \"Jumanji: The Next Level\", \"Fast & Furious Presents: Hobbs & Shaw\", \"Ne Zha\", \"How to Train Your Dragon: The Hidden World\", \"Alha Sahma\", \"Maleficent: Mistress of Evil\", \"It Chapter Two\", \"Pok\\u00e9mon Detective Pikachu\", \"Alita: Battle Angel\", \"Godzilla: King of the Monsters\", \"1917\", \"Once Upon a Time\\u2026 in Hollywood\", \"Shazam!\", \"John Wick: Chapter 3 - Parabellum\", \"Knives Out\", \"Terminator: Dark Fate\", \"Parasite\", \"Us\", \"Men in Black: International\", \"Dark Phoenix\", \"Glass\", \"Annabelle Comes Home\", \"Ford v Ferrari\", \"Dumbo\", \"The Addams Family\", \"Downton Abbey\", \"Little Women\", \"The Lego Movie 2: The Second Part\", \"Weathering with You\", \"Gemini Man\", \"Spies in Disguise\", \"Rocketman\", \"Hustlers\", \"Escape Room\", \"The Secret Life of Pets 2\", \"Angel Has Fallen\", \"Ad Astra\", \"The Angry Birds Movie 2\", \"Midway\", \"Extreme Job\", \"Zombieland: Double Tap\", \"The Curse of La Llorona\", \"Last Christmas\", \"Wonder Park\", \"Dora and the Lost City of Gold\", \"Meitantei Conan: Konjo no fisuto\", \"Detective Conan: The Fist of Blue Sapphire\", \"Pet Sematary\", \"Abominable\", \"The Upside\", \"Scary Stories to Tell in the Dark\", \"Rambo: Last Blood\", \"Crawl\", \"Yesterday\", \"Jojo Rabbit\", \"Serial (Bad) Weddings 2\", \"Cats\", \"Charlie's Angels\", \"Good Boys\", \"Doctor Sleep\", \"What Men Want\", \"After\", \"EXIT\", \"A Beautiful Day in the Neighborhood\", \"White Snake\", \"War\", \"Hadestown\", \"Cold Pursuit\", \"Ready or Not\", \"Kabir Singh\", \"Saaho\", \"Long Shot\", \"Bombshell\", \"Ma\", \"Just Mercy\", \"Uncut Gems\", \"Countdown\", \"Midsommar\", \"21 Bridges\", \"Queen & Slim\", \"A Madea Family Funeral\", \"Child's Play\", \"Hellboy\", \"Playing with Fire\", \"A Shaun the Sheep Movie: Farmageddon\", \"My Mom is a Character 3\", \"Fighting with My Family\", \"Judy\", \"The Queen's Corgi\", \"Maharshi\", \"Gully Boy\"], \"yaxis\": \"y\"}],\n",
       "                        {\"barmode\": \"relative\", \"coloraxis\": {\"colorbar\": {\"title\": {\"text\": \"budget\"}}, \"colorscale\": [[0.0, \"#0d0887\"], [0.1111111111111111, \"#46039f\"], [0.2222222222222222, \"#7201a8\"], [0.3333333333333333, \"#9c179e\"], [0.4444444444444444, \"#bd3786\"], [0.5555555555555556, \"#d8576b\"], [0.6666666666666666, \"#ed7953\"], [0.7777777777777778, \"#fb9f3a\"], [0.8888888888888888, \"#fdca26\"], [1.0, \"#f0f921\"]]}, \"height\": 600, \"legend\": {\"tracegroupgap\": 0}, \"template\": {\"data\": {\"bar\": [{\"error_x\": {\"color\": \"#2a3f5f\"}, \"error_y\": {\"color\": \"#2a3f5f\"}, \"marker\": {\"line\": {\"color\": \"#E5ECF6\", \"width\": 0.5}}, \"type\": \"bar\"}], \"barpolar\": [{\"marker\": {\"line\": {\"color\": \"#E5ECF6\", \"width\": 0.5}}, \"type\": \"barpolar\"}], \"carpet\": [{\"aaxis\": {\"endlinecolor\": \"#2a3f5f\", \"gridcolor\": \"white\", \"linecolor\": \"white\", \"minorgridcolor\": \"white\", \"startlinecolor\": \"#2a3f5f\"}, \"baxis\": {\"endlinecolor\": \"#2a3f5f\", \"gridcolor\": \"white\", \"linecolor\": \"white\", \"minorgridcolor\": \"white\", \"startlinecolor\": \"#2a3f5f\"}, \"type\": \"carpet\"}], \"choropleth\": [{\"colorbar\": {\"outlinewidth\": 0, \"ticks\": \"\"}, \"type\": \"choropleth\"}], \"contour\": [{\"colorbar\": {\"outlinewidth\": 0, \"ticks\": \"\"}, \"colorscale\": [[0.0, \"#0d0887\"], [0.1111111111111111, \"#46039f\"], [0.2222222222222222, \"#7201a8\"], [0.3333333333333333, \"#9c179e\"], [0.4444444444444444, \"#bd3786\"], [0.5555555555555556, \"#d8576b\"], [0.6666666666666666, \"#ed7953\"], [0.7777777777777778, \"#fb9f3a\"], [0.8888888888888888, \"#fdca26\"], [1.0, \"#f0f921\"]], \"type\": \"contour\"}], \"contourcarpet\": [{\"colorbar\": {\"outlinewidth\": 0, \"ticks\": \"\"}, \"type\": \"contourcarpet\"}], \"heatmap\": [{\"colorbar\": {\"outlinewidth\": 0, \"ticks\": \"\"}, \"colorscale\": [[0.0, \"#0d0887\"], [0.1111111111111111, \"#46039f\"], [0.2222222222222222, \"#7201a8\"], [0.3333333333333333, \"#9c179e\"], [0.4444444444444444, \"#bd3786\"], [0.5555555555555556, \"#d8576b\"], [0.6666666666666666, \"#ed7953\"], [0.7777777777777778, \"#fb9f3a\"], [0.8888888888888888, \"#fdca26\"], [1.0, \"#f0f921\"]], \"type\": \"heatmap\"}], \"heatmapgl\": [{\"colorbar\": {\"outlinewidth\": 0, \"ticks\": \"\"}, \"colorscale\": [[0.0, \"#0d0887\"], [0.1111111111111111, \"#46039f\"], [0.2222222222222222, \"#7201a8\"], [0.3333333333333333, \"#9c179e\"], [0.4444444444444444, \"#bd3786\"], [0.5555555555555556, \"#d8576b\"], [0.6666666666666666, \"#ed7953\"], [0.7777777777777778, \"#fb9f3a\"], [0.8888888888888888, \"#fdca26\"], [1.0, \"#f0f921\"]], \"type\": \"heatmapgl\"}], \"histogram\": [{\"marker\": {\"colorbar\": {\"outlinewidth\": 0, \"ticks\": \"\"}}, \"type\": \"histogram\"}], \"histogram2d\": [{\"colorbar\": {\"outlinewidth\": 0, \"ticks\": \"\"}, \"colorscale\": [[0.0, \"#0d0887\"], [0.1111111111111111, \"#46039f\"], [0.2222222222222222, \"#7201a8\"], [0.3333333333333333, \"#9c179e\"], [0.4444444444444444, \"#bd3786\"], [0.5555555555555556, \"#d8576b\"], [0.6666666666666666, \"#ed7953\"], [0.7777777777777778, \"#fb9f3a\"], [0.8888888888888888, \"#fdca26\"], [1.0, \"#f0f921\"]], \"type\": \"histogram2d\"}], \"histogram2dcontour\": [{\"colorbar\": {\"outlinewidth\": 0, \"ticks\": \"\"}, \"colorscale\": [[0.0, \"#0d0887\"], [0.1111111111111111, \"#46039f\"], [0.2222222222222222, \"#7201a8\"], [0.3333333333333333, \"#9c179e\"], [0.4444444444444444, \"#bd3786\"], [0.5555555555555556, \"#d8576b\"], [0.6666666666666666, \"#ed7953\"], [0.7777777777777778, \"#fb9f3a\"], [0.8888888888888888, \"#fdca26\"], [1.0, \"#f0f921\"]], \"type\": \"histogram2dcontour\"}], \"mesh3d\": [{\"colorbar\": {\"outlinewidth\": 0, \"ticks\": \"\"}, \"type\": \"mesh3d\"}], \"parcoords\": [{\"line\": {\"colorbar\": {\"outlinewidth\": 0, \"ticks\": \"\"}}, \"type\": \"parcoords\"}], \"scatter\": [{\"marker\": {\"colorbar\": {\"outlinewidth\": 0, \"ticks\": \"\"}}, \"type\": \"scatter\"}], \"scatter3d\": [{\"line\": {\"colorbar\": {\"outlinewidth\": 0, \"ticks\": \"\"}}, \"marker\": {\"colorbar\": {\"outlinewidth\": 0, \"ticks\": \"\"}}, \"type\": \"scatter3d\"}], \"scattercarpet\": [{\"marker\": {\"colorbar\": {\"outlinewidth\": 0, \"ticks\": \"\"}}, \"type\": \"scattercarpet\"}], \"scattergeo\": [{\"marker\": {\"colorbar\": {\"outlinewidth\": 0, \"ticks\": \"\"}}, \"type\": \"scattergeo\"}], \"scattergl\": [{\"marker\": {\"colorbar\": {\"outlinewidth\": 0, \"ticks\": \"\"}}, \"type\": \"scattergl\"}], \"scattermapbox\": [{\"marker\": {\"colorbar\": {\"outlinewidth\": 0, \"ticks\": \"\"}}, \"type\": \"scattermapbox\"}], \"scatterpolar\": [{\"marker\": {\"colorbar\": {\"outlinewidth\": 0, \"ticks\": \"\"}}, \"type\": \"scatterpolar\"}], \"scatterpolargl\": [{\"marker\": {\"colorbar\": {\"outlinewidth\": 0, \"ticks\": \"\"}}, \"type\": \"scatterpolargl\"}], \"scatterternary\": [{\"marker\": {\"colorbar\": {\"outlinewidth\": 0, \"ticks\": \"\"}}, \"type\": \"scatterternary\"}], \"surface\": [{\"colorbar\": {\"outlinewidth\": 0, \"ticks\": \"\"}, \"colorscale\": [[0.0, \"#0d0887\"], [0.1111111111111111, \"#46039f\"], [0.2222222222222222, \"#7201a8\"], [0.3333333333333333, \"#9c179e\"], [0.4444444444444444, \"#bd3786\"], [0.5555555555555556, \"#d8576b\"], [0.6666666666666666, \"#ed7953\"], [0.7777777777777778, \"#fb9f3a\"], [0.8888888888888888, \"#fdca26\"], [1.0, \"#f0f921\"]], \"type\": \"surface\"}], \"table\": [{\"cells\": {\"fill\": {\"color\": \"#EBF0F8\"}, \"line\": {\"color\": \"white\"}}, \"header\": {\"fill\": {\"color\": \"#C8D4E3\"}, \"line\": {\"color\": \"white\"}}, \"type\": \"table\"}]}, \"layout\": {\"annotationdefaults\": {\"arrowcolor\": \"#2a3f5f\", \"arrowhead\": 0, \"arrowwidth\": 1}, \"colorscale\": {\"diverging\": [[0, \"#8e0152\"], [0.1, \"#c51b7d\"], [0.2, \"#de77ae\"], [0.3, \"#f1b6da\"], [0.4, \"#fde0ef\"], [0.5, \"#f7f7f7\"], [0.6, \"#e6f5d0\"], [0.7, \"#b8e186\"], [0.8, \"#7fbc41\"], [0.9, \"#4d9221\"], [1, \"#276419\"]], \"sequential\": [[0.0, \"#0d0887\"], [0.1111111111111111, \"#46039f\"], [0.2222222222222222, \"#7201a8\"], [0.3333333333333333, \"#9c179e\"], [0.4444444444444444, \"#bd3786\"], [0.5555555555555556, \"#d8576b\"], [0.6666666666666666, \"#ed7953\"], [0.7777777777777778, \"#fb9f3a\"], [0.8888888888888888, \"#fdca26\"], [1.0, \"#f0f921\"]], \"sequentialminus\": [[0.0, \"#0d0887\"], [0.1111111111111111, \"#46039f\"], [0.2222222222222222, \"#7201a8\"], [0.3333333333333333, \"#9c179e\"], [0.4444444444444444, \"#bd3786\"], [0.5555555555555556, \"#d8576b\"], [0.6666666666666666, \"#ed7953\"], [0.7777777777777778, \"#fb9f3a\"], [0.8888888888888888, \"#fdca26\"], [1.0, \"#f0f921\"]]}, \"colorway\": [\"#636efa\", \"#EF553B\", \"#00cc96\", \"#ab63fa\", \"#FFA15A\", \"#19d3f3\", \"#FF6692\", \"#B6E880\", \"#FF97FF\", \"#FECB52\"], \"font\": {\"color\": \"#2a3f5f\"}, \"geo\": {\"bgcolor\": \"white\", \"lakecolor\": \"white\", \"landcolor\": \"#E5ECF6\", \"showlakes\": true, \"showland\": true, \"subunitcolor\": \"white\"}, \"hoverlabel\": {\"align\": \"left\"}, \"hovermode\": \"closest\", \"mapbox\": {\"style\": \"light\"}, \"paper_bgcolor\": \"white\", \"plot_bgcolor\": \"#E5ECF6\", \"polar\": {\"angularaxis\": {\"gridcolor\": \"white\", \"linecolor\": \"white\", \"ticks\": \"\"}, \"bgcolor\": \"#E5ECF6\", \"radialaxis\": {\"gridcolor\": \"white\", \"linecolor\": \"white\", \"ticks\": \"\"}}, \"scene\": {\"xaxis\": {\"backgroundcolor\": \"#E5ECF6\", \"gridcolor\": \"white\", \"gridwidth\": 2, \"linecolor\": \"white\", \"showbackground\": true, \"ticks\": \"\", \"zerolinecolor\": \"white\"}, \"yaxis\": {\"backgroundcolor\": \"#E5ECF6\", \"gridcolor\": \"white\", \"gridwidth\": 2, \"linecolor\": \"white\", \"showbackground\": true, \"ticks\": \"\", \"zerolinecolor\": \"white\"}, \"zaxis\": {\"backgroundcolor\": \"#E5ECF6\", \"gridcolor\": \"white\", \"gridwidth\": 2, \"linecolor\": \"white\", \"showbackground\": true, \"ticks\": \"\", \"zerolinecolor\": \"white\"}}, \"shapedefaults\": {\"line\": {\"color\": \"#2a3f5f\"}}, \"ternary\": {\"aaxis\": {\"gridcolor\": \"white\", \"linecolor\": \"white\", \"ticks\": \"\"}, \"baxis\": {\"gridcolor\": \"white\", \"linecolor\": \"white\", \"ticks\": \"\"}, \"bgcolor\": \"#E5ECF6\", \"caxis\": {\"gridcolor\": \"white\", \"linecolor\": \"white\", \"ticks\": \"\"}}, \"title\": {\"x\": 0.05}, \"xaxis\": {\"automargin\": true, \"gridcolor\": \"white\", \"linecolor\": \"white\", \"ticks\": \"\", \"zerolinecolor\": \"white\", \"zerolinewidth\": 2}, \"yaxis\": {\"automargin\": true, \"gridcolor\": \"white\", \"linecolor\": \"white\", \"ticks\": \"\", \"zerolinecolor\": \"white\", \"zerolinewidth\": 2}}}, \"title\": {\"text\": \"Budget and Gross Profit Correlation\"}, \"xaxis\": {\"anchor\": \"y\", \"domain\": [0.0, 0.98], \"title\": {\"text\": \"gross_profit\"}}, \"yaxis\": {\"anchor\": \"x\", \"domain\": [0.0, 1.0], \"title\": {\"text\": \"title\"}}},\n",
       "                        {\"responsive\": true}\n",
       "                    ).then(function(){\n",
       "                            \n",
       "var gd = document.getElementById('a11e611e-aaa8-4c90-8f4c-dcbdb32e60ad');\n",
       "var x = new MutationObserver(function (mutations, observer) {{\n",
       "        var display = window.getComputedStyle(gd).display;\n",
       "        if (!display || display === 'none') {{\n",
       "            console.log([gd, 'removed!']);\n",
       "            Plotly.purge(gd);\n",
       "            observer.disconnect();\n",
       "        }}\n",
       "}});\n",
       "\n",
       "// Listen for the removal of the full notebook cells\n",
       "var notebookContainer = gd.closest('#notebook-container');\n",
       "if (notebookContainer) {{\n",
       "    x.observe(notebookContainer, {childList: true});\n",
       "}}\n",
       "\n",
       "// Listen for the clearing of the current output cell\n",
       "var outputEl = gd.closest('.output');\n",
       "if (outputEl) {{\n",
       "    x.observe(outputEl, {childList: true});\n",
       "}}\n",
       "\n",
       "                        })\n",
       "                };\n",
       "                });\n",
       "            </script>\n",
       "        </div>"
      ]
     },
     "metadata": {},
     "output_type": "display_data"
    }
   ],
   "source": [
    "fig = px.bar(df3, x=\"gross_profit\", y=\"title\", color=\"budget\", orientation='h', title='Budget and Gross Profit Correlation')\n",
    "fig.show()\n"
   ]
  },
  {
   "cell_type": "code",
   "execution_count": 135,
   "metadata": {},
   "outputs": [
    {
     "data": {
      "application/vnd.plotly.v1+json": {
       "config": {
        "plotlyServerURL": "https://plot.ly"
       },
       "data": [
        {
         "alignmentgroup": "True",
         "hoverlabel": {
          "namelength": 0
         },
         "hovertemplate": "budget=%{x}<br>title=%{y}<br>gross_profit=%{marker.color}",
         "legendgroup": "",
         "marker": {
          "color": [
           2441800564,
           1396943394,
           1300026933,
           971927996,
           976276090,
           1019251311,
           824144248,
           898394593,
           864612394,
           671575993,
           560098996,
           686067000,
           388526875,
           500000000,
           306570967,
           394093228,
           283005346,
           234852543,
           216600138,
           274733942,
           279251247,
           283533271,
           271709727,
           269232797,
           76119292,
           246228776,
           235105930,
           142608480,
           52442974,
           226941965,
           201252591,
           127908210,
           45832199,
           163044905,
           172094429,
           151540586,
           90514361,
           186965409,
           35469516,
           71616764,
           127323950,
           137600000,
           146313078,
           75152550,
           106661977,
           45307427,
           66359052,
           25641396,
           116532206,
           80801777,
           113033739,
           91550750,
           19559110,
           67826172,
           115570314,
           115570314,
           91399944,
           36615070,
           73853135,
           70438172,
           41490353,
           75703432,
           62092097,
           68468705,
           74769845,
           -21484976,
           25279888,
           52457330,
           27281712,
           49766483,
           55497587,
           57433551,
           63760877,
           54989107,
           38351597,
           50735335,
           -786069,
           51615777,
           46727164,
           4000000,
           13847136,
           21774397,
           46749995,
           25401502,
           31020902,
           41521766,
           38862188,
           14088457,
           26597100,
           46115383,
           34902237,
           -5335310,
           14500000,
           42880428,
           37273021,
           28055536,
           38981322,
           36120360,
           22000000,
           28191411
          ],
          "coloraxis": "coloraxis"
         },
         "name": "",
         "offsetgroup": "",
         "orientation": "h",
         "showlegend": false,
         "textposition": "auto",
         "type": "bar",
         "x": [
          356000000,
          260000000,
          150000000,
          160000000,
          152000000,
          55000000,
          250000000,
          175000000,
          183000000,
          125000000,
          200000000,
          0,
          129000000,
          0,
          185000000,
          79000000,
          150000000,
          170000000,
          170000000,
          100000000,
          95000000,
          80000000,
          55000000,
          40000000,
          185000000,
          11363000,
          20000000,
          110000000,
          200000000,
          20000000,
          30000000,
          97600000,
          170000000,
          40000000,
          20000000,
          40000000,
          100000000,
          0,
          138000000,
          100000000,
          40000000,
          20000000,
          9000000,
          80000000,
          40000000,
          87500000,
          65000000,
          100000000,
          8120000,
          42000000,
          9000000,
          30000000,
          100000000,
          49000000,
          0,
          0,
          21000000,
          75000000,
          37500000,
          25000000,
          50000000,
          13500000,
          26000000,
          14000000,
          0,
          95000000,
          48000000,
          20000000,
          45000000,
          20000000,
          14000000,
          10892000,
          4000000,
          11936735,
          27941858,
          11500000,
          60000000,
          6000000,
          8751000,
          51000000,
          40000000,
          32000000,
          5000000,
          25000000,
          19000000,
          6500000,
          9000000,
          33000000,
          20000000,
          0,
          10000000,
          50000000,
          29900000,
          0,
          2000000,
          11000000,
          0,
          0,
          12000000,
          5782853
         ],
         "xaxis": "x",
         "y": [
          "Avengers: Endgame",
          "The Lion King",
          "Frozen II",
          "Spider-Man: Far from Home",
          "Captain Marvel",
          "Joker",
          "Star Wars: The Rise of Skywalker",
          "Toy Story 4",
          "Aladdin",
          "Jumanji: The Next Level",
          "Fast & Furious Presents: Hobbs & Shaw",
          "Ne Zha",
          "How to Train Your Dragon: The Hidden World",
          "Alha Sahma",
          "Maleficent: Mistress of Evil",
          "It Chapter Two",
          "Pokémon Detective Pikachu",
          "Alita: Battle Angel",
          "Godzilla: King of the Monsters",
          "1917",
          "Once Upon a Time… in Hollywood",
          "Shazam!",
          "John Wick: Chapter 3 - Parabellum",
          "Knives Out",
          "Terminator: Dark Fate",
          "Parasite",
          "Us",
          "Men in Black: International",
          "Dark Phoenix",
          "Glass",
          "Annabelle Comes Home",
          "Ford v Ferrari",
          "Dumbo",
          "The Addams Family",
          "Downton Abbey",
          "Little Women",
          "The Lego Movie 2: The Second Part",
          "Weathering with You",
          "Gemini Man",
          "Spies in Disguise",
          "Rocketman",
          "Hustlers",
          "Escape Room",
          "The Secret Life of Pets 2",
          "Angel Has Fallen",
          "Ad Astra",
          "The Angry Birds Movie 2",
          "Midway",
          "Extreme Job",
          "Zombieland: Double Tap",
          "The Curse of La Llorona",
          "Last Christmas",
          "Wonder Park",
          "Dora and the Lost City of Gold",
          "Meitantei Conan: Konjo no fisuto",
          "Detective Conan: The Fist of Blue Sapphire",
          "Pet Sematary",
          "Abominable",
          "The Upside",
          "Scary Stories to Tell in the Dark",
          "Rambo: Last Blood",
          "Crawl",
          "Yesterday",
          "Jojo Rabbit",
          "Serial (Bad) Weddings 2",
          "Cats",
          "Charlie's Angels",
          "Good Boys",
          "Doctor Sleep",
          "What Men Want",
          "After",
          "EXIT",
          "A Beautiful Day in the Neighborhood",
          "White Snake",
          "War",
          "Hadestown",
          "Cold Pursuit",
          "Ready or Not",
          "Kabir Singh",
          "Saaho",
          "Long Shot",
          "Bombshell",
          "Ma",
          "Just Mercy",
          "Uncut Gems",
          "Countdown",
          "Midsommar",
          "21 Bridges",
          "Queen & Slim",
          "A Madea Family Funeral",
          "Child's Play",
          "Hellboy",
          "Playing with Fire",
          "A Shaun the Sheep Movie: Farmageddon",
          "My Mom is a Character 3",
          "Fighting with My Family",
          "Judy",
          "The Queen's Corgi",
          "Maharshi",
          "Gully Boy"
         ],
         "yaxis": "y"
        }
       ],
       "layout": {
        "barmode": "relative",
        "coloraxis": {
         "colorbar": {
          "title": {
           "text": "gross_profit"
          }
         },
         "colorscale": [
          [
           0,
           "#0d0887"
          ],
          [
           0.1111111111111111,
           "#46039f"
          ],
          [
           0.2222222222222222,
           "#7201a8"
          ],
          [
           0.3333333333333333,
           "#9c179e"
          ],
          [
           0.4444444444444444,
           "#bd3786"
          ],
          [
           0.5555555555555556,
           "#d8576b"
          ],
          [
           0.6666666666666666,
           "#ed7953"
          ],
          [
           0.7777777777777778,
           "#fb9f3a"
          ],
          [
           0.8888888888888888,
           "#fdca26"
          ],
          [
           1,
           "#f0f921"
          ]
         ]
        },
        "height": 800,
        "legend": {
         "tracegroupgap": 0
        },
        "template": {
         "data": {
          "bar": [
           {
            "error_x": {
             "color": "#2a3f5f"
            },
            "error_y": {
             "color": "#2a3f5f"
            },
            "marker": {
             "line": {
              "color": "#E5ECF6",
              "width": 0.5
             }
            },
            "type": "bar"
           }
          ],
          "barpolar": [
           {
            "marker": {
             "line": {
              "color": "#E5ECF6",
              "width": 0.5
             }
            },
            "type": "barpolar"
           }
          ],
          "carpet": [
           {
            "aaxis": {
             "endlinecolor": "#2a3f5f",
             "gridcolor": "white",
             "linecolor": "white",
             "minorgridcolor": "white",
             "startlinecolor": "#2a3f5f"
            },
            "baxis": {
             "endlinecolor": "#2a3f5f",
             "gridcolor": "white",
             "linecolor": "white",
             "minorgridcolor": "white",
             "startlinecolor": "#2a3f5f"
            },
            "type": "carpet"
           }
          ],
          "choropleth": [
           {
            "colorbar": {
             "outlinewidth": 0,
             "ticks": ""
            },
            "type": "choropleth"
           }
          ],
          "contour": [
           {
            "colorbar": {
             "outlinewidth": 0,
             "ticks": ""
            },
            "colorscale": [
             [
              0,
              "#0d0887"
             ],
             [
              0.1111111111111111,
              "#46039f"
             ],
             [
              0.2222222222222222,
              "#7201a8"
             ],
             [
              0.3333333333333333,
              "#9c179e"
             ],
             [
              0.4444444444444444,
              "#bd3786"
             ],
             [
              0.5555555555555556,
              "#d8576b"
             ],
             [
              0.6666666666666666,
              "#ed7953"
             ],
             [
              0.7777777777777778,
              "#fb9f3a"
             ],
             [
              0.8888888888888888,
              "#fdca26"
             ],
             [
              1,
              "#f0f921"
             ]
            ],
            "type": "contour"
           }
          ],
          "contourcarpet": [
           {
            "colorbar": {
             "outlinewidth": 0,
             "ticks": ""
            },
            "type": "contourcarpet"
           }
          ],
          "heatmap": [
           {
            "colorbar": {
             "outlinewidth": 0,
             "ticks": ""
            },
            "colorscale": [
             [
              0,
              "#0d0887"
             ],
             [
              0.1111111111111111,
              "#46039f"
             ],
             [
              0.2222222222222222,
              "#7201a8"
             ],
             [
              0.3333333333333333,
              "#9c179e"
             ],
             [
              0.4444444444444444,
              "#bd3786"
             ],
             [
              0.5555555555555556,
              "#d8576b"
             ],
             [
              0.6666666666666666,
              "#ed7953"
             ],
             [
              0.7777777777777778,
              "#fb9f3a"
             ],
             [
              0.8888888888888888,
              "#fdca26"
             ],
             [
              1,
              "#f0f921"
             ]
            ],
            "type": "heatmap"
           }
          ],
          "heatmapgl": [
           {
            "colorbar": {
             "outlinewidth": 0,
             "ticks": ""
            },
            "colorscale": [
             [
              0,
              "#0d0887"
             ],
             [
              0.1111111111111111,
              "#46039f"
             ],
             [
              0.2222222222222222,
              "#7201a8"
             ],
             [
              0.3333333333333333,
              "#9c179e"
             ],
             [
              0.4444444444444444,
              "#bd3786"
             ],
             [
              0.5555555555555556,
              "#d8576b"
             ],
             [
              0.6666666666666666,
              "#ed7953"
             ],
             [
              0.7777777777777778,
              "#fb9f3a"
             ],
             [
              0.8888888888888888,
              "#fdca26"
             ],
             [
              1,
              "#f0f921"
             ]
            ],
            "type": "heatmapgl"
           }
          ],
          "histogram": [
           {
            "marker": {
             "colorbar": {
              "outlinewidth": 0,
              "ticks": ""
             }
            },
            "type": "histogram"
           }
          ],
          "histogram2d": [
           {
            "colorbar": {
             "outlinewidth": 0,
             "ticks": ""
            },
            "colorscale": [
             [
              0,
              "#0d0887"
             ],
             [
              0.1111111111111111,
              "#46039f"
             ],
             [
              0.2222222222222222,
              "#7201a8"
             ],
             [
              0.3333333333333333,
              "#9c179e"
             ],
             [
              0.4444444444444444,
              "#bd3786"
             ],
             [
              0.5555555555555556,
              "#d8576b"
             ],
             [
              0.6666666666666666,
              "#ed7953"
             ],
             [
              0.7777777777777778,
              "#fb9f3a"
             ],
             [
              0.8888888888888888,
              "#fdca26"
             ],
             [
              1,
              "#f0f921"
             ]
            ],
            "type": "histogram2d"
           }
          ],
          "histogram2dcontour": [
           {
            "colorbar": {
             "outlinewidth": 0,
             "ticks": ""
            },
            "colorscale": [
             [
              0,
              "#0d0887"
             ],
             [
              0.1111111111111111,
              "#46039f"
             ],
             [
              0.2222222222222222,
              "#7201a8"
             ],
             [
              0.3333333333333333,
              "#9c179e"
             ],
             [
              0.4444444444444444,
              "#bd3786"
             ],
             [
              0.5555555555555556,
              "#d8576b"
             ],
             [
              0.6666666666666666,
              "#ed7953"
             ],
             [
              0.7777777777777778,
              "#fb9f3a"
             ],
             [
              0.8888888888888888,
              "#fdca26"
             ],
             [
              1,
              "#f0f921"
             ]
            ],
            "type": "histogram2dcontour"
           }
          ],
          "mesh3d": [
           {
            "colorbar": {
             "outlinewidth": 0,
             "ticks": ""
            },
            "type": "mesh3d"
           }
          ],
          "parcoords": [
           {
            "line": {
             "colorbar": {
              "outlinewidth": 0,
              "ticks": ""
             }
            },
            "type": "parcoords"
           }
          ],
          "scatter": [
           {
            "marker": {
             "colorbar": {
              "outlinewidth": 0,
              "ticks": ""
             }
            },
            "type": "scatter"
           }
          ],
          "scatter3d": [
           {
            "line": {
             "colorbar": {
              "outlinewidth": 0,
              "ticks": ""
             }
            },
            "marker": {
             "colorbar": {
              "outlinewidth": 0,
              "ticks": ""
             }
            },
            "type": "scatter3d"
           }
          ],
          "scattercarpet": [
           {
            "marker": {
             "colorbar": {
              "outlinewidth": 0,
              "ticks": ""
             }
            },
            "type": "scattercarpet"
           }
          ],
          "scattergeo": [
           {
            "marker": {
             "colorbar": {
              "outlinewidth": 0,
              "ticks": ""
             }
            },
            "type": "scattergeo"
           }
          ],
          "scattergl": [
           {
            "marker": {
             "colorbar": {
              "outlinewidth": 0,
              "ticks": ""
             }
            },
            "type": "scattergl"
           }
          ],
          "scattermapbox": [
           {
            "marker": {
             "colorbar": {
              "outlinewidth": 0,
              "ticks": ""
             }
            },
            "type": "scattermapbox"
           }
          ],
          "scatterpolar": [
           {
            "marker": {
             "colorbar": {
              "outlinewidth": 0,
              "ticks": ""
             }
            },
            "type": "scatterpolar"
           }
          ],
          "scatterpolargl": [
           {
            "marker": {
             "colorbar": {
              "outlinewidth": 0,
              "ticks": ""
             }
            },
            "type": "scatterpolargl"
           }
          ],
          "scatterternary": [
           {
            "marker": {
             "colorbar": {
              "outlinewidth": 0,
              "ticks": ""
             }
            },
            "type": "scatterternary"
           }
          ],
          "surface": [
           {
            "colorbar": {
             "outlinewidth": 0,
             "ticks": ""
            },
            "colorscale": [
             [
              0,
              "#0d0887"
             ],
             [
              0.1111111111111111,
              "#46039f"
             ],
             [
              0.2222222222222222,
              "#7201a8"
             ],
             [
              0.3333333333333333,
              "#9c179e"
             ],
             [
              0.4444444444444444,
              "#bd3786"
             ],
             [
              0.5555555555555556,
              "#d8576b"
             ],
             [
              0.6666666666666666,
              "#ed7953"
             ],
             [
              0.7777777777777778,
              "#fb9f3a"
             ],
             [
              0.8888888888888888,
              "#fdca26"
             ],
             [
              1,
              "#f0f921"
             ]
            ],
            "type": "surface"
           }
          ],
          "table": [
           {
            "cells": {
             "fill": {
              "color": "#EBF0F8"
             },
             "line": {
              "color": "white"
             }
            },
            "header": {
             "fill": {
              "color": "#C8D4E3"
             },
             "line": {
              "color": "white"
             }
            },
            "type": "table"
           }
          ]
         },
         "layout": {
          "annotationdefaults": {
           "arrowcolor": "#2a3f5f",
           "arrowhead": 0,
           "arrowwidth": 1
          },
          "colorscale": {
           "diverging": [
            [
             0,
             "#8e0152"
            ],
            [
             0.1,
             "#c51b7d"
            ],
            [
             0.2,
             "#de77ae"
            ],
            [
             0.3,
             "#f1b6da"
            ],
            [
             0.4,
             "#fde0ef"
            ],
            [
             0.5,
             "#f7f7f7"
            ],
            [
             0.6,
             "#e6f5d0"
            ],
            [
             0.7,
             "#b8e186"
            ],
            [
             0.8,
             "#7fbc41"
            ],
            [
             0.9,
             "#4d9221"
            ],
            [
             1,
             "#276419"
            ]
           ],
           "sequential": [
            [
             0,
             "#0d0887"
            ],
            [
             0.1111111111111111,
             "#46039f"
            ],
            [
             0.2222222222222222,
             "#7201a8"
            ],
            [
             0.3333333333333333,
             "#9c179e"
            ],
            [
             0.4444444444444444,
             "#bd3786"
            ],
            [
             0.5555555555555556,
             "#d8576b"
            ],
            [
             0.6666666666666666,
             "#ed7953"
            ],
            [
             0.7777777777777778,
             "#fb9f3a"
            ],
            [
             0.8888888888888888,
             "#fdca26"
            ],
            [
             1,
             "#f0f921"
            ]
           ],
           "sequentialminus": [
            [
             0,
             "#0d0887"
            ],
            [
             0.1111111111111111,
             "#46039f"
            ],
            [
             0.2222222222222222,
             "#7201a8"
            ],
            [
             0.3333333333333333,
             "#9c179e"
            ],
            [
             0.4444444444444444,
             "#bd3786"
            ],
            [
             0.5555555555555556,
             "#d8576b"
            ],
            [
             0.6666666666666666,
             "#ed7953"
            ],
            [
             0.7777777777777778,
             "#fb9f3a"
            ],
            [
             0.8888888888888888,
             "#fdca26"
            ],
            [
             1,
             "#f0f921"
            ]
           ]
          },
          "colorway": [
           "#636efa",
           "#EF553B",
           "#00cc96",
           "#ab63fa",
           "#FFA15A",
           "#19d3f3",
           "#FF6692",
           "#B6E880",
           "#FF97FF",
           "#FECB52"
          ],
          "font": {
           "color": "#2a3f5f"
          },
          "geo": {
           "bgcolor": "white",
           "lakecolor": "white",
           "landcolor": "#E5ECF6",
           "showlakes": true,
           "showland": true,
           "subunitcolor": "white"
          },
          "hoverlabel": {
           "align": "left"
          },
          "hovermode": "closest",
          "mapbox": {
           "style": "light"
          },
          "paper_bgcolor": "white",
          "plot_bgcolor": "#E5ECF6",
          "polar": {
           "angularaxis": {
            "gridcolor": "white",
            "linecolor": "white",
            "ticks": ""
           },
           "bgcolor": "#E5ECF6",
           "radialaxis": {
            "gridcolor": "white",
            "linecolor": "white",
            "ticks": ""
           }
          },
          "scene": {
           "xaxis": {
            "backgroundcolor": "#E5ECF6",
            "gridcolor": "white",
            "gridwidth": 2,
            "linecolor": "white",
            "showbackground": true,
            "ticks": "",
            "zerolinecolor": "white"
           },
           "yaxis": {
            "backgroundcolor": "#E5ECF6",
            "gridcolor": "white",
            "gridwidth": 2,
            "linecolor": "white",
            "showbackground": true,
            "ticks": "",
            "zerolinecolor": "white"
           },
           "zaxis": {
            "backgroundcolor": "#E5ECF6",
            "gridcolor": "white",
            "gridwidth": 2,
            "linecolor": "white",
            "showbackground": true,
            "ticks": "",
            "zerolinecolor": "white"
           }
          },
          "shapedefaults": {
           "line": {
            "color": "#2a3f5f"
           }
          },
          "ternary": {
           "aaxis": {
            "gridcolor": "white",
            "linecolor": "white",
            "ticks": ""
           },
           "baxis": {
            "gridcolor": "white",
            "linecolor": "white",
            "ticks": ""
           },
           "bgcolor": "#E5ECF6",
           "caxis": {
            "gridcolor": "white",
            "linecolor": "white",
            "ticks": ""
           }
          },
          "title": {
           "x": 0.05
          },
          "xaxis": {
           "automargin": true,
           "gridcolor": "white",
           "linecolor": "white",
           "ticks": "",
           "zerolinecolor": "white",
           "zerolinewidth": 2
          },
          "yaxis": {
           "automargin": true,
           "gridcolor": "white",
           "linecolor": "white",
           "ticks": "",
           "zerolinecolor": "white",
           "zerolinewidth": 2
          }
         }
        },
        "title": {
         "text": "Budget and Gross Profit Correlation for top 100 revenue movies from 2019"
        },
        "xaxis": {
         "anchor": "y",
         "domain": [
          0,
          0.98
         ],
         "title": {
          "text": "budget"
         }
        },
        "yaxis": {
         "anchor": "x",
         "domain": [
          0,
          1
         ],
         "title": {
          "text": "title"
         }
        }
       }
      },
      "text/html": [
       "<div>\n",
       "        \n",
       "        \n",
       "            <div id=\"c129e90b-e23c-4996-80d9-25dc2167f5c7\" class=\"plotly-graph-div\" style=\"height:800px; width:100%;\"></div>\n",
       "            <script type=\"text/javascript\">\n",
       "                require([\"plotly\"], function(Plotly) {\n",
       "                    window.PLOTLYENV=window.PLOTLYENV || {};\n",
       "                    \n",
       "                if (document.getElementById(\"c129e90b-e23c-4996-80d9-25dc2167f5c7\")) {\n",
       "                    Plotly.newPlot(\n",
       "                        'c129e90b-e23c-4996-80d9-25dc2167f5c7',\n",
       "                        [{\"alignmentgroup\": \"True\", \"hoverlabel\": {\"namelength\": 0}, \"hovertemplate\": \"budget=%{x}<br>title=%{y}<br>gross_profit=%{marker.color}\", \"legendgroup\": \"\", \"marker\": {\"color\": [2441800564, 1396943394, 1300026933, 971927996, 976276090, 1019251311, 824144248, 898394593, 864612394, 671575993, 560098996, 686067000, 388526875, 500000000, 306570967, 394093228, 283005346, 234852543, 216600138, 274733942, 279251247, 283533271, 271709727, 269232797, 76119292, 246228776, 235105930, 142608480, 52442974, 226941965, 201252591, 127908210, 45832199, 163044905, 172094429, 151540586, 90514361, 186965409, 35469516, 71616764, 127323950, 137600000, 146313078, 75152550, 106661977, 45307427, 66359052, 25641396, 116532206, 80801777, 113033739, 91550750, 19559110, 67826172, 115570314, 115570314, 91399944, 36615070, 73853135, 70438172, 41490353, 75703432, 62092097, 68468705, 74769845, -21484976, 25279888, 52457330, 27281712, 49766483, 55497587, 57433551, 63760877, 54989107, 38351597, 50735335, -786069, 51615777, 46727164, 4000000, 13847136, 21774397, 46749995, 25401502, 31020902, 41521766, 38862188, 14088457, 26597100, 46115383, 34902237, -5335310, 14500000, 42880428, 37273021, 28055536, 38981322, 36120360, 22000000, 28191411], \"coloraxis\": \"coloraxis\"}, \"name\": \"\", \"offsetgroup\": \"\", \"orientation\": \"h\", \"showlegend\": false, \"textposition\": \"auto\", \"type\": \"bar\", \"x\": [356000000, 260000000, 150000000, 160000000, 152000000, 55000000, 250000000, 175000000, 183000000, 125000000, 200000000, 0, 129000000, 0, 185000000, 79000000, 150000000, 170000000, 170000000, 100000000, 95000000, 80000000, 55000000, 40000000, 185000000, 11363000, 20000000, 110000000, 200000000, 20000000, 30000000, 97600000, 170000000, 40000000, 20000000, 40000000, 100000000, 0, 138000000, 100000000, 40000000, 20000000, 9000000, 80000000, 40000000, 87500000, 65000000, 100000000, 8120000, 42000000, 9000000, 30000000, 100000000, 49000000, 0, 0, 21000000, 75000000, 37500000, 25000000, 50000000, 13500000, 26000000, 14000000, 0, 95000000, 48000000, 20000000, 45000000, 20000000, 14000000, 10892000, 4000000, 11936735, 27941858, 11500000, 60000000, 6000000, 8751000, 51000000, 40000000, 32000000, 5000000, 25000000, 19000000, 6500000, 9000000, 33000000, 20000000, 0, 10000000, 50000000, 29900000, 0, 2000000, 11000000, 0, 0, 12000000, 5782853], \"xaxis\": \"x\", \"y\": [\"Avengers: Endgame\", \"The Lion King\", \"Frozen II\", \"Spider-Man: Far from Home\", \"Captain Marvel\", \"Joker\", \"Star Wars: The Rise of Skywalker\", \"Toy Story 4\", \"Aladdin\", \"Jumanji: The Next Level\", \"Fast & Furious Presents: Hobbs & Shaw\", \"Ne Zha\", \"How to Train Your Dragon: The Hidden World\", \"Alha Sahma\", \"Maleficent: Mistress of Evil\", \"It Chapter Two\", \"Pok\\u00e9mon Detective Pikachu\", \"Alita: Battle Angel\", \"Godzilla: King of the Monsters\", \"1917\", \"Once Upon a Time\\u2026 in Hollywood\", \"Shazam!\", \"John Wick: Chapter 3 - Parabellum\", \"Knives Out\", \"Terminator: Dark Fate\", \"Parasite\", \"Us\", \"Men in Black: International\", \"Dark Phoenix\", \"Glass\", \"Annabelle Comes Home\", \"Ford v Ferrari\", \"Dumbo\", \"The Addams Family\", \"Downton Abbey\", \"Little Women\", \"The Lego Movie 2: The Second Part\", \"Weathering with You\", \"Gemini Man\", \"Spies in Disguise\", \"Rocketman\", \"Hustlers\", \"Escape Room\", \"The Secret Life of Pets 2\", \"Angel Has Fallen\", \"Ad Astra\", \"The Angry Birds Movie 2\", \"Midway\", \"Extreme Job\", \"Zombieland: Double Tap\", \"The Curse of La Llorona\", \"Last Christmas\", \"Wonder Park\", \"Dora and the Lost City of Gold\", \"Meitantei Conan: Konjo no fisuto\", \"Detective Conan: The Fist of Blue Sapphire\", \"Pet Sematary\", \"Abominable\", \"The Upside\", \"Scary Stories to Tell in the Dark\", \"Rambo: Last Blood\", \"Crawl\", \"Yesterday\", \"Jojo Rabbit\", \"Serial (Bad) Weddings 2\", \"Cats\", \"Charlie's Angels\", \"Good Boys\", \"Doctor Sleep\", \"What Men Want\", \"After\", \"EXIT\", \"A Beautiful Day in the Neighborhood\", \"White Snake\", \"War\", \"Hadestown\", \"Cold Pursuit\", \"Ready or Not\", \"Kabir Singh\", \"Saaho\", \"Long Shot\", \"Bombshell\", \"Ma\", \"Just Mercy\", \"Uncut Gems\", \"Countdown\", \"Midsommar\", \"21 Bridges\", \"Queen & Slim\", \"A Madea Family Funeral\", \"Child's Play\", \"Hellboy\", \"Playing with Fire\", \"A Shaun the Sheep Movie: Farmageddon\", \"My Mom is a Character 3\", \"Fighting with My Family\", \"Judy\", \"The Queen's Corgi\", \"Maharshi\", \"Gully Boy\"], \"yaxis\": \"y\"}],\n",
       "                        {\"barmode\": \"relative\", \"coloraxis\": {\"colorbar\": {\"title\": {\"text\": \"gross_profit\"}}, \"colorscale\": [[0.0, \"#0d0887\"], [0.1111111111111111, \"#46039f\"], [0.2222222222222222, \"#7201a8\"], [0.3333333333333333, \"#9c179e\"], [0.4444444444444444, \"#bd3786\"], [0.5555555555555556, \"#d8576b\"], [0.6666666666666666, \"#ed7953\"], [0.7777777777777778, \"#fb9f3a\"], [0.8888888888888888, \"#fdca26\"], [1.0, \"#f0f921\"]]}, \"height\": 800, \"legend\": {\"tracegroupgap\": 0}, \"template\": {\"data\": {\"bar\": [{\"error_x\": {\"color\": \"#2a3f5f\"}, \"error_y\": {\"color\": \"#2a3f5f\"}, \"marker\": {\"line\": {\"color\": \"#E5ECF6\", \"width\": 0.5}}, \"type\": \"bar\"}], \"barpolar\": [{\"marker\": {\"line\": {\"color\": \"#E5ECF6\", \"width\": 0.5}}, \"type\": \"barpolar\"}], \"carpet\": [{\"aaxis\": {\"endlinecolor\": \"#2a3f5f\", \"gridcolor\": \"white\", \"linecolor\": \"white\", \"minorgridcolor\": \"white\", \"startlinecolor\": \"#2a3f5f\"}, \"baxis\": {\"endlinecolor\": \"#2a3f5f\", \"gridcolor\": \"white\", \"linecolor\": \"white\", \"minorgridcolor\": \"white\", \"startlinecolor\": \"#2a3f5f\"}, \"type\": \"carpet\"}], \"choropleth\": [{\"colorbar\": {\"outlinewidth\": 0, \"ticks\": \"\"}, \"type\": \"choropleth\"}], \"contour\": [{\"colorbar\": {\"outlinewidth\": 0, \"ticks\": \"\"}, \"colorscale\": [[0.0, \"#0d0887\"], [0.1111111111111111, \"#46039f\"], [0.2222222222222222, \"#7201a8\"], [0.3333333333333333, \"#9c179e\"], [0.4444444444444444, \"#bd3786\"], [0.5555555555555556, \"#d8576b\"], [0.6666666666666666, \"#ed7953\"], [0.7777777777777778, \"#fb9f3a\"], [0.8888888888888888, \"#fdca26\"], [1.0, \"#f0f921\"]], \"type\": \"contour\"}], \"contourcarpet\": [{\"colorbar\": {\"outlinewidth\": 0, \"ticks\": \"\"}, \"type\": \"contourcarpet\"}], \"heatmap\": [{\"colorbar\": {\"outlinewidth\": 0, \"ticks\": \"\"}, \"colorscale\": [[0.0, \"#0d0887\"], [0.1111111111111111, \"#46039f\"], [0.2222222222222222, \"#7201a8\"], [0.3333333333333333, \"#9c179e\"], [0.4444444444444444, \"#bd3786\"], [0.5555555555555556, \"#d8576b\"], [0.6666666666666666, \"#ed7953\"], [0.7777777777777778, \"#fb9f3a\"], [0.8888888888888888, \"#fdca26\"], [1.0, \"#f0f921\"]], \"type\": \"heatmap\"}], \"heatmapgl\": [{\"colorbar\": {\"outlinewidth\": 0, \"ticks\": \"\"}, \"colorscale\": [[0.0, \"#0d0887\"], [0.1111111111111111, \"#46039f\"], [0.2222222222222222, \"#7201a8\"], [0.3333333333333333, \"#9c179e\"], [0.4444444444444444, \"#bd3786\"], [0.5555555555555556, \"#d8576b\"], [0.6666666666666666, \"#ed7953\"], [0.7777777777777778, \"#fb9f3a\"], [0.8888888888888888, \"#fdca26\"], [1.0, \"#f0f921\"]], \"type\": \"heatmapgl\"}], \"histogram\": [{\"marker\": {\"colorbar\": {\"outlinewidth\": 0, \"ticks\": \"\"}}, \"type\": \"histogram\"}], \"histogram2d\": [{\"colorbar\": {\"outlinewidth\": 0, \"ticks\": \"\"}, \"colorscale\": [[0.0, \"#0d0887\"], [0.1111111111111111, \"#46039f\"], [0.2222222222222222, \"#7201a8\"], [0.3333333333333333, \"#9c179e\"], [0.4444444444444444, \"#bd3786\"], [0.5555555555555556, \"#d8576b\"], [0.6666666666666666, \"#ed7953\"], [0.7777777777777778, \"#fb9f3a\"], [0.8888888888888888, \"#fdca26\"], [1.0, \"#f0f921\"]], \"type\": \"histogram2d\"}], \"histogram2dcontour\": [{\"colorbar\": {\"outlinewidth\": 0, \"ticks\": \"\"}, \"colorscale\": [[0.0, \"#0d0887\"], [0.1111111111111111, \"#46039f\"], [0.2222222222222222, \"#7201a8\"], [0.3333333333333333, \"#9c179e\"], [0.4444444444444444, \"#bd3786\"], [0.5555555555555556, \"#d8576b\"], [0.6666666666666666, \"#ed7953\"], [0.7777777777777778, \"#fb9f3a\"], [0.8888888888888888, \"#fdca26\"], [1.0, \"#f0f921\"]], \"type\": \"histogram2dcontour\"}], \"mesh3d\": [{\"colorbar\": {\"outlinewidth\": 0, \"ticks\": \"\"}, \"type\": \"mesh3d\"}], \"parcoords\": [{\"line\": {\"colorbar\": {\"outlinewidth\": 0, \"ticks\": \"\"}}, \"type\": \"parcoords\"}], \"scatter\": [{\"marker\": {\"colorbar\": {\"outlinewidth\": 0, \"ticks\": \"\"}}, \"type\": \"scatter\"}], \"scatter3d\": [{\"line\": {\"colorbar\": {\"outlinewidth\": 0, \"ticks\": \"\"}}, \"marker\": {\"colorbar\": {\"outlinewidth\": 0, \"ticks\": \"\"}}, \"type\": \"scatter3d\"}], \"scattercarpet\": [{\"marker\": {\"colorbar\": {\"outlinewidth\": 0, \"ticks\": \"\"}}, \"type\": \"scattercarpet\"}], \"scattergeo\": [{\"marker\": {\"colorbar\": {\"outlinewidth\": 0, \"ticks\": \"\"}}, \"type\": \"scattergeo\"}], \"scattergl\": [{\"marker\": {\"colorbar\": {\"outlinewidth\": 0, \"ticks\": \"\"}}, \"type\": \"scattergl\"}], \"scattermapbox\": [{\"marker\": {\"colorbar\": {\"outlinewidth\": 0, \"ticks\": \"\"}}, \"type\": \"scattermapbox\"}], \"scatterpolar\": [{\"marker\": {\"colorbar\": {\"outlinewidth\": 0, \"ticks\": \"\"}}, \"type\": \"scatterpolar\"}], \"scatterpolargl\": [{\"marker\": {\"colorbar\": {\"outlinewidth\": 0, \"ticks\": \"\"}}, \"type\": \"scatterpolargl\"}], \"scatterternary\": [{\"marker\": {\"colorbar\": {\"outlinewidth\": 0, \"ticks\": \"\"}}, \"type\": \"scatterternary\"}], \"surface\": [{\"colorbar\": {\"outlinewidth\": 0, \"ticks\": \"\"}, \"colorscale\": [[0.0, \"#0d0887\"], [0.1111111111111111, \"#46039f\"], [0.2222222222222222, \"#7201a8\"], [0.3333333333333333, \"#9c179e\"], [0.4444444444444444, \"#bd3786\"], [0.5555555555555556, \"#d8576b\"], [0.6666666666666666, \"#ed7953\"], [0.7777777777777778, \"#fb9f3a\"], [0.8888888888888888, \"#fdca26\"], [1.0, \"#f0f921\"]], \"type\": \"surface\"}], \"table\": [{\"cells\": {\"fill\": {\"color\": \"#EBF0F8\"}, \"line\": {\"color\": \"white\"}}, \"header\": {\"fill\": {\"color\": \"#C8D4E3\"}, \"line\": {\"color\": \"white\"}}, \"type\": \"table\"}]}, \"layout\": {\"annotationdefaults\": {\"arrowcolor\": \"#2a3f5f\", \"arrowhead\": 0, \"arrowwidth\": 1}, \"colorscale\": {\"diverging\": [[0, \"#8e0152\"], [0.1, \"#c51b7d\"], [0.2, \"#de77ae\"], [0.3, \"#f1b6da\"], [0.4, \"#fde0ef\"], [0.5, \"#f7f7f7\"], [0.6, \"#e6f5d0\"], [0.7, \"#b8e186\"], [0.8, \"#7fbc41\"], [0.9, \"#4d9221\"], [1, \"#276419\"]], \"sequential\": [[0.0, \"#0d0887\"], [0.1111111111111111, \"#46039f\"], [0.2222222222222222, \"#7201a8\"], [0.3333333333333333, \"#9c179e\"], [0.4444444444444444, \"#bd3786\"], [0.5555555555555556, \"#d8576b\"], [0.6666666666666666, \"#ed7953\"], [0.7777777777777778, \"#fb9f3a\"], [0.8888888888888888, \"#fdca26\"], [1.0, \"#f0f921\"]], \"sequentialminus\": [[0.0, \"#0d0887\"], [0.1111111111111111, \"#46039f\"], [0.2222222222222222, \"#7201a8\"], [0.3333333333333333, \"#9c179e\"], [0.4444444444444444, \"#bd3786\"], [0.5555555555555556, \"#d8576b\"], [0.6666666666666666, \"#ed7953\"], [0.7777777777777778, \"#fb9f3a\"], [0.8888888888888888, \"#fdca26\"], [1.0, \"#f0f921\"]]}, \"colorway\": [\"#636efa\", \"#EF553B\", \"#00cc96\", \"#ab63fa\", \"#FFA15A\", \"#19d3f3\", \"#FF6692\", \"#B6E880\", \"#FF97FF\", \"#FECB52\"], \"font\": {\"color\": \"#2a3f5f\"}, \"geo\": {\"bgcolor\": \"white\", \"lakecolor\": \"white\", \"landcolor\": \"#E5ECF6\", \"showlakes\": true, \"showland\": true, \"subunitcolor\": \"white\"}, \"hoverlabel\": {\"align\": \"left\"}, \"hovermode\": \"closest\", \"mapbox\": {\"style\": \"light\"}, \"paper_bgcolor\": \"white\", \"plot_bgcolor\": \"#E5ECF6\", \"polar\": {\"angularaxis\": {\"gridcolor\": \"white\", \"linecolor\": \"white\", \"ticks\": \"\"}, \"bgcolor\": \"#E5ECF6\", \"radialaxis\": {\"gridcolor\": \"white\", \"linecolor\": \"white\", \"ticks\": \"\"}}, \"scene\": {\"xaxis\": {\"backgroundcolor\": \"#E5ECF6\", \"gridcolor\": \"white\", \"gridwidth\": 2, \"linecolor\": \"white\", \"showbackground\": true, \"ticks\": \"\", \"zerolinecolor\": \"white\"}, \"yaxis\": {\"backgroundcolor\": \"#E5ECF6\", \"gridcolor\": \"white\", \"gridwidth\": 2, \"linecolor\": \"white\", \"showbackground\": true, \"ticks\": \"\", \"zerolinecolor\": \"white\"}, \"zaxis\": {\"backgroundcolor\": \"#E5ECF6\", \"gridcolor\": \"white\", \"gridwidth\": 2, \"linecolor\": \"white\", \"showbackground\": true, \"ticks\": \"\", \"zerolinecolor\": \"white\"}}, \"shapedefaults\": {\"line\": {\"color\": \"#2a3f5f\"}}, \"ternary\": {\"aaxis\": {\"gridcolor\": \"white\", \"linecolor\": \"white\", \"ticks\": \"\"}, \"baxis\": {\"gridcolor\": \"white\", \"linecolor\": \"white\", \"ticks\": \"\"}, \"bgcolor\": \"#E5ECF6\", \"caxis\": {\"gridcolor\": \"white\", \"linecolor\": \"white\", \"ticks\": \"\"}}, \"title\": {\"x\": 0.05}, \"xaxis\": {\"automargin\": true, \"gridcolor\": \"white\", \"linecolor\": \"white\", \"ticks\": \"\", \"zerolinecolor\": \"white\", \"zerolinewidth\": 2}, \"yaxis\": {\"automargin\": true, \"gridcolor\": \"white\", \"linecolor\": \"white\", \"ticks\": \"\", \"zerolinecolor\": \"white\", \"zerolinewidth\": 2}}}, \"title\": {\"text\": \"Budget and Gross Profit Correlation for top 100 revenue movies from 2019\"}, \"xaxis\": {\"anchor\": \"y\", \"domain\": [0.0, 0.98], \"title\": {\"text\": \"budget\"}}, \"yaxis\": {\"anchor\": \"x\", \"domain\": [0.0, 1.0], \"title\": {\"text\": \"title\"}}},\n",
       "                        {\"responsive\": true}\n",
       "                    ).then(function(){\n",
       "                            \n",
       "var gd = document.getElementById('c129e90b-e23c-4996-80d9-25dc2167f5c7');\n",
       "var x = new MutationObserver(function (mutations, observer) {{\n",
       "        var display = window.getComputedStyle(gd).display;\n",
       "        if (!display || display === 'none') {{\n",
       "            console.log([gd, 'removed!']);\n",
       "            Plotly.purge(gd);\n",
       "            observer.disconnect();\n",
       "        }}\n",
       "}});\n",
       "\n",
       "// Listen for the removal of the full notebook cells\n",
       "var notebookContainer = gd.closest('#notebook-container');\n",
       "if (notebookContainer) {{\n",
       "    x.observe(notebookContainer, {childList: true});\n",
       "}}\n",
       "\n",
       "// Listen for the clearing of the current output cell\n",
       "var outputEl = gd.closest('.output');\n",
       "if (outputEl) {{\n",
       "    x.observe(outputEl, {childList: true});\n",
       "}}\n",
       "\n",
       "                        })\n",
       "                };\n",
       "                });\n",
       "            </script>\n",
       "        </div>"
      ]
     },
     "metadata": {},
     "output_type": "display_data"
    }
   ],
   "source": [
    "fig = px.bar(df3, x=\"budget\", y=\"title\", color=\"gross_profit\", orientation='h', height=800, title='Budget and Gross Profit Correlation for top 100 revenue movies from 2019')\n",
    "fig.show()"
   ]
  },
  {
   "cell_type": "code",
   "execution_count": 131,
   "metadata": {},
   "outputs": [
    {
     "data": {
      "application/vnd.plotly.v1+json": {
       "config": {
        "plotlyServerURL": "https://plot.ly"
       },
       "data": [
        {
         "alignmentgroup": "True",
         "hoverlabel": {
          "namelength": 0
         },
         "hovertemplate": "title=%{x}<br>gross_profit=%{y}<br>budget=%{marker.color}",
         "legendgroup": "",
         "marker": {
          "color": [
           356000000,
           260000000,
           150000000,
           160000000,
           152000000,
           55000000,
           250000000,
           175000000,
           183000000,
           125000000,
           200000000,
           0,
           129000000,
           0,
           185000000,
           79000000,
           150000000,
           170000000,
           170000000,
           100000000,
           95000000,
           80000000,
           55000000,
           40000000,
           185000000,
           11363000,
           20000000,
           110000000,
           200000000,
           20000000,
           30000000,
           97600000,
           170000000,
           40000000,
           20000000,
           40000000,
           100000000,
           0,
           138000000,
           100000000,
           40000000,
           20000000,
           9000000,
           80000000,
           40000000,
           87500000,
           65000000,
           100000000,
           8120000,
           42000000,
           9000000,
           30000000,
           100000000,
           49000000,
           0,
           0,
           21000000,
           75000000,
           37500000,
           25000000,
           50000000,
           13500000,
           26000000,
           14000000,
           0,
           95000000,
           48000000,
           20000000,
           45000000,
           20000000,
           14000000,
           10892000,
           4000000,
           11936735,
           27941858,
           11500000,
           60000000,
           6000000,
           8751000,
           51000000,
           40000000,
           32000000,
           5000000,
           25000000,
           19000000,
           6500000,
           9000000,
           33000000,
           20000000,
           0,
           10000000,
           50000000,
           29900000,
           0,
           2000000,
           11000000,
           0,
           0,
           12000000,
           5782853
          ],
          "coloraxis": "coloraxis"
         },
         "name": "",
         "offsetgroup": "",
         "orientation": "v",
         "showlegend": false,
         "textposition": "auto",
         "type": "bar",
         "x": [
          "Avengers: Endgame",
          "The Lion King",
          "Frozen II",
          "Spider-Man: Far from Home",
          "Captain Marvel",
          "Joker",
          "Star Wars: The Rise of Skywalker",
          "Toy Story 4",
          "Aladdin",
          "Jumanji: The Next Level",
          "Fast & Furious Presents: Hobbs & Shaw",
          "Ne Zha",
          "How to Train Your Dragon: The Hidden World",
          "Alha Sahma",
          "Maleficent: Mistress of Evil",
          "It Chapter Two",
          "Pokémon Detective Pikachu",
          "Alita: Battle Angel",
          "Godzilla: King of the Monsters",
          "1917",
          "Once Upon a Time… in Hollywood",
          "Shazam!",
          "John Wick: Chapter 3 - Parabellum",
          "Knives Out",
          "Terminator: Dark Fate",
          "Parasite",
          "Us",
          "Men in Black: International",
          "Dark Phoenix",
          "Glass",
          "Annabelle Comes Home",
          "Ford v Ferrari",
          "Dumbo",
          "The Addams Family",
          "Downton Abbey",
          "Little Women",
          "The Lego Movie 2: The Second Part",
          "Weathering with You",
          "Gemini Man",
          "Spies in Disguise",
          "Rocketman",
          "Hustlers",
          "Escape Room",
          "The Secret Life of Pets 2",
          "Angel Has Fallen",
          "Ad Astra",
          "The Angry Birds Movie 2",
          "Midway",
          "Extreme Job",
          "Zombieland: Double Tap",
          "The Curse of La Llorona",
          "Last Christmas",
          "Wonder Park",
          "Dora and the Lost City of Gold",
          "Meitantei Conan: Konjo no fisuto",
          "Detective Conan: The Fist of Blue Sapphire",
          "Pet Sematary",
          "Abominable",
          "The Upside",
          "Scary Stories to Tell in the Dark",
          "Rambo: Last Blood",
          "Crawl",
          "Yesterday",
          "Jojo Rabbit",
          "Serial (Bad) Weddings 2",
          "Cats",
          "Charlie's Angels",
          "Good Boys",
          "Doctor Sleep",
          "What Men Want",
          "After",
          "EXIT",
          "A Beautiful Day in the Neighborhood",
          "White Snake",
          "War",
          "Hadestown",
          "Cold Pursuit",
          "Ready or Not",
          "Kabir Singh",
          "Saaho",
          "Long Shot",
          "Bombshell",
          "Ma",
          "Just Mercy",
          "Uncut Gems",
          "Countdown",
          "Midsommar",
          "21 Bridges",
          "Queen & Slim",
          "A Madea Family Funeral",
          "Child's Play",
          "Hellboy",
          "Playing with Fire",
          "A Shaun the Sheep Movie: Farmageddon",
          "My Mom is a Character 3",
          "Fighting with My Family",
          "Judy",
          "The Queen's Corgi",
          "Maharshi",
          "Gully Boy"
         ],
         "xaxis": "x",
         "y": [
          2441800564,
          1396943394,
          1300026933,
          971927996,
          976276090,
          1019251311,
          824144248,
          898394593,
          864612394,
          671575993,
          560098996,
          686067000,
          388526875,
          500000000,
          306570967,
          394093228,
          283005346,
          234852543,
          216600138,
          274733942,
          279251247,
          283533271,
          271709727,
          269232797,
          76119292,
          246228776,
          235105930,
          142608480,
          52442974,
          226941965,
          201252591,
          127908210,
          45832199,
          163044905,
          172094429,
          151540586,
          90514361,
          186965409,
          35469516,
          71616764,
          127323950,
          137600000,
          146313078,
          75152550,
          106661977,
          45307427,
          66359052,
          25641396,
          116532206,
          80801777,
          113033739,
          91550750,
          19559110,
          67826172,
          115570314,
          115570314,
          91399944,
          36615070,
          73853135,
          70438172,
          41490353,
          75703432,
          62092097,
          68468705,
          74769845,
          -21484976,
          25279888,
          52457330,
          27281712,
          49766483,
          55497587,
          57433551,
          63760877,
          54989107,
          38351597,
          50735335,
          -786069,
          51615777,
          46727164,
          4000000,
          13847136,
          21774397,
          46749995,
          25401502,
          31020902,
          41521766,
          38862188,
          14088457,
          26597100,
          46115383,
          34902237,
          -5335310,
          14500000,
          42880428,
          37273021,
          28055536,
          38981322,
          36120360,
          22000000,
          28191411
         ],
         "yaxis": "y"
        }
       ],
       "layout": {
        "barmode": "relative",
        "coloraxis": {
         "colorbar": {
          "title": {
           "text": "budget"
          }
         },
         "colorscale": [
          [
           0,
           "#0d0887"
          ],
          [
           0.1111111111111111,
           "#46039f"
          ],
          [
           0.2222222222222222,
           "#7201a8"
          ],
          [
           0.3333333333333333,
           "#9c179e"
          ],
          [
           0.4444444444444444,
           "#bd3786"
          ],
          [
           0.5555555555555556,
           "#d8576b"
          ],
          [
           0.6666666666666666,
           "#ed7953"
          ],
          [
           0.7777777777777778,
           "#fb9f3a"
          ],
          [
           0.8888888888888888,
           "#fdca26"
          ],
          [
           1,
           "#f0f921"
          ]
         ]
        },
        "height": 600,
        "legend": {
         "tracegroupgap": 0
        },
        "template": {
         "data": {
          "bar": [
           {
            "error_x": {
             "color": "#2a3f5f"
            },
            "error_y": {
             "color": "#2a3f5f"
            },
            "marker": {
             "line": {
              "color": "#E5ECF6",
              "width": 0.5
             }
            },
            "type": "bar"
           }
          ],
          "barpolar": [
           {
            "marker": {
             "line": {
              "color": "#E5ECF6",
              "width": 0.5
             }
            },
            "type": "barpolar"
           }
          ],
          "carpet": [
           {
            "aaxis": {
             "endlinecolor": "#2a3f5f",
             "gridcolor": "white",
             "linecolor": "white",
             "minorgridcolor": "white",
             "startlinecolor": "#2a3f5f"
            },
            "baxis": {
             "endlinecolor": "#2a3f5f",
             "gridcolor": "white",
             "linecolor": "white",
             "minorgridcolor": "white",
             "startlinecolor": "#2a3f5f"
            },
            "type": "carpet"
           }
          ],
          "choropleth": [
           {
            "colorbar": {
             "outlinewidth": 0,
             "ticks": ""
            },
            "type": "choropleth"
           }
          ],
          "contour": [
           {
            "colorbar": {
             "outlinewidth": 0,
             "ticks": ""
            },
            "colorscale": [
             [
              0,
              "#0d0887"
             ],
             [
              0.1111111111111111,
              "#46039f"
             ],
             [
              0.2222222222222222,
              "#7201a8"
             ],
             [
              0.3333333333333333,
              "#9c179e"
             ],
             [
              0.4444444444444444,
              "#bd3786"
             ],
             [
              0.5555555555555556,
              "#d8576b"
             ],
             [
              0.6666666666666666,
              "#ed7953"
             ],
             [
              0.7777777777777778,
              "#fb9f3a"
             ],
             [
              0.8888888888888888,
              "#fdca26"
             ],
             [
              1,
              "#f0f921"
             ]
            ],
            "type": "contour"
           }
          ],
          "contourcarpet": [
           {
            "colorbar": {
             "outlinewidth": 0,
             "ticks": ""
            },
            "type": "contourcarpet"
           }
          ],
          "heatmap": [
           {
            "colorbar": {
             "outlinewidth": 0,
             "ticks": ""
            },
            "colorscale": [
             [
              0,
              "#0d0887"
             ],
             [
              0.1111111111111111,
              "#46039f"
             ],
             [
              0.2222222222222222,
              "#7201a8"
             ],
             [
              0.3333333333333333,
              "#9c179e"
             ],
             [
              0.4444444444444444,
              "#bd3786"
             ],
             [
              0.5555555555555556,
              "#d8576b"
             ],
             [
              0.6666666666666666,
              "#ed7953"
             ],
             [
              0.7777777777777778,
              "#fb9f3a"
             ],
             [
              0.8888888888888888,
              "#fdca26"
             ],
             [
              1,
              "#f0f921"
             ]
            ],
            "type": "heatmap"
           }
          ],
          "heatmapgl": [
           {
            "colorbar": {
             "outlinewidth": 0,
             "ticks": ""
            },
            "colorscale": [
             [
              0,
              "#0d0887"
             ],
             [
              0.1111111111111111,
              "#46039f"
             ],
             [
              0.2222222222222222,
              "#7201a8"
             ],
             [
              0.3333333333333333,
              "#9c179e"
             ],
             [
              0.4444444444444444,
              "#bd3786"
             ],
             [
              0.5555555555555556,
              "#d8576b"
             ],
             [
              0.6666666666666666,
              "#ed7953"
             ],
             [
              0.7777777777777778,
              "#fb9f3a"
             ],
             [
              0.8888888888888888,
              "#fdca26"
             ],
             [
              1,
              "#f0f921"
             ]
            ],
            "type": "heatmapgl"
           }
          ],
          "histogram": [
           {
            "marker": {
             "colorbar": {
              "outlinewidth": 0,
              "ticks": ""
             }
            },
            "type": "histogram"
           }
          ],
          "histogram2d": [
           {
            "colorbar": {
             "outlinewidth": 0,
             "ticks": ""
            },
            "colorscale": [
             [
              0,
              "#0d0887"
             ],
             [
              0.1111111111111111,
              "#46039f"
             ],
             [
              0.2222222222222222,
              "#7201a8"
             ],
             [
              0.3333333333333333,
              "#9c179e"
             ],
             [
              0.4444444444444444,
              "#bd3786"
             ],
             [
              0.5555555555555556,
              "#d8576b"
             ],
             [
              0.6666666666666666,
              "#ed7953"
             ],
             [
              0.7777777777777778,
              "#fb9f3a"
             ],
             [
              0.8888888888888888,
              "#fdca26"
             ],
             [
              1,
              "#f0f921"
             ]
            ],
            "type": "histogram2d"
           }
          ],
          "histogram2dcontour": [
           {
            "colorbar": {
             "outlinewidth": 0,
             "ticks": ""
            },
            "colorscale": [
             [
              0,
              "#0d0887"
             ],
             [
              0.1111111111111111,
              "#46039f"
             ],
             [
              0.2222222222222222,
              "#7201a8"
             ],
             [
              0.3333333333333333,
              "#9c179e"
             ],
             [
              0.4444444444444444,
              "#bd3786"
             ],
             [
              0.5555555555555556,
              "#d8576b"
             ],
             [
              0.6666666666666666,
              "#ed7953"
             ],
             [
              0.7777777777777778,
              "#fb9f3a"
             ],
             [
              0.8888888888888888,
              "#fdca26"
             ],
             [
              1,
              "#f0f921"
             ]
            ],
            "type": "histogram2dcontour"
           }
          ],
          "mesh3d": [
           {
            "colorbar": {
             "outlinewidth": 0,
             "ticks": ""
            },
            "type": "mesh3d"
           }
          ],
          "parcoords": [
           {
            "line": {
             "colorbar": {
              "outlinewidth": 0,
              "ticks": ""
             }
            },
            "type": "parcoords"
           }
          ],
          "scatter": [
           {
            "marker": {
             "colorbar": {
              "outlinewidth": 0,
              "ticks": ""
             }
            },
            "type": "scatter"
           }
          ],
          "scatter3d": [
           {
            "line": {
             "colorbar": {
              "outlinewidth": 0,
              "ticks": ""
             }
            },
            "marker": {
             "colorbar": {
              "outlinewidth": 0,
              "ticks": ""
             }
            },
            "type": "scatter3d"
           }
          ],
          "scattercarpet": [
           {
            "marker": {
             "colorbar": {
              "outlinewidth": 0,
              "ticks": ""
             }
            },
            "type": "scattercarpet"
           }
          ],
          "scattergeo": [
           {
            "marker": {
             "colorbar": {
              "outlinewidth": 0,
              "ticks": ""
             }
            },
            "type": "scattergeo"
           }
          ],
          "scattergl": [
           {
            "marker": {
             "colorbar": {
              "outlinewidth": 0,
              "ticks": ""
             }
            },
            "type": "scattergl"
           }
          ],
          "scattermapbox": [
           {
            "marker": {
             "colorbar": {
              "outlinewidth": 0,
              "ticks": ""
             }
            },
            "type": "scattermapbox"
           }
          ],
          "scatterpolar": [
           {
            "marker": {
             "colorbar": {
              "outlinewidth": 0,
              "ticks": ""
             }
            },
            "type": "scatterpolar"
           }
          ],
          "scatterpolargl": [
           {
            "marker": {
             "colorbar": {
              "outlinewidth": 0,
              "ticks": ""
             }
            },
            "type": "scatterpolargl"
           }
          ],
          "scatterternary": [
           {
            "marker": {
             "colorbar": {
              "outlinewidth": 0,
              "ticks": ""
             }
            },
            "type": "scatterternary"
           }
          ],
          "surface": [
           {
            "colorbar": {
             "outlinewidth": 0,
             "ticks": ""
            },
            "colorscale": [
             [
              0,
              "#0d0887"
             ],
             [
              0.1111111111111111,
              "#46039f"
             ],
             [
              0.2222222222222222,
              "#7201a8"
             ],
             [
              0.3333333333333333,
              "#9c179e"
             ],
             [
              0.4444444444444444,
              "#bd3786"
             ],
             [
              0.5555555555555556,
              "#d8576b"
             ],
             [
              0.6666666666666666,
              "#ed7953"
             ],
             [
              0.7777777777777778,
              "#fb9f3a"
             ],
             [
              0.8888888888888888,
              "#fdca26"
             ],
             [
              1,
              "#f0f921"
             ]
            ],
            "type": "surface"
           }
          ],
          "table": [
           {
            "cells": {
             "fill": {
              "color": "#EBF0F8"
             },
             "line": {
              "color": "white"
             }
            },
            "header": {
             "fill": {
              "color": "#C8D4E3"
             },
             "line": {
              "color": "white"
             }
            },
            "type": "table"
           }
          ]
         },
         "layout": {
          "annotationdefaults": {
           "arrowcolor": "#2a3f5f",
           "arrowhead": 0,
           "arrowwidth": 1
          },
          "colorscale": {
           "diverging": [
            [
             0,
             "#8e0152"
            ],
            [
             0.1,
             "#c51b7d"
            ],
            [
             0.2,
             "#de77ae"
            ],
            [
             0.3,
             "#f1b6da"
            ],
            [
             0.4,
             "#fde0ef"
            ],
            [
             0.5,
             "#f7f7f7"
            ],
            [
             0.6,
             "#e6f5d0"
            ],
            [
             0.7,
             "#b8e186"
            ],
            [
             0.8,
             "#7fbc41"
            ],
            [
             0.9,
             "#4d9221"
            ],
            [
             1,
             "#276419"
            ]
           ],
           "sequential": [
            [
             0,
             "#0d0887"
            ],
            [
             0.1111111111111111,
             "#46039f"
            ],
            [
             0.2222222222222222,
             "#7201a8"
            ],
            [
             0.3333333333333333,
             "#9c179e"
            ],
            [
             0.4444444444444444,
             "#bd3786"
            ],
            [
             0.5555555555555556,
             "#d8576b"
            ],
            [
             0.6666666666666666,
             "#ed7953"
            ],
            [
             0.7777777777777778,
             "#fb9f3a"
            ],
            [
             0.8888888888888888,
             "#fdca26"
            ],
            [
             1,
             "#f0f921"
            ]
           ],
           "sequentialminus": [
            [
             0,
             "#0d0887"
            ],
            [
             0.1111111111111111,
             "#46039f"
            ],
            [
             0.2222222222222222,
             "#7201a8"
            ],
            [
             0.3333333333333333,
             "#9c179e"
            ],
            [
             0.4444444444444444,
             "#bd3786"
            ],
            [
             0.5555555555555556,
             "#d8576b"
            ],
            [
             0.6666666666666666,
             "#ed7953"
            ],
            [
             0.7777777777777778,
             "#fb9f3a"
            ],
            [
             0.8888888888888888,
             "#fdca26"
            ],
            [
             1,
             "#f0f921"
            ]
           ]
          },
          "colorway": [
           "#636efa",
           "#EF553B",
           "#00cc96",
           "#ab63fa",
           "#FFA15A",
           "#19d3f3",
           "#FF6692",
           "#B6E880",
           "#FF97FF",
           "#FECB52"
          ],
          "font": {
           "color": "#2a3f5f"
          },
          "geo": {
           "bgcolor": "white",
           "lakecolor": "white",
           "landcolor": "#E5ECF6",
           "showlakes": true,
           "showland": true,
           "subunitcolor": "white"
          },
          "hoverlabel": {
           "align": "left"
          },
          "hovermode": "closest",
          "mapbox": {
           "style": "light"
          },
          "paper_bgcolor": "white",
          "plot_bgcolor": "#E5ECF6",
          "polar": {
           "angularaxis": {
            "gridcolor": "white",
            "linecolor": "white",
            "ticks": ""
           },
           "bgcolor": "#E5ECF6",
           "radialaxis": {
            "gridcolor": "white",
            "linecolor": "white",
            "ticks": ""
           }
          },
          "scene": {
           "xaxis": {
            "backgroundcolor": "#E5ECF6",
            "gridcolor": "white",
            "gridwidth": 2,
            "linecolor": "white",
            "showbackground": true,
            "ticks": "",
            "zerolinecolor": "white"
           },
           "yaxis": {
            "backgroundcolor": "#E5ECF6",
            "gridcolor": "white",
            "gridwidth": 2,
            "linecolor": "white",
            "showbackground": true,
            "ticks": "",
            "zerolinecolor": "white"
           },
           "zaxis": {
            "backgroundcolor": "#E5ECF6",
            "gridcolor": "white",
            "gridwidth": 2,
            "linecolor": "white",
            "showbackground": true,
            "ticks": "",
            "zerolinecolor": "white"
           }
          },
          "shapedefaults": {
           "line": {
            "color": "#2a3f5f"
           }
          },
          "ternary": {
           "aaxis": {
            "gridcolor": "white",
            "linecolor": "white",
            "ticks": ""
           },
           "baxis": {
            "gridcolor": "white",
            "linecolor": "white",
            "ticks": ""
           },
           "bgcolor": "#E5ECF6",
           "caxis": {
            "gridcolor": "white",
            "linecolor": "white",
            "ticks": ""
           }
          },
          "title": {
           "x": 0.05
          },
          "xaxis": {
           "automargin": true,
           "gridcolor": "white",
           "linecolor": "white",
           "ticks": "",
           "zerolinecolor": "white",
           "zerolinewidth": 2
          },
          "yaxis": {
           "automargin": true,
           "gridcolor": "white",
           "linecolor": "white",
           "ticks": "",
           "zerolinecolor": "white",
           "zerolinewidth": 2
          }
         }
        },
        "title": {
         "text": "Budget and Gross Profit Correlation"
        },
        "xaxis": {
         "anchor": "y",
         "domain": [
          0,
          0.98
         ],
         "title": {
          "text": "title"
         }
        },
        "yaxis": {
         "anchor": "x",
         "domain": [
          0,
          1
         ],
         "title": {
          "text": "gross_profit"
         }
        }
       }
      },
      "text/html": [
       "<div>\n",
       "        \n",
       "        \n",
       "            <div id=\"d8e076f4-fc00-45ae-9ee3-1d26ef518117\" class=\"plotly-graph-div\" style=\"height:600px; width:100%;\"></div>\n",
       "            <script type=\"text/javascript\">\n",
       "                require([\"plotly\"], function(Plotly) {\n",
       "                    window.PLOTLYENV=window.PLOTLYENV || {};\n",
       "                    \n",
       "                if (document.getElementById(\"d8e076f4-fc00-45ae-9ee3-1d26ef518117\")) {\n",
       "                    Plotly.newPlot(\n",
       "                        'd8e076f4-fc00-45ae-9ee3-1d26ef518117',\n",
       "                        [{\"alignmentgroup\": \"True\", \"hoverlabel\": {\"namelength\": 0}, \"hovertemplate\": \"title=%{x}<br>gross_profit=%{y}<br>budget=%{marker.color}\", \"legendgroup\": \"\", \"marker\": {\"color\": [356000000, 260000000, 150000000, 160000000, 152000000, 55000000, 250000000, 175000000, 183000000, 125000000, 200000000, 0, 129000000, 0, 185000000, 79000000, 150000000, 170000000, 170000000, 100000000, 95000000, 80000000, 55000000, 40000000, 185000000, 11363000, 20000000, 110000000, 200000000, 20000000, 30000000, 97600000, 170000000, 40000000, 20000000, 40000000, 100000000, 0, 138000000, 100000000, 40000000, 20000000, 9000000, 80000000, 40000000, 87500000, 65000000, 100000000, 8120000, 42000000, 9000000, 30000000, 100000000, 49000000, 0, 0, 21000000, 75000000, 37500000, 25000000, 50000000, 13500000, 26000000, 14000000, 0, 95000000, 48000000, 20000000, 45000000, 20000000, 14000000, 10892000, 4000000, 11936735, 27941858, 11500000, 60000000, 6000000, 8751000, 51000000, 40000000, 32000000, 5000000, 25000000, 19000000, 6500000, 9000000, 33000000, 20000000, 0, 10000000, 50000000, 29900000, 0, 2000000, 11000000, 0, 0, 12000000, 5782853], \"coloraxis\": \"coloraxis\"}, \"name\": \"\", \"offsetgroup\": \"\", \"orientation\": \"v\", \"showlegend\": false, \"textposition\": \"auto\", \"type\": \"bar\", \"x\": [\"Avengers: Endgame\", \"The Lion King\", \"Frozen II\", \"Spider-Man: Far from Home\", \"Captain Marvel\", \"Joker\", \"Star Wars: The Rise of Skywalker\", \"Toy Story 4\", \"Aladdin\", \"Jumanji: The Next Level\", \"Fast & Furious Presents: Hobbs & Shaw\", \"Ne Zha\", \"How to Train Your Dragon: The Hidden World\", \"Alha Sahma\", \"Maleficent: Mistress of Evil\", \"It Chapter Two\", \"Pok\\u00e9mon Detective Pikachu\", \"Alita: Battle Angel\", \"Godzilla: King of the Monsters\", \"1917\", \"Once Upon a Time\\u2026 in Hollywood\", \"Shazam!\", \"John Wick: Chapter 3 - Parabellum\", \"Knives Out\", \"Terminator: Dark Fate\", \"Parasite\", \"Us\", \"Men in Black: International\", \"Dark Phoenix\", \"Glass\", \"Annabelle Comes Home\", \"Ford v Ferrari\", \"Dumbo\", \"The Addams Family\", \"Downton Abbey\", \"Little Women\", \"The Lego Movie 2: The Second Part\", \"Weathering with You\", \"Gemini Man\", \"Spies in Disguise\", \"Rocketman\", \"Hustlers\", \"Escape Room\", \"The Secret Life of Pets 2\", \"Angel Has Fallen\", \"Ad Astra\", \"The Angry Birds Movie 2\", \"Midway\", \"Extreme Job\", \"Zombieland: Double Tap\", \"The Curse of La Llorona\", \"Last Christmas\", \"Wonder Park\", \"Dora and the Lost City of Gold\", \"Meitantei Conan: Konjo no fisuto\", \"Detective Conan: The Fist of Blue Sapphire\", \"Pet Sematary\", \"Abominable\", \"The Upside\", \"Scary Stories to Tell in the Dark\", \"Rambo: Last Blood\", \"Crawl\", \"Yesterday\", \"Jojo Rabbit\", \"Serial (Bad) Weddings 2\", \"Cats\", \"Charlie's Angels\", \"Good Boys\", \"Doctor Sleep\", \"What Men Want\", \"After\", \"EXIT\", \"A Beautiful Day in the Neighborhood\", \"White Snake\", \"War\", \"Hadestown\", \"Cold Pursuit\", \"Ready or Not\", \"Kabir Singh\", \"Saaho\", \"Long Shot\", \"Bombshell\", \"Ma\", \"Just Mercy\", \"Uncut Gems\", \"Countdown\", \"Midsommar\", \"21 Bridges\", \"Queen & Slim\", \"A Madea Family Funeral\", \"Child's Play\", \"Hellboy\", \"Playing with Fire\", \"A Shaun the Sheep Movie: Farmageddon\", \"My Mom is a Character 3\", \"Fighting with My Family\", \"Judy\", \"The Queen's Corgi\", \"Maharshi\", \"Gully Boy\"], \"xaxis\": \"x\", \"y\": [2441800564, 1396943394, 1300026933, 971927996, 976276090, 1019251311, 824144248, 898394593, 864612394, 671575993, 560098996, 686067000, 388526875, 500000000, 306570967, 394093228, 283005346, 234852543, 216600138, 274733942, 279251247, 283533271, 271709727, 269232797, 76119292, 246228776, 235105930, 142608480, 52442974, 226941965, 201252591, 127908210, 45832199, 163044905, 172094429, 151540586, 90514361, 186965409, 35469516, 71616764, 127323950, 137600000, 146313078, 75152550, 106661977, 45307427, 66359052, 25641396, 116532206, 80801777, 113033739, 91550750, 19559110, 67826172, 115570314, 115570314, 91399944, 36615070, 73853135, 70438172, 41490353, 75703432, 62092097, 68468705, 74769845, -21484976, 25279888, 52457330, 27281712, 49766483, 55497587, 57433551, 63760877, 54989107, 38351597, 50735335, -786069, 51615777, 46727164, 4000000, 13847136, 21774397, 46749995, 25401502, 31020902, 41521766, 38862188, 14088457, 26597100, 46115383, 34902237, -5335310, 14500000, 42880428, 37273021, 28055536, 38981322, 36120360, 22000000, 28191411], \"yaxis\": \"y\"}],\n",
       "                        {\"barmode\": \"relative\", \"coloraxis\": {\"colorbar\": {\"title\": {\"text\": \"budget\"}}, \"colorscale\": [[0.0, \"#0d0887\"], [0.1111111111111111, \"#46039f\"], [0.2222222222222222, \"#7201a8\"], [0.3333333333333333, \"#9c179e\"], [0.4444444444444444, \"#bd3786\"], [0.5555555555555556, \"#d8576b\"], [0.6666666666666666, \"#ed7953\"], [0.7777777777777778, \"#fb9f3a\"], [0.8888888888888888, \"#fdca26\"], [1.0, \"#f0f921\"]]}, \"height\": 600, \"legend\": {\"tracegroupgap\": 0}, \"template\": {\"data\": {\"bar\": [{\"error_x\": {\"color\": \"#2a3f5f\"}, \"error_y\": {\"color\": \"#2a3f5f\"}, \"marker\": {\"line\": {\"color\": \"#E5ECF6\", \"width\": 0.5}}, \"type\": \"bar\"}], \"barpolar\": [{\"marker\": {\"line\": {\"color\": \"#E5ECF6\", \"width\": 0.5}}, \"type\": \"barpolar\"}], \"carpet\": [{\"aaxis\": {\"endlinecolor\": \"#2a3f5f\", \"gridcolor\": \"white\", \"linecolor\": \"white\", \"minorgridcolor\": \"white\", \"startlinecolor\": \"#2a3f5f\"}, \"baxis\": {\"endlinecolor\": \"#2a3f5f\", \"gridcolor\": \"white\", \"linecolor\": \"white\", \"minorgridcolor\": \"white\", \"startlinecolor\": \"#2a3f5f\"}, \"type\": \"carpet\"}], \"choropleth\": [{\"colorbar\": {\"outlinewidth\": 0, \"ticks\": \"\"}, \"type\": \"choropleth\"}], \"contour\": [{\"colorbar\": {\"outlinewidth\": 0, \"ticks\": \"\"}, \"colorscale\": [[0.0, \"#0d0887\"], [0.1111111111111111, \"#46039f\"], [0.2222222222222222, \"#7201a8\"], [0.3333333333333333, \"#9c179e\"], [0.4444444444444444, \"#bd3786\"], [0.5555555555555556, \"#d8576b\"], [0.6666666666666666, \"#ed7953\"], [0.7777777777777778, \"#fb9f3a\"], [0.8888888888888888, \"#fdca26\"], [1.0, \"#f0f921\"]], \"type\": \"contour\"}], \"contourcarpet\": [{\"colorbar\": {\"outlinewidth\": 0, \"ticks\": \"\"}, \"type\": \"contourcarpet\"}], \"heatmap\": [{\"colorbar\": {\"outlinewidth\": 0, \"ticks\": \"\"}, \"colorscale\": [[0.0, \"#0d0887\"], [0.1111111111111111, \"#46039f\"], [0.2222222222222222, \"#7201a8\"], [0.3333333333333333, \"#9c179e\"], [0.4444444444444444, \"#bd3786\"], [0.5555555555555556, \"#d8576b\"], [0.6666666666666666, \"#ed7953\"], [0.7777777777777778, \"#fb9f3a\"], [0.8888888888888888, \"#fdca26\"], [1.0, \"#f0f921\"]], \"type\": \"heatmap\"}], \"heatmapgl\": [{\"colorbar\": {\"outlinewidth\": 0, \"ticks\": \"\"}, \"colorscale\": [[0.0, \"#0d0887\"], [0.1111111111111111, \"#46039f\"], [0.2222222222222222, \"#7201a8\"], [0.3333333333333333, \"#9c179e\"], [0.4444444444444444, \"#bd3786\"], [0.5555555555555556, \"#d8576b\"], [0.6666666666666666, \"#ed7953\"], [0.7777777777777778, \"#fb9f3a\"], [0.8888888888888888, \"#fdca26\"], [1.0, \"#f0f921\"]], \"type\": \"heatmapgl\"}], \"histogram\": [{\"marker\": {\"colorbar\": {\"outlinewidth\": 0, \"ticks\": \"\"}}, \"type\": \"histogram\"}], \"histogram2d\": [{\"colorbar\": {\"outlinewidth\": 0, \"ticks\": \"\"}, \"colorscale\": [[0.0, \"#0d0887\"], [0.1111111111111111, \"#46039f\"], [0.2222222222222222, \"#7201a8\"], [0.3333333333333333, \"#9c179e\"], [0.4444444444444444, \"#bd3786\"], [0.5555555555555556, \"#d8576b\"], [0.6666666666666666, \"#ed7953\"], [0.7777777777777778, \"#fb9f3a\"], [0.8888888888888888, \"#fdca26\"], [1.0, \"#f0f921\"]], \"type\": \"histogram2d\"}], \"histogram2dcontour\": [{\"colorbar\": {\"outlinewidth\": 0, \"ticks\": \"\"}, \"colorscale\": [[0.0, \"#0d0887\"], [0.1111111111111111, \"#46039f\"], [0.2222222222222222, \"#7201a8\"], [0.3333333333333333, \"#9c179e\"], [0.4444444444444444, \"#bd3786\"], [0.5555555555555556, \"#d8576b\"], [0.6666666666666666, \"#ed7953\"], [0.7777777777777778, \"#fb9f3a\"], [0.8888888888888888, \"#fdca26\"], [1.0, \"#f0f921\"]], \"type\": \"histogram2dcontour\"}], \"mesh3d\": [{\"colorbar\": {\"outlinewidth\": 0, \"ticks\": \"\"}, \"type\": \"mesh3d\"}], \"parcoords\": [{\"line\": {\"colorbar\": {\"outlinewidth\": 0, \"ticks\": \"\"}}, \"type\": \"parcoords\"}], \"scatter\": [{\"marker\": {\"colorbar\": {\"outlinewidth\": 0, \"ticks\": \"\"}}, \"type\": \"scatter\"}], \"scatter3d\": [{\"line\": {\"colorbar\": {\"outlinewidth\": 0, \"ticks\": \"\"}}, \"marker\": {\"colorbar\": {\"outlinewidth\": 0, \"ticks\": \"\"}}, \"type\": \"scatter3d\"}], \"scattercarpet\": [{\"marker\": {\"colorbar\": {\"outlinewidth\": 0, \"ticks\": \"\"}}, \"type\": \"scattercarpet\"}], \"scattergeo\": [{\"marker\": {\"colorbar\": {\"outlinewidth\": 0, \"ticks\": \"\"}}, \"type\": \"scattergeo\"}], \"scattergl\": [{\"marker\": {\"colorbar\": {\"outlinewidth\": 0, \"ticks\": \"\"}}, \"type\": \"scattergl\"}], \"scattermapbox\": [{\"marker\": {\"colorbar\": {\"outlinewidth\": 0, \"ticks\": \"\"}}, \"type\": \"scattermapbox\"}], \"scatterpolar\": [{\"marker\": {\"colorbar\": {\"outlinewidth\": 0, \"ticks\": \"\"}}, \"type\": \"scatterpolar\"}], \"scatterpolargl\": [{\"marker\": {\"colorbar\": {\"outlinewidth\": 0, \"ticks\": \"\"}}, \"type\": \"scatterpolargl\"}], \"scatterternary\": [{\"marker\": {\"colorbar\": {\"outlinewidth\": 0, \"ticks\": \"\"}}, \"type\": \"scatterternary\"}], \"surface\": [{\"colorbar\": {\"outlinewidth\": 0, \"ticks\": \"\"}, \"colorscale\": [[0.0, \"#0d0887\"], [0.1111111111111111, \"#46039f\"], [0.2222222222222222, \"#7201a8\"], [0.3333333333333333, \"#9c179e\"], [0.4444444444444444, \"#bd3786\"], [0.5555555555555556, \"#d8576b\"], [0.6666666666666666, \"#ed7953\"], [0.7777777777777778, \"#fb9f3a\"], [0.8888888888888888, \"#fdca26\"], [1.0, \"#f0f921\"]], \"type\": \"surface\"}], \"table\": [{\"cells\": {\"fill\": {\"color\": \"#EBF0F8\"}, \"line\": {\"color\": \"white\"}}, \"header\": {\"fill\": {\"color\": \"#C8D4E3\"}, \"line\": {\"color\": \"white\"}}, \"type\": \"table\"}]}, \"layout\": {\"annotationdefaults\": {\"arrowcolor\": \"#2a3f5f\", \"arrowhead\": 0, \"arrowwidth\": 1}, \"colorscale\": {\"diverging\": [[0, \"#8e0152\"], [0.1, \"#c51b7d\"], [0.2, \"#de77ae\"], [0.3, \"#f1b6da\"], [0.4, \"#fde0ef\"], [0.5, \"#f7f7f7\"], [0.6, \"#e6f5d0\"], [0.7, \"#b8e186\"], [0.8, \"#7fbc41\"], [0.9, \"#4d9221\"], [1, \"#276419\"]], \"sequential\": [[0.0, \"#0d0887\"], [0.1111111111111111, \"#46039f\"], [0.2222222222222222, \"#7201a8\"], [0.3333333333333333, \"#9c179e\"], [0.4444444444444444, \"#bd3786\"], [0.5555555555555556, \"#d8576b\"], [0.6666666666666666, \"#ed7953\"], [0.7777777777777778, \"#fb9f3a\"], [0.8888888888888888, \"#fdca26\"], [1.0, \"#f0f921\"]], \"sequentialminus\": [[0.0, \"#0d0887\"], [0.1111111111111111, \"#46039f\"], [0.2222222222222222, \"#7201a8\"], [0.3333333333333333, \"#9c179e\"], [0.4444444444444444, \"#bd3786\"], [0.5555555555555556, \"#d8576b\"], [0.6666666666666666, \"#ed7953\"], [0.7777777777777778, \"#fb9f3a\"], [0.8888888888888888, \"#fdca26\"], [1.0, \"#f0f921\"]]}, \"colorway\": [\"#636efa\", \"#EF553B\", \"#00cc96\", \"#ab63fa\", \"#FFA15A\", \"#19d3f3\", \"#FF6692\", \"#B6E880\", \"#FF97FF\", \"#FECB52\"], \"font\": {\"color\": \"#2a3f5f\"}, \"geo\": {\"bgcolor\": \"white\", \"lakecolor\": \"white\", \"landcolor\": \"#E5ECF6\", \"showlakes\": true, \"showland\": true, \"subunitcolor\": \"white\"}, \"hoverlabel\": {\"align\": \"left\"}, \"hovermode\": \"closest\", \"mapbox\": {\"style\": \"light\"}, \"paper_bgcolor\": \"white\", \"plot_bgcolor\": \"#E5ECF6\", \"polar\": {\"angularaxis\": {\"gridcolor\": \"white\", \"linecolor\": \"white\", \"ticks\": \"\"}, \"bgcolor\": \"#E5ECF6\", \"radialaxis\": {\"gridcolor\": \"white\", \"linecolor\": \"white\", \"ticks\": \"\"}}, \"scene\": {\"xaxis\": {\"backgroundcolor\": \"#E5ECF6\", \"gridcolor\": \"white\", \"gridwidth\": 2, \"linecolor\": \"white\", \"showbackground\": true, \"ticks\": \"\", \"zerolinecolor\": \"white\"}, \"yaxis\": {\"backgroundcolor\": \"#E5ECF6\", \"gridcolor\": \"white\", \"gridwidth\": 2, \"linecolor\": \"white\", \"showbackground\": true, \"ticks\": \"\", \"zerolinecolor\": \"white\"}, \"zaxis\": {\"backgroundcolor\": \"#E5ECF6\", \"gridcolor\": \"white\", \"gridwidth\": 2, \"linecolor\": \"white\", \"showbackground\": true, \"ticks\": \"\", \"zerolinecolor\": \"white\"}}, \"shapedefaults\": {\"line\": {\"color\": \"#2a3f5f\"}}, \"ternary\": {\"aaxis\": {\"gridcolor\": \"white\", \"linecolor\": \"white\", \"ticks\": \"\"}, \"baxis\": {\"gridcolor\": \"white\", \"linecolor\": \"white\", \"ticks\": \"\"}, \"bgcolor\": \"#E5ECF6\", \"caxis\": {\"gridcolor\": \"white\", \"linecolor\": \"white\", \"ticks\": \"\"}}, \"title\": {\"x\": 0.05}, \"xaxis\": {\"automargin\": true, \"gridcolor\": \"white\", \"linecolor\": \"white\", \"ticks\": \"\", \"zerolinecolor\": \"white\", \"zerolinewidth\": 2}, \"yaxis\": {\"automargin\": true, \"gridcolor\": \"white\", \"linecolor\": \"white\", \"ticks\": \"\", \"zerolinecolor\": \"white\", \"zerolinewidth\": 2}}}, \"title\": {\"text\": \"Budget and Gross Profit Correlation\"}, \"xaxis\": {\"anchor\": \"y\", \"domain\": [0.0, 0.98], \"title\": {\"text\": \"title\"}}, \"yaxis\": {\"anchor\": \"x\", \"domain\": [0.0, 1.0], \"title\": {\"text\": \"gross_profit\"}}},\n",
       "                        {\"responsive\": true}\n",
       "                    ).then(function(){\n",
       "                            \n",
       "var gd = document.getElementById('d8e076f4-fc00-45ae-9ee3-1d26ef518117');\n",
       "var x = new MutationObserver(function (mutations, observer) {{\n",
       "        var display = window.getComputedStyle(gd).display;\n",
       "        if (!display || display === 'none') {{\n",
       "            console.log([gd, 'removed!']);\n",
       "            Plotly.purge(gd);\n",
       "            observer.disconnect();\n",
       "        }}\n",
       "}});\n",
       "\n",
       "// Listen for the removal of the full notebook cells\n",
       "var notebookContainer = gd.closest('#notebook-container');\n",
       "if (notebookContainer) {{\n",
       "    x.observe(notebookContainer, {childList: true});\n",
       "}}\n",
       "\n",
       "// Listen for the clearing of the current output cell\n",
       "var outputEl = gd.closest('.output');\n",
       "if (outputEl) {{\n",
       "    x.observe(outputEl, {childList: true});\n",
       "}}\n",
       "\n",
       "                        })\n",
       "                };\n",
       "                });\n",
       "            </script>\n",
       "        </div>"
      ]
     },
     "metadata": {},
     "output_type": "display_data"
    }
   ],
   "source": [
    "fig = px.bar(df3, x=\"title\", y=\"gross_profit\", color=\"budget\", title='Budget and Gross Profit Correlation')\n",
    "fig.show()"
   ]
  },
  {
   "cell_type": "code",
   "execution_count": 147,
   "metadata": {},
   "outputs": [
    {
     "data": {
      "application/vnd.plotly.v1+json": {
       "config": {
        "plotlyServerURL": "https://plot.ly"
       },
       "data": [
        {
         "alignmentgroup": "True",
         "hoverlabel": {
          "namelength": 0
         },
         "hovertemplate": "title=%{x}<br>gross_profit=%{y}<br>budget=%{marker.color}",
         "legendgroup": "",
         "marker": {
          "color": [
           356000000,
           260000000,
           150000000,
           160000000,
           152000000,
           55000000,
           250000000,
           175000000,
           183000000,
           125000000,
           200000000,
           0,
           129000000,
           0,
           185000000,
           79000000,
           150000000,
           170000000,
           170000000,
           100000000,
           95000000,
           80000000,
           55000000,
           40000000,
           185000000,
           11363000,
           20000000,
           110000000,
           200000000,
           20000000,
           30000000,
           97600000,
           170000000,
           40000000,
           20000000,
           40000000,
           100000000,
           0,
           138000000,
           100000000,
           40000000,
           20000000,
           9000000,
           80000000,
           40000000,
           87500000,
           65000000,
           100000000,
           8120000,
           42000000,
           9000000,
           30000000,
           100000000,
           49000000,
           0,
           0,
           21000000,
           75000000,
           37500000,
           25000000,
           50000000,
           13500000,
           26000000,
           14000000,
           0,
           95000000,
           48000000,
           20000000,
           45000000,
           20000000,
           14000000,
           10892000,
           4000000,
           11936735,
           27941858,
           11500000,
           60000000,
           6000000,
           8751000,
           51000000,
           40000000,
           32000000,
           5000000,
           25000000,
           19000000,
           6500000,
           9000000,
           33000000,
           20000000,
           0,
           10000000,
           50000000,
           29900000,
           0,
           2000000,
           11000000,
           0,
           0,
           12000000,
           5782853
          ],
          "coloraxis": "coloraxis"
         },
         "name": "",
         "offsetgroup": "",
         "orientation": "v",
         "showlegend": false,
         "textposition": "auto",
         "type": "bar",
         "x": [
          "Avengers: Endgame",
          "The Lion King",
          "Frozen II",
          "Spider-Man: Far from Home",
          "Captain Marvel",
          "Joker",
          "Star Wars: The Rise of Skywalker",
          "Toy Story 4",
          "Aladdin",
          "Jumanji: The Next Level",
          "Fast & Furious Presents: Hobbs & Shaw",
          "Ne Zha",
          "How to Train Your Dragon: The Hidden World",
          "Alha Sahma",
          "Maleficent: Mistress of Evil",
          "It Chapter Two",
          "Pokémon Detective Pikachu",
          "Alita: Battle Angel",
          "Godzilla: King of the Monsters",
          "1917",
          "Once Upon a Time… in Hollywood",
          "Shazam!",
          "John Wick: Chapter 3 - Parabellum",
          "Knives Out",
          "Terminator: Dark Fate",
          "Parasite",
          "Us",
          "Men in Black: International",
          "Dark Phoenix",
          "Glass",
          "Annabelle Comes Home",
          "Ford v Ferrari",
          "Dumbo",
          "The Addams Family",
          "Downton Abbey",
          "Little Women",
          "The Lego Movie 2: The Second Part",
          "Weathering with You",
          "Gemini Man",
          "Spies in Disguise",
          "Rocketman",
          "Hustlers",
          "Escape Room",
          "The Secret Life of Pets 2",
          "Angel Has Fallen",
          "Ad Astra",
          "The Angry Birds Movie 2",
          "Midway",
          "Extreme Job",
          "Zombieland: Double Tap",
          "The Curse of La Llorona",
          "Last Christmas",
          "Wonder Park",
          "Dora and the Lost City of Gold",
          "Meitantei Conan: Konjo no fisuto",
          "Detective Conan: The Fist of Blue Sapphire",
          "Pet Sematary",
          "Abominable",
          "The Upside",
          "Scary Stories to Tell in the Dark",
          "Rambo: Last Blood",
          "Crawl",
          "Yesterday",
          "Jojo Rabbit",
          "Serial (Bad) Weddings 2",
          "Cats",
          "Charlie's Angels",
          "Good Boys",
          "Doctor Sleep",
          "What Men Want",
          "After",
          "EXIT",
          "A Beautiful Day in the Neighborhood",
          "White Snake",
          "War",
          "Hadestown",
          "Cold Pursuit",
          "Ready or Not",
          "Kabir Singh",
          "Saaho",
          "Long Shot",
          "Bombshell",
          "Ma",
          "Just Mercy",
          "Uncut Gems",
          "Countdown",
          "Midsommar",
          "21 Bridges",
          "Queen & Slim",
          "A Madea Family Funeral",
          "Child's Play",
          "Hellboy",
          "Playing with Fire",
          "A Shaun the Sheep Movie: Farmageddon",
          "My Mom is a Character 3",
          "Fighting with My Family",
          "Judy",
          "The Queen's Corgi",
          "Maharshi",
          "Gully Boy"
         ],
         "xaxis": "x",
         "y": [
          2441800564,
          1396943394,
          1300026933,
          971927996,
          976276090,
          1019251311,
          824144248,
          898394593,
          864612394,
          671575993,
          560098996,
          686067000,
          388526875,
          500000000,
          306570967,
          394093228,
          283005346,
          234852543,
          216600138,
          274733942,
          279251247,
          283533271,
          271709727,
          269232797,
          76119292,
          246228776,
          235105930,
          142608480,
          52442974,
          226941965,
          201252591,
          127908210,
          45832199,
          163044905,
          172094429,
          151540586,
          90514361,
          186965409,
          35469516,
          71616764,
          127323950,
          137600000,
          146313078,
          75152550,
          106661977,
          45307427,
          66359052,
          25641396,
          116532206,
          80801777,
          113033739,
          91550750,
          19559110,
          67826172,
          115570314,
          115570314,
          91399944,
          36615070,
          73853135,
          70438172,
          41490353,
          75703432,
          62092097,
          68468705,
          74769845,
          -21484976,
          25279888,
          52457330,
          27281712,
          49766483,
          55497587,
          57433551,
          63760877,
          54989107,
          38351597,
          50735335,
          -786069,
          51615777,
          46727164,
          4000000,
          13847136,
          21774397,
          46749995,
          25401502,
          31020902,
          41521766,
          38862188,
          14088457,
          26597100,
          46115383,
          34902237,
          -5335310,
          14500000,
          42880428,
          37273021,
          28055536,
          38981322,
          36120360,
          22000000,
          28191411
         ],
         "yaxis": "y"
        }
       ],
       "layout": {
        "barmode": "relative",
        "coloraxis": {
         "colorbar": {
          "title": {
           "text": "budget"
          }
         },
         "colorscale": [
          [
           0,
           "#0d0887"
          ],
          [
           0.1111111111111111,
           "#46039f"
          ],
          [
           0.2222222222222222,
           "#7201a8"
          ],
          [
           0.3333333333333333,
           "#9c179e"
          ],
          [
           0.4444444444444444,
           "#bd3786"
          ],
          [
           0.5555555555555556,
           "#d8576b"
          ],
          [
           0.6666666666666666,
           "#ed7953"
          ],
          [
           0.7777777777777778,
           "#fb9f3a"
          ],
          [
           0.8888888888888888,
           "#fdca26"
          ],
          [
           1,
           "#f0f921"
          ]
         ]
        },
        "height": 600,
        "legend": {
         "tracegroupgap": 0
        },
        "template": {
         "data": {
          "bar": [
           {
            "error_x": {
             "color": "#2a3f5f"
            },
            "error_y": {
             "color": "#2a3f5f"
            },
            "marker": {
             "line": {
              "color": "#E5ECF6",
              "width": 0.5
             }
            },
            "type": "bar"
           }
          ],
          "barpolar": [
           {
            "marker": {
             "line": {
              "color": "#E5ECF6",
              "width": 0.5
             }
            },
            "type": "barpolar"
           }
          ],
          "carpet": [
           {
            "aaxis": {
             "endlinecolor": "#2a3f5f",
             "gridcolor": "white",
             "linecolor": "white",
             "minorgridcolor": "white",
             "startlinecolor": "#2a3f5f"
            },
            "baxis": {
             "endlinecolor": "#2a3f5f",
             "gridcolor": "white",
             "linecolor": "white",
             "minorgridcolor": "white",
             "startlinecolor": "#2a3f5f"
            },
            "type": "carpet"
           }
          ],
          "choropleth": [
           {
            "colorbar": {
             "outlinewidth": 0,
             "ticks": ""
            },
            "type": "choropleth"
           }
          ],
          "contour": [
           {
            "colorbar": {
             "outlinewidth": 0,
             "ticks": ""
            },
            "colorscale": [
             [
              0,
              "#0d0887"
             ],
             [
              0.1111111111111111,
              "#46039f"
             ],
             [
              0.2222222222222222,
              "#7201a8"
             ],
             [
              0.3333333333333333,
              "#9c179e"
             ],
             [
              0.4444444444444444,
              "#bd3786"
             ],
             [
              0.5555555555555556,
              "#d8576b"
             ],
             [
              0.6666666666666666,
              "#ed7953"
             ],
             [
              0.7777777777777778,
              "#fb9f3a"
             ],
             [
              0.8888888888888888,
              "#fdca26"
             ],
             [
              1,
              "#f0f921"
             ]
            ],
            "type": "contour"
           }
          ],
          "contourcarpet": [
           {
            "colorbar": {
             "outlinewidth": 0,
             "ticks": ""
            },
            "type": "contourcarpet"
           }
          ],
          "heatmap": [
           {
            "colorbar": {
             "outlinewidth": 0,
             "ticks": ""
            },
            "colorscale": [
             [
              0,
              "#0d0887"
             ],
             [
              0.1111111111111111,
              "#46039f"
             ],
             [
              0.2222222222222222,
              "#7201a8"
             ],
             [
              0.3333333333333333,
              "#9c179e"
             ],
             [
              0.4444444444444444,
              "#bd3786"
             ],
             [
              0.5555555555555556,
              "#d8576b"
             ],
             [
              0.6666666666666666,
              "#ed7953"
             ],
             [
              0.7777777777777778,
              "#fb9f3a"
             ],
             [
              0.8888888888888888,
              "#fdca26"
             ],
             [
              1,
              "#f0f921"
             ]
            ],
            "type": "heatmap"
           }
          ],
          "heatmapgl": [
           {
            "colorbar": {
             "outlinewidth": 0,
             "ticks": ""
            },
            "colorscale": [
             [
              0,
              "#0d0887"
             ],
             [
              0.1111111111111111,
              "#46039f"
             ],
             [
              0.2222222222222222,
              "#7201a8"
             ],
             [
              0.3333333333333333,
              "#9c179e"
             ],
             [
              0.4444444444444444,
              "#bd3786"
             ],
             [
              0.5555555555555556,
              "#d8576b"
             ],
             [
              0.6666666666666666,
              "#ed7953"
             ],
             [
              0.7777777777777778,
              "#fb9f3a"
             ],
             [
              0.8888888888888888,
              "#fdca26"
             ],
             [
              1,
              "#f0f921"
             ]
            ],
            "type": "heatmapgl"
           }
          ],
          "histogram": [
           {
            "marker": {
             "colorbar": {
              "outlinewidth": 0,
              "ticks": ""
             }
            },
            "type": "histogram"
           }
          ],
          "histogram2d": [
           {
            "colorbar": {
             "outlinewidth": 0,
             "ticks": ""
            },
            "colorscale": [
             [
              0,
              "#0d0887"
             ],
             [
              0.1111111111111111,
              "#46039f"
             ],
             [
              0.2222222222222222,
              "#7201a8"
             ],
             [
              0.3333333333333333,
              "#9c179e"
             ],
             [
              0.4444444444444444,
              "#bd3786"
             ],
             [
              0.5555555555555556,
              "#d8576b"
             ],
             [
              0.6666666666666666,
              "#ed7953"
             ],
             [
              0.7777777777777778,
              "#fb9f3a"
             ],
             [
              0.8888888888888888,
              "#fdca26"
             ],
             [
              1,
              "#f0f921"
             ]
            ],
            "type": "histogram2d"
           }
          ],
          "histogram2dcontour": [
           {
            "colorbar": {
             "outlinewidth": 0,
             "ticks": ""
            },
            "colorscale": [
             [
              0,
              "#0d0887"
             ],
             [
              0.1111111111111111,
              "#46039f"
             ],
             [
              0.2222222222222222,
              "#7201a8"
             ],
             [
              0.3333333333333333,
              "#9c179e"
             ],
             [
              0.4444444444444444,
              "#bd3786"
             ],
             [
              0.5555555555555556,
              "#d8576b"
             ],
             [
              0.6666666666666666,
              "#ed7953"
             ],
             [
              0.7777777777777778,
              "#fb9f3a"
             ],
             [
              0.8888888888888888,
              "#fdca26"
             ],
             [
              1,
              "#f0f921"
             ]
            ],
            "type": "histogram2dcontour"
           }
          ],
          "mesh3d": [
           {
            "colorbar": {
             "outlinewidth": 0,
             "ticks": ""
            },
            "type": "mesh3d"
           }
          ],
          "parcoords": [
           {
            "line": {
             "colorbar": {
              "outlinewidth": 0,
              "ticks": ""
             }
            },
            "type": "parcoords"
           }
          ],
          "scatter": [
           {
            "marker": {
             "colorbar": {
              "outlinewidth": 0,
              "ticks": ""
             }
            },
            "type": "scatter"
           }
          ],
          "scatter3d": [
           {
            "line": {
             "colorbar": {
              "outlinewidth": 0,
              "ticks": ""
             }
            },
            "marker": {
             "colorbar": {
              "outlinewidth": 0,
              "ticks": ""
             }
            },
            "type": "scatter3d"
           }
          ],
          "scattercarpet": [
           {
            "marker": {
             "colorbar": {
              "outlinewidth": 0,
              "ticks": ""
             }
            },
            "type": "scattercarpet"
           }
          ],
          "scattergeo": [
           {
            "marker": {
             "colorbar": {
              "outlinewidth": 0,
              "ticks": ""
             }
            },
            "type": "scattergeo"
           }
          ],
          "scattergl": [
           {
            "marker": {
             "colorbar": {
              "outlinewidth": 0,
              "ticks": ""
             }
            },
            "type": "scattergl"
           }
          ],
          "scattermapbox": [
           {
            "marker": {
             "colorbar": {
              "outlinewidth": 0,
              "ticks": ""
             }
            },
            "type": "scattermapbox"
           }
          ],
          "scatterpolar": [
           {
            "marker": {
             "colorbar": {
              "outlinewidth": 0,
              "ticks": ""
             }
            },
            "type": "scatterpolar"
           }
          ],
          "scatterpolargl": [
           {
            "marker": {
             "colorbar": {
              "outlinewidth": 0,
              "ticks": ""
             }
            },
            "type": "scatterpolargl"
           }
          ],
          "scatterternary": [
           {
            "marker": {
             "colorbar": {
              "outlinewidth": 0,
              "ticks": ""
             }
            },
            "type": "scatterternary"
           }
          ],
          "surface": [
           {
            "colorbar": {
             "outlinewidth": 0,
             "ticks": ""
            },
            "colorscale": [
             [
              0,
              "#0d0887"
             ],
             [
              0.1111111111111111,
              "#46039f"
             ],
             [
              0.2222222222222222,
              "#7201a8"
             ],
             [
              0.3333333333333333,
              "#9c179e"
             ],
             [
              0.4444444444444444,
              "#bd3786"
             ],
             [
              0.5555555555555556,
              "#d8576b"
             ],
             [
              0.6666666666666666,
              "#ed7953"
             ],
             [
              0.7777777777777778,
              "#fb9f3a"
             ],
             [
              0.8888888888888888,
              "#fdca26"
             ],
             [
              1,
              "#f0f921"
             ]
            ],
            "type": "surface"
           }
          ],
          "table": [
           {
            "cells": {
             "fill": {
              "color": "#EBF0F8"
             },
             "line": {
              "color": "white"
             }
            },
            "header": {
             "fill": {
              "color": "#C8D4E3"
             },
             "line": {
              "color": "white"
             }
            },
            "type": "table"
           }
          ]
         },
         "layout": {
          "annotationdefaults": {
           "arrowcolor": "#2a3f5f",
           "arrowhead": 0,
           "arrowwidth": 1
          },
          "colorscale": {
           "diverging": [
            [
             0,
             "#8e0152"
            ],
            [
             0.1,
             "#c51b7d"
            ],
            [
             0.2,
             "#de77ae"
            ],
            [
             0.3,
             "#f1b6da"
            ],
            [
             0.4,
             "#fde0ef"
            ],
            [
             0.5,
             "#f7f7f7"
            ],
            [
             0.6,
             "#e6f5d0"
            ],
            [
             0.7,
             "#b8e186"
            ],
            [
             0.8,
             "#7fbc41"
            ],
            [
             0.9,
             "#4d9221"
            ],
            [
             1,
             "#276419"
            ]
           ],
           "sequential": [
            [
             0,
             "#0d0887"
            ],
            [
             0.1111111111111111,
             "#46039f"
            ],
            [
             0.2222222222222222,
             "#7201a8"
            ],
            [
             0.3333333333333333,
             "#9c179e"
            ],
            [
             0.4444444444444444,
             "#bd3786"
            ],
            [
             0.5555555555555556,
             "#d8576b"
            ],
            [
             0.6666666666666666,
             "#ed7953"
            ],
            [
             0.7777777777777778,
             "#fb9f3a"
            ],
            [
             0.8888888888888888,
             "#fdca26"
            ],
            [
             1,
             "#f0f921"
            ]
           ],
           "sequentialminus": [
            [
             0,
             "#0d0887"
            ],
            [
             0.1111111111111111,
             "#46039f"
            ],
            [
             0.2222222222222222,
             "#7201a8"
            ],
            [
             0.3333333333333333,
             "#9c179e"
            ],
            [
             0.4444444444444444,
             "#bd3786"
            ],
            [
             0.5555555555555556,
             "#d8576b"
            ],
            [
             0.6666666666666666,
             "#ed7953"
            ],
            [
             0.7777777777777778,
             "#fb9f3a"
            ],
            [
             0.8888888888888888,
             "#fdca26"
            ],
            [
             1,
             "#f0f921"
            ]
           ]
          },
          "colorway": [
           "#636efa",
           "#EF553B",
           "#00cc96",
           "#ab63fa",
           "#FFA15A",
           "#19d3f3",
           "#FF6692",
           "#B6E880",
           "#FF97FF",
           "#FECB52"
          ],
          "font": {
           "color": "#2a3f5f"
          },
          "geo": {
           "bgcolor": "white",
           "lakecolor": "white",
           "landcolor": "#E5ECF6",
           "showlakes": true,
           "showland": true,
           "subunitcolor": "white"
          },
          "hoverlabel": {
           "align": "left"
          },
          "hovermode": "closest",
          "mapbox": {
           "style": "light"
          },
          "paper_bgcolor": "white",
          "plot_bgcolor": "#E5ECF6",
          "polar": {
           "angularaxis": {
            "gridcolor": "white",
            "linecolor": "white",
            "ticks": ""
           },
           "bgcolor": "#E5ECF6",
           "radialaxis": {
            "gridcolor": "white",
            "linecolor": "white",
            "ticks": ""
           }
          },
          "scene": {
           "xaxis": {
            "backgroundcolor": "#E5ECF6",
            "gridcolor": "white",
            "gridwidth": 2,
            "linecolor": "white",
            "showbackground": true,
            "ticks": "",
            "zerolinecolor": "white"
           },
           "yaxis": {
            "backgroundcolor": "#E5ECF6",
            "gridcolor": "white",
            "gridwidth": 2,
            "linecolor": "white",
            "showbackground": true,
            "ticks": "",
            "zerolinecolor": "white"
           },
           "zaxis": {
            "backgroundcolor": "#E5ECF6",
            "gridcolor": "white",
            "gridwidth": 2,
            "linecolor": "white",
            "showbackground": true,
            "ticks": "",
            "zerolinecolor": "white"
           }
          },
          "shapedefaults": {
           "line": {
            "color": "#2a3f5f"
           }
          },
          "ternary": {
           "aaxis": {
            "gridcolor": "white",
            "linecolor": "white",
            "ticks": ""
           },
           "baxis": {
            "gridcolor": "white",
            "linecolor": "white",
            "ticks": ""
           },
           "bgcolor": "#E5ECF6",
           "caxis": {
            "gridcolor": "white",
            "linecolor": "white",
            "ticks": ""
           }
          },
          "title": {
           "x": 0.05
          },
          "xaxis": {
           "automargin": true,
           "gridcolor": "white",
           "linecolor": "white",
           "ticks": "",
           "zerolinecolor": "white",
           "zerolinewidth": 2
          },
          "yaxis": {
           "automargin": true,
           "gridcolor": "white",
           "linecolor": "white",
           "ticks": "",
           "zerolinecolor": "white",
           "zerolinewidth": 2
          }
         }
        },
        "title": {
         "text": "Budget and Gross Profit Correlation"
        },
        "xaxis": {
         "anchor": "y",
         "domain": [
          0,
          0.98
         ],
         "title": {
          "text": "title"
         }
        },
        "yaxis": {
         "anchor": "x",
         "domain": [
          0,
          1
         ],
         "title": {
          "text": "gross_profit"
         }
        }
       }
      },
      "text/html": [
       "<div>\n",
       "        \n",
       "        \n",
       "            <div id=\"d9d67dd8-98e0-4505-85f2-a5434638fe63\" class=\"plotly-graph-div\" style=\"height:600px; width:100%;\"></div>\n",
       "            <script type=\"text/javascript\">\n",
       "                require([\"plotly\"], function(Plotly) {\n",
       "                    window.PLOTLYENV=window.PLOTLYENV || {};\n",
       "                    \n",
       "                if (document.getElementById(\"d9d67dd8-98e0-4505-85f2-a5434638fe63\")) {\n",
       "                    Plotly.newPlot(\n",
       "                        'd9d67dd8-98e0-4505-85f2-a5434638fe63',\n",
       "                        [{\"alignmentgroup\": \"True\", \"hoverlabel\": {\"namelength\": 0}, \"hovertemplate\": \"title=%{x}<br>gross_profit=%{y}<br>budget=%{marker.color}\", \"legendgroup\": \"\", \"marker\": {\"color\": [356000000, 260000000, 150000000, 160000000, 152000000, 55000000, 250000000, 175000000, 183000000, 125000000, 200000000, 0, 129000000, 0, 185000000, 79000000, 150000000, 170000000, 170000000, 100000000, 95000000, 80000000, 55000000, 40000000, 185000000, 11363000, 20000000, 110000000, 200000000, 20000000, 30000000, 97600000, 170000000, 40000000, 20000000, 40000000, 100000000, 0, 138000000, 100000000, 40000000, 20000000, 9000000, 80000000, 40000000, 87500000, 65000000, 100000000, 8120000, 42000000, 9000000, 30000000, 100000000, 49000000, 0, 0, 21000000, 75000000, 37500000, 25000000, 50000000, 13500000, 26000000, 14000000, 0, 95000000, 48000000, 20000000, 45000000, 20000000, 14000000, 10892000, 4000000, 11936735, 27941858, 11500000, 60000000, 6000000, 8751000, 51000000, 40000000, 32000000, 5000000, 25000000, 19000000, 6500000, 9000000, 33000000, 20000000, 0, 10000000, 50000000, 29900000, 0, 2000000, 11000000, 0, 0, 12000000, 5782853], \"coloraxis\": \"coloraxis\"}, \"name\": \"\", \"offsetgroup\": \"\", \"orientation\": \"v\", \"showlegend\": false, \"textposition\": \"auto\", \"type\": \"bar\", \"x\": [\"Avengers: Endgame\", \"The Lion King\", \"Frozen II\", \"Spider-Man: Far from Home\", \"Captain Marvel\", \"Joker\", \"Star Wars: The Rise of Skywalker\", \"Toy Story 4\", \"Aladdin\", \"Jumanji: The Next Level\", \"Fast & Furious Presents: Hobbs & Shaw\", \"Ne Zha\", \"How to Train Your Dragon: The Hidden World\", \"Alha Sahma\", \"Maleficent: Mistress of Evil\", \"It Chapter Two\", \"Pok\\u00e9mon Detective Pikachu\", \"Alita: Battle Angel\", \"Godzilla: King of the Monsters\", \"1917\", \"Once Upon a Time\\u2026 in Hollywood\", \"Shazam!\", \"John Wick: Chapter 3 - Parabellum\", \"Knives Out\", \"Terminator: Dark Fate\", \"Parasite\", \"Us\", \"Men in Black: International\", \"Dark Phoenix\", \"Glass\", \"Annabelle Comes Home\", \"Ford v Ferrari\", \"Dumbo\", \"The Addams Family\", \"Downton Abbey\", \"Little Women\", \"The Lego Movie 2: The Second Part\", \"Weathering with You\", \"Gemini Man\", \"Spies in Disguise\", \"Rocketman\", \"Hustlers\", \"Escape Room\", \"The Secret Life of Pets 2\", \"Angel Has Fallen\", \"Ad Astra\", \"The Angry Birds Movie 2\", \"Midway\", \"Extreme Job\", \"Zombieland: Double Tap\", \"The Curse of La Llorona\", \"Last Christmas\", \"Wonder Park\", \"Dora and the Lost City of Gold\", \"Meitantei Conan: Konjo no fisuto\", \"Detective Conan: The Fist of Blue Sapphire\", \"Pet Sematary\", \"Abominable\", \"The Upside\", \"Scary Stories to Tell in the Dark\", \"Rambo: Last Blood\", \"Crawl\", \"Yesterday\", \"Jojo Rabbit\", \"Serial (Bad) Weddings 2\", \"Cats\", \"Charlie's Angels\", \"Good Boys\", \"Doctor Sleep\", \"What Men Want\", \"After\", \"EXIT\", \"A Beautiful Day in the Neighborhood\", \"White Snake\", \"War\", \"Hadestown\", \"Cold Pursuit\", \"Ready or Not\", \"Kabir Singh\", \"Saaho\", \"Long Shot\", \"Bombshell\", \"Ma\", \"Just Mercy\", \"Uncut Gems\", \"Countdown\", \"Midsommar\", \"21 Bridges\", \"Queen & Slim\", \"A Madea Family Funeral\", \"Child's Play\", \"Hellboy\", \"Playing with Fire\", \"A Shaun the Sheep Movie: Farmageddon\", \"My Mom is a Character 3\", \"Fighting with My Family\", \"Judy\", \"The Queen's Corgi\", \"Maharshi\", \"Gully Boy\"], \"xaxis\": \"x\", \"y\": [2441800564, 1396943394, 1300026933, 971927996, 976276090, 1019251311, 824144248, 898394593, 864612394, 671575993, 560098996, 686067000, 388526875, 500000000, 306570967, 394093228, 283005346, 234852543, 216600138, 274733942, 279251247, 283533271, 271709727, 269232797, 76119292, 246228776, 235105930, 142608480, 52442974, 226941965, 201252591, 127908210, 45832199, 163044905, 172094429, 151540586, 90514361, 186965409, 35469516, 71616764, 127323950, 137600000, 146313078, 75152550, 106661977, 45307427, 66359052, 25641396, 116532206, 80801777, 113033739, 91550750, 19559110, 67826172, 115570314, 115570314, 91399944, 36615070, 73853135, 70438172, 41490353, 75703432, 62092097, 68468705, 74769845, -21484976, 25279888, 52457330, 27281712, 49766483, 55497587, 57433551, 63760877, 54989107, 38351597, 50735335, -786069, 51615777, 46727164, 4000000, 13847136, 21774397, 46749995, 25401502, 31020902, 41521766, 38862188, 14088457, 26597100, 46115383, 34902237, -5335310, 14500000, 42880428, 37273021, 28055536, 38981322, 36120360, 22000000, 28191411], \"yaxis\": \"y\"}],\n",
       "                        {\"barmode\": \"relative\", \"coloraxis\": {\"colorbar\": {\"title\": {\"text\": \"budget\"}}, \"colorscale\": [[0.0, \"#0d0887\"], [0.1111111111111111, \"#46039f\"], [0.2222222222222222, \"#7201a8\"], [0.3333333333333333, \"#9c179e\"], [0.4444444444444444, \"#bd3786\"], [0.5555555555555556, \"#d8576b\"], [0.6666666666666666, \"#ed7953\"], [0.7777777777777778, \"#fb9f3a\"], [0.8888888888888888, \"#fdca26\"], [1.0, \"#f0f921\"]]}, \"height\": 600, \"legend\": {\"tracegroupgap\": 0}, \"template\": {\"data\": {\"bar\": [{\"error_x\": {\"color\": \"#2a3f5f\"}, \"error_y\": {\"color\": \"#2a3f5f\"}, \"marker\": {\"line\": {\"color\": \"#E5ECF6\", \"width\": 0.5}}, \"type\": \"bar\"}], \"barpolar\": [{\"marker\": {\"line\": {\"color\": \"#E5ECF6\", \"width\": 0.5}}, \"type\": \"barpolar\"}], \"carpet\": [{\"aaxis\": {\"endlinecolor\": \"#2a3f5f\", \"gridcolor\": \"white\", \"linecolor\": \"white\", \"minorgridcolor\": \"white\", \"startlinecolor\": \"#2a3f5f\"}, \"baxis\": {\"endlinecolor\": \"#2a3f5f\", \"gridcolor\": \"white\", \"linecolor\": \"white\", \"minorgridcolor\": \"white\", \"startlinecolor\": \"#2a3f5f\"}, \"type\": \"carpet\"}], \"choropleth\": [{\"colorbar\": {\"outlinewidth\": 0, \"ticks\": \"\"}, \"type\": \"choropleth\"}], \"contour\": [{\"colorbar\": {\"outlinewidth\": 0, \"ticks\": \"\"}, \"colorscale\": [[0.0, \"#0d0887\"], [0.1111111111111111, \"#46039f\"], [0.2222222222222222, \"#7201a8\"], [0.3333333333333333, \"#9c179e\"], [0.4444444444444444, \"#bd3786\"], [0.5555555555555556, \"#d8576b\"], [0.6666666666666666, \"#ed7953\"], [0.7777777777777778, \"#fb9f3a\"], [0.8888888888888888, \"#fdca26\"], [1.0, \"#f0f921\"]], \"type\": \"contour\"}], \"contourcarpet\": [{\"colorbar\": {\"outlinewidth\": 0, \"ticks\": \"\"}, \"type\": \"contourcarpet\"}], \"heatmap\": [{\"colorbar\": {\"outlinewidth\": 0, \"ticks\": \"\"}, \"colorscale\": [[0.0, \"#0d0887\"], [0.1111111111111111, \"#46039f\"], [0.2222222222222222, \"#7201a8\"], [0.3333333333333333, \"#9c179e\"], [0.4444444444444444, \"#bd3786\"], [0.5555555555555556, \"#d8576b\"], [0.6666666666666666, \"#ed7953\"], [0.7777777777777778, \"#fb9f3a\"], [0.8888888888888888, \"#fdca26\"], [1.0, \"#f0f921\"]], \"type\": \"heatmap\"}], \"heatmapgl\": [{\"colorbar\": {\"outlinewidth\": 0, \"ticks\": \"\"}, \"colorscale\": [[0.0, \"#0d0887\"], [0.1111111111111111, \"#46039f\"], [0.2222222222222222, \"#7201a8\"], [0.3333333333333333, \"#9c179e\"], [0.4444444444444444, \"#bd3786\"], [0.5555555555555556, \"#d8576b\"], [0.6666666666666666, \"#ed7953\"], [0.7777777777777778, \"#fb9f3a\"], [0.8888888888888888, \"#fdca26\"], [1.0, \"#f0f921\"]], \"type\": \"heatmapgl\"}], \"histogram\": [{\"marker\": {\"colorbar\": {\"outlinewidth\": 0, \"ticks\": \"\"}}, \"type\": \"histogram\"}], \"histogram2d\": [{\"colorbar\": {\"outlinewidth\": 0, \"ticks\": \"\"}, \"colorscale\": [[0.0, \"#0d0887\"], [0.1111111111111111, \"#46039f\"], [0.2222222222222222, \"#7201a8\"], [0.3333333333333333, \"#9c179e\"], [0.4444444444444444, \"#bd3786\"], [0.5555555555555556, \"#d8576b\"], [0.6666666666666666, \"#ed7953\"], [0.7777777777777778, \"#fb9f3a\"], [0.8888888888888888, \"#fdca26\"], [1.0, \"#f0f921\"]], \"type\": \"histogram2d\"}], \"histogram2dcontour\": [{\"colorbar\": {\"outlinewidth\": 0, \"ticks\": \"\"}, \"colorscale\": [[0.0, \"#0d0887\"], [0.1111111111111111, \"#46039f\"], [0.2222222222222222, \"#7201a8\"], [0.3333333333333333, \"#9c179e\"], [0.4444444444444444, \"#bd3786\"], [0.5555555555555556, \"#d8576b\"], [0.6666666666666666, \"#ed7953\"], [0.7777777777777778, \"#fb9f3a\"], [0.8888888888888888, \"#fdca26\"], [1.0, \"#f0f921\"]], \"type\": \"histogram2dcontour\"}], \"mesh3d\": [{\"colorbar\": {\"outlinewidth\": 0, \"ticks\": \"\"}, \"type\": \"mesh3d\"}], \"parcoords\": [{\"line\": {\"colorbar\": {\"outlinewidth\": 0, \"ticks\": \"\"}}, \"type\": \"parcoords\"}], \"scatter\": [{\"marker\": {\"colorbar\": {\"outlinewidth\": 0, \"ticks\": \"\"}}, \"type\": \"scatter\"}], \"scatter3d\": [{\"line\": {\"colorbar\": {\"outlinewidth\": 0, \"ticks\": \"\"}}, \"marker\": {\"colorbar\": {\"outlinewidth\": 0, \"ticks\": \"\"}}, \"type\": \"scatter3d\"}], \"scattercarpet\": [{\"marker\": {\"colorbar\": {\"outlinewidth\": 0, \"ticks\": \"\"}}, \"type\": \"scattercarpet\"}], \"scattergeo\": [{\"marker\": {\"colorbar\": {\"outlinewidth\": 0, \"ticks\": \"\"}}, \"type\": \"scattergeo\"}], \"scattergl\": [{\"marker\": {\"colorbar\": {\"outlinewidth\": 0, \"ticks\": \"\"}}, \"type\": \"scattergl\"}], \"scattermapbox\": [{\"marker\": {\"colorbar\": {\"outlinewidth\": 0, \"ticks\": \"\"}}, \"type\": \"scattermapbox\"}], \"scatterpolar\": [{\"marker\": {\"colorbar\": {\"outlinewidth\": 0, \"ticks\": \"\"}}, \"type\": \"scatterpolar\"}], \"scatterpolargl\": [{\"marker\": {\"colorbar\": {\"outlinewidth\": 0, \"ticks\": \"\"}}, \"type\": \"scatterpolargl\"}], \"scatterternary\": [{\"marker\": {\"colorbar\": {\"outlinewidth\": 0, \"ticks\": \"\"}}, \"type\": \"scatterternary\"}], \"surface\": [{\"colorbar\": {\"outlinewidth\": 0, \"ticks\": \"\"}, \"colorscale\": [[0.0, \"#0d0887\"], [0.1111111111111111, \"#46039f\"], [0.2222222222222222, \"#7201a8\"], [0.3333333333333333, \"#9c179e\"], [0.4444444444444444, \"#bd3786\"], [0.5555555555555556, \"#d8576b\"], [0.6666666666666666, \"#ed7953\"], [0.7777777777777778, \"#fb9f3a\"], [0.8888888888888888, \"#fdca26\"], [1.0, \"#f0f921\"]], \"type\": \"surface\"}], \"table\": [{\"cells\": {\"fill\": {\"color\": \"#EBF0F8\"}, \"line\": {\"color\": \"white\"}}, \"header\": {\"fill\": {\"color\": \"#C8D4E3\"}, \"line\": {\"color\": \"white\"}}, \"type\": \"table\"}]}, \"layout\": {\"annotationdefaults\": {\"arrowcolor\": \"#2a3f5f\", \"arrowhead\": 0, \"arrowwidth\": 1}, \"colorscale\": {\"diverging\": [[0, \"#8e0152\"], [0.1, \"#c51b7d\"], [0.2, \"#de77ae\"], [0.3, \"#f1b6da\"], [0.4, \"#fde0ef\"], [0.5, \"#f7f7f7\"], [0.6, \"#e6f5d0\"], [0.7, \"#b8e186\"], [0.8, \"#7fbc41\"], [0.9, \"#4d9221\"], [1, \"#276419\"]], \"sequential\": [[0.0, \"#0d0887\"], [0.1111111111111111, \"#46039f\"], [0.2222222222222222, \"#7201a8\"], [0.3333333333333333, \"#9c179e\"], [0.4444444444444444, \"#bd3786\"], [0.5555555555555556, \"#d8576b\"], [0.6666666666666666, \"#ed7953\"], [0.7777777777777778, \"#fb9f3a\"], [0.8888888888888888, \"#fdca26\"], [1.0, \"#f0f921\"]], \"sequentialminus\": [[0.0, \"#0d0887\"], [0.1111111111111111, \"#46039f\"], [0.2222222222222222, \"#7201a8\"], [0.3333333333333333, \"#9c179e\"], [0.4444444444444444, \"#bd3786\"], [0.5555555555555556, \"#d8576b\"], [0.6666666666666666, \"#ed7953\"], [0.7777777777777778, \"#fb9f3a\"], [0.8888888888888888, \"#fdca26\"], [1.0, \"#f0f921\"]]}, \"colorway\": [\"#636efa\", \"#EF553B\", \"#00cc96\", \"#ab63fa\", \"#FFA15A\", \"#19d3f3\", \"#FF6692\", \"#B6E880\", \"#FF97FF\", \"#FECB52\"], \"font\": {\"color\": \"#2a3f5f\"}, \"geo\": {\"bgcolor\": \"white\", \"lakecolor\": \"white\", \"landcolor\": \"#E5ECF6\", \"showlakes\": true, \"showland\": true, \"subunitcolor\": \"white\"}, \"hoverlabel\": {\"align\": \"left\"}, \"hovermode\": \"closest\", \"mapbox\": {\"style\": \"light\"}, \"paper_bgcolor\": \"white\", \"plot_bgcolor\": \"#E5ECF6\", \"polar\": {\"angularaxis\": {\"gridcolor\": \"white\", \"linecolor\": \"white\", \"ticks\": \"\"}, \"bgcolor\": \"#E5ECF6\", \"radialaxis\": {\"gridcolor\": \"white\", \"linecolor\": \"white\", \"ticks\": \"\"}}, \"scene\": {\"xaxis\": {\"backgroundcolor\": \"#E5ECF6\", \"gridcolor\": \"white\", \"gridwidth\": 2, \"linecolor\": \"white\", \"showbackground\": true, \"ticks\": \"\", \"zerolinecolor\": \"white\"}, \"yaxis\": {\"backgroundcolor\": \"#E5ECF6\", \"gridcolor\": \"white\", \"gridwidth\": 2, \"linecolor\": \"white\", \"showbackground\": true, \"ticks\": \"\", \"zerolinecolor\": \"white\"}, \"zaxis\": {\"backgroundcolor\": \"#E5ECF6\", \"gridcolor\": \"white\", \"gridwidth\": 2, \"linecolor\": \"white\", \"showbackground\": true, \"ticks\": \"\", \"zerolinecolor\": \"white\"}}, \"shapedefaults\": {\"line\": {\"color\": \"#2a3f5f\"}}, \"ternary\": {\"aaxis\": {\"gridcolor\": \"white\", \"linecolor\": \"white\", \"ticks\": \"\"}, \"baxis\": {\"gridcolor\": \"white\", \"linecolor\": \"white\", \"ticks\": \"\"}, \"bgcolor\": \"#E5ECF6\", \"caxis\": {\"gridcolor\": \"white\", \"linecolor\": \"white\", \"ticks\": \"\"}}, \"title\": {\"x\": 0.05}, \"xaxis\": {\"automargin\": true, \"gridcolor\": \"white\", \"linecolor\": \"white\", \"ticks\": \"\", \"zerolinecolor\": \"white\", \"zerolinewidth\": 2}, \"yaxis\": {\"automargin\": true, \"gridcolor\": \"white\", \"linecolor\": \"white\", \"ticks\": \"\", \"zerolinecolor\": \"white\", \"zerolinewidth\": 2}}}, \"title\": {\"text\": \"Budget and Gross Profit Correlation\"}, \"xaxis\": {\"anchor\": \"y\", \"domain\": [0.0, 0.98], \"title\": {\"text\": \"title\"}}, \"yaxis\": {\"anchor\": \"x\", \"domain\": [0.0, 1.0], \"title\": {\"text\": \"gross_profit\"}}},\n",
       "                        {\"responsive\": true}\n",
       "                    ).then(function(){\n",
       "                            \n",
       "var gd = document.getElementById('d9d67dd8-98e0-4505-85f2-a5434638fe63');\n",
       "var x = new MutationObserver(function (mutations, observer) {{\n",
       "        var display = window.getComputedStyle(gd).display;\n",
       "        if (!display || display === 'none') {{\n",
       "            console.log([gd, 'removed!']);\n",
       "            Plotly.purge(gd);\n",
       "            observer.disconnect();\n",
       "        }}\n",
       "}});\n",
       "\n",
       "// Listen for the removal of the full notebook cells\n",
       "var notebookContainer = gd.closest('#notebook-container');\n",
       "if (notebookContainer) {{\n",
       "    x.observe(notebookContainer, {childList: true});\n",
       "}}\n",
       "\n",
       "// Listen for the clearing of the current output cell\n",
       "var outputEl = gd.closest('.output');\n",
       "if (outputEl) {{\n",
       "    x.observe(outputEl, {childList: true});\n",
       "}}\n",
       "\n",
       "                        })\n",
       "                };\n",
       "                });\n",
       "            </script>\n",
       "        </div>"
      ]
     },
     "metadata": {},
     "output_type": "display_data"
    }
   ],
   "source": [
    "fig = px."
   ]
  },
  {
   "cell_type": "code",
   "execution_count": 148,
   "metadata": {},
   "outputs": [
    {
     "data": {
      "text/html": [
       "<div>\n",
       "<style scoped>\n",
       "    .dataframe tbody tr th:only-of-type {\n",
       "        vertical-align: middle;\n",
       "    }\n",
       "\n",
       "    .dataframe tbody tr th {\n",
       "        vertical-align: top;\n",
       "    }\n",
       "\n",
       "    .dataframe thead th {\n",
       "        text-align: right;\n",
       "    }\n",
       "</style>\n",
       "<table border=\"1\" class=\"dataframe\">\n",
       "  <thead>\n",
       "    <tr style=\"text-align: right;\">\n",
       "      <th></th>\n",
       "      <th>id</th>\n",
       "      <th>budget</th>\n",
       "      <th>revenue</th>\n",
       "      <th>gross_profit</th>\n",
       "      <th>popularity</th>\n",
       "      <th>title</th>\n",
       "      <th>vote_average</th>\n",
       "      <th>release_date</th>\n",
       "    </tr>\n",
       "  </thead>\n",
       "  <tbody>\n",
       "    <tr>\n",
       "      <th>42</th>\n",
       "      <td>522681</td>\n",
       "      <td>9000000</td>\n",
       "      <td>155313078</td>\n",
       "      <td>146313078</td>\n",
       "      <td>36.065</td>\n",
       "      <td>Escape Room</td>\n",
       "      <td>6.4</td>\n",
       "      <td>2019-01-03</td>\n",
       "    </tr>\n",
       "    <tr>\n",
       "      <th>12</th>\n",
       "      <td>166428</td>\n",
       "      <td>129000000</td>\n",
       "      <td>517526875</td>\n",
       "      <td>388526875</td>\n",
       "      <td>103.472</td>\n",
       "      <td>How to Train Your Dragon: The Hidden World</td>\n",
       "      <td>7.8</td>\n",
       "      <td>2019-01-03</td>\n",
       "    </tr>\n",
       "    <tr>\n",
       "      <th>58</th>\n",
       "      <td>440472</td>\n",
       "      <td>37500000</td>\n",
       "      <td>111353135</td>\n",
       "      <td>73853135</td>\n",
       "      <td>34.624</td>\n",
       "      <td>The Upside</td>\n",
       "      <td>7.1</td>\n",
       "      <td>2019-01-10</td>\n",
       "    </tr>\n",
       "    <tr>\n",
       "      <th>73</th>\n",
       "      <td>573699</td>\n",
       "      <td>11936735</td>\n",
       "      <td>66925842</td>\n",
       "      <td>54989107</td>\n",
       "      <td>58.512</td>\n",
       "      <td>White Snake</td>\n",
       "      <td>7.7</td>\n",
       "      <td>2019-01-11</td>\n",
       "    </tr>\n",
       "    <tr>\n",
       "      <th>29</th>\n",
       "      <td>450465</td>\n",
       "      <td>20000000</td>\n",
       "      <td>246941965</td>\n",
       "      <td>226941965</td>\n",
       "      <td>63.209</td>\n",
       "      <td>Glass</td>\n",
       "      <td>6.6</td>\n",
       "      <td>2019-01-16</td>\n",
       "    </tr>\n",
       "    <tr>\n",
       "      <th>...</th>\n",
       "      <td>...</td>\n",
       "      <td>...</td>\n",
       "      <td>...</td>\n",
       "      <td>...</td>\n",
       "      <td>...</td>\n",
       "      <td>...</td>\n",
       "      <td>...</td>\n",
       "      <td>...</td>\n",
       "    </tr>\n",
       "    <tr>\n",
       "      <th>65</th>\n",
       "      <td>536869</td>\n",
       "      <td>95000000</td>\n",
       "      <td>73515024</td>\n",
       "      <td>-21484976</td>\n",
       "      <td>40.762</td>\n",
       "      <td>Cats</td>\n",
       "      <td>4.4</td>\n",
       "      <td>2019-12-19</td>\n",
       "    </tr>\n",
       "    <tr>\n",
       "      <th>35</th>\n",
       "      <td>331482</td>\n",
       "      <td>40000000</td>\n",
       "      <td>191540586</td>\n",
       "      <td>151540586</td>\n",
       "      <td>74.064</td>\n",
       "      <td>Little Women</td>\n",
       "      <td>8.0</td>\n",
       "      <td>2019-12-25</td>\n",
       "    </tr>\n",
       "    <tr>\n",
       "      <th>83</th>\n",
       "      <td>522212</td>\n",
       "      <td>25000000</td>\n",
       "      <td>50401502</td>\n",
       "      <td>25401502</td>\n",
       "      <td>30.148</td>\n",
       "      <td>Just Mercy</td>\n",
       "      <td>8.0</td>\n",
       "      <td>2019-12-25</td>\n",
       "    </tr>\n",
       "    <tr>\n",
       "      <th>19</th>\n",
       "      <td>530915</td>\n",
       "      <td>100000000</td>\n",
       "      <td>374733942</td>\n",
       "      <td>274733942</td>\n",
       "      <td>214.084</td>\n",
       "      <td>1917</td>\n",
       "      <td>7.9</td>\n",
       "      <td>2019-12-25</td>\n",
       "    </tr>\n",
       "    <tr>\n",
       "      <th>94</th>\n",
       "      <td>620683</td>\n",
       "      <td>2000000</td>\n",
       "      <td>39273021</td>\n",
       "      <td>37273021</td>\n",
       "      <td>8.864</td>\n",
       "      <td>My Mom is a Character 3</td>\n",
       "      <td>8.4</td>\n",
       "      <td>2019-12-26</td>\n",
       "    </tr>\n",
       "  </tbody>\n",
       "</table>\n",
       "<p>100 rows × 8 columns</p>\n",
       "</div>"
      ],
      "text/plain": [
       "        id     budget    revenue  gross_profit  popularity  \\\n",
       "42  522681    9000000  155313078     146313078      36.065   \n",
       "12  166428  129000000  517526875     388526875     103.472   \n",
       "58  440472   37500000  111353135      73853135      34.624   \n",
       "73  573699   11936735   66925842      54989107      58.512   \n",
       "29  450465   20000000  246941965     226941965      63.209   \n",
       "..     ...        ...        ...           ...         ...   \n",
       "65  536869   95000000   73515024     -21484976      40.762   \n",
       "35  331482   40000000  191540586     151540586      74.064   \n",
       "83  522212   25000000   50401502      25401502      30.148   \n",
       "19  530915  100000000  374733942     274733942     214.084   \n",
       "94  620683    2000000   39273021      37273021       8.864   \n",
       "\n",
       "                                         title  vote_average release_date  \n",
       "42                                 Escape Room           6.4   2019-01-03  \n",
       "12  How to Train Your Dragon: The Hidden World           7.8   2019-01-03  \n",
       "58                                  The Upside           7.1   2019-01-10  \n",
       "73                                 White Snake           7.7   2019-01-11  \n",
       "29                                       Glass           6.6   2019-01-16  \n",
       "..                                         ...           ...          ...  \n",
       "65                                        Cats           4.4   2019-12-19  \n",
       "35                                Little Women           8.0   2019-12-25  \n",
       "83                                  Just Mercy           8.0   2019-12-25  \n",
       "19                                        1917           7.9   2019-12-25  \n",
       "94                     My Mom is a Character 3           8.4   2019-12-26  \n",
       "\n",
       "[100 rows x 8 columns]"
      ]
     },
     "execution_count": 148,
     "metadata": {},
     "output_type": "execute_result"
    }
   ],
   "source": [
    "df3.sort_values('release_date')"
   ]
  },
  {
   "cell_type": "code",
   "execution_count": 164,
   "metadata": {},
   "outputs": [
    {
     "data": {
      "application/vnd.plotly.v1+json": {
       "config": {
        "plotlyServerURL": "https://plot.ly"
       },
       "data": [
        {
         "alignmentgroup": "True",
         "bingroup": "x",
         "hoverlabel": {
          "namelength": 0
         },
         "hovertemplate": "release_date=%{x}<br>count of gross_profit=%{y}",
         "legendgroup": "",
         "marker": {
          "color": "#636efa"
         },
         "name": "",
         "nbinsx": 52,
         "offsetgroup": "",
         "orientation": "v",
         "showlegend": false,
         "type": "histogram",
         "x": [
          "2019-04-24",
          "2019-07-12",
          "2019-11-20",
          "2019-06-28",
          "2019-03-06",
          "2019-10-02",
          "2019-12-18",
          "2019-06-19",
          "2019-05-22",
          "2019-12-04",
          "2019-08-01",
          "2019-07-26",
          "2019-01-03",
          "2019-04-12",
          "2019-10-16",
          "2019-09-04",
          "2019-05-03",
          "2019-01-31",
          "2019-05-29",
          "2019-12-25",
          "2019-07-24",
          "2019-03-29",
          "2019-05-15",
          "2019-11-27",
          "2019-10-23",
          "2019-05-30",
          "2019-03-14",
          "2019-06-12",
          "2019-06-05",
          "2019-01-16",
          "2019-06-26",
          "2019-11-13",
          "2019-03-27",
          "2019-10-10",
          "2019-09-12",
          "2019-12-25",
          "2019-01-26",
          "2019-07-19",
          "2019-10-02",
          "2019-12-04",
          "2019-05-22",
          "2019-09-12",
          "2019-01-03",
          "2019-05-24",
          "2019-08-21",
          "2019-09-17",
          "2019-08-02",
          "2019-11-06",
          "2019-01-23",
          "2019-10-09",
          "2019-04-17",
          "2019-11-07",
          "2019-03-14",
          "2019-08-08",
          "2019-04-12",
          "2019-04-12",
          "2019-04-04",
          "2019-09-19",
          "2019-01-10",
          "2019-08-08",
          "2019-09-19",
          "2019-07-11",
          "2019-06-27",
          "2019-10-18",
          "2019-01-30",
          "2019-12-19",
          "2019-11-14",
          "2019-08-14",
          "2019-10-30",
          "2019-02-08",
          "2019-04-11",
          "2019-07-31",
          "2019-09-07",
          "2019-01-11",
          "2019-10-02",
          "2019-03-22",
          "2019-02-07",
          "2019-08-21",
          "2019-06-20",
          "2019-08-29",
          "2019-05-02",
          "2019-12-13",
          "2019-05-29",
          "2019-12-25",
          "2019-08-30",
          "2019-10-24",
          "2019-07-03",
          "2019-10-24",
          "2019-11-27",
          "2019-03-01",
          "2019-06-19",
          "2019-04-10",
          "2019-11-08",
          "2019-09-26",
          "2019-12-26",
          "2019-02-14",
          "2019-09-27",
          "2019-02-13",
          "2019-05-09",
          "2019-02-14"
         ],
         "xaxis": "x",
         "y": [
          2441800564,
          1396943394,
          1300026933,
          971927996,
          976276090,
          1019251311,
          824144248,
          898394593,
          864612394,
          671575993,
          560098996,
          686067000,
          388526875,
          500000000,
          306570967,
          394093228,
          283005346,
          234852543,
          216600138,
          274733942,
          279251247,
          283533271,
          271709727,
          269232797,
          76119292,
          246228776,
          235105930,
          142608480,
          52442974,
          226941965,
          201252591,
          127908210,
          45832199,
          163044905,
          172094429,
          151540586,
          90514361,
          186965409,
          35469516,
          71616764,
          127323950,
          137600000,
          146313078,
          75152550,
          106661977,
          45307427,
          66359052,
          25641396,
          116532206,
          80801777,
          113033739,
          91550750,
          19559110,
          67826172,
          115570314,
          115570314,
          91399944,
          36615070,
          73853135,
          70438172,
          41490353,
          75703432,
          62092097,
          68468705,
          74769845,
          -21484976,
          25279888,
          52457330,
          27281712,
          49766483,
          55497587,
          57433551,
          63760877,
          54989107,
          38351597,
          50735335,
          -786069,
          51615777,
          46727164,
          4000000,
          13847136,
          21774397,
          46749995,
          25401502,
          31020902,
          41521766,
          38862188,
          14088457,
          26597100,
          46115383,
          34902237,
          -5335310,
          14500000,
          42880428,
          37273021,
          28055536,
          38981322,
          36120360,
          22000000,
          28191411
         ],
         "yaxis": "y"
        }
       ],
       "layout": {
        "barmode": "relative",
        "height": 600,
        "legend": {
         "tracegroupgap": 0
        },
        "template": {
         "data": {
          "bar": [
           {
            "error_x": {
             "color": "#2a3f5f"
            },
            "error_y": {
             "color": "#2a3f5f"
            },
            "marker": {
             "line": {
              "color": "#E5ECF6",
              "width": 0.5
             }
            },
            "type": "bar"
           }
          ],
          "barpolar": [
           {
            "marker": {
             "line": {
              "color": "#E5ECF6",
              "width": 0.5
             }
            },
            "type": "barpolar"
           }
          ],
          "carpet": [
           {
            "aaxis": {
             "endlinecolor": "#2a3f5f",
             "gridcolor": "white",
             "linecolor": "white",
             "minorgridcolor": "white",
             "startlinecolor": "#2a3f5f"
            },
            "baxis": {
             "endlinecolor": "#2a3f5f",
             "gridcolor": "white",
             "linecolor": "white",
             "minorgridcolor": "white",
             "startlinecolor": "#2a3f5f"
            },
            "type": "carpet"
           }
          ],
          "choropleth": [
           {
            "colorbar": {
             "outlinewidth": 0,
             "ticks": ""
            },
            "type": "choropleth"
           }
          ],
          "contour": [
           {
            "colorbar": {
             "outlinewidth": 0,
             "ticks": ""
            },
            "colorscale": [
             [
              0,
              "#0d0887"
             ],
             [
              0.1111111111111111,
              "#46039f"
             ],
             [
              0.2222222222222222,
              "#7201a8"
             ],
             [
              0.3333333333333333,
              "#9c179e"
             ],
             [
              0.4444444444444444,
              "#bd3786"
             ],
             [
              0.5555555555555556,
              "#d8576b"
             ],
             [
              0.6666666666666666,
              "#ed7953"
             ],
             [
              0.7777777777777778,
              "#fb9f3a"
             ],
             [
              0.8888888888888888,
              "#fdca26"
             ],
             [
              1,
              "#f0f921"
             ]
            ],
            "type": "contour"
           }
          ],
          "contourcarpet": [
           {
            "colorbar": {
             "outlinewidth": 0,
             "ticks": ""
            },
            "type": "contourcarpet"
           }
          ],
          "heatmap": [
           {
            "colorbar": {
             "outlinewidth": 0,
             "ticks": ""
            },
            "colorscale": [
             [
              0,
              "#0d0887"
             ],
             [
              0.1111111111111111,
              "#46039f"
             ],
             [
              0.2222222222222222,
              "#7201a8"
             ],
             [
              0.3333333333333333,
              "#9c179e"
             ],
             [
              0.4444444444444444,
              "#bd3786"
             ],
             [
              0.5555555555555556,
              "#d8576b"
             ],
             [
              0.6666666666666666,
              "#ed7953"
             ],
             [
              0.7777777777777778,
              "#fb9f3a"
             ],
             [
              0.8888888888888888,
              "#fdca26"
             ],
             [
              1,
              "#f0f921"
             ]
            ],
            "type": "heatmap"
           }
          ],
          "heatmapgl": [
           {
            "colorbar": {
             "outlinewidth": 0,
             "ticks": ""
            },
            "colorscale": [
             [
              0,
              "#0d0887"
             ],
             [
              0.1111111111111111,
              "#46039f"
             ],
             [
              0.2222222222222222,
              "#7201a8"
             ],
             [
              0.3333333333333333,
              "#9c179e"
             ],
             [
              0.4444444444444444,
              "#bd3786"
             ],
             [
              0.5555555555555556,
              "#d8576b"
             ],
             [
              0.6666666666666666,
              "#ed7953"
             ],
             [
              0.7777777777777778,
              "#fb9f3a"
             ],
             [
              0.8888888888888888,
              "#fdca26"
             ],
             [
              1,
              "#f0f921"
             ]
            ],
            "type": "heatmapgl"
           }
          ],
          "histogram": [
           {
            "marker": {
             "colorbar": {
              "outlinewidth": 0,
              "ticks": ""
             }
            },
            "type": "histogram"
           }
          ],
          "histogram2d": [
           {
            "colorbar": {
             "outlinewidth": 0,
             "ticks": ""
            },
            "colorscale": [
             [
              0,
              "#0d0887"
             ],
             [
              0.1111111111111111,
              "#46039f"
             ],
             [
              0.2222222222222222,
              "#7201a8"
             ],
             [
              0.3333333333333333,
              "#9c179e"
             ],
             [
              0.4444444444444444,
              "#bd3786"
             ],
             [
              0.5555555555555556,
              "#d8576b"
             ],
             [
              0.6666666666666666,
              "#ed7953"
             ],
             [
              0.7777777777777778,
              "#fb9f3a"
             ],
             [
              0.8888888888888888,
              "#fdca26"
             ],
             [
              1,
              "#f0f921"
             ]
            ],
            "type": "histogram2d"
           }
          ],
          "histogram2dcontour": [
           {
            "colorbar": {
             "outlinewidth": 0,
             "ticks": ""
            },
            "colorscale": [
             [
              0,
              "#0d0887"
             ],
             [
              0.1111111111111111,
              "#46039f"
             ],
             [
              0.2222222222222222,
              "#7201a8"
             ],
             [
              0.3333333333333333,
              "#9c179e"
             ],
             [
              0.4444444444444444,
              "#bd3786"
             ],
             [
              0.5555555555555556,
              "#d8576b"
             ],
             [
              0.6666666666666666,
              "#ed7953"
             ],
             [
              0.7777777777777778,
              "#fb9f3a"
             ],
             [
              0.8888888888888888,
              "#fdca26"
             ],
             [
              1,
              "#f0f921"
             ]
            ],
            "type": "histogram2dcontour"
           }
          ],
          "mesh3d": [
           {
            "colorbar": {
             "outlinewidth": 0,
             "ticks": ""
            },
            "type": "mesh3d"
           }
          ],
          "parcoords": [
           {
            "line": {
             "colorbar": {
              "outlinewidth": 0,
              "ticks": ""
             }
            },
            "type": "parcoords"
           }
          ],
          "scatter": [
           {
            "marker": {
             "colorbar": {
              "outlinewidth": 0,
              "ticks": ""
             }
            },
            "type": "scatter"
           }
          ],
          "scatter3d": [
           {
            "line": {
             "colorbar": {
              "outlinewidth": 0,
              "ticks": ""
             }
            },
            "marker": {
             "colorbar": {
              "outlinewidth": 0,
              "ticks": ""
             }
            },
            "type": "scatter3d"
           }
          ],
          "scattercarpet": [
           {
            "marker": {
             "colorbar": {
              "outlinewidth": 0,
              "ticks": ""
             }
            },
            "type": "scattercarpet"
           }
          ],
          "scattergeo": [
           {
            "marker": {
             "colorbar": {
              "outlinewidth": 0,
              "ticks": ""
             }
            },
            "type": "scattergeo"
           }
          ],
          "scattergl": [
           {
            "marker": {
             "colorbar": {
              "outlinewidth": 0,
              "ticks": ""
             }
            },
            "type": "scattergl"
           }
          ],
          "scattermapbox": [
           {
            "marker": {
             "colorbar": {
              "outlinewidth": 0,
              "ticks": ""
             }
            },
            "type": "scattermapbox"
           }
          ],
          "scatterpolar": [
           {
            "marker": {
             "colorbar": {
              "outlinewidth": 0,
              "ticks": ""
             }
            },
            "type": "scatterpolar"
           }
          ],
          "scatterpolargl": [
           {
            "marker": {
             "colorbar": {
              "outlinewidth": 0,
              "ticks": ""
             }
            },
            "type": "scatterpolargl"
           }
          ],
          "scatterternary": [
           {
            "marker": {
             "colorbar": {
              "outlinewidth": 0,
              "ticks": ""
             }
            },
            "type": "scatterternary"
           }
          ],
          "surface": [
           {
            "colorbar": {
             "outlinewidth": 0,
             "ticks": ""
            },
            "colorscale": [
             [
              0,
              "#0d0887"
             ],
             [
              0.1111111111111111,
              "#46039f"
             ],
             [
              0.2222222222222222,
              "#7201a8"
             ],
             [
              0.3333333333333333,
              "#9c179e"
             ],
             [
              0.4444444444444444,
              "#bd3786"
             ],
             [
              0.5555555555555556,
              "#d8576b"
             ],
             [
              0.6666666666666666,
              "#ed7953"
             ],
             [
              0.7777777777777778,
              "#fb9f3a"
             ],
             [
              0.8888888888888888,
              "#fdca26"
             ],
             [
              1,
              "#f0f921"
             ]
            ],
            "type": "surface"
           }
          ],
          "table": [
           {
            "cells": {
             "fill": {
              "color": "#EBF0F8"
             },
             "line": {
              "color": "white"
             }
            },
            "header": {
             "fill": {
              "color": "#C8D4E3"
             },
             "line": {
              "color": "white"
             }
            },
            "type": "table"
           }
          ]
         },
         "layout": {
          "annotationdefaults": {
           "arrowcolor": "#2a3f5f",
           "arrowhead": 0,
           "arrowwidth": 1
          },
          "colorscale": {
           "diverging": [
            [
             0,
             "#8e0152"
            ],
            [
             0.1,
             "#c51b7d"
            ],
            [
             0.2,
             "#de77ae"
            ],
            [
             0.3,
             "#f1b6da"
            ],
            [
             0.4,
             "#fde0ef"
            ],
            [
             0.5,
             "#f7f7f7"
            ],
            [
             0.6,
             "#e6f5d0"
            ],
            [
             0.7,
             "#b8e186"
            ],
            [
             0.8,
             "#7fbc41"
            ],
            [
             0.9,
             "#4d9221"
            ],
            [
             1,
             "#276419"
            ]
           ],
           "sequential": [
            [
             0,
             "#0d0887"
            ],
            [
             0.1111111111111111,
             "#46039f"
            ],
            [
             0.2222222222222222,
             "#7201a8"
            ],
            [
             0.3333333333333333,
             "#9c179e"
            ],
            [
             0.4444444444444444,
             "#bd3786"
            ],
            [
             0.5555555555555556,
             "#d8576b"
            ],
            [
             0.6666666666666666,
             "#ed7953"
            ],
            [
             0.7777777777777778,
             "#fb9f3a"
            ],
            [
             0.8888888888888888,
             "#fdca26"
            ],
            [
             1,
             "#f0f921"
            ]
           ],
           "sequentialminus": [
            [
             0,
             "#0d0887"
            ],
            [
             0.1111111111111111,
             "#46039f"
            ],
            [
             0.2222222222222222,
             "#7201a8"
            ],
            [
             0.3333333333333333,
             "#9c179e"
            ],
            [
             0.4444444444444444,
             "#bd3786"
            ],
            [
             0.5555555555555556,
             "#d8576b"
            ],
            [
             0.6666666666666666,
             "#ed7953"
            ],
            [
             0.7777777777777778,
             "#fb9f3a"
            ],
            [
             0.8888888888888888,
             "#fdca26"
            ],
            [
             1,
             "#f0f921"
            ]
           ]
          },
          "colorway": [
           "#636efa",
           "#EF553B",
           "#00cc96",
           "#ab63fa",
           "#FFA15A",
           "#19d3f3",
           "#FF6692",
           "#B6E880",
           "#FF97FF",
           "#FECB52"
          ],
          "font": {
           "color": "#2a3f5f"
          },
          "geo": {
           "bgcolor": "white",
           "lakecolor": "white",
           "landcolor": "#E5ECF6",
           "showlakes": true,
           "showland": true,
           "subunitcolor": "white"
          },
          "hoverlabel": {
           "align": "left"
          },
          "hovermode": "closest",
          "mapbox": {
           "style": "light"
          },
          "paper_bgcolor": "white",
          "plot_bgcolor": "#E5ECF6",
          "polar": {
           "angularaxis": {
            "gridcolor": "white",
            "linecolor": "white",
            "ticks": ""
           },
           "bgcolor": "#E5ECF6",
           "radialaxis": {
            "gridcolor": "white",
            "linecolor": "white",
            "ticks": ""
           }
          },
          "scene": {
           "xaxis": {
            "backgroundcolor": "#E5ECF6",
            "gridcolor": "white",
            "gridwidth": 2,
            "linecolor": "white",
            "showbackground": true,
            "ticks": "",
            "zerolinecolor": "white"
           },
           "yaxis": {
            "backgroundcolor": "#E5ECF6",
            "gridcolor": "white",
            "gridwidth": 2,
            "linecolor": "white",
            "showbackground": true,
            "ticks": "",
            "zerolinecolor": "white"
           },
           "zaxis": {
            "backgroundcolor": "#E5ECF6",
            "gridcolor": "white",
            "gridwidth": 2,
            "linecolor": "white",
            "showbackground": true,
            "ticks": "",
            "zerolinecolor": "white"
           }
          },
          "shapedefaults": {
           "line": {
            "color": "#2a3f5f"
           }
          },
          "ternary": {
           "aaxis": {
            "gridcolor": "white",
            "linecolor": "white",
            "ticks": ""
           },
           "baxis": {
            "gridcolor": "white",
            "linecolor": "white",
            "ticks": ""
           },
           "bgcolor": "#E5ECF6",
           "caxis": {
            "gridcolor": "white",
            "linecolor": "white",
            "ticks": ""
           }
          },
          "title": {
           "x": 0.05
          },
          "xaxis": {
           "automargin": true,
           "gridcolor": "white",
           "linecolor": "white",
           "ticks": "",
           "zerolinecolor": "white",
           "zerolinewidth": 2
          },
          "yaxis": {
           "automargin": true,
           "gridcolor": "white",
           "linecolor": "white",
           "ticks": "",
           "zerolinecolor": "white",
           "zerolinewidth": 2
          }
         }
        },
        "title": {
         "text": "Gross Profit VS. Release date"
        },
        "xaxis": {
         "anchor": "y",
         "domain": [
          0,
          0.98
         ],
         "title": {
          "text": "release_date"
         }
        },
        "yaxis": {
         "anchor": "x",
         "domain": [
          0,
          1
         ],
         "title": {
          "text": "count of gross_profit"
         }
        }
       }
      },
      "text/html": [
       "<div>\n",
       "        \n",
       "        \n",
       "            <div id=\"1bd741ce-bdaf-401d-ab34-7563b9312c22\" class=\"plotly-graph-div\" style=\"height:600px; width:100%;\"></div>\n",
       "            <script type=\"text/javascript\">\n",
       "                require([\"plotly\"], function(Plotly) {\n",
       "                    window.PLOTLYENV=window.PLOTLYENV || {};\n",
       "                    \n",
       "                if (document.getElementById(\"1bd741ce-bdaf-401d-ab34-7563b9312c22\")) {\n",
       "                    Plotly.newPlot(\n",
       "                        '1bd741ce-bdaf-401d-ab34-7563b9312c22',\n",
       "                        [{\"alignmentgroup\": \"True\", \"bingroup\": \"x\", \"hoverlabel\": {\"namelength\": 0}, \"hovertemplate\": \"release_date=%{x}<br>count of gross_profit=%{y}\", \"legendgroup\": \"\", \"marker\": {\"color\": \"#636efa\"}, \"name\": \"\", \"nbinsx\": 52, \"offsetgroup\": \"\", \"orientation\": \"v\", \"showlegend\": false, \"type\": \"histogram\", \"x\": [\"2019-04-24\", \"2019-07-12\", \"2019-11-20\", \"2019-06-28\", \"2019-03-06\", \"2019-10-02\", \"2019-12-18\", \"2019-06-19\", \"2019-05-22\", \"2019-12-04\", \"2019-08-01\", \"2019-07-26\", \"2019-01-03\", \"2019-04-12\", \"2019-10-16\", \"2019-09-04\", \"2019-05-03\", \"2019-01-31\", \"2019-05-29\", \"2019-12-25\", \"2019-07-24\", \"2019-03-29\", \"2019-05-15\", \"2019-11-27\", \"2019-10-23\", \"2019-05-30\", \"2019-03-14\", \"2019-06-12\", \"2019-06-05\", \"2019-01-16\", \"2019-06-26\", \"2019-11-13\", \"2019-03-27\", \"2019-10-10\", \"2019-09-12\", \"2019-12-25\", \"2019-01-26\", \"2019-07-19\", \"2019-10-02\", \"2019-12-04\", \"2019-05-22\", \"2019-09-12\", \"2019-01-03\", \"2019-05-24\", \"2019-08-21\", \"2019-09-17\", \"2019-08-02\", \"2019-11-06\", \"2019-01-23\", \"2019-10-09\", \"2019-04-17\", \"2019-11-07\", \"2019-03-14\", \"2019-08-08\", \"2019-04-12\", \"2019-04-12\", \"2019-04-04\", \"2019-09-19\", \"2019-01-10\", \"2019-08-08\", \"2019-09-19\", \"2019-07-11\", \"2019-06-27\", \"2019-10-18\", \"2019-01-30\", \"2019-12-19\", \"2019-11-14\", \"2019-08-14\", \"2019-10-30\", \"2019-02-08\", \"2019-04-11\", \"2019-07-31\", \"2019-09-07\", \"2019-01-11\", \"2019-10-02\", \"2019-03-22\", \"2019-02-07\", \"2019-08-21\", \"2019-06-20\", \"2019-08-29\", \"2019-05-02\", \"2019-12-13\", \"2019-05-29\", \"2019-12-25\", \"2019-08-30\", \"2019-10-24\", \"2019-07-03\", \"2019-10-24\", \"2019-11-27\", \"2019-03-01\", \"2019-06-19\", \"2019-04-10\", \"2019-11-08\", \"2019-09-26\", \"2019-12-26\", \"2019-02-14\", \"2019-09-27\", \"2019-02-13\", \"2019-05-09\", \"2019-02-14\"], \"xaxis\": \"x\", \"y\": [2441800564, 1396943394, 1300026933, 971927996, 976276090, 1019251311, 824144248, 898394593, 864612394, 671575993, 560098996, 686067000, 388526875, 500000000, 306570967, 394093228, 283005346, 234852543, 216600138, 274733942, 279251247, 283533271, 271709727, 269232797, 76119292, 246228776, 235105930, 142608480, 52442974, 226941965, 201252591, 127908210, 45832199, 163044905, 172094429, 151540586, 90514361, 186965409, 35469516, 71616764, 127323950, 137600000, 146313078, 75152550, 106661977, 45307427, 66359052, 25641396, 116532206, 80801777, 113033739, 91550750, 19559110, 67826172, 115570314, 115570314, 91399944, 36615070, 73853135, 70438172, 41490353, 75703432, 62092097, 68468705, 74769845, -21484976, 25279888, 52457330, 27281712, 49766483, 55497587, 57433551, 63760877, 54989107, 38351597, 50735335, -786069, 51615777, 46727164, 4000000, 13847136, 21774397, 46749995, 25401502, 31020902, 41521766, 38862188, 14088457, 26597100, 46115383, 34902237, -5335310, 14500000, 42880428, 37273021, 28055536, 38981322, 36120360, 22000000, 28191411], \"yaxis\": \"y\"}],\n",
       "                        {\"barmode\": \"relative\", \"height\": 600, \"legend\": {\"tracegroupgap\": 0}, \"template\": {\"data\": {\"bar\": [{\"error_x\": {\"color\": \"#2a3f5f\"}, \"error_y\": {\"color\": \"#2a3f5f\"}, \"marker\": {\"line\": {\"color\": \"#E5ECF6\", \"width\": 0.5}}, \"type\": \"bar\"}], \"barpolar\": [{\"marker\": {\"line\": {\"color\": \"#E5ECF6\", \"width\": 0.5}}, \"type\": \"barpolar\"}], \"carpet\": [{\"aaxis\": {\"endlinecolor\": \"#2a3f5f\", \"gridcolor\": \"white\", \"linecolor\": \"white\", \"minorgridcolor\": \"white\", \"startlinecolor\": \"#2a3f5f\"}, \"baxis\": {\"endlinecolor\": \"#2a3f5f\", \"gridcolor\": \"white\", \"linecolor\": \"white\", \"minorgridcolor\": \"white\", \"startlinecolor\": \"#2a3f5f\"}, \"type\": \"carpet\"}], \"choropleth\": [{\"colorbar\": {\"outlinewidth\": 0, \"ticks\": \"\"}, \"type\": \"choropleth\"}], \"contour\": [{\"colorbar\": {\"outlinewidth\": 0, \"ticks\": \"\"}, \"colorscale\": [[0.0, \"#0d0887\"], [0.1111111111111111, \"#46039f\"], [0.2222222222222222, \"#7201a8\"], [0.3333333333333333, \"#9c179e\"], [0.4444444444444444, \"#bd3786\"], [0.5555555555555556, \"#d8576b\"], [0.6666666666666666, \"#ed7953\"], [0.7777777777777778, \"#fb9f3a\"], [0.8888888888888888, \"#fdca26\"], [1.0, \"#f0f921\"]], \"type\": \"contour\"}], \"contourcarpet\": [{\"colorbar\": {\"outlinewidth\": 0, \"ticks\": \"\"}, \"type\": \"contourcarpet\"}], \"heatmap\": [{\"colorbar\": {\"outlinewidth\": 0, \"ticks\": \"\"}, \"colorscale\": [[0.0, \"#0d0887\"], [0.1111111111111111, \"#46039f\"], [0.2222222222222222, \"#7201a8\"], [0.3333333333333333, \"#9c179e\"], [0.4444444444444444, \"#bd3786\"], [0.5555555555555556, \"#d8576b\"], [0.6666666666666666, \"#ed7953\"], [0.7777777777777778, \"#fb9f3a\"], [0.8888888888888888, \"#fdca26\"], [1.0, \"#f0f921\"]], \"type\": \"heatmap\"}], \"heatmapgl\": [{\"colorbar\": {\"outlinewidth\": 0, \"ticks\": \"\"}, \"colorscale\": [[0.0, \"#0d0887\"], [0.1111111111111111, \"#46039f\"], [0.2222222222222222, \"#7201a8\"], [0.3333333333333333, \"#9c179e\"], [0.4444444444444444, \"#bd3786\"], [0.5555555555555556, \"#d8576b\"], [0.6666666666666666, \"#ed7953\"], [0.7777777777777778, \"#fb9f3a\"], [0.8888888888888888, \"#fdca26\"], [1.0, \"#f0f921\"]], \"type\": \"heatmapgl\"}], \"histogram\": [{\"marker\": {\"colorbar\": {\"outlinewidth\": 0, \"ticks\": \"\"}}, \"type\": \"histogram\"}], \"histogram2d\": [{\"colorbar\": {\"outlinewidth\": 0, \"ticks\": \"\"}, \"colorscale\": [[0.0, \"#0d0887\"], [0.1111111111111111, \"#46039f\"], [0.2222222222222222, \"#7201a8\"], [0.3333333333333333, \"#9c179e\"], [0.4444444444444444, \"#bd3786\"], [0.5555555555555556, \"#d8576b\"], [0.6666666666666666, \"#ed7953\"], [0.7777777777777778, \"#fb9f3a\"], [0.8888888888888888, \"#fdca26\"], [1.0, \"#f0f921\"]], \"type\": \"histogram2d\"}], \"histogram2dcontour\": [{\"colorbar\": {\"outlinewidth\": 0, \"ticks\": \"\"}, \"colorscale\": [[0.0, \"#0d0887\"], [0.1111111111111111, \"#46039f\"], [0.2222222222222222, \"#7201a8\"], [0.3333333333333333, \"#9c179e\"], [0.4444444444444444, \"#bd3786\"], [0.5555555555555556, \"#d8576b\"], [0.6666666666666666, \"#ed7953\"], [0.7777777777777778, \"#fb9f3a\"], [0.8888888888888888, \"#fdca26\"], [1.0, \"#f0f921\"]], \"type\": \"histogram2dcontour\"}], \"mesh3d\": [{\"colorbar\": {\"outlinewidth\": 0, \"ticks\": \"\"}, \"type\": \"mesh3d\"}], \"parcoords\": [{\"line\": {\"colorbar\": {\"outlinewidth\": 0, \"ticks\": \"\"}}, \"type\": \"parcoords\"}], \"scatter\": [{\"marker\": {\"colorbar\": {\"outlinewidth\": 0, \"ticks\": \"\"}}, \"type\": \"scatter\"}], \"scatter3d\": [{\"line\": {\"colorbar\": {\"outlinewidth\": 0, \"ticks\": \"\"}}, \"marker\": {\"colorbar\": {\"outlinewidth\": 0, \"ticks\": \"\"}}, \"type\": \"scatter3d\"}], \"scattercarpet\": [{\"marker\": {\"colorbar\": {\"outlinewidth\": 0, \"ticks\": \"\"}}, \"type\": \"scattercarpet\"}], \"scattergeo\": [{\"marker\": {\"colorbar\": {\"outlinewidth\": 0, \"ticks\": \"\"}}, \"type\": \"scattergeo\"}], \"scattergl\": [{\"marker\": {\"colorbar\": {\"outlinewidth\": 0, \"ticks\": \"\"}}, \"type\": \"scattergl\"}], \"scattermapbox\": [{\"marker\": {\"colorbar\": {\"outlinewidth\": 0, \"ticks\": \"\"}}, \"type\": \"scattermapbox\"}], \"scatterpolar\": [{\"marker\": {\"colorbar\": {\"outlinewidth\": 0, \"ticks\": \"\"}}, \"type\": \"scatterpolar\"}], \"scatterpolargl\": [{\"marker\": {\"colorbar\": {\"outlinewidth\": 0, \"ticks\": \"\"}}, \"type\": \"scatterpolargl\"}], \"scatterternary\": [{\"marker\": {\"colorbar\": {\"outlinewidth\": 0, \"ticks\": \"\"}}, \"type\": \"scatterternary\"}], \"surface\": [{\"colorbar\": {\"outlinewidth\": 0, \"ticks\": \"\"}, \"colorscale\": [[0.0, \"#0d0887\"], [0.1111111111111111, \"#46039f\"], [0.2222222222222222, \"#7201a8\"], [0.3333333333333333, \"#9c179e\"], [0.4444444444444444, \"#bd3786\"], [0.5555555555555556, \"#d8576b\"], [0.6666666666666666, \"#ed7953\"], [0.7777777777777778, \"#fb9f3a\"], [0.8888888888888888, \"#fdca26\"], [1.0, \"#f0f921\"]], \"type\": \"surface\"}], \"table\": [{\"cells\": {\"fill\": {\"color\": \"#EBF0F8\"}, \"line\": {\"color\": \"white\"}}, \"header\": {\"fill\": {\"color\": \"#C8D4E3\"}, \"line\": {\"color\": \"white\"}}, \"type\": \"table\"}]}, \"layout\": {\"annotationdefaults\": {\"arrowcolor\": \"#2a3f5f\", \"arrowhead\": 0, \"arrowwidth\": 1}, \"colorscale\": {\"diverging\": [[0, \"#8e0152\"], [0.1, \"#c51b7d\"], [0.2, \"#de77ae\"], [0.3, \"#f1b6da\"], [0.4, \"#fde0ef\"], [0.5, \"#f7f7f7\"], [0.6, \"#e6f5d0\"], [0.7, \"#b8e186\"], [0.8, \"#7fbc41\"], [0.9, \"#4d9221\"], [1, \"#276419\"]], \"sequential\": [[0.0, \"#0d0887\"], [0.1111111111111111, \"#46039f\"], [0.2222222222222222, \"#7201a8\"], [0.3333333333333333, \"#9c179e\"], [0.4444444444444444, \"#bd3786\"], [0.5555555555555556, \"#d8576b\"], [0.6666666666666666, \"#ed7953\"], [0.7777777777777778, \"#fb9f3a\"], [0.8888888888888888, \"#fdca26\"], [1.0, \"#f0f921\"]], \"sequentialminus\": [[0.0, \"#0d0887\"], [0.1111111111111111, \"#46039f\"], [0.2222222222222222, \"#7201a8\"], [0.3333333333333333, \"#9c179e\"], [0.4444444444444444, \"#bd3786\"], [0.5555555555555556, \"#d8576b\"], [0.6666666666666666, \"#ed7953\"], [0.7777777777777778, \"#fb9f3a\"], [0.8888888888888888, \"#fdca26\"], [1.0, \"#f0f921\"]]}, \"colorway\": [\"#636efa\", \"#EF553B\", \"#00cc96\", \"#ab63fa\", \"#FFA15A\", \"#19d3f3\", \"#FF6692\", \"#B6E880\", \"#FF97FF\", \"#FECB52\"], \"font\": {\"color\": \"#2a3f5f\"}, \"geo\": {\"bgcolor\": \"white\", \"lakecolor\": \"white\", \"landcolor\": \"#E5ECF6\", \"showlakes\": true, \"showland\": true, \"subunitcolor\": \"white\"}, \"hoverlabel\": {\"align\": \"left\"}, \"hovermode\": \"closest\", \"mapbox\": {\"style\": \"light\"}, \"paper_bgcolor\": \"white\", \"plot_bgcolor\": \"#E5ECF6\", \"polar\": {\"angularaxis\": {\"gridcolor\": \"white\", \"linecolor\": \"white\", \"ticks\": \"\"}, \"bgcolor\": \"#E5ECF6\", \"radialaxis\": {\"gridcolor\": \"white\", \"linecolor\": \"white\", \"ticks\": \"\"}}, \"scene\": {\"xaxis\": {\"backgroundcolor\": \"#E5ECF6\", \"gridcolor\": \"white\", \"gridwidth\": 2, \"linecolor\": \"white\", \"showbackground\": true, \"ticks\": \"\", \"zerolinecolor\": \"white\"}, \"yaxis\": {\"backgroundcolor\": \"#E5ECF6\", \"gridcolor\": \"white\", \"gridwidth\": 2, \"linecolor\": \"white\", \"showbackground\": true, \"ticks\": \"\", \"zerolinecolor\": \"white\"}, \"zaxis\": {\"backgroundcolor\": \"#E5ECF6\", \"gridcolor\": \"white\", \"gridwidth\": 2, \"linecolor\": \"white\", \"showbackground\": true, \"ticks\": \"\", \"zerolinecolor\": \"white\"}}, \"shapedefaults\": {\"line\": {\"color\": \"#2a3f5f\"}}, \"ternary\": {\"aaxis\": {\"gridcolor\": \"white\", \"linecolor\": \"white\", \"ticks\": \"\"}, \"baxis\": {\"gridcolor\": \"white\", \"linecolor\": \"white\", \"ticks\": \"\"}, \"bgcolor\": \"#E5ECF6\", \"caxis\": {\"gridcolor\": \"white\", \"linecolor\": \"white\", \"ticks\": \"\"}}, \"title\": {\"x\": 0.05}, \"xaxis\": {\"automargin\": true, \"gridcolor\": \"white\", \"linecolor\": \"white\", \"ticks\": \"\", \"zerolinecolor\": \"white\", \"zerolinewidth\": 2}, \"yaxis\": {\"automargin\": true, \"gridcolor\": \"white\", \"linecolor\": \"white\", \"ticks\": \"\", \"zerolinecolor\": \"white\", \"zerolinewidth\": 2}}}, \"title\": {\"text\": \"Gross Profit VS. Release date\"}, \"xaxis\": {\"anchor\": \"y\", \"domain\": [0.0, 0.98], \"title\": {\"text\": \"release_date\"}}, \"yaxis\": {\"anchor\": \"x\", \"domain\": [0.0, 1.0], \"title\": {\"text\": \"count of gross_profit\"}}},\n",
       "                        {\"responsive\": true}\n",
       "                    ).then(function(){\n",
       "                            \n",
       "var gd = document.getElementById('1bd741ce-bdaf-401d-ab34-7563b9312c22');\n",
       "var x = new MutationObserver(function (mutations, observer) {{\n",
       "        var display = window.getComputedStyle(gd).display;\n",
       "        if (!display || display === 'none') {{\n",
       "            console.log([gd, 'removed!']);\n",
       "            Plotly.purge(gd);\n",
       "            observer.disconnect();\n",
       "        }}\n",
       "}});\n",
       "\n",
       "// Listen for the removal of the full notebook cells\n",
       "var notebookContainer = gd.closest('#notebook-container');\n",
       "if (notebookContainer) {{\n",
       "    x.observe(notebookContainer, {childList: true});\n",
       "}}\n",
       "\n",
       "// Listen for the clearing of the current output cell\n",
       "var outputEl = gd.closest('.output');\n",
       "if (outputEl) {{\n",
       "    x.observe(outputEl, {childList: true});\n",
       "}}\n",
       "\n",
       "                        })\n",
       "                };\n",
       "                });\n",
       "            </script>\n",
       "        </div>"
      ]
     },
     "metadata": {},
     "output_type": "display_data"
    }
   ],
   "source": [
    "fig = px.histogram(df3, x=\"release_date\", y=\"gross_profit\", nbins=52, title='Gross Profit VS. Release date')\n",
    "fig.show()"
   ]
  },
  {
   "cell_type": "code",
   "execution_count": 176,
   "metadata": {},
   "outputs": [
    {
     "data": {
      "application/vnd.plotly.v1+json": {
       "config": {
        "plotlyServerURL": "https://plot.ly"
       },
       "data": [
        {
         "alignmentgroup": "True",
         "hoverlabel": {
          "namelength": 0
         },
         "hovertemplate": "revenue=%{x}<br>release_date=%{y}<br>gross_profit=%{marker.color}",
         "legendgroup": "",
         "marker": {
          "color": [
           2441800564,
           1396943394,
           1300026933,
           971927996,
           976276090,
           1019251311,
           824144248,
           898394593,
           864612394,
           671575993,
           560098996,
           686067000,
           388526875,
           500000000,
           306570967,
           394093228,
           283005346,
           234852543,
           216600138,
           274733942,
           279251247,
           283533271,
           271709727,
           269232797,
           76119292,
           246228776,
           235105930,
           142608480,
           52442974,
           226941965,
           201252591,
           127908210,
           45832199,
           163044905,
           172094429,
           151540586,
           90514361,
           186965409,
           35469516,
           71616764,
           127323950,
           137600000,
           146313078,
           75152550,
           106661977,
           45307427,
           66359052,
           25641396,
           116532206,
           80801777,
           113033739,
           91550750,
           19559110,
           67826172,
           115570314,
           115570314,
           91399944,
           36615070,
           73853135,
           70438172,
           41490353,
           75703432,
           62092097,
           68468705,
           74769845,
           -21484976,
           25279888,
           52457330,
           27281712,
           49766483,
           55497587,
           57433551,
           63760877,
           54989107,
           38351597,
           50735335,
           -786069,
           51615777,
           46727164,
           4000000,
           13847136,
           21774397,
           46749995,
           25401502,
           31020902,
           41521766,
           38862188,
           14088457,
           26597100,
           46115383,
           34902237,
           -5335310,
           14500000,
           42880428,
           37273021,
           28055536,
           38981322,
           36120360,
           22000000,
           28191411
          ],
          "coloraxis": "coloraxis"
         },
         "name": "",
         "offsetgroup": "",
         "orientation": "h",
         "showlegend": false,
         "textposition": "auto",
         "type": "bar",
         "x": [
          2797800564,
          1656943394,
          1450026933,
          1131927996,
          1128276090,
          1074251311,
          1074144248,
          1073394593,
          1047612394,
          796575993,
          760098996,
          686067000,
          517526875,
          500000000,
          491570967,
          473093228,
          433005346,
          404852543,
          386600138,
          374733942,
          374251247,
          363533271,
          326709727,
          309232797,
          261119292,
          257591776,
          255105930,
          252608480,
          252442974,
          246941965,
          231252591,
          225508210,
          215832199,
          203044905,
          192094429,
          191540586,
          190514361,
          186965409,
          173469516,
          171616764,
          167323950,
          157600000,
          155313078,
          155152550,
          146661977,
          132807427,
          131359052,
          125641396,
          124652206,
          122801777,
          122033739,
          121550750,
          119559110,
          116826172,
          115570314,
          115570314,
          112399944,
          111615070,
          111353135,
          95438172,
          91490353,
          89203432,
          88092097,
          82468705,
          74769845,
          73515024,
          73279888,
          72457330,
          72281712,
          69766483,
          69497587,
          68325551,
          67760877,
          66925842,
          66293455,
          62235335,
          59213931,
          57615777,
          55478164,
          55000000,
          53847136,
          53774397,
          51749995,
          50401502,
          50020902,
          48021766,
          47862188,
          47088457,
          46597100,
          46115383,
          44902237,
          44664690,
          44400000,
          42880428,
          39273021,
          39055536,
          38981322,
          36120360,
          34000000,
          33974264
         ],
         "xaxis": "x",
         "y": [
          "2019-04-24",
          "2019-07-12",
          "2019-11-20",
          "2019-06-28",
          "2019-03-06",
          "2019-10-02",
          "2019-12-18",
          "2019-06-19",
          "2019-05-22",
          "2019-12-04",
          "2019-08-01",
          "2019-07-26",
          "2019-01-03",
          "2019-04-12",
          "2019-10-16",
          "2019-09-04",
          "2019-05-03",
          "2019-01-31",
          "2019-05-29",
          "2019-12-25",
          "2019-07-24",
          "2019-03-29",
          "2019-05-15",
          "2019-11-27",
          "2019-10-23",
          "2019-05-30",
          "2019-03-14",
          "2019-06-12",
          "2019-06-05",
          "2019-01-16",
          "2019-06-26",
          "2019-11-13",
          "2019-03-27",
          "2019-10-10",
          "2019-09-12",
          "2019-12-25",
          "2019-01-26",
          "2019-07-19",
          "2019-10-02",
          "2019-12-04",
          "2019-05-22",
          "2019-09-12",
          "2019-01-03",
          "2019-05-24",
          "2019-08-21",
          "2019-09-17",
          "2019-08-02",
          "2019-11-06",
          "2019-01-23",
          "2019-10-09",
          "2019-04-17",
          "2019-11-07",
          "2019-03-14",
          "2019-08-08",
          "2019-04-12",
          "2019-04-12",
          "2019-04-04",
          "2019-09-19",
          "2019-01-10",
          "2019-08-08",
          "2019-09-19",
          "2019-07-11",
          "2019-06-27",
          "2019-10-18",
          "2019-01-30",
          "2019-12-19",
          "2019-11-14",
          "2019-08-14",
          "2019-10-30",
          "2019-02-08",
          "2019-04-11",
          "2019-07-31",
          "2019-09-07",
          "2019-01-11",
          "2019-10-02",
          "2019-03-22",
          "2019-02-07",
          "2019-08-21",
          "2019-06-20",
          "2019-08-29",
          "2019-05-02",
          "2019-12-13",
          "2019-05-29",
          "2019-12-25",
          "2019-08-30",
          "2019-10-24",
          "2019-07-03",
          "2019-10-24",
          "2019-11-27",
          "2019-03-01",
          "2019-06-19",
          "2019-04-10",
          "2019-11-08",
          "2019-09-26",
          "2019-12-26",
          "2019-02-14",
          "2019-09-27",
          "2019-02-13",
          "2019-05-09",
          "2019-02-14"
         ],
         "yaxis": "y"
        }
       ],
       "layout": {
        "barmode": "relative",
        "coloraxis": {
         "colorbar": {
          "title": {
           "text": "gross_profit"
          }
         },
         "colorscale": [
          [
           0,
           "#0d0887"
          ],
          [
           0.1111111111111111,
           "#46039f"
          ],
          [
           0.2222222222222222,
           "#7201a8"
          ],
          [
           0.3333333333333333,
           "#9c179e"
          ],
          [
           0.4444444444444444,
           "#bd3786"
          ],
          [
           0.5555555555555556,
           "#d8576b"
          ],
          [
           0.6666666666666666,
           "#ed7953"
          ],
          [
           0.7777777777777778,
           "#fb9f3a"
          ],
          [
           0.8888888888888888,
           "#fdca26"
          ],
          [
           1,
           "#f0f921"
          ]
         ]
        },
        "height": 1000,
        "legend": {
         "tracegroupgap": 0
        },
        "template": {
         "data": {
          "bar": [
           {
            "error_x": {
             "color": "#2a3f5f"
            },
            "error_y": {
             "color": "#2a3f5f"
            },
            "marker": {
             "line": {
              "color": "#E5ECF6",
              "width": 0.5
             }
            },
            "type": "bar"
           }
          ],
          "barpolar": [
           {
            "marker": {
             "line": {
              "color": "#E5ECF6",
              "width": 0.5
             }
            },
            "type": "barpolar"
           }
          ],
          "carpet": [
           {
            "aaxis": {
             "endlinecolor": "#2a3f5f",
             "gridcolor": "white",
             "linecolor": "white",
             "minorgridcolor": "white",
             "startlinecolor": "#2a3f5f"
            },
            "baxis": {
             "endlinecolor": "#2a3f5f",
             "gridcolor": "white",
             "linecolor": "white",
             "minorgridcolor": "white",
             "startlinecolor": "#2a3f5f"
            },
            "type": "carpet"
           }
          ],
          "choropleth": [
           {
            "colorbar": {
             "outlinewidth": 0,
             "ticks": ""
            },
            "type": "choropleth"
           }
          ],
          "contour": [
           {
            "colorbar": {
             "outlinewidth": 0,
             "ticks": ""
            },
            "colorscale": [
             [
              0,
              "#0d0887"
             ],
             [
              0.1111111111111111,
              "#46039f"
             ],
             [
              0.2222222222222222,
              "#7201a8"
             ],
             [
              0.3333333333333333,
              "#9c179e"
             ],
             [
              0.4444444444444444,
              "#bd3786"
             ],
             [
              0.5555555555555556,
              "#d8576b"
             ],
             [
              0.6666666666666666,
              "#ed7953"
             ],
             [
              0.7777777777777778,
              "#fb9f3a"
             ],
             [
              0.8888888888888888,
              "#fdca26"
             ],
             [
              1,
              "#f0f921"
             ]
            ],
            "type": "contour"
           }
          ],
          "contourcarpet": [
           {
            "colorbar": {
             "outlinewidth": 0,
             "ticks": ""
            },
            "type": "contourcarpet"
           }
          ],
          "heatmap": [
           {
            "colorbar": {
             "outlinewidth": 0,
             "ticks": ""
            },
            "colorscale": [
             [
              0,
              "#0d0887"
             ],
             [
              0.1111111111111111,
              "#46039f"
             ],
             [
              0.2222222222222222,
              "#7201a8"
             ],
             [
              0.3333333333333333,
              "#9c179e"
             ],
             [
              0.4444444444444444,
              "#bd3786"
             ],
             [
              0.5555555555555556,
              "#d8576b"
             ],
             [
              0.6666666666666666,
              "#ed7953"
             ],
             [
              0.7777777777777778,
              "#fb9f3a"
             ],
             [
              0.8888888888888888,
              "#fdca26"
             ],
             [
              1,
              "#f0f921"
             ]
            ],
            "type": "heatmap"
           }
          ],
          "heatmapgl": [
           {
            "colorbar": {
             "outlinewidth": 0,
             "ticks": ""
            },
            "colorscale": [
             [
              0,
              "#0d0887"
             ],
             [
              0.1111111111111111,
              "#46039f"
             ],
             [
              0.2222222222222222,
              "#7201a8"
             ],
             [
              0.3333333333333333,
              "#9c179e"
             ],
             [
              0.4444444444444444,
              "#bd3786"
             ],
             [
              0.5555555555555556,
              "#d8576b"
             ],
             [
              0.6666666666666666,
              "#ed7953"
             ],
             [
              0.7777777777777778,
              "#fb9f3a"
             ],
             [
              0.8888888888888888,
              "#fdca26"
             ],
             [
              1,
              "#f0f921"
             ]
            ],
            "type": "heatmapgl"
           }
          ],
          "histogram": [
           {
            "marker": {
             "colorbar": {
              "outlinewidth": 0,
              "ticks": ""
             }
            },
            "type": "histogram"
           }
          ],
          "histogram2d": [
           {
            "colorbar": {
             "outlinewidth": 0,
             "ticks": ""
            },
            "colorscale": [
             [
              0,
              "#0d0887"
             ],
             [
              0.1111111111111111,
              "#46039f"
             ],
             [
              0.2222222222222222,
              "#7201a8"
             ],
             [
              0.3333333333333333,
              "#9c179e"
             ],
             [
              0.4444444444444444,
              "#bd3786"
             ],
             [
              0.5555555555555556,
              "#d8576b"
             ],
             [
              0.6666666666666666,
              "#ed7953"
             ],
             [
              0.7777777777777778,
              "#fb9f3a"
             ],
             [
              0.8888888888888888,
              "#fdca26"
             ],
             [
              1,
              "#f0f921"
             ]
            ],
            "type": "histogram2d"
           }
          ],
          "histogram2dcontour": [
           {
            "colorbar": {
             "outlinewidth": 0,
             "ticks": ""
            },
            "colorscale": [
             [
              0,
              "#0d0887"
             ],
             [
              0.1111111111111111,
              "#46039f"
             ],
             [
              0.2222222222222222,
              "#7201a8"
             ],
             [
              0.3333333333333333,
              "#9c179e"
             ],
             [
              0.4444444444444444,
              "#bd3786"
             ],
             [
              0.5555555555555556,
              "#d8576b"
             ],
             [
              0.6666666666666666,
              "#ed7953"
             ],
             [
              0.7777777777777778,
              "#fb9f3a"
             ],
             [
              0.8888888888888888,
              "#fdca26"
             ],
             [
              1,
              "#f0f921"
             ]
            ],
            "type": "histogram2dcontour"
           }
          ],
          "mesh3d": [
           {
            "colorbar": {
             "outlinewidth": 0,
             "ticks": ""
            },
            "type": "mesh3d"
           }
          ],
          "parcoords": [
           {
            "line": {
             "colorbar": {
              "outlinewidth": 0,
              "ticks": ""
             }
            },
            "type": "parcoords"
           }
          ],
          "scatter": [
           {
            "marker": {
             "colorbar": {
              "outlinewidth": 0,
              "ticks": ""
             }
            },
            "type": "scatter"
           }
          ],
          "scatter3d": [
           {
            "line": {
             "colorbar": {
              "outlinewidth": 0,
              "ticks": ""
             }
            },
            "marker": {
             "colorbar": {
              "outlinewidth": 0,
              "ticks": ""
             }
            },
            "type": "scatter3d"
           }
          ],
          "scattercarpet": [
           {
            "marker": {
             "colorbar": {
              "outlinewidth": 0,
              "ticks": ""
             }
            },
            "type": "scattercarpet"
           }
          ],
          "scattergeo": [
           {
            "marker": {
             "colorbar": {
              "outlinewidth": 0,
              "ticks": ""
             }
            },
            "type": "scattergeo"
           }
          ],
          "scattergl": [
           {
            "marker": {
             "colorbar": {
              "outlinewidth": 0,
              "ticks": ""
             }
            },
            "type": "scattergl"
           }
          ],
          "scattermapbox": [
           {
            "marker": {
             "colorbar": {
              "outlinewidth": 0,
              "ticks": ""
             }
            },
            "type": "scattermapbox"
           }
          ],
          "scatterpolar": [
           {
            "marker": {
             "colorbar": {
              "outlinewidth": 0,
              "ticks": ""
             }
            },
            "type": "scatterpolar"
           }
          ],
          "scatterpolargl": [
           {
            "marker": {
             "colorbar": {
              "outlinewidth": 0,
              "ticks": ""
             }
            },
            "type": "scatterpolargl"
           }
          ],
          "scatterternary": [
           {
            "marker": {
             "colorbar": {
              "outlinewidth": 0,
              "ticks": ""
             }
            },
            "type": "scatterternary"
           }
          ],
          "surface": [
           {
            "colorbar": {
             "outlinewidth": 0,
             "ticks": ""
            },
            "colorscale": [
             [
              0,
              "#0d0887"
             ],
             [
              0.1111111111111111,
              "#46039f"
             ],
             [
              0.2222222222222222,
              "#7201a8"
             ],
             [
              0.3333333333333333,
              "#9c179e"
             ],
             [
              0.4444444444444444,
              "#bd3786"
             ],
             [
              0.5555555555555556,
              "#d8576b"
             ],
             [
              0.6666666666666666,
              "#ed7953"
             ],
             [
              0.7777777777777778,
              "#fb9f3a"
             ],
             [
              0.8888888888888888,
              "#fdca26"
             ],
             [
              1,
              "#f0f921"
             ]
            ],
            "type": "surface"
           }
          ],
          "table": [
           {
            "cells": {
             "fill": {
              "color": "#EBF0F8"
             },
             "line": {
              "color": "white"
             }
            },
            "header": {
             "fill": {
              "color": "#C8D4E3"
             },
             "line": {
              "color": "white"
             }
            },
            "type": "table"
           }
          ]
         },
         "layout": {
          "annotationdefaults": {
           "arrowcolor": "#2a3f5f",
           "arrowhead": 0,
           "arrowwidth": 1
          },
          "colorscale": {
           "diverging": [
            [
             0,
             "#8e0152"
            ],
            [
             0.1,
             "#c51b7d"
            ],
            [
             0.2,
             "#de77ae"
            ],
            [
             0.3,
             "#f1b6da"
            ],
            [
             0.4,
             "#fde0ef"
            ],
            [
             0.5,
             "#f7f7f7"
            ],
            [
             0.6,
             "#e6f5d0"
            ],
            [
             0.7,
             "#b8e186"
            ],
            [
             0.8,
             "#7fbc41"
            ],
            [
             0.9,
             "#4d9221"
            ],
            [
             1,
             "#276419"
            ]
           ],
           "sequential": [
            [
             0,
             "#0d0887"
            ],
            [
             0.1111111111111111,
             "#46039f"
            ],
            [
             0.2222222222222222,
             "#7201a8"
            ],
            [
             0.3333333333333333,
             "#9c179e"
            ],
            [
             0.4444444444444444,
             "#bd3786"
            ],
            [
             0.5555555555555556,
             "#d8576b"
            ],
            [
             0.6666666666666666,
             "#ed7953"
            ],
            [
             0.7777777777777778,
             "#fb9f3a"
            ],
            [
             0.8888888888888888,
             "#fdca26"
            ],
            [
             1,
             "#f0f921"
            ]
           ],
           "sequentialminus": [
            [
             0,
             "#0d0887"
            ],
            [
             0.1111111111111111,
             "#46039f"
            ],
            [
             0.2222222222222222,
             "#7201a8"
            ],
            [
             0.3333333333333333,
             "#9c179e"
            ],
            [
             0.4444444444444444,
             "#bd3786"
            ],
            [
             0.5555555555555556,
             "#d8576b"
            ],
            [
             0.6666666666666666,
             "#ed7953"
            ],
            [
             0.7777777777777778,
             "#fb9f3a"
            ],
            [
             0.8888888888888888,
             "#fdca26"
            ],
            [
             1,
             "#f0f921"
            ]
           ]
          },
          "colorway": [
           "#636efa",
           "#EF553B",
           "#00cc96",
           "#ab63fa",
           "#FFA15A",
           "#19d3f3",
           "#FF6692",
           "#B6E880",
           "#FF97FF",
           "#FECB52"
          ],
          "font": {
           "color": "#2a3f5f"
          },
          "geo": {
           "bgcolor": "white",
           "lakecolor": "white",
           "landcolor": "#E5ECF6",
           "showlakes": true,
           "showland": true,
           "subunitcolor": "white"
          },
          "hoverlabel": {
           "align": "left"
          },
          "hovermode": "closest",
          "mapbox": {
           "style": "light"
          },
          "paper_bgcolor": "white",
          "plot_bgcolor": "#E5ECF6",
          "polar": {
           "angularaxis": {
            "gridcolor": "white",
            "linecolor": "white",
            "ticks": ""
           },
           "bgcolor": "#E5ECF6",
           "radialaxis": {
            "gridcolor": "white",
            "linecolor": "white",
            "ticks": ""
           }
          },
          "scene": {
           "xaxis": {
            "backgroundcolor": "#E5ECF6",
            "gridcolor": "white",
            "gridwidth": 2,
            "linecolor": "white",
            "showbackground": true,
            "ticks": "",
            "zerolinecolor": "white"
           },
           "yaxis": {
            "backgroundcolor": "#E5ECF6",
            "gridcolor": "white",
            "gridwidth": 2,
            "linecolor": "white",
            "showbackground": true,
            "ticks": "",
            "zerolinecolor": "white"
           },
           "zaxis": {
            "backgroundcolor": "#E5ECF6",
            "gridcolor": "white",
            "gridwidth": 2,
            "linecolor": "white",
            "showbackground": true,
            "ticks": "",
            "zerolinecolor": "white"
           }
          },
          "shapedefaults": {
           "line": {
            "color": "#2a3f5f"
           }
          },
          "ternary": {
           "aaxis": {
            "gridcolor": "white",
            "linecolor": "white",
            "ticks": ""
           },
           "baxis": {
            "gridcolor": "white",
            "linecolor": "white",
            "ticks": ""
           },
           "bgcolor": "#E5ECF6",
           "caxis": {
            "gridcolor": "white",
            "linecolor": "white",
            "ticks": ""
           }
          },
          "title": {
           "x": 0.05
          },
          "xaxis": {
           "automargin": true,
           "gridcolor": "white",
           "linecolor": "white",
           "ticks": "",
           "zerolinecolor": "white",
           "zerolinewidth": 2
          },
          "yaxis": {
           "automargin": true,
           "gridcolor": "white",
           "linecolor": "white",
           "ticks": "",
           "zerolinecolor": "white",
           "zerolinewidth": 2
          }
         }
        },
        "title": {
         "text": "Budget and Gross Profit Correlation"
        },
        "xaxis": {
         "anchor": "y",
         "domain": [
          0,
          0.98
         ],
         "title": {
          "text": "revenue"
         }
        },
        "yaxis": {
         "anchor": "x",
         "domain": [
          0,
          1
         ],
         "title": {
          "text": "release_date"
         }
        }
       }
      },
      "text/html": [
       "<div>\n",
       "        \n",
       "        \n",
       "            <div id=\"09ae0602-b280-4534-8278-a14d2e87360b\" class=\"plotly-graph-div\" style=\"height:1000px; width:100%;\"></div>\n",
       "            <script type=\"text/javascript\">\n",
       "                require([\"plotly\"], function(Plotly) {\n",
       "                    window.PLOTLYENV=window.PLOTLYENV || {};\n",
       "                    \n",
       "                if (document.getElementById(\"09ae0602-b280-4534-8278-a14d2e87360b\")) {\n",
       "                    Plotly.newPlot(\n",
       "                        '09ae0602-b280-4534-8278-a14d2e87360b',\n",
       "                        [{\"alignmentgroup\": \"True\", \"hoverlabel\": {\"namelength\": 0}, \"hovertemplate\": \"revenue=%{x}<br>release_date=%{y}<br>gross_profit=%{marker.color}\", \"legendgroup\": \"\", \"marker\": {\"color\": [2441800564, 1396943394, 1300026933, 971927996, 976276090, 1019251311, 824144248, 898394593, 864612394, 671575993, 560098996, 686067000, 388526875, 500000000, 306570967, 394093228, 283005346, 234852543, 216600138, 274733942, 279251247, 283533271, 271709727, 269232797, 76119292, 246228776, 235105930, 142608480, 52442974, 226941965, 201252591, 127908210, 45832199, 163044905, 172094429, 151540586, 90514361, 186965409, 35469516, 71616764, 127323950, 137600000, 146313078, 75152550, 106661977, 45307427, 66359052, 25641396, 116532206, 80801777, 113033739, 91550750, 19559110, 67826172, 115570314, 115570314, 91399944, 36615070, 73853135, 70438172, 41490353, 75703432, 62092097, 68468705, 74769845, -21484976, 25279888, 52457330, 27281712, 49766483, 55497587, 57433551, 63760877, 54989107, 38351597, 50735335, -786069, 51615777, 46727164, 4000000, 13847136, 21774397, 46749995, 25401502, 31020902, 41521766, 38862188, 14088457, 26597100, 46115383, 34902237, -5335310, 14500000, 42880428, 37273021, 28055536, 38981322, 36120360, 22000000, 28191411], \"coloraxis\": \"coloraxis\"}, \"name\": \"\", \"offsetgroup\": \"\", \"orientation\": \"h\", \"showlegend\": false, \"textposition\": \"auto\", \"type\": \"bar\", \"x\": [2797800564, 1656943394, 1450026933, 1131927996, 1128276090, 1074251311, 1074144248, 1073394593, 1047612394, 796575993, 760098996, 686067000, 517526875, 500000000, 491570967, 473093228, 433005346, 404852543, 386600138, 374733942, 374251247, 363533271, 326709727, 309232797, 261119292, 257591776, 255105930, 252608480, 252442974, 246941965, 231252591, 225508210, 215832199, 203044905, 192094429, 191540586, 190514361, 186965409, 173469516, 171616764, 167323950, 157600000, 155313078, 155152550, 146661977, 132807427, 131359052, 125641396, 124652206, 122801777, 122033739, 121550750, 119559110, 116826172, 115570314, 115570314, 112399944, 111615070, 111353135, 95438172, 91490353, 89203432, 88092097, 82468705, 74769845, 73515024, 73279888, 72457330, 72281712, 69766483, 69497587, 68325551, 67760877, 66925842, 66293455, 62235335, 59213931, 57615777, 55478164, 55000000, 53847136, 53774397, 51749995, 50401502, 50020902, 48021766, 47862188, 47088457, 46597100, 46115383, 44902237, 44664690, 44400000, 42880428, 39273021, 39055536, 38981322, 36120360, 34000000, 33974264], \"xaxis\": \"x\", \"y\": [\"2019-04-24\", \"2019-07-12\", \"2019-11-20\", \"2019-06-28\", \"2019-03-06\", \"2019-10-02\", \"2019-12-18\", \"2019-06-19\", \"2019-05-22\", \"2019-12-04\", \"2019-08-01\", \"2019-07-26\", \"2019-01-03\", \"2019-04-12\", \"2019-10-16\", \"2019-09-04\", \"2019-05-03\", \"2019-01-31\", \"2019-05-29\", \"2019-12-25\", \"2019-07-24\", \"2019-03-29\", \"2019-05-15\", \"2019-11-27\", \"2019-10-23\", \"2019-05-30\", \"2019-03-14\", \"2019-06-12\", \"2019-06-05\", \"2019-01-16\", \"2019-06-26\", \"2019-11-13\", \"2019-03-27\", \"2019-10-10\", \"2019-09-12\", \"2019-12-25\", \"2019-01-26\", \"2019-07-19\", \"2019-10-02\", \"2019-12-04\", \"2019-05-22\", \"2019-09-12\", \"2019-01-03\", \"2019-05-24\", \"2019-08-21\", \"2019-09-17\", \"2019-08-02\", \"2019-11-06\", \"2019-01-23\", \"2019-10-09\", \"2019-04-17\", \"2019-11-07\", \"2019-03-14\", \"2019-08-08\", \"2019-04-12\", \"2019-04-12\", \"2019-04-04\", \"2019-09-19\", \"2019-01-10\", \"2019-08-08\", \"2019-09-19\", \"2019-07-11\", \"2019-06-27\", \"2019-10-18\", \"2019-01-30\", \"2019-12-19\", \"2019-11-14\", \"2019-08-14\", \"2019-10-30\", \"2019-02-08\", \"2019-04-11\", \"2019-07-31\", \"2019-09-07\", \"2019-01-11\", \"2019-10-02\", \"2019-03-22\", \"2019-02-07\", \"2019-08-21\", \"2019-06-20\", \"2019-08-29\", \"2019-05-02\", \"2019-12-13\", \"2019-05-29\", \"2019-12-25\", \"2019-08-30\", \"2019-10-24\", \"2019-07-03\", \"2019-10-24\", \"2019-11-27\", \"2019-03-01\", \"2019-06-19\", \"2019-04-10\", \"2019-11-08\", \"2019-09-26\", \"2019-12-26\", \"2019-02-14\", \"2019-09-27\", \"2019-02-13\", \"2019-05-09\", \"2019-02-14\"], \"yaxis\": \"y\"}],\n",
       "                        {\"barmode\": \"relative\", \"coloraxis\": {\"colorbar\": {\"title\": {\"text\": \"gross_profit\"}}, \"colorscale\": [[0.0, \"#0d0887\"], [0.1111111111111111, \"#46039f\"], [0.2222222222222222, \"#7201a8\"], [0.3333333333333333, \"#9c179e\"], [0.4444444444444444, \"#bd3786\"], [0.5555555555555556, \"#d8576b\"], [0.6666666666666666, \"#ed7953\"], [0.7777777777777778, \"#fb9f3a\"], [0.8888888888888888, \"#fdca26\"], [1.0, \"#f0f921\"]]}, \"height\": 1000, \"legend\": {\"tracegroupgap\": 0}, \"template\": {\"data\": {\"bar\": [{\"error_x\": {\"color\": \"#2a3f5f\"}, \"error_y\": {\"color\": \"#2a3f5f\"}, \"marker\": {\"line\": {\"color\": \"#E5ECF6\", \"width\": 0.5}}, \"type\": \"bar\"}], \"barpolar\": [{\"marker\": {\"line\": {\"color\": \"#E5ECF6\", \"width\": 0.5}}, \"type\": \"barpolar\"}], \"carpet\": [{\"aaxis\": {\"endlinecolor\": \"#2a3f5f\", \"gridcolor\": \"white\", \"linecolor\": \"white\", \"minorgridcolor\": \"white\", \"startlinecolor\": \"#2a3f5f\"}, \"baxis\": {\"endlinecolor\": \"#2a3f5f\", \"gridcolor\": \"white\", \"linecolor\": \"white\", \"minorgridcolor\": \"white\", \"startlinecolor\": \"#2a3f5f\"}, \"type\": \"carpet\"}], \"choropleth\": [{\"colorbar\": {\"outlinewidth\": 0, \"ticks\": \"\"}, \"type\": \"choropleth\"}], \"contour\": [{\"colorbar\": {\"outlinewidth\": 0, \"ticks\": \"\"}, \"colorscale\": [[0.0, \"#0d0887\"], [0.1111111111111111, \"#46039f\"], [0.2222222222222222, \"#7201a8\"], [0.3333333333333333, \"#9c179e\"], [0.4444444444444444, \"#bd3786\"], [0.5555555555555556, \"#d8576b\"], [0.6666666666666666, \"#ed7953\"], [0.7777777777777778, \"#fb9f3a\"], [0.8888888888888888, \"#fdca26\"], [1.0, \"#f0f921\"]], \"type\": \"contour\"}], \"contourcarpet\": [{\"colorbar\": {\"outlinewidth\": 0, \"ticks\": \"\"}, \"type\": \"contourcarpet\"}], \"heatmap\": [{\"colorbar\": {\"outlinewidth\": 0, \"ticks\": \"\"}, \"colorscale\": [[0.0, \"#0d0887\"], [0.1111111111111111, \"#46039f\"], [0.2222222222222222, \"#7201a8\"], [0.3333333333333333, \"#9c179e\"], [0.4444444444444444, \"#bd3786\"], [0.5555555555555556, \"#d8576b\"], [0.6666666666666666, \"#ed7953\"], [0.7777777777777778, \"#fb9f3a\"], [0.8888888888888888, \"#fdca26\"], [1.0, \"#f0f921\"]], \"type\": \"heatmap\"}], \"heatmapgl\": [{\"colorbar\": {\"outlinewidth\": 0, \"ticks\": \"\"}, \"colorscale\": [[0.0, \"#0d0887\"], [0.1111111111111111, \"#46039f\"], [0.2222222222222222, \"#7201a8\"], [0.3333333333333333, \"#9c179e\"], [0.4444444444444444, \"#bd3786\"], [0.5555555555555556, \"#d8576b\"], [0.6666666666666666, \"#ed7953\"], [0.7777777777777778, \"#fb9f3a\"], [0.8888888888888888, \"#fdca26\"], [1.0, \"#f0f921\"]], \"type\": \"heatmapgl\"}], \"histogram\": [{\"marker\": {\"colorbar\": {\"outlinewidth\": 0, \"ticks\": \"\"}}, \"type\": \"histogram\"}], \"histogram2d\": [{\"colorbar\": {\"outlinewidth\": 0, \"ticks\": \"\"}, \"colorscale\": [[0.0, \"#0d0887\"], [0.1111111111111111, \"#46039f\"], [0.2222222222222222, \"#7201a8\"], [0.3333333333333333, \"#9c179e\"], [0.4444444444444444, \"#bd3786\"], [0.5555555555555556, \"#d8576b\"], [0.6666666666666666, \"#ed7953\"], [0.7777777777777778, \"#fb9f3a\"], [0.8888888888888888, \"#fdca26\"], [1.0, \"#f0f921\"]], \"type\": \"histogram2d\"}], \"histogram2dcontour\": [{\"colorbar\": {\"outlinewidth\": 0, \"ticks\": \"\"}, \"colorscale\": [[0.0, \"#0d0887\"], [0.1111111111111111, \"#46039f\"], [0.2222222222222222, \"#7201a8\"], [0.3333333333333333, \"#9c179e\"], [0.4444444444444444, \"#bd3786\"], [0.5555555555555556, \"#d8576b\"], [0.6666666666666666, \"#ed7953\"], [0.7777777777777778, \"#fb9f3a\"], [0.8888888888888888, \"#fdca26\"], [1.0, \"#f0f921\"]], \"type\": \"histogram2dcontour\"}], \"mesh3d\": [{\"colorbar\": {\"outlinewidth\": 0, \"ticks\": \"\"}, \"type\": \"mesh3d\"}], \"parcoords\": [{\"line\": {\"colorbar\": {\"outlinewidth\": 0, \"ticks\": \"\"}}, \"type\": \"parcoords\"}], \"scatter\": [{\"marker\": {\"colorbar\": {\"outlinewidth\": 0, \"ticks\": \"\"}}, \"type\": \"scatter\"}], \"scatter3d\": [{\"line\": {\"colorbar\": {\"outlinewidth\": 0, \"ticks\": \"\"}}, \"marker\": {\"colorbar\": {\"outlinewidth\": 0, \"ticks\": \"\"}}, \"type\": \"scatter3d\"}], \"scattercarpet\": [{\"marker\": {\"colorbar\": {\"outlinewidth\": 0, \"ticks\": \"\"}}, \"type\": \"scattercarpet\"}], \"scattergeo\": [{\"marker\": {\"colorbar\": {\"outlinewidth\": 0, \"ticks\": \"\"}}, \"type\": \"scattergeo\"}], \"scattergl\": [{\"marker\": {\"colorbar\": {\"outlinewidth\": 0, \"ticks\": \"\"}}, \"type\": \"scattergl\"}], \"scattermapbox\": [{\"marker\": {\"colorbar\": {\"outlinewidth\": 0, \"ticks\": \"\"}}, \"type\": \"scattermapbox\"}], \"scatterpolar\": [{\"marker\": {\"colorbar\": {\"outlinewidth\": 0, \"ticks\": \"\"}}, \"type\": \"scatterpolar\"}], \"scatterpolargl\": [{\"marker\": {\"colorbar\": {\"outlinewidth\": 0, \"ticks\": \"\"}}, \"type\": \"scatterpolargl\"}], \"scatterternary\": [{\"marker\": {\"colorbar\": {\"outlinewidth\": 0, \"ticks\": \"\"}}, \"type\": \"scatterternary\"}], \"surface\": [{\"colorbar\": {\"outlinewidth\": 0, \"ticks\": \"\"}, \"colorscale\": [[0.0, \"#0d0887\"], [0.1111111111111111, \"#46039f\"], [0.2222222222222222, \"#7201a8\"], [0.3333333333333333, \"#9c179e\"], [0.4444444444444444, \"#bd3786\"], [0.5555555555555556, \"#d8576b\"], [0.6666666666666666, \"#ed7953\"], [0.7777777777777778, \"#fb9f3a\"], [0.8888888888888888, \"#fdca26\"], [1.0, \"#f0f921\"]], \"type\": \"surface\"}], \"table\": [{\"cells\": {\"fill\": {\"color\": \"#EBF0F8\"}, \"line\": {\"color\": \"white\"}}, \"header\": {\"fill\": {\"color\": \"#C8D4E3\"}, \"line\": {\"color\": \"white\"}}, \"type\": \"table\"}]}, \"layout\": {\"annotationdefaults\": {\"arrowcolor\": \"#2a3f5f\", \"arrowhead\": 0, \"arrowwidth\": 1}, \"colorscale\": {\"diverging\": [[0, \"#8e0152\"], [0.1, \"#c51b7d\"], [0.2, \"#de77ae\"], [0.3, \"#f1b6da\"], [0.4, \"#fde0ef\"], [0.5, \"#f7f7f7\"], [0.6, \"#e6f5d0\"], [0.7, \"#b8e186\"], [0.8, \"#7fbc41\"], [0.9, \"#4d9221\"], [1, \"#276419\"]], \"sequential\": [[0.0, \"#0d0887\"], [0.1111111111111111, \"#46039f\"], [0.2222222222222222, \"#7201a8\"], [0.3333333333333333, \"#9c179e\"], [0.4444444444444444, \"#bd3786\"], [0.5555555555555556, \"#d8576b\"], [0.6666666666666666, \"#ed7953\"], [0.7777777777777778, \"#fb9f3a\"], [0.8888888888888888, \"#fdca26\"], [1.0, \"#f0f921\"]], \"sequentialminus\": [[0.0, \"#0d0887\"], [0.1111111111111111, \"#46039f\"], [0.2222222222222222, \"#7201a8\"], [0.3333333333333333, \"#9c179e\"], [0.4444444444444444, \"#bd3786\"], [0.5555555555555556, \"#d8576b\"], [0.6666666666666666, \"#ed7953\"], [0.7777777777777778, \"#fb9f3a\"], [0.8888888888888888, \"#fdca26\"], [1.0, \"#f0f921\"]]}, \"colorway\": [\"#636efa\", \"#EF553B\", \"#00cc96\", \"#ab63fa\", \"#FFA15A\", \"#19d3f3\", \"#FF6692\", \"#B6E880\", \"#FF97FF\", \"#FECB52\"], \"font\": {\"color\": \"#2a3f5f\"}, \"geo\": {\"bgcolor\": \"white\", \"lakecolor\": \"white\", \"landcolor\": \"#E5ECF6\", \"showlakes\": true, \"showland\": true, \"subunitcolor\": \"white\"}, \"hoverlabel\": {\"align\": \"left\"}, \"hovermode\": \"closest\", \"mapbox\": {\"style\": \"light\"}, \"paper_bgcolor\": \"white\", \"plot_bgcolor\": \"#E5ECF6\", \"polar\": {\"angularaxis\": {\"gridcolor\": \"white\", \"linecolor\": \"white\", \"ticks\": \"\"}, \"bgcolor\": \"#E5ECF6\", \"radialaxis\": {\"gridcolor\": \"white\", \"linecolor\": \"white\", \"ticks\": \"\"}}, \"scene\": {\"xaxis\": {\"backgroundcolor\": \"#E5ECF6\", \"gridcolor\": \"white\", \"gridwidth\": 2, \"linecolor\": \"white\", \"showbackground\": true, \"ticks\": \"\", \"zerolinecolor\": \"white\"}, \"yaxis\": {\"backgroundcolor\": \"#E5ECF6\", \"gridcolor\": \"white\", \"gridwidth\": 2, \"linecolor\": \"white\", \"showbackground\": true, \"ticks\": \"\", \"zerolinecolor\": \"white\"}, \"zaxis\": {\"backgroundcolor\": \"#E5ECF6\", \"gridcolor\": \"white\", \"gridwidth\": 2, \"linecolor\": \"white\", \"showbackground\": true, \"ticks\": \"\", \"zerolinecolor\": \"white\"}}, \"shapedefaults\": {\"line\": {\"color\": \"#2a3f5f\"}}, \"ternary\": {\"aaxis\": {\"gridcolor\": \"white\", \"linecolor\": \"white\", \"ticks\": \"\"}, \"baxis\": {\"gridcolor\": \"white\", \"linecolor\": \"white\", \"ticks\": \"\"}, \"bgcolor\": \"#E5ECF6\", \"caxis\": {\"gridcolor\": \"white\", \"linecolor\": \"white\", \"ticks\": \"\"}}, \"title\": {\"x\": 0.05}, \"xaxis\": {\"automargin\": true, \"gridcolor\": \"white\", \"linecolor\": \"white\", \"ticks\": \"\", \"zerolinecolor\": \"white\", \"zerolinewidth\": 2}, \"yaxis\": {\"automargin\": true, \"gridcolor\": \"white\", \"linecolor\": \"white\", \"ticks\": \"\", \"zerolinecolor\": \"white\", \"zerolinewidth\": 2}}}, \"title\": {\"text\": \"Budget and Gross Profit Correlation\"}, \"xaxis\": {\"anchor\": \"y\", \"domain\": [0.0, 0.98], \"title\": {\"text\": \"revenue\"}}, \"yaxis\": {\"anchor\": \"x\", \"domain\": [0.0, 1.0], \"title\": {\"text\": \"release_date\"}}},\n",
       "                        {\"responsive\": true}\n",
       "                    ).then(function(){\n",
       "                            \n",
       "var gd = document.getElementById('09ae0602-b280-4534-8278-a14d2e87360b');\n",
       "var x = new MutationObserver(function (mutations, observer) {{\n",
       "        var display = window.getComputedStyle(gd).display;\n",
       "        if (!display || display === 'none') {{\n",
       "            console.log([gd, 'removed!']);\n",
       "            Plotly.purge(gd);\n",
       "            observer.disconnect();\n",
       "        }}\n",
       "}});\n",
       "\n",
       "// Listen for the removal of the full notebook cells\n",
       "var notebookContainer = gd.closest('#notebook-container');\n",
       "if (notebookContainer) {{\n",
       "    x.observe(notebookContainer, {childList: true});\n",
       "}}\n",
       "\n",
       "// Listen for the clearing of the current output cell\n",
       "var outputEl = gd.closest('.output');\n",
       "if (outputEl) {{\n",
       "    x.observe(outputEl, {childList: true});\n",
       "}}\n",
       "\n",
       "                        })\n",
       "                };\n",
       "                });\n",
       "            </script>\n",
       "        </div>"
      ]
     },
     "metadata": {},
     "output_type": "display_data"
    }
   ],
   "source": [
    "fig = px.bar(df3, x=\"revenue\", y=\"release_date\", color='gross_profit', orientation='h', height=1000, title='Budget and Gross Profit Correlation')\n",
    "fig.show()"
   ]
  },
  {
   "cell_type": "code",
   "execution_count": 184,
   "metadata": {},
   "outputs": [
    {
     "ename": "TypeError",
     "evalue": "scatter() got an unexpected keyword argument 'marker'",
     "output_type": "error",
     "traceback": [
      "\u001b[0;31m---------------------------------------------------------------------------\u001b[0m",
      "\u001b[0;31mTypeError\u001b[0m                                 Traceback (most recent call last)",
      "\u001b[0;32m<ipython-input-184-e56979c4251b>\u001b[0m in \u001b[0;36m<module>\u001b[0;34m()\u001b[0m\n\u001b[0;32m----> 1\u001b[0;31m \u001b[0mfig\u001b[0m \u001b[0;34m=\u001b[0m \u001b[0mpx\u001b[0m\u001b[0;34m.\u001b[0m\u001b[0mscatter\u001b[0m\u001b[0;34m(\u001b[0m\u001b[0mdf3\u001b[0m\u001b[0;34m,\u001b[0m \u001b[0mx\u001b[0m\u001b[0;34m=\u001b[0m\u001b[0;34m'release_date'\u001b[0m\u001b[0;34m,\u001b[0m \u001b[0my\u001b[0m\u001b[0;34m=\u001b[0m\u001b[0;34m'gross_profit'\u001b[0m\u001b[0;34m,\u001b[0m \u001b[0mmarker\u001b[0m\u001b[0;34m=\u001b[0m\u001b[0;34m'budget'\u001b[0m\u001b[0;34m)\u001b[0m\u001b[0;34m\u001b[0m\u001b[0;34m\u001b[0m\u001b[0m\n\u001b[0m\u001b[1;32m      2\u001b[0m \u001b[0mfig\u001b[0m\u001b[0;34m.\u001b[0m\u001b[0mshow\u001b[0m\u001b[0;34m(\u001b[0m\u001b[0;34m)\u001b[0m\u001b[0;34m\u001b[0m\u001b[0;34m\u001b[0m\u001b[0m\n",
      "\u001b[0;31mTypeError\u001b[0m: scatter() got an unexpected keyword argument 'marker'"
     ]
    }
   ],
   "source": [
    "fig = px.scatter(df3, x='release_date', y='gross_profit', marker='budget')\n",
    "fig.show()"
   ]
  },
  {
   "cell_type": "code",
   "execution_count": null,
   "metadata": {},
   "outputs": [],
   "source": []
  }
 ],
 "metadata": {
  "kernelspec": {
   "display_name": "learn-env",
   "language": "python",
   "name": "learn-env"
  },
  "language_info": {
   "codemirror_mode": {
    "name": "ipython",
    "version": 3
   },
   "file_extension": ".py",
   "mimetype": "text/x-python",
   "name": "python",
   "nbconvert_exporter": "python",
   "pygments_lexer": "ipython3",
   "version": "3.6.9"
  }
 },
 "nbformat": 4,
 "nbformat_minor": 4
}
