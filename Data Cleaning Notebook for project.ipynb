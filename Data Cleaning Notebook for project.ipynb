{
 "cells": [
  {
   "cell_type": "markdown",
   "metadata": {},
   "source": [
    "# Phase 1 Final Project \n",
    "\n",
    "\n",
    "* Student Names: Adina Steinman, Chinh Ho, Andrew Banner \n",
    "* Instructor Name: Yish Lim\n",
    "\n",
    "## Introduction \n",
    "\n",
    "Throughout Phase 1, we have learned various ways to explore datasets. This notebook will focus on the data cleaning portion of our Project; learning how to use the TMDB API, navigating and exploring data from the API, selecting relevant data for our analyses, and constructing DataFrames. \n",
    "\n",
    "\n",
    "## Part I: Getting Started\n",
    "\n",
    "Our first step will involve importing all the necessary packages for our analyses. We will import \"requests\" in order to use the requests.get() method to investigate the API, import \"json\" to view our data in json format, import \"pandas\" to transfer our data into DataFrames, import \"time\" to include a delay in our API call when pulling large sets of data, and lastly but most importantly, import \"tmdbsimple\", the TMDB specific wrapper that will assist in exploring and analyzing this specfiic API.\n",
    "\n",
    "We will then create a function that allows us to open the API call in json format, as well as retrieve the API key we have created, without displaying the precise API key that we used (as we don't want to give our password away!).\n",
    "\n"
   ]
  },
  {
   "cell_type": "code",
   "execution_count": 1,
   "metadata": {},
   "outputs": [],
   "source": [
    "# import the necessary packages for the data cleaning process\n",
    "import requests\n",
    "import json\n",
    "import pandas as pd\n",
    "import time \n",
    "import tmdbsimple as tmdb"
   ]
  },
  {
   "cell_type": "code",
   "execution_count": 2,
   "metadata": {},
   "outputs": [],
   "source": [
    "# create a function \"get_keys\" to retrieve API key from file on local computer\n",
    "\n",
    "def get_keys(path):\n",
    "    with open(path) as f:\n",
    "        return json.load(f)"
   ]
  },
  {
   "cell_type": "code",
   "execution_count": 3,
   "metadata": {},
   "outputs": [],
   "source": [
    "# retrieve API key\n",
    "\n",
    "keys = get_keys(\"/Users/adinasteinman/.secret/movies_api.json\")\n",
    "api_key = keys['api_key']"
   ]
  },
  {
   "cell_type": "code",
   "execution_count": 4,
   "metadata": {},
   "outputs": [],
   "source": [
    "# set API key equal to TMDB key to be used in tmdbsimple wrapper \n",
    "\n",
    "tmdb.API_KEY = api_key"
   ]
  },
  {
   "cell_type": "markdown",
   "metadata": {},
   "source": [
    "## Part II: Data Exploration\n",
    "\n",
    "Our next step will be to get to know the data from TMDB Simple. We will investigate this data using different techniques, such as the \"movies\", \"search\" and \"discover\" calls. We will also look at how to call the API using the requests.get method, and will compare the two exploration methods and determine which we would prefer to use for the remainder of our analysis. The goal of this section is to find different ways to extract different data and to use this exercise to assist with determining which data we would like to analyze."
   ]
  },
  {
   "cell_type": "code",
   "execution_count": 5,
   "metadata": {},
   "outputs": [
    {
     "data": {
      "text/plain": [
       "{'adult': False,\n",
       " 'backdrop_path': '/5J9lhMZHVQRfH8BV4hyehwptzKp.jpg',\n",
       " 'belongs_to_collection': None,\n",
       " 'budget': 4000000,\n",
       " 'genres': [{'id': 80, 'name': 'Crime'}, {'id': 35, 'name': 'Comedy'}],\n",
       " 'homepage': '',\n",
       " 'id': 5,\n",
       " 'imdb_id': 'tt0113101',\n",
       " 'original_language': 'en',\n",
       " 'original_title': 'Four Rooms',\n",
       " 'overview': \"It's Ted the Bellhop's first night on the job...and the hotel's very unusual guests are about to place him in some outrageous predicaments. It seems that this evening's room service is serving up one unbelievable happening after another.\",\n",
       " 'popularity': 14.543,\n",
       " 'poster_path': '/uZSmxBLIuZ8gpadjAWNdA5aQDAc.jpg',\n",
       " 'production_companies': [{'id': 14,\n",
       "   'logo_path': '/m6AHu84oZQxvq7n1rsvMNJIAsMu.png',\n",
       "   'name': 'Miramax',\n",
       "   'origin_country': 'US'},\n",
       "  {'id': 59,\n",
       "   'logo_path': '/yH7OMeSxhfP0AVM6iT0rsF3F4ZC.png',\n",
       "   'name': 'A Band Apart',\n",
       "   'origin_country': 'US'}],\n",
       " 'production_countries': [{'iso_3166_1': 'US',\n",
       "   'name': 'United States of America'}],\n",
       " 'release_date': '1995-12-09',\n",
       " 'revenue': 4257354,\n",
       " 'runtime': 98,\n",
       " 'spoken_languages': [{'iso_639_1': 'en', 'name': 'English'}],\n",
       " 'status': 'Released',\n",
       " 'tagline': \"Twelve outrageous guests. Four scandalous requests. And one lone bellhop, in his first day on the job, who's in for the wildest New year's Eve of his life.\",\n",
       " 'title': 'Four Rooms',\n",
       " 'video': False,\n",
       " 'vote_average': 5.8,\n",
       " 'vote_count': 1759}"
      ]
     },
     "execution_count": 5,
     "metadata": {},
     "output_type": "execute_result"
    }
   ],
   "source": [
    "# explore the data available when use the \"tmdb.Movies call\"\n",
    "\n",
    "tmdb.Movies(5).info()"
   ]
  },
  {
   "cell_type": "code",
   "execution_count": 6,
   "metadata": {},
   "outputs": [],
   "source": [
    "# input the TMDB \"search\" function\n",
    "\n",
    "search = tmdb.Search()"
   ]
  },
  {
   "cell_type": "code",
   "execution_count": 7,
   "metadata": {},
   "outputs": [
    {
     "data": {
      "text/plain": [
       "{'page': 1,\n",
       " 'results': [{'id': 82346,\n",
       "   'logo_path': '/jqgK6CSkPrEsIv6Nk390JaBcXYF.png',\n",
       "   'name': 'Sony Pictures',\n",
       "   'origin_country': 'JP'},\n",
       "  {'id': 34,\n",
       "   'logo_path': '/GagSvqWlyPdkFHMfQ3pNq6ix9P.png',\n",
       "   'name': 'Sony Pictures',\n",
       "   'origin_country': 'US'},\n",
       "  {'id': 134941,\n",
       "   'logo_path': None,\n",
       "   'name': 'Sony Pictures',\n",
       "   'origin_country': ''},\n",
       "  {'id': 11073,\n",
       "   'logo_path': '/wHs44fktdoj6c378ZbSWfzKsM2Z.png',\n",
       "   'name': 'Sony Pictures Television',\n",
       "   'origin_country': 'US'},\n",
       "  {'id': 30692,\n",
       "   'logo_path': '/4ZSWXR7TfxwJbXGcnOAf617AC3h.png',\n",
       "   'name': 'Sony Pictures Imageworks',\n",
       "   'origin_country': 'CA'},\n",
       "  {'id': 8285,\n",
       "   'logo_path': None,\n",
       "   'name': 'Sony Pictures Studio',\n",
       "   'origin_country': ''},\n",
       "  {'id': 58,\n",
       "   'logo_path': '/voYCwlBHJQANtjvm5MNIkCF1dDH.png',\n",
       "   'name': 'Sony Pictures Classics',\n",
       "   'origin_country': 'US'},\n",
       "  {'id': 2251,\n",
       "   'logo_path': '/6l16UFSkZ1oPpyBYaILgffFZlTc.png',\n",
       "   'name': 'Sony Pictures Animation',\n",
       "   'origin_country': 'US'},\n",
       "  {'id': 65451,\n",
       "   'logo_path': None,\n",
       "   'name': 'Sony Pictures Digital',\n",
       "   'origin_country': ''},\n",
       "  {'id': 3045,\n",
       "   'logo_path': '/5jNRqXspCmQ3XkHNzuZIbvnHOWw.png',\n",
       "   'name': 'Sony Pictures Releasing',\n",
       "   'origin_country': 'US'},\n",
       "  {'id': 101555,\n",
       "   'logo_path': None,\n",
       "   'name': 'Sony Pictures Productions',\n",
       "   'origin_country': ''},\n",
       "  {'id': 63520,\n",
       "   'logo_path': None,\n",
       "   'name': 'Sony Pictures International Productions',\n",
       "   'origin_country': 'US'},\n",
       "  {'id': 86203,\n",
       "   'logo_path': '/o9jUAJJd1wc4Hg1cvp85kXMcCKD.png',\n",
       "   'name': 'Sony Pictures Television International',\n",
       "   'origin_country': 'US'},\n",
       "  {'id': 5388,\n",
       "   'logo_path': '/i6tbNeVEi7s1uN97s2o0LhEMuF0.png',\n",
       "   'name': 'Sony Pictures Home Entertainment',\n",
       "   'origin_country': 'US'},\n",
       "  {'id': 128923,\n",
       "   'logo_path': None,\n",
       "   'name': 'Sony Pictures Entertainment France',\n",
       "   'origin_country': 'FR'},\n",
       "  {'id': 134940,\n",
       "   'logo_path': None,\n",
       "   'name': 'Sony Pictures Home Entertaiment',\n",
       "   'origin_country': ''},\n",
       "  {'id': 128372,\n",
       "   'logo_path': None,\n",
       "   'name': 'Sony Pictures Entertainment Korea',\n",
       "   'origin_country': 'KR'},\n",
       "  {'id': 118405,\n",
       "   'logo_path': None,\n",
       "   'name': 'Sony Pictures Entertainment Brazil',\n",
       "   'origin_country': 'BR'},\n",
       "  {'id': 94444,\n",
       "   'logo_path': None,\n",
       "   'name': 'Sony Pictures Networks Productions',\n",
       "   'origin_country': 'IN'},\n",
       "  {'id': 14577,\n",
       "   'logo_path': '/y9hKsLfQ6JBAwqKMdrOFlH7Mrfv.png',\n",
       "   'name': 'Sony Pictures Worldwide Acquisitions (SPWA)',\n",
       "   'origin_country': 'US'}],\n",
       " 'total_pages': 2,\n",
       " 'total_results': 24}"
      ]
     },
     "execution_count": 7,
     "metadata": {},
     "output_type": "execute_result"
    }
   ],
   "source": [
    "# explore the TMDB search function by searching for all \"Sony Pictures\" films\n",
    "\n",
    "response1 = search.company(query='Sony Pictures')\n",
    "response1"
   ]
  },
  {
   "cell_type": "code",
   "execution_count": 8,
   "metadata": {},
   "outputs": [
    {
     "name": "stdout",
     "output_type": "stream",
     "text": [
      "JP\n",
      "US\n",
      "\n",
      "US\n",
      "CA\n",
      "\n",
      "US\n",
      "US\n",
      "\n",
      "US\n",
      "\n",
      "US\n",
      "US\n",
      "US\n",
      "FR\n",
      "\n",
      "KR\n",
      "BR\n",
      "IN\n",
      "US\n"
     ]
    }
   ],
   "source": [
    "# use for loop to explore 'origin country' of the results\n",
    "\n",
    "for movie in response1['results']:\n",
    "    print(movie['origin_country'])"
   ]
  },
  {
   "cell_type": "code",
   "execution_count": 9,
   "metadata": {},
   "outputs": [],
   "source": [
    "# input TMDB discover method\n",
    "\n",
    "discover = tmdb.Discover()"
   ]
  },
  {
   "cell_type": "code",
   "execution_count": 10,
   "metadata": {},
   "outputs": [
    {
     "name": "stdout",
     "output_type": "stream",
     "text": [
      "The Last: Naruto the Movie\n",
      "Terrifier\n",
      "Your Name.\n",
      "Harry Potter and the Prisoner of Azkaban\n",
      "A Silent Voice\n",
      "Dragon Ball Z: Resurrection 'F'\n",
      "Harry Potter and the Half-Blood Prince\n",
      "ABCs of Death 2 1/2\n",
      "Deadpool\n",
      "Yu-Gi-Oh!: The Dark Side of Dimensions\n",
      "Hacksaw Ridge\n",
      "Scream at the Devil\n",
      "Doctor Strange\n",
      "The Maze Runner\n",
      "Harry Potter and the Deathly Hallows: Part 2\n",
      "The Purge: Election Year\n",
      "Harry Potter and the Deathly Hallows: Part 1\n",
      "The Hobbit: The Battle of the Five Armies\n",
      "Sing\n",
      "Containment\n"
     ]
    }
   ],
   "source": [
    "# test the discover method to find titles for films in the year 2016\n",
    "\n",
    "response2 = discover.movie(year=2016)\n",
    "response2\n",
    "for value in response2['results']:\n",
    "    print(value['title'])"
   ]
  },
  {
   "cell_type": "code",
   "execution_count": 11,
   "metadata": {},
   "outputs": [
    {
     "data": {
      "text/plain": [
       "20"
      ]
     },
     "execution_count": 11,
     "metadata": {},
     "output_type": "execute_result"
    }
   ],
   "source": [
    "# Find the length of the results \n",
    "# This should tell us how many results we are able to explore in each API call \n",
    "len(response2['results'])"
   ]
  },
  {
   "cell_type": "code",
   "execution_count": 12,
   "metadata": {},
   "outputs": [
    {
     "data": {
      "text/plain": [
       "[{'popularity': 872.93,\n",
       "  'vote_count': 43,\n",
       "  'video': False,\n",
       "  'poster_path': '/5aL71e0XBgHZ6zdWcWeuEhwD2Gw.jpg',\n",
       "  'id': 721656,\n",
       "  'adult': False,\n",
       "  'backdrop_path': '/5gTQmnGYKxDfmUWJ9GUWqrszRxN.jpg',\n",
       "  'original_language': 'en',\n",
       "  'original_title': 'Happy Halloween Scooby-Doo!',\n",
       "  'genre_ids': [16, 35, 80, 9648, 10751],\n",
       "  'title': 'Happy Halloween Scooby-Doo!',\n",
       "  'vote_average': 7.8,\n",
       "  'overview': 'Scooby-Doo and the gang team up with their pals, Bill Nye The Science Guy and Elvira Mistress of the Dark, to solve this mystery of gigantic proportions and save Crystal Cove!',\n",
       "  'release_date': '2020-10-06'},\n",
       " {'popularity': 772.926,\n",
       "  'vote_count': 91,\n",
       "  'video': False,\n",
       "  'poster_path': '/xqvX5A24dbIWaeYsMTxxKX5qOfz.jpg',\n",
       "  'id': 660982,\n",
       "  'adult': False,\n",
       "  'backdrop_path': '/75ooojtgiKYm5LcCczbCexioZze.jpg',\n",
       "  'original_language': 'en',\n",
       "  'original_title': \"American Pie Presents: Girls' Rules\",\n",
       "  'genre_ids': [35],\n",
       "  'title': 'American Pie Presents: Girls Rules',\n",
       "  'vote_average': 6.6,\n",
       "  'overview': \"It's Senior year at East Great Falls. Annie, Kayla, Michelle, and Stephanie decide to harness their girl power and band together to get what they want their last year of high school.\",\n",
       "  'release_date': '2020-10-06'}]"
      ]
     },
     "execution_count": 12,
     "metadata": {},
     "output_type": "execute_result"
    }
   ],
   "source": [
    "#Explore a specific genre. Look at comedy for example, which has the genre id code 35\n",
    "\n",
    "comedy = discover.movie(with_genres=35)\n",
    "comedy['results'][0:2]"
   ]
  },
  {
   "cell_type": "code",
   "execution_count": 13,
   "metadata": {},
   "outputs": [
    {
     "data": {
      "text/plain": [
       "[{'popularity': 3130.643,\n",
       "  'vote_count': 143,\n",
       "  'video': False,\n",
       "  'poster_path': '/7D430eqZj8y3oVkLFfsWXGRcpEG.jpg',\n",
       "  'id': 528085,\n",
       "  'adult': False,\n",
       "  'backdrop_path': '/5UkzNSOK561c2QRy2Zr4AkADzLT.jpg',\n",
       "  'original_language': 'en',\n",
       "  'original_title': '2067',\n",
       "  'genre_ids': [18, 878, 53],\n",
       "  'title': '2067',\n",
       "  'vote_average': 5.8,\n",
       "  'overview': 'A lowly utility worker is called to the future by a mysterious radio signal, he must leave his dying wife to embark on a journey that will force him to face his deepest fears in an attempt to change the fabric of reality and save humankind from its greatest environmental crisis yet.',\n",
       "  'release_date': '2020-10-01'},\n",
       " {'popularity': 1724.443,\n",
       "  'vote_count': 114,\n",
       "  'video': False,\n",
       "  'poster_path': '/elZ6JCzSEvFOq4gNjNeZsnRFsvj.jpg',\n",
       "  'id': 741067,\n",
       "  'adult': False,\n",
       "  'backdrop_path': '/aO5ILS7qnqtFIprbJ40zla0jhpu.jpg',\n",
       "  'original_language': 'en',\n",
       "  'original_title': 'Welcome to Sudden Death',\n",
       "  'genre_ids': [28, 12, 18, 53],\n",
       "  'title': 'Welcome to Sudden Death',\n",
       "  'vote_average': 6.6,\n",
       "  'overview': \"Jesse Freeman is a former special forces officer and explosives expert now working a regular job as a security guard in a state-of-the-art basketball arena. Trouble erupts when a tech-savvy cadre of terrorists kidnap the team's owner and Jesse's daughter during opening night. Facing a ticking clock and impossible odds, it's up to Jesse to not only save them but also a full house of fans in this highly charged action thriller.\",\n",
       "  'release_date': '2020-09-29'}]"
      ]
     },
     "execution_count": 13,
     "metadata": {},
     "output_type": "execute_result"
    }
   ],
   "source": [
    "# Explore how to use the TMDb API using the requests.get method \n",
    "response3 = requests.get('https://api.themoviedb.org/3/discover/movie?api_key=' +  api_key + '&sort_by=popularity.desc')\n",
    "popularity = response3.json()\n",
    "top_popular = popularity['results']\n",
    "top_popular[0:2]"
   ]
  },
  {
   "cell_type": "markdown",
   "metadata": {},
   "source": [
    "## Part III: Accessing the Data\n",
    "\n",
    "We will now access the data that we will use for the remainder of our project. During our exploration phase, we learned that we can pull one page at a time, which will provide us with 20 results. We want, however, to be able to access **10,000 rows** of data across 500 pages. Our first step in this phase will be to create a loop that will append all 500 pages of results to a list. Do note that this API call is pulling the data based on popularity, in descending order."
   ]
  },
  {
   "cell_type": "code",
   "execution_count": 55,
   "metadata": {},
   "outputs": [],
   "source": [
    "# Pull the data of all 10,000 rows of data across all 500 pages. Append this to a lit called \"finallist\" which will contain the data of movies, sorted by the most popular first.\n",
    "\n",
    "finallist=[]\n",
    "n=0\n",
    "while n<500:\n",
    "    n+=1\n",
    "    url='http://api.themoviedb.org/3/discover/movie?&sort_by=popularity.desc&offset=20&page={}&api_key='.format(n)\n",
    "    req=requests.get(url+api_key).json()\n",
    "    results=req['results']\n",
    "    finallist.extend(results)\n",
    "    time.sleep(2)"
   ]
  },
  {
   "cell_type": "code",
   "execution_count": 56,
   "metadata": {},
   "outputs": [
    {
     "data": {
      "text/plain": [
       "10000"
      ]
     },
     "execution_count": 56,
     "metadata": {},
     "output_type": "execute_result"
    }
   ],
   "source": [
    "# Find the length of this new list to confirm our 10,000 rows were retrieved \n",
    "len(finallist)"
   ]
  },
  {
   "cell_type": "markdown",
   "metadata": {},
   "source": [
    "We see here that this worked! The length of our final list is 10,000. We will now turn this into a DataFrame and explore what variables are available to us."
   ]
  },
  {
   "cell_type": "code",
   "execution_count": 57,
   "metadata": {
    "scrolled": false
   },
   "outputs": [
    {
     "name": "stdout",
     "output_type": "stream",
     "text": [
      "<class 'pandas.core.frame.DataFrame'>\n",
      "RangeIndex: 10000 entries, 0 to 9999\n",
      "Data columns (total 14 columns):\n",
      "popularity           10000 non-null float64\n",
      "vote_count           10000 non-null int64\n",
      "video                10000 non-null bool\n",
      "poster_path          9853 non-null object\n",
      "id                   10000 non-null int64\n",
      "adult                10000 non-null bool\n",
      "backdrop_path        9416 non-null object\n",
      "original_language    10000 non-null object\n",
      "original_title       10000 non-null object\n",
      "genre_ids            10000 non-null object\n",
      "title                10000 non-null object\n",
      "vote_average         10000 non-null float64\n",
      "overview             10000 non-null object\n",
      "release_date         9991 non-null object\n",
      "dtypes: bool(2), float64(2), int64(2), object(8)\n",
      "memory usage: 957.2+ KB\n"
     ]
    }
   ],
   "source": [
    "# Put this new data into a dataframe and explore the information available\n",
    "pop = pd.DataFrame(finallist)\n",
    "pop.info()"
   ]
  },
  {
   "cell_type": "code",
   "execution_count": 58,
   "metadata": {},
   "outputs": [
    {
     "data": {
      "text/html": [
       "<div>\n",
       "<style scoped>\n",
       "    .dataframe tbody tr th:only-of-type {\n",
       "        vertical-align: middle;\n",
       "    }\n",
       "\n",
       "    .dataframe tbody tr th {\n",
       "        vertical-align: top;\n",
       "    }\n",
       "\n",
       "    .dataframe thead th {\n",
       "        text-align: right;\n",
       "    }\n",
       "</style>\n",
       "<table border=\"1\" class=\"dataframe\">\n",
       "  <thead>\n",
       "    <tr style=\"text-align: right;\">\n",
       "      <th></th>\n",
       "      <th>popularity</th>\n",
       "      <th>vote_count</th>\n",
       "      <th>video</th>\n",
       "      <th>poster_path</th>\n",
       "      <th>id</th>\n",
       "      <th>adult</th>\n",
       "      <th>backdrop_path</th>\n",
       "      <th>original_language</th>\n",
       "      <th>original_title</th>\n",
       "      <th>genre_ids</th>\n",
       "      <th>title</th>\n",
       "      <th>vote_average</th>\n",
       "      <th>overview</th>\n",
       "      <th>release_date</th>\n",
       "    </tr>\n",
       "  </thead>\n",
       "  <tbody>\n",
       "    <tr>\n",
       "      <th>0</th>\n",
       "      <td>2931.926</td>\n",
       "      <td>151</td>\n",
       "      <td>False</td>\n",
       "      <td>/7D430eqZj8y3oVkLFfsWXGRcpEG.jpg</td>\n",
       "      <td>528085</td>\n",
       "      <td>False</td>\n",
       "      <td>/5UkzNSOK561c2QRy2Zr4AkADzLT.jpg</td>\n",
       "      <td>en</td>\n",
       "      <td>2067</td>\n",
       "      <td>[18, 878, 53]</td>\n",
       "      <td>2067</td>\n",
       "      <td>5.8</td>\n",
       "      <td>A lowly utility worker is called to the future...</td>\n",
       "      <td>2020-10-01</td>\n",
       "    </tr>\n",
       "    <tr>\n",
       "      <th>1</th>\n",
       "      <td>1615.119</td>\n",
       "      <td>117</td>\n",
       "      <td>False</td>\n",
       "      <td>/elZ6JCzSEvFOq4gNjNeZsnRFsvj.jpg</td>\n",
       "      <td>741067</td>\n",
       "      <td>False</td>\n",
       "      <td>/aO5ILS7qnqtFIprbJ40zla0jhpu.jpg</td>\n",
       "      <td>en</td>\n",
       "      <td>Welcome to Sudden Death</td>\n",
       "      <td>[28, 12, 18, 53]</td>\n",
       "      <td>Welcome to Sudden Death</td>\n",
       "      <td>6.6</td>\n",
       "      <td>Jesse Freeman is a former special forces offic...</td>\n",
       "      <td>2020-09-29</td>\n",
       "    </tr>\n",
       "  </tbody>\n",
       "</table>\n",
       "</div>"
      ],
      "text/plain": [
       "   popularity  vote_count  video                       poster_path      id  \\\n",
       "0    2931.926         151  False  /7D430eqZj8y3oVkLFfsWXGRcpEG.jpg  528085   \n",
       "1    1615.119         117  False  /elZ6JCzSEvFOq4gNjNeZsnRFsvj.jpg  741067   \n",
       "\n",
       "   adult                     backdrop_path original_language  \\\n",
       "0  False  /5UkzNSOK561c2QRy2Zr4AkADzLT.jpg                en   \n",
       "1  False  /aO5ILS7qnqtFIprbJ40zla0jhpu.jpg                en   \n",
       "\n",
       "            original_title         genre_ids                    title  \\\n",
       "0                     2067     [18, 878, 53]                     2067   \n",
       "1  Welcome to Sudden Death  [28, 12, 18, 53]  Welcome to Sudden Death   \n",
       "\n",
       "   vote_average                                           overview  \\\n",
       "0           5.8  A lowly utility worker is called to the future...   \n",
       "1           6.6  Jesse Freeman is a former special forces offic...   \n",
       "\n",
       "  release_date  \n",
       "0   2020-10-01  \n",
       "1   2020-09-29  "
      ]
     },
     "execution_count": 58,
     "metadata": {},
     "output_type": "execute_result"
    }
   ],
   "source": [
    "pop.head(2)"
   ]
  },
  {
   "cell_type": "markdown",
   "metadata": {},
   "source": [
    "While this is a comprehensive amount of variables, we are still missing an important feature: movie revenue. We will now use another for loop in order to create a dictionary of key-value pairs, where the key is the movie ID and the value is that movie's revenue."
   ]
  },
  {
   "cell_type": "code",
   "execution_count": 59,
   "metadata": {},
   "outputs": [],
   "source": [
    "# note that the \"revenue\" column is not in the above dataframe. \n",
    "# Retrieve the revenue data for the items in this list \n",
    "# Note that the 'id's 627494 and 726682 are excluded. This is because these URLs contain corrupt data \n",
    "# The corrupt data caused an error in our for loop; when excluded, we are able to retrieve revenue \n",
    "# data for 9,998 films\n",
    "\n",
    "pop_dict = {}\n",
    "\n",
    "for item in finallist:\n",
    "    if item['id'] != 627494 and item['id'] != 726682:\n",
    "        tmp = tmdb.Movies(item['id']).info()\n",
    "        pop_dict[tmp['id']] = tmp['revenue']\n",
    "    "
   ]
  },
  {
   "cell_type": "code",
   "execution_count": 60,
   "metadata": {},
   "outputs": [
    {
     "name": "stdout",
     "output_type": "stream",
     "text": [
      "{528085: 0, 741067: 0, 497582: 0, 724989: 0, 337401: 57000000, 694919: 0, 721656: 0, 635302: 44143781, 660982: 0, 718444: 139757, 697064: 0, 734309: 0, 539885: 152812, 581392: 35878266, 592350: 29900850, 475430: 0, 438396: 0, 590223: 0, 606234: 0, 677638: 0, 721452: 0, 605116: 0, 474350: 473093228, 621870: 0, 594328: 0, 520763: 0, 746957: 0, 726739: 0, 722603: 0, 547016: 0, 495764: 201858461, 703134: 0, 38700: 419074646, 613504: 0, 475557: 1074251311, 446893: 1946164, 425001: 8982106, 617505: 0, 532067: 0, 531499: 0, 601165: 0, 385103: 9430580, 611395: 0, 632618: 0, 603119: 0, 493065: 0, 454626: 306766470, 516486: 0, 601844: 0, 680295: 0, 624963: 0, 459151: 0, 508439: 103181419, 338762: 30234182, 715658: 0, 330457: 1450026933, 664767: 0, 572154: 0, 713825: 0, 489326: 106270, 667141: 0, 458576: 0, 738215: 0, 611605: 0, 640882: 0, 744676: 0, 545609: 0, 735110: 0, 354912: 800526015, 440249: 0, 604578: 0, 384018: 760098996, 709621: 0, 631132: 0, 704630: 0, 733491: 0, 716258: 0, 514207: 32104054, 671: 976475550, 671145: 0, 347201: 0, 643550: 0, 531876: 0, 619592: 215668, 299536: 2046239637, 283566: 0, 317442: 0, 568160: 186965409, 530915: 374733942, 666750: 0, 505262: 31478826, 554311: 0, 655431: 0, 420634: 0, 274855: 221600160, 429617: 1131927996, 512200: 796575993, 299534: 2797800564, 670266: 0, 560204: 0, 674: 895921036, 703771: 0, 420809: 491570967, 290859: 261119292, 581387: 0, 413518: 17133446, 372058: 357986087, 87436: 21660, 583083: 0, 618354: 0, 567006: 0, 301528: 1073394593, 673595: 0, 458156: 326709727, 597398: 7200, 718867: 0, 732713: 0, 420818: 1656943394, 565840: 0, 208763: 34592118, 673: 789804554, 737802: 0, 667520: 0, 741998: 0, 468816: 0, 743227: 0, 746180: 0, 404368: 529221154, 509967: 0, 453405: 173469516, 616803: 0, 594530: 0, 481084: 203044905, 715123: 0, 736509: 0, 479259: 0, 680028: 0, 454640: 131359052, 702936: 0, 508570: 0, 447404: 433005346, 701175: 0, 537915: 69497587, 582306: 0, 412117: 155152550, 181812: 1074144248, 324857: 375540831, 579583: 0, 443791: 40882928, 448119: 245692007, 338967: 122801777, 420817: 1047612394, 613200: 0, 609202: 0, 767: 933959197, 679796: 0, 11838: 325680, 10226: 6291958, 399579: 404852543, 501979: 0, 556984: 104048, 577922: 333900000, 335983: 855013954, 400160: 4700000, 373571: 386600138, 346364: 701796444, 567971: 0, 400155: 100176000, 461130: 157209, 522938: 91490353, 631939: 0, 706503: 0, 582218: 0, 581600: 0, 559937: 0, 621013: 0, 627290: 4, 340102: 43724804, 339095: 0, 526973: 0, 554022: 0, 360920: 508575295, 611914: 0, 499932: 0, 721138: 0, 383498: 741547413, 530723: 0, 193726: 7171, 333339: 582890172, 539140: 0, 345940: 530243742, 687149: 0, 672: 876688482, 346910: 160542134, 659986: 225374, 720395: 0, 675: 938212738, 22881: 309208309, 320288: 252442974, 625568: 39238300, 417466: 0, 378064: 30156463, 531219: 0, 284054: 1346739107, 481848: 107604626, 303857: 61768190, 703155: 0, 296065: 0, 605499: 0, 597156: 0, 299537: 1128276090, 691812: 0, 9666: 0, 431693: 171616764, 458897: 73279888, 575094: 1940234, 412546: 0, 297802: 1148461807, 499701: 116826172, 166428: 517526875, 12445: 1341511219, 118406: 17322136, 315635: 880166924, 9286: 117719158, 662334: 0, 743601: 0, 561974: 0, 599521: 0, 726664: 0, 287947: 363533271, 594084: 0, 141052: 657924295, 592834: 4418501, 627879: 0, 700995: 0, 652004: 0, 12444: 954305868, 293660: 783100000, 10439: 39514713, 704264: 0, 496243: 257591776, 520901: 0, 612706: 0, 578189: 0, 351286: 1303459585, 614208: 0, 552687: 0, 689249: 0, 618344: 0, 652722: 0, 75624: 0, 661677: 0, 723072: 0, 248781: 0, 9479: 75634409, 553835: 0, 423204: 146661977, 122917: 956019788, 476292: 0, 699046: 0, 14154: 0, 284053: 853977126, 14836: 124596398, 484641: 31329947, 198663: 348319861, 576393: 0, 382748: 0, 644090: 0, 359724: 225508210, 214756: 215863606, 428045: 0, 489245: 0, 484664: 0, 466622: 0, 552095: 0, 630566: 0, 431580: 179057149, 698410: 0, 335984: 259239658, 617708: 0, 623491: 0, 500916: 0, 532321: 0, 553839: 0, 509635: 0, 24428: 1519557910, 486589: 5362776, 668742: 14871307, 516052: 0, 559969: 0, 634524: 0, 480530: 214215889, 385687: 0, 49519: 587204668, 636891: 0, 512895: 0, 297762: 821847012, 449924: 0, 316727: 118587880, 19995: 2787965087, 560192: 0, 565743: 0, 530079: 0, 135397: 1671713208, 537061: 0, 309013: 0, 556901: 0, 335797: 634151679, 479455: 252608480, 338952: 653355901, 663459: 0, 529203: 0, 366170: 1015339, 666219: 0, 260513: 1242805359, 20982: 0, 11679: 71073932, 584044: 0, 466550: 0, 506574: 0, 140300: 521170825, 570269: 0, 324552: 171539887, 618353: 0, 413594: 20725409, 1683: 62771059, 158015: 89328627, 505225: 0, 659067: 0, 402900: 297718711, 324786: 175302354, 733278: 0, 531299: 0, 657561: 0, 442249: 137056262, 610290: 0, 609242: 0, 50723: 0, 674942: 0, 268896: 290061297, 259316: 809342332, 424783: 467989645, 522627: 114996853, 177572: 657827828, 614696: 13416285, 597: 2187463944, 587792: 164000, 337339: 1238764765, 427641: 426245950, 87101: 440603537, 559957: 0, 520725: 0, 646150: 0, 738542: 0, 456740: 44664690, 550440: 0, 661747: 0, 3933: 117195061, 270946: 373552094, 353081: 791017452, 574982: 2746207, 433422: 0, 396535: 87547518, 570503: 0, 50620: 829000000, 511987: 89203432, 535292: 47088457, 560044: 0, 656690: 0, 571785: 0, 664168: 0, 271110: 1153296293, 8966: 393616788, 524251: 0, 263115: 619021436, 618355: 0, 10674: 304320254, 68726: 407602906, 284052: 677700000, 260514: 383925276, 647265: 0, 131631: 752100229, 632304: 0, 109445: 1274219009, 399363: 0, 461083: 0, 472516: 0, 450465: 246941965, 638134: 0, 557: 821708551, 571891: 26654184, 475215: 27526961, 431819: 26617621, 76757: 183987723, 513045: 22799033, 342470: 0, 606856: 0, 521029: 231252591, 500840: 0, 398818: 41063475, 99861: 1405403694, 6933: 26890, 522518: 2520000, 347548: 0, 571627: 11750306, 433945: 0, 216015: 571006128, 530157: 0, 157336: 675120017, 363088: 622674139, 238636: 111928365, 509853: 3153, 610201: 21200, 615774: 0, 641790: 0, 439079: 365550119, 516632: 0, 57214: 100000000, 591237: 0, 24021: 698491347, 595172: 0, 522444: 0, 695568: 0, 22787: 17976667, 503314: 125002821, 737799: 0, 260346: 325771424, 9637: 275650703, 715387: 0, 50619: 712171856, 695596: 0, 557940: 0, 551238: 0, 610461: 0, 98566: 477200000, 480157: 0, 240832: 458863600, 1726: 585174222, 35: 527068851, 331482: 191540586, 9552: 441306145, 718100: 0, 809: 928760770, 447200: 292351275, 36728: 8084148, 56292: 694713380, 348893: 0, 504949: 0, 632632: 0, 550231: 0, 464052: 0, 500922: 0, 508664: 2078370, 447332: 340677200, 181808: 1332539889, 586334: 0, 637157: 0, 524047: 163894, 537056: 0, 80184: 0, 445030: 6000000, 462883: 0, 554596: 0, 471707: 0, 648337: 0, 293167: 566652812, 458305: 427399, 106646: 392000694, 346709: 0, 138843: 319494638, 155: 1004558444, 808: 484409218, 416194: 0, 742055: 0, 480042: 18, 168259: 1515047671, 11: 775398007, 128748: 0, 334521: 3719383, 105: 381109762, 583132: 5481562, 428078: 83672673, 599845: 0, 10012: 19294901, 483898: 0, 283995: 863756051, 280217: 190514361, 441168: 0, 553604: 5171088, 513584: 0, 537055: 0, 602411: 0, 8587: 763455561, 250574: 0, 553600: 0, 298618: 0, 378236: 216909830, 550738: 6488082, 209112: 873634919, 638566: 0, 504253: 33748006, 129: 274925095, 454983: 0, 283366: 296482446, 246655: 543934787, 95963: 0, 102382: 708962323, 269149: 1023784195, 14337: 545436, 239523: 0, 378112: 0, 723895: 0, 690369: 0, 364689: 295038508, 575446: 0, 658777: 0, 262500: 295238201, 126889: 232380243, 150540: 857611174, 296096: 207945075, 565426: 0, 585244: 0, 448441: 0, 2105: 235483004, 575813: 0, 339964: 225874228, 740985: 0, 560964: 0, 449985: 0, 343668: 410902662, 176983: 0, 311056: 0, 703745: 0, 374205: 66207073, 653247: 0, 375588: 86493046, 281338: 488533726, 76341: 378858340, 447665: 4537, 429471: 5958315, 570508: 0, 578: 470653000, 547017: 124318, 471335: 0, 585: 562816256, 61979: 0, 720998: 0, 514921: 0, 68721: 1214811252, 485811: 0, 659991: 0, 530385: 47862188, 18239: 709827462, 429351: 67131266, 336843: 288175335, 623926: 0, 550988: 0, 1930: 757930663, 583306: 0, 353486: 962102237, 514847: 8621288, 539892: 333593, 514439: 0, 586954: 4983582, 348350: 392952373, 862: 373554033, 554241: 44400000, 7342: 0, 176: 103911669, 501953: 0, 102651: 758539785, 18861: 0, 559: 890871626, 17581: 0, 716799: 0, 508763: 17643857, 337167: 368307760, 369972: 100546153, 440471: 0, 339403: 226945087, 282070: 0, 740996: 0, 424694: 894027543, 49051: 1021103568, 617: 67200000, 294254: 312296056, 8961: 273339556, 282069: 0, 390043: 176586701, 10138: 623933331, 140607: 2068223624, 507569: 0, 412383: 0, 526019: 26925979, 419704: 132807427, 91314: 1104054072, 58: 1065659812, 600348: 0, 274854: 146936910, 1091: 19629760, 136799: 346864462, 566397: 0, 364111: 0, 575447: 0, 4488: 59754601, 120: 871368364, 429422: 0, 573699: 66925842, 727959: 0, 694: 44781695, 619278: 0, 527641: 0, 582885: 0, 673544: 0, 211755: 0, 736690: 0, 385128: 0, 708362: 0, 611207: 0, 73861: 0, 465929: 0, 109418: 247022278, 716706: 0, 289239: 0, 9902: 28650575, 23202: 0, 10585: 44196684, 582596: 0, 8277: 18610260, 400535: 75836683, 399360: 35808437, 9613: 0, 259693: 320392818, 23827: 193355800, 34433: 0, 442062: 92503612, 214553: 0, 496704: 0, 339846: 177856751, 445651: 41142379, 82690: 471222889, 159824: 473226958, 257344: 243637091, 574284: 0, 254128: 473990832, 11836: 140161792, 474395: 28646544, 381749: 0, 362585: 0, 27205: 825532764, 535845: 4, 641228: 0, 518068: 112790210, 82702: 609123048, 9509: 130293714, 399402: 31672678, 549787: 0, 278924: 125729635, 425: 383257136, 190859: 542307423, 10192: 752600867, 278154: 408579038, 321612: 1263521126, 400650: 348807090, 22: 655011224, 318256: 0, 72105: 549368315, 564251: 0, 637920: 19289062, 82507: 82515113, 36557: 599045960, 72190: 531865000, 112205: 36894225, 278: 28341469, 438650: 59213931, 426543: 59522646, 707886: 0, 514593: 0, 428707: 0, 635744: 0, 300668: 43070915, 102899: 519311965, 59429: 0, 726940: 0, 154400: 19054534, 710356: 0, 863: 497366869, 182560: 208588, 500852: 15200000, 615466: 0, 205596: 233555708, 47971: 346147658, 454458: 27530241, 270303: 14674076, 857: 481840909, 504631: 0, 434245: 0, 656563: 0, 449756: 0, 615982: 0, 10195: 449326618, 390635: 15540379, 184315: 244819862, 603: 463517383, 664280: 0, 13186: 0, 329996: 215832199, 1699: 0, 11850: 24946533, 429415: 0, 533535: 0, 502425: 0, 4935: 236049757, 125509: 0, 244786: 13092000, 345887: 102084362, 227348: 86362372, 641483: 0, 405177: 0, 724475: 0, 573560: 0, 228150: 211817906, 493922: 79336821, 335988: 605425157, 68737: 114178613, 338970: 274650803, 156022: 192330738, 606625: 3551439, 220289: 102617, 38365: 271430189, 603692: 0, 245891: 88761661, 76338: 644571402, 225886: 126069509, 71552: 234989584, 18785: 469310836, 71672: 0, 9431: 5600000, 8363: 121463226, 438590: 0, 23823: 0, 381288: 278454358, 1865: 1045713802, 576379: 0, 522417: 0, 206647: 880674609, 7555: 113244290, 307081: 91709827, 527776: 0, 8392: 45000000, 529485: 14590514, 570670: 130234661, 63311: 5774854, 572751: 0, 122: 1118888979, 446894: 0, 285: 961000000, 648964: 0, 347969: 0, 592279: 0, 1724: 163712074, 393345: 0, 401478: 0, 118: 474968763, 73245: 0, 557968: 0, 424139: 253688035, 636879: 0, 57800: 877244782, 514710: 0, 374720: 525573161, 1698: 0, 647325: 0, 559519: 0, 532638: 0, 41505: 851517, 280: 520000000, 8681: 226830568, 504562: 18377736, 589885: 0, 449562: 32677774, 523077: 0, 2770: 287553595, 466272: 374251247, 431821: 0, 10193: 1066969703, 228161: 368871007, 385448: 0, 228326: 97437106, 675490: 0, 166426: 794861794, 12242: 0, 105864: 332207671, 508965: 0, 1579: 120654337, 2668: 206071502, 681711: 0, 458594: 48818723, 460399: 1822043, 305470: 142337240, 283984: 17422935, 177677: 682330139, 9502: 631744560, 565214: 0, 228165: 311594032, 576004: 0, 8275: 27500000, 623634: 0, 121: 926287400, 740794: 0, 272: 374218673, 12: 940335536, 46195: 484635760, 72571: 205703818, 76492: 358375603, 627093: 0, 68724: 286140700, 127585: 747862775, 204082: 43058898, 4247: 278019771, 546554: 309232797, 39254: 299268508, 9023: 122563539, 545330: 0, 710717: 0, 12104: 22244207, 594634: 0, 4011: 73707461, 587693: 0, 581988: 0, 13: 677387716, 561: 230884728, 593298: 0, 9373: 107071655, 572802: 0, 420426: 4001919, 635237: 0, 726285: 0, 438799: 41657844, 70981: 403170142, 49530: 173930596, 438689: 2006704, 633604: 0, 648043: 0, 49521: 668045518, 487242: 0, 617786: 0, 653615: 0, 539617: 0, 207703: 414351546, 198184: 104399548, 10166: 15360553, 653598: 0, 157350: 288747895, 2062: 623722818, 501170: 72281712, 286217: 630161890, 484510: 0, 312221: 173567581, 608813: 0, 513347: 496334, 9297: 140175006, 45243: 254455986, 315837: 169801921, 746157: 0, 137113: 370541256, 345938: 92924405, 10144: 211343479, 601980: 0, 682110: 0, 10823: 14000000, 11224: 263591415, 49018: 97009150, 950: 660998756, 119450: 710644566, 471506: 0, 23437: 115664037, 480414: 122033739, 240: 102600000, 110420: 0, 405882: 0, 521777: 72457330, 49013: 559852396, 460793: 0, 58574: 334615000, 554590: 0, 626393: 0, 500921: 0, 10191: 494878759, 218: 78371200, 172385: 500188435, 503919: 17964238, 612571: 0, 615115: 0, 525661: 53774397, 6466: 114908830, 297761: 746846894, 150689: 543514353, 10607: 0, 9725: 21722776, 549053: 121550750, 324852: 1031552585, 378108: 19496308, 268: 411348924, 637663: 0, 1771: 370569774, 109439: 362000072, 613178: 0, 645541: 0, 661950: 0, 315465: 490643, 19185: 5835247, 16907: 0, 680: 214179088, 16869: 321455689, 93456: 970761885, 615: 611899420, 57158: 958400000, 346672: 81093313, 449443: 80509622, 737568: 118666, 20352: 543513985, 600301: 0, 371370: 0, 728144: 0, 11932: 50671850, 14160: 735099082, 400136: 0, 59315: 0, 9737: 141407024, 353491: 113231078, 454615: 0, 254470: 287506194, 38757: 592461732, 399361: 0, 540247: 0, 585077: 0, 170: 85720385, 406997: 305937718, 396422: 306515884, 679: 183316455, 554908: 0, 256274: 40100000, 147441: 268031828, 250546: 257047661, 181533: 363204635, 13474: 7766240, 531454: 0, 492188: 2300000, 634649: 0, 556574: 0, 565179: 0, 41154: 624026776, 107846: 122915111, 258509: 233755553, 422803: 42880428, 205584: 150680864, 348: 104931801, 956: 397850012, 483455: 0, 9532: 53302314, 519473: 0, 617402: 0, 13161: 0, 101267: 32726956, 79082: 0, 541305: 829900, 628917: 0, 406990: 27975429, 397567: 125983972, 24752: 0, 124905: 529076069, 480857: 0, 453071: 0, 249070: 81967450, 706510: 0, 401043: 0, 587065: 521149, 401981: 151572634, 39538: 137551594, 473149: 5132274, 11470: 16951798, 454286: 5728940, 676691: 0, 619918: 0, 162: 53000000, 520720: 0, 1369: 300400432, 138103: 206172544, 505948: 643593, 49026: 1081041287, 267860: 205754447, 302946: 155160045, 194662: 103215094, 576156: 0, 24593: 0, 663: 139352633, 497: 286801374, 764: 29400000, 395991: 25754775, 166424: 167977596, 1691: 35728183, 531306: 0, 411: 745013115, 539649: 0, 347375: 66308758, 210577: 369330363, 408: 184925486, 8355: 886686817, 546230: 0, 599399: 0, 377: 25504513, 619264: 0, 460321: 0, 9792: 69623713, 536115: 0, 522162: 125641396, 39108: 0, 341013: 100014025, 60935: 28128670, 403300: 4612788, 291870: 94073028, 238: 245066411, 463821: 131457147, 62177: 538983207, 14161: 769653595, 323372: 0, 726239: 0, 447193: 0, 536869: 73515024, 497698: 0, 262504: 179246868, 606117: 0, 515001: 82468705, 357096: 0, 442065: 3364426, 743784: 0, 379291: 0, 416153: 0, 430155: 2363584, 720755: 0, 568637: 0, 26123: 5021219, 6479: 585410052, 582570: 0, 53182: 337580051, 593035: 0, 8871: 345141403, 10009: 250397798, 475210: 0, 254: 562363449, 609181: 0, 416144: 16872691, 153518: 349779543, 354556: 4803565, 111: 66023329, 8274: 0, 362584: 0, 80321: 746921274, 207768: 678604, 71676: 132563930, 10198: 270997378, 36648: 128905366, 257475: 0, 338953: 0, 403310: 0, 433249: 0, 184345: 25343661, 600: 46357676, 607: 589390539, 308531: 245623848, 139038: 60141683, 487680: 0, 587808: 0, 38055: 321885765, 351819: 21164799, 457335: 835102, 7131: 300257475, 508138: 0, 273481: 84025816, 518764: 0, 619441: 2197075, 295830: 0, 189: 39407616, 128: 159414369, 329865: 203388186, 158852: 209154322, 487083: 0, 750613: 0, 131634: 653428261, 95: 553799566, 193893: 136621271, 556678: 25155355, 608195: 178592, 43947: 572809, 98: 465361176, 49444: 631910531, 953: 542063846, 326359: 0, 12153: 113086475, 613096: 396640, 539537: 47078545, 618585: 0, 565005: 0, 428292: 0, 350: 326551094, 62211: 743559607, 9358: 90426405, 10895: 84300000, 550: 100853753, 232672: 123494610, 483906: 0, 530956: 0, 654299: 0, 8329: 32511655, 330459: 1056057273, 665251: 0, 504982: 0, 11917: 113857533, 547012: 0, 9820: 92108518, 22970: 71041255, 37724: 1108561013, 214: 163876815, 9362: 48572000, 687838: 0, 489999: 66265218, 277: 95708457, 419479: 0, 449176: 66316289, 405774: 0, 578701: 0, 10196: 318502923, 466282: 0, 10925: 14237880, 300671: 69411370, 1893: 924317558, 27582: 51070807, 27576: 293329073, 64688: 201585328, 560704: 0, 6114: 215862692, 1690: 81979826, 14001: 22217407, 242828: 34949567, 405965: 0, 265208: 0, 511679: 0, 400928: 40343446, 751254: 0, 10625: 129042871, 454467: 0, 19908: 102391540, 11970: 252712101, 32657: 226497209, 523931: 5303, 11688: 169327687, 38575: 357852395, 346648: 227300000, 955: 546388105, 10528: 524028679, 560050: 0, 664413: 9458590, 10591: 31635150, 1970: 183474602, 238615: 31807156, 44833: 303025485, 560066: 0, 491926: 7464, 106: 98267558, 11036: 115603229, 448776: 958883, 534490: 0, 7191: 170764026, 10681: 521311860, 61791: 482860185, 588: 97607453, 9378: 68467960, 454619: 91244913, 22794: 242988466, 11187: 20560255, 520541: 0, 407655: 0, 16304: 0, 75656: 351723989, 310: 484592874, 390734: 269980, 478820: 0, 954: 457731198, 4257: 178262620, 810: 798958165, 127380: 1028570889, 311324: 331957105, 55779: 157887643, 278927: 966550600, 22804: 68233629, 486131: 21360215, 748638: 0, 595671: 0, 567609: 57615777, 39101: 0, 630220: 0, 664297: 0, 487674: 0, 41630: 149228077, 515195: 88092097, 291805: 334901337, 399035: 119942387, 646332: 0, 693158: 0, 36586: 155010032, 534338: 0, 631583: 0, 567973: 6890000, 738035: 0, 109689: 0, 49021: 57777106, 633163: 0, 1368: 125212904, 653904: 0, 604: 738599701, 16871: 90810892, 406563: 167184112, 425505: 10023153, 10764: 589580482, 8273: 231449203, 9806: 631442092, 11249: 24829644, 47933: 389681935, 257445: 158162788, 332562: 433888866, 597102: 0, 215: 152925093, 374853: 0, 591629: 0, 400106: 0, 217993: 5155325, 332210: 182379278, 515789: 358772, 664850: 0, 123553: 95396573, 632587: 0, 357416: 0, 721328: 0, 544431: 0, 8456: 41627431, 420814: 99138899, 39103: 0, 10140: 415686217, 408355: 3916195, 62214: 35287788, 2048: 347234916, 4248: 141220678, 646711: 0, 409502: 2000000, 18009: 2260622, 77338: 426588510, 81188: 306941670, 581997: 0, 597219: 0, 688043: 0, 530382: 0, 297270: 0, 1422: 291465034, 73456: 0, 4348: 121147947, 78: 41473619, 440472: 111353135, 652: 497409852, 523849: 0, 482273: 0, 569094: 0, 19994: 31556061, 1885: 91077276, 91586: 0, 16910: 0, 564: 415885488, 68735: 433677183, 9291: 190320568, 62: 71923560, 1367: 85182160, 462650: 0, 16007: 27793200, 725239: 0, 419430: 255407969, 339967: 3029287, 750599: 0, 341174: 378827494, 400157: 119559110, 141: 6979093, 10065: 108047131, 274862: 123081555, 165: 332000000, 575803: 0, 298250: 102952888, 397243: 5972942, 433950: 0, 38142: 0, 10781: 51764406, 296: 435000000, 520466: 0, 590995: 0, 21208: 77912251, 277217: 0, 487672: 0, 132232: 146497771, 750597: 0, 407436: 0, 76163: 314975955, 551499: 0, 452970: 2732673, 271706: 84552250, 65: 242875078, 101: 45284974, 616251: 0, 100042: 169837010, 539: 32000000, 41439: 136150434, 440: 130290885, 1892: 572700000, 109520: 0, 290595: 164989338, 1734: 433013274, 39100: 0, 27769: 0, 280092: 104303851, 77174: 107139399, 750596: 0, 5174: 258022233, 9730: 32980880, 9732: 0, 297556: 0, 401513: 19454845, 8922: 59217789, 13002: 0, 11544: 145771527, 13183: 185258983, 686092: 0, 750601: 0, 750595: 0, 750605: 0, 750600: 0, 302699: 216972543, 8078: 162000000, 1924: 300218018, 13475: 385680446, 505379: 0, 49529: 284139100, 76617: 0, 749039: 0, 72784: 10076790, 10020: 377350553, 562: 140767956, 500475: 20545116, 50546: 214945591, 10229: 47494916, 6068: 164000000, 638507: 0, 19912: 186167139, 539651: 0, 542224: 0, 39107: 0, 522924: 33766787, 625450: 0, 82675: 376141306, 744: 356830601, 430040: 32517248, 11357: 17768757, 375794: 12421716, 9340: 61503218, 506680: 0, 12222: 297138014, 512901: 0, 27578: 274470394, 417320: 0, 1374: 300473716, 274857: 148675066, 345934: 0, 384521: 0, 8643: 144216468, 560144: 0, 136797: 203277636, 1271: 422610419, 2454: 419665568, 750616: 0, 750615: 0, 750607: 0, 750602: 0, 122906: 87100449, 397852: 1891907, 44251: 0, 359983: 0, 61927: 0, 335788: 2602149, 39104: 0, 63404: 0, 36647: 131183530, 552365: 0, 807: 327311859, 58595: 396600000, 18: 263920180, 531428: 9729987, 608649: 0, 476968: 22525668, 38: 72258126, 15016: 0, 480105: 0, 439015: 11817275, 451644: 0, 611562: 1000000, 193756: 149295601, 1927: 245360480, 507086: 0, 137106: 469160692, 269955: 0, 726887: 0, 741074: 0, 434555: 41036181, 426865: 0, 370663: 33673, 1620: 99965753, 277216: 201634991, 15165: 0, 569016: 0, 316029: 432844677, 525554: 0, 4256: 220673217, 87421: 98337295, 11186: 35763605, 608: 441818803, 18240: 317375031, 39513: 97552050, 948: 0, 855: 172989651, 423: 120072577, 171274: 14710975, 594633: 0, 100402: 714766572, 283445: 52882018, 467938: 692079, 748911: 0, 339984: 73983359, 567970: 0, 632322: 0, 137116: 197183546, 602: 817400891, 586347: 0, 149870: 117932401, 535167: 0, 534039: 0, 624808: 0, 321258: 64188367, 12092: 572000000, 611468: 0, 1895: 850000000, 2082: 80253908, 701062: 5000, 487670: 0, 439157: 0, 14164: 57497699, 1366: 117235147, 346651: 0, 681580: 0, 483980: 0, 469916: 0, 241259: 299457024, 286567: 6272403, 55301: 342695435, 13283: 0, 531503: 0, 14869: 302469017, 10661: 201596308, 101299: 847423452, 395990: 34017028, 310131: 40423945, 812: 504050219, 44943: 211819354, 28260: 54207, 544810: 0, 524216: 34265, 393135: 0, 198375: 0, 437109: 8737458, 458253: 26249469, 10992: 93375151, 264660: 36869414, 382322: 3775000, 537655: 0, 407439: 10940439, 7220: 54700105, 769: 46836394, 72331: 116471580, 686142: 0, 357786: 0, 400090: 855756, 772: 358994850, 180894: 0, 618350: 0, 1894: 649398328, 568091: 0, 514999: 0, 183011: 0, 200727: 4439431, 243688: 95437994, 391757: 0, 109428: 97542952, 9645: 68349884, 5559: 287594577, 60304: 226349749, 411088: 30000000, 531593: 0, 699570: 0, 14069: 3800000, 299687: 109906372, 589970: 0, 575769: 1292773, 396806: 0, 7980: 93621340, 509585: 0, 364: 280000000, 589972: 0, 257088: 133718711, 834: 111476513, 432130: 0, 144288: 0, 537059: 0, 1370: 189015611, 228967: 12342632, 620: 295212467, 658760: 0, 652483: 0, 748224: 0, 28178: 46749646, 268531: 125289450, 575804: 0, 496: 261572744, 164558: 0, 460648: 0, 11324: 294804195, 374195: 0, 465086: 42800000, 116711: 268426634, 253412: 203427584, 460885: 1214525, 2907: 191502426, 34004: 0, 10555: 367275019, 17654: 210819611, 552178: 13601384, 924: 102356381, 52520: 160112671, 692969: 0, 39106: 0, 30497: 30859000, 16366: 0, 6537: 78638987, 188927: 343471816, 81: 3301446, 624779: 0, 10527: 603900354, 549165: 0, 533642: 44902237, 51540: 209838559, 1255: 88489643, 509874: 0, 222935: 307166834, 752: 132511035, 44214: 329398046, 18823: 493214993, 581859: 0, 512412: 0, 419478: 27365467, 589082: 0, 109414: 126041322, 61012: 52302796, 13053: 309979994, 2109: 244386864, 10483: 76014335, 460019: 95330493, 351211: 45172994, 531380: 0, 445571: 117501013, 43074: 229147509, 263472: 6341684, 39105: 0, 13207: 91379051, 97020: 242688965, 379149: 145374099, 4564: 415252786, 712327: 0, 287590: 0, 50646: 142851197, 149: 0, 68718: 425368238, 1250: 228738393, 41513: 563749323, 185: 26589000, 550201: 0, 590854: 0, 609: 122200000, 473033: 50020902, 579792: 0, 187017: 188441614, 169: 57120318, 552532: 0, 12230: 215880014, 1417: 83258226, 424: 321365567, 3170: 267447150, 532444: 20895905, 114: 463000000, 15015: 0, 10066: 68766121, 366924: 0, 4108: 43928932, 267935: 195243411, 417859: 554987477, 1562: 65048678, 11253: 160388063, 4232: 173046663, 387893: 0, 620725: 0, 8913: 57469467, 123025: 0, 571650: 0, 10214: 0, 38234: 0, 265712: 83061158, 513421: 0, 738375: 0, 11587: 39024251, 381719: 351266433, 89: 474171806, 4258: 78378744, 605: 424988211, 36419: 3606395, 256591: 153962963, 628: 223664608, 1487: 99318987, 300368: 0, 10515: 0, 749336: 0, 586351: 0, 489: 225933435, 441316: 0, 24: 180899045, 169917: 53181600, 44874: 0, 192141: 54418872, 8920: 200804534, 73: 23875127, 599396: 0, 43347: 102820008, 588073: 0, 617782: 0, 414906: 0, 429: 25118063, 388427: 0, 585213: 0, 188161: 86410000, 12594: 0, 218454: 0, 238713: 235666219, 591: 767820459, 8247: 222231186, 203739: 15391979, 612152: 0, 9836: 384335608, 411135: 0, 630211: 0, 854: 351583407, 9325: 205843612, 690846: 0, 408647: 0, 522964: 0, 181283: 3324330, 391713: 76858273, 180: 358372926, 15070: 14946150, 19913: 60722734, 523536: 0, 525460: 0, 171823: 0, 594188: 0, 534: 371353001, 207933: 0, 116322: 0, 651378: 0, 49849: 174822325, 227159: 107670357, 10501: 76432727, 295693: 498814908, 10693: 87404651, 500: 2859750, 282035: 409231607, 399055: 194989655, 9487: 363258859, 375848: 0, 44896: 245724603, 28: 150000000, 1891: 538400000, 74: 591739379, 197158: 0, 37135: 448191819, 136795: 158674180, 927: 153083102, 6145: 91354215, 313297: 69929545, 18491: 20000000, 496349: 0, 512196: 25327500, 522212: 50401502, 20222: 0, 59440: 23057115, 59859: 60700000, 64682: 351040419, 1979: 301913131, 412157: 0, 463272: 158256993, 410685: 0, 118340: 772776600, 743299: 0, 497370: 0, 1735: 401128639, 11596: 18090181, 75780: 218340595, 206487: 4824499, 605368: 0, 10987: 15116634, 615017: 0, 75612: 286168572, 196: 244527583, 75258: 0, 258489: 356743061, 520552: 0, 9793: 0, 34134: 16441438, 25642: 0, 58431: 16374328, 929: 379014294, 498248: 0, 398978: 8000000, 509730: 36120360, 519337: 0, 9702: 0, 22843: 41162041, 350312: 275947313, 11811: 8556940, 592867: 0, 44728: 13422333, 51482: 0, 586591: 0, 232842: 0, 242582: 50300000, 77877: 99357138, 31967: 0, 351460: 0, 337170: 133511855, 13515: 72436439, 500919: 0, 500682: 0, 34584: 20158808, 11430: 0, 746047: 0, 500664: 16593554, 491418: 14700000, 584355: 0, 70006: 0, 201088: 17752940, 333622: 0, 645488: 0, 698783: 0, 300669: 159047649, 5548: 53424681, 294272: 143695338, 555974: 20311536, 529149: 0, 595464: 0, 436391: 0, 381284: 230698791, 445629: 39055536, 3980: 13167232, 533715: 0, 47964: 304654182, 748027: 0, 526050: 17399000, 340382: 0, 12429: 202404009, 223702: 140705322, 8839: 287928194, 647785: 0, 595985: 0, 1402: 307077295, 9477: 203567857, 392044: 351839303, 12536: 0, 452557: 870322670, 734267: 0, 1375: 119946358, 9470: 101434304, 472715: 0, 407650: 0, 8960: 629443428, 9029: 170000000, 23398: 443140005, 9312: 122195920, 474392: 4873825, 40700: 0, 732033: 0, 920: 461983149, 571384: 0, 1124: 109676311, 637: 229400000, 12437: 92158961, 242: 136766062, 688343: 0, 50253: 0, 5255: 310634054, 10225: 19472057, 13700: 103951461, 459992: 53847136, 17979: 325286646, 565348: 0, 9728: 36690067, 567604: 0, 290098: 37767206, 708336: 0, 751656: 0, 57165: 301970083, 13285: 0, 5175: 347325802, 607334: 0, 670: 14980005, 110415: 86758912, 665: 164000000, 34544: 177238796, 18095: 0, 4922: 333932083, 437031: 5000000, 9323: 2287714, 548473: 0, 8077: 159773545, 2667: 248639099, 21832: 0, 317952: 0, 415: 238207122, 39691: 112483764, 399174: 64241499, 11298: 17985893, 8645: 163403799, 201223: 0, 508442: 0, 575249: 0, 42246: 0, 419831: 0, 272878: 43967255, 523777: 0, 615177: 0, 520788: 0, 663124: 0, 518244: 0, 582186: 0, 472983: 0, 192577: 17137302, 57737: 0, 249164: 78874843, 381283: 44516999, 37430: 63523283, 47533: 0, 44912: 219851172, 24150: 0, 609338: 0, 567733: 20440, 514743: 0, 51739: 145570827, 20526: 400062763, 471474: 3469151, 339530: 0, 9392: 57051053, 1701: 224012234, 12155: 1025467110, 133805: 82394288, 10283: 14000000, 262841: 64493915, 117263: 161025640, 676: 449220945, 728143: 0, 343611: 162146076, 103: 28262574, 324849: 311950384, 227973: 246233113, 11361: 11642254, 490132: 319700000, 15255: 0, 196761: 0, 78192: 0, 54138: 467365246, 116149: 259207227, 454294: 32140970, 19286: 0, 19288: 0, 668343: 0, 21705: 0, 1371: 270000000, 49017: 217124280, 146216: 148100000, 718099: 0, 664184: 0, 602307: 0, 242643: 4571025, 2662: 17949758, 537739: 0, 273477: 14860766, 75629: 60487945, 37169: 252207, 121856: 240697856, 41446: 97138686, 377897: 0, 77: 39723096, 241554: 71561644, 408648: 0, 86834: 362637473, 580629: 0, 129533: 0, 755: 25836616, 599975: 48021766, 138832: 269994119, 333484: 162360636, 82695: 441809770, 659943: 0, 712110: 0, 114150: 115400000, 354857: 0, 242512: 103590271, 63: 168840000, 524348: 0, 59961: 208076205, 467824: 0, 22538: 47664559, 434757: 0, 458723: 255105930, 200085: 19775853, 664031: 0, 9335: 89083229, 1949: 84785914, 393: 152159461, 595203: 0, 71670: 0, 36955: 378882411, 34851: 127233108, 17578: 371940071, 448095: 0, 455980: 75100000, 1624: 302710615, 87428: 58058367, 44683: 0, 37710: 278731369, 76493: 179379533, 13004: 0, 9539: 1100000, 314: 82102379, 324668: 415484914, 271718: 140795793, 334074: 0, 81005: 197687603, 624484: 0, 10665: 82391145, 470878: 86026201, 368065: 0, 342473: 2351359, 879: 300854823, 87827: 609016565, 15512: 381509870, 9567: 86468162, 1268: 229736344, 555748: 0, 4233: 172363301, 9693: 70595464, 476389: 0, 45752: 0, 459910: 0, 64635: 198802074, 80278: 198087212, 465003: 0, 259072: 0, 166666: 6677474, 644: 235926552, 455207: 237994561, 9762: 114194847, 283727: 0, 345009: 1600000, 654879: 0, 467615: 0, 515743: 0, 11449: 86432000, 49047: 723192705, 4552: 0, 37799: 224920315, 564082: 0, 7485: 95696996, 630: 33754967, 72570: 196114570, 417384: 95438172, 6844: 122700000, 37834: 261930431, 1427: 132180323, 566927: 10700000, 281957: 532950503, 77931: 347434178, 9480: 179179718, 540901: 157600000, 266856: 123726688, 10891: 0, 513302: 0, 355547: 0, 869: 362211740, 264644: 35401758, 225574: 222809600, 161: 450717150, 425134: 26251899, 14574: 20416563, 300673: 52099090, 97630: 132820716, 39323: 0, 197: 210000000, 342588: 0, 565989: 0, 40662: 6629178, 558144: 0, 610643: 0, 49730: 89162162, 76589: 0, 561362: 0, 72545: 355692760, 444090: 0, 9741: 248118121, 9353: 99255460, 476669: 0, 10882: 51000000, 732472: 0, 572609: 0, 158011: 68572378, 610359: 0, 494656: 0, 356305: 118034273, 11674: 320689294, 43593: 83188165, 587496: 2993175, 661090: 0, 205775: 93920758, 544: 369884651, 616: 456758981, 347126: 23507567, 167032: 0, 49049: 41037742, 671318: 0, 10285: 15938065, 669727: 0, 1246: 155721132, 13788: 76514050, 10489: 21200000, 557635: 0, 466361: 0, 11360: 1600000, 595503: 0, 109451: 248384621, 487297: 69766483, 287948: 72629670, 413644: 46372519, 6977: 171627166, 12707: 14717854, 395: 177427090, 7443: 224834564, 547912: 1502605, 2978: 215394738, 399566: 0, 744925: 0, 9679: 237202299, 7518: 343397247, 586097: 0, 28355: 29000000, 602147: 0, 2758: 48919043, 853: 96976270, 316023: 77068246, 9738: 333535934, 11351: 63102666, 381289: 194647323, 187: 158733820, 274167: 242786137, 4951: 53478166, 245992: 0, 112454: 0, 601: 792965326, 16859: 18172849, 198901: 0, 531597: 0, 325133: 108758521, 128246: 0, 9880: 165335153, 15092: 34560577, 417261: 16367326, 401469: 73866088, 9360: 136000000, 415842: 66167951, 856: 329803958, 290764: 593683, 311: 5472914, 142: 178043761, 36202: 0, 10867: 14493284, 13523: 18755936, 241848: 2367161, 217: 786636033, 76025: 3909002, 243683: 86165646, 526051: 1119537, 476926: 0, 576784: 0, 146233: 122126687, 407451: 132675864, 10567: 354248063, 195589: 270665134, 91342: 15489307, 558: 783766341, 242546: 0, 10281: 19170001, 505600: 24849029, 9016: 109578115, 591278: 0, 6477: 361366633, 615453: 686067000, 13387: 108979549, 440021: 122637878, 439058: 0, 21407: 114000000, 609681: 0, 39102: 0, 9651: 14296438, 136835: 53830415, 1359: 34266564, 10413: 0, 88: 213893795, 156717: 0, 85: 389925971, 445954: 320705, 211672: 1156730962, 553610: 0, 323027: 0, 25018: 5765562, 168903: 0, 9543: 335154643, 82703: 272912430, 107985: 46089287, 608654: 0, 744470: 0, 557132: 0, 12162: 49230772, 272693: 43528634, 126963: 50353002, 20504: 157107755, 388045: 0, 10530: 346079773, 543540: 0, 5876: 57096190, 2123: 149270999, 290512: 62832209, 11886: 32056467, 11631: 609841637, 657: 78898765, 653392: 0, 241829: 0, 10340: 93933394, 455551: 1319566, 13448: 356613439, 716675: 0, 23566: 0, 87: 333000000, 571495: 0, 651070: 0, 249397: 2227167, 586344: 0, 437557: 94017294, 15906: 0, 9334: 165333180, 581: 424208848, 1975: 39143839, 571: 11403529, 323675: 124827316, 12244: 48428063, 58233: 160078586, 452910: 0, 10320: 161451538, 18360: 413106170, 652020: 0, 68730: 23737523, 10545: 100138851, 750160: 0, 1571: 383531464, 510: 108981275, 23483: 96188903, 1372: 170877916, 205587: 83719388, 541568: 0, 212167: 0, 296917: 0, 179538: 0, 1824: 196482882, 495193: 0, 313369: 446486224, 3594: 77566815, 37165: 264118201, 258893: 0, 627: 16491080, 23047: 91627228, 408266: 6901965, 301365: 3377430, 257091: 111811453, 10200: 233093859, 7340: 33800000, 5336: 22017, 640: 352114312, 435: 544272402, 565: 249348933, 38408: 105610124, 455839: 0, 742756: 0, 137094: 135511030, 517116: 0, 4442: 105316267, 787: 478207520, 14199: 69425966, 9444: 139804348, 9654: 176070171, 438551: 0, 258480: 40272135, 492336: 0, 370567: 87625666, 667018: 0, 375366: 0, 204342: 0, 623195: 0, 8698: 179265204, 478860: 0, 484247: 97644617, 3021: 132963417, 194: 173921954, 1585: 9644124, 175112: 20300000, 36643: 361832400, 157433: 112399944, 4032: 59489799, 16119: 0, 425336: 17535962, 14564: 83080890, 120467: 174600318, 589049: 0, 318846: 133346506, 72387: 40346186, 632251: 0, 438640: 0, 46529: 149878437, 13811: 155446362, 449574: 0, 41436: 177512032, 10947: 0, 84348: 100345, 10201: 223241637, 292011: 33904605, 9348: 113374103, 37786: 288347692, 134374: 87305549, 44826: 185770160, 747: 30332385, 76726: 145000000, 10216: 19165560, 714: 333011068, 298115: 0, 188207: 61279452, 47327: 28931401, 629: 23341568, 415214: 173000000, 34813: 23580000, 389015: 53939297, 481203: 0, 16000: 0, 74997: 0, 426: 28000000, 1635: 162949164, 521034: 889816, 24615: 0, 313943: 0, 36669: 431971116, 331781: 8413144, 387836: 0, 16996: 136267476, 8328: 150816700, 556803: 0, 284995: 0, 671577: 0, 527528: 0, 8859: 73180723, 454227: 0, 979: 792200, 658: 124881062, 680601: 0, 4643: 0, 505954: 36220872, 41233: 159291809, 10315: 46471023, 335777: 65146020, 492611: 17500000, 446021: 31882724, 32985: 19652185, 57201: 89289910, 618352: 0, 1992: 0, 316322: 0, 9804: 264218220, 324558: 0, 571265: 0, 380764: 0, 8814: 58072119, 296098: 165478348, 332567: 119100758, 345911: 148868835, 163: 362744280, 357390: 0, 9003: 14564027, 630766: 0, 14438: 33456317, 375262: 82124805, 646: 59600000, 750606: 0, 1813: 152944660, 587301: 0, 306819: 64191523, 751391: 0, 449132: 0, 45612: 147332697, 745546: 0, 9739: 159055768, 751913: 0, 9757: 159313561, 284303: 2193474, 369821: 0, 494471: 0, 55341: 0, 7551: 180557550, 669504: 0, 397422: 45056771, 582206: 7201952, 10054: 147934180, 94329: 4105187, 11281: 0, 20329: 30231200, 723860: 0, 649524: 0, 522681: 155313078, 39148: 0, 567965: 1015412, 650056: 0, 258230: 47309313, 77950: 282570682, 10999: 57500000, 366668: 0, 653601: 0, 659927: 0, 34480: 7048886, 10830: 33459416, 752611: 0, 9426: 60629159, 619106: 0, 3131: 193772504, 10112: 55675257, 741528: 0, 453201: 57076286, 361380: 0, 9823: 51376861, 699060: 0, 492719: 0, 142061: 0, 65754: 232617430, 656103: 0, 44603: 105197635, 10358: 42105111, 256835: 0, 138697: 0, 598: 30641770, 11978: 48814909, 454293: 33157615, 585083: 0, 474335: 17665000, 574894: 0, 4982: 266465037, 1364: 7640680, 603258: 0, 788: 441286195, 11284: 34872033, 539181: 302380, 748567: 0, 436931: 2401722, 928: 41482207, 23629: 89792502, 412547: 0, 405775: 1803009, 321528: 0, 14442: 0, 41498: 53000000, 6795: 64321501, 2300: 250200000, 726649: 0, 630338: 0, 17609: 791867, 62835: 60965854, 369560: 0, 720045: 0, 335360: 60330833, 12618: 74608570, 1573: 240031094, 454699: 26441892, 586863: 0, 64690: 78054825, 417644: 26800152, 80518: 7401480, 375533: 0, 550134: 0, 585311: 0, 390061: 4372130, 75174: 77278331, 587608: 0, 9714: 79082515, 29427: 54956140, 620897: 0, 323272: 67790117, 413736: 0, 8467: 247275374, 3049: 107217396, 14: 356296601, 581982: 0, 218043: 19682924, 673247: 0, 11322: 214104620, 23023: 112462508, 840: 303788635, 19287: 0, 240341: 0, 460668: 94539426, 9631: 44547681, 355506: 0, 618433: 0, 37797: 0, 710: 352194034, 9603: 56631572, 359940: 160192031, 539517: 0, 11690: 65000000, 502292: 0, 10022: 198636868, 527435: 0, 517814: 64978931, 416494: 0, 11423: 26000000, 8916: 171757863, 50544: 149542245, 504172: 174804407, 450001: 21832649, 11442: 37664855, 588009: 0, 668800: 0, 312966: 0, 7978: 0, 585530: 0, 8879: 41410568, 298312: 98450062, 256961: 107597242, 406761: 12371132, 527280: 0, 9731: 21930418, 10588: 133818283, 743229: 0, 301337: 55003890, 479626: 0, 115: 46189568, 9473: 78608288, 506072: 0, 460846: 0, 420622: 1584759, 392536: 0, 339988: 20497844, 16577: 19551067, 532620: 0, 29826: 0, 10307: 50041732, 16281: 21028755, 421792: 0, 84892: 33400000, 11247: 70067909, 673174: 0, 25475: 0, 445993: 0, 6947: 256697520, 482408: 0, 1584: 131282949, 502416: 51749995, 379170: 0, 623034: 0, 389: 1000000, 504608: 167323950, 37056: 82148538, 9928: 260696994, 484862: 0, 1572: 366101666, 9100: 24769466, 204922: 15447154, 506528: 0, 417870: 140376621, 569547: 0, 11045: 71255003, 11852: 35081550, 64686: 150962475, 627446: 120645, 127533: 61700000, 8202: 53321673, 712164: 0, 136400: 131940411, 1538: 217764291, 360605: 0, 1677: 124731534, 353616: 184724494, 729454: 0, 411143: 0, 361931: 0, 323660: 0, 452006: 0, 1593: 574480841, 744632: 0, 485942: 0, 765: 5923044, 252: 4000000, 460024: 0, 4327: 264105545, 745: 672806292, 401146: 0, 119283: 46216641, 251: 505000000, 432057: 1488577, 871: 33395426, 8009: 5900000, 66105: 0, 433: 102272727, 10010: 0, 85446: 140470746, 640696: 0, 16962: 0, 14128: 0, 12113: 113280098, 1903: 203388341, 255718: 0, 511343: 0, 717154: 0, 579: 187884007, 51828: 59389433, 792: 138530565, 10304: 0, 279254: 0, 52629: 0, 18126: 155545279, 360789: 0, 39514: 71664962, 146301: 78096553, 340945: 2158568, 2059: 347512318, 265147: 0, 419743: 0, 8358: 429632142, 412988: 27506452, 465136: 6102076, 12279: 197011982, 266647: 128388320, 627725: 0, 517412: 79603, 27850: 0, 329: 920100000, 72559: 371876278, 11069: 0, 20662: 310669540, 209964: 0, 609197: 0, 513268: 0, 207: 235860116, 554761: 9828, 531309: 32893421, 686: 171120329, 227859: 0, 576071: 0, 713649: 0, 563710: 0, 44727: 14817006, 493488: 0, 422642: 0, 487558: 48686605, 588787: 0, 111332: 0, 296524: 121790373, 117251: 205366737, 695176: 0, 17918: 0, 16418: 0, 9471: 259175788, 17101: 0, 511491: 0, 8741: 98126565, 83088: 0, 521647: 0, 355111: 0, 23631: 44093316, 13648: 0, 136418: 8352885, 73723: 348840316, 264419: 9080818, 530076: 0, 82700: 243843127, 13455: 45465299, 2567: 213719942, 446354: 179769467, 201085: 74679822, 97: 33000000, 8856: 115103979, 333596: 14394097, 16237: 0, 9257: 116643346, 628446: 0, 251519: 0, 189349: 0, 60747: 44806783, 259694: 112343513, 4234: 161834276, 537761: 0, 414: 336529144, 670328: 0, 637395: 0, 15167: 0, 10829: 0, 203696: 0, 289720: 5148503, 9273: 212385533, 335: 5321508, 438695: 0, 623958: 0, 419680: 180613180, 786: 47383689, 1995: 274703340, 37950: 48190704, 725234: 0, 524247: 25724305, 395992: 100541806, 274870: 303144152, 280002: 1169603, 41965: 241278, 340270: 0, 423988: 0, 551824: 0, 300665: 0, 668195: 0, 594718: 0, 43949: 1755212, 766: 21502976, 744964: 0, 257211: 194564672, 613722: 0, 13151: 0, 43641: 0, 431530: 130560428, 635048: 0, 401371: 0, 513691: 0, 9486: 160583018, 9837: 218613188, 301351: 11122090, 13655: 0, 372519: 37070177, 752589: 0, 15403: 0, 662687: 0, 2503: 442824138, 9381: 72108608, 9678: 0, 46169: 0, 618518: 0, 9602: 288752301, 6637: 459242249, 2756: 90000098, 538225: 0, 288158: 48854305, 309886: 6903033, 595148: 177418, 756: 83320000, 599520: 0, 449992: 0, 613099: 0, 11003: 123306987, 703145: 0, 38594: 0, 133121: 0, 567: 36764313, 51876: 161849455, 752617: 0, 580489: 0, 455236: 0, 794: 60922980, 621: 181813770, 447185: 0, 10494: 112536, 742734: 0, 637969: 0, 470114: 5805201, 553608: 0, 23168: 154026136, 34560: 0, 728209: 0, 12903: 0, 449563: 0, 554581: 0, 512936: 0, 533592: 0, 77951: 126546518, 13190: 0, 10634: 28215918, 107: 83557872, 433627: 9196740, 476299: 0, 9772: 315156409, 328387: 85241496, 293863: 65663276, 80274: 125537191, 15137: 223839, 770: 402352579, 1597: 330444045, 44729: 10494545, 818: 296655431, 734586: 0, 452773: 34156960, 273248: 155760117, 369885: 119520023, 714375: 0, 13885: 152000000, 19898: 20645327, 24420: 101344412, 483219: 0, 11618: 91188905, 346808: 133332, 544415: 0, 15157: 0, 77866: 96262212, 345915: 855888, 196254: 0, 1954: 96060858, 438747: 0, 10676: 14400000, 13179: 0, 261023: 98837872, 422641: 0, 720271: 0, 429197: 76073488, 743112: 0, 745922: 0, 93856: 18112929, 46441: 0, 382517: 0, 308266: 86234523, 41733: 211780824, 117: 76270454, 447743: 0, 576040: 0, 9339: 240685326, 242224: 10312540, 744881: 0, 699249: 0, 10159: 80916492, 118301: 0, 525696: 0, 1586: 92913171, 14405: 149281606, 10552: 0, 308529: 0, 83666: 68263166, 535265: 0, 15472: 109421911, 752605: 0, 88751: 101702060, 368940: 40075446, 9659: 8771757, 152: 139000000, 256040: 90747520, 2493: 30861665, 421658: 0, 1452: 391081192, 44667: 0, 466190: 0, 947: 69995385, 13223: 269958228, 51481: 0, 1729: 127906624, 22894: 67918658, 18198: 0, 635399: 0, 31011: 2331721, 9769: 1060056, 10386: 23159305, 539073: 0, 750585: 0, 333371: 108286421, 474764: 2679585, 50014: 216639112, 532327: 0, 10948: 29800000, 235: 52287414, 454650: 0, 487616: 0, 227719: 32248241, 10137: 300135367, 372758: 0, 8984: 214015089, 19576: 0, 335796: 81705746, 752648: 0, 746411: 0, 9801: 262500000, 8656: 349464664, 745917: 0, 65291: 0, 10292: 0, 457262: 0, 861: 261317921, 528888: 0, 122081: 31724284, 9350: 255000211, 1018: 20117339, 340837: 26559557, 3597: 125586134, 8488: 368100420, 9711: 0, 339259: 4412639, 203801: 108145109, 742737: 0, 693019: 0, 457799: 0, 330764: 0, 533514: 13777756, 64328: 165184237, 743328: 0, 10718: 46546197, 752661: 0, 573227: 0, 752641: 0, 740628: 0, 508791: 1040000, 4970: 141591324, 752669: 0, 752663: 0, 752660: 0, 752657: 0, 8909: 341432090, 1267: 169332978, 13649: 7000000, 16523: 100086793, 38167: 204594016, 1948: 42931041, 399404: 150847207, 497814: 49078000, 752633: 0, 312793: 0, 468224: 8654322, 11770: 42776760, 70: 216763646, 15575: 0, 714521: 0, 6978: 11000000, 6171: 75700000, 732721: 0, 82693: 236412453, 55846: 741875, 310593: 2000000, 9072: 101595121, 36685: 112892319, 275: 60611975, 340022: 0, 180299: 6566916, 19543: 0, 728224: 0, 391629: 0, 13459: 4496912, 508: 244931766, 726041: 0, 453: 313542341, 654580: 0, 730647: 0, 11321: 168167691, 49040: 276572938, 2112: 161626121, 484886: 0, 300803: 0, 717908: 0, 175574: 110000000, 391: 14500000, 16234: 0, 278698: 0, 752590: 0, 727404: 0, 277806: 0, 752631: 0, 752630: 0, 752625: 0, 752622: 0, 664: 494471524, 12133: 128107642, 1493: 212000000, 81796: 32204030, 1738: 76066841, 634: 281929795, 27022: 215283742, 752919: 0, 752813: 0, 746044: 0, 746025: 0, 746001: 0, 2133: 325756637, 295151: 0, 11283: 123276807, 1904: 162242962, 1089: 83531958, 32916: 0, 9383: 190213455, 25195: 29922472, 428099: 0, 387592: 53431158, 10204: 72178895, 384680: 29819114, 450873: 0, 560527: 0, 745254: 0, 365222: 156844753, 25769: 5802422, 406: 15300000, 135354: 0, 261392: 27139524, 10495: 38956288, 286548: 0, 12599: 163649270, 44918: 0, 1933: 209947037, 475220: 0, 399366: 11165901, 10028: 62646763, 2135: 123729176, 77499: 0, 446807: 35164920, 817: 312016858, 10521: 114663461, 279: 51973029, 7326: 231411584, 300681: 8100000, 745264: 0, 25565: 0, 26338: 1314053, 748670: 0, 938: 15000000, 575479: 0, 12405: 377910544, 548: 96568, 59967: 47042000, 249660: 29789000, 8055: 113019290, 245473: 0, 727618: 0, 467980: 0, 459159: 0, 10096: 96455697, 22832: 60462347, 2666: 27200316, 533: 192610372, 370172: 0, 441130: 0, 816: 67683989, 6282: 113916474, 650: 57504069, 90: 316360478, 557972: 0, 737763: 0, 1103: 50244700, 70160: 691210692, 10664: 18469680, 592128: 0, 502581: 0, 615667: 0, 18011: 0, 9919: 177371441, 733740: 0, 20943: 321682600, 32293: 0, 347413: 0, 115929: 0, 453831: 0, 752592: 0, 752649: 0, 11237: 0, 343795: 4842699, 9592: 0, 752595: 0, 745260: 0, 750140: 0, 252838: 79799880, 37686: 260095986, 752603: 0, 9268: 242295562, 39451: 310650585, 83201: 0, 752088: 0, 52449: 216197492, 602223: 0, 24831: 16000000, 752656: 0, 752654: 0, 752652: 0, 752651: 0, 752646: 0, 752635: 0, 484468: 0, 881: 243240178, 504582: 0, 4824: 159330280, 752644: 0, 592480: 0, 49520: 75450437, 745920: 0, 745919: 0, 324542: 32540674, 745249: 0, 752640: 0, 752637: 0, 752609: 0, 752607: 0, 424998: 0, 7278: 84646831, 674845: 0, 464889: 0, 9078: 22182353, 14011: 5231128, 37735: 74952305, 13830: 0, 153: 119723856, 526007: 0, 22164: 0, 402529: 44922302, 463906: 0, 9476: 117487473, 168530: 153997819, 13027: 0, 139567: 4636169, 11887: 252909177, 146: 213525736, 11451: 66002004, 27573: 136000000, 383538: 0, 7461: 151161491, 548754: 0, 345: 162091208, 533444: 1740683, 109424: 95000000, 339527: 22586863, 594: 219417255, 296864: 0, 380124: 74827344, 553962: 0, 8810: 24600832, 693: 516642939, 11619: 178120010, 8367: 390493908, 21481: 0, 598577: 0, 6023: 156835339, 399170: 48453605, 224141: 212902372, 839: 0, 813: 83453539, 44115: 35692920, 1669: 200512643, 503616: 72282227, 2501: 214034224, 76203: 187000000, 340442: 0, 76649: 117831631, 51620: 0, 1966: 167298192, 14624: 3438735, 1272: 32017803, 4638: 80573774, 9920: 31070211, 9913: 93983911, 5503: 368875760, 2675: 408247917, 241863: 0, 2024: 215294342, 22620: 0, 847: 57269863, 38939: 0, 22705: 0, 733156: 0, 505058: 9602624, 7972: 25005257, 12403: 22852638, 2698: 173000000, 316152: 25035950, 619: 411006740, 699254: 0, 25602: 194243, 15: 23217674, 341012: 9496130, 225832: 0, 1637: 350448145, 301748: 45000, 15653: 0, 571123: 0, 430474: 0, 4513: 75505973, 373879: 0, 8914: 164648142, 10246: 125728258, 13640: 0, 22824: 47709193, 403119: 44235023, 7345: 77208711, 1648: 40485039, 402331: 0, 40805: 227817248, 13688: 47301471, 1251: 68673228, 376659: 183936074, 2253: 200276000, 10810: 0, 11090: 84772742, 11621: 0, 79: 177394432, 334533: 5879736, 369196: 0, 580632: 0, 409122: 0, 120475: 0, 2270: 135560026, 3563: 187134117, 527261: 2325977, 536841: 0, 9387: 79114085, 944: 285444603, 587412: 0, 290250: 62788218, 267193: 27979040, 289: 10462500, 1281: 251212670, 20558: 0, 805: 33395426, 461928: 0, 86597: 0, 21032: 11348324, 37136: 78756177, 746412: 0, 166268: 0, 49797: 0, 277685: 62882090, 730741: 0, 9279: 129832389, 436053: 0, 277834: 690860472, 31867: 18409891, 6415: 108000000, 491480: 0, 6404: 0, 11675: 55041738, 9889: 141069860, 20441: 0, 10663: 185991646, 2502: 288500217, 5825: 71319546, 426426: 1140769, 610069: 0, 748223: 0, 45610: 2527904, 507712: 0, 8835: 141774679, 745257: 0, 745271: 0, 10796: 72700000, 1977: 38610009, 1495: 211643158, 77805: 1585582, 587272: 15894372, 461053: 0, 9955: 0, 623627: 0, 371608: 31039126, 639609: 0, 534259: 0, 9870: 105173115, 82654: 116980662, 7549: 68072848, 9313: 182968902, 11130: 95149435, 228205: 63013281, 491633: 0, 754: 245676146, 60308: 110206216, 425972: 56385, 48231: 27462041, 443297: 0, 216282: 160602194, 16221: 0, 9522: 285176741, 647: 0, 605804: 3758846, 11531: 0, 72213: 34522221, 4133: 83282296, 583: 20045115, 8204: 162839667, 506863: 2137751, 393519: 4100000, 2288: 115505027, 11007: 190212113, 380: 354825435, 575265: 0, 268690: 6300000, 193610: 196781193, 44040: 33583175, 64246: 0, 743202: 0, 608491: 0, 361743: 0, 7092: 0, 109091: 71009334, 746135: 0, 10330: 110230332, 542917: 0, 433694: 0, 11835: 16974459, 96721: 90247624, 1923: 4160851, 292280: 26667197, 431: 501818, 30061: 0, 9798: 250649836, 10228: 163644662, 698102: 483684, 196867: 133821816, 515248: 0, 25237: 168817, 10294: 35300645, 58224: 187361754, 15370: 522911, 18501: 40828540, 241239: 12007070, 19: 650422, 551804: 0, 454: 147298761, 9759: 56422687, 446791: 56996304, 11212: 16671505, 548204: 0, 33: 159157447, 97370: 5380251, 448969: 0, 100241: 76801179, 739246: 0, 207932: 220021259, 68728: 491868548, 11199: 253625427, 134597: 6842058, 29426: 0, 511322: 33856058, 429733: 0, 49524: 61648500, 535356: 0, 407887: 49196532, 4688: 29625761, 11713: 0, 8689: 0, 297708: 0, 9767: 205668210, 513389: 0, 452438: 0, 9341: 74208267, 22972: 94882889, 241843: 581011, 752852: 0, 369552: 0, 4944: 163720069, 11969: 56505065, 167073: 62076141, 795: 198685114, 402: 352927224, 276907: 42972994, 459202: 48333932, 375107: 0, 212778: 45967935, 203833: 76586316, 83090: 0, 399248: 7258534, 10202: 212874864, 262543: 0, 10923: 58795814, 10529: 7033683, 9462: 27000000, 62213: 245527149, 501907: 67760877, 492002: 0, 75: 101371017, 354279: 8751856, 9425: 14567883, 542921: 12277353, 254473: 68896829, 438674: 660132, 430354: 0, 631322: 0, 11528: 32416586, 350499: 0, 11565: 138259062, 610704: 0, 26428: 39041505, 532880: 0, 218836: 151165787, 499338: 0, 83542: 130482868, 9423: 30700000, 7446: 195702811, 9276: 40283321, 361292: 6348889, 504997: 0, 1535: 143049560, 25: 96889998, 9342: 250288523, 16235: 12534817, 409582: 7910928, 10014: 29999213, 4547: 197079546, 365942: 14793385, 551332: 232638, 9906: 55181129, 114478: 0, 9390: 273552592, 223: 6000000, 339380: 38673750, 1955: 26010864, 463116: 0, 15859: 0, 339692: 0, 167: 50315140, 9871: 0, 334541: 78988148, 57212: 177584879, 351694: 150000000, 490: 0, 10061: 42277365, 286565: 85512300, 157544: 1784763, 75735: 0, 942: 227853986, 509: 363889678, 72710: 63327201, 744738: 0, 45162: 0, 2164: 196567262, 11586: 30749142, 413362: 11942780, 449503: 0, 492: 22863596, 427900: 27020284, 16320: 38869464, 540871: 0, 5966: 178311729, 613183: 0, 527774: 0, 152601: 47351251, 11411: 19300000, 347111: 0, 466532: 0, 57089: 13521829, 111969: 81071, 37211: 0, 9355: 36230219, 2486: 249288105, 394723: 0, 2332: 60726164, 949: 187436818, 472674: 0, 1878: 10680275, 13654: 0, 545742: 0, 288985: 0, 82990: 142817992, 2310: 195735876, 563: 121214377, 1266: 65569869, 34016: 49779728, 71186: 0, 303858: 93282604, 1911: 61698899, 8975: 22165608, 19173: 0, 359412: 0, 203835: 0, 41216: 140073390, 37821: 98159963, 80389: 0, 486947: 0, 9032: 234801895, 34204: 0, 587: 123218424, 567608: 0, 601169: 0, 14003: 0, 4523: 340487652, 508101: 0, 566367: 0, 589612: 0, 354282: 0, 436951: 0, 11133: 40996665, 2207: 65664721, 409421: 0, 734278: 0, 65650: 5206, 9482: 113493481, 8068: 25405445, 346: 271842, 254904: 32556119, 340677: 0, 258193: 0, 339404: 0, 589976: 9796520, 433310: 0, 1428: 98185582, 11299: 0, 561859: 0, 1587: 10032765, 464620: 0, 4147: 181001478, 44048: 167805466, 9488: 119723358, 9352: 20796847, 11178: 0, 529981: 0, 489929: 0, 454992: 33562069, 9277: 159616327, 10727: 0, 744742: 0, 1581: 194168700, 943: 321731527, 455656: 0, 737791: 0, 398173: 5566776, 5123: 66122026, 11134: 20483423, 22947: 163670000, 11906: 2884265, 9349: 0, 9506: 195745823, 182026: 0, 395834: 44998252, 327331: 0, 317960: 0, 20453: 70000000, 6957: 109449237, 580600: 0, 321697: 34441873, 149509: 0, 42188: 9918093, 1700: 61276872, 5550: 10696210, 462104: 0, 157547: 44459951, 304023: 0, 535437: 0, 10336: 87840042, 529982: 0, 748992: 19748009, 277547: 1323415, 17165: 0, 606679: 0, 255343: 3758328, 80271: 0, 10577: 47053625, 543583: 0, 11459: 86369815, 13078: 44852, 9007: 102854431, 254320: 15656193, 309809: 97571250, 4347: 131016624, 689242: 0, 435577: 0, 401544: 0, 14254: 41624046, 727745: 0, 371638: 29820616, 941: 120207127, 324670: 0, 290637: 2160298, 16995: 87784194, 557336: 0, 9802: 335062621, 297: 142940100, 225745: 0, 14411: 80767884, 334543: 140312928, 479957: 0, 284276: 2360281, 433808: 1785977, 62764: 183018522, 59436: 151119219, 34205: 0, 2655: 291420351, 1931: 75511123, 10047: 66976317, 460790: 0, 309425: 0, 134366: 0, 168672: 251171807, 470044: 34934009, 177888: 0, 150535: 0, 44244: 0, 570352: 0, 497727: 2244848, 70074: 9489829, 319075: 0, 14863: 0, 8224: 96618699, 7840: 266000000, 401917: 0, 752340: 0, 552858: 0, 4977: 944915, 137: 70906973, 709: 156167015, 14711: 0, 546121: 0, 18487: 150166126, 19458: 0, 2157: 136159423, 23742: 55583804, 37137: 86930411, 717881: 0, 17445: 0, 40713: 44038000, 644613: 0, 1636: 90383208, 645691: 77942, 537736: 0, 377670: 0, 454291: 0, 554576: 0, 7484: 197309027, 3176: 25000000, 11216: 11990401, 9569: 47410000, 376660: 18803648, 230222: 44095996, 512343: 0, 8536: 190458706, 9598: 254134910, 8346: 368744044, 285783: 61181942, 34297: 0, 10030: 59192128, 9399: 24271196, 9336: 81198894, 1921: 65754228, 518158: 0, 622: 58401898, 11082: 18875011, 83: 54667954, 7516: 57103895, 513576: 0, 12699: 0, 472553: 0, 431075: 0, 236751: 101332962, 375183: 0, 243914: 0, 50839: 19504039, 519223: 0, 8963: 157387195, 3558: 48350205, 7552: 202026112, 303991: 4366460, 14912: 0, 239563: 54837234, 287424: 187112, 13417: 0, 10601: 121975011, 522887: 0, 455043: 0, 5176: 70016220, 38357: 58785180, 8764: 20458340, 616885: 0, 432985: 0, 9472: 167722310, 41402: 24145613, 404733: 7793, 456048: 17544173, 740746: 0, 436969: 0, 2140: 64437847, 682: 97572000, 284427: 0, 20829: 61458982, 536506: 0, 17898: 0, 338676: 0, 20760: 0, 8584: 56932305, 575264: 0, 17097: 0, 638605: 0, 390281: 0, 440941: 0, 470639: 0, 9947: 56681566, 460059: 0, 8321: 34533783, 390059: 0, 9760: 86865564, 11778: 50000000, 721482: 0, 6278: 82150183, 347688: 0, 2044: 114830111, 829: 30000000, 22803: 126690726, 2108: 51525171, 653567: 0, 730154: 0, 8967: 54674226, 118365: 0, 479040: 0, 9604: 34994648, 43960: 0, 13510: 3984669, 2277: 0, 4858: 15071514, 9495: 94000000, 610892: 10841702, 171424: 6833445, 10331: 30000000, 1265: 137587063, 1398: 0, 326284: 0, 6972: 211787511, 30431: 0, 11096: 122650962, 614560: 0, 806: 119188334, 151960: 219788712, 79316: 36433975, 632931: 0, 627394: 0, 19899: 171844840, 532893: 0, 434203: 0, 408220: 0, 653610: 0, 401600: 0, 3981: 374111707, 671909: 0, 287903: 61788393, 8619: 212011111, 104755: 1165882, 51052: 0, 10865: 186053725, 15121: 286214286, 13205: 0, 559401: 0, 9600: 173959438, 48138: 130786397, 116: 85306374, 660609: 0, 480881: 7233471, 407440: 0, 505707: 0, 150028: 0, 2034: 104876233, 42941: 0, 741882: 0, 68722: 28258060, 15601: 0, 7214: 76669806, 396493: 0, 384737: 100659, 467342: 0, 530442: 0, 2064: 182057016, 62206: 40547440, 8831: 101646581, 20533: 10539000, 461054: 0, 7453: 104478416, 87818: 32438988, 214314: 0, 819: 165615285, 2309: 62803180, 161143: 0, 46705: 16566240, 37707: 0, 286873: 0, 472424: 0, 717042: 0, 106747: 15008161, 64: 51001550, 518978: 0, 227306: 163442937, 450932: 52036, 176241: 0, 48171: 96047633, 549559: 0, 395458: 5775178, 17532: 4100000, 7299: 5359645, 387426: 0, 27: 1574623, 503619: 0, 294652: 0, 2334: 65497208, 5915: 56255142, 700: 187500000, 11824: 33086611, 8065: 69823199, 5653: 29413900, 412519: 0, 188222: 49263404, 410554: 0, 294963: 0, 109080: 0, 39324: 0, 660713: 0, 390845: 0, 343674: 0, 501395: 0, 333667: 9420546, 42360: 0, 270487: 63647656, 9655: 33889159, 18405: 32721635, 527675: 0, 152792: 0, 314365: 98690254, 284293: 43884652, 16: 40031879, 68555: 0, 3600: 40002112, 10715: 68514844, 653723: 0, 274479: 101134059, 23446: 0, 684700: 0, 568: 355237933, 602562: 0, 421285: 0, 699: 195312802, 296099: 104384188, 14609: 6700000, 967: 60000000, 14248: 30700000, 13354: 0, 1647: 101191884, 388399: 50548152, 649401: 0, 435366: 0, 27812: 0, 181886: 3396726, 382190: 0, 326: 62022014, 396371: 59284015, 433251: 0, 210860: 30418560, 2022: 171269535, 273271: 0, 493006: 101860359, 15969: 0, 15212: 0, 9896: 85498534, 170687: 108255770, 4553: 8203235, 11358: 57223890, 80035: 68267862, 605874: 0, 302666: 0, 16866: 104945765, 38157: 0, 10073: 48548426, 624956: 0, 284: 25000000, 26466: 1594955, 649523: 0, 588001: 0, 527729: 45631901, 660: 141195658, 43539: 51148651, 1278: 15121165, 72976: 275293450, 9877: 72527595, 18925: 10178331, 535581: 12104595, 9285: 119754278, 228970: 52501541, 2019: 74189677, 50321: 38992758, 11814: 38934048, 553141: 44652, 65086: 127730736, 74465: 120081841, 595875: 0, 1640: 98410061, 11238: 0, 485415: 0, 6557: 160259319, 537788: 0, 2085: 91036760, 644479: 0, 62215: 15946321, 79707: 0, 1685: 18999718, 184: 39673162, 30675: 7000000, 926: 90683916, 6038: 88323487, 542928: 0, 438145: 0, 11362: 75395048, 9778: 77516304, 393003: 0, 750612: 0, 524: 116112375, 331962: 1787926, 17111: 0, 479718: 52946454, 293768: 30718107, 11428: 30524763, 319: 12281551, 4349: 86658558, 298: 311312624, 741755: 0, 423453: 7800000, 504056: 0, 553646: 0, 449459: 0, 3602: 0, 593427: 0, 513409: 0, 433128: 0, 234004: 8821329, 245917: 0, 436459: 0, 593: 0, 582: 70000000, 345922: 41087017, 451915: 7649973, 703: 38251425, 515741: 230193, 38322: 83615414, 449755: 0, 438631: 0, 19404: 100000000, 335791: 30658387, 388: 186003591, 627518: 0, 8976: 42886719, 525: 115229890, 35019: 123276807, 4964: 219076518, 33542: 32392047, 9064: 12090735, 502166: 0, 426375: 0, 957: 38119483, 12184: 78269970, 888: 341631208, 199373: 5496951, 16052: 60000000, 43959: 47088990, 59860: 39667665, 46261: 36993168, 489939: 0, 473309: 0, 91417: 0, 544524: 0, 87502: 161772375, 6073: 147845033, 2018: 94728529, 11452: 20000000, 445962: 0, 13851: 0, 10145: 117592831, 185341: 4915757, 27581: 170432927, 13310: 10785801, 271969: 94061311, 44731: 8654110, 406052: 0, 752721: 0, 45269: 414211549, 22855: 0, 677430: 0, 353979: 22003, 768: 74558115, 101907: 0, 8843: 104155843, 527865: 0, 320048: 0, 623: 62493712, 301875: 2084628, 12163: 44703995, 527385: 0, 322: 156822020, 8836: 68369434, 748629: 0, 8457: 0, 187257: 0, 653744: 0, 529983: 323754, 56288: 85564310, 329440: 37608299, 698929: 0, 718053: 0, 667: 111584787, 483202: 0, 340666: 29252978, 498860: 0, 43923: 6491240, 515042: 21790193, 10623: 56489558, 410199: 0, 752834: 0, 560391: 7547254, 440762: 1011305, 307663: 0, 626751: 0, 79379: 0, 38745: 237382724, 643537: 0, 13680: 147880543, 129743: 0, 57876: 7556, 444513: 0, 467433: 2587072, 6312: 70752904, 6435: 46683377, 727894: 0, 11509: 0, 13809: 25739015, 463053: 0, 89636: 0, 450806: 0, 243940: 64110728, 71880: 149673788, 451925: 0, 576917: 0, 554753: 0, 526682: 0, 243: 47126295, 251768: 0, 397415: 4526, 503: 181674817, 65599: 0, 299245: 42664410, 843: 12854953, 1777: 119114517, 2898: 314178011, 14756: 21888598, 11453: 22400154, 86130: 0, 76285: 199850315, 618214: 0, 503125: 0, 433498: 0, 16337: 8025872, 9946: 211989043, 96724: 68929150, 9316: 20112926, 935: 9440272, 316873: 43000000, 44264: 252276927, 110552: 3302463, 150202: 0, 310119: 0, 295964: 36606743, 38050: 127869379, 327833: 0, 10756: 182290266, 9966: 55060212, 5236: 15785148, 1887: 60474340, 9036: 120455994, 968: 46665856, 741011: 0, 611634: 0, 9754: 82800000, 134: 71868327, 602198: 0, 407375: 0, 610253: 0, 12597: 0, 208134: 151831537, 9361: 75505856, 433630: 0, 1645: 152266007, 614: 0, 10647: 55707411, 55: 20908467, 38321: 78309131, 9493: 216614388, 9030: 56309766, 426563: 40462793, 13767: 84500122, 390054: 0, 4141: 26820641, 743439: 0, 9489: 250821495, 179826: 0, 440444: 0, 846: 189198313, 95610: 211952420, 372343: 43203413, 442056: 0, 45781: 0, 639: 92823546, 438808: 26000000, 9594: 30102717, 612: 130358911, 74018: 0, 513083: 0, 45317: 93617009, 2118: 126216940, 68: 0, 17431: 9760104, 411728: 4957273, 50456: 63782078, 33871: 0, 8271: 117760134, 282813: 16861137, 80280: 11019975, 865: 38122105, 26388: 19152480, 77016: 48126384, 658751: 0, 9922: 17626234, 10589: 61347797, 23048: 64572262, 423899: 65421267, 523139: 0, 850: 19294144, 277355: 358156, 1656: 142400065, 435841: 32783733, 220845: 0, 257346: 0, 12448: 0, 664423: 0, 399057: 2291901, 735364: 0, 13360: 0, 423108: 0, 9354: 222724172, 9008: 60289912, 273511: 0, 746350: 0, 349158: 0, 573683: 0, 239: 25000000, 384677: 0, 762: 5028948, 10069: 27105095, 302429: 13603453, 334298: 0, 748225: 0, 492253: 0, 10007: 18564467, 442094: 0, 10637: 136706683, 565716: 0, 462919: 0, 586592: 57998, 8923: 3154346, 76489: 54819301, 22537: 0, 695476: 0, 467012: 0, 308369: 0, 226857: 34077920, 10312: 202292902, 462: 256271286, 360606: 0, 417760: 0, 411221: 0, 267806: 2756, 440597: 14301505, 505642: 0, 8840: 115267375, 384798: 0, 11918: 25871834, 78049: 0, 663360: 0, 515841: 0, 8010: 15556340, 740102: 0, 28510: 875386, 400579: 15636462, 18480: 0, 511785: 0, 2026: 77944725, 609734: 0, 583209: 0, 77883: 85446075, 437626: 0, 796: 76347426, 184098: 70181428, 336560: 0, 14174: 0, 321487: 0, 16516: 0, 7451: 277448382, 638: 3675201, 514894: 0, 10327: 124914842, 13497: 57588485, 55721: 288383523, 401561: 169209, 16140: 50710400, 10423: 63513743, 2800: 88933562, 416234: 25091816, 284274: 0, 28635: 0, 11371: 113579918, 55993: 0, 179923: 0, 453755: 0, 9405: 0, 470: 60427839, 429202: 1330828, 291276: 0, 12700: 251495, 193613: 7972967, 246741: 6263224, 2832: 90259536, 9481: 151493655, 241254: 0, 1534: 30822861, 9513: 141702264, 580: 51881013, 10139: 54586584, 749051: 0, 82633: 53676580, 12095: 0, 427564: 0, 77930: 167221571, 325348: 14333790, 375355: 0, 14113: 12506188, 10753: 0, 22971: 114977104, 60405: 0, 55931: 0, 80: 15992615, 83899: 14347000, 12100: 77628265, 195590: 4811525, 310307: 24121245, 181656: 0, 2069: 106371651, 564638: 0, 346685: 173185859, 8413: 26673242, 152584: 10165694, 76487: 101758490, 37645: 0, 10761: 106407672, 421313: 0, 14114: 0, 553: 16680836, 751908: 0, 17792: 0, 209244: 0, 456154: 0, 74308: 72689, 12207: 11555430, 109421: 63372757, 439961: 0, 10866: 36642838, 984: 35976000, 1705: 8844595, 538207: 143837, 11635: 87135520, 435615: 0, 10402: 65535067, 9037: 15171476, 750500: 0, 38810: 110197, 67900: 0, 354251: 23665, 858: 227799884, 9885: 27762648, 81836: 73244881, 9593: 137298489, 556501: 0, 363676: 240797623, 96826: 0, 9366: 124909762, 489064: 0, 451156: 0, 707: 152427960, 514619: 29152618, 529962: 0, 41210: 49830607, 9327: 128769345, 517468: 4873627, 334376: 101203, 25278: 7090891, 87093: 28883511, 59108: 152930623, 668: 81974493, 34583: 0, 71: 109280263, 5689: 58853106, 9550: 92863945, 11954: 0, 169209: 3639345, 698: 210308099, 9035: 12834936, 241: 50282766, 9641: 129181830, 9428: 71441250, 122857: 1402307, 419700: 0, 297961: 0, 497984: 0, 69668: 38502340, 451: 49800000, 404378: 82703, 826: 44908000, 688303: 300, 549294: 0, 84228: 0, 447163: 0, 10306: 14144000, 304372: 60273173, 76640: 0, 396330: 0, 8393: 60000000, 402200: 0, 1696: 19246174, 347866: 0, 24100: 13555988, 109443: 173649015, 438148: 0, 337960: 0, 613: 92180910, 380111: 27305571, 914: 11000000, 86825: 12077441, 7459: 93945766, 5994: 0, 2330: 268254, 13056: 10089373, 716419: 0, 538831: 21000000, 515114: 0, 409: 231976425, 16288: 0, 705: 150438, 513223: 0, 325189: 0, 109491: 60052138, 339396: 0, 450314: 8431194, 463602: 0, 621191: 5750000, 180863: 42067430, 691: 185438673, 672761: 0, 10189: 101624843, 82881: 0, 10131: 72500000, 229756: 0, 2280: 151927281, 10897: 67308282, 1985: 82466670, 447365: 0, 62395: 0, 5851: 77741732, 724717: 0, 1900: 207515725, 421471: 327231, 67308: 0, 134126: 7339398, 157353: 103039258, 256765: 0, 14191: 23006849, 13009: 0, 9972: 22099847, 227156: 66980456, 1578: 23000000, 229297: 51029361, 14560: 183293131, 34295: 0, 472451: 7928149, 541560: 0, 421892: 0, 1280: 0, 675353: 0, 8697: 0, 302156: 14708696, 351964: 0, 470918: 0, 923: 55000000, 521935: 0, 445077: 0, 9595: 181096164, 10673: 43848069, 264999: 117813057, 455842: 0, 77459: 0, 17692: 87987055, 613090: 368430, 436274: 0, 213: 13275000, 54318: 103071443, 618346: 0, 9614: 41000000, 599: 5000000, 428125: 0, 2266: 4857367, 603055: 0, 11439: 60331447, 653735: 0, 582913: 0, 9907: 116476887, 454652: 14273033, 26389: 52826594, 10316: 76338111, 70584: 0, 321494: 0, 198277: 63464861, 1576: 102984862, 2649: 109423648, 8452: 96085477, 406994: 0, 399796: 61700416, 6950: 189859560, 752073: 0, 666751: 0, 814: 31973249, 449684: 0, 381663: 0, 13821: 0, 369299: 0, 14317: 0, 9620: 95427515, 71668: 8493728, 4961: 25480490, 340103: 0, 45139: 0, 20077: 0, 39057: 50673078, 418078: 19280931, 8292: 92374674, 596161: 0, 570735: 0, 529216: 17325485, 11615: 38955598, 744750: 0, 417678: 61621140, 94365: 16184, 13477: 43042835, 11968: 44434439, 315064: 0, 331313: 29918745, 582927: 0, 16306: 0, 554133: 0, 306947: 231737, 576712: 0, 147773: 23198652, 10025: 38159905, 10730: 90614445, 8095: 71000000, 44730: 7232965, 228066: 34227298, 660042: 0, 602545: 2514679, 16390: 0, 16290: 117224271, 297676: 0, 20455: 16600000, 13363: 0, 368031: 2400000, 33217: 76196538, 300168: 121545703, 103269: 0, 361159: 0, 26736: 0, 85350: 44349000, 9982: 314432665, 390634: 19790000, 580077: 0, 8769: 21200000, 422: 0, 293670: 47098491, 472838: 0, 4566: 92991835, 399173: 0, 11052: 29170410, 598215: 0, 514547: 0, 78383: 10000000, 354110: 0, 9667: 21733230, 8195: 70692101, 4476: 160638883, 50393: 0, 121734: 23000000, 152603: 7600000, 10991: 68411275, 7984: 65796862, 43549: 0, 14092: 0, 10085: 0, 339103: 4343227, 80585: 59418613, 441282: 0, 59962: 156974557, 41283: 23081726, 537996: 0, 463684: 0, 323665: 0, 2636: 170362582, 225565: 26049082, 710832: 0, 518755: 0, 329540: 0, 239529: 0, 11282: 23936908, 524840: 0, 9945: 0, 164457: 15400000, 737779: 0, 520576: 0, 9103: 57400547, 872: 7200000, 5: 4257354, 506815: 0, 12542: 0, 884: 0, 357397: 0, 9320: 48585416, 2294: 33788161, 591555: 0, 13374: 27645491, 87516: 5186767, 13199: 0, 10473: 0, 520900: 11620337, 276624: 0, 38057: 0, 82657: 0, 430447: 0, 8766: 16675000, 296918: 0, 14784: 3669465, 293452: 0, 115348: 13785015, 11774: 209073645, 27585: 5132850, 681: 116019547, 575100: 7478544, 458423: 395044706, 13995: 0, 3604: 27107960, 332356: 0, 46146: 4159678, 19158: 11582891, 4512: 14711793, 184314: 0, 472744: 0, 9056: 113164, 336882: 12975143, 38117: 43202283, 145135: 25174316, 564145: 0, 492414: 0, 350640: 0, 9397: 98376292, 11397: 66468332, 204: 0, 320: 113714830, 83091: 0, 546726: 0, 299551: 0, 12180: 68282844, 112949: 97594140, 464502: 34764055, 25376: 33965843, 575088: 0, 62838: 142044638, 10734: 43000000, 13597: 12729917, 10576: 34725000, 18269: 0, 49517: 80630608, 820: 205405498, 475132: 0, 674944: 0, 8867: 0, 9957: 0, 1430: 35564473, 425194: 0, 184346: 87937815, 11533: 0, 552161: 0, 411873: 0, 46429: 0, 748685: 0, 538604: 0, 32856: 216485654, 10996: 169956806, 20048: 108332743, 49494: 27122040, 3536: 127666415, 50348: 85412898, 783: 77737889, 5038: 96408652, 14410: 43051547, 2899: 111127553, 42968: 0, 333623: 21000000, 2251: 119137784, 473165: 0, 1498: 201965915, 529862: 7439448, 11008: 30112050, 144336: 22126842, 595867: 0, 9090: 47774193, 642: 102308889, 448779: 0, 2289: 173013509, 680382: 0, 376134: 0, 13353: 0, 531509: 0, 348389: 0, 30074: 0, 625248: 0, 8699: 90574188, 607259: 0, 10127: 3813293, 7520: 171504781, 398181: 10891281, 238215: 0, 11547: 30553395, 328425: 58978653, 1577: 129394835, 437291: 0, 265195: 27007072, 376866: 13960394, 459950: 0, 429300: 4230000, 390062: 0, 10222: 14697005, 10184: 178866158, 430268: 0, 335778: 46069568, 65057: 177243185, 301056: 0, 13333: 0, 383785: 254212245, 11797: 24922237, 13122: 0, 8374: 30471, 329289: 0, 277597: 0, 579245: 0, 15999: 0, 12159: 71485043, 46853: 0, 297608: 0, 199: 150000000, 222724: 0, 9070: 66000000, 661095: 0, 338: 79384880, 65215: 0, 385317: 0, 11870: 52970014, 546630: 0, 201676: 0, 412520: 0, 45772: 189712432, 9461: 0, 59: 60740827, 736148: 0, 285733: 0, 244267: 336472, 4148: 75225693, 87492: 12096300, 2292: 3151130, 14282: 0, 1934: 289317794, 494407: 23740788, 737777: 0, 11230: 0, 8738: 16647800, 86828: 6303792, 1830: 72617068, 499726: 0, 316154: 180851, 502167: 0, 248509: 0, 219247: 0, 168098: 1133031, 1523: 48027970, 152532: 55736588, 632309: 0, 49527: 46221189, 425148: 38830219, 11017: 26488734, 3050: 294456605, 429450: 30169000, 452832: 14454622, 440777: 0, 17455: 0, 23169: 56032889, 59861: 36160375, 302401: 37357216, 11637: 97918663, 606154: 0, 540158: 0, 7303: 154906693, 624899: 0, 446101: 0, 437103: 49380115, 21385: 0, 520765: 520191, 763: 242623, 589681: 0, 549422: 0, 400617: 47756590, 6075: 63848322, 9530: 87528173, 280996: 29355203, 393624: 0, 9756: 0, 296360: 14016568, 10679: 10109659, 8848: 64822796, 429174: 3925992, 14435: 102836002, 205081: 0, 20875: 0, 13683: 0, 9475: 134095253, 152760: 154984035, 426613: 2019874, 38842: 0, 237756: 0, 239459: 0, 302960: 0, 464882: 0, 12122: 0, 9531: 75850624, 239571: 35926213, 525041: 0, 359228: 0, 323262: 0, 13980: 0, 396263: 2238600, 513736: 0, 10380: 40766041, 522: 5887457, 1807: 10012022, 8007: 91753202, 79218: 0, 614205: 0, 6644: 6000000, 639250: 0, 2642: 93354918, 752675: 0, 414190: 0, 9874: 49042224, 414191: 0, 1164: 135330182, 377264: 8810591, 314095: 8574339, 444149: 0, 12088: 6739141, 514995: 0, 157386: 6854611, 12721: 4662137, 681195: 0, 292040: 1473809, 20766: 27635305, 159117: 21833, 60307: 72526996, 565839: 0, 10657: 0, 291356: 53647, 471014: 0, 9894: 102825796, 703703: 0, 35690: 0, 492190: 0, 14979: 0, 684420: 0, 523172: 22384741, 103663: 18309793, 50359: 183953723, 1592: 102616183, 452507: 0, 2114: 85131830, 253: 161777836, 66125: 0, 31417: 58656, 628450: 0, 480823: 0, 11119: 0, 1491: 87892388, 230652: 0, 270774: 58500000, 975: 0, 312831: 0, 603519: 0, 82650: 77229695, 11395: 189833357, 431742: 0, 615925: 0, 241855: 49970, 1850: 47434430, 211954: 99067206, 502406: 0, 586577: 0, 19457: 0, 227783: 122529966, 11683: 46770602, 11529: 180622424, 21956: 0, 282984: 27391084, 379: 5080409, 28665: 0, 2976: 90450008, 435601: 0, 12589: 80936232, 11236: 0, 963: 1772000, 4614: 193921372, 116776: 0, 22683: 0, 295595: 0, 119569: 0, 425909: 0, 23082: 31912793, 9424: 17507368, 270771: 0, 109410: 95020213, 13836: 106303988, 35558: 0, 28468: 0, 286532: 0, 10045: 9584131, 551758: 0, 72431: 50365377, 11820: 0, 522478: 0, 60670: 0, 9963: 84146832, 4995: 43101594, 283601: 0, 13971: 21972336, 338766: 37589296, 78215: 704, 423612: 4831836, 58244: 8106475, 661227: 0, 10033: 50817508, 10351: 15719109, 496967: 0, 399131: 0, 201: 67312826, 9384: 170268750, 413440: 0, 5549: 45681173, 12481: 0, 2789: 115772733, 7735: 19000000, 64831: 0, 13647: 0, 414419: 0, 489430: 0, 678580: 0, 522039: 2975184, 519010: 28747837, 627133: 0, 1621: 90404800, 2293: 2122561, 47931: 63027681, 166076: 2915767, 9954: 37597471, 266294: 105011053, 87826: 73100172, 1245: 23237911, 801: 123922370, 417047: 0, 137093: 134402450, 412105: 0, 10027: 50871113, 351962: 0, 12211: 15843608, 24528: 0, 2255: 12021272, 1391: 33616692, 244: 10000000, 44725: 13107237, 1832: 30652890, 584427: 0, 312526: 0, 590: 41597830, 50270: 0, 71859: 10765283, 467632: 3435047, 9788: 38505009, 427214: 0, 16690: 109862682, 10610: 0, 566222: 0, 9599: 8247943, 664416: 0, 616584: 359377, 160588: 99206215, 462115: 151493, 35056: 152263880, 10361: 0, 105965: 0, 6519: 110803676, 747349: 0, 64202: 0, 3082: 8500000, 426814: 0, 16325: 2186782, 347754: 0, 1649: 0, 418879: 0, 153509: 0, 747968: 20, 396461: 2053469, 376867: 65046687, 11879: 0, 64689: 37930465, 653569: 0, 10110: 66700000, 9696: 0, 752939: 0, 13335: 43493123, 25364: 1300000, 497859: 0, 263341: 0, 17681: 0, 275601: 41325328, 367326: 0, 55292: 33662874, 15276: 0, 630215: 0, 528761: 0, 140823: 112544580, 395841: 0, 651534: 0, 492621: 0, 19277: 0, 16617: 21148829, 10466: 54999651, 126172: 0, 77987: 10337387, 18736: 55534455, 746410: 0, 37094: 40903593, 1598: 182300000, 19959: 122444772, 82682: 105200903, 36670: 160000000, 444485: 0, 478159: 0, 37233: 270248367, 11081: 65470529, 134375: 0, 452015: 0, 9359: 183031272, 354861: 25601244, 600991: 0, 542417: 0, 53985: 0, 431185: 0, 367206: 0, 301608: 0, 13537: 2944752, 410314: 0, 146198: 12639297, 219572: 81170000, 77949: 209696, 690596: 0, 526426: 0, 376290: 9101546, 1996: 160099222, 446829: 0, 205220: 100129872, 520679: 0, 520318: 0, 12090: 101564935, 675592: 0, 3638: 92601050, 109431: 173965010, 387: 85000000, 11026: 78000586, 10998: 320145693, 10134: 10166459, 744013: 0, 347642: 0, 633761: 0, 205567: 0, 652754: 0, 284564: 779820, 14462: 96105964, 3509: 7659918, 7985: 21156270, 14306: 242717113, 491283: 38981322, 13394: 0, 60243: 24426169, 489988: 1041955, 10877: 79958599, 310135: 67132, 44865: 64076736, 10186: 8762890, 571117: 0, 129670: 17654912, 10160: 22168359, 535308: 0, 2787: 53187659, 377448: 0, 508720: 0, 455108: 1824902, 10719: 173398518, 510298: 592565, 59965: 82087155, 71689: 0, 782: 12532777, 10220: 22921898, 11979: 45479110, 493100: 0, 2610: 11588205, 14158: 0, 225145: 0, 9576: 177200000, 257440: 21256, 10314: 103166989, 20: 9726954, 397837: 12141122, 5925: 11744471, 504: 60378584, 24122: 21791288, 440161: 13143056, 330483: 18730891, 9374: 149022650, 7304: 9500000, 318781: 3621046, 565307: 309776, 14047: 30226144, 38317: 169852759, 334536: 19980, 11172: 145896422, 488113: 0, 351044: 12780692, 477018: 0, 383140: 0, 450489: 0, 382399: 53447, 244761: 1075178, 13377: 0, 467956: 0, 15373: 92380927, 1547: 32222567, 369557: 13624522, 88794: 84606030, 16761: 0, 753462: 0, 753450: 0, 753272: 0, 753230: 0, 745940: 0, 8398: 25399945, 153158: 34061097, 9255: 133752825, 9691: 30303072, 640146: 0, 11845: 0, 689723: 0, 70436: 29657751, 7341: 17762705, 176812: 0, 9992: 107944236, 515333: 0, 413052: 0, 81900: 0, 11153: 61399552, 2313: 0, 644435: 0, 345920: 88528280, 339060: 0, 340104: 0, 481375: 0, 65759: 150406466, 9377: 70136369, 509733: 3882729, 183662: 0, 622855: 0, 362703: 0, 12142: 10442808, 697039: 0, 354287: 0, 13355: 0, 751160: 0, 11024: 181466833, 326425: 16775, 10493: 7825000, 8872: 183097323, 1213: 128798265, 12253: 23510601, 19918: 12032983, 10559: 68106245, 548066: 0, 14611: 0, 394830: 6554322, 1646: 43095175, 12508: 16991902, 21316: 0, 416148: 0, 65055: 10126458, 37247: 104945305, 9388: 24793509, 121824: 0, 64685: 55247881, 13989: 0, 262338: 0, 89492: 88058786, 281: 7959291, 74406: 0, 8005: 35739755, 574207: 0, 13600: 17869048, 1907: 144056873, 334: 48451803, 2405: 0, 12309: 38435947, 13012: 0, 293970: 0, 14613: 3800000, 13486: 0, 611751: 0, 180948: 0, 10357: 122823468, 13576: 261200000, 37757: 0, 10906: 17092453, 9408: 149044513, 625561: 0, 9429: 30331165, 15648: 0, 1092: 596349, 391698: 12283800, 16367: 9950133, 44629: 1000000, 10329: 152022101, 3093: 38629478, 2757: 32801173, 482981: 0, 737737: 0, 539531: 0, 2179: 13405595, 331583: 0, 291167: 0, 525946: 0, 374771: 0, 9073: 0, 9619: 178127760, 213681: 29200000, 458353: 0, 510388: 0, 200: 118000000, 655977: 0, 132363: 115922175, 746605: 0, 40171: 0, 2067: 60874615, 15854: 0, 164: 9500000, 824: 179213434, 686941: 0, 11152: 22700000, 416477: 56303596, 11127: 0, 1991: 30207393, 256962: 6485961, 747827: 0, 421: 34808403, 19840: 15345201, 536743: 46597100, 16072: 12923936, 12201: 81126522, 13460: 22211426, 9800: 206678440, 10035: 0, 347984: 0, 8011: 36800000, 17130: 61141030, 458578: 0, 11665: 230685453, 283317: 0, 115210: 95000, 750972: 0, 10013: 41382841, 284289: 45895, 51248: 0, 22371: 0, 330947: 1710528, 545143: 0, 19585: 292817841, 418437: 17768012, 10617: 3826459, 10431: 40452643, 465914: 20572691, 298016: 0, 743469: 0, 119892: 0, 15657: 0, 7457: 15309302, 464742: 0, 68727: 24261569, 696: 39946780, 715235: 0, 564898: 0, 14202: 26910847, 347031: 4210454, 40264: 80547866, 9681: 37691644, 360249: 0, 68734: 232324128, 12096: 158851357, 205: 38000000, 9671: 328203506, 5820: 78810595, 11001: 117758500, 38541: 22000, 339419: 8996802, 21683: 0, 574241: 8600192, 115290: 0, 531438: 0, 231: 93974620, 10008: 29612137, 8390: 55447968, 13350: 0, 2657: 0, 8386: 31155435, 14359: 50907234, 327418: 0, 601313: 0, 242310: 0, 561325: 0, 534928: 0, 336004: 4100000, 333669: 14397593, 2046: 12008642, 69: 186438883, 250538: 3396345, 244403: 58293, 11092: 221303188, 269795: 3945729, 13673: 0, 301804: 3295624, 473: 3221152, 619090: 158443, 13596: 36620508, 336455: 551760, 373569: 60845711, 138038: 0, 16353: 8936663, 17134: 17280326, 487476: 0, 866: 116766556, 178809: 0, 9315: 223387299, 8090: 52659594, 507505: 10452324, 505904: 0, 467673: 0, 451997: 0, 503902: 0, 331061: 0, 212168: 0, 596054: 0, 24238: 1725381, 532024: 0, 71469: 64626786, 10982: 51053787, 51880: 0, 192102: 52597999, 23172: 45236543, 12212: 38574362, 360814: 310000000, 195483: 0, 119321: 0, 13690: 8700000, 1541: 45361000, 467248: 0, 1574: 306776732, 744926: 0, 10249: 62000000, 420245: 0, 624620: 0, 38780: 0, 13051: 85416905, 485337: 0, 526896: 0, 244566: 88273, 239573: 14431253, 210479: 4635300, 696374: 0, 283378: 0, 1634: 153698625, 636698: 0, 1817: 97837138, 11252: 37141130, 428449: 1596371, 508642: 0, 432383: 0, 10957: 21288692, 10474: 2381087, 399121: 0, 467988: 0, 44982: 3317662, 263109: 106209378, 12094: 72778712, 9326: 86572238, 5156: 361712, 10907: 0, 9816: 91038276, 9708: 38755073, 429200: 3283369, 1360: 56298474, 3595: 309492681, 102362: 18074539, 140870: 30000000, 463257: 0, 654: 9600000, 9474: 0, 507441: 0, 996: 2500000, 253295: 0, 228968: 2633527, 431072: 0, 467660: 14293601, 293: 43440294, 568467: 0, 469877: 0, 76544: 2054941, 18947: 36348784, 82: 163794509, 119698: 0, 59115: 0, 360055: 0, 72358: 22044277, 441384: 4554065, 16456: 0, 10579: 0, 127493: 2106557, 381028: 0, 1499: 42273609, 80295: 0, 150023: 0, 1786: 0, 16780: 185898, 10590: 114660784, 1537: 94935764, 438970: 0, 13492: 0, 14906: 1135000, 415749: 0, 276905: 17062499, 326423: 55030051, 115782: 35931410, 314405: 0, 9021: 172842355, 9009: 25473093, 42297: 89519773, 13252: 0, 435995: 0, 439059: 0, 180147: 0, 738967: 0, 10861: 51702483, 441701: 0, 428493: 2559939, 63710: 0, 248574: 6075, 11542: 19853892, 9293: 41009669, 323676: 78636257, 15655: 45554533, 9950: 2636637, 493551: 17506878, 626744: 0, 11645: 11859533, 296626: 0, 292177: 0, 437193: 0, 3512: 104324083, 11058: 30120671, 42888: 48668907, 10774: 23689877, 666397: 0, 604945: 0, 407531: 0, 65851: 0, 107811: 48065672, 620824: 0, 77234: 0, 332283: 0, 392681: 0, 12620: 70442940, 10070: 658573, 574861: 0, 10779: 29359216, 390989: 0, 10518: 21709020, 3036: 112006296, 593059: 0, 260234: 0, 274109: 0, 485774: 0, 10400: 73956241, 751840: 0, 594290: 0, 98567: 0, 14012: 21000000, 845: 7000000, 10762: 69631118, 592230: 0, 241258: 6341855, 1607: 17287898, 360784: 0, 42684: 66984887, 11460: 57891803, 333357: 0, 484901: 0, 29917: 0, 34653: 24964890, 538362: 0, 216769: 0, 413658: 0, 10313: 68729358, 7512: 495303, 18781: 77527732, 40205: 0, 12160: 25052000, 11258: 19870567, 4836: 11850214, 116745: 188133322, 93837: 0, 3034: 86273333, 88005: 9636289, 11011: 0, 2100: 27642707, 12149: 17423030, 39145: 0, 8982: 27165581, 290: 6153939, 33613: 43498108, 234284: 0, 2119: 157920733, 12783: 43306325, 12110: 0, 39486: 60251371, 407448: 23355100, 611873: 0, 222461: 0, 841: 30925690, 14324: 5410749, 11159: 13417292, 1544: 2455831, 744746: 0, 49022: 65090821, 3132: 65977295, 123: 30471420, 668704: 0, 100271: 6748712, 20649: 13071518, 495151: 0, 400710: 45158254, 218746: 0, 793: 8551228, 10040: 101393569, 388764: 0, 222936: 26250020, 12702: 0, 297558: 0, 326215: 769028, 16614: 17164377, 499088: 0, 10461: 19412993, 485371: 0, 582873: 1681545, 14444: 100491683, 14365: 7775138, 11589: 5200000, 545572: 0, 749446: 0, 650783: 0, 365995: 0, 470229: 0, 13812: 40855419, 28211: 11808880, 271714: 28641776, 296100: 52395996, 291270: 5659286, 451751: 237708, 25961: 42538454, 266285: 42070000, 4517: 74237563, 103332: 9128263, 394117: 11303040, 243684: 461162, 235260: 67800064, 340674: 0, 41308: 0, 9763: 27610873, 4689: 1954937, 593280: 0, 202575: 64197205, 1542: 10827810, 259611: 0, 575222: 0, 371645: 23200000, 504599: 0, 11231: 15826984, 324560: 0, 513730: 0, 402897: 24640027, 290751: 34854990, 476631: 0, 426284: 150532, 711017: 0, 6069: 63766510, 9529: 25792310, 227707: 6399, 50698: 0, 2977: 37311672, 832: 0, 470333: 2115765, 712246: 0, 33909: 134748021, 15567: 0, 10471: 59827328, 22825: 33333531, 13313: 0, 178682: 0, 19124: 2692037, 12500: 10499694, 10199: 86947965, 13376: 23833131, 476678: 0, 409164: 0, 63492: 30426096, 334517: 0, 49852: 17177993, 254375: 1124445, 8952: 20722843, 50022: 18850674, 369698: 0, 10586: 38619405, 2252: 56106607, 752869: 0, 134411: 42930462, 483983: 0, 7347: 14759148, 9705: 147080413, 4474: 60896147, 220286: 0, 581420: 0, 12610: 13596911, 9208: 150270147, 443463: 0, 30018: 17112713, 381693: 0, 471859: 0, 41515: 201584141, 65218: 0, 614722: 0, 2830: 0, 8337: 13008928, 428836: 242115, 376570: 0, 42194: 967000, 152737: 74188937, 10060: 46442528, 587429: 0, 29993: 11500000, 653: 0, 728773: 0, 14976: 0, 152259: 1034589, 33196: 71641901, 5879: 0, 551808: 18529730, 86829: 32935319, 382602: 8992523, 11868: 0, 333352: 18704595, 664474: 0, 127867: 0, 8997: 0, 4538: 24377151, 460316: 0, 398175: 0, 168705: 2405420, 209901: 1675381, 10063: 1675484, 412924: 226286, 199153: 0, 2652: 7022209, 24795: 50236831, 8870: 33463969, 417643: 217427, 573632: 0, 7233: 16809014, 1497: 78656813, 505423: 0, 434355: 0, 11198: 0, 10366: 10667893, 4723: 374743, 290864: 129115, 520596: 0, 9457: 11203026, 401905: 0, 2122: 26155781, 706716: 0, 56903: 0, 83770: 8784318, 10429: 0, 1730: 849055, 10206: 16624456, 81003: 0, 500284: 0, 374781: 0, 423949: 0, 553301: 0, 539064: 0, 9879: 113309743, 739214: 0, 11013: 9304609, 382614: 4596705, 2291: 25965144, 47626: 0, 595149: 0, 11031: 4736202, 639832: 0, 11569: 12534961, 7288: 19322135, 11046: 21000000, 804: 12000000, 385360: 0, 151535: 0, 11208: 13001257, 3432: 41637263, 459258: 0, 10393: 50054511, 744931: 0, 9978: 23937870, 491584: 6591038, 26022: 42345360, 593691: 0, 6589: 65270477, 4978: 84542002, 1687: 12348905, 1362: 0, 437620: 0, 11317: 0, 586461: 0, 9952: 7177143, 9722: 131426169, 417812: 3097257, 87567: 21819348, 8051: 24665649, 456750: 0, 436373: 0, 410718: 0, 9463: 0, 86703: 0, 376228: 0, 15144: 23686027, 9815: 7864905, 11368: 3851855, 10782: 42792561, 448449: 0, 403605: 0, 287084: 0, 411802: 0, 443700: 0, 378385: 0, 17466: 16853487, 403: 145793296, 97367: 35485608, 84199: 22836, 11431: 0, 2268: 372234864, 507256: 1251945, 374617: 35000, 93828: 9747, 453395: 0, 8470: 102244770, 50838: 8020, 22821: 10629321, 41592: 18144030, 719643: 0, 62459: 0, 353595: 0, 11545: 17096053, 401104: 0, 71883: 0, 11902: 0, 4771: 34619699, 250734: 30229977, 438: 0, 901: 19181, 532671: 21150265, 24056: 0, 174772: 0, 11469: 33422806, 10428: 7563728, 69735: 0, 21348: 0, 39144: 0, 417830: 40120144, 9904: 37384046, 401847: 8586944, 75674: 81272766, 49526: 31083599, 11708: 0, 24684: 26096852, 673118: 0, 338928: 2642899, 271708: 0, 297291: 0, 616558: 0, 70670: 18962444, 432976: 0, 698940: 0, 44571: 2000371, 903: 16217773, 11329: 80154140, 14024: 14867514, 11170: 43545364, 5137: 57958696, 921: 108539911, 329981: 13082071, 467062: 0, 25472: 0, 553512: 20, 10748: 0, 315620: 0, 8978: 35294470, 12118: 43579163, 3989: 50907422, 12182: 33556631, 10024: 95714875, 364375: 0, 791: 46201432, 257087: 0, 9560: 50012507, 49012: 45735397, 15789: 35348597, 529414: 0, 2671: 8690429, 14873: 135680000, 132344: 11176469, 257874: 0, 449664: 0, 438455: 0, 12144: 84460846, 4379: 154749918, 24099: 12145169, 150: 78868508, 346401: 0, 22586: 9771658, 11974: 49101993, 104859: 0, 2320: 121969216, 9610: 31042035, 313922: 3220371, 170522: 42830578, 3035: 12000000, 8676: 111231041, 7219: 0, 394741: 0, 611291: 24, 37958: 226904017, 24253: 67126795, 126337: 0, 11169: 8112712, 1825: 16057580, 229407: 0, 488623: 9900000, 359790: 16458, 334524: 14880939, 41280: 26279000, 603320: 0, 14636: 8642858, 82525: 82966152, 9675: 109502303, 611213: 0, 52451: 132274484, 148918: 0, 20544: 0, 575428: 0, 429476: 0, 8054: 64352607, 360365: 17000172, 205588: 9930095, 159092: 0, 11973: 34566746, 14872: 0, 152742: 19255873, 6877: 128406887, 128883: 0, 14295: 0, 11260: 50650079, 68817: 63543328, 508632: 0, 299824: 278300000, 155084: 13809, 889: 59468275, 505192: 0, 22954: 122233971, 12165: 0, 127560: 22320893, 2023: 108103450, 397873: 0, 25196: 47405566, 36593: 51132598, 15919: 3000000, 11859: 11534477, 224903: 92100, 4959: 60161391, 464685: 0, 6279: 57319029, 259695: 22678555, 370665: 61000000, 11246: 0, 12556: 102223269, 555249: 0, 157424: 0, 96: 299965036, 257785: 3425664, 111479: 40400, 21755: 5530764, 465109: 0, 46420: 0, 186759: 0, 49009: 20348249, 613377: 0, 10603: 174463257, 9081: 3176880, 2362: 0, 473019: 1036737, 295011: 0, 242095: 2665322, 259956: 0, 15359: 0, 241257: 17671101, 11649: 17336370, 353069: 48782670, 75900: 35057696, 74513: 3424648, 589533: 0, 20410: 0, 472734: 0, 9038: 127766650, 8965: 0, 506554: 0, 632666: 0, 326285: 0, 111083: 0, 13466: 34698685, 413998: 9200168, 169881: 57284237, 269173: 0, 9396: 239606210, 289712: 0, 499566: 0, 24803: 129540499, 146238: 62616646, 158916: 0, 1444: 0, 689243: 0, 284536: 39171130, 215830: 0, 11707: 48143579, 10549: 0, 589978: 0, 440918: 0, 538751: 0, 48988: 86157237, 550273: 0, 9270: 3919254, 16258: 0, 303: 24464742, 11120: 14302779, 637113: 0, 397538: 16657800, 354859: 0, 38093: 21520719, 433502: 0, 10596: 0, 8489: 87713825, 243938: 12314651, 43920: 430041, 7839: 0, 10735: 50732139, 353569: 5042014, 922: 103800000, 6964: 266728738, 565310: 22110994, 246355: 0, 83686: 13231461, 147: 0, 496450: 0, 489925: 13539709, 88424: 0, 520946: 0, 38684: 34710627, 378: 29180280, 67913: 19560274, 10851: 6700000, 522098: 437050, 9833: 154648887, 1273: 95608995, 587986: 0, 12106: 18636537, 505914: 0, 203834: 23456897, 39939: 18492362, 28874: 80768, 15037: 25605015, 424488: 13406883, 2447: 0, 71864: 56012642, 5375: 97838349, 692233: 0, 233063: 0, 74078: 0, 335462: 80000000, 401: 26781723, 276843: 1289998, 673175: 0, 10706: 0, 431112: 0, 227738: 0, 32909: 13380561, 797: 0, 520777: 0, 639247: 0, 130150: 20275812, 572468: 0, 479: 107196498, 654028: 0, 399019: 27397655, 581791: 0, 1580: 2200000, 588709: 0, 460071: 678102, 14326: 84375061, 259018: 0, 732170: 0, 332502: 0, 81250: 0, 13435: 23367586, 9616: 11560806, 566213: 1133735, 265177: 3494070, 33320: 0, 10141: 42039085, 437586: 6897446, 381890: 553810228, 397722: 2830775, 13994: 2945242, 192: 7153487, 15035: 760883, 726779: 0, 372782: 0, 9664: 17834865, 438553: 0, 484437: 3373474, 17473: 1752988, 595: 13129846, 239678: 41296320, 71688: 115890699, 21519: 0, 351339: 4600000, 7364: 119269486, 18843: 0, 11692: 7103973, 173185: 0, 256917: 15520023, 118737: 0, 718400: 0, 353686: 0, 37588: 0, 744174: 0, 306964: 416792, 228194: 88880821, 421473: 21712, 355338: 0, 708: 191185897, 509598: 0, 12819: 50500000, 10303: 96773200, 36362: 14483352, 1262: 53653224, 6473: 0, 348678: 3371692, 246464: 0, 9929: 0, 602211: 0, 566368: 0, 395925: 0, 10074: 14334401, 463364: 0, 515411: 0, 9918: 42647449, 52304: 0, 9042: 15007991, 702: 8000000, 653729: 0, 97787: 0, 28609: 0, 598133: 0, 33645: 0, 254263: 0, 434714: 0, 4551: 95226116, 457840: 0, 521: 3000000, 259910: 0, 268920: 51680201, 46828: 2438031, 39228: 0, 13803: 0, 54518: 98441954, 43919: 156190, 52850: 0, 25239: 0, 10990: 11526099, 13382: 0, 360404: 0, 407890: 2455027, 553002: 0, 495843: 0, 401200: 0, 238603: 45300000, 480572: 87465, 15196: 14643997, 494031: 0, 500899: 386166, 41382: 0, 525657: 0, 449406: 0, 228203: 45710059, 179144: 24164400, 11059: 13818181, 701684: 0, 4641: 0, 288287: 0, 487186: 0, 422153: 0, 2614: 25893810, 9443: 58972904, 55787: 117094902, 55215: 0, 40229: 10604986, 12795: 745327, 438660: 0, 328111: 875457937, 19766: 0, 671812: 0, 1883: 48169908, 376865: 2133033, 702770: 0, 235271: 0, 11359: 0, 2786: 0, 415010: 0, 46503: 0, 14197: 0, 3682: 16757163, 366696: 0, 15356: 0, 24418: 28169671, 276488: 0, 471515: 0, 603651: 0, 483104: 0, 6575: 18317151, 103731: 21587700, 94348: 30353232, 63197: 0, 284296: 25434291, 272692: 0, 20235: 0, 7211: 68377859, 12657: 14822346, 8869: 45867333, 20771: 0, 10592: 32287044, 413471: 0, 14299: 8880045, 506410: 0, 13682: 52900000, 475: 50700000, 513386: 3186721, 605255: 0, 528985: 0, 298584: 0, 619985: 0, 429417: 135095, 10775: 8708932, 579400: 0, 492282: 0, 59981: 18662027, 318121: 0, 12619: 0, 11576: 60000000, 81440: 0, 16558: 78146652, 50087: 0, 374473: 15793051, 245168: 16002420, 169219: 0, 10771: 104391623, 242606: 0, 426272: 2583, 527791: 0, 11884: 28733290, 10605: 0, 226486: 100525432, 12763: 65742992, 245916: 5218973, 8066: 8342132, 14536: 29010817, 8316: 0, 74998: 14089528, 616982: 0, 11878: 0, 468: 6401336, 359628: 0, 291413: 0, 2539: 55041367, 1396: 48841, 711705: 0, 614198: 0, 297160: 30911, 9441: 159710793, 14140: 0, 13465: 0, 33005: 0, 12225: 2294291, 867: 116300000, 74643: 133432856, 750608: 0, 10481: 183611771, 408567: 0, 11005: 52096475, 48340: 108609310, 448432: 0, 7350: 175372502, 736759: 0, 498743: 0, 333674: 0, 267192: 5681622, 87825: 0, 586595: 6713, 192911: 0, 174188: 0, 11808: 102367405, 83533: 0, 77875: 0, 15708: 819939, 175: 0, 76812: 0, 582607: 0, 305943: 0, 11931: 83073883, 750598: 0, 257345: 10898293, 9571: 7993039, 744927: 0, 523773: 0, 9557: 8586376, 328901: 2159380, 11023: 4601043, 398177: 6069605, 271467: 0, 23367: 12225023, 51162: 14460000, 67660: 96070507, 11009: 237113184, 9490: 17460020, 325346: 1016985, 27621: 0, 8270: 5367030, 155217: 0, 560362: 0, 11340: 0, 493058: 0, 253626: 316472, 11775: 119940815, 690181: 0, 830: 3250000, 14367: 34368475, 84226: 0, 14034: 32095318, 877: 600000, 10908: 0, 58767: 0, 255798: 0, 38073: 42045846, 70578: 9612469, 245: 129000000, 352492: 0, 642885: 0, 353070: 84618541, 468202: 0, 12139: 117270765, 43552: 1068682, 9012: 64282312, 58857: 17555141, 25748: 6980986, 72113: 30722632, 75948: 0, 615665: 0, 653522: 0, 508822: 0, 474354: 0, 582247: 0, 743032: 0, 426285: 0, 39013: 13831503, 2383: 138241022, 1443: 10409377, 297806: 1646788, 750578: 0, 572628: 0, 244506: 59744, 505026: 0, 2312: 0, 433356: 413844, 392207: 0, 270007: 0, 3175: 20000000, 14919: 5617391, 608994: 0, 10950: 92542418, 9398: 60780981, 507076: 0, 12140: 9789651, 531949: 0, 602609: 0, 431259: 0, 51608: 43059790, 10564: 33771174, 187596: 59209, 51017: 53213633, 14144: 18197398, 13483: 14373825, 421447: 0, 23488: 4706919, 8285: 39031337, 372761: 361950, 455650: 0, 79694: 9627492, 10317: 7002261, 363111: 0, 135812: 0, 10133: 0, 3683: 65900249, 463843: 0, 434119: 56100000, 13934: 0, 616037: 0, 529790: 0, 172391: 27187375, 300666: 0, 95608: 2550321, 2771: 6003587, 10808: 176104344, 24740: 13277558, 451918: 0, 440596: 0, 174751: 1397284, 15080: 0, 11220: 0, 9948: 0, 206284: 0, 7090: 447741, 5528: 0, 376581: 0, 15877: 0, 98357: 19701164, 21301: 65070412, 63207: 3012210, 228973: 0, 12658: 38689940, 17610: 62357900, 9986: 144000000, 4584: 134582776, 168: 133000000, 28942: 0, 1710: 0, 10708: 164433867, 367462: 0, 79113: 0, 22215: 9366227, 6520: 127600435, 565341: 0, 590529: 0, 492815: 0, 84383: 0, 643434: 0, 753325: 0, 9453: 23438120, 86331: 0, 11667: 99423521, 1880: 38376497, 241927: 0, 2269: 38862717, 50124: 0, 14742: 21095683, 289222: 23299081, 454549: 0, 398: 49084830, 16394: 0, 342917: 0, 448831: 0, 145220: 80383290, 10911: 28900000, 505436: 74769845, 25750: 0, 443009: 2066633, 246: 0, 599379: 0, 73567: 3665069, 34636: 16283667, 3580: 113020255, 574097: 0, 10016: 14010832, 355277: 0, 534939: 414202, 15003: 0, 10543: 0, 13944: 2000000, 109417: 16549477, 556509: 0, 752839: 0, 345918: 0, 315011: 77947607, 40807: 39187783, 308447: 0, 575452: 0, 9768: 8266343, 394269: 0, 365240: 0, 739123: 0, 424781: 0, 550412: 0, 462677: 0, 423590: 0, 10157: 55600000, 7305: 36733909, 655504: 0, 26390: 45719985, 1588: 90449929, 480001: 2414269, 344041: 0, 460557: 0, 13888: 2807854, 1913: 38535221, 583268: 0, 500656: 0, 26264: 0, 14362: 39673161, 4958: 39459427, 9753: 0, 392: 152500343, 423087: 0, 532908: 0, 414018: 0, 46528: 11087569, 12208: 41744718, 329833: 55969000, 2054: 106269971, 570488: 0, 205601: 16505460, 22949: 96753696, 11113: 72661442, 748184: 0, 17456: 0, 22897: 219103655, 458131: 0, 8665: 35168966, 10468: 0, 446663: 0, 276902: 0, 430682: 0, 10722: 4367497, 6878: 0, 44363: 3065860, 9618: 63408614, 572521: 0, 17905: 0, 300687: 6423605, 33875: 20867919, 26719: 2585639, 16562: 25105517, 10172: 58400000, 94901: 8315, 3114: 0, 10053: 66966987, 10833: 0, 246080: 1171559, 512056: 0, 11522: 40471663, 94352: 34153101, 12227: 34793160, 584962: 0, 302150: 0, 12154: 242780960, 568332: 0, 16985: 0, 9406: 26570463, 491472: 0, 490004: 0, 355008: 0, 60420: 3542353, 264170: 0, 9535: 176885658, 592984: 0, 518527: 0, 323370: 0, 13260: 33472850, 569982: 0, 489985: 0, 453191: 19030780, 27980: 0, 1247: 100266865, 577647: 0, 459643: 0, 270938: 11774, 12103: 100020092, 9298: 25900000, 519255: 176746000, 99770: 0, 12572: 8049666, 514277: 470901, 10862: 36779296, 341006: 10166820, 9454: 65705772, 631278: 0, 527400: 0, 10766: 26518355, 595900: 0, 11566: 63000000, 172: 70200000, 60803: 0, 397: 0, 77887: 0, 13191: 1296184, 919: 0, 40728: 0, 390584: 0, 9697: 72785169, 15060: 0, 849: 16519460, 262: 0, 507143: 0, 294016: 8235661, 238751: 1700000, 15371: 8194857, 23514: 24000000, 329805: 282000, 369192: 12638526, 254172: 0, 10805: 64892670, 317744: 0, 198210: 0, 9975: 69834815, 9263: 27400000, 16296: 43625095, 13220: 124191, 383121: 0, 291867: 0, 212193: 0, 37609: 0, 13025: 5364858, 437: 3000500, 15283: 0, 365045: 0, 2110: 0, 278774: 0, 411632: 0, 539765: 0, 9825: 56870414, 97430: 15608545, 72525: 0, 609175: 0, 11622: 40263020, 388202: 0, 245846: 111107, 19542: 0, 509364: 0, 295592: 16661077, 14175: 61746888, 10975: 0, 14429: 22593409, 451563: 0, 597594: 0, 2057: 35402320, 8409: 44350926, 10587: 28061343, 428399: 0, 426203: 0, 17612: 0, 9087: 107879496, 84174: 11947954, 8851: 0, 10905: 0, 555032: 0, 15257: 0, 11507: 8801940, 692250: 0, 565391: 0, 180305: 0, 7445: 43318349, 179: 162944923, 398174: 3179847, 99942: 0, 389053: 0, 38579: 83761844, 651881: 0, 12171: 0, 77953: 104907746, 12761: 0, 306745: 573335, 10280: 0, 523371: 0, 301846: 0, 13253: 0, 5852: 29700000, 67: 3357075, 340027: 0, 252680: 10429707, 273831: 0, 1946: 2856712, 38778: 86387857, 432131: 0, 18374: 0, 665135: 0, 90369: 2699265, 13154: 2275557, 3635: 31466789, 11429: 0, 1852: 163247198, 477033: 0, 600881: 0, 864: 154856263, 458344: 0, 73530: 0, 12107: 123307945, 11415: 0, 11075: 0, 250480: 0, 22907: 69055695, 101731: 123821, 539626: 0, 10497: 1862805, 129139: 3566225, 631883: 0, 290825: 0, 523366: 0, 519141: 0, 50300: 0, 738562: 0, 11418: 49364621, 552865: 0, 339158: 0, 548928: 0, 76494: 79700000, 574936: 0, 437375: 0, 11937: 0, 89185: 0, 10951: 0, 520172: 0, 748621: 0, 14819: 17689177, 7182: 881779, 15670: 90508336, 8491: 30218387, 317557: 10367161, 9494: 296000000, 5551: 128884132, 522369: 8766149, 500860: 1144575, 476764: 0, 26688: 27206120, 11806: 57114049, 11287: 132440069, 699210: 0, 41171: 0, 12662: 14481606, 10077: 5989640, 5289: 10289, 15476: 0, 403052: 0, 5470: 1531251, 76: 5535405, 57825: 0, 26255: 754935, 482568: 0, 16538: 91980359, 283350: 37151, 218784: 70958, 61717: 0, 265180: 4396821, 44638: 346594, 10158: 90753806, 353610: 0, 24929: 9205924, 1844: 212404396, 212162: 12947880, 17379: 38399961, 390051: 261465, 9997: 0, 126250: 16722143, 146239: 51164106, 4806: 309457509, 135531: 0, 97051: 0, 568300: 13, 658061: 0, 12837: 38105395, 388440: 0, 10885: 0, 34067: 0, 27579: 65464324, 597856: 0, 14623: 28283637, 342737: 5664764, 26973: 5786368, 15849: 0, 712: 254700832, 231001: 0, 8874: 299288605, 10153: 37020277, 456165: 0, 11866: 21009180, 10571: 20627372, 9491: 7701707, 15363: 11400000, 333348: 42426912, 401609: 0, 589982: 0, 752499: 0, 113082: 0, 11652: 57806952, 9331: 215887717, 621880: 0, 594767: 0, 10426: 33526835, 100183: 0, 649489: 0, 11004: 0, 1639: 164508066, 32823: 90029656, 118612: 0, 262715: 0, 489927: 0, 384682: 114501299, 9400: 41590886, 13203: 36448200, 12123: 60209334, 10480: 0, 558582: 101068, 456929: 20121318, 10098: 2500000, 16070: 302179, 225044: 28208, 11377: 40846082, 458083: 0, 9969: 47231070, 472921: 0, 595215: 0, 283552: 25975621, 19556: 0, 137321: 30800231, 8845: 156563139, 5460: 0, 9040: 29800000, 459616: 25498160, 8290: 0, 393877: 0, 54553: 0, 51170: 0, 13398: 0, 11636: 0, 9299: 2647055, 487291: 0, 271709: 0, 499319: 6877, 375509: 0, 489243: 0, 11864: 12303411, 112200: 3499442, 82390: 1353868, 68812: 1969193, 8487: 222104681, 345914: 0, 16781: 57231524, 12600: 28023563, 205724: 0, 97614: 66351, 605373: 0, 467936: 17696794, 375327: 0, 258284: 103536, 8545: 0, 7183: 73090611, 575190: 0, 11041: 0, 10538: 44065653, 27066: 0, 466876: 0, 17038: 0, 532812: 0, 10768: 20471382, 524613: 0, 15357: 8786375, 617768: 1138962, 10876: 7060876, 8852: 14182492, 517093: 4944386, 57157: 22939027, 6948: 0, 419706: 0, 4808: 13474588, 253331: 21571189, 67675: 18663238, 323929: 144822, 261375: 0, 711340: 0, 321741: 50363790, 266639: 2333684, 597089: 0, 451048: 0, 34803: 49050886, 13489: 0, 211541: 0, 27588: 0, 403368: 0, 10185: 3533227, 44129: 4882577, 21724: 32, 4241: 0, 433501: 0, 318850: 6490401, 2103: 30002758, 382512: 0, 494466: 0, 907: 111858363, 490003: 22835787, 706150: 0, 31216: 40945, 68179: 74597643, 9909: 179519401, 308504: 3643591, 287233: 0, 19265: 35097815, 497514: 0, 627070: 0, 13613: 0, 740133: 0, 1792: 65784503, 10219: 0, 13499: 72028752, 643: 45100, 376424: 0, 9583: 73839240, 15138: 793775, 12150: 110879513, 32302: 375805, 37933: 68625104, 554577: 0, 510355: 0, 70586: 2128186, 362826: 0, 717672: 0, 11699: 10589102, 16921: 0, 736491: 0, 9538: 14225876, 9039: 13414416, 341984: 0, 6522: 73521587, 532938: 4509301, 452522: 0, 543033: 218184, 457136: 37807625, 527632: 0, 65179: 0, 614197: 0, 300792: 0, 286554: 18612, 26872: 0, 25968: 0, 283686: 0, 7249: 0, 32528: 0, 11976: 15502112, 196750: 0, 2637: 55305279, 411144: 0, 382591: 1447740, 370178: 0, 11137: 0, 524434: 0, 466411: 5812, 961: 0, 19610: 80000000, 441531: 0, 342474: 0, 14207: 0, 115084: 0, 4283: 10597734, 18162: 68688831, 26320: 9975737, 459225: 0, 452731: 0, 26505: 0, 157851: 1338365, 10167: 19233280, 586333: 0, 532905: 0, 86835: 566006, 404785: 0, 6639: 4607608, 11620: 101486, 64807: 44907260, 1051: 41158757, 17047: 28818995, 1694: 2023414, 1441: 5549200, 8012: 115101622, 11817: 37713879, 11551: 54682547, 2005: 231605150, 13920: 53293628, 415086: 0, 407449: 955925, 10498: 30038362, 15159: 75871032, 14620: 0, 541099: 0, 33689: 0, 837: 2120439, 444902: 0, 23759: 6890432, 8092: 4104962, 13490: 43650785, 254474: 14947, 3489: 32593385, 192134: 523511, 25753: 0, 186: 56308881, 46304: 0, 11467: 138191428, 532647: 0, 458109: 0, 36568: 0, 317091: 0, 566228: 0, 338964: 23229371, 11132: 29331068, 27793: 0, 467: 7819851, 540709: 0, 11515: 9448082, 209189: 265452, 9102: 5781885, 36218: 334000000, 13249: 1196307, 1643: 36144000, 385332: 0, 9059: 0, 5769: 37600000, 43939: 0, 429189: 15366466, 82505: 44287131, 453362: 0, 184125: 0, 212716: 7847000, 123109: 74918, 533992: 0, 694234: 0, 289007: 0, 381355: 0, 363126: 201719, 37534: 0, 12902: 0, 644682: 0, 395814: 0, 89008: 1941667, 45156: 1296937, 13958: 0, 455714: 0, 19405: 44460850, 673159: 0, 517909: 0, 392655: 0, 31283: 0, 17494: 57138719, 13962: 0, 440298: 18754051, 447113: 0, 2525: 0, 286668: 0, 16205: 0, 79777: 303877, 12101: 3600000, 39781: 34705850, 527246: 0, 555850: 0, 433413: 0, 10611: 75781642, 10578: 0, 2196: 8, 76535: 0, 336890: 0, 609760: 0, 1433: 6582065, 357974: 0, 11077: 0, 13401: 22707064, 14926: 37095657, 16808: 26900000, 59387: 11411644, 10021: 110996879, 1944: 6715067, 9869: 178051587, 13805: 14109284, 477510: 0, 10438: 118243066, 9829: 76286096, 334527: 0, 11497: 27100027, 29161: 0, 614488: 0, 522373: 0, 293771: 0, 459928: 6158, 134632: 0, 8942: 0, 140420: 0, 704: 12299668, 14830: 0, 127521: 0, 750109: 0, 293767: 30930984, 456348: 0, 600354: 0, 34806: 77477008, 481031: 0, 25643: 36133014, 10253: 75108998, 193687: 121461, 16077: 0, 5146: 20440627, 229408: 0, 253406: 0, 289269: 0, 104: 7267585, 24274: 216166, 376233: 0, 10477: 54744738, 1548: 0, 470897: 0, 57431: 34942188, 2116: 55495563, 13279: 27640028, 8046: 7266209, 198: 0, 110416: 857522, 37725: 7385434, 571234: 0, 471664: 0, 78571: 540152, 31005: 10011050, 451184: 0, 554583: 0, 76180: 0, 669770: 0, 1957: 51801187, 392982: 10051659, 124470: 0, 545919: 0, 505060: 0, 9456: 0, 674607: 0, 50479: 0, 40723: 9200, 601470: 0, 13090: 16174377, 576682: 0, 9451: 0, 9417: 0, 525454: 0, 399894: 0, 63700: 0, 891: 70600000, 38303: 32054369, 570131: 0, 11700: 0, 679782: 0, 276844: 0, 15590: 0, 14736: 27728118, 44564: 67112664, 71677: 0, 24869: 0, 466081: 2602652, 401060: 0, 590123: 0, 38360: 0, 10540: 17374595, 2661: 0, 11648: 58405313, 1378: 5179037, 9346: 63541777, 20941: 837000, 266396: 13644292, 307479: 0, 9574: 177977226, 272094: 0, 737684: 0, 12289: 127814609, 11658: 0, 10644: 10006806, 13403: 0, 10803: 25000000, 706280: 0, 157058: 0, 4478: 266614059, 17710: 0, 54540: 0, 24657: 316043, 2619: 69821334, 632318: 0, 324963: 0, 13187: 0, 63555: 0, 542968: 0, 721141: 0, 9910: 30526509, 2011: 0, 405458: 0, 13007: 0, 570661: 0, 418680: 7299662, 604092: 0, 400411: 252, 15189: 117000198, 200505: 28831145, 76600: 0, 14458: 0, 574376: 2407571, 63193: 0, 11638: 68915888, 17622: 0, 353576: 0, 47763: 0, 575138: 0, 16763: 0, 5279: 87754044, 18937: 38172500, 286519: 0, 372411: 37915971, 244316: 0, 212455: 0, 6615: 11293663, 334522: 33125, 139519: 0, 44037: 0, 512: 31584901, 432787: 0, 293646: 24902723, 396810: 1783421, 501989: 0, 8740: 0, 121879: 6303709, 554917: 0, 25528: 0, 359246: 0, 580175: 0, 13975: 0, 535: 92921203, 10560: 17200925, 244063: 0, 340676: 1305195, 11319: 71215869, 457943: 0, 269100: 0, 11327: 35000000, 39210: 0, 10323: 41092328, 15762: 0, 4169: 33231264, 666338: 0, 607087: 0, 426265: 0, 384756: 0, 9589: 0, 10083: 35509515, 16774: 0, 559707: 0, 113947: 9138338, 15158: 7282851, 396373: 0, 11355: 84565230, 343284: 0, 16873: 6101046, 3053: 0, 736860: 0, 13391: 0, 339987: 708973, 9944: 195268056, 38031: 0, 36897: 0, 12400: 0, 408866: 0, 284019: 0, 20575: 0, 11353: 98625775, 29095: 808114, 17189: 0, 9093: 29882645, 8998: 13368437, 219: 85582407, 11546: 126247, 9067: 4064495, 1381: 15304890, 497916: 0, 172226: 0, 2779: 0, 520360: 0, 9447: 69131860, 301372: 0, 1599: 0, 258099: 0, 548064: 0, 339792: 0, 267793: 0, 513574: 0, 2750: 0, 8373: 836303693, 14813: 21000000, 13184: 42487390, 682377: 0, 18220: 0, 13691: 62870546, 14635: 75597042, 19698: 33759266, 8461: 7938872, 426230: 248370, 387773: 0, 269: 0, 32998: 0, 9563: 100230832, 460465: 0, 353345: 0, 29502: 0, 16314: 29000301, 486101: 8198518, 412766: 0, 306943: 0, 16620: 54215416, 426254: 0, 353326: 11472454, 393457: 64414761, 23988: 0, 18530: 0, 333545: 0, 274476: 0, 31646: 0, 411405: 0, 149871: 24186232, 14655: 0, 1165: 123384128, 145197: 444098, 9607: 20915465, 544404: 0, 73499: 3696232, 448194: 0, 12473: 9234510, 273641: 0, 58770: 0, 39862: 0, 375785: 0, 57718: 0, 537140: 0, 42646: 0, 284286: 3447633, 27318: 0, 305937: 0, 19824: 0, 586961: 79607, 611837: 0, 257932: 0, 34482: 0, 300386: 0, 426249: 0, 345235: 0, 12193: 163733697, 23127: 0, 50725: 6928068, 21786: 0, 10376: 0, 83389: 61037844, 407806: 0, 11425: 0, 403570: 0, 20156: 0, 27346: 0, 62046: 3142154, 206296: 0, 85373: 0, 241251: 52425855, 13715: 2347000, 574638: 0, 635031: 0, 308639: 17986781, 29453: 0, 11474: 22490039, 11232: 76019048, 33997: 14631377, 11164: 45610410, 55347: 14311701, 10372: 0, 472338: 0, 4437: 40400657, 86467: 8303261, 38199: 0, 19594: 0, 419709: 0, 469274: 0, 724089: 0, 308032: 643557, 278427: 0, 37903: 0, 13785: 0, 157832: 3593460, 1073: 0, 25166: 15427192, 649: 0, 2124: 19726050, 227993: 0, 10398: 177841558, 50337: 0, 699280: 0, 544052: 1892516, 44639: 7871522, 12526: 8095658, 433245: 0, 2001: 54926886, 582883: 0, 339397: 43763247, 322456: 0, 403357: 0, 332: 0, 13370: 18750246, 10804: 0, 10015: 42724017, 695848: 0, 148151: 0, 8193: 46118097, 10632: 34234008, 514236: 0, 32613: 0, 46738: 0, 720748: 0, 582808: 0, 15237: 0, 226458: 0, 459947: 0, 749458: 0, 1678: 2250000, 88042: 119772232, 1429: 24000000, 78698: 24719215, 10004: 0, 4967: 59945183, 2323: 84431625, 218778: 100654149, 87828: 0, 342521: 20609977, 10326: 128000000, 70673: 0, 502259: 0, 12120: 13854000, 11548: 65088797, 14423: 38804615, 332169: 0, 26515: 4385516, 724835: 0, 30596: 5837674, 81481: 31500000, 11595: 153518974, 333384: 6179955, 74849: 0, 14313: 3504875, 127370: 1697294, 34672: 10, 9718: 162966177, 637053: 0, 335866: 0, 9584: 45000000, 47292: 43300000, 362057: 0, 352733: 0, 25751: 0, 14028: 0, 12554: 0, 14695: 0, 8882: 0, 58446: 0, 33473: 0, 11780: 31596911, 10773: 0, 372981: 0, 50724: 0, 245913: 27312, 20878: 0, 9612: 0, 2755: 105834556, 567598: 0, 2605: 40697761, 402298: 4073489, 531033: 0, 156965: 0, 2625: 0, 369523: 0, 300670: 0, 171581: 0, 25793: 47536959, 370071: 0, 18032: 7070330, 347629: 9438370, 489931: 2847319, 403431: 532669, 38084: 1738897, 11372: 0, 589157: 0, 306: 119208989, 607300: 0, 38319: 26121638, 28808: 22951145, 595558: 0, 503403: 0, 80410: 0, 10651: 37903295, 2259: 0, 58151: 41002607, 362105: 0, 361538: 0, 85985: 51000000, 229: 2000000, 415826: 0, 12412: 9323833, 254193: 0, 103370: 66899242, 645998: 0, 9638: 11988469, 332411: 0, 71749: 0, 88557: 0, 192712: 0, 11535: 25852764, 137773: 0, 14242: 0, 565591: 0, 553385: 0, 749047: 0, 14139: 553198, 1494: 78568977, 1365: 44909486, 21448: 0, 13195: 6819587, 19101: 0, 17993: 11567449, 10539: 28946127, 6961: 47175038, 9886: 19075720, 574162: 0, 378858: 0, 10068: 6735922, 227679: 32300000, 10984: 16300000, 750121: 0, 324807: 7545758, 135309: 0, 9621: 52034889, 232679: 30127963, 10678: 132675402, 1389: 77745568, 157834: 770706, 97006: 0, 27586: 2995811, 5890: 0, 615801: 0, 429416: 64648, 429191: 1880736, 530081: 3822, 196830: 0, 634904: 0, 20312: 0, 11508: 0, 10985: 31167388, 746193: 0, 705933: 0, 655426: 0, 623464: 0, 606243: 0, 492616: 2268204, 14424: 1, 16723: 13276953, 303542: 0, 531145: 0, 449749: 3009621, 256924: 10835752, 325789: 15436808, 520390: 0, 9606: 722932, 2043: 105178561, 621151: 0, 895: 0, 574963: 0, 39452: 4790751, 13479: 0, 11087: 88036683, 536056: 0, 10972: 373967, 209403: 7800000, 573896: 0, 127372: 3346265, 25913: 0, 540: 0, 34065: 34300000, 3088: 0, 411976: 580346, 18065: 0, 150117: 29128433, 20770: 2600000, 167575: 0, 452558: 0, 6488: 53208180, 14554: 3788000, 11228: 159212469, 167313: 0, 500904: 0, 255157: 0, 21542: 0, 635: 17185632, 746: 43984230, 70338: 0, 575776: 0, 11908: 208550, 446696: 7997774, 5491: 21400000, 253980: 0, 9516: 27900000, 9319: 59509925, 21525: 7808524, 14123: 0, 75761: 0, 13008: 0, 8973: 0, 11849: 15185241, 377587: 9097072, 79516: 0, 10075: 0, 74523: 0, 13411: 34000000, 11521: 0, 158577: 0, 5125: 24748670, 6439: 90754475, 4816: 9400000, 4421: 48169156, 516850: 0, 592336: 5000000, 10322: 30177511, 30178: 0, 10375: 6632383, 13018: 17772506, 732310: 0, 15674: 0, 52733: 0, 437029: 0, 16991: 24007324, 9564: 1644060, 455957: 0, 13222: 0, 9582: 17432163, 72207: 53909751, 9344: 7412216, 105077: 0, 11867: 3793614, 234212: 3387000, 19901: 51416464, 18885: 11798854, 624479: 0, 354216: 0, 1965: 128038368, 9796: 0, 356334: 0, 15163: 0, 610150: 0, 479607: 0, 457417: 0, 426257: 0, 9526: 0, 11072: 119601481, 355193: 0, 11527: 34967437, 985: 7000000, 623520: 0, 696822: 0, 688335: 0, 428612: 0, 41479: 7022728, 20616: 0, 678314: 0, 227257: 0, 14136: 0, 429467: 7362, 228805: 0, 13532: 948753, 5516: 0, 658494: 0, 75198: 0, 17202: 55184721, 9813: 381420, 544075: 0, 317190: 0, 18892: 3076820, 458737: 2525738, 325358: 0, 12177: 40854735, 10479: 71000000, 9647: 60328558, 9092: 0, 3172: 67631903, 467916: 0, 209451: 67347013, 103620: 31081, 10839: 0, 9434: 28084357, 99: 67872296, 11953: 4000000, 9980: 7433663, 9689: 0, 547388: 0, 337674: 2341534, 2640: 1108462, 1858: 709709780, 550385: 0, 133931: 0, 538227: 0, 368182: 0, 11051: 8373585, 1257: 69485490, 454283: 5059608, 42979: 0, 3083: 9600000, 1835: 2000000, 12493: 0, 24948: 0, 11374: 0, 11104: 0, 369300: 2225698, 113: 6502364, 490017: 0, 299963: 0, 544003: 0, 211387: 0, 41602: 11650, 9542: 5844868, 502682: 78720293, 594692: 0, 487702: 0, 19904: 31198531, 9356: 0, 401545: 17997350, 20618: 0, 10173: 46044400, 184341: 0, 77663: 39881, 258086: 5758519, 469721: 0, 48650: 0, 9411: 25232289, 156700: 0, 9541: 36098382, 54054: 36893721, 14211: 3643652, 581316: 0, 344854: 0, 283587: 9077700, 10677: 27685016, 74135: 0, 20910: 0, 24935: 0, 400605: 0, 42982: 0, 8953: 0, 13016: 0, 156708: 0, 610394: 0, 417028: 0, 67203: 0, 517327: 0, 11313: 24185781, 11633: 1461989, 528091: 0, 56743: 0, 18093: 0, 13389: 78460699, 537681: 0, 12634: 6808550, 2335: 65125001, 11892: 56714147, 10197: 53825515, 6478: 0, 624060: 0, 12235: 0, 45556: 0, 10156: 31672907, 347849: 0, 209269: 0, 14148: 7155358, 285305: 0, 13997: 32000000, 8416: 0, 10724: 70687344, 322240: 57814445, 323368: 0, 387844: 0, 7553: 18637690, 38843: 27293743, 95853: 0, 9290: 39438674, 11934: 2800000, 250124: 1477002, 995: 1103757, 11504: 8000000, 662: 0, 461992: 0, 9404: 21890845, 192132: 919591, 9536: 0, 428446: 0, 6951: 71079915, 49948: 90874570, 14219: 0, 427045: 0, 407559: 0, 4191: 44566, 14013: 7027290, 113594: 0, 68341: 0, 31056: 0, 121674: 258656, 73108: 0, 11899: 0, 300467: 0, 394537: 0, 41180: 0, 17663: 0, 9988: 19179969, 430826: 0, 22021: 0, 13378: 0, 434873: 0, 251852: 0, 70868: 31410151, 46929: 0, 240916: 0, 22660: 0, 10641: 0, 348089: 0, 14138: 1271556, 12665: 0, 505177: 0, 381341: 0, 13813: 51155219, 671040: 0, 16335: 0, 9965: 0, 424632: 0, 71428: 0, 52208: 0, 15071: 0, 10048: 76932943, 466451: 0, 146203: 15179302, 261103: 0, 3573: 22231658, 35169: 36236710, 21521: 0, 9556: 48878502, 42949: 0, 9884: 78382433, 151933: 0, 339994: 90573, 11826: 0, 1259: 49469904, 13006: 5430822, 291348: 0, 297596: 0, 11012: 7532911, 13572: 25195000, 38410: 0, 11825: 19510371, 2604: 161001698, 913: 124305181, 621561: 0, 347847: 0, 3782: 55240, 11025: 23400000, 10685: 0, 337351: 0, 174316: 4187, 8873: 47965000, 11966: 21630088, 205126: 0, 9372: 28575078, 12584: 8091910, 572164: 68325551, 205321: 0, 9455: 15156200, 13667: 10297601, 19114: 32492674, 352186: 0, 11381: 32648673, 94380: 0, 6963: 12482775, 548537: 0, 463319: 0, 297222: 120000000, 27310: 0, 230179: 7500000, 399106: 0, 370755: 2152738, 55580: 0, 189204: 0, 301: 5800000, 323677: 24804129, 290762: 0, 40724: 0, 596302: 0, 62441: 0, 10780: 26713187, 9766: 41480851, 1440: 14821658, 587727: 0, 228108: 0, 9266: 51842679, 16085: 52223306, 50357: 25562924, 14330: 0, 586451: 0, 10395: 131002597, 737778: 0, 590121: 0, 339877: 42187665, 114955: 0, 364116: 14332467, 84575: 0, 9017: 0, 17899: 5723917, 10874: 34327391, 9545: 18994653, 420707: 0, 20694: 55443032, 3902: 4001121, 28597: 0, 11091: 35743308, 10238: 0, 271185: 0, 207883: 0, 599362: 0, 336011: 200242, 199753: 0, 15641: 0, 1688: 9700000, 321974: 0, 542905: 0, 8834: 136982834, 34746: 1702394, 501851: 0, 37632: 0, 2155: 32168970, 352490: 0, 17680: 1007962, 13156: 0, 665877: 0, 18086: 2983784, 23535: 2459895, 435126: 0, 23452: 0, 333381: 0, 22152: 0, 11494: 566098, 11678: 215663859, 520905: 0, 26371: 2438304, 20481: 8862354, 11205: 0, 5393: 38085778, 121986: 4069826, 11386: 62548947, 290542: 11486, 44754: 46495, 5458: 0, 9626: 6948633, 37928: 0, 21972: 0, 741397: 0, 321769: 0, 596053: 0, 171776: 0, 12573: 31430334, 28739: 0, 12233: 74151346, 11821: 54830779, 25749: 0, 506763: 84168923, 13633: 9190819, 82696: 114281051, 333103: 0, 288281: 0, 38051: 0, 35614: 71368, 430424: 0, 265851: 0, 28415: 0, 37495: 4658570, 20921: 0, 554152: 0, 587807: 0, 601510: 0, 199420: 0, 16905: 0, 252670: 0, 10747: 31800000, 589023: 0, 526429: 0, 157847: 2365467, 65256: 0, 24939: 0, 11114: 0, 290727: 0, 311667: 0, 452251: 0, 11967: 44726644, 157370: 0, 11517: 77224232, 436343: 0, 604196: 0, 33273: 19300483, 2897: 42000000, 310133: 134552, 10974: 0, 742162: 0, 276839: 0, 10032: 6086508, 680593: 0, 403964: 0, 255413: 0, 10890: 85300000, 45650: 0, 655: 2181987, 253279: 249601, 1049: 140081992, 517596: 0, 557800: 0, 9440: 0, 10802: 20350754, 7450: 36754634, 515818: 4017253, 14543: 0, 327528: 830129, 519771: 0, 261470: 0, 14805: 0, 1125: 154937680, 11983: 0, 450438: 0, 348765: 0, 458534: 0, 745272: 0, 574370: 11788968, 308638: 771317, 13342: 27092880, 253414: 3020664, 82684: 0, 340584: 0, 121677: 519535, 79548: 18100189, 31165: 0, 50506: 0, 16300: 0, 11704: 14665733, 8555: 0, 317198: 0, 52274: 12884923, 17332: 31720158, 340275: 0, 146227: 10501938, 9786: 0, 14537: 0, 25754: 0, 12764: 10755447, 473920: 0, 204436: 0, 735436: 0, 566232: 0, 747518: 0, 42807: 76000000, 38568: 1183258, 12621: 4886216, 11128: 74541707, 108: 0, 346671: 0, 411741: 24931915, 631997: 0, 518452: 0, 320302: 0, 81342: 9696204, 10956: 30987695, 12767: 29119434, 33408: 13609396, 432087: 0, 10187: 17600000, 368942: 1864266, 11895: 11567217, 330916: 0, 353433: 0, 269494: 0, 699337: 0, 19644: 0, 216539: 0, 610010: 0, 28090: 0, 12900: 0, 10744: 0, 168273: 0, 59189: 0, 620741: 0, 56715: 0, 586940: 0, 47735: 0, 10046: 0, 622951: 0, 458354: 0, 2487: 0, 13932: 0, 517940: 0, 57118: 0, 51999: 138868, 45284: 8428636, 40377: 0, 9710: 0, 275060: 0, 11259: 137783840, 9703: 25303038, 45408: 0, 361537: 0, 411019: 7123919, 391710: 0, 2928: 119718203, 56601: 3878993, 8838: 93107289, 9437: 60527873, 6499: 17979739, 408508: 21626, 44718: 0, 11975: 45916769, 543917: 0, 70695: 55125, 62837: 95404397, 27569: 15134293, 158445: 0, 393717: 0, 22309: 30238577, 102629: 0, 18917: 0, 10378: 0, 257: 42093706, 609418: 0, 11804: 91196419, 138: 700000, 581998: 0, 376004: 0, 733006: 0, 573042: 0, 82532: 4417580, 10383: 31355910, 581528: 24945497, 13761: 0, 9587: 50083616, 238589: 0, 92060: 0, 1819: 130431368, 506640: 0, 25329: 124048, 24940: 10424470, 663511: 0, 152599: 5867686, 457962: 0, 318044: 0, 20483: 16702864, 17287: 0, 802: 9250000, 418533: 0, 323674: 0, 91017: 0, 12889: 0, 66830: 0, 59298: 0, 256474: 0, 434771: 0, 407445: 477815, 527660: 0, 225914: 0, 21845: 56500758, 10699: 0, 625342: 0, 565719: 0, 406385: 0, 264495: 0, 10929: 0, 9503: 28748076, 205891: 0, 109729: 56825, 18118: 0, 1642: 110627965, 363992: 0, 11888: 81000000, 10622: 18814720, 10234: 0, 418667: 0, 309299: 0, 290555: 0, 12498: 24444121, 48572: 1104682, 297186: 0, 11880: 0, 406429: 43300000, 306966: 0, 173: 28200000, 633: 0, 687156: 0, 492613: 0, 590706: 74000000, 9562: 43935763, 81446: 0, 9278: 0, 10491: 15705007, 8696: 96542059, 966: 4905000, 222899: 49002684, 16611: 0, 330127: 0, 1407: 0, 1857: 5849647, 391486: 0, 164797: 0, 428948: 0, 15379: 22812411, 84334: 0, 10296: 0, 532973: 0, 12583: 0, 277558: 0, 457041: 0, 57586: 30857747, 56590: 0, 46368: 0, 10210: 0, 507618: 0, 418472: 0, 21733: 0, 585839: 0, 26127: 0, 596: 0, 12651: 0, 515911: 4100000, 66581: 0, 530: 0, 34729: 0, 413765: 0, 392553: 0, 283227: 0, 667888: 0, 10396: 0, 10680: 22955097, 595975: 13935410, 48838: 4644108, 14849: 0, 58443: 0, 76758: 95311434, 20606: 0, 297725: 0, 192133: 340911, 37254: 0, 9682: 29907685, 517839: 2045184, 36736: 0, 50497: 0, 425931: 0, 162215: 0, 150213: 44057737, 11412: 89456761, 18837: 0, 13950: 25482931, 10003: 118063304, 28512: 0, 480100: 0, 298093: 0, 73353: 0, 22582: 0, 18533: 2260712, 575417: 0, 409617: 0, 300667: 0, 10649: 46236000, 393737: 0, 390582: 0, 24411: 0, 18015: 0, 778: 0, 199534: 9630444, 508018: 0, 11782: 0, 3133: 0, 2395: 132900000, 859: 34670720, 484751: 0, 641370: 0, 471507: 0, 21174: 0, 544345: 0, 445456: 0, 55465: 35387212, 29572: 0, 11202: 89800000, 503917: 46855, 48466: 0, 524659: 0, 410876: 0, 4550: 23803308, 566219: 0, 776: 0, 376453: 55000, 212153: 0, 11344: 0, 378018: 151042, 678500: 0, 242042: 15071, 39319: 0, 19157: 0, 198185: 38307627, 10642: 0, 55890: 0, 8989: 49998613, 76122: 0, 16279: 900689, 68931: 0, 585894: 0, 936: 10878107, 10869: 0, 9294: 152036382, 84105: 0, 19084: 31179516, 2134: 0, 529210: 0, 157354: 17549645, 409297: 0, 19344: 0, 3040: 50336279, 469019: 0, 309304: 7087452, 79985: 0, 684139: 0, 336481: 0, 15019: 9576495, 519035: 0, 231576: 5483299, 22494: 0, 547539: 0, 2055: 68296293, 75736: 0, 430231: 956425, 229296: 0, 658241: 0, 378111: 0, 536396: 0, 11549: 0, 248504: 0, 41471: 0, 14059: 50802372, 773: 100523181, 752500: 0, 14903: 0, 17264: 37799643, 8691: 0, 14638: 0, 6283: 122417389, 592662: 0, 143049: 0, 197033: 0, 11560: 63781810, 517148: 0, 338768: 0, 9809: 4630045, 80527: 0, 532030: 0, 513208: 0, 11712: 0, 576281: 0, 45094: 6732980, 615643: 0, 58235: 0, 19167: 0, 348376: 0, 287904: 0, 9080: 60088980, 462477: 0, 10342: 8946237, 52015: 33245, 332718: 1750000, 586655: 0, 86838: 33035736, 280005: 0, 7944: 0, 642661: 0, 399725: 0, 63749: 0, 14181: 28780255, 211052: 0, 203: 3000000, 6916: 36782781, 620883: 0, 242076: 56574, 686245: 0, 526746: 0, 507612: 0, 16346: 0, 10136: 79817939, 347945: 4505, 23685: 5409517, 13416: 61255921, 10648: 39768000, 551994: 0, 443319: 3600000, 13922: 10166502, 302349: 400900, 60309: 15478800, 15805: 0, 237584: 0, 36819: 42365581, 18462: 14418922, 4351: 0, 11158: 58662452, 283559: 15, 522931: 0, 302688: 88923251, 184608: 0, 887: 23650000, 652618: 0, 555790: 0, 313106: 0, 15338: 0, 11977: 39846344, 50135: 0, 5708: 8159508, 745174: 0, 246403: 1826705, 20755: 0, 287689: 0, 74722: 0, 18808: 0, 11468: 676698, 169934: 0, 47386: 0, 10785: 0, 9367: 2040920, 4727: 0, 483347: 0, 624860: 0, 445040: 1361611, 309245: 2500431, 15516: 0, 11348: 0, 467952: 0, 347026: 13819139, 18320: 31878891, 15997: 0, 14913: 0, 22327: 0, 574436: 0, 481850: 0, 153738: 0, 57119: 37710610, 525903: 0, 1902: 368234, 15487: 15431177, 39285: 0, 622125: 0, 473902: 0, 8326: 0, 2924: 152368585, 514407: 0, 382598: 7268779, 17618: 0, 643441: 0, 394374: 0, 925: 37295445, 11033: 31899000, 14517: 866999, 403642: 0, 31952: 0, 535280: 0, 478553: 0, 333386: 4500, 69230: 0, 3090: 4307000, 592807: 0, 319067: 0, 10414: 50752337, 582049: 0, 74306: 0, 59184: 0, 10995: 0, 10150: 6455530, 4380: 170128460, 23568: 0, 157845: 2295423, 375795: 0, 746347: 0, 14177: 36351350, 423646: 321011, 40170: 0, 916: 42300873, 278848: 0, 11448: 6700000, 611114: 0, 10845: 0, 446159: 0, 686872: 0, 552322: 0, 159932: 18642, 10878: 19351569, 6620: 10000000, 298402: 0, 585759: 0, 38358: 67738090, 105001: 26033917, 19855: 16, 596870: 0, 469980: 0, 7873: 5967038, 1551: 61489265, 870: 0, 294795: 0, 224815: 0, 64678: 1406224, 4965: 8694320, 502122: 0, 453278: 0, 426030: 15500000, 397520: 127345, 392216: 0, 425373: 10230620, 408439: 0, 303903: 0, 6723: 21633874, 16028: 0, 253617: 0, 579571: 0, 341689: 0, 37932: 0, 574151: 0, 2440: 0, 19554: 0, 11400: 30536013, 316002: 24487, 752149: 0, 429662: 7823256, 26602: 19693891, 209504: 0, 60672: 0, 422615: 0, 43209: 2340363, 60086: 0, 21452: 16330622, 12435: 47817020, 41245: 0, 13166: 14343028, 11078: 50097949, 489930: 0, 51209: 1188194, 38582: 1330000, 491473: 0, 11336: 20766616, 78047: 0, 14817: 0, 259074: 0, 11456: 54249294, 8849: 35060882, 502422: 0, 250766: 0, 252822: 0, 38356: 1123794079, 20036: 0, 40751: 0, 27352: 6193901, 565312: 0, 17403: 0, 451657: 81455, 521720: 0, 331392: 0, 17436: 382174, 152647: 0, 13969: 0, 2295: 26888376, 2142: 44862187, 49950: 52545707, 17483: 142666, 15417: 85196485, 2284: 69474661, 14289: 16000000, 11848: 0, 501: 0, 337556: 0, 17994: 7369373, 135921: 0, 19204: 0, 10122: 18564613, 4912: 33013805, 482936: 0, 449019: 0, 43967: 0, 687: 39363635, 340402: 42487325, 240483: 0, 12637: 16400000, 16187: 0, 209361: 10900434, 9357: 52223306, 571451: 0, 474498: 0, 622771: 0, 896: 134241, 116613: 6294161, 1999: 0, 433244: 0, 373314: 0, 289416: 0, 65760: 0, 575: 0, 381696: 0, 24001: 0, 46060: 0, 10064: 4165675, 8968: 67192859, 270010: 4212494, 53567: 0, 279690: 0, 86837: 29844753, 549246: 0, 16186: 0, 12723: 5926128, 9086: 0, 4597: 22942221, 483165: 0, 29564: 0, 145221: 0, 282041: 0, 7979: 73276047, 137968: 0, 114372: 0, 52454: 0, 15582: 0, 11601: 21133087, 13194: 0, 10961: 69136, 7095: 58620973, 15577: 1037335, 14292: 64445708, 9932: 55003135, 11644: 12000000, 10569: 0, 746032: 0, 438524: 0, 10147: 76488889, 331588: 0, 185689: 0, 10390: 46112640, 253344: 0, 1781: 46243000, 52505: 102000000, 395993: 8484418, 546: 13350369, 464331: 0, 31533: 0, 10629: 9439660, 252459: 0, 749565: 0, 492452: 0, 17124: 0, 13225: 32710894, 11426: 30500000, 77495: 0, 28794: 0, 24438: 85280250, 2355: 22222308, 505941: 0, 569711: 0, 24584: 0, 450477: 0, 333354: 0, 576296: 0, 44678: 0, 8999: 57479076, 8618: 13401952, 17281: 0, 9385: 0, 11609: 4300000, 339751: 302459, 14696: 0, 502350: 0, 17894: 11486880, 336445: 0, 624932: 0, 379686: 0, 23706: 40105542, 50126: 0, 215211: 26576000, 63574: 0, 515816: 0, 463088: 0, 9566: 18626419, 620639: 0, 146223: 5750401, 410118: 0, 51588: 10130000, 713: 116700000, 50671: 0, 95516: 0, 282848: 0, 97434: 0, 425751: 4077333, 318224: 0, 691818: 0, 336000: 22088533, 12778: 13145977, 11364: 43001500, 13368: 0, 7501: 12000000, 753702: 0, 753583: 0, 753571: 0, 753563: 0, 733906: 0, 681459: 0, 598331: 0, 401898: 1471656, 115331: 0, 70706: 0, 11171: 1524966, 458293: 0, 309924: 234417, 912: 0, 451919: 0, 244534: 0, 25566: 0, 492565: 0, 381034: 0, 127853: 0, 749256: 0, 18074: 0, 13701: 0, 608826: 0, 117974: 61782, 71254: 0, 20075: 0, 293572: 0, 27583: 6153967, 9822: 0, 582895: 0, 414001: 4536348, 647582: 0, 6020: 0, 227735: 52424533, 873: 146292009, 44899: 0, 780: 0, 12537: 2689068, 5511: 39481, 416149: 17000000, 408619: 0, 30685: 0, 27902: 0, 8844: 262797249, 5998: 0, 610120: 0, 455410: 0, 15135: 0, 9962: 16856124, 332340: 3000000, 37861: 30638, 17911: 0, 3525: 103173635, 209276: 54915, 207769: 0, 74777: 0, 38212: 0, 7006: 0, 11881: 0, 522320: 0, 119278: 0, 729983: 0, 20521: 0, 364433: 0, 40080: 0, 8291: 27515786, 761: 0, 50647: 24159934, 92000: 0, 12277: 41604473, 346489: 0, 12545: 13200000, 23049: 20455276, 11812: 68696770, 1989: 21786738, 132137: 0, 18311: 141864, 1439: 113996937, 351901: 0, 31906: 0, 93: 0, 982: 7700000, 44221: 0, 28005: 4109095, 43933: 5639730, 245627: 0, 23128: 1162422, 10934: 58878723, 244783: 32251, 86593: 0, 16174: 0, 284674: 0, 14396: 10337477, 9683: 0, 44425: 0, 17813: 15368897, 4518: 82150642, 10213: 9617000, 3121: 10, 18764: 0, 166879: 7965, 11354: 0, 16716: 0, 11393: 47951979, 483: 14560247, 79896: 0, 56906: 0, 15668: 22471595, 746343: 0, 437068: 81927980, 414768: 0, 16642: 0, 21422: 9107390, 14070: 76000000, 743478: 0, 16211: 0, 551: 84563118, 80079: 0, 17538: 8022000, 9844: 5879254, 712440: 0, 404584: 0, 14844: 12, 369894: 798214, 87496: 19633027, 639798: 0, 146381: 0, 13797: 0, 11472: 69660733, 35552: 34100000, 612013: 0, 455565: 0, 3603: 4947717, 1872: 2850927, 123862: 0, 743090: 0, 573531: 11000000, 505016: 0, 139455: 14567, 19803: 0, 14239: 14110589, 11986: 2003822, 9057: 16478900, 9994: 38625550, 317903: 0, 300602: 8306690, 70435: 33372606, 11176: 76657000, 10152: 39267515, 232572: 35991087, 12919: 31623833, 54445: 0, 96936: 19145732, 13778: 0, 553668: 0, 639721: 0, 68818: 987883, 340611: 3924527, 325078: 0, 9540: 8038508, 374461: 0, 18500: 0, 480210: 0, 260: 0, 622963: 0, 477666: 0, 25066: 12000000, 21334: 925402, 445605: 0, 22536: 0, 15671: 0, 11616: 0, 64586: 408680, 34689: 0, 6280: 108431355, 91070: 30905, 2056: 8679814, 546754: 0, 10900: 1115493, 34549: 18634654, 21484: 0, 14854: 12232628, 241842: 37473, 21575: 17873691, 351809: 9074836, 58496: 8212430, 419835: 2049844, 401246: 1502347, 2654: 8946600, 43274: 0, 860: 79567667, 11562: 18254702, 448916: 0, 54559: 0, 2176: 23619609, 552938: 0, 6687: 5926410, 2020: 36911617, 18410: 18532286, 9828: 3338228, 743217: 0, 36691: 5024782, 347944: 0, 146631: 0, 69798: 88823111, 437311: 0, 13505: 0, 10514: 12376563, 628707: 0, 617784: 0, 11088: 0, 566454: 0, 357400: 1928616, 19592: 0, 8388: 0, 3079: 8000000, 570132: 3458157, 13668: 16159325, 13177: 908847, 11006: 126737428, 10019: 42721196, 10628: 0, 4916: 22886222, 412202: 0, 342672: 0, 82424: 0, 424121: 0, 25188: 29133000, 14262: 0, 13595: 0, 407435: 0, 737793: 0, 658009: 0, 510689: 0, 197583: 1064454, 58428: 78396, 12703: 365734, 9777: 7535331, 373226: 0, 4244: 69700000, 190847: 24084, 161127: 0, 13127: 0, 36272: 0, 13074: 0, 356626: 0, 38753: 25603, 26730: 78350, 729648: 0, 584130: 0, 481432: 0, 352885: 0, 8617: 14796236, 154: 96800000, 748765: 0, 38335: 0, 39229: 0, 29076: 1631839, 16136: 20146880, 24648: 0, 43878: 0, 27646: 0, 11617: 0, 7091: 725131, 5924: 53267000, 206213: 0, 83660: 0, 597965: 0, 8067: 0, 45491: 396003, 40041: 0, 19595: 0, 10759: 0, 1415: 742898, 71862: 0, 95993: 0, 221731: 0, 9716: 0, 38438: 0, 13160: 0, 11607: 8143225, 469310: 0, 412209: 0, 55504: 0, 827: 0, 438634: 0, 324308: 494506, 236399: 0, 197796: 49100000, 9026: 0, 750908: 0, 340487: 1215691, 36679: 11000000, 635780: 0, 503706: 0, 152790: 0, 3112: 0, 20857: 40222729, 13075: 622806, 260372: 0, 11827: 546545, 226: 11540607, 26517: 0, 823: 0, 777: 0, 515409: 0, 430161: 0, 403390: 557241, 113374: 0, 13706: 0, 728271: 0, 2469: 3125224, 577990: 9831515, 10533: 10382407, 4960: 0, 721182: 0, 531790: 0, 1090: 18564088, 506596: 0, 12647: 0, 18476: 1017401, 759: 12000000, 432615: 0, 38407: 0, 9923: 22944502, 8382: 0, 12085: 0, 496032: 0, 27632: 0, 10658: 37962774, 6399: 0, 4599: 49718611, 523561: 0, 283235: 1411927, 11841: 0, 193612: 17834867, 70057: 0, 8512: 16140822, 581002: 0, 9053: 7563172, 574954: 0, 319888: 46152411, 744930: 0, 20411: 0, 14761: 163000, 10105: 0, 330544: 0, 12559: 0, 570186: 0, 299513: 0, 479226: 0, 227: 33697647, 749044: 0, 634233: 0, 411009: 0, 12890: 10569964, 10837: 18115724, 455: 76578641, 175528: 22456509, 18975: 0, 15846: 0, 14373: 45000000, 458302: 0, 15213: 16627188, 553882: 0, 209271: 0, 55420: 1776935, 9989: 18195610, 643413: 0, 244458: 0, 618019: 0, 653725: 0, 479475: 0, 1480: 2247465, 743931: 0, 504345: 0, 33555: 0, 13557: 0, 10563: 0, 80530: 0, 46718: 0, 37414: 0, 11891: 0, 498678: 35765, 48246: 0, 8649: 0, 426410: 0, 12770: 0, 900: 0, 332979: 6174491, 36950: 0, 8954: 0, 328589: 41387687, 9394: 0, 18333: 0, 17362: 3960327, 15616: 103971, 10344: 38903179, 423093: 0, 317560: 28430, 4291: 0, 98548: 12434778, 9684: 0, 65034: 0, 6116: 100000000, 521934: 0, 371560: 0, 137145: 0, 79224: 49000000, 529646: 0, 75861: 0, 504175: 0, 28276: 0, 626036: 0, 42121: 0, 13282: 8000000, 492449: 0, 336313: 157768, 19403: 0, 14132: 0, 10488: 100076342, 59968: 24816118, 36269: 0, 10696: 5271666, 50780: 970816, 679899: 0, 192145: 1749201, 11286: 72179579, 4226: 0, 118289: 21766271, 422469: 0, 706260: 0, 38985: 9000000, 730673: 0, 345875: 0, 392058: 0, 9559: 135130999, 566451: 0, 11889: 0, 10425: 413454, 567714: 0, 74505: 0, 12914: 0, 8424: 0, 85414: 0, 11099: 548039, 7508: 28430000, 531158: 0, 13068: 0, 40247: 0, 19972: 0, 256277: 0, 24833: 0, 157841: 9494789, 18874: 0, 314385: 3727746, 352501: 0, 152747: 6108720, 136: 0, 82485: 0, 393729: 0, 9839: 0, 100: 28356188, 476656: 0, 210047: 16971, 405314: 0, 11935: 0, 10333: 74787599, 24554: 0, 10938: 1500000, 262848: 0, 10212: 0, 6217: 0, 495673: 0, 245859: 0, 14195: 0, 10178: 21750000, 157849: 31554855, 2612: 15379253, 9882: 116672912, 437515: 0, 10391: 0, 20604: 0, 7874: 10903846, 1594: 12368234, 19345: 25205460, 501630: 0, 294308: 0, 437670: 0, 276401: 0, 23919: 20518905, 8915: 19643086, 11856: 33461269, 429691: 0, 44028: 0, 439: 19646656, 662192: 0, 413857: 0, 27098: 0, 16266: 0, 546756: 0, 546724: 0, 39356: 9116968, 5725: 0, 17824: 331816, 416160: 5728, 47854: 48398, 239566: 33448971, 42602: 0, 5968: 25308147, 622420: 0, 436494: 0, 31473: 0, 5723: 20710513, 1075: 0, 419566: 0, 23518: 0, 30238: 0, 575559: 0, 496283: 178471, 385320: 0, 1619: 19125401, 20856: 57881056, 17774: 0, 11894: 33691313, 10367: 0, 502385: 0, 10437: 27281507, 743283: 0, 367412: 0, 124459: 27437881, 11802: 64762724, 378200: 0, 140222: 19684, 11559: 566611, 9573: 31794718, 737795: 0, 380565: 0, 15706: 0, 565276: 0, 416166: 0, 42801: 0, 7872: 0, 354072: 0, 351145: 0, 1644: 14543394, 338544: 0, 125521: 0, 59678: 3964682, 635146: 0, 62008: 0, 319600: 0, 42491: 0, 38027: 0, 10806: 0, 14853: 0, 12262: 25000000, 513857: 0, 71618: 0, 69315: 0, 11349: 103000000, 555801: 0, 738646: 0, 452068: 0, 267463: 0, 168676: 0, 31002: 0, 27866: 0, 51996: 790421, 51786: 0, 26715: 199436, 18477: 0, 6552: 4152230, 981: 0, 611761: 0, 26367: 0, 363844: 0, 44018: 0, 462550: 0, 4203: 7179298, 20721: 20345361, 331446: 0, 29143: 20000000, 25834: 0, 10847: 13985225, 16764: 0, 8094: 20957001, 2665: 27150534, 339065: 0, 19724: 0, 18966: 43885000, 2321: 21486757, 34942: 0, 47218: 215576, 432301: 17904202, 306264: 0, 295315: 0, 175898: 0, 26317: 0, 486011: 0, 15556: 0, 9721: 0, 8438: 17381942, 512263: 3400977, 337154: 4267218, 15088: 0, 571655: 70821, 284689: 1822250, 230474: 0, 594696: 0, 146243: 0, 11857: 0, 42661: 0, 11333: 0, 2163: 50159144, 26234: 0, 471968: 30060061, 443382: 0, 51250: 0, 19580: 0, 35835: 0, 730337: 0, 566949: 0, 13641: 0, 10377: 64088552, 543343: 0, 731971: 0, 271674: 9104716, 141043: 7176347, 112160: 0, 27088: 0, 9685: 4777465, 402446: 0, 390329: 0, 15584: 0, 221: 4500000, 321594: 0, 11897: 50000000, 567410: 0, 46138: 12629471, 990: 7600000, 328426: 0, 75638: 13551174, 73937: 7448385, 206192: 0, 340613: 5634567, 710217: 0, 23410: 0, 22556: 317000, 21634: 0, 599281: 0, 460492: 0, 586346: 251017, 328429: 10232, 15596: 91258000, 1406: 179033791, 308453: 615816, 21057: 0, 13954: 0, 77948: 16863583, 25623: 0, 11450: 0, 10348: 0, 137563: 125, 25678: 0, 19384: 9229401, 14030: 33208099, 223485: 229094, 17335: 73830340, 2171: 295206, 211067: 9221, 730629: 0, 48186: 0, 14245: 0, 25941: 10329747, 537190: 0, 437380: 0, 9890: 102000000, 260736: 0, 285387: 0, 19426: 752045, 9005: 0, 10537: 34416893, 288036: 3214116, 15004: 0, 37606: 1132112, 588199: 0, 124067: 273747, 41135: 0, 1680: 12550000, 11197: 0, 160219: 0, 519465: 0, 445: 36000000, 571391: 0, 245703: 6740647, 58492: 621951, 26173: 0, 9991: 0, 115626: 0, 322487: 116873, 15053: 0, 13150: 31148328, 323435: 0, 226979: 0, 2084: 0, 715297: 0, 71861: 0, 590164: 200046, 586707: 0, 373546: 0, 24402: 0, 25284: 0, 345923: 646946, 49867: 0, 320519: 0, 316042: 0, 22051: 2550863, 13173: 0, 10944: 23726793, 356300: 24532, 11305: 1544973, 11141: 30016165, 648: 0, 382511: 0, 22023: 0, 3291: 54600000, 262481: 0, 11829: 2100000, 11697: 8000000, 2099: 16209459, 13413: 0, 452: 7235, 230896: 0, 58508: 0, 13092: 17286299, 11165: 29548291, 1958: 0, 9459: 34505110, 695282: 0, 9271: 24048000, 994: 3251794, 1252: 0, 433247: 0, 16270: 11336986, 444705: 0, 228358: 0, 11516: 20217080, 11163: 0, 16972: 9346177, 11639: 40577001, 257130: 0, 14172: 0, 9306: 49627779, 43329: 0, 6623: 110463140, 743022: 0, 191808: 0, 475888: 0, 11037: 0, 420260: 0, 12689: 0, 451877: 0, 58547: 203373, 12560: 0, 4588: 67091915, 489928: 467306, 14325: 9793496, 5471: 92076, 330141: 0, 664498: 0, 352547: 0, 14033: 4299141, 13258: 10871449, 260063: 0, 157099: 75143, 31451: 0, 15262: 0, 319096: 0, 10597: 0, 9699: 9056073, 515916: 0, 29996: 12200000, 111440: 0, 49020: 864659, 466485: 0, 360029: 0, 520270: 0, 366737: 0, 14062: 0, 5718: 1027699, 15566: 14793624, 14807: 0, 10994: 0, 669375: 0, 10164: 27575086, 20726: 0, 3513: 0, 12245: 0, 7270: 65565672, 227700: 1200000, 23966: 0, 46247: 0, 12569: 10848783, 9501: 0, 45324: 1083683, 15907: 0, 533509: 0, 366644: 0, 516503: 0, 411840: 0, 10650: 67642693, 48415: 65584679, 13848: 0, 12312: 24516772, 457: 0, 264337: 0, 239562: 16337881, 85889: 9114264, 11093: 16942795, 11184: 0, 294562: 0, 1715: 88545092, 9272: 44456478, 309242: 130541, 16358: 0, 13476: 16980098, 8688: 103891409, 10534: 10300000, 10090: 20342161, 5143: 40084041, 16392: 0, 1884: 0, 13635: 31055440, 11588: 72962, 335209: 0, 45272: 20601987, 15613: 19724334, 10668: 0, 253306: 0, 162903: 8555008, 10740: 0, 1961: 173066, 600274: 0, 11862: 76578911, 169020: 0, 40466: 0, 433150: 1500000, 22596: 623, 369054: 0, 49350: 0, 13192: 67000000, 13094: 0, 1788: 80035402, 333385: 34694, 8780: 63833449, 510096: 0, 426238: 486, 282758: 0, 85949: 0, 57422: 0, 20421: 11657385, 16460: 0, 9449: 0, 158273: 0, 73935: 0, 13001: 8900000, 90267: 0, 50601: 17479, 18897: 2651917, 13491: 0, 8198: 27674124, 333653: 0, 9075: 26768563, 17917: 37402877, 10835: 0, 9544: 18902015, 489418: 0, 265016: 0, 244268: 2262223, 26953: 0, 17074: 0, 15301: 29450919, 9625: 0, 558069: 0, 12178: 16724933, 339408: 15861566, 59722: 0, 4413: 69766619, 3064: 0, 209262: 1412181, 11671: 14894347, 13496: 13678913, 9893: 0, 336007: 0, 10472: 0, 736485: 0, 554739: 0, 19400: 1337274, 210769: 0, 29756: 0, 11963: 27476252, 402582: 0, 20345: 0, 70577: 0, 1492: 7191399, 590153: 0, 377431: 0, 253310: 0, 10754: 0, 395474: 280668, 59490: 6467348, 10188: 44352417, 592136: 0, 41003: 17487531, 291328: 3885342, 369524: 0, 241765: 0, 742739: 0, 264552: 0, 38580: 0, 13933: 0, 665764: 0, 316715: 0, 301355: 0, 456508: 0, 12636: 16000000, 31169: 0, 10986: 0, 528491: 0, 11015: 33956608, 624788: 0, 41275: 0, 19423: 0, 14576: 0, 10535: 0, 415401: 3300000, 355131: 0, 128216: 0, 11950: 28078073, 10854: 0, 495386: 0, 414425: 0, 8052: 222559, 35838: 0, 614199: 0, 593870: 0, 42296: 3045943, 4043: 0, 9433: 43312294, 317925: 0, 12614: 28215453, 10894: 150277, 43434: 871279, 13508: 1678874, 353257: 0, 46838: 5224938, 30137: 1200000, 11330: 0, 20343: 0, 190955: 2415472, 2017: 0, 146229: 0, 433252: 0, 2370: 6000000, 628229: 0, 467239: 0, 352548: 0, 220882: 252676, 169813: 1600000, 346681: 653951, 87686: 0, 15198: 8888143, 14551: 0, 271404: 992181, 79120: 484592, 15028: 38793283, 512019: 0, 254869: 11672363, 83900: 0, 9091: 64350171, 591121: 0, 11495: 17080167, 400507: 0, 299579: 0, 10050: 0, 7859: 4911725, 410537: 0, 38363: 25806953, 13855: 0, 13564: 0, 12476: 9747988, 44435: 0, 123103: 58510, 82687: 41863726, 73936: 0, 11943: 0, 426618: 0, 414288: 0, 10836: 0, 11028: 0, 10360: 2724474, 505003: 0, 222216: 12666, 70076: 0, 39346: 0, 38567: 0, 396398: 0, 8272: 0, 691241: 0, 267480: 332710, 67911: 0, 40095: 0, 419261: 0, 356842: 12488, 291984: 0, 8072: 0, 451955: 4248574, 109453: 0, 15983: 0, 327029: 0, 44351: 0, 10067: 61112916, 473415: 0, 368993: 0, 11427: 0, 18094: 0, 10511: 0, 576: 638641, 381075: 0, 25059: 32709423, 20701: 16324573, 139463: 0, 40819: 0, 19905: 0, 11860: 53672080, 10660: 0, 9558: 2554476, 375315: 2216318, 283591: 152761, 3076: 0, 30060: 0, 9333: 47267001, 457917: 0, 407447: 3267486, 53932: 0, 1410: 0, 61891: 15395087, 11874: 0, 85621: 6638849, 45569: 0, 37347: 3000000, 13665: 95461682, 97795: 4132000, 30924: 0, 399790: 0, 9044: 28000000, 10258: 0, 9386: 176997168, 1628: 0, 24469: 2357852, 588226: 0, 7510: 6754898, 27584: 0, 612515: 0, 493099: 2002767, 201086: 0, 25587: 0, 13949: 0, 454433: 0, 10353: 66000000, 4911: 9237470, 333663: 0, 14237: 4352094, 910: 0, 15739: 57059003, 369883: 23316139, 8338: 19844979, 116979: 0, 84184: 3094813, 19366: 0, 14547: 0, 392820: 0, 575561: 0, 143216: 0, 13570: 0, 11706: 12500000, 614630: 0, 17689: 26414658, 447034: 0, 10653: 0, 9058: 0, 8884: 0, 253235: 25312387, 32219: 0, 11624: 18016290, 445631: 0, 28978: 0, 10550: 19924033, 583310: 0, 26039: 3200000, 14900: 0, 49014: 6063556, 13364: 201275, 24801: 0, 19119: 0, 477331: 0, 21583: 2434658, 390056: 944370, 35854: 0, 31662: 6330054, 12690: 20211394, 844: 19271312, 1816: 14202899, 13849: 0, 10949: 0, 29425: 0, 265010: 0, 54293: 0, 15667: 0, 3078: 4500000, 10562: 260562, 279144: 0, 12228: 653621, 376658: 0, 201066: 0, 14643: 0, 10115: 0, 9281: 68706993, 13960: 21170563, 18215: 1796389, 752687: 0, 10118: 11449638, 8881: 0, 432789: 0, 359151: 0, 109513: 14400000, 12192: 0, 10399: 0, 49763: 1100000, 12079: 0, 8282: 0, 503752: 0, 12629: 0, 15400: 0, 11602: 0, 9642: 22501596, 13054: 0, 394661: 0, 34081: 68716, 447399: 0, 34129: 0, 61984: 11212294, 40850: 0, 9022: 0, 466575: 0, 36843: 1500000, 414770: 0, 11064: 45833132, 2359: 24538513, 96984: 0, 43935: 4634062, 2749: 56359980, 72740: 0, 19255: 14899417, 12710: 0, 360389: 0, 11463: 0, 11416: 17218023, 10385: 51880044, 620924: 0, 91745: 1162635, 24331: 14225876, 9061: 0, 821: 10000000, 45649: 98017, 273899: 187674, 218275: 0, 54532: 0, 26171: 16443609, 11843: 41833347, 470541: 0, 270302: 2146041, 165213: 0, 54005: 0, 37659: 0, 11855: 0, 113833: 0, 69480: 0, 611710: 0, 48303: 0, 307946: 63373, 16858: 37823676, 572488: 0, 33680: 2594000, 23830: 7644937, 624: 0, 13754: 0, 198062: 0, 627463: 1338220, 42889: 563706, 75802: 9504139, 30890: 0, 9101: 0, 397003: 0, 9726: 42064105, 744941: 0, 474214: 0, 86822: 0, 34106: 7433101, 463870: 0, 305883: 0, 295887: 0, 14125: 10921200, 9051: 74865517, 5072: 0, 461115: 0, 304357: 61619773, 9903: 11772461, 511815: 0, 423236: 0, 14370: 13000000, 345925: 0, 236885: 0, 164251: 176391, 376501: 0, 254191: 9318, 83705: 0, 37269: 0, 13996: 4040588, 457915: 12496155, 595399: 0, 273895: 66787908, 15250: 0, 675233: 0, 18169: 38702310, 288410: 0, 10720: 20298207, 12698: 0, 183443: 0, 26578: 0, 140174: 0, 29723: 13015688, 9845: 2957970, 9303: 7011317, 594404: 0, 72197: 118338361, 8669: 0, 738767: 0, 594025: 0, 10640: 0, 8408: 34000000, 2428: 15473333, 13256: 2131057, 5145: 0, 209247: 64065, 11654: 5979292, 11244: 0, 734246: 0, 576135: 0, 403517: 0, 46581: 0, 14098: 1415804, 12779: 598645, 390520: 0, 32790: 0, 7942: 33000000, 74387: 6483963, 15139: 13670688, 594089: 0, 505063: 0, 265297: 1059804, 227359: 0, 10310: 0, 387824: 0, 57585: 0, 11484: 30000000, 20825: 4243957, 9794: 38368909, 365805: 0, 18238: 0, 151512: 0, 11370: 27053815, 489994: 0, 256731: 0, 64720: 3099314, 340101: 3603484, 45242: 0, 18990: 0, 353728: 33962, 638707: 0, 828: 0, 12172: 0, 373558: 0, 63963: 0, 25405: 0, 413279: 0, 45657: 498974, 43305: 0, 491622: 0, 22084: 0, 10168: 0, 77974: 0, 14395: 17000000, 12491: 0, 11065: 16017403, 10707: 11098131, 327: 15250000, 15644: 16605763, 442495: 0, 18707: 0, 11022: 12633747, 9322: 5000000, 1808: 1053788, 24248: 0, 4917: 0, 10410: 0, 1600: 1999955, 24920: 0, 592457: 0, 436994: 0, 436398: 0, 393658: 0, 290999: 0, 254302: 346472, 702701: 0, 10217: 7951247, 14799: 5542025, 374607: 0, 370978: 0, 279641: 23083334, 256051: 0, 474444: 0, 1847: 959000, 36123: 0, 513399: 0, 319076: 0, 307: 0, 555111: 0, 33602: 0, 13722: 0, 661: 0, 359364: 0, 305091: 0, 74879: 138730, 5203: 0, 42739: 0, 18111: 0, 14506: 8083123, 34843: 0, 444431: 0, 4942: 41299492, 422347: 0, 414453: 1015744, 12484: 0, 339: 2015810, 19142: 192816, 10445: 25842000, 66: 50068310, 557642: 0, 38850: 7306, 2453: 7434726, 290271: 0, 199933: 846704, 492258: 0, 286987: 0, 13815: 0, 13061: 0, 110354: 0, 15413: 25196249, 444526: 0, 16372: 0, 452551: 216556, 27004: 46488, 8987: 94216343, 5801: 536364, 741018: 0, 603945: 0, 26963: 0, 14550: 28890240, 10208: 16290976, 1950: 5761917, 427: 0, 611642: 0, 172803: 0, 14008: 0, 4170: 0, 582014: 0, 293413: 62000000, 12311: 4460000, 11335: 49823037, 2959: 69307224, 450945: 0, 4464: 148336445, 978: 131457682, 429238: 0, 157825: 33821, 251516: 0, 156268: 228, 9369: 0, 286192: 0, 8905: 0, 88273: 7594693, 26177: 0, 25676: 0, 10261: 0, 1550: 0, 11557: 37803872, 209249: 0, 14871: 0, 542713: 0, 3549: 0, 918: 39321715, 38448: 1644755, 10089: 0, 185567: 0, 79698: 0, 17336: 32474120, 16411: 7096000, 6521: 22428990, 183: 14278900, 40508: 413479, 418827: 0, 3777: 0, 746459: 0, 35588: 18635620, 582923: 0, 567646: 124652206, 60599: 35485056, 18587: 7175592, 463015: 0, 457955: 0, 21078: 0, 331190: 2801508, 17465: 0, 438446: 0, 274504: 13191, 20009: 6413915, 13105: 64783827, 6538: 119000410, 1626: 24517, 463158: 0, 78381: 0, 12606: 0, 1392: 3529201, 144340: 18637201, 48289: 45636368, 239367: 0, 24115: 13022756, 11107: 0, 474987: 0, 347757: 0, 297189: 0, 410126: 0, 85545: 911466, 58718: 0, 33521: 0, 8583: 4530929, 441875: 13800000, 394759: 4190750, 38251: 4532791, 17037: 0, 4398: 29733764, 70844: 0, 11422: 43220000, 479424: 0, 140: 40266982, 221801: 0, 70667: 0, 26593: 0, 32022: 0, 13908: 43411001, 640193: 0, 346134: 4611, 3511: 0, 545836: 0, 252171: 395000, 90125: 0, 537476: 0, 19833: 6149791, 346650: 0, 11419: 36400360}\n"
     ]
    }
   ],
   "source": [
    "print(pop_dict)"
   ]
  },
  {
   "cell_type": "code",
   "execution_count": 61,
   "metadata": {},
   "outputs": [
    {
     "data": {
      "text/plain": [
       "9998"
      ]
     },
     "execution_count": 61,
     "metadata": {},
     "output_type": "execute_result"
    }
   ],
   "source": [
    "# Find the length of the dictionary that contains the key:value pairs for movie id and revenue\n",
    "\n",
    "len(pop_dict)"
   ]
  },
  {
   "cell_type": "markdown",
   "metadata": {},
   "source": [
    "Great! We now have a dictionary that includes 9,998 rows of data for revenue. We will now turn this information into a DataFrame as well."
   ]
  },
  {
   "cell_type": "code",
   "execution_count": 62,
   "metadata": {},
   "outputs": [
    {
     "data": {
      "text/html": [
       "<div>\n",
       "<style scoped>\n",
       "    .dataframe tbody tr th:only-of-type {\n",
       "        vertical-align: middle;\n",
       "    }\n",
       "\n",
       "    .dataframe tbody tr th {\n",
       "        vertical-align: top;\n",
       "    }\n",
       "\n",
       "    .dataframe thead th {\n",
       "        text-align: right;\n",
       "    }\n",
       "</style>\n",
       "<table border=\"1\" class=\"dataframe\">\n",
       "  <thead>\n",
       "    <tr style=\"text-align: right;\">\n",
       "      <th></th>\n",
       "      <th>revenue</th>\n",
       "    </tr>\n",
       "  </thead>\n",
       "  <tbody>\n",
       "    <tr>\n",
       "      <th>528085</th>\n",
       "      <td>0</td>\n",
       "    </tr>\n",
       "    <tr>\n",
       "      <th>741067</th>\n",
       "      <td>0</td>\n",
       "    </tr>\n",
       "    <tr>\n",
       "      <th>497582</th>\n",
       "      <td>0</td>\n",
       "    </tr>\n",
       "    <tr>\n",
       "      <th>724989</th>\n",
       "      <td>0</td>\n",
       "    </tr>\n",
       "    <tr>\n",
       "      <th>337401</th>\n",
       "      <td>57000000</td>\n",
       "    </tr>\n",
       "    <tr>\n",
       "      <th>694919</th>\n",
       "      <td>0</td>\n",
       "    </tr>\n",
       "    <tr>\n",
       "      <th>721656</th>\n",
       "      <td>0</td>\n",
       "    </tr>\n",
       "    <tr>\n",
       "      <th>635302</th>\n",
       "      <td>44143781</td>\n",
       "    </tr>\n",
       "    <tr>\n",
       "      <th>660982</th>\n",
       "      <td>0</td>\n",
       "    </tr>\n",
       "    <tr>\n",
       "      <th>718444</th>\n",
       "      <td>139757</td>\n",
       "    </tr>\n",
       "  </tbody>\n",
       "</table>\n",
       "</div>"
      ],
      "text/plain": [
       "         revenue\n",
       "528085         0\n",
       "741067         0\n",
       "497582         0\n",
       "724989         0\n",
       "337401  57000000\n",
       "694919         0\n",
       "721656         0\n",
       "635302  44143781\n",
       "660982         0\n",
       "718444    139757"
      ]
     },
     "execution_count": 62,
     "metadata": {},
     "output_type": "execute_result"
    }
   ],
   "source": [
    "# Convert this dictionary to a DataFrame and explore the first 10 rows \n",
    "pop_revenue = pd.DataFrame.from_dict(pop_dict, orient='index', columns=['revenue'])\n",
    "pop_revenue.head(10)"
   ]
  },
  {
   "cell_type": "code",
   "execution_count": 63,
   "metadata": {
    "scrolled": true
   },
   "outputs": [
    {
     "name": "stdout",
     "output_type": "stream",
     "text": [
      "<class 'pandas.core.frame.DataFrame'>\n",
      "Int64Index: 9998 entries, 528085 to 11419\n",
      "Data columns (total 1 columns):\n",
      "revenue    9998 non-null int64\n",
      "dtypes: int64(1)\n",
      "memory usage: 156.2 KB\n"
     ]
    }
   ],
   "source": [
    "# Find information on this dataframe\n",
    "pop_revenue.info()"
   ]
  },
  {
   "cell_type": "markdown",
   "metadata": {},
   "source": [
    "The revenue data is quite powerful, and we intend to incorporate a revenue-related question to our analysis later on. As a result, we decided to conduct another API call that will extract the top 100 films with the highest revenues. "
   ]
  },
  {
   "cell_type": "code",
   "execution_count": 64,
   "metadata": {},
   "outputs": [],
   "source": [
    "# Create aa newlist that calls the API using the sort_by=revenue within the URL for only the first 5 pages, i.e. 100 rows of data\n",
    "newlist=[]\n",
    "n=0\n",
    "while n<5:\n",
    "    n+=1\n",
    "    url='http://api.themoviedb.org/3/discover/movie?primary_release_year=2019&sort_by=revenue.desc&offset=20&page={}&api_key='.format(n)\n",
    "    req=requests.get(url+api_key).json()\n",
    "    results=req['results']\n",
    "    newlist.extend(results)"
   ]
  },
  {
   "cell_type": "code",
   "execution_count": 65,
   "metadata": {},
   "outputs": [],
   "source": [
    "# Build a dataframe based on this new API call\n",
    "rev = pd.DataFrame(newlist)"
   ]
  },
  {
   "cell_type": "code",
   "execution_count": 41,
   "metadata": {},
   "outputs": [
    {
     "data": {
      "text/html": [
       "<div>\n",
       "<style scoped>\n",
       "    .dataframe tbody tr th:only-of-type {\n",
       "        vertical-align: middle;\n",
       "    }\n",
       "\n",
       "    .dataframe tbody tr th {\n",
       "        vertical-align: top;\n",
       "    }\n",
       "\n",
       "    .dataframe thead th {\n",
       "        text-align: right;\n",
       "    }\n",
       "</style>\n",
       "<table border=\"1\" class=\"dataframe\">\n",
       "  <thead>\n",
       "    <tr style=\"text-align: right;\">\n",
       "      <th></th>\n",
       "      <th>popularity</th>\n",
       "      <th>vote_count</th>\n",
       "      <th>video</th>\n",
       "      <th>poster_path</th>\n",
       "      <th>id</th>\n",
       "      <th>adult</th>\n",
       "      <th>backdrop_path</th>\n",
       "      <th>original_language</th>\n",
       "      <th>original_title</th>\n",
       "      <th>genre_ids</th>\n",
       "      <th>title</th>\n",
       "      <th>vote_average</th>\n",
       "      <th>overview</th>\n",
       "      <th>release_date</th>\n",
       "    </tr>\n",
       "  </thead>\n",
       "  <tbody>\n",
       "    <tr>\n",
       "      <th>0</th>\n",
       "      <td>184.394</td>\n",
       "      <td>15360</td>\n",
       "      <td>False</td>\n",
       "      <td>/or06FN3Dka5tukK1e9sl16pB3iy.jpg</td>\n",
       "      <td>299534</td>\n",
       "      <td>False</td>\n",
       "      <td>/orjiB3oUIsyz60hoEqkiGpy5CeO.jpg</td>\n",
       "      <td>en</td>\n",
       "      <td>Avengers: Endgame</td>\n",
       "      <td>[28, 12, 878]</td>\n",
       "      <td>Avengers: Endgame</td>\n",
       "      <td>8.3</td>\n",
       "      <td>After the devastating events of Avengers: Infi...</td>\n",
       "      <td>2019-04-24</td>\n",
       "    </tr>\n",
       "    <tr>\n",
       "      <th>1</th>\n",
       "      <td>159.523</td>\n",
       "      <td>6926</td>\n",
       "      <td>False</td>\n",
       "      <td>/dzBtMocZuJbjLOXvrl4zGYigDzh.jpg</td>\n",
       "      <td>420818</td>\n",
       "      <td>False</td>\n",
       "      <td>/nRXO2SnOA75OsWhNhXstHB8ZmI3.jpg</td>\n",
       "      <td>en</td>\n",
       "      <td>The Lion King</td>\n",
       "      <td>[12, 16, 10402, 10751]</td>\n",
       "      <td>The Lion King</td>\n",
       "      <td>7.2</td>\n",
       "      <td>Simba idolizes his father, King Mufasa, and ta...</td>\n",
       "      <td>2019-07-12</td>\n",
       "    </tr>\n",
       "    <tr>\n",
       "      <th>2</th>\n",
       "      <td>265.917</td>\n",
       "      <td>6268</td>\n",
       "      <td>False</td>\n",
       "      <td>/pjeMs3yqRmFL3giJy4PMXWZTTPa.jpg</td>\n",
       "      <td>330457</td>\n",
       "      <td>False</td>\n",
       "      <td>/xJWPZIYOEFIjZpBL7SVBGnzRYXp.jpg</td>\n",
       "      <td>en</td>\n",
       "      <td>Frozen II</td>\n",
       "      <td>[12, 16, 35, 14, 10751]</td>\n",
       "      <td>Frozen II</td>\n",
       "      <td>7.3</td>\n",
       "      <td>Elsa, Anna, Kristoff and Olaf head far into th...</td>\n",
       "      <td>2019-11-20</td>\n",
       "    </tr>\n",
       "    <tr>\n",
       "      <th>3</th>\n",
       "      <td>190.641</td>\n",
       "      <td>8518</td>\n",
       "      <td>False</td>\n",
       "      <td>/4q2NNj4S5dG2RLF9CpXsej7yXl.jpg</td>\n",
       "      <td>429617</td>\n",
       "      <td>False</td>\n",
       "      <td>/5myQbDzw3l8K9yofUXRJ4UTVgam.jpg</td>\n",
       "      <td>en</td>\n",
       "      <td>Spider-Man: Far from Home</td>\n",
       "      <td>[28, 12, 878]</td>\n",
       "      <td>Spider-Man: Far from Home</td>\n",
       "      <td>7.6</td>\n",
       "      <td>Peter Parker and his friends go on a summer tr...</td>\n",
       "      <td>2019-06-28</td>\n",
       "    </tr>\n",
       "    <tr>\n",
       "      <th>4</th>\n",
       "      <td>105.704</td>\n",
       "      <td>10219</td>\n",
       "      <td>False</td>\n",
       "      <td>/AtsgWhDnHTq68L0lLsUrCnM7TjG.jpg</td>\n",
       "      <td>299537</td>\n",
       "      <td>False</td>\n",
       "      <td>/w2PMyoyLU22YvrGK3smVM9fW1jj.jpg</td>\n",
       "      <td>en</td>\n",
       "      <td>Captain Marvel</td>\n",
       "      <td>[28, 12, 878]</td>\n",
       "      <td>Captain Marvel</td>\n",
       "      <td>7.0</td>\n",
       "      <td>The story follows Carol Danvers as she becomes...</td>\n",
       "      <td>2019-03-06</td>\n",
       "    </tr>\n",
       "  </tbody>\n",
       "</table>\n",
       "</div>"
      ],
      "text/plain": [
       "   popularity  vote_count  video                       poster_path      id  \\\n",
       "0     184.394       15360  False  /or06FN3Dka5tukK1e9sl16pB3iy.jpg  299534   \n",
       "1     159.523        6926  False  /dzBtMocZuJbjLOXvrl4zGYigDzh.jpg  420818   \n",
       "2     265.917        6268  False  /pjeMs3yqRmFL3giJy4PMXWZTTPa.jpg  330457   \n",
       "3     190.641        8518  False   /4q2NNj4S5dG2RLF9CpXsej7yXl.jpg  429617   \n",
       "4     105.704       10219  False  /AtsgWhDnHTq68L0lLsUrCnM7TjG.jpg  299537   \n",
       "\n",
       "   adult                     backdrop_path original_language  \\\n",
       "0  False  /orjiB3oUIsyz60hoEqkiGpy5CeO.jpg                en   \n",
       "1  False  /nRXO2SnOA75OsWhNhXstHB8ZmI3.jpg                en   \n",
       "2  False  /xJWPZIYOEFIjZpBL7SVBGnzRYXp.jpg                en   \n",
       "3  False  /5myQbDzw3l8K9yofUXRJ4UTVgam.jpg                en   \n",
       "4  False  /w2PMyoyLU22YvrGK3smVM9fW1jj.jpg                en   \n",
       "\n",
       "              original_title                genre_ids  \\\n",
       "0          Avengers: Endgame            [28, 12, 878]   \n",
       "1              The Lion King   [12, 16, 10402, 10751]   \n",
       "2                  Frozen II  [12, 16, 35, 14, 10751]   \n",
       "3  Spider-Man: Far from Home            [28, 12, 878]   \n",
       "4             Captain Marvel            [28, 12, 878]   \n",
       "\n",
       "                       title  vote_average  \\\n",
       "0          Avengers: Endgame           8.3   \n",
       "1              The Lion King           7.2   \n",
       "2                  Frozen II           7.3   \n",
       "3  Spider-Man: Far from Home           7.6   \n",
       "4             Captain Marvel           7.0   \n",
       "\n",
       "                                            overview release_date  \n",
       "0  After the devastating events of Avengers: Infi...   2019-04-24  \n",
       "1  Simba idolizes his father, King Mufasa, and ta...   2019-07-12  \n",
       "2  Elsa, Anna, Kristoff and Olaf head far into th...   2019-11-20  \n",
       "3  Peter Parker and his friends go on a summer tr...   2019-06-28  \n",
       "4  The story follows Carol Danvers as she becomes...   2019-03-06  "
      ]
     },
     "execution_count": 41,
     "metadata": {},
     "output_type": "execute_result"
    }
   ],
   "source": [
    "rev.head()"
   ]
  },
  {
   "cell_type": "markdown",
   "metadata": {},
   "source": [
    "Now, we will need to pull out the revenue values for these 100 films. Let's do this below, using the same method we implemented earlier:"
   ]
  },
  {
   "cell_type": "code",
   "execution_count": 66,
   "metadata": {
    "scrolled": true
   },
   "outputs": [
    {
     "name": "stdout",
     "output_type": "stream",
     "text": [
      "{299534: 2797800564, 420818: 1656943394, 330457: 1450026933, 429617: 1131927996, 299537: 1128276090, 475557: 1074251311, 181812: 1074144248, 301528: 1073394593, 420817: 1047612394, 512200: 796575993, 384018: 760098996, 615453: 686067000, 166428: 517526875, 747121: 500000000, 420809: 491570967, 474350: 473093228, 447404: 433005346, 399579: 404852543, 373571: 386600138, 530915: 374733942, 466272: 374251247, 287947: 363533271, 458156: 326709727, 546554: 309232797, 290859: 261119292, 496243: 257591776, 458723: 255105930, 479455: 252608480, 320288: 252442974, 450465: 246941965, 521029: 231252591, 359724: 225508210, 329996: 215832199, 481084: 203044905, 535544: 192094429, 331482: 191540586, 280217: 190514361, 568160: 186965409, 431580: 179057149, 453405: 173469516, 431693: 171616764, 504608: 167323950, 540901: 157600000, 522681: 155313078, 412117: 155152550, 423204: 146661977, 419704: 132807427, 454640: 131359052, 522162: 125641396, 567646: 124652206, 338967: 122801777, 480414: 122033739, 549053: 121550750, 400157: 119559110, 499701: 116826172, 746359: 115570314, 566555: 115570314, 157433: 112399944, 440472: 111353135, 417384: 95438172, 522938: 91490353, 511987: 89203432, 515195: 88092097, 515001: 82468705, 505436: 74769845, 536869: 73515024, 458897: 73279888, 521777: 72457330, 501170: 72281712, 487297: 69766483, 537915: 69497587, 572164: 68325551, 501907: 67760877, 573699: 66925842, 585268: 66293455, 723540: 62235335, 438650: 59213931, 567609: 57615777, 577328: 55478164, 454292: 55000000, 459992: 53847136, 525661: 53774397, 502416: 51749995, 522212: 50401502, 473033: 50020902, 599975: 48021766, 530385: 47862188, 535292: 47088457, 536743: 46597100, 464504: 46115383, 533642: 44902237, 456740: 44664690, 554241: 44400000, 422803: 42880428, 620683: 39273021, 445629: 39055536, 491283: 38981322, 509730: 36120360, 541487: 34000000, 491625: 33974264}\n"
     ]
    }
   ],
   "source": [
    "# Create a dictionary to retrieve the revenue data for these 100 films\n",
    "rev_dict = {}\n",
    "\n",
    "for item in newlist:\n",
    "        tmp = tmdb.Movies(item['id']).info()\n",
    "        rev_dict[tmp['id']] = tmp['revenue']\n",
    "    \n",
    "print(rev_dict)"
   ]
  },
  {
   "cell_type": "code",
   "execution_count": 68,
   "metadata": {},
   "outputs": [
    {
     "data": {
      "text/html": [
       "<div>\n",
       "<style scoped>\n",
       "    .dataframe tbody tr th:only-of-type {\n",
       "        vertical-align: middle;\n",
       "    }\n",
       "\n",
       "    .dataframe tbody tr th {\n",
       "        vertical-align: top;\n",
       "    }\n",
       "\n",
       "    .dataframe thead th {\n",
       "        text-align: right;\n",
       "    }\n",
       "</style>\n",
       "<table border=\"1\" class=\"dataframe\">\n",
       "  <thead>\n",
       "    <tr style=\"text-align: right;\">\n",
       "      <th></th>\n",
       "      <th>id</th>\n",
       "      <th>revenue</th>\n",
       "    </tr>\n",
       "  </thead>\n",
       "  <tbody>\n",
       "    <tr>\n",
       "      <th>0</th>\n",
       "      <td>299534</td>\n",
       "      <td>2797800564</td>\n",
       "    </tr>\n",
       "    <tr>\n",
       "      <th>1</th>\n",
       "      <td>420818</td>\n",
       "      <td>1656943394</td>\n",
       "    </tr>\n",
       "    <tr>\n",
       "      <th>2</th>\n",
       "      <td>330457</td>\n",
       "      <td>1450026933</td>\n",
       "    </tr>\n",
       "    <tr>\n",
       "      <th>3</th>\n",
       "      <td>429617</td>\n",
       "      <td>1131927996</td>\n",
       "    </tr>\n",
       "    <tr>\n",
       "      <th>4</th>\n",
       "      <td>299537</td>\n",
       "      <td>1128276090</td>\n",
       "    </tr>\n",
       "    <tr>\n",
       "      <th>...</th>\n",
       "      <td>...</td>\n",
       "      <td>...</td>\n",
       "    </tr>\n",
       "    <tr>\n",
       "      <th>95</th>\n",
       "      <td>445629</td>\n",
       "      <td>39055536</td>\n",
       "    </tr>\n",
       "    <tr>\n",
       "      <th>96</th>\n",
       "      <td>491283</td>\n",
       "      <td>38981322</td>\n",
       "    </tr>\n",
       "    <tr>\n",
       "      <th>97</th>\n",
       "      <td>509730</td>\n",
       "      <td>36120360</td>\n",
       "    </tr>\n",
       "    <tr>\n",
       "      <th>98</th>\n",
       "      <td>541487</td>\n",
       "      <td>34000000</td>\n",
       "    </tr>\n",
       "    <tr>\n",
       "      <th>99</th>\n",
       "      <td>491625</td>\n",
       "      <td>33974264</td>\n",
       "    </tr>\n",
       "  </tbody>\n",
       "</table>\n",
       "<p>100 rows × 2 columns</p>\n",
       "</div>"
      ],
      "text/plain": [
       "        id     revenue\n",
       "0   299534  2797800564\n",
       "1   420818  1656943394\n",
       "2   330457  1450026933\n",
       "3   429617  1131927996\n",
       "4   299537  1128276090\n",
       "..     ...         ...\n",
       "95  445629    39055536\n",
       "96  491283    38981322\n",
       "97  509730    36120360\n",
       "98  541487    34000000\n",
       "99  491625    33974264\n",
       "\n",
       "[100 rows x 2 columns]"
      ]
     },
     "execution_count": 68,
     "metadata": {},
     "output_type": "execute_result"
    }
   ],
   "source": [
    "# Create a DataFrame of this revenue data\n",
    "rev_revenue = pd.DataFrame.from_dict(rev_dict, orient=\"index\").reset_index()\n",
    "rev_revenue.columns = ['id', 'revenue']\n",
    "\n",
    "rev_revenue"
   ]
  },
  {
   "cell_type": "markdown",
   "metadata": {},
   "source": [
    "Now that we have the revenue values for the top 100 films with the highest revenue, let's look at another element: these films' budgets. We will use the same method but this time we will pull out the films' budgets."
   ]
  },
  {
   "cell_type": "code",
   "execution_count": 69,
   "metadata": {},
   "outputs": [
    {
     "name": "stdout",
     "output_type": "stream",
     "text": [
      "{299534: 356000000, 420818: 260000000, 330457: 150000000, 429617: 160000000, 299537: 152000000, 475557: 55000000, 181812: 250000000, 301528: 175000000, 420817: 183000000, 512200: 125000000, 384018: 200000000, 615453: 0, 166428: 129000000, 747121: 0, 420809: 185000000, 474350: 79000000, 447404: 150000000, 399579: 170000000, 373571: 170000000, 530915: 100000000, 466272: 95000000, 287947: 80000000, 458156: 55000000, 546554: 40000000, 290859: 185000000, 496243: 11363000, 458723: 20000000, 479455: 110000000, 320288: 200000000, 450465: 20000000, 521029: 30000000, 359724: 97600000, 329996: 170000000, 481084: 40000000, 535544: 20000000, 331482: 40000000, 280217: 100000000, 568160: 0, 431580: 75000000, 453405: 138000000, 431693: 100000000, 504608: 40000000, 540901: 20000000, 522681: 9000000, 412117: 80000000, 423204: 40000000, 419704: 87500000, 454640: 65000000, 522162: 100000000, 567646: 8120000, 338967: 42000000, 480414: 9000000, 549053: 30000000, 400157: 100000000, 499701: 49000000, 746359: 0, 566555: 0, 157433: 21000000, 440472: 37500000, 417384: 25000000, 522938: 50000000, 511987: 13500000, 515195: 26000000, 515001: 14000000, 505436: 0, 536869: 95000000, 458897: 48000000, 521777: 20000000, 501170: 45000000, 487297: 20000000, 537915: 14000000, 572164: 10892000, 501907: 4000000, 573699: 11936735, 585268: 27941858, 723540: 11500000, 438650: 60000000, 567609: 6000000, 577328: 8751000, 454292: 51000000, 459992: 40000000, 525661: 32000000, 502416: 5000000, 522212: 25000000, 473033: 19000000, 599975: 6500000, 530385: 9000000, 535292: 33000000, 536743: 20000000, 464504: 0, 533642: 10000000, 456740: 50000000, 554241: 29900000, 422803: 0, 620683: 2000000, 445629: 11000000, 491283: 0, 509730: 0, 541487: 12000000, 491625: 5782853}\n"
     ]
    }
   ],
   "source": [
    "# Create a dictionary to retrieve the budget data for these 100 films\n",
    "\n",
    "rev_budget = {}\n",
    "\n",
    "for item in newlist:\n",
    "        tmp = tmdb.Movies(item['id']).info()\n",
    "        rev_budget[tmp['id']] = tmp['budget']\n",
    "    \n",
    "print(rev_budget)"
   ]
  },
  {
   "cell_type": "code",
   "execution_count": 70,
   "metadata": {},
   "outputs": [
    {
     "data": {
      "text/html": [
       "<div>\n",
       "<style scoped>\n",
       "    .dataframe tbody tr th:only-of-type {\n",
       "        vertical-align: middle;\n",
       "    }\n",
       "\n",
       "    .dataframe tbody tr th {\n",
       "        vertical-align: top;\n",
       "    }\n",
       "\n",
       "    .dataframe thead th {\n",
       "        text-align: right;\n",
       "    }\n",
       "</style>\n",
       "<table border=\"1\" class=\"dataframe\">\n",
       "  <thead>\n",
       "    <tr style=\"text-align: right;\">\n",
       "      <th></th>\n",
       "      <th>id</th>\n",
       "      <th>budget</th>\n",
       "    </tr>\n",
       "  </thead>\n",
       "  <tbody>\n",
       "    <tr>\n",
       "      <th>0</th>\n",
       "      <td>299534</td>\n",
       "      <td>356000000</td>\n",
       "    </tr>\n",
       "    <tr>\n",
       "      <th>1</th>\n",
       "      <td>420818</td>\n",
       "      <td>260000000</td>\n",
       "    </tr>\n",
       "    <tr>\n",
       "      <th>2</th>\n",
       "      <td>330457</td>\n",
       "      <td>150000000</td>\n",
       "    </tr>\n",
       "    <tr>\n",
       "      <th>3</th>\n",
       "      <td>429617</td>\n",
       "      <td>160000000</td>\n",
       "    </tr>\n",
       "    <tr>\n",
       "      <th>4</th>\n",
       "      <td>299537</td>\n",
       "      <td>152000000</td>\n",
       "    </tr>\n",
       "    <tr>\n",
       "      <th>...</th>\n",
       "      <td>...</td>\n",
       "      <td>...</td>\n",
       "    </tr>\n",
       "    <tr>\n",
       "      <th>95</th>\n",
       "      <td>445629</td>\n",
       "      <td>11000000</td>\n",
       "    </tr>\n",
       "    <tr>\n",
       "      <th>96</th>\n",
       "      <td>491283</td>\n",
       "      <td>0</td>\n",
       "    </tr>\n",
       "    <tr>\n",
       "      <th>97</th>\n",
       "      <td>509730</td>\n",
       "      <td>0</td>\n",
       "    </tr>\n",
       "    <tr>\n",
       "      <th>98</th>\n",
       "      <td>541487</td>\n",
       "      <td>12000000</td>\n",
       "    </tr>\n",
       "    <tr>\n",
       "      <th>99</th>\n",
       "      <td>491625</td>\n",
       "      <td>5782853</td>\n",
       "    </tr>\n",
       "  </tbody>\n",
       "</table>\n",
       "<p>100 rows × 2 columns</p>\n",
       "</div>"
      ],
      "text/plain": [
       "        id     budget\n",
       "0   299534  356000000\n",
       "1   420818  260000000\n",
       "2   330457  150000000\n",
       "3   429617  160000000\n",
       "4   299537  152000000\n",
       "..     ...        ...\n",
       "95  445629   11000000\n",
       "96  491283          0\n",
       "97  509730          0\n",
       "98  541487   12000000\n",
       "99  491625    5782853\n",
       "\n",
       "[100 rows x 2 columns]"
      ]
     },
     "execution_count": 70,
     "metadata": {},
     "output_type": "execute_result"
    }
   ],
   "source": [
    "# Create a DataFrame for the budget data\n",
    "rev_budget = pd.DataFrame.from_dict(rev_budget, orient=\"index\").reset_index()\n",
    "rev_budget.columns = ['id', 'budget']\n",
    "\n",
    "rev_budget "
   ]
  },
  {
   "cell_type": "markdown",
   "metadata": {},
   "source": [
    "We now have all the data we need for our analysis. We will utilize data from the two different API calls; 1. Top popular films, with 10,000 results and 2. Films with the highest revenue, top 100 results. "
   ]
  },
  {
   "cell_type": "markdown",
   "metadata": {},
   "source": [
    "\n",
    "## Part IV: Joining Tables and Cleaning DataFrames\n",
    "\n",
    "### Section 1: Popularity analysis (using 10,000 rows of data)\n",
    "\n",
    "Our final step in the data cleaning process will be to join these two newly created DataFrames together, in order to have one clear DataFrames that includes all of the information that we would like to consider using for our analysis. Lastly, we will remove unnecessary columns from our DataFrames in order to provide a final clean table. Then, we will save these DataFrames to a new csv file so that they can be accessed in our next notebook, which is where we will conduct our exploratory analysis and create data visualizations."
   ]
  },
  {
   "cell_type": "code",
   "execution_count": 71,
   "metadata": {},
   "outputs": [],
   "source": [
    "# Join the two tables together on movie id\n",
    "total_pop_df = pop.merge(pop_revenue, left_on=\"id\", right_index=True)"
   ]
  },
  {
   "cell_type": "code",
   "execution_count": 72,
   "metadata": {
    "scrolled": true
   },
   "outputs": [
    {
     "data": {
      "text/html": [
       "<div>\n",
       "<style scoped>\n",
       "    .dataframe tbody tr th:only-of-type {\n",
       "        vertical-align: middle;\n",
       "    }\n",
       "\n",
       "    .dataframe tbody tr th {\n",
       "        vertical-align: top;\n",
       "    }\n",
       "\n",
       "    .dataframe thead th {\n",
       "        text-align: right;\n",
       "    }\n",
       "</style>\n",
       "<table border=\"1\" class=\"dataframe\">\n",
       "  <thead>\n",
       "    <tr style=\"text-align: right;\">\n",
       "      <th></th>\n",
       "      <th>popularity</th>\n",
       "      <th>vote_count</th>\n",
       "      <th>video</th>\n",
       "      <th>poster_path</th>\n",
       "      <th>id</th>\n",
       "      <th>adult</th>\n",
       "      <th>backdrop_path</th>\n",
       "      <th>original_language</th>\n",
       "      <th>original_title</th>\n",
       "      <th>genre_ids</th>\n",
       "      <th>title</th>\n",
       "      <th>vote_average</th>\n",
       "      <th>overview</th>\n",
       "      <th>release_date</th>\n",
       "      <th>revenue</th>\n",
       "    </tr>\n",
       "  </thead>\n",
       "  <tbody>\n",
       "    <tr>\n",
       "      <th>0</th>\n",
       "      <td>2931.926</td>\n",
       "      <td>151</td>\n",
       "      <td>False</td>\n",
       "      <td>/7D430eqZj8y3oVkLFfsWXGRcpEG.jpg</td>\n",
       "      <td>528085</td>\n",
       "      <td>False</td>\n",
       "      <td>/5UkzNSOK561c2QRy2Zr4AkADzLT.jpg</td>\n",
       "      <td>en</td>\n",
       "      <td>2067</td>\n",
       "      <td>[18, 878, 53]</td>\n",
       "      <td>2067</td>\n",
       "      <td>5.8</td>\n",
       "      <td>A lowly utility worker is called to the future...</td>\n",
       "      <td>2020-10-01</td>\n",
       "      <td>0</td>\n",
       "    </tr>\n",
       "    <tr>\n",
       "      <th>1</th>\n",
       "      <td>1615.119</td>\n",
       "      <td>117</td>\n",
       "      <td>False</td>\n",
       "      <td>/elZ6JCzSEvFOq4gNjNeZsnRFsvj.jpg</td>\n",
       "      <td>741067</td>\n",
       "      <td>False</td>\n",
       "      <td>/aO5ILS7qnqtFIprbJ40zla0jhpu.jpg</td>\n",
       "      <td>en</td>\n",
       "      <td>Welcome to Sudden Death</td>\n",
       "      <td>[28, 12, 18, 53]</td>\n",
       "      <td>Welcome to Sudden Death</td>\n",
       "      <td>6.6</td>\n",
       "      <td>Jesse Freeman is a former special forces offic...</td>\n",
       "      <td>2020-09-29</td>\n",
       "      <td>0</td>\n",
       "    </tr>\n",
       "  </tbody>\n",
       "</table>\n",
       "</div>"
      ],
      "text/plain": [
       "   popularity  vote_count  video                       poster_path      id  \\\n",
       "0    2931.926         151  False  /7D430eqZj8y3oVkLFfsWXGRcpEG.jpg  528085   \n",
       "1    1615.119         117  False  /elZ6JCzSEvFOq4gNjNeZsnRFsvj.jpg  741067   \n",
       "\n",
       "   adult                     backdrop_path original_language  \\\n",
       "0  False  /5UkzNSOK561c2QRy2Zr4AkADzLT.jpg                en   \n",
       "1  False  /aO5ILS7qnqtFIprbJ40zla0jhpu.jpg                en   \n",
       "\n",
       "            original_title         genre_ids                    title  \\\n",
       "0                     2067     [18, 878, 53]                     2067   \n",
       "1  Welcome to Sudden Death  [28, 12, 18, 53]  Welcome to Sudden Death   \n",
       "\n",
       "   vote_average                                           overview  \\\n",
       "0           5.8  A lowly utility worker is called to the future...   \n",
       "1           6.6  Jesse Freeman is a former special forces offic...   \n",
       "\n",
       "  release_date  revenue  \n",
       "0   2020-10-01        0  \n",
       "1   2020-09-29        0  "
      ]
     },
     "execution_count": 72,
     "metadata": {},
     "output_type": "execute_result"
    }
   ],
   "source": [
    "# View the first two rows of the DataFrame to see that revenue was joined correctly\n",
    "total_pop_df.head(2)"
   ]
  },
  {
   "cell_type": "code",
   "execution_count": 73,
   "metadata": {},
   "outputs": [],
   "source": [
    "# Drop poster path, backdrop path and overview as these columns contain text we will not use. \n",
    "# Drop original_title since we will use the \"title\" column as a reference instead.\n",
    "\n",
    "total_pop_df = total_pop_df.drop(['poster_path', 'backdrop_path', 'overview', 'original_title'], axis=1)"
   ]
  },
  {
   "cell_type": "code",
   "execution_count": 74,
   "metadata": {},
   "outputs": [
    {
     "data": {
      "text/html": [
       "<div>\n",
       "<style scoped>\n",
       "    .dataframe tbody tr th:only-of-type {\n",
       "        vertical-align: middle;\n",
       "    }\n",
       "\n",
       "    .dataframe tbody tr th {\n",
       "        vertical-align: top;\n",
       "    }\n",
       "\n",
       "    .dataframe thead th {\n",
       "        text-align: right;\n",
       "    }\n",
       "</style>\n",
       "<table border=\"1\" class=\"dataframe\">\n",
       "  <thead>\n",
       "    <tr style=\"text-align: right;\">\n",
       "      <th></th>\n",
       "      <th>popularity</th>\n",
       "      <th>vote_count</th>\n",
       "      <th>video</th>\n",
       "      <th>id</th>\n",
       "      <th>adult</th>\n",
       "      <th>original_language</th>\n",
       "      <th>genre_ids</th>\n",
       "      <th>title</th>\n",
       "      <th>vote_average</th>\n",
       "      <th>release_date</th>\n",
       "      <th>revenue</th>\n",
       "    </tr>\n",
       "  </thead>\n",
       "  <tbody>\n",
       "    <tr>\n",
       "      <th>0</th>\n",
       "      <td>2931.926</td>\n",
       "      <td>151</td>\n",
       "      <td>False</td>\n",
       "      <td>528085</td>\n",
       "      <td>False</td>\n",
       "      <td>en</td>\n",
       "      <td>[18, 878, 53]</td>\n",
       "      <td>2067</td>\n",
       "      <td>5.8</td>\n",
       "      <td>2020-10-01</td>\n",
       "      <td>0</td>\n",
       "    </tr>\n",
       "    <tr>\n",
       "      <th>1</th>\n",
       "      <td>1615.119</td>\n",
       "      <td>117</td>\n",
       "      <td>False</td>\n",
       "      <td>741067</td>\n",
       "      <td>False</td>\n",
       "      <td>en</td>\n",
       "      <td>[28, 12, 18, 53]</td>\n",
       "      <td>Welcome to Sudden Death</td>\n",
       "      <td>6.6</td>\n",
       "      <td>2020-09-29</td>\n",
       "      <td>0</td>\n",
       "    </tr>\n",
       "    <tr>\n",
       "      <th>2</th>\n",
       "      <td>1262.157</td>\n",
       "      <td>2146</td>\n",
       "      <td>False</td>\n",
       "      <td>497582</td>\n",
       "      <td>False</td>\n",
       "      <td>en</td>\n",
       "      <td>[80, 18, 9648]</td>\n",
       "      <td>Enola Holmes</td>\n",
       "      <td>7.6</td>\n",
       "      <td>2020-09-23</td>\n",
       "      <td>0</td>\n",
       "    </tr>\n",
       "    <tr>\n",
       "      <th>3</th>\n",
       "      <td>870.005</td>\n",
       "      <td>145</td>\n",
       "      <td>False</td>\n",
       "      <td>724989</td>\n",
       "      <td>False</td>\n",
       "      <td>en</td>\n",
       "      <td>[28, 53]</td>\n",
       "      <td>Hard Kill</td>\n",
       "      <td>4.7</td>\n",
       "      <td>2020-08-25</td>\n",
       "      <td>0</td>\n",
       "    </tr>\n",
       "    <tr>\n",
       "      <th>4</th>\n",
       "      <td>868.324</td>\n",
       "      <td>2556</td>\n",
       "      <td>False</td>\n",
       "      <td>337401</td>\n",
       "      <td>False</td>\n",
       "      <td>en</td>\n",
       "      <td>[28, 12, 18, 14]</td>\n",
       "      <td>Mulan</td>\n",
       "      <td>7.3</td>\n",
       "      <td>2020-09-04</td>\n",
       "      <td>57000000</td>\n",
       "    </tr>\n",
       "  </tbody>\n",
       "</table>\n",
       "</div>"
      ],
      "text/plain": [
       "   popularity  vote_count  video      id  adult original_language  \\\n",
       "0    2931.926         151  False  528085  False                en   \n",
       "1    1615.119         117  False  741067  False                en   \n",
       "2    1262.157        2146  False  497582  False                en   \n",
       "3     870.005         145  False  724989  False                en   \n",
       "4     868.324        2556  False  337401  False                en   \n",
       "\n",
       "          genre_ids                    title  vote_average release_date  \\\n",
       "0     [18, 878, 53]                     2067           5.8   2020-10-01   \n",
       "1  [28, 12, 18, 53]  Welcome to Sudden Death           6.6   2020-09-29   \n",
       "2    [80, 18, 9648]             Enola Holmes           7.6   2020-09-23   \n",
       "3          [28, 53]                Hard Kill           4.7   2020-08-25   \n",
       "4  [28, 12, 18, 14]                    Mulan           7.3   2020-09-04   \n",
       "\n",
       "    revenue  \n",
       "0         0  \n",
       "1         0  \n",
       "2         0  \n",
       "3         0  \n",
       "4  57000000  "
      ]
     },
     "execution_count": 74,
     "metadata": {},
     "output_type": "execute_result"
    }
   ],
   "source": [
    "total_pop_df.head()"
   ]
  },
  {
   "cell_type": "code",
   "execution_count": 75,
   "metadata": {},
   "outputs": [],
   "source": [
    "# Save the new DataFrame to csv file \n",
    "total_pop_df.to_csv('Moviesdata_revenue.csv')\n"
   ]
  },
  {
   "cell_type": "markdown",
   "metadata": {},
   "source": [
    "### Section 2: Top Revenue analysis (using 100 rows of data)\n",
    "\n",
    "We will now look at the data from the second API call we made, that looks at the 100 films with the highest revvenue. Our first step will be to join the budget and revenue tables, and then we will join this joint table with the larger DataFrame. "
   ]
  },
  {
   "cell_type": "code",
   "execution_count": 78,
   "metadata": {},
   "outputs": [],
   "source": [
    "# Join the budget and revenue data for the 100 films with the highest revenues\n",
    "df_budget_revenue = rev_budget.join(rev_revenue.set_index('id'), on='id')"
   ]
  },
  {
   "cell_type": "code",
   "execution_count": 77,
   "metadata": {},
   "outputs": [
    {
     "data": {
      "text/html": [
       "<div>\n",
       "<style scoped>\n",
       "    .dataframe tbody tr th:only-of-type {\n",
       "        vertical-align: middle;\n",
       "    }\n",
       "\n",
       "    .dataframe tbody tr th {\n",
       "        vertical-align: top;\n",
       "    }\n",
       "\n",
       "    .dataframe thead th {\n",
       "        text-align: right;\n",
       "    }\n",
       "</style>\n",
       "<table border=\"1\" class=\"dataframe\">\n",
       "  <thead>\n",
       "    <tr style=\"text-align: right;\">\n",
       "      <th></th>\n",
       "      <th>id</th>\n",
       "      <th>budget</th>\n",
       "      <th>revenue</th>\n",
       "    </tr>\n",
       "  </thead>\n",
       "  <tbody>\n",
       "    <tr>\n",
       "      <th>0</th>\n",
       "      <td>299534</td>\n",
       "      <td>356000000</td>\n",
       "      <td>2797800564</td>\n",
       "    </tr>\n",
       "    <tr>\n",
       "      <th>1</th>\n",
       "      <td>420818</td>\n",
       "      <td>260000000</td>\n",
       "      <td>1656943394</td>\n",
       "    </tr>\n",
       "    <tr>\n",
       "      <th>2</th>\n",
       "      <td>330457</td>\n",
       "      <td>150000000</td>\n",
       "      <td>1450026933</td>\n",
       "    </tr>\n",
       "    <tr>\n",
       "      <th>3</th>\n",
       "      <td>429617</td>\n",
       "      <td>160000000</td>\n",
       "      <td>1131927996</td>\n",
       "    </tr>\n",
       "    <tr>\n",
       "      <th>4</th>\n",
       "      <td>299537</td>\n",
       "      <td>152000000</td>\n",
       "      <td>1128276090</td>\n",
       "    </tr>\n",
       "    <tr>\n",
       "      <th>...</th>\n",
       "      <td>...</td>\n",
       "      <td>...</td>\n",
       "      <td>...</td>\n",
       "    </tr>\n",
       "    <tr>\n",
       "      <th>95</th>\n",
       "      <td>445629</td>\n",
       "      <td>11000000</td>\n",
       "      <td>39055536</td>\n",
       "    </tr>\n",
       "    <tr>\n",
       "      <th>96</th>\n",
       "      <td>491283</td>\n",
       "      <td>0</td>\n",
       "      <td>38981322</td>\n",
       "    </tr>\n",
       "    <tr>\n",
       "      <th>97</th>\n",
       "      <td>509730</td>\n",
       "      <td>0</td>\n",
       "      <td>36120360</td>\n",
       "    </tr>\n",
       "    <tr>\n",
       "      <th>98</th>\n",
       "      <td>541487</td>\n",
       "      <td>12000000</td>\n",
       "      <td>34000000</td>\n",
       "    </tr>\n",
       "    <tr>\n",
       "      <th>99</th>\n",
       "      <td>491625</td>\n",
       "      <td>5782853</td>\n",
       "      <td>33974264</td>\n",
       "    </tr>\n",
       "  </tbody>\n",
       "</table>\n",
       "<p>100 rows × 3 columns</p>\n",
       "</div>"
      ],
      "text/plain": [
       "        id     budget     revenue\n",
       "0   299534  356000000  2797800564\n",
       "1   420818  260000000  1656943394\n",
       "2   330457  150000000  1450026933\n",
       "3   429617  160000000  1131927996\n",
       "4   299537  152000000  1128276090\n",
       "..     ...        ...         ...\n",
       "95  445629   11000000    39055536\n",
       "96  491283          0    38981322\n",
       "97  509730          0    36120360\n",
       "98  541487   12000000    34000000\n",
       "99  491625    5782853    33974264\n",
       "\n",
       "[100 rows x 3 columns]"
      ]
     },
     "execution_count": 77,
     "metadata": {},
     "output_type": "execute_result"
    }
   ],
   "source": [
    "df_budget_revenue"
   ]
  },
  {
   "cell_type": "code",
   "execution_count": 82,
   "metadata": {
    "scrolled": true
   },
   "outputs": [
    {
     "data": {
      "text/html": [
       "<div>\n",
       "<style scoped>\n",
       "    .dataframe tbody tr th:only-of-type {\n",
       "        vertical-align: middle;\n",
       "    }\n",
       "\n",
       "    .dataframe tbody tr th {\n",
       "        vertical-align: top;\n",
       "    }\n",
       "\n",
       "    .dataframe thead th {\n",
       "        text-align: right;\n",
       "    }\n",
       "</style>\n",
       "<table border=\"1\" class=\"dataframe\">\n",
       "  <thead>\n",
       "    <tr style=\"text-align: right;\">\n",
       "      <th></th>\n",
       "      <th>id</th>\n",
       "      <th>budget</th>\n",
       "      <th>revenue</th>\n",
       "      <th>popularity</th>\n",
       "      <th>vote_count</th>\n",
       "      <th>video</th>\n",
       "      <th>poster_path</th>\n",
       "      <th>adult</th>\n",
       "      <th>backdrop_path</th>\n",
       "      <th>original_language</th>\n",
       "      <th>original_title</th>\n",
       "      <th>genre_ids</th>\n",
       "      <th>title</th>\n",
       "      <th>vote_average</th>\n",
       "      <th>overview</th>\n",
       "      <th>release_date</th>\n",
       "    </tr>\n",
       "  </thead>\n",
       "  <tbody>\n",
       "    <tr>\n",
       "      <th>0</th>\n",
       "      <td>299534</td>\n",
       "      <td>356000000</td>\n",
       "      <td>2797800564</td>\n",
       "      <td>184.394</td>\n",
       "      <td>15360</td>\n",
       "      <td>False</td>\n",
       "      <td>/or06FN3Dka5tukK1e9sl16pB3iy.jpg</td>\n",
       "      <td>False</td>\n",
       "      <td>/orjiB3oUIsyz60hoEqkiGpy5CeO.jpg</td>\n",
       "      <td>en</td>\n",
       "      <td>Avengers: Endgame</td>\n",
       "      <td>[28, 12, 878]</td>\n",
       "      <td>Avengers: Endgame</td>\n",
       "      <td>8.3</td>\n",
       "      <td>After the devastating events of Avengers: Infi...</td>\n",
       "      <td>2019-04-24</td>\n",
       "    </tr>\n",
       "    <tr>\n",
       "      <th>1</th>\n",
       "      <td>420818</td>\n",
       "      <td>260000000</td>\n",
       "      <td>1656943394</td>\n",
       "      <td>159.523</td>\n",
       "      <td>6926</td>\n",
       "      <td>False</td>\n",
       "      <td>/dzBtMocZuJbjLOXvrl4zGYigDzh.jpg</td>\n",
       "      <td>False</td>\n",
       "      <td>/nRXO2SnOA75OsWhNhXstHB8ZmI3.jpg</td>\n",
       "      <td>en</td>\n",
       "      <td>The Lion King</td>\n",
       "      <td>[12, 16, 10402, 10751]</td>\n",
       "      <td>The Lion King</td>\n",
       "      <td>7.2</td>\n",
       "      <td>Simba idolizes his father, King Mufasa, and ta...</td>\n",
       "      <td>2019-07-12</td>\n",
       "    </tr>\n",
       "    <tr>\n",
       "      <th>2</th>\n",
       "      <td>330457</td>\n",
       "      <td>150000000</td>\n",
       "      <td>1450026933</td>\n",
       "      <td>265.917</td>\n",
       "      <td>6268</td>\n",
       "      <td>False</td>\n",
       "      <td>/pjeMs3yqRmFL3giJy4PMXWZTTPa.jpg</td>\n",
       "      <td>False</td>\n",
       "      <td>/xJWPZIYOEFIjZpBL7SVBGnzRYXp.jpg</td>\n",
       "      <td>en</td>\n",
       "      <td>Frozen II</td>\n",
       "      <td>[12, 16, 35, 14, 10751]</td>\n",
       "      <td>Frozen II</td>\n",
       "      <td>7.3</td>\n",
       "      <td>Elsa, Anna, Kristoff and Olaf head far into th...</td>\n",
       "      <td>2019-11-20</td>\n",
       "    </tr>\n",
       "    <tr>\n",
       "      <th>3</th>\n",
       "      <td>429617</td>\n",
       "      <td>160000000</td>\n",
       "      <td>1131927996</td>\n",
       "      <td>190.641</td>\n",
       "      <td>8518</td>\n",
       "      <td>False</td>\n",
       "      <td>/4q2NNj4S5dG2RLF9CpXsej7yXl.jpg</td>\n",
       "      <td>False</td>\n",
       "      <td>/5myQbDzw3l8K9yofUXRJ4UTVgam.jpg</td>\n",
       "      <td>en</td>\n",
       "      <td>Spider-Man: Far from Home</td>\n",
       "      <td>[28, 12, 878]</td>\n",
       "      <td>Spider-Man: Far from Home</td>\n",
       "      <td>7.6</td>\n",
       "      <td>Peter Parker and his friends go on a summer tr...</td>\n",
       "      <td>2019-06-28</td>\n",
       "    </tr>\n",
       "    <tr>\n",
       "      <th>4</th>\n",
       "      <td>299537</td>\n",
       "      <td>152000000</td>\n",
       "      <td>1128276090</td>\n",
       "      <td>105.704</td>\n",
       "      <td>10219</td>\n",
       "      <td>False</td>\n",
       "      <td>/AtsgWhDnHTq68L0lLsUrCnM7TjG.jpg</td>\n",
       "      <td>False</td>\n",
       "      <td>/w2PMyoyLU22YvrGK3smVM9fW1jj.jpg</td>\n",
       "      <td>en</td>\n",
       "      <td>Captain Marvel</td>\n",
       "      <td>[28, 12, 878]</td>\n",
       "      <td>Captain Marvel</td>\n",
       "      <td>7.0</td>\n",
       "      <td>The story follows Carol Danvers as she becomes...</td>\n",
       "      <td>2019-03-06</td>\n",
       "    </tr>\n",
       "  </tbody>\n",
       "</table>\n",
       "</div>"
      ],
      "text/plain": [
       "       id     budget     revenue  popularity  vote_count  video  \\\n",
       "0  299534  356000000  2797800564     184.394       15360  False   \n",
       "1  420818  260000000  1656943394     159.523        6926  False   \n",
       "2  330457  150000000  1450026933     265.917        6268  False   \n",
       "3  429617  160000000  1131927996     190.641        8518  False   \n",
       "4  299537  152000000  1128276090     105.704       10219  False   \n",
       "\n",
       "                        poster_path  adult                     backdrop_path  \\\n",
       "0  /or06FN3Dka5tukK1e9sl16pB3iy.jpg  False  /orjiB3oUIsyz60hoEqkiGpy5CeO.jpg   \n",
       "1  /dzBtMocZuJbjLOXvrl4zGYigDzh.jpg  False  /nRXO2SnOA75OsWhNhXstHB8ZmI3.jpg   \n",
       "2  /pjeMs3yqRmFL3giJy4PMXWZTTPa.jpg  False  /xJWPZIYOEFIjZpBL7SVBGnzRYXp.jpg   \n",
       "3   /4q2NNj4S5dG2RLF9CpXsej7yXl.jpg  False  /5myQbDzw3l8K9yofUXRJ4UTVgam.jpg   \n",
       "4  /AtsgWhDnHTq68L0lLsUrCnM7TjG.jpg  False  /w2PMyoyLU22YvrGK3smVM9fW1jj.jpg   \n",
       "\n",
       "  original_language             original_title                genre_ids  \\\n",
       "0                en          Avengers: Endgame            [28, 12, 878]   \n",
       "1                en              The Lion King   [12, 16, 10402, 10751]   \n",
       "2                en                  Frozen II  [12, 16, 35, 14, 10751]   \n",
       "3                en  Spider-Man: Far from Home            [28, 12, 878]   \n",
       "4                en             Captain Marvel            [28, 12, 878]   \n",
       "\n",
       "                       title  vote_average  \\\n",
       "0          Avengers: Endgame           8.3   \n",
       "1              The Lion King           7.2   \n",
       "2                  Frozen II           7.3   \n",
       "3  Spider-Man: Far from Home           7.6   \n",
       "4             Captain Marvel           7.0   \n",
       "\n",
       "                                            overview release_date  \n",
       "0  After the devastating events of Avengers: Infi...   2019-04-24  \n",
       "1  Simba idolizes his father, King Mufasa, and ta...   2019-07-12  \n",
       "2  Elsa, Anna, Kristoff and Olaf head far into th...   2019-11-20  \n",
       "3  Peter Parker and his friends go on a summer tr...   2019-06-28  \n",
       "4  The story follows Carol Danvers as she becomes...   2019-03-06  "
      ]
     },
     "execution_count": 82,
     "metadata": {},
     "output_type": "execute_result"
    }
   ],
   "source": [
    "# Now join the budget and revenue variables with the larger dataset\n",
    "top_revenue_df = df_budget_revenue.join(rev.set_index('id'), on='id')\n",
    "top_revenue_df.head()"
   ]
  },
  {
   "cell_type": "code",
   "execution_count": 83,
   "metadata": {},
   "outputs": [],
   "source": [
    "# Save the new DataFrame to csv file \n",
    "top_revenue_df.to_csv('Top100byrevenue.csv')"
   ]
  },
  {
   "cell_type": "markdown",
   "metadata": {},
   "source": [
    "We now have two DataFrames we can work with! To recap, the first API call, which looked at 10,000 films sorted by popularity, is saved under the DataFrame \"total_pop_df\". The second API call, which looked at 100 films with the top revenues, is saved under the DataFrame called \"top_revenue_df\". "
   ]
  },
  {
   "cell_type": "markdown",
   "metadata": {},
   "source": [
    "## Part V: Data Visualization and Analysis"
   ]
  },
  {
   "cell_type": "code",
   "execution_count": null,
   "metadata": {},
   "outputs": [],
   "source": []
  },
  {
   "cell_type": "code",
   "execution_count": null,
   "metadata": {},
   "outputs": [],
   "source": []
  }
 ],
 "metadata": {
  "kernelspec": {
   "display_name": "learn-env",
   "language": "python",
   "name": "learn-env"
  },
  "language_info": {
   "codemirror_mode": {
    "name": "ipython",
    "version": 3
   },
   "file_extension": ".py",
   "mimetype": "text/x-python",
   "name": "python",
   "nbconvert_exporter": "python",
   "pygments_lexer": "ipython3",
   "version": "3.6.9"
  }
 },
 "nbformat": 4,
 "nbformat_minor": 4
}
