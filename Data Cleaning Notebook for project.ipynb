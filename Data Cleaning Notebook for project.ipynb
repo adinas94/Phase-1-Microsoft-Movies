{
 "cells": [
  {
   "cell_type": "markdown",
   "metadata": {},
   "source": [
    "# Phase 1 Final Project \n",
    "\n",
    "\n",
    "* Student Names: Adina Steinman, Chinh Ho, Andrew Banner \n",
    "* Instructor Name: Yish Lim\n",
    "\n",
    "## Introduction \n",
    "\n",
    "Throughout Phase 1, we have learned various ways to explore datasets. This notebook will focus on the data cleaning portion of our Project; learning how to use the TMDB API, navigating and exploring data from the API, selecting relevant data for our analyses, and constructing DataFrames. \n",
    "\n",
    "\n",
    "## Part I: Getting Started\n",
    "\n",
    "Our first step will involve importing all the necessary packages for our analyses. We will import \"requests\" in order to use the requests.get() method to investigate the API, import \"json\" to view our data in json format, import \"pandas\" to transfer our data into DataFrames, import \"time\" to include a delay in our API call when pulling large sets of data, and lastly but most importantly, import \"tmdbsimple\", the TMDB specific wrapper that will assist in exploring and analyzing this specfiic API.\n",
    "\n",
    "We will then create a function that allows us to open the API call in json format, as well as retrieve the API key we have created, without displaying the precise API key that we used (as we don't want to give our password away!).\n",
    "\n"
   ]
  },
  {
   "cell_type": "code",
   "execution_count": 1,
   "metadata": {},
   "outputs": [],
   "source": [
    "# import the necessary packages for the data cleaning process\n",
    "import requests\n",
    "import json\n",
    "import pandas as pd\n",
    "import time \n",
    "import tmdbsimple as tmdb"
   ]
  },
  {
   "cell_type": "code",
   "execution_count": 2,
   "metadata": {},
   "outputs": [],
   "source": [
    "# create a function \"get_keys\" to retrieve API key from file on local computer\n",
    "\n",
    "def get_keys(path):\n",
    "    with open(path) as f:\n",
    "        return json.load(f)"
   ]
  },
  {
   "cell_type": "code",
   "execution_count": 3,
   "metadata": {},
   "outputs": [],
   "source": [
    "# retrieve API key\n",
    "\n",
    "keys = get_keys(\"/Users/adinasteinman/.secret/movies_api.json\")\n",
    "api_key = keys['api_key']"
   ]
  },
  {
   "cell_type": "code",
   "execution_count": 4,
   "metadata": {},
   "outputs": [],
   "source": [
    "# set API key equal to TMDB key to be used in tmdbsimple wrapper \n",
    "\n",
    "tmdb.API_KEY = api_key"
   ]
  },
  {
   "cell_type": "markdown",
   "metadata": {},
   "source": [
    "## Part II: Data Exploration\n",
    "\n",
    "Our next step will be to get to know the data from TMDB Simple. We will investigate this data using different techniques, such as the \"movies\", \"search\" and \"discover\" calls. We will also look at how to call the API using the requests.get method, and will compare the two exploration methods and determine which we would prefer to use for the remainder of our analysis. The goal of this section is to find different ways to extract different data and to use this exercise to assist with determining which data we would like to analyze."
   ]
  },
  {
   "cell_type": "code",
   "execution_count": 5,
   "metadata": {},
   "outputs": [
    {
     "data": {
      "text/plain": [
       "{'adult': False,\n",
       " 'backdrop_path': '/5J9lhMZHVQRfH8BV4hyehwptzKp.jpg',\n",
       " 'belongs_to_collection': None,\n",
       " 'budget': 4000000,\n",
       " 'genres': [{'id': 80, 'name': 'Crime'}, {'id': 35, 'name': 'Comedy'}],\n",
       " 'homepage': '',\n",
       " 'id': 5,\n",
       " 'imdb_id': 'tt0113101',\n",
       " 'original_language': 'en',\n",
       " 'original_title': 'Four Rooms',\n",
       " 'overview': \"It's Ted the Bellhop's first night on the job...and the hotel's very unusual guests are about to place him in some outrageous predicaments. It seems that this evening's room service is serving up one unbelievable happening after another.\",\n",
       " 'popularity': 14.543,\n",
       " 'poster_path': '/uZSmxBLIuZ8gpadjAWNdA5aQDAc.jpg',\n",
       " 'production_companies': [{'id': 14,\n",
       "   'logo_path': '/m6AHu84oZQxvq7n1rsvMNJIAsMu.png',\n",
       "   'name': 'Miramax',\n",
       "   'origin_country': 'US'},\n",
       "  {'id': 59,\n",
       "   'logo_path': '/yH7OMeSxhfP0AVM6iT0rsF3F4ZC.png',\n",
       "   'name': 'A Band Apart',\n",
       "   'origin_country': 'US'}],\n",
       " 'production_countries': [{'iso_3166_1': 'US',\n",
       "   'name': 'United States of America'}],\n",
       " 'release_date': '1995-12-09',\n",
       " 'revenue': 4257354,\n",
       " 'runtime': 98,\n",
       " 'spoken_languages': [{'iso_639_1': 'en', 'name': 'English'}],\n",
       " 'status': 'Released',\n",
       " 'tagline': \"Twelve outrageous guests. Four scandalous requests. And one lone bellhop, in his first day on the job, who's in for the wildest New year's Eve of his life.\",\n",
       " 'title': 'Four Rooms',\n",
       " 'video': False,\n",
       " 'vote_average': 5.8,\n",
       " 'vote_count': 1759}"
      ]
     },
     "execution_count": 5,
     "metadata": {},
     "output_type": "execute_result"
    }
   ],
   "source": [
    "# explore the data available when use the \"tmdb.Movies call\"\n",
    "\n",
    "tmdb.Movies(5).info()"
   ]
  },
  {
   "cell_type": "code",
   "execution_count": 6,
   "metadata": {},
   "outputs": [],
   "source": [
    "# input the TMDB \"search\" function\n",
    "\n",
    "search = tmdb.Search()"
   ]
  },
  {
   "cell_type": "code",
   "execution_count": 7,
   "metadata": {},
   "outputs": [
    {
     "data": {
      "text/plain": [
       "{'page': 1,\n",
       " 'results': [{'id': 82346,\n",
       "   'logo_path': '/jqgK6CSkPrEsIv6Nk390JaBcXYF.png',\n",
       "   'name': 'Sony Pictures',\n",
       "   'origin_country': 'JP'},\n",
       "  {'id': 34,\n",
       "   'logo_path': '/GagSvqWlyPdkFHMfQ3pNq6ix9P.png',\n",
       "   'name': 'Sony Pictures',\n",
       "   'origin_country': 'US'},\n",
       "  {'id': 134941,\n",
       "   'logo_path': None,\n",
       "   'name': 'Sony Pictures',\n",
       "   'origin_country': ''},\n",
       "  {'id': 11073,\n",
       "   'logo_path': '/wHs44fktdoj6c378ZbSWfzKsM2Z.png',\n",
       "   'name': 'Sony Pictures Television',\n",
       "   'origin_country': 'US'},\n",
       "  {'id': 30692,\n",
       "   'logo_path': '/4ZSWXR7TfxwJbXGcnOAf617AC3h.png',\n",
       "   'name': 'Sony Pictures Imageworks',\n",
       "   'origin_country': 'CA'},\n",
       "  {'id': 8285,\n",
       "   'logo_path': None,\n",
       "   'name': 'Sony Pictures Studio',\n",
       "   'origin_country': ''},\n",
       "  {'id': 58,\n",
       "   'logo_path': '/voYCwlBHJQANtjvm5MNIkCF1dDH.png',\n",
       "   'name': 'Sony Pictures Classics',\n",
       "   'origin_country': 'US'},\n",
       "  {'id': 2251,\n",
       "   'logo_path': '/6l16UFSkZ1oPpyBYaILgffFZlTc.png',\n",
       "   'name': 'Sony Pictures Animation',\n",
       "   'origin_country': 'US'},\n",
       "  {'id': 65451,\n",
       "   'logo_path': None,\n",
       "   'name': 'Sony Pictures Digital',\n",
       "   'origin_country': ''},\n",
       "  {'id': 3045,\n",
       "   'logo_path': '/5jNRqXspCmQ3XkHNzuZIbvnHOWw.png',\n",
       "   'name': 'Sony Pictures Releasing',\n",
       "   'origin_country': 'US'},\n",
       "  {'id': 101555,\n",
       "   'logo_path': None,\n",
       "   'name': 'Sony Pictures Productions',\n",
       "   'origin_country': ''},\n",
       "  {'id': 63520,\n",
       "   'logo_path': None,\n",
       "   'name': 'Sony Pictures International Productions',\n",
       "   'origin_country': 'US'},\n",
       "  {'id': 86203,\n",
       "   'logo_path': '/o9jUAJJd1wc4Hg1cvp85kXMcCKD.png',\n",
       "   'name': 'Sony Pictures Television International',\n",
       "   'origin_country': 'US'},\n",
       "  {'id': 5388,\n",
       "   'logo_path': '/i6tbNeVEi7s1uN97s2o0LhEMuF0.png',\n",
       "   'name': 'Sony Pictures Home Entertainment',\n",
       "   'origin_country': 'US'},\n",
       "  {'id': 128923,\n",
       "   'logo_path': None,\n",
       "   'name': 'Sony Pictures Entertainment France',\n",
       "   'origin_country': 'FR'},\n",
       "  {'id': 134940,\n",
       "   'logo_path': None,\n",
       "   'name': 'Sony Pictures Home Entertaiment',\n",
       "   'origin_country': ''},\n",
       "  {'id': 128372,\n",
       "   'logo_path': None,\n",
       "   'name': 'Sony Pictures Entertainment Korea',\n",
       "   'origin_country': 'KR'},\n",
       "  {'id': 118405,\n",
       "   'logo_path': None,\n",
       "   'name': 'Sony Pictures Entertainment Brazil',\n",
       "   'origin_country': 'BR'},\n",
       "  {'id': 94444,\n",
       "   'logo_path': None,\n",
       "   'name': 'Sony Pictures Networks Productions',\n",
       "   'origin_country': 'IN'},\n",
       "  {'id': 14577,\n",
       "   'logo_path': '/y9hKsLfQ6JBAwqKMdrOFlH7Mrfv.png',\n",
       "   'name': 'Sony Pictures Worldwide Acquisitions (SPWA)',\n",
       "   'origin_country': 'US'}],\n",
       " 'total_pages': 2,\n",
       " 'total_results': 24}"
      ]
     },
     "execution_count": 7,
     "metadata": {},
     "output_type": "execute_result"
    }
   ],
   "source": [
    "# explore the TMDB search function by searching for all \"Sony Pictures\" films\n",
    "\n",
    "response1 = search.company(query='Sony Pictures')\n",
    "response1"
   ]
  },
  {
   "cell_type": "code",
   "execution_count": 8,
   "metadata": {},
   "outputs": [
    {
     "name": "stdout",
     "output_type": "stream",
     "text": [
      "JP\n",
      "US\n",
      "\n",
      "US\n",
      "CA\n",
      "\n",
      "US\n",
      "US\n",
      "\n",
      "US\n",
      "\n",
      "US\n",
      "US\n",
      "US\n",
      "FR\n",
      "\n",
      "KR\n",
      "BR\n",
      "IN\n",
      "US\n"
     ]
    }
   ],
   "source": [
    "# use for loop to explore 'origin country' of the results\n",
    "\n",
    "for movie in response1['results']:\n",
    "    print(movie['origin_country'])"
   ]
  },
  {
   "cell_type": "code",
   "execution_count": 9,
   "metadata": {},
   "outputs": [],
   "source": [
    "# input TMDB discover method\n",
    "\n",
    "discover = tmdb.Discover()"
   ]
  },
  {
   "cell_type": "code",
   "execution_count": 10,
   "metadata": {},
   "outputs": [
    {
     "name": "stdout",
     "output_type": "stream",
     "text": [
      "The Last: Naruto the Movie\n",
      "Terrifier\n",
      "Your Name.\n",
      "Harry Potter and the Prisoner of Azkaban\n",
      "A Silent Voice\n",
      "Dragon Ball Z: Resurrection 'F'\n",
      "Harry Potter and the Half-Blood Prince\n",
      "ABCs of Death 2 1/2\n",
      "Deadpool\n",
      "Yu-Gi-Oh!: The Dark Side of Dimensions\n",
      "Hacksaw Ridge\n",
      "Scream at the Devil\n",
      "Doctor Strange\n",
      "The Maze Runner\n",
      "Harry Potter and the Deathly Hallows: Part 2\n",
      "The Purge: Election Year\n",
      "Harry Potter and the Deathly Hallows: Part 1\n",
      "The Hobbit: The Battle of the Five Armies\n",
      "Sing\n",
      "Containment\n"
     ]
    }
   ],
   "source": [
    "# test the discover method to find titles for films in the year 2016\n",
    "\n",
    "response2 = discover.movie(year=2016)\n",
    "response2\n",
    "for value in response2['results']:\n",
    "    print(value['title'])"
   ]
  },
  {
   "cell_type": "code",
   "execution_count": 11,
   "metadata": {},
   "outputs": [
    {
     "data": {
      "text/plain": [
       "20"
      ]
     },
     "execution_count": 11,
     "metadata": {},
     "output_type": "execute_result"
    }
   ],
   "source": [
    "# Find the length of the results \n",
    "# This should tell us how many results we are able to explore in each API call \n",
    "len(response2['results'])"
   ]
  },
  {
   "cell_type": "code",
   "execution_count": 12,
   "metadata": {},
   "outputs": [
    {
     "data": {
      "text/plain": [
       "[{'popularity': 872.93,\n",
       "  'vote_count': 43,\n",
       "  'video': False,\n",
       "  'poster_path': '/5aL71e0XBgHZ6zdWcWeuEhwD2Gw.jpg',\n",
       "  'id': 721656,\n",
       "  'adult': False,\n",
       "  'backdrop_path': '/5gTQmnGYKxDfmUWJ9GUWqrszRxN.jpg',\n",
       "  'original_language': 'en',\n",
       "  'original_title': 'Happy Halloween Scooby-Doo!',\n",
       "  'genre_ids': [16, 35, 80, 9648, 10751],\n",
       "  'title': 'Happy Halloween Scooby-Doo!',\n",
       "  'vote_average': 7.8,\n",
       "  'overview': 'Scooby-Doo and the gang team up with their pals, Bill Nye The Science Guy and Elvira Mistress of the Dark, to solve this mystery of gigantic proportions and save Crystal Cove!',\n",
       "  'release_date': '2020-10-06'},\n",
       " {'popularity': 772.926,\n",
       "  'vote_count': 91,\n",
       "  'video': False,\n",
       "  'poster_path': '/xqvX5A24dbIWaeYsMTxxKX5qOfz.jpg',\n",
       "  'id': 660982,\n",
       "  'adult': False,\n",
       "  'backdrop_path': '/75ooojtgiKYm5LcCczbCexioZze.jpg',\n",
       "  'original_language': 'en',\n",
       "  'original_title': \"American Pie Presents: Girls' Rules\",\n",
       "  'genre_ids': [35],\n",
       "  'title': 'American Pie Presents: Girls Rules',\n",
       "  'vote_average': 6.6,\n",
       "  'overview': \"It's Senior year at East Great Falls. Annie, Kayla, Michelle, and Stephanie decide to harness their girl power and band together to get what they want their last year of high school.\",\n",
       "  'release_date': '2020-10-06'}]"
      ]
     },
     "execution_count": 12,
     "metadata": {},
     "output_type": "execute_result"
    }
   ],
   "source": [
    "#Explore a specific genre. Look at comedy for example, which has the genre id code 35\n",
    "\n",
    "comedy = discover.movie(with_genres=35)\n",
    "comedy['results'][0:2]"
   ]
  },
  {
   "cell_type": "code",
   "execution_count": 13,
   "metadata": {},
   "outputs": [
    {
     "data": {
      "text/plain": [
       "[{'popularity': 3130.643,\n",
       "  'vote_count': 143,\n",
       "  'video': False,\n",
       "  'poster_path': '/7D430eqZj8y3oVkLFfsWXGRcpEG.jpg',\n",
       "  'id': 528085,\n",
       "  'adult': False,\n",
       "  'backdrop_path': '/5UkzNSOK561c2QRy2Zr4AkADzLT.jpg',\n",
       "  'original_language': 'en',\n",
       "  'original_title': '2067',\n",
       "  'genre_ids': [18, 878, 53],\n",
       "  'title': '2067',\n",
       "  'vote_average': 5.8,\n",
       "  'overview': 'A lowly utility worker is called to the future by a mysterious radio signal, he must leave his dying wife to embark on a journey that will force him to face his deepest fears in an attempt to change the fabric of reality and save humankind from its greatest environmental crisis yet.',\n",
       "  'release_date': '2020-10-01'},\n",
       " {'popularity': 1724.443,\n",
       "  'vote_count': 114,\n",
       "  'video': False,\n",
       "  'poster_path': '/elZ6JCzSEvFOq4gNjNeZsnRFsvj.jpg',\n",
       "  'id': 741067,\n",
       "  'adult': False,\n",
       "  'backdrop_path': '/aO5ILS7qnqtFIprbJ40zla0jhpu.jpg',\n",
       "  'original_language': 'en',\n",
       "  'original_title': 'Welcome to Sudden Death',\n",
       "  'genre_ids': [28, 12, 18, 53],\n",
       "  'title': 'Welcome to Sudden Death',\n",
       "  'vote_average': 6.6,\n",
       "  'overview': \"Jesse Freeman is a former special forces officer and explosives expert now working a regular job as a security guard in a state-of-the-art basketball arena. Trouble erupts when a tech-savvy cadre of terrorists kidnap the team's owner and Jesse's daughter during opening night. Facing a ticking clock and impossible odds, it's up to Jesse to not only save them but also a full house of fans in this highly charged action thriller.\",\n",
       "  'release_date': '2020-09-29'}]"
      ]
     },
     "execution_count": 13,
     "metadata": {},
     "output_type": "execute_result"
    }
   ],
   "source": [
    "# Explore how to use the TMDb API using the requests.get method \n",
    "response3 = requests.get('https://api.themoviedb.org/3/discover/movie?api_key=' +  api_key + '&sort_by=popularity.desc')\n",
    "popularity = response3.json()\n",
    "top_popular = popularity['results']\n",
    "top_popular[0:2]"
   ]
  },
  {
   "cell_type": "markdown",
   "metadata": {},
   "source": [
    "## Part III: Accessing the Data\n",
    "\n",
    "We will now access the data that we will use for the remainder of our project. During our exploration phase, we learned that we can pull one page at a time, which will provide us with 20 results. We want, however, to be able to access **10,000 rows** of data across 500 pages. Our first step in this phase will be to create a loop that will append all 500 pages of results to a list. "
   ]
  },
  {
   "cell_type": "code",
   "execution_count": 14,
   "metadata": {},
   "outputs": [],
   "source": [
    "# Pull the data of all 10,000 rows of data across all 500 pages. Append this to a lit called \"finallist\" which will contain the data of movies, sorted by the most popular first.\n",
    "\n",
    "finallist=[]\n",
    "n=0\n",
    "while n<500:\n",
    "    n+=1\n",
    "    url='http://api.themoviedb.org/3/discover/movie?&sort_by=popularity.desc&offset=20&page={}&api_key='.format(n)\n",
    "    req=requests.get(url+api_key).json()\n",
    "    results=req['results']\n",
    "    finallist.extend(results)\n",
    "    time.sleep(2)"
   ]
  },
  {
   "cell_type": "code",
   "execution_count": 15,
   "metadata": {},
   "outputs": [
    {
     "data": {
      "text/plain": [
       "10000"
      ]
     },
     "execution_count": 15,
     "metadata": {},
     "output_type": "execute_result"
    }
   ],
   "source": [
    "# Find the length of this new list to confirm our 10,000 rows were retrieved \n",
    "len(finallist)"
   ]
  },
  {
   "cell_type": "markdown",
   "metadata": {},
   "source": [
    "We see here that this worked! The length of our final list is 10,000. We will now turn this into a DataFrame and explore what variables are available to us."
   ]
  },
  {
   "cell_type": "code",
   "execution_count": 18,
   "metadata": {
    "scrolled": false
   },
   "outputs": [
    {
     "name": "stdout",
     "output_type": "stream",
     "text": [
      "<class 'pandas.core.frame.DataFrame'>\n",
      "RangeIndex: 10000 entries, 0 to 9999\n",
      "Data columns (total 14 columns):\n",
      "popularity           10000 non-null float64\n",
      "vote_count           10000 non-null int64\n",
      "video                10000 non-null bool\n",
      "poster_path          9861 non-null object\n",
      "id                   10000 non-null int64\n",
      "adult                10000 non-null bool\n",
      "backdrop_path        9432 non-null object\n",
      "original_language    10000 non-null object\n",
      "original_title       10000 non-null object\n",
      "genre_ids            10000 non-null object\n",
      "title                10000 non-null object\n",
      "vote_average         10000 non-null float64\n",
      "overview             10000 non-null object\n",
      "release_date         9993 non-null object\n",
      "dtypes: bool(2), float64(2), int64(2), object(8)\n",
      "memory usage: 957.2+ KB\n"
     ]
    }
   ],
   "source": [
    "# Put this new data into a dataframe and explore the information available\n",
    "df = pd.DataFrame(finallist)\n",
    "df.info()"
   ]
  },
  {
   "cell_type": "markdown",
   "metadata": {},
   "source": [
    "While this is a comprehensive amount of variables, we are still missing an important feature: movie revenue. We will now use another for loop in order to create a dictionary of key-value pairs, where the key is the movie ID and the value is that movie's revenue."
   ]
  },
  {
   "cell_type": "code",
   "execution_count": 19,
   "metadata": {},
   "outputs": [],
   "source": [
    "# note that the \"revenue\" column is not in the above dataframe. \n",
    "# Retrieve the revenue data for the items in this list \n",
    "# Note that the 'id's 627494 and 726682 are excluded. This is because these URLs contain corrupt data \n",
    "# The corrupt data caused an error in our for loop; when excluded, we are able to retrieve revenue \n",
    "# data for 9,998 films\n",
    "\n",
    "movie_dict_final = {}\n",
    "\n",
    "for item in finallist:\n",
    "    if item['id'] != 627494 and item['id'] != 726682:\n",
    "        tmp = tmdb.Movies(item['id']).info()\n",
    "        movie_dict_final[tmp['id']] = tmp['revenue']\n",
    "    "
   ]
  },
  {
   "cell_type": "code",
   "execution_count": 20,
   "metadata": {},
   "outputs": [
    {
     "name": "stdout",
     "output_type": "stream",
     "text": [
      "{528085: 0, 741067: 0, 497582: 0, 337401: 57000000, 724989: 0, 721656: 0, 694919: 0, 660982: 0, 718444: 139757, 697064: 0, 734309: 0, 539885: 152812, 581392: 35878266, 592350: 29900850, 438396: 0, 475430: 0, 635302: 0, 606234: 0, 677638: 0, 721452: 0, 605116: 0, 621870: 0, 474350: 473093228, 594328: 0, 726739: 0, 495764: 201858461, 722603: 0, 617505: 0, 590223: 0, 532067: 0, 746957: 0, 475557: 1074251311, 613504: 0, 38700: 419074646, 703134: 0, 385103: 9430580, 547016: 0, 446893: 1946164, 425001: 8982106, 454626: 306766470, 531499: 0, 611395: 0, 603119: 0, 632618: 0, 601165: 0, 572154: 0, 667141: 0, 516486: 0, 715658: 0, 508439: 103181419, 493065: 0, 601844: 0, 338762: 30234182, 664767: 0, 520763: 0, 330457: 1450026933, 713825: 0, 489326: 106270, 640882: 0, 611605: 0, 704630: 0, 440249: 0, 347201: 0, 744676: 0, 631132: 0, 735110: 0, 643550: 0, 604578: 0, 738215: 0, 716258: 0, 354912: 800526015, 709621: 0, 655431: 0, 671145: 0, 568160: 186965409, 619592: 215668, 299536: 2046239637, 680295: 0, 545609: 0, 512200: 796575993, 505262: 31478826, 530915: 374733942, 384018: 760098996, 666750: 0, 317442: 0, 514207: 32104054, 420634: 0, 624963: 0, 703771: 0, 459151: 0, 554311: 0, 531876: 0, 429617: 1131927996, 290859: 261119292, 732713: 0, 299534: 2797800564, 87436: 21660, 372058: 357986087, 618354: 0, 718867: 0, 560204: 0, 715123: 0, 567006: 0, 458576: 0, 673595: 0, 597398: 7200, 301528: 1073394593, 420809: 491570967, 583083: 0, 581387: 0, 741998: 0, 737802: 0, 413518: 17133446, 667520: 0, 208763: 34592118, 420818: 1656943394, 746180: 0, 481084: 203044905, 594530: 0, 609202: 0, 736509: 0, 616803: 0, 274855: 221600160, 458156: 326709727, 565840: 0, 671: 976475550, 582306: 0, 468816: 0, 454640: 131359052, 733491: 0, 453405: 173469516, 181812: 1074144248, 509967: 0, 412117: 155152550, 579583: 0, 743227: 0, 537915: 69497587, 613200: 0, 701175: 0, 447404: 433005346, 702936: 0, 508570: 0, 400160: 4700000, 283566: 0, 680028: 0, 479259: 0, 338967: 122801777, 556984: 104048, 404368: 529221154, 448119: 245692007, 567971: 0, 324857: 375540831, 443791: 40882928, 679796: 0, 383498: 741547413, 11838: 325680, 340102: 43724804, 501979: 0, 627290: 4, 420817: 1047612394, 670266: 0, 577922: 333900000, 335983: 855013954, 674: 895921036, 10226: 6291958, 399579: 404852543, 582218: 0, 631939: 0, 193726: 7171, 499932: 0, 526973: 0, 673: 789804554, 522938: 91490353, 346364: 701796444, 743601: 0, 539140: 0, 299537: 1128276090, 720395: 0, 378064: 30156463, 373571: 386600138, 461130: 157209, 621013: 0, 530723: 0, 581600: 0, 360920: 508575295, 559937: 0, 706503: 0, 481848: 107604626, 721138: 0, 611914: 0, 339095: 0, 303857: 61768190, 703155: 0, 554022: 0, 417466: 0, 320288: 252442974, 499701: 116826172, 575094: 1940234, 553835: 0, 400155: 100176000, 618344: 0, 605499: 0, 315635: 880166924, 687149: 0, 431693: 171616764, 597156: 0, 412546: 0, 287947: 363533271, 723072: 0, 423204: 146661977, 345940: 530243742, 561974: 0, 296065: 0, 627879: 0, 594084: 0, 9666: 0, 630566: 0, 333339: 582890172, 284054: 1346739107, 592834: 4418501, 767: 933959197, 659986: 225374, 118406: 17322136, 166428: 517526875, 586334: 0, 351286: 1303459585, 284053: 853977126, 662334: 0, 532321: 0, 578189: 0, 141052: 657924295, 520901: 0, 612706: 0, 248781: 0, 496243: 257591776, 698410: 0, 599521: 0, 672: 876688482, 691812: 0, 700995: 0, 726664: 0, 634524: 0, 297802: 1148461807, 458897: 73279888, 652722: 0, 75624: 0, 552095: 0, 531299: 0, 9479: 75634409, 466622: 0, 516052: 0, 668742: 14871307, 431580: 111615070, 293660: 783100000, 260513: 1242805359, 623491: 0, 704264: 0, 565743: 0, 636891: 0, 476292: 0, 661677: 0, 214756: 215863606, 699046: 0, 689249: 0, 553839: 0, 366170: 1015339, 324786: 175302354, 537061: 0, 560192: 0, 644090: 0, 489245: 0, 552687: 0, 382748: 0, 556901: 0, 346910: 160542134, 10439: 39514713, 359724: 225508210, 530079: 0, 484641: 31329947, 505225: 0, 309013: 0, 618353: 0, 484664: 0, 666219: 0, 1683: 62771059, 531219: 0, 402900: 297718711, 428045: 0, 24428: 1519557910, 506574: 0, 576393: 0, 449924: 0, 738542: 0, 500916: 0, 559969: 0, 433945: 0, 424783: 467989645, 284052: 677700000, 486589: 5362776, 614208: 0, 22881: 309208309, 675: 938212738, 198663: 348319861, 617708: 0, 522627: 114996853, 479455: 252608480, 659067: 0, 12445: 1341511219, 657561: 0, 316727: 118587880, 535292: 47088457, 663459: 0, 12444: 954305868, 413594: 20725409, 560044: 0, 385687: 0, 122917: 956019788, 335797: 634151679, 50723: 0, 297762: 821847012, 570269: 0, 99861: 1405403694, 461083: 0, 466550: 0, 512895: 0, 500840: 0, 520725: 0, 522444: 0, 347548: 0, 606856: 0, 480530: 214215889, 456740: 44664690, 337339: 1238764765, 335984: 259239658, 550440: 0, 140300: 521170825, 625568: 39238300, 135397: 1671713208, 646150: 0, 511987: 89203432, 447332: 340677200, 405177: 0, 431819: 26617621, 442249: 137056262, 399363: 0, 614696: 13416285, 158015: 89328627, 522518: 2520000, 353081: 791017452, 587792: 164000, 695568: 0, 595172: 0, 503314: 125002821, 14836: 124596398, 331482: 191540586, 49519: 587204668, 557: 821708551, 530157: 0, 641790: 0, 268896: 290061297, 656690: 0, 472516: 0, 9286: 117719158, 610201: 21200, 3933: 117195061, 584044: 0, 609242: 0, 674942: 0, 500922: 0, 664168: 0, 8966: 393616788, 524047: 163894, 216015: 571006128, 22787: 17976667, 19995: 2787965087, 618355: 0, 524251: 0, 396535: 87547518, 458305: 427399, 324552: 171539887, 647265: 0, 513045: 22799033, 260514: 383925276, 102382: 708962323, 610290: 0, 638134: 0, 740996: 0, 342470: 0, 398818: 41063475, 570503: 0, 661747: 0, 652004: 0, 529203: 0, 571891: 26654184, 433422: 0, 50620: 829000000, 20982: 0, 363088: 622674139, 427641: 426245950, 271110: 1153296293, 157336: 675120017, 475215: 27526961, 597: 2187463944, 559957: 0, 263115: 619021436, 447200: 292351275, 550231: 0, 583132: 5481562, 599845: 0, 428078: 83672673, 585244: 0, 348893: 0, 571785: 0, 610461: 0, 270946: 373552094, 378112: 0, 504949: 0, 508664: 2078370, 808: 484409218, 7342: 0, 551238: 0, 87101: 440603537, 338952: 653355901, 557940: 0, 109445: 1274219009, 648337: 0, 509853: 3153, 298618: 0, 480157: 0, 239523: 0, 637157: 0, 445030: 6000000, 36728: 8084148, 68726: 407602906, 615774: 0, 570508: 0, 311056: 0, 106646: 392000694, 553600: 0, 591237: 0, 480042: 18, 35: 527068851, 10674: 304320254, 246655: 543934787, 259316: 809342332, 1726: 585174222, 14154: 0, 623634: 0, 554596: 0, 450465: 246941965, 50619: 712171856, 260346: 325771424, 24021: 698491347, 718100: 0, 553604: 5171088, 638566: 0, 574982: 2746207, 250574: 0, 504253: 33748006, 521029: 231252591, 9552: 441306145, 424694: 894027543, 571627: 11750306, 659991: 0, 514921: 0, 334521: 3719383, 723895: 0, 462883: 0, 176983: 0, 336843: 288175335, 240832: 458863600, 690369: 0, 364689: 295038508, 471707: 0, 269149: 1023784195, 98566: 477200000, 10012: 19294901, 281338: 488533726, 533535: 0, 378236: 216909830, 283995: 863756051, 454983: 0, 441168: 0, 560964: 0, 238636: 111928365, 509635: 0, 809: 928760770, 726940: 0, 131631: 752100229, 346709: 0, 636879: 0, 9637: 275650703, 742055: 0, 550988: 0, 129: 274925095, 27205: 825532764, 181808: 1332539889, 440471: 0, 429471: 5958315, 615115: 0, 2105: 235483004, 76341: 378858340, 617: 67200000, 527641: 0, 439079: 365550119, 57214: 100000000, 34433: 0, 177572: 657827828, 448441: 0, 547017: 124318, 573699: 66925842, 49530: 173930596, 550738: 6488082, 724475: 0, 733278: 0, 464052: 0, 140607: 2068223624, 501953: 0, 228150: 211817906, 150540: 857611174, 136799: 346864462, 653247: 0, 559: 890871626, 14337: 545436, 720998: 0, 399360: 35808437, 126889: 232380243, 438650: 59213931, 582885: 0, 514593: 0, 364111: 0, 283366: 296482446, 155: 1004558444, 49021: 57777106, 400650: 348807090, 526019: 26925979, 449985: 0, 128748: 0, 514439: 0, 602411: 0, 18861: 0, 637920: 19289062, 500852: 15200000, 549787: 0, 138843: 319494638, 337167: 368307760, 82702: 609123048, 11679: 71073932, 293167: 566652812, 862: 373554033, 307081: 91709827, 176: 103911669, 9431: 5600000, 11: 775398007, 289239: 0, 95963: 0, 353486: 962102237, 574284: 0, 17581: 0, 585: 562816256, 737799: 0, 10192: 752600867, 507569: 0, 695596: 0, 600348: 0, 707886: 0, 412383: 0, 583306: 0, 211755: 0, 419704: 132807427, 539892: 333593, 11850: 24946533, 586954: 4983582, 445651: 41142379, 68721: 1214811252, 362585: 0, 339403: 226945087, 102651: 758539785, 514847: 8621288, 537055: 0, 465929: 0, 675490: 0, 8277: 18610260, 566397: 0, 10585: 44196684, 348350: 392952373, 209112: 873634919, 442062: 92503612, 504562: 18377736, 513584: 0, 703745: 0, 120: 871368364, 619278: 0, 18239: 709827462, 575813: 0, 425: 383257136, 529485: 14590514, 647325: 0, 228326: 97437106, 395991: 25754775, 122: 1118888979, 257344: 243637091, 381749: 0, 612571: 0, 428707: 0, 72190: 531865000, 504631: 0, 575447: 0, 58: 1065659812, 641228: 0, 168259: 1515047671, 715387: 0, 47971: 346147658, 8275: 27500000, 648043: 0, 606625: 3551439, 254128: 473990832, 166426: 794861794, 716799: 0, 375588: 86493046, 546554: 309232797, 343668: 410902662, 710356: 0, 603692: 0, 471335: 0, 214553: 0, 245891: 88761661, 101267: 32726956, 61979: 0, 416194: 0, 121: 926287400, 565426: 0, 227348: 86362372, 576379: 0, 485811: 0, 554241: 44400000, 530385: 47862188, 385448: 0, 460399: 1822043, 280217: 190514361, 405882: 0, 545330: 0, 335988: 605425157, 294254: 312296056, 573560: 0, 105: 381109762, 10138: 623933331, 632304: 0, 564251: 0, 41505: 851517, 508763: 17643857, 474395: 28646544, 623926: 0, 570670: 130234661, 653598: 0, 18785: 469310836, 381288: 278454358, 22: 655011224, 466272: 374251247, 282070: 0, 581988: 0, 615466: 0, 496704: 0, 262500: 295238201, 535845: 4, 300668: 43070915, 399402: 31672678, 76757: 183987723, 2062: 623722818, 385128: 0, 400535: 75836683, 127585: 747862775, 523077: 0, 228165: 311594032, 374205: 66207073, 593298: 0, 429415: 0, 710717: 0, 582596: 0, 656563: 0, 11836: 140161792, 49051: 1021103568, 6933: 26890, 4488: 59754601, 740794: 0, 79082: 0, 8587: 763455561, 518068: 112790210, 746157: 0, 7555: 113244290, 681711: 0, 708362: 0, 559519: 0, 594634: 0, 1930: 757930663, 635744: 0, 611207: 0, 682110: 0, 406997: 305937718, 318256: 0, 182560: 208588, 615982: 0, 71552: 234989584, 537056: 0, 282069: 0, 374720: 525573161, 339964: 225874228, 80184: 0, 39108: 0, 59429: 0, 438590: 0, 109418: 247022278, 184315: 244819862, 82690: 471222889, 516632: 0, 716706: 0, 321612: 1263521126, 259693: 320392818, 4935: 236049757, 603: 463517383, 315465: 490643, 736690: 0, 449562: 32677774, 565214: 0, 446894: 0, 10195: 449326618, 159824: 473226958, 502425: 0, 608813: 0, 339846: 177856751, 296096: 207945075, 1865: 1045713802, 680: 214179088, 9613: 0, 454458: 27530241, 59315: 0, 13186: 0, 10625: 129042871, 1699: 0, 661950: 0, 480414: 122033739, 619918: 0, 483455: 0, 220289: 102617, 278154: 408579038, 1698: 0, 4247: 278019771, 400136: 0, 500921: 0, 721328: 0, 653615: 0, 513347: 496334, 26123: 5021219, 190859: 542307423, 863: 497366869, 726285: 0, 641483: 0, 431821: 0, 401478: 0, 19185: 5835247, 434245: 0, 53182: 337580051, 12104: 22244207, 147441: 268031828, 23827: 193355800, 91314: 1104054072, 433249: 0, 648964: 0, 575803: 0, 460793: 0, 285: 961000000, 8363: 121463226, 673544: 0, 539617: 0, 541305: 829900, 505948: 643593, 687838: 0, 56292: 694713380, 345887: 102084362, 514710: 0, 626393: 0, 601980: 0, 274854: 146936910, 522417: 0, 238: 245066411, 8355: 886686817, 632632: 0, 369972: 100546153, 207703: 414351546, 565179: 0, 587693: 0, 634649: 0, 1374: 300473716, 278: 28341469, 38757: 592461732, 617786: 0, 348: 104931801, 11932: 50671850, 13474: 7766240, 18491: 20000000, 561: 230884728, 8961: 273339556, 429422: 0, 599399: 0, 426543: 59522646, 540247: 0, 515001: 82468705, 422803: 42880428, 76492: 358375603, 12242: 0, 557968: 0, 645541: 0, 9532: 53302314, 619264: 0, 75656: 351723989, 283984: 17422935, 109439: 362000072, 458594: 48818723, 589885: 0, 10193: 1066969703, 618585: 0, 501170: 72281712, 291805: 334901337, 508965: 0, 665251: 0, 347375: 66308758, 2770: 287553595, 150689: 543514353, 576004: 0, 354556: 4803565, 397567: 125983972, 49026: 1081041287, 1724: 163712074, 473149: 5132274, 396422: 306515884, 338970: 274650803, 278924: 125729635, 587065: 521149, 57158: 958400000, 23823: 0, 627093: 0, 156022: 192330738, 198184: 104399548, 274857: 148675066, 453071: 0, 536115: 0, 694: 44781695, 463821: 131457147, 483898: 0, 73861: 0, 448776: 0, 206647: 880674609, 1691: 35728183, 405965: 0, 76338: 644571402, 362584: 0, 324852: 1031552585, 550: 100853753, 454286: 5728940, 471506: 0, 592279: 0, 390734: 269980, 493922: 79336821, 484510: 0, 628917: 0, 654299: 0, 305470: 142337240, 600301: 0, 10823: 14000000, 524216: 34265, 102899: 519311965, 1091: 19629760, 10166: 15360553, 57800: 877244782, 73245: 0, 311324: 331957105, 244786: 13092000, 272: 374218673, 9902: 28650575, 527776: 0, 519473: 0, 515789: 358772, 308531: 245623848, 466282: 0, 329996: 215832199, 210577: 369330363, 49018: 97009150, 569094: 0, 11187: 20560255, 24593: 0, 428292: 0, 139038: 60141683, 606117: 0, 124905: 529076069, 16304: 0, 110420: 0, 242828: 34949567, 63311: 5774854, 419479: 0, 633163: 0, 371370: 0, 6479: 585410052, 205584: 150680864, 330459: 1056057273, 11249: 24829644, 23202: 0, 218: 78371200, 429351: 67131266, 9373: 107071655, 225886: 126069509, 575446: 0, 658777: 0, 576156: 0, 532638: 0, 546230: 0, 10925: 14237880, 45243: 254455986, 424139: 253688035, 536869: 73515024, 339967: 3029287, 9737: 141407024, 93456: 970761885, 534490: 0, 438689: 2006704, 480857: 0, 8456: 41627431, 119450: 710644566, 6466: 114908830, 740985: 0, 617402: 0, 430155: 2363584, 312221: 173567581, 549053: 121550750, 406990: 27975429, 105864: 332207671, 378108: 19496308, 508138: 0, 1417: 83258226, 582570: 0, 447665: 4537, 420426: 4001919, 438799: 41657844, 554908: 0, 637663: 0, 8274: 0, 72105: 549368315, 68737: 114178613, 578: 470653000, 400157: 119559110, 676691: 0, 39107: 0, 14001: 22217407, 12: 940335536, 497698: 0, 71672: 0, 8681: 226830568, 476968: 22525668, 17654: 210819611, 1579: 120654337, 228161: 368871007, 184345: 25343661, 310: 484592874, 297761: 746846894, 4011: 73707461, 613096: 396640, 399361: 0, 131634: 653428261, 347969: 0, 9820: 92108518, 60935: 28128670, 487242: 0, 426865: 0, 118: 474968763, 416153: 0, 38365: 271430189, 106: 98267558, 11917: 113857533, 556574: 0, 560066: 0, 593035: 0, 379291: 0, 411: 745013115, 8392: 45000000, 125509: 0, 98: 465361176, 390043: 176586701, 16907: 0, 726887: 0, 720755: 0, 9023: 122563539, 39254: 299268508, 539649: 0, 693158: 0, 7131: 300257475, 491926: 7464, 619441: 2197075, 46195: 484635760, 615: 611899420, 9502: 631744560, 408: 184925486, 157433: 112399944, 14160: 735099082, 351819: 21164799, 10191: 494878759, 390635: 15540379, 60304: 226349749, 204082: 43058898, 950: 660998756, 9378: 68467960, 157350: 288747895, 302699: 216972543, 475210: 0, 556678: 25155355, 403300: 4612788, 547012: 0, 522162: 125641396, 345938: 92924405, 595671: 0, 177677: 682330139, 454619: 91244913, 567609: 57615777, 483906: 0, 686092: 0, 567973: 6890000, 764: 29400000, 589049: 0, 613178: 0, 664413: 9458590, 250546: 257047661, 280: 520000000, 39538: 137551594, 460321: 0, 254470: 287506194, 257475: 0, 374853: 0, 72571: 205703818, 534338: 0, 632587: 0, 315837: 169801921, 171823: 0, 24752: 0, 112205: 36894225, 9792: 69623713, 138103: 206172544, 137116: 197183546, 291870: 94073028, 397852: 1891907, 525661: 53774397, 504982: 0, 727959: 0, 706510: 0, 109689: 0, 9806: 631442092, 449756: 0, 671318: 0, 286217: 630161890, 743784: 0, 608195: 178592, 723860: 0, 568637: 0, 335788: 2602149, 430040: 32517248, 265208: 0, 732472: 0, 10501: 76432727, 137113: 370541256, 1690: 81979826, 302946: 155160045, 37724: 1108561013, 198375: 0, 523931: 5303, 49444: 631910531, 19994: 31556061, 13: 677387716, 531454: 0, 391757: 0, 449443: 80509622, 633604: 0, 663: 139352633, 9297: 140175006, 407655: 0, 625450: 0, 207768: 678604, 270303: 14674076, 19912: 186167139, 268: 411348924, 11970: 252712101, 457335: 835102, 61791: 482860185, 489999: 66265218, 32657: 226497209, 9358: 90426405, 181283: 3324330, 274862: 123081555, 205596: 233555708, 487674: 0, 416144: 16872691, 638507: 0, 512901: 0, 652: 497409852, 170: 85720385, 82675: 376141306, 487680: 0, 948: 0, 581997: 0, 36557: 599045960, 357096: 0, 497: 286801374, 539537: 47078545, 49521: 668045518, 166424: 167977596, 63404: 0, 414906: 0, 12153: 113086475, 267860: 205754447, 215: 152925093, 6068: 164000000, 109520: 0, 522681: 155313078, 11224: 263591415, 9509: 130293714, 522924: 33766787, 346672: 81093313, 257445: 158162788, 611562: 1000000, 647785: 0, 521777: 72457330, 585077: 0, 737568: 118666, 530382: 0, 748911: 0, 353491: 113231078, 506680: 0, 442065: 3364426, 10144: 211343479, 487672: 0, 13161: 0, 326359: 0, 20352: 543513985, 807: 327311859, 734586: 0, 10009: 250397798, 449176: 66316289, 532444: 20895905, 82507: 82515113, 111: 66023329, 460648: 0, 256274: 40100000, 560704: 0, 65: 242875078, 1771: 370569774, 407436: 0, 375794: 12421716, 72784: 10076790, 133805: 82394288, 513421: 0, 2668: 206071502, 100042: 169837010, 664297: 0, 810: 798958165, 295830: 0, 460885: 1214525, 329865: 203388186, 332562: 433888866, 50253: 0, 738375: 0, 599396: 0, 75258: 0, 515195: 88092097, 43947: 572809, 154400: 19054534, 38575: 357852395, 511679: 0, 857: 481840909, 68718: 425368238, 591629: 0, 10229: 47494916, 61927: 0, 772: 358994850, 9702: 0, 664850: 0, 688043: 0, 10607: 0, 100402: 714766572, 597219: 0, 401981: 151572634, 271706: 84552250, 469916: 0, 492188: 2300000, 690846: 0, 8273: 231449203, 539651: 0, 107846: 122915111, 22843: 41162041, 544431: 0, 232672: 123494610, 567604: 0, 75780: 218340595, 440472: 111353135, 263472: 6341684, 679: 183316455, 153518: 349779543, 551499: 0, 664280: 0, 9487: 363258859, 403310: 0, 486131: 21360215, 101: 45284974, 554590: 0, 310131: 40423945, 172385: 500188435, 432130: 0, 62211: 743559607, 299687: 109906372, 564: 415885488, 197158: 0, 62177: 538983207, 4348: 121147947, 9725: 21722776, 268531: 125289450, 281957: 532950503, 9730: 32980880, 956: 397850012, 21208: 77912251, 357416: 0, 44251: 0, 531306: 0, 16869: 321455689, 262504: 179246868, 350: 326551094, 520541: 0, 39101: 0, 38: 72258126, 725239: 0, 43074: 229147509, 653904: 0, 587808: 0, 460019: 95330493, 500475: 20545116, 22794: 242988466, 465086: 42800000, 646332: 0, 128: 159414369, 214: 163876815, 70006: 0, 454615: 0, 9362: 48572000, 295693: 498814908, 624808: 0, 183011: 0, 425134: 26251899, 575769: 1292773, 78: 41473619, 419430: 255407969, 10225: 19472057, 698783: 0, 11688: 169327687, 503919: 17964238, 812: 504050219, 95: 553799566, 14164: 57497699, 409502: 2000000, 393345: 0, 47933: 389681935, 509874: 0, 10528: 524028679, 533642: 44902237, 38142: 0, 11186: 35763605, 265712: 83061158, 218454: 0, 101299: 847423452, 75629: 60487945, 2454: 419665568, 520466: 0, 1368: 125212904, 64688: 201585328, 258509: 233755553, 10198: 270997378, 518764: 0, 169917: 53181600, 585213: 0, 16910: 0, 20222: 0, 19908: 102391540, 10681: 521311860, 382322: 3775000, 565005: 0, 572751: 0, 523777: 0, 41439: 136150434, 39105: 0, 7980: 93621340, 70981: 403170142, 87421: 98337295, 604: 738599701, 62: 71923560, 490132: 319700000, 375848: 0, 514999: 0, 712327: 0, 58574: 334615000, 954: 457731198, 658760: 0, 478820: 0, 39103: 0, 345934: 0, 15165: 0, 527435: 0, 223702: 140705322, 743299: 0, 624779: 0, 27582: 51070807, 854: 351583407, 6844: 122700000, 136795: 158674180, 734267: 0, 11324: 294804195, 586351: 0, 2907: 191502426, 467615: 0, 701062: 5000, 396806: 0, 384521: 0, 23437: 115664037, 80321: 746921274, 374195: 0, 550201: 0, 444090: 0, 395990: 34017028, 39104: 0, 1369: 300400432, 28260: 54207, 49013: 559852396, 217993: 5155325, 249070: 81967450, 10895: 84300000, 586097: 0, 11357: 17768757, 192141: 54418872, 535167: 0, 620725: 0, 71676: 132563930, 494471: 0, 22804: 68233629, 37430: 63523283, 273481: 84025816, 955: 546388105, 586347: 0, 332210: 182379278, 401469: 73866088, 630220: 0, 122906: 87100449, 44214: 329398046, 341174: 378827494, 11430: 0, 571650: 0, 749336: 0, 1255: 88489643, 406563: 167184112, 732033: 0, 607: 589390539, 630766: 0, 241259: 299457024, 55779: 157887643, 11587: 39024251, 9732: 0, 300669: 159047649, 14161: 769653595, 699570: 0, 16871: 90810892, 254: 562363449, 10065: 108047131, 417320: 0, 401513: 19454845, 399035: 119942387, 595985: 0, 498248: 0, 136797: 203277636, 552365: 0, 346651: 0, 8922: 59217789, 507086: 0, 605: 424988211, 590854: 0, 10358: 42105111, 13002: 0, 615017: 0, 23168: 154026136, 407650: 0, 300671: 69411370, 543540: 0, 342588: 0, 277216: 201634991, 55301: 342695435, 267935: 195243411, 242546: 0, 512196: 25327500, 579792: 0, 618350: 0, 11811: 8556940, 534039: 0, 407451: 132675864, 77338: 426588510, 646: 59600000, 14: 356296601, 347126: 23507567, 465003: 0, 400106: 0, 12092: 572000000, 10020: 377350553, 580629: 0, 9631: 44547681, 370663: 33673, 68735: 433677183, 328387: 85241496, 75612: 286168572, 277217: 0, 68724: 286140700, 445629: 39055536, 531593: 0, 11470: 16951798, 62214: 35287788, 366924: 0, 193893: 136621271, 162: 53000000, 323372: 0, 1893: 924317558, 3594: 77566815, 408648: 0, 117263: 161025640, 76163: 314975955, 351460: 0, 531503: 0, 36419: 3606395, 4248: 141220678, 646711: 0, 6145: 91354215, 18240: 317375031, 321258: 64188367, 290764: 593683, 377: 25504513, 572802: 0, 439058: 0, 588: 97607453, 169: 57120318, 10483: 76014335, 149870: 117932401, 150535: 0, 635237: 0, 72331: 116471580, 22970: 71041255, 5559: 287594577, 240: 102600000, 10200: 233093859, 368065: 0, 39100: 0, 525554: 0, 567970: 0, 462650: 0, 686142: 0, 454467: 0, 19288: 0, 12594: 0, 522964: 0, 200727: 4439431, 594188: 0, 241829: 0, 242512: 103590271, 278927: 966550600, 34134: 16441438, 38234: 0, 523849: 0, 529149: 0, 137106: 469160692, 8643: 144216468, 605368: 0, 245992: 0, 1894: 649398328, 253412: 203427584, 13475: 385680446, 25642: 0, 1979: 301913131, 458723: 255105930, 417384: 95438172, 37135: 448191819, 509730: 36120360, 8920: 200804534, 31967: 0, 5174: 258022233, 537059: 0, 10555: 367275019, 476389: 0, 520720: 0, 1970: 183474602, 1271: 422610419, 522212: 50401502, 590995: 0, 452970: 2732673, 44833: 303025485, 712110: 0, 544810: 0, 569016: 0, 109451: 248384621, 346648: 227300000, 487670: 0, 397243: 5972942, 44874: 0, 542224: 0, 12536: 0, 459910: 0, 620: 295212467, 8871: 345141403, 440: 130290885, 953: 542063846, 411088: 30000000, 425505: 10023153, 10591: 31635150, 341013: 100014025, 654879: 0, 497370: 0, 555974: 20311536, 10066: 68766121, 343611: 162146076, 243688: 95437994, 572609: 0, 286567: 6272403, 14869: 302469017, 194662: 103215094, 531380: 0, 335777: 65146020, 12222: 297138014, 10140: 415686217, 11351: 63102666, 412157: 0, 441316: 0, 408355: 3916195, 16366: 0, 298250: 102952888, 57165: 301970083, 602: 817400891, 419831: 0, 4257: 178262620, 381719: 351266433, 15255: 0, 592867: 0, 530956: 0, 637: 229400000, 408647: 0, 9919: 177371441, 533715: 0, 13207: 91379051, 44728: 13422333, 640: 352114312, 308529: 0, 10285: 15938065, 482273: 0, 7191: 170764026, 339984: 73983359, 589972: 0, 6114: 215862692, 575479: 0, 97020: 242688965, 345: 162091208, 11596: 18090181, 519337: 0, 232842: 0, 256591: 153962963, 73456: 0, 22824: 47709193, 18095: 0, 123553: 95396573, 238615: 31807156, 13788: 76514050, 28178: 46749646, 10567: 354248063, 15016: 0, 40662: 6629178, 357786: 0, 6537: 78638987, 333622: 0, 401043: 0, 929: 379014294, 258893: 0, 1885: 91077276, 41154: 624026776, 287590: 0, 222935: 307166834, 652483: 0, 663124: 0, 296917: 0, 364: 280000000, 504172: 174804407, 565: 249348933, 746047: 0, 39106: 0, 158852: 209154322, 187017: 188441614, 76617: 0, 632322: 0, 637395: 0, 600: 46357676, 181533: 363204635, 359983: 0, 11036: 115603229, 439157: 0, 593427: 0, 525460: 0, 599520: 0, 144288: 0, 38055: 321885765, 728144: 0, 180894: 0, 21407: 114000000, 5255: 310634054, 467824: 0, 280092: 104303851, 509585: 0, 201088: 17752940, 630211: 0, 834: 111476513, 524348: 0, 21832: 0, 555748: 0, 597102: 0, 1370: 189015611, 116322: 0, 19576: 0, 2082: 80253908, 2758: 48919043, 317952: 0, 1620: 99965753, 109428: 97542952, 652020: 0, 562: 140767956, 567733: 20440, 297556: 0, 188927: 343471816, 496349: 0, 454227: 0, 18009: 2260622, 561362: 0, 324668: 415484914, 197: 210000000, 589970: 0, 277: 95708457, 316029: 432844677, 399566: 0, 438551: 0, 23398: 443140005, 339530: 0, 618352: 0, 273477: 14860766, 80278: 198087212, 10781: 51764406, 81188: 306941670, 10764: 589580482, 13053: 309979994, 379149: 145374099, 9728: 36690067, 43347: 102820008, 9291: 190320568, 483980: 0, 388427: 0, 411135: 0, 459992: 53847136, 8329: 32511655, 8358: 429632142, 10283: 14000000, 13183: 185258983, 458253: 26249469, 242582: 50300000, 82703: 272912430, 165: 332000000, 39323: 0, 30497: 30859000, 513302: 0, 405774: 0, 1246: 155721132, 467938: 692079, 13283: 0, 571384: 0, 539: 32000000, 580489: 0, 39513: 97552050, 7340: 33800000, 2034: 104876233, 9645: 68349884, 508442: 0, 1891: 538400000, 350312: 275947313, 637969: 0, 4258: 78378744, 1371: 270000000, 81005: 197687603, 381289: 194647323, 49047: 723192705, 243683: 86165646, 14199: 69425966, 13285: 0, 3980: 13167232, 32985: 19652185, 188161: 86410000, 44896: 245724603, 34004: 0, 5175: 347325802, 77931: 347434178, 15015: 0, 620897: 0, 449563: 0, 77951: 126546518, 10214: 0, 769: 46836394, 470878: 86026201, 357390: 0, 207933: 0, 560050: 0, 10216: 19165560, 58595: 396600000, 300673: 52099090, 466532: 0, 549165: 0, 15403: 0, 72545: 355692760, 595203: 0, 6477: 361366633, 345009: 1600000, 264660: 36869414, 534: 371353001, 77174: 107139399, 407439: 10940439, 740746: 0, 512412: 0, 227159: 107670357, 36648: 128905366, 410685: 0, 547912: 1502605, 486947: 0, 10665: 82391145, 630338: 0, 1250: 228738393, 558144: 0, 194: 173921954, 370567: 87625666, 12155: 1025467110, 192577: 17137302, 10281: 19170001, 474392: 4873825, 10010: 0, 76589: 0, 387893: 0, 595503: 0, 436053: 0, 649524: 0, 602307: 0, 567965: 1015412, 16000: 0, 552178: 13601384, 47533: 0, 8814: 58072119, 24: 180899045, 588073: 0, 494656: 0, 1366: 117235147, 741755: 0, 500919: 0, 313297: 69929545, 241239: 12007070, 269955: 0, 257088: 133718711, 203739: 15391979, 500: 2859750, 290512: 62832209, 553610: 0, 44683: 0, 335360: 60330833, 16007: 27793200, 8839: 287928194, 47964: 304654182, 680601: 0, 296: 435000000, 387426: 0, 526007: 0, 855: 172989651, 193756: 149295601, 439015: 11817275, 227859: 0, 27769: 0, 258489: 356743061, 36202: 0, 42246: 0, 538831: 21000000, 46261: 36993168, 400090: 855756, 39102: 0, 9757: 159313561, 81: 3301446, 445571: 117501013, 339988: 20497844, 552532: 0, 1734: 433013274, 280002: 1169603, 520788: 0, 4256: 220673217, 201223: 0, 366668: 0, 227719: 32248241, 24150: 0, 479626: 0, 372519: 37070177, 266856: 123726688, 14438: 33456317, 744: 356830601, 609681: 0, 433950: 0, 10891: 0, 259072: 0, 594633: 0, 517116: 0, 373879: 0, 726239: 0, 447193: 0, 123025: 0, 9325: 205843612, 611468: 0, 256835: 0, 54138: 467365246, 452557: 870322670, 653601: 0, 91586: 0, 51739: 145570827, 71670: 0, 196761: 0, 2667: 248639099, 537739: 0, 49040: 276572938, 11978: 48814909, 59440: 23057115, 323272: 67790117, 17979: 325286646, 156717: 0, 395458: 5775178, 28355: 29000000, 609181: 0, 1927: 245360480, 9567: 86468162, 556803: 0, 751254: 0, 413644: 46372519, 471474: 3469151, 608649: 0, 1562: 65048678, 420814: 99138899, 445954: 320705, 138832: 269994119, 1493: 212000000, 586863: 0, 487616: 0, 127380: 1028570889, 28: 150000000, 18: 263920180, 16281: 21028755, 10307: 50041732, 1975: 39143839, 72213: 34522221, 136835: 53830415, 664184: 0, 37797: 0, 204342: 0, 19913: 60722734, 399055: 194989655, 557635: 0, 166666: 6677474, 14442: 0, 84348: 100345, 338953: 0, 8960: 629443428, 455980: 75100000, 405775: 1803009, 18823: 493214993, 535265: 0, 4564: 415252786, 424: 321365567, 9348: 113374103, 37710: 278731369, 4552: 0, 300368: 0, 9323: 2287714, 134374: 87305549, 537655: 0, 476669: 0, 12244: 48428063, 521034: 889816, 452910: 0, 149: 0, 669504: 0, 64686: 150962475, 271718: 140795793, 623195: 0, 476299: 0, 282035: 409231607, 27850: 0, 49529: 284139100, 1824: 196482882, 127533: 61700000, 51482: 0, 377897: 0, 464889: 0, 476926: 0, 117251: 205366737, 25602: 194243, 11449: 86432000, 44912: 219851172, 472983: 0, 10947: 0, 82700: 243843127, 297270: 0, 146233: 122126687, 189: 39407616, 11361: 11642254, 15999: 0, 342473: 2351359, 20329: 30231200, 227973: 246233113, 630: 33754967, 85: 389925971, 324849: 311950384, 730647: 0, 487083: 0, 436391: 0, 188207: 61279452, 750613: 0, 565348: 0, 540871: 0, 44943: 211819354, 50546: 214945591, 10882: 51000000, 400928: 40343446, 10987: 15116634, 671909: 0, 726649: 0, 610359: 0, 756: 83320000, 41513: 563749323, 337170: 133511855, 2662: 17949758, 615667: 0, 15137: 223839, 520552: 0, 43949: 1755212, 435: 544272402, 62835: 60965854, 52520: 160112671, 708336: 0, 566927: 10700000, 115: 46189568, 564082: 0, 610643: 0, 527528: 0, 74997: 0, 19286: 0, 9360: 136000000, 290098: 37767206, 668343: 0, 296524: 121790373, 353616: 184724494, 356305: 118034273, 57737: 0, 36586: 155010032, 24615: 0, 417859: 554987477, 587496: 2993175, 473033: 50020902, 12230: 215880014, 548473: 0, 27578: 274470394, 8913: 57469467, 512936: 0, 292011: 33904605, 16418: 0, 505600: 24849029, 369885: 119520023, 1267: 169332978, 3597: 125586134, 455839: 0, 454294: 32140970, 11544: 145771527, 315064: 0, 591278: 0, 502581: 0, 487297: 69766483, 354282: 0, 340382: 0, 335796: 81705746, 745: 672806292, 20558: 0, 540901: 157600000, 398978: 8000000, 578701: 0, 10196: 318502923, 80518: 7401480, 450001: 21832649, 2501: 214034224, 9003: 14564027, 466361: 0, 434757: 0, 1924: 300218018, 27576: 293329073, 408266: 6901965, 20526: 400062763, 451644: 0, 447185: 0, 45752: 0, 479040: 0, 133121: 0, 290595: 164989338, 449992: 0, 37169: 252207, 12437: 92158961, 515743: 0, 166268: 0, 472674: 0, 10676: 14400000, 145135: 25174316, 481203: 0, 18501: 40828540, 9731: 21930418, 118340: 772776600, 43593: 83188165, 201085: 74679822, 434555: 41036181, 10715: 68514844, 1895: 850000000, 1375: 119946358, 681580: 0, 36647: 131183530, 118301: 0, 420622: 1584759, 7220: 54700105, 8078: 162000000, 34560: 0, 573227: 0, 628: 223664608, 204922: 15447154, 48171: 96047633, 612152: 0, 9738: 333535934, 23629: 89792502, 667018: 0, 491418: 14700000, 272878: 43967255, 8916: 171757863, 429: 25118063, 419478: 27365467, 489: 225933435, 465136: 6102076, 283727: 0, 673174: 0, 11045: 71255003, 323675: 124827316, 294272: 143695338, 447743: 0, 196: 244527583, 457262: 0, 249397: 2227167, 252838: 79799880, 588787: 0, 533514: 13777756, 4982: 266465037, 323027: 0, 79707: 0, 454293: 33157615, 15906: 0, 484862: 0, 5548: 53424681, 869: 362211740, 920: 461983149, 66105: 0, 7443: 224834564, 411143: 0, 76726: 145000000, 41446: 97138686, 314: 82102379, 659943: 0, 460846: 0, 513691: 0, 392536: 0, 665: 164000000, 141: 6979093, 15092: 34560577, 16996: 136267476, 460668: 94539426, 9016: 109578115, 339259: 4412639, 748638: 0, 531597: 0, 1931: 75511123, 12903: 0, 2503: 442824138, 11247: 70067909, 40700: 0, 924: 102356381, 616885: 0, 375533: 0, 879: 300854823, 116711: 268426634, 333596: 14394097, 437109: 8737458, 114: 463000000, 695176: 0, 325133: 108758521, 6795: 64321501, 262841: 64493915, 41630: 149228077, 14405: 149281606, 44727: 14817006, 19287: 0, 415842: 66167951, 575249: 0, 390054: 0, 11887: 252909177, 631583: 0, 112454: 0, 1364: 7640680, 744470: 0, 58431: 16374328, 425909: 0, 627: 16491080, 738035: 0, 500682: 0, 13387: 108979549, 7278: 84646831, 185: 26589000, 34813: 23580000, 460024: 0, 78192: 0, 671577: 0, 333484: 162360636, 14011: 5231128, 526051: 1119537, 440021: 122637878, 136418: 8352885, 205587: 83719388, 73723: 348840316, 2123: 149270999, 662687: 0, 11886: 32056467, 10661: 201596308, 2109: 244386864, 640696: 0, 218043: 19682924, 132232: 146497771, 355506: 0, 11281: 0, 591: 767820459, 258480: 40272135, 87: 333000000, 14069: 3800000, 505707: 0, 7485: 95696996, 2048: 347234916, 492611: 17500000, 83088: 0, 41498: 53000000, 87827: 609016565, 61012: 52302796, 609338: 0, 91342: 15489307, 256040: 90747520, 129533: 0, 599975: 48021766, 313369: 446486224, 41965: 241278, 10489: 21200000, 323660: 0, 128246: 0, 433627: 9196740, 203696: 0, 11690: 65000000, 375366: 0, 14574: 20416563, 530076: 0, 582186: 0, 13333: 0, 319075: 0, 289720: 5148503, 11451: 66002004, 365222: 156844753, 539517: 0, 217: 786636033, 517412: 79603, 12429: 202404009, 18198: 0, 16523: 100086793, 11321: 168167691, 77: 39723096, 85446: 140470746, 1427: 132180323, 10999: 57500000, 438674: 660132, 417870: 140376621, 10693: 87404651, 426: 28000000, 354857: 0, 38167: 204594016, 10386: 23159305, 513389: 0, 1422: 291465034, 9739: 159055768, 1735: 401128639, 581859: 0, 616: 456758981, 4032: 59489799, 64635: 198802074, 14003: 0, 16119: 0, 257211: 194564672, 502292: 0, 37786: 288347692, 452773: 34156960, 255718: 0, 369560: 0, 4922: 333932083, 417261: 16367326, 11442: 37664855, 10527: 603900354, 121856: 240697856, 9714: 79082515, 1367: 85182160, 627446: 120645, 313943: 0, 741074: 0, 331781: 8413144, 4961: 25480490, 531428: 9729987, 103: 28262574, 10320: 161451538, 497814: 49078000, 200085: 19775853, 750599: 0, 500664: 16593554, 8467: 247275374, 21481: 0, 526050: 17399000, 45612: 147332697, 93856: 18112929, 146216: 148100000, 361380: 0, 11298: 17985893, 117: 76270454, 72387: 40346186, 9312: 122195920, 151960: 219788712, 87428: 58058367, 395: 177427090, 423988: 0, 601: 792965326, 750597: 0, 75174: 77278331, 3170: 267447150, 11770: 42776760, 196254: 0, 504608: 167323950, 521647: 0, 258193: 0, 628446: 0, 370172: 0, 6947: 256697520, 22855: 0, 345915: 855888, 39691: 112483764, 1359: 34266564, 44918: 0, 10069: 27105095, 607334: 0, 616251: 0, 242643: 4571025, 423: 120072577, 14564: 83080890, 438640: 0, 10028: 62646763, 438747: 0, 241848: 2367161, 1892: 572700000, 23566: 0, 585530: 0, 9444: 139804348, 391713: 76858273, 12162: 49230772, 16577: 19551067, 11586: 30749142, 142: 178043761, 750596: 0, 588009: 0, 9477: 203567857, 20504: 157107755, 34851: 127233108, 635048: 0, 9474: 0, 13455: 45465299, 8247: 222231186, 109414: 126041322, 618433: 0, 551804: 0, 699060: 0, 5123: 66122026, 750601: 0, 750595: 0, 750605: 0, 673247: 0, 453201: 57076286, 750600: 0, 142061: 0, 4523: 340487652, 505379: 0, 298115: 0, 415214: 173000000, 10867: 14493284, 533592: 0, 14411: 80767884, 749039: 0, 446807: 35164920, 13523: 18755936, 195589: 270665134, 164558: 0, 413362: 11942780, 9837: 218613188, 211672: 1156730962, 55341: 0, 523536: 0, 511343: 0, 41233: 159291809, 949: 187436818, 43641: 0, 10866: 36642838, 631322: 0, 206487: 4824499, 13655: 0, 733156: 0, 351211: 45172994, 26338: 1314053, 301351: 11122090, 46169: 0, 9711: 0, 11007: 190212113, 10315: 46471023, 168903: 0, 9340: 61503218, 50646: 142851197, 437557: 94017294, 379170: 0, 431530: 130560428, 571: 11403529, 22832: 60462347, 711017: 0, 563: 121214377, 558: 783766341, 623034: 0, 336560: 0, 18360: 413106170, 410554: 0, 126963: 50353002, 395834: 44998252, 627725: 0, 34544: 177238796, 454992: 33562069, 528888: 0, 752: 132511035, 9353: 99255460, 1571: 383531464, 502416: 51749995, 284276: 2360281, 560144: 0, 484886: 0, 8645: 163403799, 493488: 0, 632931: 0, 669727: 0, 750616: 0, 750615: 0, 750607: 0, 750602: 0, 485942: 0, 277806: 0, 25475: 0, 2502: 288500217, 511491: 0, 319: 12281551, 2300: 250200000, 531309: 32893421, 504997: 0, 739246: 0, 608654: 0, 9100: 24769466, 532620: 0, 1949: 84785914, 651070: 0, 330764: 0, 324542: 32540674, 39148: 0, 483219: 0, 1268: 229736344, 58233: 160078586, 11284: 34872033, 602147: 0, 455207: 237994561, 49730: 89162162, 693019: 0, 4232: 173046663, 251519: 0, 13680: 147880543, 424998: 0, 80274: 125537191, 10340: 93933394, 445993: 0, 744964: 0, 11565: 138259062, 22538: 47664559, 49849: 174822325, 565989: 0, 31867: 18409891, 158011: 68572378, 388045: 0, 537761: 0, 480105: 0, 395992: 100541806, 258230: 47309313, 316322: 0, 11674: 320689294, 312966: 0, 64246: 0, 1124: 109676311, 533444: 1740683, 402331: 0, 347413: 0, 187: 158733820, 436931: 2401722, 36643: 361832400, 321528: 0, 594: 219417255, 9335: 89083229, 602223: 0, 284995: 0, 15167: 0, 4108: 43928932, 107985: 46089287, 163: 362744280, 13151: 0, 16140: 50710400, 345911: 148868835, 10330: 110230332, 728209: 0, 86834: 362637473, 59859: 60700000, 480881: 7233471, 64682: 351040419, 3021: 132963417, 673118: 0, 463906: 0, 1573: 240031094, 616558: 0, 9021: 172842355, 888: 341631208, 9334: 165333180, 249164: 78874843, 212167: 0, 22803: 126690726, 608: 441818803, 947: 69995385, 927: 153083102, 207932: 220021259, 508791: 1040000, 171274: 14710975, 32916: 0, 24420: 101344412, 19404: 100000000, 283445: 52882018, 36955: 378882411, 615177: 0, 196867: 133821816, 5876: 57096190, 7518: 343397247, 22894: 67918658, 72710: 63327201, 727404: 0, 661090: 0, 499338: 0, 9651: 14296438, 182026: 0, 13640: 0, 15157: 0, 7978: 0, 9488: 119723358, 9769: 1060056, 649401: 0, 14128: 0, 89: 474171806, 11423: 26000000, 9070: 66000000, 10201: 223241637, 295151: 0, 536506: 0, 175112: 20300000, 582913: 0, 339527: 22586863, 414: 336529144, 189349: 0, 15512: 381509870, 287948: 72629670, 21705: 0, 10530: 346079773, 4233: 172363301, 387592: 53431158, 37165: 264118201, 392044: 351839303, 495193: 0, 289: 10462500, 623958: 0, 576071: 0, 9877: 72527595, 1813: 152944660, 11852: 35081550, 676: 449220945, 397415: 4526, 347688: 0, 491480: 0, 369299: 0, 87818: 32438988, 16052: 60000000, 506528: 0, 9313: 182968902, 23047: 91627228, 393135: 0, 401917: 0, 11133: 40996665, 598: 30641770, 581: 424208848, 228967: 12342632, 1593: 574480841, 609197: 0, 10992: 93375151, 438631: 0, 13688: 47301471, 744013: 0, 409122: 0, 474764: 2679585, 397837: 12141122, 461053: 0, 343795: 4842699, 538225: 0, 8328: 150816700, 9423: 30, 609: 122200000, 9316: 20112926, 544: 369884651, 571265: 0, 25769: 5802422, 468224: 8654322, 301337: 55003890, 238713: 235666219, 52629: 0, 861: 261317921, 4951: 53478166, 13851: 0, 741528: 0, 568091: 0, 393519: 4100000, 472715: 0, 505954: 36220872, 418078: 19280931, 161: 450717150, 449132: 0, 589533: 0, 111332: 0, 9399: 24271196, 82654: 116980662, 300665: 0, 340677: 0, 167032: 0, 76487: 101758490, 15575: 0, 475132: 0, 399174: 64241499, 18925: 10178331, 310119: 0, 198901: 0, 435615: 0, 11528: 32416586, 435577: 0, 369821: 0, 747: 30332385, 137094: 135511030, 12180: 68282844, 586344: 0, 9543: 335154643, 75735: 0, 14114: 0, 12403: 22852638, 6171: 75700000, 115929: 0, 553608: 0, 9470: 101434304, 413736: 0, 666751: 0, 12699: 0, 157544: 1784763, 455236: 0, 419743: 0, 9473: 78608288, 76489: 54819301, 463272: 158256993, 4147: 181001478, 748224: 0, 8204: 162839667, 10292: 0, 464502: 34764055, 264419: 9080818, 610704: 0, 76203: 187000000, 475220: 0, 2288: 115505027, 610892: 10841702, 17532: 4100000, 575804: 0, 11069: 0, 544524: 0, 856: 329803958, 714: 333011068, 689242: 0, 658751: 0, 55846: 741875, 496: 261572744, 62213: 245527149, 252: 4000000, 76649: 117831631, 412988: 27506452, 433128: 0, 38408: 105610124, 1586: 92913171, 543583: 0, 9486: 160583018, 381284: 230698791, 175574: 110000000, 9691: 30303072, 1487: 99318987, 503616: 72282227, 697039: 0, 415: 238207122, 467342: 0, 36669: 431971116, 279254: 0, 492719: 0, 9762: 114194847, 179923: 0, 698102: 483684, 472553: 0, 456154: 0, 10366: 10667893, 82633: 53676580, 13459: 4496912, 334543: 140312928, 492253: 0, 1992: 0, 692969: 0, 76493: 179379533, 9273: 212385533, 377670: 0, 571495: 0, 9078: 22182353, 11360: 1600000, 334074: 0, 11531: 0, 396263: 2238600, 70160: 691210692, 433808: 1785977, 467980: 0, 668195: 0, 408220: 0, 11052: 29170410, 653744: 0, 76025: 3909002, 297708: 0, 412519: 0, 277834: 690860472, 7840: 266000000, 557972: 0, 506072: 0, 440597: 14301505, 355547: 0, 119283: 46216641, 51540: 209838559, 37958: 226904017, 114150: 115400000, 505058: 9602624, 44040: 33583175, 8536: 190458706, 318846: 133346506, 710: 352194034, 41436: 177512032, 37211: 0, 16237: 0, 4970: 141591324, 589082: 0, 11283: 123276807, 751391: 0, 239529: 0, 401146: 0, 9928: 260696994, 10829: 0, 274167: 242786137, 50544: 149542245, 421792: 0, 498860: 0, 8909: 341432090, 6977: 171627166, 287903: 61788393, 380764: 0, 16859: 18172849, 149509: 0, 7551: 180557550, 44244: 0, 273248: 155760117, 22620: 0, 1648: 40485039, 83090: 0, 38939: 0, 472744: 0, 351964: 0, 9880: 165335153, 446021: 31882724, 13885: 152000000, 507712: 0, 9349: 0, 459202: 48333932, 11569: 12534961, 44731: 8654110, 37950: 48190704, 10830: 33459416, 390845: 0, 340945: 0, 354279: 8751856, 569547: 0, 13004: 0, 474335: 17665000, 293768: 30718107, 13654: 0, 668800: 0, 254904: 32556119, 1402: 307077295, 77459: 0, 483202: 0, 347111: 0, 746605: 0, 48138: 130786397, 634: 281929795, 8077: 159773545, 456048: 17544173, 51828: 59389433, 9480: 179179718, 10529: 7033683, 619: 411006740, 5689: 58853106, 27812: 0, 311: 5472914, 15070: 14946150, 74: 591739379, 532880: 0, 582206: 7201952, 49017: 217124280, 557132: 0, 389015: 53939297, 1585: 9644124, 9659: 8771757, 88751: 101702060, 35019: 123276807, 241554: 71561644, 3131: 193772504, 188222: 49263404, 10312: 202292902, 786: 47383689, 169209: 3639345, 8835: 141774679, 4858: 15071514, 11675: 55041738, 412547: 0, 10014: 29999213, 437031: 5000000, 8975: 22165608, 654580: 0, 446354: 179769467, 327331: 0, 11253: 160388063, 15601: 0, 484247: 97644617, 585083: 0, 492336: 0, 9678: 0, 73: 23875127, 406052: 0, 788: 441286195, 625248: 0, 72570: 196114570, 388399: 50548152, 19173: 0, 493006: 101860359, 466190: 0, 345922: 41087017, 416234: 25091816, 8856: 115103979, 853: 96976270, 19898: 20645327, 11395: 189833357, 38322: 83615414, 522478: 0, 421658: 0, 335778: 46069568, 10588: 133818283, 431: 501818, 1677: 124731534, 421285: 0, 256961: 107597242, 598577: 0, 9320: 48585416, 9482: 113493481, 454699: 26441892, 51481: 0, 430474: 0, 30061: 0, 11618: 91188905, 615453: 686067000, 372758: 0, 10246: 125728258, 10515: 0, 218836: 151165787, 427564: 0, 609734: 0, 453755: 0, 390281: 0, 10336: 87840042, 449755: 0, 34584: 20158808, 16962: 0, 672761: 0, 10473: 0, 44729: 10494545, 29826: 0, 739214: 0, 10664: 18469680, 209964: 0, 9871: 0, 13510: 3984669, 11621: 0, 40713: 44038000, 9072: 101595121, 454650: 0, 567: 36764313, 617782: 0, 451925: 0, 419680: 180613180, 1372: 170877916, 787: 478207520, 25278: 7090891, 332567: 119100758, 251768: 0, 535437: 0, 564638: 0, 621191: 5750000, 829: 30000000, 59961: 208076205, 645488: 0, 9381: 72108608, 58224: 187361754, 417678: 61621140, 361292: 6348889, 7345: 77208711, 64: 51001550, 9906: 55181129, 299245: 42664410, 20943: 321682600, 9836: 384335608, 1933: 209947037, 77805: 1585582, 134597: 6842058, 518244: 0, 2135: 123729176, 242: 136766062, 585311: 0, 425194: 0, 10413: 0, 6978: 11000000, 552161: 0, 312793: 0, 438695: 0, 11707: 48143579, 180: 358372926, 83091: 0, 334298: 0, 13648: 0, 88: 213893795, 203801: 108145109, 9654: 176070171, 432057: 1488577, 11237: 0, 381283: 44516999, 399366: 11165901, 316023: 77068246, 539181: 302380, 546726: 0, 651378: 0, 94329: 4105187, 9823: 51376861, 346808: 133332, 653567: 0, 75674: 81272766, 10047: 66976317, 10112: 55675257, 230222: 44095996, 560527: 0, 795: 198685114, 7303: 154906693, 38594: 0, 455551: 1319566, 11879: 0, 10137: 300135367, 617768: 1138962, 2277: 0, 607259: 0, 653569: 0, 339380: 38673750, 65754: 232617430, 340270: 0, 110552: 3302463, 37056: 82148538, 664416: 0, 9029: 170000000, 532327: 0, 280996: 29355203, 1637: 350448145, 376867: 65046687, 9257: 116643346, 39514: 71664962, 23483: 96188903, 278698: 0, 240341: 0, 9425: 14567883, 550134: 0, 581982: 0, 185341: 4915757, 527729: 45631901, 14254: 41624046, 59967: 47042000, 17101: 0, 11359: 0, 25018: 5765562, 271969: 94061311, 336882: 12975143, 50014: 216639112, 587301: 0, 17681: 0, 1584: 131282949, 57201: 89289910, 484468: 0, 11397: 66468332, 266647: 128388320, 68728: 491868548, 768: 74558115, 29426: 0, 745254: 0, 327833: 0, 361931: 0, 653735: 0, 277547: 1323415, 168098: 1133031, 750585: 0, 9966: 55060212, 205775: 93920758, 632251: 0, 339404: 0, 34205: 0, 307663: 0, 13460: 22211426, 2022: 171269535, 425972: 56385, 116776: 0, 529982: 0, 13811: 155446362, 389: 1000000, 688303: 300, 406761: 12371132, 65086: 127730736, 306819: 64191523, 534259: 0, 449503: 0, 10025: 38159905, 22683: 0, 18269: 0, 77499: 0, 360605: 0, 5503: 368875760, 176241: 0, 11096: 122650962, 2655: 291420351, 433310: 0, 45162: 0, 489929: 0, 324670: 0, 2675: 408247917, 766: 21502976, 84892: 33400000, 96826: 0, 750500: 0, 729454: 0, 429200: 3283369, 9793: 0, 639609: 0, 1624: 302710615, 561859: 0, 429197: 76073488, 535581: 12104595, 2251: 119137784, 509733: 3882729, 944: 285444603, 11178: 0, 4442: 105316267, 8867: 0, 354251: 23665, 51620: 0, 459159: 0, 470114: 5805201, 510: 108981275, 608491: 0, 9603: 56631572, 16234: 0, 27: 1574623, 340442: 0, 60308: 110206216, 17111: 0, 225745: 0, 20455: 16600000, 11428: 30524763, 2085: 91036760, 262543: 0, 13205: 0, 25565: 0, 485415: 0, 11497: 27100027, 586591: 0, 513576: 0, 11824: 33086611, 1452: 391081192, 77877: 99357138, 549559: 0, 249660: 29789000, 48231: 27462041, 393624: 0, 83201: 0, 13515: 72436439, 2140: 64437847, 56288: 85564310, 5653: 29413900, 375107: 0, 46429: 0, 9600: 173959438, 30675: 7000000, 796: 76347426, 76544: 2054941, 446101: 0, 647: 0, 46529: 149878437, 586592: 57998, 670: 14980005, 443297: 0, 584355: 0, 329440: 37608299, 64690: 78054825, 10679: 10109659, 27022: 215283742, 2666: 27200316, 95610: 211952420, 536841: 0, 1729: 127906624, 724717: 0, 11619: 178120010, 11322: 214104620, 595464: 0, 31011: 2331721, 2112: 161626121, 570352: 0, 661227: 0, 340666: 29252978, 301056: 0, 450932: 52036, 451156: 0, 727745: 0, 467433: 2587072, 449574: 0, 943: 321731527, 478860: 0, 284303: 2193474, 748027: 0, 343674: 0, 333667: 9420546, 65759: 150406466, 402: 352927224, 606679: 0, 1635: 162949164, 14410: 43051547, 75: 101371017, 610253: 0, 746411: 0, 512343: 0, 1537: 94935764, 10495: 38956288, 9804: 264218220, 12122: 0, 4141: 26820641, 225565: 26049082, 20662: 310669540, 407440: 0, 13355: 0, 2118: 126216940, 6435: 46683377, 276907: 42972994, 554576: 0, 745264: 0, 333371: 108286421, 455656: 0, 745922: 0, 745917: 0, 743229: 0, 742734: 0, 847: 57269863, 402529: 44922302, 450806: 0, 541568: 0, 243914: 0, 11134: 20483423, 720271: 0, 871: 33395426, 743112: 0, 22705: 0, 426563: 40462793, 329289: 0, 563710: 0, 316873: 43000000, 22947: 163670000, 365942: 14793385, 16221: 0, 479718: 52946454, 14863: 0, 13190: 0, 326: 62022014, 506863: 2137751, 752589: 0, 751913: 0, 15472: 109421911, 335: 5321508, 9383: 190213455, 44667: 0, 792: 138530565, 23446: 0, 401600: 0, 9920: 31070211, 515248: 0, 13649: 7000000, 688343: 0, 545742: 0, 675353: 0, 747827: 0, 13700: 103951461, 10634: 28215918, 457799: 0, 265147: 0, 34583: 0, 470639: 0, 587429: 0, 20760: 0, 751656: 0, 9741: 248118121, 399248: 7258534, 152601: 47351251, 11459: 86369815, 382190: 0, 4234: 161834276, 25195: 29922472, 110415: 86758912, 566367: 0, 338676: 0, 291276: 0, 524: 116112375, 714375: 0, 2636: 170362582, 9802: 335062621, 236751: 101332962, 527280: 0, 551824: 0, 9342: 250288523, 25237: 168817, 4977: 944915, 2309: 62803180, 9495: 94000000, 416494: 0, 9339: 240685326, 265195: 27007072, 717042: 0, 18011: 0, 7326: 231411584, 36593: 51132598, 57212: 177584879, 629: 23341568, 333669: 14397593, 782: 12532777, 574894: 0, 308266: 86234523, 20441: 0, 10796: 72700000, 1572: 366101666, 436459: 0, 235260: 67800064, 595867: 0, 15370: 522911, 298312: 98450062, 157547: 44459951, 14711: 0, 6282: 113916474, 254473: 68896829, 1495: 211643158, 408567: 0, 657: 78898765, 9693: 70595464, 334533: 5879736, 80035: 68267862, 13448: 356613439, 699254: 0, 9494: 296000000, 4638: 80573774, 309886: 6903033, 11835: 16974459, 401561: 169209, 122857: 1402307, 435366: 0, 9103: 57400547, 681195: 0, 292040: 1473809, 602562: 0, 445962: 0, 277355: 358156, 202575: 64197205, 1103: 50244700, 10159: 80916492, 37834: 261930431, 360789: 0, 10637: 136706683, 317960: 0, 580600: 0, 415826: 0, 44865: 64076736, 16690: 109862682, 580632: 0, 9602: 288752301, 71880: 149673788, 8202: 53321673, 514743: 0, 287424: 187112, 602198: 0, 658: 124881062, 396371: 59284015, 304023: 0, 179538: 0, 301365: 3377430, 116149: 259207227, 20077: 0, 38157: 0, 257785: 3425664, 9392: 57051053, 1701: 224012234, 670328: 0, 471014: 0, 222724: 0, 9592: 0, 383538: 0, 80280: 11019975, 881: 243240178, 199: 150000000, 203835: 0, 284289: 45895, 576917: 0, 525696: 0, 465109: 0, 728143: 0, 699249: 0, 242095: 2665322, 77950: 282570682, 1581: 194168700, 43539: 51148651, 83899: 14347000, 376660: 18803648, 447163: 0, 818: 296655431, 9760: 86865564, 9476: 117487473, 426284: 150532, 18126: 155545279, 243: 47126295, 460059: 0, 226857: 34077920, 77016: 48126384, 253: 161777836, 15212: 0, 371608: 31039126, 1903: 203388341, 27581: 170432927, 613183: 0, 79316: 36433975, 10199: 86947965, 718099: 0, 187257: 0, 8984: 214015089, 10294: 35300645, 105965: 0, 655977: 0, 399796: 61700416, 17918: 0, 523139: 0, 11631: 609841637, 1954: 96060858, 8766: 16675000, 561325: 0, 384680: 29819114, 286873: 0, 288158: 48854305, 523172: 22384741, 2059: 347512318, 542917: 0, 184346: 87937815, 1977: 38610009, 624956: 0, 664423: 0, 660609: 0, 106747: 15008161, 32293: 0, 393: 152159461, 409582: 7910928, 10647: 55707411, 3093: 38629478, 402200: 0, 399404: 150847207, 554581: 0, 794: 60922980, 207: 235860116, 440777: 0, 114478: 0, 34480: 7048886, 1265: 137587063, 403119: 44235023, 256765: 0, 60747: 44806783, 11130: 95149435, 361743: 0, 242224: 10312540, 755: 25836616, 492414: 0, 82695: 441809770, 1738: 76066841, 43959: 47088990, 16866: 104945765, 384677: 0, 338766: 37589296, 49524: 61648500, 63: 168840000, 28635: 0, 10073: 48548426, 664031: 0, 228205: 63013281, 7347: 14759148, 44725: 13107237, 548204: 0, 10494: 112536, 601169: 0, 7459: 93945766, 4474: 60896147, 331583: 0, 504582: 0, 513268: 0, 7451: 277448382, 8741: 98126565, 8068: 25405445, 596054: 0, 109080: 0, 456929: 20121318, 433498: 0, 17578: 371940071, 417644: 26800152, 13078: 44852, 450873: 0, 11252: 37141130, 546630: 0, 448095: 0, 225574: 222809600, 200: 118000000, 748992: 19748009, 309425: 0, 346: 271842, 46441: 0, 489939: 0, 460790: 0, 82693: 236412453, 10131: 72500000, 30018: 17112713, 3049: 107217396, 376659: 183936074, 10045: 9584131, 9539: 1100000, 626751: 0, 16288: 0, 432985: 0, 624484: 0, 524247: 25724305, 462919: 0, 458423: 395044706, 7552: 202026112, 150202: 0, 195590: 4811525, 1498: 201965915, 644613: 0, 275: 60611975, 494407: 23740788, 10030: 59192128, 14624: 3438735, 220845: 0, 603519: 0, 716419: 0, 743439: 0, 503125: 0, 431075: 0, 351694: 150000000, 418879: 0, 41402: 24145613, 11152: 22700000, 13179: 0, 19959: 122444772, 564145: 0, 645691: 77942, 171424: 6833445, 109491: 60052138, 146301: 78096553, 839: 0, 752340: 0, 346685: 173185859, 7549: 68072848, 295964: 36606743, 241843: 581011, 120467: 174600318, 44826: 185770160, 9530: 87528173, 38745: 237382724, 355111: 0, 401544: 0, 42360: 0, 644: 235926552, 332356: 0, 97: 33000000, 499726: 0, 464620: 0, 472424: 0, 136400: 131940411, 584427: 0, 12589: 80936232, 239563: 54837234, 49049: 41037742, 50321: 38992758, 37799: 224920315, 10096: 96455697, 302429: 13603453, 686: 171120329, 11011: 0, 10402: 65535067, 128883: 0, 97630: 132820716, 613099: 0, 538362: 0, 8689: 0, 463116: 0, 928: 41482207, 407887: 49196532, 429733: 0, 454291: 0, 72559: 371876278, 1391: 33616692, 553962: 0, 19277: 0, 1273: 95608995, 554133: 0, 501907: 67760877, 274870: 303144152, 65291: 0, 806: 119188334, 1499: 42273609, 102362: 18074539, 10545: 100138851, 23023: 112462508, 3981: 374111707, 589976: 9796520, 68734: 232324128, 34204: 0, 264644: 35401758, 35558: 0, 345920: 88528280, 126172: 0, 10040: 101393569, 14813: 21000000, 492002: 0, 12597: 0, 69: 186438883, 382517: 0, 18405: 32721635, 68730: 23737523, 297676: 0, 709: 156167015, 14299: 8880045, 1966: 167298192, 310593: 2000000, 302960: 0, 2486: 249288105, 407375: 0, 11864: 12303411, 502167: 0, 565310: 22110994, 10663: 185991646, 700: 187500000, 292177: 0, 228968: 2633527, 535356: 0, 10431: 40452643, 557336: 0, 329: 920100000, 15121: 286214286, 294652: 0, 418437: 17768012, 290250: 62788218, 703145: 0, 62215: 15946321, 68812: 1969193, 2978: 215394738, 589681: 0, 19543: 0, 7350: 175372502, 13394: 0, 26736: 0, 15144: 23686027, 359940: 160192031, 511322: 33856058, 3600: 40002112, 552858: 0, 8769: 21200000, 216282: 160602194, 423108: 0, 8224: 96618699, 565716: 0, 1955: 26010864, 302666: 0, 340837: 26559557, 427900: 27020284, 9992: 107944236, 39324: 0, 536743: 46597100, 9279: 129832389, 9756: 0, 300681: 8100000, 45781: 0, 2698: 173000000, 17609: 791867, 340022: 0, 388: 186003591, 284427: 0, 40723: 9200, 40264: 80547866, 38321: 78309131, 5549: 45681173, 421471: 327231, 20048: 108332743, 2164: 196567262, 12763: 65742992, 294963: 0, 10727: 0, 11969: 56505065, 13830: 0, 50124: 0, 423453: 7800000, 12707: 14717854, 10623: 56489558, 9030: 56309766, 805: 33395426, 938: 15000000, 399173: 0, 239459: 0, 699: 195312802, 76122: 0, 2756: 90000098, 316152: 25035950, 78383: 10000000, 384798: 0, 602545: 2514679, 59962: 156974557, 43960: 0, 9032: 234801895, 744925: 0, 401371: 0, 2567: 213719942, 765: 5923044, 291867: 0, 57089: 13521829, 9679: 237202299, 12405: 377910544, 538604: 0, 529983: 323754, 435841: 32783733, 111969: 81071, 458083: 0, 462104: 0, 318850: 6490401, 440762: 1011305, 16780: 185898, 410199: 0, 118365: 0, 57876: 7556, 152: 139000000, 14248: 30700000, 10590: 114660784, 653610: 0, 11001: 117758500, 9885: 27762648, 453831: 0, 603320: 0, 2024: 215294342, 452006: 0, 192102: 52597999, 47327: 28931401, 2800: 88933562, 9641: 129181830, 168530: 153997819, 505642: 0, 390051: 261465, 644479: 0, 632318: 0, 212778: 45967935, 177888: 0, 1995: 274703340, 426613: 2019874, 554753: 0, 13673: 0, 442094: 0, 707: 152427960, 12721: 4662137, 394723: 0, 497859: 0, 17431: 9760104, 49797: 0, 567608: 0, 166076: 2915767, 539073: 0, 461054: 0, 431185: 0, 464882: 0, 663360: 0, 19458: 0, 390062: 0, 70074: 9489829, 181886: 3396726, 289269: 0, 14444: 100491683, 463684: 0, 115290: 0, 813: 83453539, 428099: 0, 326425: 16775, 60307: 72526996, 245473: 0, 81900: 0, 10923: 58795814, 542928: 0, 19918: 12032983, 64328: 165184237, 404733: 7793, 17898: 0, 2405: 0, 1669: 200512643, 502166: 0, 674944: 0, 576784: 0, 11228: 159212469, 10228: 163644662, 6637: 459242249, 178809: 0, 434203: 0, 1597: 330444045, 752149: 0, 14611: 0, 454652: 14273033, 8321: 34533783, 521935: 0, 2310: 195735876, 627394: 0, 393457: 64414761, 11415: 0, 201676: 0, 529962: 0, 433251: 0, 242310: 0, 348389: 0, 372343: 43203413, 437586: 6897446, 387836: 0, 103663: 18309793, 193610: 196781193, 446829: 0, 411728: 0, 2064: 182057016, 10327: 124914842, 2046: 12008642, 553646: 0, 17097: 0, 33: 159157447, 559401: 0, 394830: 6554322, 22164: 0, 54318: 103071443, 592480: 0, 135354: 0, 80410: 0, 137: 70906973, 336004: 4100000, 463364: 0, 737684: 0, 11092: 221303188, 1911: 61698899, 7092: 0, 296099: 104384188, 1636: 90383208, 542921: 12277353, 489064: 0, 8393: 60000000, 42941: 0, 9874: 49042224, 13354: 0, 449459: 0, 4553: 8203235, 6278: 82150183, 816: 67683989, 10222: 14697005, 11358: 57223890, 505192: 0, 341012: 9496130, 517814: 64978931, 37686: 260095986, 79516: 0, 10184: 178866158, 272693: 43528634, 492: 22863596, 548754: 0, 286532: 0, 436274: 0, 611634: 0, 441701: 0, 440941: 0, 6023: 156835339, 8859: 73180723, 515741: 230193, 10249: 62000000, 650: 57504069, 9907: 116476887, 11453: 22400154, 11645: 11859533, 613722: 0, 9397: 98376292, 1491: 87892388, 306964: 416792, 176812: 0, 392982: 10051659, 501395: 0, 653392: 0, 703: 38251425, 492190: 0, 267193: 27979040, 334: 48451803, 8488: 368100420, 377264: 8810591, 13596: 36620508, 324558: 0, 560391: 7547254, 159117: 21833, 2019: 74189677, 1656: 142400065, 89636: 0, 429300: 4230000, 205081: 0, 716675: 0, 570735: 0, 80271: 0, 11774: 209073645, 438: 0, 340674: 0, 16337: 8025872, 2005: 231605150, 941: 120207127, 34297: 0, 384737: 100659, 423087: 0, 473165: 0, 16353: 8936663, 504599: 0, 59860: 39667665, 8810: 24600832, 11808: 102367405, 580077: 0, 681: 116019547, 10610: 0, 513083: 0, 26428: 39041505, 10577: 47053625, 430354: 0, 11976: 15502112, 8914: 164648142, 291356: 53647, 359628: 0, 350499: 0, 359412: 0, 251: 505000000, 436969: 0, 321494: 0, 13486: 0, 8665: 35168966, 292280: 26667197, 10160: 22168359, 11003: 123306987, 119569: 0, 371645: 23200000, 750160: 0, 6069: 63766510, 11212: 16671505, 129743: 0, 9276: 40283321, 383785: 254212245, 9619: 178127760, 268690: 6300000, 13374: 27645491, 594718: 0, 10906: 17092453, 698929: 0, 255798: 0, 6950: 189859560, 241855: 49970, 282813: 16861137, 660: 141195658, 244: 10000000, 9007: 102854431, 2253: 200276000, 13576: 261200000, 13767: 84500122, 487558: 48686605, 80389: 0, 814: 31973249, 1535: 143049560, 87516: 5186767, 45610: 2527904, 10306: 14144000, 9598: 254134910, 257091: 111811453, 8470: 102244770, 12113: 113280098, 297608: 0, 12279: 197011982, 618214: 0, 374617: 35000, 5336: 22017, 16235: 12534817, 754: 245676146, 9064: 12090735, 1534: 30822861, 426426: 1140769, 377448: 0, 71469: 64626786, 2114: 85131830, 10172: 58400000, 79: 177394432, 244761: 1075178, 2493: 30861665, 5550: 10696210, 12212: 38574362, 36685: 112892319, 59965: 82087155, 742756: 0, 503: 181674817, 1639: 164508066, 605255: 0, 261392: 27139524, 1576: 102984862, 527675: 0, 9870: 105173115, 598215: 0, 566222: 0, 170687: 108255770, 452507: 0, 11870: 52970014, 270007: 0, 97051: 0, 10329: 152022101, 11529: 180622424, 702770: 0, 507076: 0, 12095: 0, 184: 39673162, 537736: 0, 245917: 0, 99: 67872296, 288985: 0, 9471: 259175788, 433: 102272727, 10314: 103166989, 385317: 0, 224141: 212902372, 210860: 30418560, 8698: 179265204, 316154: 180851, 314365: 98690254, 621: 181813770, 430447: 0, 9406: 26570463, 467248: 0, 361159: 0, 3050: 294456605, 353569: 5042014, 257440: 21256, 10601: 121975011, 71668: 8493728, 15849: 0, 425336: 17535962, 152532: 55736588, 942: 227853986, 273511: 0, 458737: 2525738, 1538: 217764291, 250734: 30229977, 420245: 0, 7484: 197309027, 44730: 7232965, 10007: 18564467, 453395: 0, 518755: 0, 271708: 0, 347754: 0, 286565: 85512300, 15859: 0, 9816: 91038276, 13821: 0, 257346: 0, 400617: 47756590, 270774: 58500000, 13223: 269958228, 609175: 0, 347866: 0, 277685: 62882090, 746135: 0, 513386: 3186721, 37735: 74952305, 337960: 0, 40805: 227817248, 23169: 56032889, 244267: 336472, 3604: 27107960, 645998: 0, 9073: 0, 8656: 349464664, 576040: 0, 1578: 23000000, 284536: 39171130, 244566: 88273, 76285: 199850315, 11411: 19300000, 10753: 0, 1251: 68673228, 65650: 5206, 26466: 1594955, 616584: 359377, 325348: 14333790, 449684: 0, 14620: 0, 107: 83557872, 322: 156822020, 9354: 222724172, 46146: 4159678, 625561: 0, 55931: 0, 11026: 78000586, 8997: 0, 228203: 45710059, 491633: 0, 38810: 110197, 11238: 0, 638605: 0, 39057: 50673078, 13836: 106303988, 413440: 0, 339692: 0, 9767: 205668210, 9341: 74208267, 12100: 77628265, 302401: 37357216, 11090: 84772742, 518158: 0, 10521: 114663461, 510298: 592565, 330483: 18730891, 482981: 0, 34295: 0, 10897: 67308282, 9696: 0, 446791: 56996304, 39486: 60251371, 631883: 0, 1278: 15121165, 286548: 0, 532671: 21150265, 9593: 137298489, 979: 792200, 46705: 16566240, 13483: 14373825, 428449: 1596371, 4643: 0, 732721: 0, 530442: 0, 21385: 0, 49520: 75450437, 575100: 7478544, 5915: 56255142, 42194: 967000, 587272: 15894372, 309809: 97571250, 9610: 31042035, 11683: 46770602, 341006: 10166820, 3580: 113020255, 70: 216763646, 581420: 0, 9825: 56870414, 29993: 11500000, 298: 311312624, 592128: 0, 458578: 0, 79379: 0, 11906: 2884265, 6075: 63848322, 473309: 0, 120475: 0, 12090: 101564935, 590529: 0, 390061: 4372130, 21956: 0, 508: 244931766, 363676: 240797623, 10756: 182290266, 664: 494471524, 619090: 158443, 437291: 0, 79694: 9627492, 19899: 171844840, 1921: 65754228, 8065: 69823199, 1281: 251212670, 9982: 314432665, 513223: 0, 623627: 0, 13350: 0, 734278: 0, 25623: 0, 296098: 165478348, 70436: 29657751, 1887: 60474340, 603055: 0, 152259: 1034589, 4513: 75505973, 282984: 27391084, 522887: 0, 59436: 151119219, 9522: 285176741, 510388: 0, 49527: 46221189, 667: 111584787, 411873: 0, 1428: 98185582, 770: 402352579, 83: 54667954, 5966: 178311729, 44115: 35692920, 375262: 82124805, 326284: 0, 750606: 0, 488113: 0, 55993: 0, 448779: 0, 9268: 242295562, 463257: 0, 257874: 0, 9359: 183031272, 10304: 0, 38057: 0, 1807: 10012022, 24831: 16000000, 745546: 0, 119892: 0, 30431: 0, 589612: 0, 390584: 0, 492815: 0, 290637: 2160298, 820: 205405498, 460557: 0, 503902: 0, 5176: 70016220, 11637: 97918663, 589982: 0, 463602: 0, 653723: 0, 472838: 0, 17792: 0, 8982: 27165581, 533: 192610372, 397422: 45056771, 436951: 0, 14873: 135680000, 10054: 147934180, 168705: 2405420, 369557: 13624522, 433694: 0, 1280: 0, 95608: 2550321, 9948: 0, 284274: 0, 38357: 58785180, 400710: 45158254, 21032: 11348324, 74018: 0, 718400: 0, 272692: 0, 650056: 0, 442056: 0, 9352: 20796847, 82881: 0, 9355: 36230219, 12207: 11555430, 3558: 48350205, 9255: 133752825, 369196: 0, 532893: 0, 28874: 80768, 8879: 41410568, 659927: 0, 11778: 50000000, 752611: 0, 440596: 0, 339060: 0, 9426: 60629159, 340676: 1305195, 50393: 0, 134366: 0, 62395: 0, 60670: 0, 619106: 0, 11820: 0, 208134: 151831537, 10991: 68411275, 452832: 14454622, 1430: 35564473, 624620: 0, 50647: 24159934, 9963: 84146832, 497984: 0, 362703: 0, 228973: 0, 122081: 31724284, 310307: 24121245, 841: 30925690, 11008: 30112050, 542417: 0, 656103: 0, 570488: 0, 661095: 0, 582927: 0, 1544: 2455831, 449664: 0, 437103: 49380115, 44603: 105197635, 1685: 18999718, 640146: 0, 15657: 0, 138697: 0, 380124: 74827344, 4327: 264105545, 1272: 32017803, 695476: 0, 203833: 76586316, 571123: 0, 360606: 0, 13417: 0, 33217: 76196538, 8055: 113019290, 13971: 21972336, 11024: 181466833, 13980: 0, 400579: 15636462, 10865: 186053725, 603258: 0, 433630: 0, 540158: 0, 748567: 0, 16558: 78146652, 300168: 121545703, 497727: 2244848, 192712: 0, 527261: 2325977, 96: 299965036, 9800: 206678440, 14202: 26910847, 9506: 195745823, 12795: 745327, 9947: 56681566, 503619: 0, 573632: 0, 56903: 0, 720045: 0, 10771: 104391623, 4518: 82150642, 55: 20908467, 14175: 61746888, 40041: 0, 267806: 2756, 10351: 15719109, 12618: 74608570, 668: 81974493, 201: 67312826, 8848: 64822796, 119698: 0, 184098: 70181428, 14191: 23006849, 259694: 112343513, 10996: 169956806, 501851: 0, 17165: 0, 10477: 54744738, 13009: 0, 6877: 128406887, 59115: 0, 86331: 0, 587608: 0, 445077: 0, 479: 107196498, 12700: 251495, 336890: 0, 29427: 54956140, 10022: 198636868, 37821: 98159963, 4944: 163720069, 421313: 0, 49494: 27122040, 715235: 0, 514619: 29152618, 242606: 0, 413052: 0, 478159: 0, 441130: 0, 614205: 0, 1592: 102616183, 388202: 0, 9594: 30102717, 80585: 59418613, 7364: 119269486, 12096: 158851357, 253310: 0, 423612: 4831836, 840: 303788635, 11878: 0, 74998: 14089528, 360249: 0, 354110: 0, 9667: 21733230, 4824: 159330280, 529981: 0, 390634: 19790000, 22537: 0, 300803: 0, 15: 23217674, 8195: 70692101, 587: 123218424, 452015: 0, 438145: 0, 439059: 0, 464742: 0, 62206: 40547440, 9441: 159710793, 1948: 42931041, 234004: 8821329, 599: 5000000, 526896: 0, 270302: 2146041, 12142: 10442808, 37136: 78756177, 167073: 62076141, 6404: 0, 391: 14500000, 867: 116300000, 354861: 25601244, 11508: 0, 399019: 27397655, 45317: 93617009, 428125: 0, 1700: 61276872, 9896: 85498534, 544415: 0, 51880: 0, 77949: 209696, 2026: 77944725, 575088: 0, 301608: 0, 10810: 0, 553301: 0, 4547: 197079546, 583209: 0, 461928: 0, 10423: 63513743, 398181: 10891281, 145220: 80383290, 673159: 0, 334524: 14880939, 121734: 23000000, 548: 96568, 146198: 12639297, 923: 55000000, 605804: 3758846, 1018: 20117339, 14462: 96105964, 68: 0, 488623: 9900000, 459928: 6158, 152792: 0, 9616: 11560806, 81250: 0, 2293: 2122561, 303858: 93282604, 51052: 0, 104755: 1165882, 48340: 108609310, 472451: 7928149, 10493: 7825000, 735364: 0, 10552: 0, 9405: 0, 5825: 71319546, 957: 38119483, 9620: 95427515, 537996: 0, 47931: 63027681, 3082: 8500000, 554761: 9828, 455842: 0, 10303: 96773200, 369552: 0, 239571: 35926213, 10280: 0, 479957: 0, 620741: 0, 45269: 414211549, 604092: 0, 276905: 17062499, 9326: 86572238, 20544: 0, 159092: 0, 13809: 25739015, 7984: 65796862, 331061: 0, 10948: 29800000, 68555: 0, 511785: 0, 1923: 4160851, 407445: 477815, 482408: 0, 266294: 105011053, 10202: 212874864, 8386: 31155435, 565307: 309776, 399170: 48453605, 77883: 85446075, 146229: 0, 293863: 65663276, 10718: 46546197, 30074: 0, 11797: 24922237, 50456: 63782078, 470044: 34934009, 138038: 0, 474214: 0, 459258: 0, 334376: 101203, 20829: 61458982, 520576: 0, 505436: 74769845, 41216: 140073390, 376134: 0, 235: 52287414, 35690: 0, 10027: 50871113, 7461: 151161491, 9798: 250649836, 11216: 11990401, 1577: 129394835, 432383: 0, 9315: 223387299, 6963: 12482775, 10127: 3813293, 150028: 0, 82990: 142817992, 417760: 0, 3602: 0, 12159: 71485043, 10134: 10166459, 14174: 0, 246464: 0, 6415: 108000000, 425373: 10230620, 639: 92823546, 712164: 0, 19158: 11582891, 21519: 0, 301: 5800000, 50359: 183953723, 11547: 30553395, 272094: 0, 574241: 8600192, 451915: 7649973, 412105: 0, 155084: 13809, 548066: 0, 80: 15992615, 22907: 69055695, 1832: 30652890, 11336: 20766616, 2832: 90259536, 744632: 0, 11649: 17336370, 1844: 212404396, 271714: 28641776, 180147: 0, 259611: 0, 13497: 57588485, 238215: 0, 394269: 0, 213: 13275000, 34016: 49779728, 8346: 368744044, 241863: 0, 752675: 0, 14609: 6700000, 25961: 42538454, 2067: 60874615, 368940: 40075446, 25188: 29133000, 76812: 0, 461763: 10, 627463: 1338220, 65055: 10126458, 26390: 45719985, 529862: 7439448, 15969: 0, 376424: 0, 575265: 0, 266285: 42070000, 4347: 131016624, 8009: 5900000, 573683: 0, 437626: 0, 42188: 9918093, 741882: 0, 416148: 0, 67900: 0, 421473: 21712, 11542: 19853892, 71186: 0, 675592: 0, 250538: 3396345, 495151: 0, 349158: 0, 491283: 38981322, 51876: 161849455, 9513: 141702264, 717154: 0, 2142: 44862187, 1164: 135330182, 579: 187884007, 9753: 0, 9490: 17460020, 484437: 3373474, 139567: 4636169, 86828: 6303792, 11172: 145896422, 9763: 27610873, 4959: 60161391, 74406: 0, 473: 3221152, 414190: 0, 146: 213525736, 12208: 41744718, 514894: 0, 586461: 0, 451184: 0, 376570: 0, 1991: 30207393, 850: 19294144, 26389: 52826594, 450314: 8431194, 398177: 6069605, 284564: 779820, 531438: 0, 323676: 78636257, 314095: 8574339, 335462: 80000000, 24100: 13555988, 11246: 0, 23742: 55583804, 37137: 86930411, 380: 354825435, 11806: 57114049, 1649: 0, 623520: 0, 3563: 187134117, 329833: 55969000, 297961: 0, 199373: 5496951, 10877: 79958599, 69668: 38502340, 606154: 0, 261023: 98837872, 70584: 0, 456750: 0, 259695: 22678555, 453: 313542341, 21755: 5530764, 2787: 53187659, 3512: 104324083, 336455: 551760, 17456: 0, 240483: 0, 17466: 16853487, 713649: 0, 17134: 17280326, 10186: 8762890, 13012: 0, 539064: 0, 736860: 0, 10908: 0, 441282: 0, 422642: 0, 419700: 0, 71: 109280263, 11231: 15826984, 293452: 0, 157353: 103039258, 22897: 219103655, 425931: 0, 310135: 67132, 688: 182016617, 26255: 754935, 404378: 82703, 14979: 0, 691: 185438673, 14113: 12506188, 198277: 63464861, 14613: 3800000, 243940: 64110728, 116745: 188133322, 2330: 268254, 91417: 0, 448449: 0, 485337: 0, 6073: 147845033, 463053: 0, 9424: 17507368, 526682: 0, 11866: 21009180, 186759: 0, 19901: 51416464, 8452: 96085477, 9529: 25792310, 11678: 215663859, 429202: 1330828, 9398: 60780981, 22971: 114977104, 575264: 0, 514547: 0, 23631: 44093316, 298016: 0, 324560: 0, 28609: 0, 17445: 0, 351044: 12780692, 24929: 9205924, 22954: 122233971, 622855: 0, 9618: 63408614, 16390: 0, 7299: 5359645, 33542: 32392047, 167: 50315140, 227707: 6399, 211954: 99067206, 553512: 20, 9481: 151493655, 297: 142940100, 583268: 0, 20410: 0, 8619: 212011111, 241254: 0, 241257: 17671101, 10982: 51053787, 10361: 0, 352492: 0, 2323: 84431625, 186: 56308881, 41733: 211780824, 487476: 0, 4551: 95226116, 9454: 65705772, 23568: 0, 8965: 0, 13313: 0, 266396: 13644292, 18937: 38172500, 15648: 0, 20533: 10539000, 76640: 0, 161143: 0, 23172: 45236543, 11467: 138191428, 9957: 0, 299963: 0, 1092: 596349, 225832: 0, 318781: 3621046, 71689: 0, 11979: 45479110, 1883: 48169908, 507505: 10452324, 1541: 45361000, 580: 51881013, 8413: 26673242, 11968: 44434439, 10053: 66966987, 1696: 19246174, 276624: 0, 480823: 0, 227783: 122529966, 38317: 169852759, 72976: 275293450, 65599: 0, 1777: 119114517, 8487: 222104681, 14158: 0, 295011: 0, 431259: 0, 508642: 0, 401847: 8586944, 9092: 0, 2044: 114830111, 693: 516642939, 725234: 0, 209189: 265452, 20910: 0, 737763: 0, 11199: 253625427, 265177: 3494070, 4478: 266614059, 19: 650422, 458131: 0, 520679: 0, 54518: 98441954, 11620: 101486, 268920: 51680201, 10070: 658573, 430682: 0, 18374: 0, 16325: 2186782, 326285: 0, 12184: 78269970, 1051: 41158757, 209451: 67347013, 331313: 29918745, 717881: 0, 424488: 13406883, 18781: 77527732, 454: 147298761, 360055: 0, 207883: 0, 2619: 69821334, 409164: 0, 86130: 0, 49852: 17177993, 20: 9726954, 45772: 189712432, 9759: 56422687, 413998: 9200168, 9461: 0, 64807: 44907260, 351962: 0, 622: 58401898, 819: 165615285, 307479: 0, 474354: 0, 2179: 13405595, 901: 19181, 8840: 115267375, 387: 85000000, 12448: 0, 712: 254700832, 112949: 97594140, 9801: 262500000, 2252: 56106607, 12493: 0, 214314: 0, 11362: 75395048, 44639: 7871522, 115348: 13785015, 744174: 0, 82650: 77229695, 504: 60378584, 6972: 211787511, 10024: 95714875, 4688: 29625761, 3176: 25000000, 376865: 2133033, 9053: 7563172, 1547: 32222567, 9560: 50012507, 320048: 0, 174772: 0, 93837: 0, 356300: 24532, 39144: 0, 14919: 5617391, 11665: 230685453, 674607: 0, 210479: 4635300, 134411: 42930462, 3536: 127666415, 14012: 21000000, 11059: 13818181, 618518: 0, 12610: 13596911, 9475: 134095253, 10571: 20627372, 9491: 7701707, 9208: 150270147, 96724: 68929150, 8095: 71000000, 2018: 94728529, 340103: 0, 618346: 0, 15789: 35348597, 39228: 0, 710832: 0, 9904: 37384046, 595148: 177418, 347186: 0, 489925: 13539709, 10950: 92542418, 335791: 30658387, 2671: 8690429, 347984: 0, 13056: 10089373, 9754: 82800000, 409421: 0, 653522: 0, 60405: 0, 611873: 0, 817: 312016858, 127867: 0, 152760: 154984035, 375355: 0, 9655: 33889159, 752617: 0, 12140: 9789651, 409: 231976425, 9440: 0, 3489: 32593385, 858: 227799884, 6957: 109449237, 10189: 101624843, 8836: 68369434, 77866: 96262212, 8963: 157387195, 8292: 92374674, 11560: 63781810, 485774: 0, 414419: 0, 286668: 0, 595149: 0, 33645: 0, 11230: 0, 12657: 14822346, 10957: 21288692, 9270: 3919254, 520318: 0, 10145: 117592831, 51608: 43059790, 41515: 201584141, 399121: 0, 437620: 0, 65218: 0, 10911: 28900000, 592230: 0, 453191: 19030780, 9361: 75505856, 88042: 119772232, 239: 25000000, 483983: 0, 703703: 0, 444902: 0, 24795: 50236831, 11004: 0, 452558: 0, 440161: 13143056, 13477: 43042835, 360784: 0, 42684: 66984887, 16290: 117224271, 614: 0, 10060: 46442528, 627518: 0, 9531: 75850624, 94365: 16184, 515042: 21790193, 467956: 0, 487702: 0, 525946: 0, 10331: 30000000, 9772: 315156409, 443463: 0, 38117: 43202283, 43920: 430041, 601470: 0, 16306: 0, 71864: 56012642, 181656: 0, 74849: 0, 209244: 0, 14306: 242717113, 9595: 181096164, 342521: 20609977, 9428: 71441250, 79548: 18100189, 11132: 29331068, 531949: 0, 325189: 0, 11622: 40263020, 15004: 0, 695848: 0, 301748: 45000, 235271: 0, 11127: 0, 3682: 16757163, 100241: 76801179, 588001: 0, 590706: 74000000, 333357: 0, 397: 0, 204: 0, 457943: 0, 455565: 0, 1878: 10680275, 320: 113714830, 47292: 43300000, 336000: 22088533, 12123: 60209334, 257932: 0, 2108: 51525171, 422641: 0, 529216: 17325485, 19840: 15345201, 40205: 0, 10133: 0, 313922: 3220371, 263341: 0, 413658: 0, 84228: 0, 15276: 0, 11258: 19870567, 919: 0, 11082: 18875011, 329981: 13082071, 275601: 41325328, 228970: 52501541, 416477: 56303596, 101907: 0, 744881: 0, 498743: 0, 4614: 193921372, 415010: 0, 11128: 74541707, 25376: 33965843, 366696: 0, 4836: 11850214, 471859: 0, 24528: 0, 826: 44908000, 10539: 28946127, 33196: 71641901, 12569: 10848783, 11667: 99423521, 9036: 120455994, 5879: 0, 17455: 0, 475888: 0, 10380: 40766041, 10576: 34725000, 276488: 0, 9697: 72785169, 230652: 0, 19556: 0, 791: 46201432, 448831: 0, 393003: 0, 17130: 61141030, 517148: 0, 83666: 68263166, 13922: 10166502, 32856: 216485654, 10730: 90614445, 752605: 0, 382399: 53447, 613: 92180910, 137321: 30800231, 11868: 0, 153: 119723856, 514995: 0, 138: 700000, 9913: 93983911, 6575: 18317151, 450489: 0, 1646: 43095175, 33473: 0, 283552: 25975621, 39145: 0, 245913: 27312, 746287: 0, 12163: 44703995, 635399: 0, 406: 15300000, 255268: 0, 16761: 0, 621880: 0, 350640: 0, 652754: 0, 555850: 0, 425148: 38830219, 1640: 98410061, 81003: 0, 2133: 325756637, 41283: 23081726, 49517: 80630608, 411741: 24931915, 239678: 41296320, 171581: 0, 67675: 18663238, 209269: 0, 9671: 328203506, 512239: 0, 643413: 0, 8869: 45867333, 19585: 292817841, 11418: 49364621, 228066: 34227298, 12902: 0, 706280: 0, 677430: 0, 150023: 0, 637113: 0, 9622: 0, 40171: 0, 39939: 18492362, 9290: 39438674, 435601: 0, 752648: 0, 10592: 32287044, 153509: 0, 306: 119208989, 21301: 65070412, 438148: 0, 28510: 875386, 651534: 0, 18736: 55534455, 4379: 154749918, 72431: 50365377, 317744: 0, 8457: 0, 322240: 57814445, 74308: 72689, 9350: 255000211, 37094: 40903593, 98357: 19701164, 692233: 0, 546121: 0, 308369: 0, 437: 3000500, 153158: 34061097, 742737: 0, 597856: 0, 289222: 23299081, 1830: 72617068, 398175: 0, 376581: 0, 8870: 33463969, 2447: 0, 2332: 60726164, 49350: 0, 6519: 110803676, 14906: 1135000, 13027: 0, 746282: 0, 410314: 0, 566368: 0, 392681: 0, 9472: 167722310, 743328: 0, 752661: 0, 7985: 21156270, 9489: 250821495, 5375: 97838349, 168: 133000000, 752641: 0, 740628: 0, 17610: 62357900, 104859: 0, 752669: 0, 752663: 0, 752660: 0, 752657: 0, 441384: 4554065, 40377: 0, 455714: 0, 4191: 44566, 411802: 0, 67308: 0, 268092: 0, 73935: 0, 11198: 0, 1900: 207515725, 18487: 150166126, 397520: 127345, 551332: 232638, 325789: 15436808, 2157: 136159423, 144336: 22126842, 123: 30471420, 10708: 164433867, 616037: 0, 82682: 105200903, 1904: 162242962, 1705: 8844595, 180299: 6566916, 514407: 0, 103269: 0, 682: 97572000, 749581: 0, 3035: 12000000, 59981: 18662027, 37233: 270248367, 453362: 0, 752633: 0, 205724: 0, 536396: 0, 7341: 17762705, 3638: 92601050, 368031: 2400000, 50087: 0, 7183: 73090611, 12253: 23510601, 52449: 216197492, 82: 163794509, 587727: 0, 382614: 4596705, 797: 0, 258284: 103536, 714521: 0, 195483: 0, 467660: 14293601, 11551: 54682547, 666338: 0, 10975: 0, 343284: 0, 169219: 0, 744738: 0, 7874: 10903846, 81796: 32204030, 23988: 0, 9493: 216614388, 9453: 23438120, 11153: 61399552, 518978: 0, 100271: 6748712, 39319: 0, 10641: 0, 728224: 0, 391629: 0, 8699: 90574188, 726041: 0, 9607: 20915465, 70868: 31410151, 434355: 0, 492282: 0, 296864: 0, 2057: 35402320, 467632: 3435047, 374473: 15793051, 465914: 20572691, 9462: 27000000, 13683: 0, 10603: 174463257, 467936: 17696794, 483: 14560247, 274479: 101134059, 565839: 0, 86825: 12077441, 717908: 0, 293670: 47098491, 632309: 0, 8007: 91753202, 4133: 83282296, 752590: 0, 16808: 26900000, 601754: 0, 525041: 0, 582247: 0, 1587: 10032765, 752631: 0, 752630: 0, 752625: 0, 752622: 0, 527246: 0, 78049: 0, 12133: 128107642, 10048: 76932943, 10587: 28061343, 300386: 0, 639832: 0, 397873: 0, 12508: 16991902, 500899: 386166, 752919: 0, 752852: 0, 752813: 0, 746044: 0, 746025: 0, 746001: 0, 610069: 0, 571655: 70821, 79218: 0, 443700: 0, 9869: 178051587, 401905: 0, 1825: 16057580, 426272: 2583, 4380: 170128460, 3573: 22231658, 418827: 0, 10516: 0, 1089: 83531958, 13647: 0, 421892: 0, 38842: 0, 229297: 51029361, 16211: 0, 373558: 0, 11931: 83073883, 10204: 72178895, 4978: 84542002, 459225: 0, 9884: 78382433, 53985: 0, 283378: 0, 457136: 37807625, 5038: 96408652, 2899: 111127553, 8831: 101646581, 398: 49084830, 1580: 2200000, 253331: 21571189, 535544: 192094429, 399131: 0, 4517: 74237563, 517909: 0, 406994: 0, 2023: 108103450, 30238: 0, 698: 210308099, 248509: 0, 16258: 0, 10719: 173398518, 296100: 52395996, 381028: 0, 334527: 0, 12599: 163649270, 293771: 0, 14636: 8642858, 605373: 0, 616982: 0, 183662: 0, 18480: 0, 12702: 0, 9889: 141069860, 520172: 0, 802: 9250000, 515841: 0, 6312: 70752904, 51017: 53213633, 627133: 0, 9035: 12834936, 219572: 81170000, 611837: 0, 471664: 0, 279: 51973029, 277597: 0, 222936: 26250020, 21683: 0, 1621: 90404800, 321487: 0, 14830: 0, 491584: 6591038, 359790: 16458, 302156: 14708696, 10833: 0, 259018: 0, 748670: 0, 52451: 132274484, 8461: 7938872, 12531: 0, 297160: 30911, 490: 0, 11013: 9304609, 520360: 0, 6279: 57319029, 38579: 83761844, 2043: 105178561, 708: 191185897, 7453: 104478416, 10016: 14010832, 671812: 0, 727618: 0, 256924: 10835752, 33320: 0, 431112: 0, 426375: 0, 6522: 73521587, 25643: 36133014, 9954: 37597471, 11025: 23400000, 11966: 21630088, 441531: 0, 354287: 0, 228194: 88880821, 585894: 0, 11888: 81000000, 179826: 0, 10779: 29359216, 506815: 0, 293767: 30930984, 602211: 0, 192: 7153487, 90: 316360478, 151535: 0, 13944: 2000000, 9285: 119754278, 9009: 25473093, 5551: 128884132, 383140: 0, 25329: 124048, 86703: 0, 2270: 135560026, 907: 111858363, 594025: 0, 745174: 0, 653729: 0, 5: 4257354, 398173: 5566776, 526426: 0, 520765: 520191, 872: 7200000, 689723: 0, 473019: 1036737, 506407: 0, 460071: 678102, 205588: 9930095, 975: 0, 87826: 73100172, 417047: 0, 48572: 1104682, 733740: 0, 42297: 89519773, 12556: 102223269, 13252: 0, 8012: 115101622, 355277: 0, 14756: 21888598, 323262: 0, 752592: 0, 109417: 16549477, 11817: 37713879, 752649: 0, 830: 3250000, 581528: 24945497, 381890: 553810228, 436373: 0, 496967: 0, 678580: 0, 752595: 0, 745260: 0, 494974: 0, 750140: 0, 333674: 0, 264999: 117813057, 509: 363889678, 291167: 0, 752603: 0, 744742: 0, 109431: 173965010, 43549: 0, 116: 85306374, 14092: 0, 11429: 0, 519010: 28747837, 732170: 0, 17692: 87987055, 429476: 0, 59108: 152930623, 2267: 27297450, 13855: 0, 15708: 819939, 1165: 123384128, 199153: 0, 746286: 0, 42888: 48668907, 11782: 0, 39451: 310650585, 10998: 320145693, 137093: 134402450, 1857: 5849647, 346401: 0, 426030: 15500000, 752088: 0, 60672: 0, 2294: 33788161, 2649: 109423648, 20453: 70000000, 752656: 0, 752654: 0, 752652: 0, 752651: 0, 752646: 0, 752635: 0, 426254: 0, 234284: 0, 327418: 0, 11260: 50650079, 97367: 35485608, 11431: 0, 8367: 390493908, 8046: 7266209, 9978: 23937870, 2268: 372234864, 889: 59468275, 752644: 0, 505904: 0, 10762: 69631118, 935: 9440272, 359246: 0, 17473: 1752988, 749565: 0, 12107: 123307945, 745920: 0, 745919: 0, 371638: 29820616, 745249: 0, 68817: 63543328, 13812: 40855419, 752640: 0, 752637: 0, 752609: 0, 752607: 0, 527385: 0, 13279: 27640028, 534939: 414202, 865: 38122105, 13199: 0, 11075: 0, 13994: 2945242, 605874: 0, 212153: 0, 83542: 130482868, 385360: 0, 674845: 0, 372782: 0, 97787: 0, 12521: 16554699, 737791: 0, 26022: 42345360, 11648: 58405313, 612: 130358911, 11954: 0, 1266: 65569869, 593: 0, 329540: 0, 6878: 0, 328111: 875457937, 270771: 0, 537140: 0, 50698: 0, 273641: 0, 752834: 0, 399106: 0, 299824: 278300000, 523561: 0, 44048: 167805466, 353595: 0, 27573: 136000000, 21733: 0, 15983: 0, 1687: 12348905, 10628: 0, 387773: 0, 7305: 36733909, 402298: 4073489, 48246: 0, 35056: 152263880, 4964: 219076518, 218746: 0, 9012: 64282312, 109424: 95000000, 339103: 4343227, 12233: 74151346, 580175: 0, 323677: 24804129, 11317: 0, 9557: 8586376, 967: 60000000, 37247: 104945305, 328425: 58978653, 8849: 35060882, 9319: 59509925, 50357: 25562924, 1627: 0, 15854: 0, 1957: 51801187, 16516: 0, 9952: 7177143, 12651: 0, 2830: 0, 10471: 59827328, 296918: 0, 8973: 0, 173185: 0, 25059: 32709423, 13888: 2807854, 305943: 0, 709909: 0, 257345: 10898293, 25196: 47405566, 14047: 30226144, 555249: 0, 470229: 0, 63710: 0, 76494: 79700000, 22821: 10629321, 312526: 0, 4806: 309457509, 243684: 461162, 23367: 12225023, 273831: 0, 14362: 39673161, 244403: 58293, 87567: 21819348, 527791: 0, 168672: 251171807, 50270: 0, 344041: 0, 82657: 0, 124470: 0, 11371: 113579918, 16921: 0, 424781: 0, 321697: 34441873, 119321: 0, 9293: 41009669, 67660: 96070507, 531509: 0, 622963: 0, 639798: 0, 64831: 0, 248574: 6075, 9463: 0, 89185: 0, 49950: 52545707, 27621: 0, 4421: 48169156, 3902: 4001121, 452522: 0, 552865: 0, 653: 0, 11509: 0, 632666: 0, 451048: 0, 428493: 2559939, 568467: 0, 11522: 40471663, 29896: 0, 9945: 0, 12819: 50500000, 522369: 8766149, 8491: 30218387, 7972: 25005257, 391698: 12283800, 4689: 1954937, 13382: 0, 9923: 22944502, 7182: 881779, 1907: 144056873, 9980: 7433663, 523773: 0, 301804: 3295624, 9689: 0, 15670: 90508336, 269795: 3945729, 8617: 14796236, 212168: 0, 401104: 0, 459947: 0, 10657: 0, 8834: 136982834, 446696: 7997774, 152584: 10165694, 355338: 0, 15653: 0, 13391: 0, 65057: 177243185, 9815: 7864905, 535308: 0, 227306: 163442937, 362826: 0, 15674: 0, 10658: 37962774, 147: 0, 11814: 38934048, 16187: 0, 1542: 10827810, 417812: 3097257, 12309: 38435947, 410718: 0, 4911: 9237470, 62046: 3142154, 362105: 0, 15196: 14643997, 493100: 0, 884: 0, 444149: 0, 41171: 0, 3083: 9600000, 134126: 7339398, 15071: 0, 23452: 0, 296626: 0, 10077: 5989640, 399790: 0, 13122: 0, 85373: 0, 9564: 1644060, 334517: 0, 403: 145793296, 414191: 0, 10649: 46236000, 8374: 30471, 353979: 22003, 13156: 0, 206284: 0, 253626: 316472, 9946: 211989043, 75638: 13551174, 11058: 30120671, 177: 41895491, 18086: 2983784, 73937: 7448385, 666397: 0, 639250: 0, 568: 355237933, 84226: 0, 76: 5535405, 373569: 60845711, 9656: 21510851, 430268: 0, 3175: 20000000, 396330: 0, 593059: 0, 21057: 0, 859: 34670720, 529426: 88726207, 9081: 3176880, 403605: 0, 392216: 0, 18885: 11798854, 1634: 153698625, 44564: 67112664, 516850: 0, 2395: 132900000, 643434: 0, 532908: 0, 71677: 0, 613090: 368430, 58767: 0, 9387: 79114085, 587412: 0, 333623: 21000000, 9599: 8247943, 308639: 17986781, 378385: 0, 532024: 0, 10357: 122823468, 9042: 15007991, 745604: 0, 403052: 0, 1817: 97837138, 77948: 16863583, 2637: 55305279, 84199: 22836, 33689: 0, 513409: 0, 1965: 128038368, 180948: 0, 2789: 115772733, 9833: 154648887, 65851: 0, 86597: 0, 29996: 12200000, 9374: 149022650, 569711: 0, 746412: 0, 5458: 0, 642885: 0, 509598: 0, 11137: 0, 623464: 0, 87492: 12096300, 333381: 0, 2977: 37311672, 126337: 0, 37530: 7800000, 134: 71868327, 15359: 0, 455043: 0, 12139: 117270765, 730741: 0, 539626: 0, 399057: 2291901, 644435: 0, 93828: 9747, 9331: 215887717, 270010: 4212494, 283350: 37151, 253235: 25312387, 193613: 7972967, 7979: 73276047, 11527: 34967437, 227993: 0, 462677: 0, 9408: 149044513, 10354: 0, 218784: 70958, 11638: 68915888, 9997: 0, 359228: 0, 340613: 5634567, 75900: 35057696, 22972: 94882889, 356334: 0, 407531: 0, 246741: 6263224, 11615: 38955598, 9429: 30331165, 19457: 0, 25751: 0, 25749: 0, 824: 179213434, 43552: 1068682, 338928: 2642899, 33875: 20867919, 10052: 52322400, 748223: 0, 9932: 55003135, 9005: 0, 33909: 134748021, 571451: 0, 212162: 12947880, 2069: 106371651, 521: 3000000, 9038: 127766650, 8337: 13008928, 745257: 0, 745271: 0, 75948: 0, 381693: 0, 726779: 0, 10569: 0, 9955: 0, 321769: 0, 37707: 0, 694234: 0, 10326: 128000000, 10220: 22921898, 467673: 0, 12289: 127814609, 3114: 0, 12690: 20211394, 10879: 61947267, 353070: 84618541, 13376: 23833131, 19766: 0, 13335: 43493123, 11329: 80154140, 538207: 143837, 65215: 0, 4960: 0, 41592: 18144030, 18892: 3076820, 762: 5028948, 219247: 0, 77234: 0, 25364: 1300000, 843: 12854953, 388764: 0, 4283: 10597734, 94901: 8315, 11548: 65088797, 396461: 2053469, 146239: 51164106, 3078: 4500000, 284019: 0, 10589: 61347797, 13690: 8700000, 462723: 0, 32823: 90029656, 16367: 9950133, 303991: 4366460, 18162: 68688831, 480100: 0, 1781: 46243000, 1574: 306776732, 44629: 1000000, 39862: 0, 264170: 0, 455957: 0, 23048: 64572262, 14317: 0, 10398: 177841558, 12620: 70442940, 416166: 0, 4771: 34619699, 9336: 81198894, 64202: 0, 300687: 6423605, 718840: 0, 25239: 0, 470333: 2115765, 14912: 0, 49022: 65090821, 6964: 266728738, 6639: 4607608, 583: 20045115, 553668: 0, 43919: 156190, 14784: 3669465, 12094: 72778712, 14197: 0, 10761: 106407672, 27579: 65464324, 519223: 0, 1262: 53653224, 86835: 566006, 17710: 0, 9457: 11203026, 332283: 0, 62764: 183018522, 13051: 85416905, 376290: 9101546, 367462: 0, 68727: 24261569, 17047: 28818995, 5236: 15785148, 737779: 0, 12160: 25052000, 469877: 0, 1441: 5549200, 743202: 0, 515411: 0, 476678: 0, 109091: 71009334, 11967: 44726644, 11051: 8373585, 513736: 0, 25472: 0, 11398: 30199105, 472734: 0, 11517: 77224232, 96721: 90247624, 38718: 15445131, 9059: 0, 83686: 13231461, 423590: 0, 254375: 1124445, 10033: 50817508, 611213: 0, 374781: 0, 728123: 0, 59: 60740827, 58446: 0, 461762: 0, 12182: 33556631, 466081: 2602652, 10768: 20471382, 24584: 0, 9535: 176885658, 11469: 33422806, 579245: 0, 914: 11000000, 589157: 0, 24056: 0, 431742: 0, 146238: 62616646, 75736: 0, 9778: 77516304, 157370: 0, 10974: 0, 284: 25000000, 312831: 0, 10400: 73956241, 2312: 0, 13597: 12729917, 395993: 8484418, 10153: 37020277, 571117: 0, 469019: 0, 422153: 0, 8999: 57479076, 63749: 0, 13401: 22707064, 686941: 0, 9384: 170268750, 9705: 147080413, 24873: 16116878, 355008: 0, 426285: 0, 302150: 0, 9569: 47410000, 11164: 45610410, 97370: 5380251, 24122: 21791288, 59861: 36160375, 653725: 0, 13613: 0, 460316: 0, 448969: 0, 4148: 75225693, 10837: 18115724, 239573: 14431253, 14696: 0, 8923: 3154346, 380111: 27305571, 369698: 0, 10890: 85300000, 74135: 0, 34672: 10, 69735: 0, 13260: 33472850, 11713: 0, 11452: 20000000, 12149: 17423030, 9271: 24048000, 1850: 47434430, 10632: 34234008, 98567: 0, 14282: 0, 837: 2120439, 452438: 0, 15159: 75871032, 339397: 43763247, 220286: 0, 544345: 0, 16270: 11336986, 10466: 54999651, 283317: 0, 50022: 18850674, 14560: 183293131, 463088: 0, 24939: 0, 4587: 35419397, 323370: 0, 415086: 0, 1389: 77745568, 654: 9600000, 1934: 289317794, 23759: 6890432, 586333: 0, 369300: 2225698, 392207: 0, 433356: 413844, 2119: 157920733, 46738: 0, 1607: 17287898, 24684: 26096852, 200505: 28831145, 743032: 0, 48988: 86157237, 15213: 16627188, 7304: 9500000, 550385: 0, 10173: 46044400, 574861: 0, 400411: 252, 118737: 0, 19904: 31198531, 1786: 0, 491472: 0, 545143: 0, 10474: 2381087, 9298: 25900000, 568332: 0, 10426: 33526835, 6557: 160259319, 205567: 0, 508101: 0, 42968: 0, 639247: 0, 432087: 0, 51250: 0, 1480: 2247465, 484901: 0, 417830: 40120144, 132363: 115922175, 36362: 14483352, 10744: 0, 2280: 151927281, 10110: 66700000, 7450: 36754634, 515114: 0, 271467: 0, 254474: 14947, 323665: 0, 297291: 0, 10564: 33771174, 226458: 0, 13220: 124191, 70670: 18962444, 15037: 25605015, 14543: 0, 483104: 0, 77663: 39881, 633761: 0, 321741: 50363790, 146223: 5750401, 25750: 0, 270938: 11774, 744750: 0, 9056: 113164, 50671: 0, 48650: 0, 37609: 0, 11845: 0, 7446: 195702811, 28384: 0, 241258: 6341855, 25: 96889998, 8489: 87713825, 2525: 0, 37928: 0, 2625: 0, 187596: 59209, 10766: 26518355, 9879: 113309743, 12120: 13854000, 156700: 0, 9390: 273552592, 711705: 0, 223: 6000000, 9366: 124909762, 184341: 0, 763: 242623, 97434: 0, 1497: 78656813, 14024: 14867514, 8005: 35739755, 261470: 0, 29917: 0, 9394: 0, 285783: 61181942, 750121: 0, 334541: 78988148, 7839: 0, 4584: 134582776, 286519: 0, 10735: 50732139, 1598: 182300000, 738967: 0, 440918: 0, 52015: 33245, 10677: 27685016, 10061: 42277365, 576281: 0, 432976: 0, 152737: 74188937, 13363: 0, 680382: 0, 8285: 39031337, 984: 35976000, 118612: 0, 243938: 12314651, 44982: 3317662, 584962: 0, 404785: 0, 381696: 0, 744926: 0, 47626: 0, 11355: 84565230, 225145: 0, 111440: 0, 11259: 137783840, 490017: 0, 10313: 68729358, 278774: 0, 489931: 2847319, 37645: 0, 216769: 0, 16320: 38869464, 328589: 41387687, 451997: 0, 572468: 0, 9786: 0, 527774: 0, 253414: 3020664, 52274: 12884923, 11046: 21000000, 148918: 0, 334536: 19980, 9102: 5781885, 60803: 0, 801: 123922370, 78215: 704, 10098: 2500000, 1398: 0, 353610: 0, 11041: 0, 499566: 0, 36218: 334000000, 16072: 12923936, 14028: 0, 11081: 65470529, 549294: 0, 514277: 470901, 246355: 0, 2924: 152368585, 621561: 0, 2210: 3916303, 1643: 36144000, 229756: 0, 263109: 106209378, 317198: 0, 12201: 81126522, 11377: 40846082, 541099: 0, 335866: 0, 458534: 0, 256962: 6485961, 13249: 1196307, 12118: 43579163, 10317: 7002261, 587986: 0, 290864: 129115, 458109: 0, 8978: 35294470, 8843: 104155843, 2976: 90450008, 339396: 0, 9501: 0, 7007: 107198790, 24418: 28169671, 204436: 0, 7516: 57103895, 462115: 151493, 10648: 39768000, 8676: 111231041, 8408: 34000000, 873: 146292009, 553882: 0, 6020: 0, 308447: 0, 363111: 0, 968: 46665856, 602609: 0, 9708: 38755073, 8271: 117760134, 849: 16519460, 44899: 0, 13416: 61255921, 11299: 0, 435995: 0, 74465: 120081841, 608994: 0, 62838: 142044638, 5460: 0, 1852: 163247198, 357400: 1928616, 11892: 56714147, 1880: 38376497, 9037: 15171476, 622125: 0, 433502: 0, 62837: 95404397, 172391: 27187375, 15060: 0, 347031: 4210454, 10021: 110996879, 15139: 13670688, 336313: 157768, 87093: 28883511, 513730: 0, 4226: 0, 2207: 65664721, 13848: 0, 433501: 0, 9681: 37691644, 12225: 2294291, 2100: 27642707, 467062: 0, 26127: 0, 10808: 176104344, 10156: 31672907, 593280: 0, 11093: 16942795, 320302: 0, 10560: 17200925, 684420: 0, 49012: 45735397, 295595: 0, 9621: 52034889, 8584: 56932305, 429450: 30169000, 10724: 70687344, 466876: 0, 566228: 0, 31533: 0, 13398: 0, 18615: 2281089, 51170: 0, 649489: 0, 528985: 0, 184125: 0, 28468: 0, 443319: 3600000, 385332: 0, 301875: 2084628, 262715: 0, 12106: 18636537, 11692: 7103973, 100183: 0, 962: 2500000, 399894: 0, 140870: 30000000, 20235: 0, 382602: 8992523, 11853: 15240435, 7090: 447741, 690596: 0, 24248: 0, 347183: 0, 2539: 55041367, 15613: 19724334, 9277: 159616327, 52733: 0, 526746: 0, 9975: 69834815, 9377: 70136369, 11185: 46908987, 237756: 0, 16296: 43625095, 9263: 27400000, 84383: 0, 26388: 19152480, 254172: 0, 429189: 15366466, 132344: 11176469, 393877: 0, 492621: 0, 40095: 0, 529414: 0, 50839: 19504039, 5708: 8159508, 239566: 33448971, 174751: 1397284, 737777: 0, 19274: 0, 10323: 41092328, 8398: 25399945, 209901: 1675381, 10845: 0, 790: 21378361, 9722: 131426169, 340104: 0, 15762: 0, 11504: 8000000, 369192: 12638526, 527632: 0, 9367: 2040920, 5820: 78810595, 395841: 0, 437380: 0, 56715: 0, 447365: 0, 426253: 0, 369523: 0, 475: 50700000, 462: 256271286, 203834: 23456897, 63207: 3012210, 14326: 84375061, 2259: 0, 1985: 82466670, 1788: 80035402, 375183: 0, 169934: 0, 644682: 0, 5851: 77741732, 136: 0, 81836: 73244881, 4169: 33231264, 330947: 1710528, 15283: 0, 179: 162944923, 304372: 60273173, 20421: 11657385, 12658: 38689940, 459616: 25498160, 9536: 0, 598133: 0, 323368: 0, 23049: 20455276, 537681: 0, 436285: 0, 347629: 9438370, 89492: 88058786, 412924: 226286, 355193: 0, 9839: 0, 2604: 161001698, 383121: 0, 11257: 20966644, 366644: 0, 364433: 0, 15516: 0, 10973: 1300000, 11533: 0, 4995: 43101594, 7233: 16809014, 255343: 3758328, 152747: 6108720, 12600: 28023563, 259910: 0, 13932: 0, 49948: 90874570, 395814: 0, 222461: 0, 318224: 0, 403431: 532669, 10775: 8708932, 527660: 0, 16781: 57231524, 14913: 0, 7457: 15309302, 14219: 0, 14013: 7027290, 7214: 76669806, 71749: 0, 11027: 0, 333385: 34694, 36670: 160000000, 254320: 15656193, 4349: 86658558, 15158: 7282851, 505914: 0, 538751: 0, 577: 21284514, 10212: 0, 496450: 0, 12619: 0, 505026: 0, 492449: 0, 298584: 0, 14569: 0, 18500: 0, 10706: 0, 696: 39946780, 16995: 87784194, 3132: 65977295, 846: 189198313, 20766: 27635305, 439961: 0, 499319: 6877, 484718: 0, 24341: 0, 97430: 15608545, 804: 12000000, 17663: 0, 16873: 6101046, 16620: 54215416, 97614: 66351, 10611: 75781642, 9882: 116672912, 615665: 0, 43933: 5639730, 451: 49800000, 576712: 0, 193687: 121461, 41210: 49830607, 17074: 0, 81440: 0, 595215: 0, 10934: 58878723, 9944: 195268056, 15487: 15431177, 512056: 0, 10538: 44065653, 10391: 0, 2657: 0, 926: 90683916, 332411: 0, 85350: 44349000, 8838: 93107289, 422: 0, 6499: 17979739, 540709: 0, 9437: 60527873, 345914: 0, 1433: 6582065, 433419: 0, 431072: 0, 11635: 87135520, 198062: 0, 14367: 34368475, 525454: 0, 38031: 0, 10367: 0, 9909: 179519401, 429417: 135095, 52304: 0, 11975: 45916769, 1594: 12368234, 17189: 0, 13378: 0, 417643: 217427, 925: 37295445, 17038: 0, 10213: 9617000, 7219: 0, 658061: 0, 596161: 0, 10472: 0, 363343: 0, 59722: 0, 624060: 0, 440444: 0, 477018: 0, 265016: 0, 14429: 22593409, 467952: 0, 411221: 0, 134375: 0, 11381: 32648673, 860: 79567667, 550412: 0, 353066: 0, 11546: 126247, 6961: 47175038, 367326: 0, 637053: 0, 351901: 0, 11963: 27476252, 27569: 15134293, 20875: 0, 8852: 14182492, 522039: 2975184, 9886: 19075720, 751908: 0, 14926: 37095657, 10068: 6735922, 37757: 0, 2176: 23619609, 14435: 102836002, 13813: 51155219, 8409: 44350926, 10393: 50054511, 2313: 0, 3090: 4307000, 353326: 11472454, 740133: 0, 72358: 22044277, 10984: 16300000, 296360: 14016568, 59387: 11411644, 11804: 91196419, 8066: 8342132, 394374: 0, 57431: 34942188, 673175: 0, 10206: 16624456, 38073: 42045846, 12481: 0, 551808: 18529730, 226486: 100525432, 1944: 6715067, 525: 115229890, 525657: 0, 1654: 45300000, 348089: 0, 617784: 0, 551758: 0, 15413: 25196249, 365240: 0, 419472: 0, 16642: 0, 505423: 0, 146203: 15179302, 245916: 5218973, 10597: 0, 24253: 67126795, 324963: 0, 10263: 206871, 50348: 85412898, 205: 38000000, 15189: 117000198, 11169: 8112712, 793: 8551228, 403642: 0, 10438: 118243066, 468: 6401336, 333386: 4500, 9587: 50083616, 14536: 29010817, 689243: 0, 127493: 2106557, 401546: 2492001, 698940: 0, 13805: 14109284, 10019: 42721196, 6589: 65270477, 14177: 36351350, 8851: 0, 1440: 14821658, 692250: 0, 520777: 0, 44571: 2000371, 1396: 48841, 13761: 0, 475928: 0, 8697: 0, 378111: 0, 2642: 93354918, 451563: 0, 477033: 0, 157845: 2295423, 4476: 160638883, 515333: 0, 509364: 0, 27586: 2995811, 1819: 130431368, 506554: 0, 261375: 0, 258099: 0, 556501: 0, 664474: 0, 9614: 41000000, 230896: 0, 11015: 33956608, 39180: 0, 505177: 0, 34803: 49050886, 456348: 0, 172803: 0, 333103: 0, 8764: 20458340, 497916: 0, 13465: 0, 12656: 0, 572521: 0, 8942: 0, 109099: 713616, 560491: 0, 13184: 42487390, 301372: 0, 11950: 28078073, 18148: 0, 241: 50282766, 266639: 2333684, 616851: 0, 635031: 0, 64685: 55247881, 9994: 38625550, 339792: 0, 14208: 0, 16723: 13276953, 11005: 52096475, 586940: 0, 95170: 0, 10854: 0, 463319: 0, 339994: 90573, 10185: 3533227, 287233: 0, 38541: 22000, 11860: 53672080, 452551: 216556, 12889: 0, 11937: 0, 416160: 5728, 9294: 152036382, 318044: 0, 21845: 56500758, 17927: 18599102, 7445: 43318349, 4244: 69700000, 10152: 39267515, 46853: 0, 434119: 56100000, 412520: 0, 750313: 0, 13572: 25195000, 11802: 64762724, 423646: 321011, 13969: 0, 2291: 25965144, 624372: 0, 15655: 45554533, 751160: 0, 127521: 0, 429191: 1880736, 70435: 33372606, 9573: 31794718, 256474: 0, 180305: 0, 12761: 0, 502406: 0, 4909: 16056255, 19855: 16, 9563: 100230832, 895: 0, 45139: 0, 34806: 77477008, 748225: 0, 390059: 0, 74078: 0, 46020: 0, 3782: 55240, 2103: 30002758, 297596: 0, 253295: 0, 55890: 0, 9433: 43312294, 50479: 0, 38358: 67738090, 10894: 150277, 489430: 0, 48266: 0, 8873: 47965000, 721482: 0, 10685: 0, 477510: 0, 642: 102308889, 457962: 0, 506640: 0, 68722: 28258060, 9540: 8038508, 16314: 29000301, 744746: 0, 528761: 0, 470541: 0, 96936: 19145732, 339419: 8996802, 232572: 35991087, 16: 40031879, 730154: 0, 582923: 0, 16614: 17164377, 8967: 54674226, 423949: 0, 15003: 0, 429727: 0, 105528: 120680, 9604: 34994648, 10461: 19412993, 719643: 0, 552938: 0, 470: 60427839, 438970: 0, 109729: 56825, 10328: 85313124, 655426: 0, 40508: 413479, 317925: 0, 205220: 100129872, 137773: 0, 9327: 128769345, 401609: 0, 174316: 4187, 574936: 0, 326215: 769028, 64678: 1406224, 470918: 0, 400190: 0, 284293: 43884652, 14365: 7775138, 214910: 0, 426230: 248370, 10806: 0, 360365: 17000172, 13253: 0, 398174: 3179847, 325346: 1016985, 25913: 0, 55215: 0, 1213: 128798265, 314405: 0, 443009: 2066633, 614560: 0, 11287: 132440069, 14872: 0, 553002: 0, 623666: 0, 481880: 130000, 326423: 55030051, 718053: 0, 164457: 15400000, 2122: 26155781, 9894: 102825796, 567860: 0, 407620: 6, 261103: 0, 173: 28200000, 586961: 79607, 5919: 116000000, 301846: 0, 13154: 2275557, 290555: 0, 575222: 0, 3432: 41637263, 458293: 0, 541560: 0, 530081: 3822, 360404: 0, 252680: 10429707, 531145: 0, 9278: 0, 622951: 0, 17618: 0, 229408: 0, 10057: 53898845, 19114: 32492674, 2654: 8946600, 20770: 2600000, 332169: 0, 866: 116766556, 104: 7267585, 14034: 32095318, 397722: 2830775, 18533: 2260712, 68179: 74597643, 748184: 0, 628450: 0, 10491: 15705007, 9664: 17834865, 152742: 19255873, 453278: 0, 654028: 0, 9344: 7412216, 1588: 90449929, 40807: 39187783, 480210: 0, 306943: 0, 10428: 7563728, 6552: 4152230, 405314: 0, 522: 5887457, 619985: 0, 26602: 19693891, 182873: 0, 174188: 0, 14295: 0, 340027: 0, 347642: 0, 253406: 0, 381355: 0, 167575: 0, 9768: 8266343, 345918: 0, 17689: 26414658, 315872: 0, 2116: 55495563, 2020: 36911617, 351809: 9074836, 57825: 0, 50388: 0, 315011: 77947607, 297725: 0, 502122: 0, 418667: 0, 289712: 0, 396493: 0, 237584: 0, 94380: 0, 506596: 0, 15379: 22812411, 2665: 27150534, 420279: 1913973, 39346: 0, 7520: 171504781, 750578: 0, 308504: 3643591, 9828: 3338228, 11107: 0, 595: 13129846, 750612: 0, 506775: 0, 73499: 3696232, 8094: 20957001, 21316: 0, 28211: 11808880, 411976: 580346, 635: 17185632, 490003: 22835787, 21542: 0, 2900: 19598588, 87502: 161772375, 411405: 0, 305937: 0, 13505: 0, 12583: 0, 9550: 92863945, 352186: 0, 12150: 110879513, 10497: 1862805, 739123: 0, 492616: 2268204, 655552: 0, 10780: 26713187, 634904: 0, 507441: 0, 34942: 0, 489988: 1041955, 3079: 8000000, 446159: 0, 110416: 857522, 419835: 2049844, 84334: 0, 638: 3675201, 483411: 0, 21972: 0, 9571: 7993039, 23127: 0, 331446: 0, 396774: 59000, 832: 0, 78571: 540152, 9266: 51842679, 56590: 0, 11908: 208550, 339065: 0, 517327: 0, 1362: 0, 10157: 55600000, 717672: 0, 17379: 38399961, 15476: 0, 567598: 0, 244506: 59744, 241251: 52425855, 1429: 24000000, 566213: 1133735, 5491: 21400000, 277558: 0, 26593: 0, 433245: 0, 9721: 0, 9574: 177977226, 9516: 27900000, 9890: 102000000, 7095: 58620973, 402897: 24640027, 76180: 0, 9264: 1829804, 537788: 0, 351339: 4600000, 55721: 288383523, 127560: 22320893, 221902: 6860853, 10511: 0, 2334: 65497208, 9410: 55494066, 500904: 0, 11023: 4601043, 2266: 4857367, 21991: 0, 590: 41597830, 14123: 0, 437311: 0, 205126: 0, 9973: 0, 13310: 10785801, 660713: 0, 327029: 0, 9101: 0, 530: 0, 283686: 0, 11859: 11534477, 121824: 0, 270487: 63647656, 472338: 0, 4477: 140807547, 11047: 0, 12703: 365734, 70586: 2128186, 458344: 0, 271709: 0, 34729: 0, 10675: 17637950, 554583: 0, 11699: 10589102, 9922: 17626234, 9017: 0, 11009: 237113184, 281: 7959291, 536056: 0, 10396: 0, 679899: 0, 285733: 0, 114955: 0, 9545: 18994653, 10075: 0, 10155: 6682098, 2320: 121969216, 256917: 15520023, 337154: 4267218, 9456: 0, 684700: 0, 432300: 0, 13411: 34000000, 11521: 0, 262338: 0, 392: 152500343, 376866: 13960394, 51162: 14460000, 10951: 0, 99942: 0, 9333: 47267001, 451751: 237708, 135531: 0, 2898: 314178011, 738562: 0, 20694: 55443032, 1647: 101191884, 11170: 43545364, 752254: 0, 432301: 17904202, 489930: 0, 438808: 26000000, 641370: 0, 13665: 95461682, 17483: 142666, 575428: 0, 9451: 0, 14849: 0, 377587: 9097072, 283227: 0, 34549: 18634654, 434767: 0, 11282: 23936908, 501: 0, 273271: 0, 41586: 0, 459950: 0, 27088: 0, 15268: 12764201, 13600: 17869048, 491473: 0, 9386: 176997168, 71859: 10765283, 45569: 0, 575452: 0, 20606: 0, 86838: 33035736, 30178: 0, 624479: 0, 50725: 6928068, 63700: 0, 157386: 6854611, 26872: 0, 20156: 0, 336804: 250000, 12154: 242780960, 517468: 4873627, 44037: 0, 83389: 61037844, 11114: 0, 582607: 0, 10375: 6632383, 174733: 4463059, 38303: 32054369, 11412: 89456761, 649523: 0, 16136: 20146880, 112160: 0, 36736: 0, 4912: 33013805, 352548: 0, 424121: 0, 375785: 0, 22949: 96753696, 12637: 16400000, 10782: 42792561, 3036: 112006296, 271674: 9104716, 141043: 7176347, 34746: 1702394, 164251: 176391, 205601: 16505460, 192133: 340911, 312669: 3351735, 437375: 0, 55676: 0, 7091: 725131, 370665: 61000000, 11017: 26488734, 13018: 17772506, 10316: 76338111, 9929: 0, 455558: 0, 12146: 38364277, 409297: 0, 553141: 44652, 990: 7600000, 593691: 0, 37632: 0, 4599: 49718611, 775: 0, 595875: 0, 420707: 0, 2155: 32168970, 391486: 0, 36968: 0, 26688: 27206120, 11086: 37317558, 143216: 0, 532: 0, 376228: 0, 46138: 12629471, 11384: 65595485, 5289: 10289, 157424: 0, 33871: 0, 13920: 53293628, 88557: 0, 1999: 0, 549422: 0, 79443: 0, 390989: 0, 575: 0, 469274: 0, 60420: 3542353, 3034: 86273333, 16991: 24007324, 877: 600000, 6038: 88323487, 544052: 1892516, 25968: 0, 522098: 437050, 19366: 0, 14736: 27728118, 9582: 17432163, 287084: 0, 15590: 0, 10774: 23689877, 7249: 0, 300792: 0, 49009: 20348249, 33273: 19300483, 582895: 0, 10074: 14334401, 499088: 0, 15596: 91258000, 11104: 0, 212455: 0, 219: 85582407, 569982: 0, 5994: 0, 340402: 42487325, 331962: 1787926, 11867: 3793614, 493551: 17506878, 24662: 3566637, 10705: 0, 332: 0, 286554: 18612, 157843: 1592853, 10435: 0, 2749: 56359980, 289416: 0, 297558: 0, 635780: 0, 442064: 21753365, 352490: 0, 224903: 92100, 105077: 0, 426249: 0, 26842: 0, 8968: 67192859, 504056: 0, 342737: 5664764, 8090: 52659594, 455: 76578641, 342917: 0, 9058: 0, 8866: 3407, 373314: 0, 228710: 0, 3595: 309492681, 43923: 6491240, 199534: 9630444, 10348: 0, 702: 8000000, 480001: 2414269, 582: 70000000, 19384: 9229401, 643441: 0, 10372: 0, 1052: 0, 22798: 16633035, 10468: 0, 2742: 0, 369883: 23316139, 70578: 9612469, 300667: 0, 27732: 0, 433244: 0, 129670: 17654912, 55347: 14311701, 11205: 0, 38360: 0, 12723: 5926128, 61717: 0, 11386: 62548947, 9008: 60289912, 2661: 0, 466411: 5812, 2246: 46405336, 55465: 35387212, 10550: 19924033, 8976: 42886719, 234212: 3387000, 17335: 73830340, 10218: 4505922, 127651: 0, 9087: 107879496, 236399: 0, 25793: 47536959, 19594: 0, 9626: 6948633, 196750: 0, 168676: 0, 620639: 0, 10722: 4367497, 23706: 40105542, 15163: 0, 11827: 546545, 519141: 0, 290751: 34854990, 11855: 0, 4550: 23803308, 1378: 5179037, 38199: 0, 9079: 0, 109410: 95020213, 8293: 26126837, 542968: 0, 7211: 68377859, 211067: 9221, 14172: 0, 621151: 0, 426257: 0, 20941: 837000, 9526: 0, 476764: 0, 15582: 0, 25748: 6980986, 28005: 4109095, 290542: 11486, 227738: 0, 19042: 8620678, 11821: 54830779, 961: 0, 570131: 0, 44363: 3065860, 333348: 42426912, 209263: 25288872, 160588: 99206215, 10642: 0, 303: 24464742, 752721: 0, 17708: 23978402, 10802: 20350754, 514575: 0, 500860: 1144575, 508018: 0, 382591: 1447740, 24801: 0, 26719: 2585639, 20616: 0, 13489: 0, 686245: 0, 74513: 3424648, 58857: 17555141, 527865: 0, 13633: 9190819, 214030: 2681345, 28739: 0, 623: 62493712, 10537: 34416893, 398588: 0, 244458: 0, 15577: 1037335, 27980: 0, 15567: 0, 12500: 10499694, 40466: 0, 31662: 6330054, 748629: 0, 614722: 0, 212193: 0, 65179: 0, 35854: 0, 1090: 18564088, 353069: 48782670, 14211: 3643652, 5516: 0, 37588: 0, 17809: 1907743, 502259: 0, 9981: 56070433, 22825: 33333531, 936: 10878107, 50838: 8020, 625342: 0, 378018: 151042, 55580: 0, 13849: 0, 66125: 0, 507256: 1251945, 54054: 36893721, 570: 0, 13785: 0, 75198: 0, 10342: 8946237, 1073: 0, 738646: 0, 435365: 0, 178682: 0, 468202: 0, 11545: 17096053, 260372: 0, 10247: 0, 9917: 21353303, 626020: 0, 271404: 992181, 419709: 0, 19084: 31179516, 573896: 0, 342474: 0, 62459: 0, 582014: 0, 10562: 260562, 2610: 11588205, 736759: 0, 759: 12000000, 658009: 0, 643537: 0, 71883: 0, 84105: 0, 2124: 19726050, 308032: 643557, 10479: 71000000, 11380: 7316658, 10384: 14828081, 26320: 9975737, 13403: 0, 9986: 144000000, 471507: 0, 10167: 19233280, 934: 460226, 9576: 177200000, 9991: 0, 546724: 0, 12177: 40854735, 9434: 28084357, 747349: 0, 13803: 0, 582883: 0, 18476: 1017401, 9281: 68706993, 444513: 0, 331588: 0, 52505: 102000000, 38407: 0, 5137: 57958696, 150213: 44057737, 597594: 0, 348765: 0, 16553: 1117920, 14671: 35114428, 596302: 0, 508632: 0, 25983: 0, 20575: 0, 11953: 4000000, 921: 108539911, 727894: 0, 325358: 0, 9396: 239606210, 407448: 23355100, 34067: 0, 10990: 11526099, 10885: 0, 457840: 0, 253344: 0, 421447: 0, 3040: 50336279, 9718: 162966177, 8422: 0, 10747: 31800000, 103620: 31081, 434714: 0, 157851: 1338365, 2757: 32801173, 419639: 0, 17332: 31720158, 115283: 175705, 12227: 34793160, 13150: 31148328, 245703: 6740647, 2383: 138241022, 588709: 0, 586595: 6713, 304357: 61619773, 207936: 135026, 13225: 32710894, 5156: 361712, 38780: 0, 1694: 2023414, 374607: 0, 410126: 0, 10480: 0, 570292: 0, 10518: 21709020, 24402: 0, 433413: 0, 203: 3000000, 607087: 0, 506763: 84168923, 24657: 316043, 13405: 7785317, 12912: 240476, 12079: 0, 9841: 0, 269173: 0, 146631: 0, 16985: 0, 8952: 20722843, 94352: 34153101, 733006: 0, 728773: 0, 26973: 5786368, 12192: 0, 77887: 0, 26263: 6880310, 375867: 6700000, 47386: 0, 13377: 0, 44264: 252276927, 158577: 0, 54540: 0, 22494: 0, 16070: 302179, 10035: 0, 309304: 7087452, 594290: 0, 226448: 0, 77495: 0, 1257: 69485490, 36797: 0, 2055: 68296293, 462550: 0, 447399: 0, 38050: 127869379, 539531: 0, 9969: 47231070, 680593: 0, 22051: 2550863, 15809: 0, 9303: 7011317, 1444: 0, 635776: 0, 11141: 30016165, 515818: 4017253, 48391: 5481471, 19101: 0, 434771: 0, 2001: 54926886, 1730: 849055, 741011: 0, 339533: 0, 337674: 2341534, 44221: 0, 11829: 2100000, 15373: 92380927, 12138: 18720175, 410117: 5245263, 148151: 0, 24948: 0, 6538: 119000410, 471515: 0, 311667: 0, 11354: 0, 564898: 0, 1645: 152266007, 297806: 1646788, 450477: 0, 529210: 0, 432787: 0, 374771: 0, 10876: 7060876, 396810: 1783421, 422766: 0, 387844: 0, 313074: 0, 15371: 8194857, 215830: 0, 10549: 0, 51888: 0, 2359: 24538513, 392655: 0, 113: 6502364, 11416: 17218023, 10015: 42724017, 227: 33697647, 9910: 30526509, 58508: 0, 400608: 0, 10032: 6086508, 1284: 0, 227735: 52424533, 14247: 0, 13370: 18750246, 303903: 0, 603651: 0, 552660: 0, 16335: 0, 655: 2181987, 229296: 0, 43935: 4634062, 631278: 0, 553: 16680836, 88424: 0, 300666: 0, 489927: 0, 274109: 0, 23082: 31912793, 1049: 140081992, 522373: 0, 9061: 0, 42646: 0, 11446: 5034794, 783: 77737889, 82505: 44287131, 179144: 24164400, 32613: 0, 137517: 0, 97365: 25762027, 9272: 44456478, 14373: 45000000, 11568: 14051384, 333354: 0, 4538: 24377151, 19139: 0, 248504: 0, 106021: 0, 13499: 72028752, 15080: 0, 13929: 0, 480572: 87465, 12501: 3500000, 294016: 8235661, 41602: 11650, 2614: 25893810, 11319: 71215869, 554566: 0, 416051: 0, 18843: 0, 539765: 0, 524434: 0, 454283: 5059608, 7442: 174999005, 1247: 100266865, 701684: 0, 49526: 31083599, 13490: 43650785, 492452: 0, 24935: 0, 11837: 3713768, 490004: 0, 184314: 0, 9989: 18195610, 9356: 0, 37659: 0, 699280: 0, 477807: 0, 16146: 0, 98022: 0, 407449: 955925, 74777: 0, 9566: 18626419, 97512: 0, 9043: 92000000, 12103: 100020092, 423899: 65421267, 401200: 0, 18990: 0, 12144: 84460846, 55420: 1776935, 10383: 31355910, 1712: 35000000, 215211: 26576000, 104634: 0, 992: 0, 63574: 0, 12110: 0, 713: 116700000, 20618: 0, 151368: 100000, 143049: 0, 213681: 29200000, 45556: 0, 1721: 0, 444713: 0, 12158: 19800000, 80527: 0, 13360: 0, 336445: 0, 250066: 0, 600991: 0, 10004: 0, 11120: 14302779, 10616: 0, 451918: 0, 10862: 36779296, 8291: 27515786, 746350: 0, 12572: 8049666, 507143: 0, 705: 150438, 51588: 10130000, 47763: 0, 903: 16217773, 45156: 1296937, 14144: 18197398, 9411: 25232289, 518527: 0, 3085: 0, 20036: 0, 576424: 0, 5279: 87754044, 638707: 0, 416149: 17000000, 64689: 37930465, 5471: 92076, 10684: 100860818, 291413: 0, 45094: 6732980, 101519: 0, 3784: 22773535, 9876: 70611210, 270698: 0, 19167: 0, 10437: 27281507, 58443: 0, 11983: 0, 11891: 0, 11460: 57891803, 10596: 0, 467012: 0, 58235: 0, 22586: 9771658, 266353: 0, 11364: 43001500, 437033: 0, 534928: 0, 9726: 42064105, 8780: 63833449, 10760: 13620075, 6951: 71079915, 476631: 0, 327528: 830129, 10083: 35509515, 2577: 0, 22796: 18253415, 111479: 40400, 7501: 12000000, 502682: 78720293, 218778: 100654149, 13342: 27092880, 34653: 24964890, 10344: 38903179, 2620: 15945534, 749051: 0, 282848: 0, 18890: 9317021, 1989: 21786738, 4105: 134212055, 510355: 0, 474051: 0, 437193: 0, 15262: 0, 11918: 25871834, 14423: 38804615, 14245: 0, 8010: 15556340, 198436: 0, 10683: 2807390, 913: 124305181, 507618: 0, 18882: 1123136, 842: 3537961, 171776: 0, 157099: 75143, 712246: 0, 213927: 0, 740102: 0, 23488: 4706919, 14370: 13000000, 244316: 0, 338768: 0, 9903: 11772461, 369054: 0, 354859: 0, 505579: 55429, 922: 103800000, 338189: 0, 172: 70200000, 458302: 0, 16300: 0, 9684: 0, 11285: 25024919, 469721: 0, 732310: 0, 84332: 4424699, 7944: 0, 27793: 0, 3111: 4335968, 283587: 9077700, 506410: 0, 570661: 0, 552670: 0, 528402: 0, 474569: 0, 467: 7819851, 308638: 771317, 669770: 0, 10416: 0, 1546: 1919197, 15259: 38682707, 334522: 33125, 15566: 14793624, 9395: 18869631, 19580: 0, 13016: 0, 14537: 0, 12714: 0, 12554: 0, 512: 31584901, 13203: 36448200, 46503: 0, 25704: 6414729, 496283: 178471, 127370: 1697294, 8545: 0, 14181: 28780255, 8872: 183097323, 276843: 1289998, 10907: 0, 426265: 0, 139519: 0, 24478: 0, 14976: 0, 425980: 2400000, 293310: 3003169, 10008: 29612137, 664162: 0, 620824: 0, 20726: 0, 79224: 49000000, 382512: 0, 340584: 0, 14695: 0, 613377: 0, 428836: 242115, 10003: 118063304, 25754: 0, 10371: 31611225, 13701: 0, 590153: 0, 513857: 0, 244534: 0, 6916: 36782781, 146227: 10501938, 500284: 0, 135812: 0, 13282: 8000000, 11775: 119940815, 611291: 24, 421443: 0, 58244: 8106475, 156708: 0, 10748: 0, 400605: 0, 360029: 0, 290271: 0, 342472: 0, 10139: 54586584, 338964: 23229371, 11236: 0, 724089: 0, 345925: 0, 9091: 64350171, 98339: 2521, 11313: 24185781, 600881: 0, 572164: 68325551, 17813: 15368897, 487291: 0, 273895: 66787908, 13193: 0, 963: 1772000, 77930: 167221571, 317091: 0, 293646: 24902723, 384682: 114501299, 155217: 0, 3683: 65900249, 12621: 4886216, 401898: 1471656, 362057: 0, 108: 0, 315620: 0, 559707: 0, 87825: 0, 299551: 0, 10640: 0, 71254: 0, 10773: 0, 23966: 0, 8845: 156563139, 375509: 0, 13685: 560069, 10579: 0, 121879: 6303709, 252459: 0, 38684: 34710627, 18093: 0, 16346: 0, 13389: 78460699, 10734: 43000000, 9093: 29882645, 5769: 37600000, 15907: 0, 417028: 0, 216539: 0, 56743: 0, 227700: 1200000, 90369: 2699265, 11474: 22490039, 745272: 0, 12685: 0, 11951: 72266306, 11943: 0, 592: 4420000, 72197: 118338361, 13256: 2131057, 10956: 30987695, 652618: 0, 15357: 8786375, 624932: 0, 5511: 39481, 147773: 23198652, 9612: 0, 515916: 0, 1360: 56298474, 521720: 0, 293644: 0, 11286: 72179579, 535: 92921203, 493058: 0, 12238: 91549, 2605: 40697761, 377431: 0, 10197: 53825515, 382272: 0, 109421: 63372757, 72477: 957240, 33408: 13609396, 6478: 0, 12767: 29119434, 747518: 0, 667071: 0, 651: 81600000, 59968: 24816118, 508822: 0, 343934: 0, 435557: 0, 347945: 4505, 347849: 0, 328739: 0, 50780: 970816, 636698: 0, 88005: 9636289, 43939: 0, 8290: 0, 14132: 0, 7942: 33000000, 359871: 0, 209247: 64065, 14223: 285000, 508927: 0, 485371: 0, 13975: 0, 399725: 0, 39043: 0, 36819: 42365581, 634233: 0, 581791: 0, 60309: 15478800, 27902: 0, 353576: 0, 158999: 2063312, 11895: 11567217, 336481: 0, 528091: 0, 74387: 6483963, 24740: 13277558, 298382: 18340000, 30685: 0, 115210: 95000, 10778: 0, 192145: 1749201, 88794: 84606030, 10860: 95904091, 11184: 0, 11158: 58662452, 10447: 15340000, 621753: 0, 11190: 8482993, 647582: 0, 10671: 100489151, 9785: 26810113, 9555: 0, 252512: 17287309, 23514: 24000000, 9559: 135130999, 4174: 7000000, 4808: 13474588, 4351: 0, 748765: 0, 218275: 0, 567738: 0, 74722: 0, 290: 6153939, 17339: 7230000, 1809: 0, 257087: 0, 18808: 0, 337844: 0, 10696: 5271666, 32528: 0, 74523: 0, 17124: 0, 392820: 0, 47407: 0, 11889: 0, 11687: 0, 346671: 0, 20825: 4243957, 11370: 27053815, 3525: 103173635, 51248: 0, 18220: 0, 8688: 103891409, 3293: 0, 13476: 16980098, 212693: 0, 458353: 0, 414001: 4536348, 135309: 0, 123109: 74918, 180863: 42067430, 45958: 25147786, 10905: 0, 94348: 30353232, 45132: 324138, 13171: 3091922, 18032: 7070330, 532647: 0, 285305: 0, 28090: 0, 345875: 0, 22371: 0, 7872: 0, 10861: 51702483, 574436: 0, 33613: 43498108, 16392: 0, 411840: 0, 70587: 0, 7553: 18637690, 105531: 0, 2750: 0, 269494: 0, 14844: 12, 591555: 0, 497514: 0, 11702: 19204929, 658241: 0, 20771: 0, 368942: 1864266, 81142: 0, 45242: 0, 12783: 43306325, 198210: 0, 10063: 1675484, 9299: 2647055, 749712: 0, 11636: 0, 520900: 11620337, 15338: 0, 45272: 20601987, 20761: 8434146, 522320: 0, 519465: 0, 504603: 0, 256731: 0, 22076: 0, 10740: 0, 39229: 0, 492565: 0, 44009: 18124262, 10617: 3826459, 252444: 15998618, 24099: 12145169, 518452: 0, 503517: 0, 4464: 148336445, 33005: 0, 995: 1103757, 269100: 0, 234: 8811, 19405: 44460850, 313106: 0, 109443: 173649015, 13962: 0, 150: 78868508, 508720: 0, 10878: 19351569, 27066: 0, 514754: 0, 309581: 0, 31283: 0, 40080: 0, 24833: 0, 13192: 67000000, 10651: 37903295, 403368: 0, 162903: 8555008, 12545: 13200000, 10481: 183611771, 27588: 0, 75622: 972512, 601313: 0, 252178: 3200000, 10076: 0, 711: 80049764, 13025: 5364858, 718863: 0, 246403: 1826705, 13682: 52900000, 47735: 0, 9404: 21890845, 18725: 0, 11812: 68696770, 41608: 0, 11217: 5001655, 37498: 0, 11974: 49101993, 642661: 0, 287689: 0, 902: 1738611, 462036: 0, 38567: 0, 10168: 0, 9589: 0, 9449: 0, 128216: 0, 152603: 7600000, 250124: 1477002, 249260: 0, 58151: 41002607, 341984: 0, 18672: 0, 38410: 0, 467988: 0, 29154: 13994920, 11210: 0, 11935: 0, 340101: 3603484, 45657: 498974, 25523: 0, 20737: 23144499, 413471: 0, 302349: 400900, 1439: 113996937, 22556: 317000, 245706: 5261595, 16205: 0, 477489: 2842040, 438455: 0, 11348: 0, 595975: 13935410, 11159: 13417292, 9322: 5000000, 28942: 0, 533992: 0, 85985: 51000000, 14324: 5410749, 10758: 22179430, 10141: 42039085, 14240: 0, 192132: 919591, 5241: 1547397, 760: 0, 82390: 1353868, 10938: 1500000, 11022: 12633747, 667574: 0, 9676: 49111202, 1808: 1053788, 373546: 0, 112200: 3499442, 10691: 16929123, 6217: 0, 394117: 11303040, 168273: 0, 9972: 22099847, 9710: 0, 227156: 66980456, 18320: 31878891, 3870: 0, 101669: 863044, 464504: 46115383, 10410: 0, 210047: 16971, 581998: 0, 592984: 0, 449406: 0, 37257: 9000000, 167313: 0, 8198: 27674124, 233063: 0, 11576: 60000000, 537190: 0, 444485: 0, 50601: 17479, 28682: 0, 22327: 0, 13909: 5400000, 365045: 0, 11535: 25852764, 39781: 34705850, 589023: 0, 13493: 51549674, 37932: 0, 10673: 43848069, 415749: 0, 70673: 0, 4723: 374743, 352501: 0, 9075: 26768563, 516503: 0, 9544: 18902015, 300670: 0, 113594: 0, 11323: 35424826, 3053: 0, 72525: 0, 13525: 0, 121674: 258656, 17707: 13000000, 16172: 4398989, 11113: 72661442, 26953: 0, 6280: 108431355, 10217: 7951247, 503403: 0, 2149: 13273595, 687: 39363635, 426238: 486, 153738: 0, 15301: 29450919, 170522: 42830578, 23128: 1162422, 11439: 60331447, 7548: 0, 79113: 0, 8874: 299288605, 8390: 55447968, 10345: 78247647, 9988: 19179969, 41180: 0, 18587: 7175592, 406429: 43300000, 14342: 6100000, 13643: 0, 752500: 0, 407559: 0, 347026: 13819139, 253161: 658532, 36897: 0, 20789: 0, 306264: 0, 10559: 68106245, 4515: 63215872, 445040: 1361611, 209274: 15298355, 360389: 0, 9788: 38505009, 18947: 36348784, 300467: 0, 440298: 18754051, 10207: 118880016, 9683: 0, 318121: 0, 9466: 0, 1365: 44909486, 167810: 45431, 157849: 31554855, 91070: 30905, 12613: 0, 12400: 0, 4413: 69766619, 1494: 78568977, 21448: 0, 752073: 0, 13998: 0, 13496: 13678913, 11353: 98625775, 10586: 38619405, 19345: 25205460, 38778: 86387857, 18764: 0, 29259: 33187, 238466: 0, 13195: 6819587, 666227: 0, 60086: 0, 21575: 17873691, 11077: 0, 9893: 0, 381663: 0, 4566: 92991835, 11033: 31899000, 18316: 12951088, 10776: 38748395, 44718: 0, 244783: 32251, 397442: 0, 76115: 0, 5203: 0, 18111: 0, 705933: 0, 376658: 0, 10605: 0, 690181: 0, 245168: 16002420, 205321: 0, 250225: 0, 284674: 0, 209262: 1412181, 195269: 0, 16643: 16872671, 966: 4905000, 481850: 0, 13550: 12000000, 25752: 0, 587424: 0, 291549: 0, 262982: 1271880, 12665: 0, 14138: 1271556, 864: 154856263, 353257: 0, 306952: 0, 542905: 0, 1492: 7191399, 545836: 0, 375327: 0, 547: 186883563, 439: 19646656, 520596: 0, 374475: 0, 339987: 708973, 489928: 467306, 408508: 21626, 306947: 231737, 16456: 0, 12228: 653621, 430826: 0, 394537: 0, 130150: 20275812, 1381: 15304890, 339408: 15861566, 35614: 71368, 662830: 0, 527400: 0, 517940: 0, 460465: 0, 477508: 0, 240916: 0, 158445: 0, 9415: 25804707, 494031: 0, 13121: 2340110, 2269: 38862717, 259954: 0, 702633: 0, 66: 50068310, 660042: 0, 24331: 14225876, 434873: 0, 391710: 0, 19164: 0, 14742: 21095683, 2292: 3151130, 525183: 0, 2779: 0, 15668: 22471595, 10150: 6455530, 422585: 0, 6948: 0, 20481: 8862354, 9447: 69131860, 555790: 0, 604945: 0, 495673: 0, 250480: 0, 11382: 0, 461115: 0, 555032: 0, 407890: 2455027, 16990: 0, 483737: 0, 429174: 3925992, 21422: 9107390, 1599: 0, 14236: 0, 10215: 58000000, 19423: 0, 10678: 132675402, 9556: 48878502, 614488: 0, 17612: 0, 319067: 0, 16372: 0, 507089: 0, 48466: 0, 21521: 0, 8388: 0, 551: 84563118, 581002: 0, 512584: 0, 241927: 0, 54004: 0, 9829: 76286096, 29161: 0, 24476: 0, 13291: 23530831, 441: 1600000, 621949: 0, 365995: 0, 9292: 17218080, 9766: 41480851, 112336: 23570541, 47104: 0, 10210: 0, 9515: 17297244, 571391: 0, 92060: 0, 54532: 0, 110354: 0, 37034: 0, 35169: 36236710, 13668: 16159325, 286987: 0, 18502: 0, 10085: 0, 370755: 2152738, 188166: 993313, 366141: 0, 87828: 0, 47854: 48398, 42949: 0, 31473: 0, 13954: 0, 414453: 1015744, 357397: 0, 84174: 11947954, 25508: 4000000, 12762: 10600497, 264552: 0, 40728: 0, 4722: 428868, 229407: 0, 566872: 0, 38543: 0, 11826: 0, 11472: 69660733, 289007: 0, 40096: 0, 413857: 0, 11427: 0, 11448: 6700000, 1259: 49469904, 13006: 5430822, 11625: 0, 316715: 0, 267793: 0, 575190: 0, 466451: 0, 356842: 12488, 524840: 0, 291270: 5659286, 11507: 8801940, 151933: 0, 15257: 0, 13797: 0, 1879: 56666667, 1619: 19125401, 373877: 0, 265339: 0, 31962: 21621000, 18015: 0, 12542: 0, 1872: 2850927, 501630: 0, 13437: 0, 10985: 31167388, 87496: 19633027, 448194: 0, 838: 140000000, 21349: 18653615, 62008: 0, 10535: 0, 17774: 0, 9057: 16478900, 338: 79384880, 624860: 0, 11986: 2003822, 354072: 0, 20542: 0, 13691: 62870546, 599379: 0, 428399: 0, 670439: 0, 13022: 4609644, 5857: 9620399, 14424: 1, 6620: 10000000, 522931: 0, 479017: 0, 432615: 0, 20856: 57881056, 310137: 0, 140420: 0, 13461: 5151936, 126277: 0, 8265: 53191886, 1996: 160099222, 615801: 0, 609760: 0, 511449: 0, 2841: 0, 2163: 50159144, 11401: 0, 29425: 0, 330916: 0, 14635: 75597042, 13492: 0, 458506: 0, 10404: 0, 246: 0, 82525: 82966152, 27585: 5132850, 19698: 33759266, 631143: 0, 22590: 17180393, 8051: 24665649, 662844: 0, 375098: 0, 21724: 32, 13995: 0, 228805: 0, 9606: 722932, 4512: 14711793, 26177: 0, 4958: 39459427, 1024: 3049135, 59507: 0, 8675: 0, 508947: 0, 44129: 4882577, 454549: 0, 333746: 0, 394741: 0, 369894: 798214, 330112: 4631, 286521: 1020921, 11557: 37803872, 157825: 33821, 11825: 19510371, 1550: 0, 13127: 0, 455410: 0, 34636: 16283667, 24477: 0, 23730: 3412497, 10578: 0, 83705: 0, 46829: 8454301, 698538: 0, 394223: 0, 323674: 0, 11559: 566611, 544404: 0, 298402: 0, 251516: 0, 124459: 27437881, 706716: 0, 41215: 265318, 156965: 0, 375795: 0, 18647: 4300000, 364982: 0, 42741: 0, 13778: 0, 28597: 0, 532973: 0, 528491: 0, 10238: 0, 54445: 0, 20123: 0, 14871: 0, 10253: 75108998, 11087: 88036683, 9417: 0, 1551: 61489265, 630709: 0, 42801: 0, 6439: 90754475, 140222: 19684, 15045: 48563556, 11031: 4736202, 429238: 0, 73567: 3665069, 15237: 0, 724835: 0, 557946: 0, 7873: 5967038, 10543: 0, 16077: 0, 14457: 0, 426808: 0, 729779: 0, 339877: 42187665, 582808: 0, 126319: 8109160, 77953: 104907746, 9776: 37788228, 4929: 6800000, 560362: 0, 21078: 0, 748685: 0, 332872: 22468044, 22820: 0, 378200: 0, 63555: 0, 554152: 0, 389053: 0, 39957: 58147, 19204: 0, 105001: 26033917, 7288: 19322135, 4965: 8694320, 10972: 373967, 8053: 12036149, 260: 0, 513574: 0, 14330: 0, 46838: 5224938, 38448: 1644755, 415401: 3300000, 691818: 0, 183: 14278900, 12498: 24444121, 63493: 610986, 11425: 0, 21334: 925402, 15035: 760883, 2289: 173013509, 687156: 0, 115782: 35931410, 25753: 0, 231: 93974620, 2752: 0, 743283: 0, 16407: 0, 59678: 3964682, 414425: 0, 318922: 0, 13353: 0, 6723: 21633874, 729983: 0, 9090: 47774193, 9062: 136400000, 3777: 0, 414018: 0, 353345: 0, 22536: 0, 11700: 0, 2274: 0, 540: 0, 1946: 2856712, 190955: 2415472, 34065: 34300000, 3088: 0, 291984: 0, 14854: 12232628, 565341: 0, 406107: 0, 17457: 3639926, 31216: 40945, 9372: 28575078, 35004: 0, 24438: 85280250, 15765: 0, 127372: 3346265, 306745: 573335, 526: 18432000, 27584: 0, 29979: 371396, 11208: 13001257, 457917: 0, 340611: 3924527, 11495: 17080167, 400507: 0, 69315: 0, 374461: 0, 24807: 0, 210769: 0, 363992: 0, 31646: 0, 412766: 0, 339158: 0, 9455: 15156200, 606: 128499205, 348376: 0, 2440: 0, 338544: 0, 294795: 0, 566219: 0, 12335: 17900000, 544510: 0, 395925: 0, 12476: 9747988, 201086: 0, 64639: 10324441, 60599: 35485056, 14359: 50907234, 12143: 2019469, 10050: 0, 361538: 0, 20539: 7343114, 9562: 43935763, 98613: 0, 26881: 0, 408439: 0, 594089: 0, 407806: 0, 24274: 216166, 7859: 4911725, 59184: 0, 13934: 0, 11400: 30536013, 9296: 19576023, 334538: 9995, 267192: 5681622, 13564: 0, 445605: 0, 175: 0, 58496: 8212430, 20009: 6413915, 369033: 0, 435707: 0, 620924: 0, 18707: 0, 1626: 24517, 51786: 0, 21634: 0, 8696: 96542059, 9623: 22754725, 611114: 0, 24137: 18535191, 577647: 0, 21525: 7808524, 432068: 23800000, 531033: 0, 19265: 35097815, 486101: 8198518, 472921: 0, 206192: 0, 140823: 112544580, 81446: 0, 39977: 0, 11232: 76019048, 26715: 199436, 348811: 0, 140818: 3721345, 419706: 0, 331190: 2801508, 123862: 0, 736148: 0, 267463: 0, 4787: 22687639, 546756: 0, 433252: 0, 10546: 17917287, 288410: 0, 4203: 7179298, 367206: 0, 345942: 0, 237791: 0, 10414: 50752337, 364733: 12522, 80295: 0, 376501: 0, 78381: 0, 11465: 13741060, 6687: 5926410, 19200: 2735731, 1792: 65784503, 77875: 0, 452251: 0, 20721: 20345361, 145197: 444098, 8738: 16647800, 1909: 22200000, 149871: 24186232, 27310: 0, 21452: 16330622, 123103: 58510, 222899: 49002684, 11363: 9538948, 245: 129000000, 209504: 0, 41003: 17487531, 17899: 5723917, 2141: 0, 1523: 48027970, 144340: 18637201, 97006: 0, 71428: 0, 37725: 7385434, 8986: 18137661, 9282: 0, 48871: 0, 8272: 0, 12473: 9234510, 12271: 0, 16555: 31609243, 455034: 0, 70076: 0, 11689: 0, 10296: 0, 255157: 0, 12623: 18782400, 36691: 5024782, 340601: 0, 33521: 0, 10142: 18671317, 341689: 0, 44450: 0, 11916: 5050000, 10805: 64892670, 13166: 14343028, 624899: 0, 438446: 0, 5393: 38085778, 8583: 4530929, 29076: 1631839, 19724: 0, 330127: 0, 230179: 7500000, 496274: 0, 472226: 0, 11088: 0, 69798: 88823111, 15138: 793775, 457955: 0, 33555: 0, 38582: 1330000, 20921: 0, 385372: 0, 234200: 7523634, 220882: 252676, 211387: 0, 67911: 0, 316000: 3460466, 189204: 0, 409617: 0, 11006: 126737428, 650625: 0, 9819: 12803305, 8288: 0, 212716: 7847000, 17037: 0, 529790: 0, 29437: 0, 29502: 0, 9745: 0, 402582: 0, 17653: 3956913, 2621: 36609995, 13177: 908847, 57586: 30857747, 44754: 46495, 15263: 0, 12165: 0, 40469: 3000000, 520390: 0, 532938: 4509301, 11982: 0, 9443: 58972904, 11375: 51142659, 985: 7000000, 448252: 0, 8438: 17381942, 89899: 0, 24924: 3109904, 11592: 7820688, 140: 40266982, 70338: 0, 64288: 664747, 14817: 0, 32302: 375805, 11456: 54249294, 10922: 0, 10067: 61112916, 5781: 0, 435126: 0, 290762: 0, 82424: 0, 129139: 3566225, 13595: 0, 24238: 1725381, 620883: 0, 614409: 0, 671042: 0, 428948: 0, 18041: 5108820, 13908: 43411001, 11980: 16, 10395: 131002597, 24126: 3902679, 519255: 176746000, 422615: 0, 8989: 49998613, 6644: 6000000, 20701: 16324573, 315: 0, 228108: 0, 15088: 0, 9842: 17807569, 2469: 3125224, 37933: 68625104, 576: 638641, 604196: 0, 337351: 0, 25682: 0, 52454: 0, 54270: 0, 10712: 29027914, 44113: 9479718, 11644: 12000000, 18402: 50892160, 13557: 0, 72113: 30722632, 402543: 0, 988: 51718367, 574097: 0, 342672: 0, 13008: 0, 12088: 6739141, 548928: 0, 54597: 0, 410876: 0, 14136: 0, 10163: 32100816, 196830: 0, 268238: 85978266, 103332: 9128263, 11849: 15185241, 8414: 0, 5955: 29400000, 612515: 0, 41477: 0, 39053: 0, 28512: 0, 608826: 0, 356296: 0, 54271: 0, 11333: 0, 664035: 0, 721141: 0, 9430: 28451622, 19824: 0, 11857: 0, 13989: 0, 748621: 0, 290825: 0, 13300: 194287, 356298: 4417667, 477428: 579026, 471856: 0, 284286: 3447633, 429416: 64648, 9504: 10725228, 13532: 948753, 9558: 2554476, 513399: 0, 10874: 34327391, 58428: 78396, 558069: 0, 340485: 1818075, 5227: 0, 13466: 34698685, 9538: 14225876, 8818: 141047179, 548537: 0, 4415: 14096321, 84575: 0, 750608: 0, 328901: 2159380, 31417: 58656, 556509: 0, 26264: 0, 11419: 36400360, 1548: 0, 438660: 0, 407651: 0, 27214: 6333135, 146243: 0, 3509: 7659918, 17436: 382174, 11119: 0, 10725: 10626725, 9039: 13414416, 2295: 26888376, 664498: 0, 410118: 0, 142591: 0, 53932: 0, 24271: 0, 17915: 15, 585759: 0, 152647: 0, 440424: 0, 460135: 0, 77801: 0, 211541: 0, 615925: 0, 463252: 0, 332721: 0, 13967: 35078241, 13641: 0, 574162: 0, 278236: 0, 252171: 395000, 15417: 85196485, 100683: 0, 2322: 105232691, 381075: 0, 274476: 0, 84287: 0, 247: 0, 353686: 0, 13973: 3830137, 473415: 0, 582873: 1681545, 168138: 0, 12193: 163733697, 11874: 0, 9924: 0, 364116: 14332467, 28032: 11373501, 586577: 0, 16550: 0, 8316: 0, 1623: 37121708, 328595: 0, 457041: 0, 13090: 16174377, 13074: 0, 11091: 35743308, 9427: 257850122, 2284: 69474661, 501989: 0, 37753: 21591728, 14289: 16000000, 4816: 9400000, 341735: 1057421, 11848: 0, 48838: 4644108, 396373: 0, 190847: 24084, 74725: 450275, 379: 5080409, 109: 0, 408866: 0, 28665: 0, 14819: 17689177, 193: 120000000, 392553: 0, 61891: 15395087, 209185: 3430018, 21355: 0, 2088: 3275585, 557800: 0, 38212: 0, 2054: 106269971, 455650: 0, 520016: 0, 375315: 2216318, 331392: 0, 12490: 0, 607300: 0, 407435: 0, 639721: 0, 398289: 0, 46528: 11087569, 1688: 9700000, 353464: 0, 10118: 11449638, 9682: 29907685, 80038: 12186625, 15641: 0, 833: 0, 10424: 11390479, 25539: 0, 10258: 0, 295592: 16661077, 60243: 24426169, 9104: 0, 169881: 57284237, 283601: 0, 27260: 0, 746042: 0, 752839: 0, 451657: 81455, 1443: 10409377, 24469: 2357852, 8881: 0, 271185: 0, 502422: 0, 191502: 0, 95754: 0, 11499: 18593156, 15584: 0, 19086: 6698361, 13666: 0, 546754: 0, 14924: 2826523, 11071: 0, 461108: 0, 203912: 0, 22309: 30238577, 11896: 57915972, 14787: 0, 7735: 19000000, 604822: 27900000, 458005: 0, 60011: 0, 2576: 0, 15801: 44872, 7510: 6754898, 11897: 50000000, 287587: 108808, 14655: 0, 5925: 11744471, 5924: 53267000, 50126: 0, 285812: 0, 591774: 0, 378858: 0, 24787: 0, 24803: 129540499, 13949: 0, 13931: 0, 16889: 22642033, 9357: 52223306, 11617: 0, 10353: 66000000, 337556: 0, 26945: 0, 125490: 0, 207780: 0, 109453: 0, 641055: 0, 289727: 4453524, 119738: 587211, 1245: 23237911, 505003: 0, 910: 0, 336011: 200242, 15739: 57059003, 548064: 0, 321974: 0, 15258: 0, 896: 134241, 515911: 4100000, 384756: 0, 322456: 0, 321594: 0, 8067: 0, 264495: 0, 398891: 0, 377154: 2000000, 12211: 15843608, 352885: 0, 2255: 12021272, 576296: 0, 432602: 5398976, 715297: 0, 625128: 0, 317557: 10367161, 665764: 0, 332976: 0, 2275: 149705852, 16394: 0, 931: 0, 405: 0, 565312: 0, 407447: 3267486, 401743: 0, 293082: 0, 209361: 10900434, 206296: 0, 46221: 0, 1415: 742898, 299513: 0, 134632: 0, 71862: 0, 29514: 0, 11244: 0, 45839: 1309580, 11067: 30626182, 627070: 0, 348678: 3371692, 19312: 3500000, 699337: 0, 17680: 1007962, 11697: 8000000, 5470: 1531251, 2058: 34673095, 1406: 179033791, 40247: 0, 29453: 0, 643612: 0, 116613: 6294161, 23410: 0, 10784: 0, 419303: 0, 11374: 0, 13570: 0, 427214: 0, 362409: 0, 257444: 0, 34769: 44462, 284294: 166775, 3133: 0, 514236: 0, 309503: 0, 24001: 0, 9716: 0, 14447: 0, 628229: 0, 275619: 0, 33107: 177182, 12797: 27074492, 24480: 0, 10064: 4165675, 118957: 32500000, 10442: 11585483, 24411: 0, 11478: 35007180, 504321: 0, 302528: 1986615, 10475: 0, 494466: 0, 305932: 0, 72207: 53909751, 66581: 0, 11165: 29548291, 87686: 0, 84184: 3094813, 24913: 0, 13160: 0, 589203: 0, 397003: 0, 333663: 0, 13928: 123967, 9905: 0, 3001: 0, 481432: 0, 2362: 0, 426814: 0, 79465: 0, 1450: 0, 230474: 0, 27932: 47000000, 1958: 0, 10995: 0, 13913: 0, 4954: 28735315, 827: 0, 26648: 0, 26587: 0, 25678: 0, 9694: 0, 747968: 20, 70577: 0, 10653: 0, 478553: 0, 449019: 0, 13820: 2300000, 487186: 0, 29572: 0, 10523: 29506464, 16538: 91980359, 16342: 0, 738370: 0, 372490: 0, 221731: 0, 293970: 0, 28752: 0, 361042: 0, 68810: 0, 26371: 2438304, 10540: 17374595, 9086: 0, 4437: 40400657, 2171: 295206, 752939: 0, 31952: 0, 517839: 2045184, 16186: 0, 604028: 0, 6072: 5716080, 454433: 0, 1283: 0, 595900: 0, 328429: 10232, 159014: 5892466, 493099: 2002767, 308453: 615816, 11854: 15306000, 9796: 0, 31174: 2748518, 1722: 62112895, 75595: 0, 10158: 90753806, 626: 0, 89708: 0, 437029: 0, 55292: 33662874, 197796: 49100000, 20763: 4651977, 9289: 50100000, 630215: 0, 4597: 22942221, 4176: 27634716, 3112: 0, 10297: 0, 51996: 790421, 20857: 40222729, 10750: 15073942, 9346: 63541777, 655504: 0, 84194: 0, 29564: 0, 16617: 21148829, 77987: 10337387, 52077: 93800000, 25941: 10329747, 2623: 129795554, 776: 0, 60281: 587615, 48186: 0, 400547: 0, 603937: 0, 19142: 192816, 5968: 25308147, 2061: 0, 14900: 0, 746410: 0, 457417: 0, 412209: 0, 2609: 49230280, 589978: 0, 121986: 4069826, 166: 0, 675233: 0, 11652: 57806952, 11072: 119601481, 411009: 0, 13702: 1914166, 508933: 0, 26517: 0, 259956: 0, 223485: 229094, 11344: 0, 364375: 0, 36599: 14796236, 13939: 22000000, 592336: 5000000, 401060: 0, 226: 11540607, 48034: 48531470, 777: 0, 246790: 0, 41280: 26279000, 729259: 0, 682377: 0, 152790: 0, 107811: 48065672, 37254: 0, 462387: 0, 301728: 0, 145221: 0, 3780: 0, 57718: 0, 650080: 0, 393559: 5873256, 11532: 24467000, 750598: 0, 374052: 228894, 164: 9500000, 443382: 0, 11601: 21133087, 13364: 201275, 19119: 0, 596247: 0, 370178: 0, 340487: 1215691, 15982: 3099497, 13537: 2944752, 9586: 15691192, 74534: 136836156, 11934: 2800000, 418680: 7299662, 512263: 3400977, 19426: 752045, 12573: 31430334, 574207: 0, 15135: 0, 17880: 32645546, 426338: 2963886, 6309: 0, 506: 7000000, 354216: 0, 49014: 6063556, 16562: 25105517, 10733: 25819961, 115084: 0, 14397: 5285197, 739010: 0, 112198: 0, 38335: 0, 3309: 5638000, 137968: 0, 33518: 0, 242042: 15071, 4967: 59945183, 1059: 0, 691241: 0, 19124: 2692037, 6973: 29541790, 99770: 0, 10406: 40693477, 10533: 10382407, 512356: 0, 198185: 38307627, 1816: 14202899, 332704: 0, 160219: 0, 56937: 2439448, 287: 50888000, 529358: 0, 15947: 0, 16279: 900689, 883: 7897645, 51736: 0, 844: 19271312, 68931: 0, 24750: 0, 12277: 41604473, 4916: 22886222, 38286: 0, 10949: 0, 376004: 0, 210947: 121179, 736485: 0, 29794: 0, 13059: 249905, 477887: 0, 740846: 0, 10869: 0, 10147: 76488889, 485166: 0, 24446: 0, 9813: 381420, 245698: 5578519, 441728: 6335171, 9662: 14776760, 10390: 46112640, 82696: 114281051, 451364: 0, 352173: 0, 333384: 6179955, 10644: 10006806, 1680: 12550000, 12627: 0, 2134: 0, 11197: 0, 531790: 0, 13321: 0, 12518: 35, 10279: 19288130, 157823: 271755, 430161: 0, 317190: 0, 333676: 0, 41135: 0, 11309: 5728953, 73530: 0, 402370: 0, 2639: 10686841, 609418: 0, 92182: 13101672, 54293: 0, 14533: 0, 26515: 4385516, 14451: 2166797, 484751: 0, 15667: 0, 8981: 1656829, 455108: 1824902, 288036: 3214116, 288281: 0, 1988: 18928871, 445: 36000000, 265851: 0, 333344: 0, 315664: 48902953, 252391: 0, 13539: 0, 3172: 67631903, 397278: 0, 47955: 46509, 19273: 0, 54648: 3983912, 20482: 0, 650783: 0, 157832: 3593460, 596053: 0, 80767: 2550508, 26505: 0, 605734: 0, 532905: 0, 479475: 0, 1833: 31670620, 91017: 0, 132137: 0, 12484: 0, 2788: 20079850, 531712: 0, 37404: 0, 11704: 14665733, 500634: 0, 18215: 1796389, 14643: 0, 10115: 0, 35052: 0, 9900: 6538177, 372411: 37915971, 63492: 30426096, 19344: 0, 554739: 0, 157354: 17549645, 28601: 0, 360814: 310000000, 115626: 0, 59421: 0, 128136: 45250, 17202: 55184721, 7290: 0, 448432: 0, 1727: 138700000, 502385: 0, 8555: 0, 508953: 0, 13960: 21170563, 28941: 0, 70706: 0, 390056: 944370, 1651: 0, 7512: 495303, 6641: 0, 2084: 0, 567410: 0, 291351: 0, 3134: 940944, 9959: 14655628, 40170: 0, 12772: 0, 11890: 23562716, 246080: 1171559, 10629: 9439660, 284514: 0, 429467: 7362, 631: 0, 711340: 0, 161127: 0, 52850: 0, 40641: 0, 641246: 0, 20210: 0, 728271: 0, 371447: 6700, 35835: 0, 12281: 603943, 10164: 27575086, 421: 34808403, 422821: 0, 72246: 0, 646385: 0, 12085: 0, 8592: 103738726, 107257: 0, 71861: 0, 39013: 13831503, 20126: 2864091, 430424: 0, 352498: 0, 137145: 0, 13706: 0, 438259: 0, 12102: 106260000, 370071: 0, 753462: 0, 753450: 0, 753325: 0, 753272: 0, 753230: 0, 745940: 0, 442709: 0, 95993: 0, 28794: 0, 15019: 9576495, 11426: 30500000, 1040: 0, 114155: 0, 2928: 119718203, 199420: 0, 2640: 1108462, 429691: 0, 220820: 0, 517096: 0, 388440: 0, 199753: 0, 58231: 0, 728889: 0, 30020: 0, 16219: 900000, 503706: 0, 566451: 0, 411144: 0, 6399: 0, 746466: 0, 575417: 0, 482936: 0, 554577: 0, 534235: 0, 204349: 4105, 132114: 0, 16395: 0, 28276: 0, 54320: 0, 311764: 0, 19933: 0, 442987: 0, 61404: 0, 743888: 0, 14749: 0, 368182: 0, 49867: 0, 317560: 28430, 12483: 0, 7515: 0, 15400: 0, 58718: 0, 492613: 0, 109513: 14400000, 12526: 8095658, 10944: 23726793, 8130: 27400000, 157847: 2365467, 8882: 0, 9642: 22501596, 2355: 22222308, 481375: 0, 320519: 0, 13925: 0, 3116: 44785053, 381356: 0, 42979: 0, 34647: 754249, 13054: 0, 34081: 68716, 294562: 0, 23963: 32000, 13173: 0, 665135: 0, 231576: 5483299, 133931: 0, 18214: 0, 446663: 0, 43931: 19829957, 648: 0, 485894: 0, 463322: 0, 681326: 0, 432613: 0, 133919: 0, 641248: 0, 30923: 0, 10799: 11875866, 631997: 0, 11482: 0, 6341: 42313354, 17993: 11567449, 393737: 0, 50212: 0, 25556: 0, 2099: 16209459, 508528: 0, 33602: 0, 11056: 12241855, 346650: 0, 45662: 0, 3291: 54600000, 372761: 361950, 18722: 20000000, 238603: 45300000, 381: 8750000, 267800: 0, 32022: 0, 695282: 0, 448447: 0, 83727: 0, 10362: 3148182, 4710: 0, 283235: 1411927, 9022: 0, 2897: 42000000, 32219: 0, 193612: 17834867, 2335: 65125001, 576682: 0, 40724: 0, 36269: 0, 9385: 0, 158916: 0, 22059: 0, 11064: 45833132, 9729: 0, 696374: 0, 300693: 2541554, 17281: 0, 9517: 480811, 10105: 0, 744927: 0, 293572: 0, 222216: 12666, 45729: 0, 9388: 24793509, 398929: 29370592, 11933: 8479793, 639254: 0, 8327: 0, 20411: 0, 41382: 0, 73134: 0, 1901: 0, 345923: 646946, 113374: 0, 13159: 0, 452: 7235, 679782: 0, 451480: 0, 347158: 0, 333545: 0, 254263: 0, 1968: 29481428, 448448: 0, 41471: 0, 20604: 0, 2011: 0, 44678: 0, 67913: 19560274, 11549: 0, 22383: 0, 13825: 558000, 573531: 11000000, 46304: 0, 10498: 30038362, 492258: 0, 12312: 24516772, 463288: 0, 653733: 0, 394661: 0, 13924: 0, 845: 7000000, 69230: 0, 13341: 34252847, 10349: 10611160, 81342: 9696204, 231001: 0, 36355: 20080020, 18113: 0, 13413: 0, 665052: 0, 611751: 0, 25438: 6797218, 667888: 0, 329004: 0, 19255: 14899417, 6440: 0, 2000: 0, 14059: 50802372, 11223: 0, 669: 0, 175898: 0, 10544: 6585516, 9542: 5844868, 526224: 0, 254024: 0, 17894: 11486880, 16161: 29381649, 13092: 17286299, 410315: 0, 62204: 55260558, 13007: 0, 343977: 0, 14903: 0, 12117: 0, 298582: 0, 680438: 0, 466575: 0, 8193: 46118097, 166822: 0, 25066: 12000000, 474498: 0, 15171: 5232000, 227679: 32300000, 503752: 0, 291348: 0, 86820: 17801, 16764: 0, 15011: 0, 821: 10000000, 730673: 0, 551653: 0, 578908: 0, 319888: 46152411, 254201: 0, 41784: 0, 1590: 6191746, 15363: 11400000, 276839: 0, 1715: 88545092, 737737: 0, 420260: 0, 13073: 809686, 381341: 0, 397601: 106212, 72912: 0, 3179: 0, 652986: 0, 26914: 0, 14458: 0, 4641: 0, 13042: 0, 8691: 0, 333620: 0, 678314: 0, 339751: 302459, 48781: 6, 11843: 41833347, 128876: 0, 56906: 0, 8469: 141000000, 24124: 0, 91745: 1162635, 26956: 0, 264402: 0, 45649: 98017, 175528: 22456509, 6283: 122417389, 1641: 93888180, 12590: 605562, 253279: 249601, 63197: 0, 519035: 0, 639411: 0, 58626: 0, 9422: 56702901, 403357: 0, 470610: 439418, 15691: 42000000, 55723: 0, 517596: 0, 3472: 0, 111190: 1575749, 26171: 16443609, 996: 2500000, 31347: 0, 19644: 0, 431562: 0, 11066: 70100000, 528949: 0, 32579: 23311391, 434080: 0, 244063: 0, 10997: 0, 8011: 36800000, 288287: 0, 11881: 0, 2616: 79258538, 621751: 0, 6623: 110463140, 750972: 0, 17057: 0, 246400: 0, 10013: 41382841, 653578: 0, 228358: 0, 16266: 0, 16448: 0, 13964: 0, 63193: 0, 336149: 0, 50337: 0, 11037: 0, 430231: 956425, 347096: 0, 14425: 4350774, 2: 0, 9809: 4630045, 547388: 0, 71796: 0, 18519: 0, 8744: 0, 31703: 0, 743469: 0, 359151: 0, 10646: 23430766, 247788: 0, 8860: 31987563, 679247: 0, 280005: 0, 15022: 0, 22160: 0, 17337: 0, 197033: 0, 590164: 200046, 59189: 0, 182: 5914908, 11862: 76578911, 302688: 88923251, 470035: 0, 55787: 117094902, 23830: 7644937, 8748: 0, 39230: 0, 18837: 0, 750320: 0, 437515: 0, 978: 131457682, 12689: 0, 4588: 67091915, 403517: 0, 191808: 0, 27475: 0, 9568: 0, 10403: 21706101, 349067: 0, 30890: 0, 482568: 0, 17494: 57138719, 435129: 312381, 10092: 10047674, 454693: 0, 192134: 523511, 574638: 0, 444705: 0, 192142: 70918, 4497: 0, 14943: 0, 11379: 0, 10563: 0, 178: 30156002, 27098: 0, 4727: 0, 14805: 0, 14325: 9793496, 115331: 0, 12229: 0, 9541: 36098382, 9080: 60088980, 393306: 0, 16763: 0, 12187: 16589540, 426256: 0, 267863: 0, 99367: 0, 9663: 28744356, 258086: 5758519, 55377: 0, 16222: 9902115, 14033: 4299141, 32685: 0, 6106: 0, 471429: 0, 38319: 26121638, 11443: 24147179, 1125: 154937680, 10388: 3193102, 38051: 0, 38093: 21520719, 17414: 0, 12778: 13145977, 8649: 0, 5165: 0, 95516: 0, 53172: 204940, 37414: 0, 14361: 22518097, 9585: 0, 508946: 0, 404: 6203044, 33641: 0, 13258: 10871449, 316021: 9188, 14062: 0, 80530: 0, 101179: 0, 6615: 11293663, 498249: 0, 34751: 0, 515816: 0, 15898: 0, 9045: 0, 502350: 0, 489985: 0, 31642: 5, 1947: 18618284, 377492: 0, 367544: 0, 36568: 0, 26372: 0, 8427: 51386477, 11129: 4000000, 448444: 0, 79985: 0, 519771: 0, 9051: 74865517, 7500: 0, 618: 11000000, 10680: 22955097, 1939: 2000000, 352547: 0, 11065: 16017403, 622771: 0, 403570: 0, 33667: 7800000, 31052: 32632093, 576135: 0, 411632: 0, 157438: 0, 12412: 9323833, 11420: 4500000, 42884: 0, 30159: 0, 18333: 0, 12920: 0, 20815: 0, 432836: 0, 9314: 8430492, 4291: 0, 445631: 0, 5072: 0, 239367: 0, 13703: 12396383, 369524: 0, 260063: 0, 13250: 0, 1710: 0, 746034: 0, 592863: 0, 13429: 0, 12257: 10443316, 443076: 0, 16113: 17768900, 56832: 0, 11595: 153518974, 558582: 101068, 13243: 346592, 13062: 0, 9644: 0, 614197: 0, 14846: 22034832, 56601: 3878993, 11458: 0, 11171: 1524966, 31056: 0, 566232: 0, 11109: 13300000, 492353: 0, 15069: 0, 403964: 0, 286538: 0, 116811: 0, 912: 0, 12254: 0, 728754: 0, 82684: 0, 59963: 432274, 16791: 0, 14807: 0, 9445: 0, 673228: 0, 606243: 0, 581316: 0, 317144: 0, 287904: 0, 121677: 519535, 72740: 0, 14029: 0, 13852: 861789, 6116: 100000000, 6: 12136938, 311615: 0, 254193: 0, 14628: 35150960, 336: 0, 51999: 138868, 14313: 3504875, 9584: 45000000, 2013: 19777647, 504345: 0, 46302: 0, 5718: 1027699, 98548: 12434778, 25405: 0, 10994: 0, 156711: 2159041, 113947: 9138338, 2436: 2341309, 594767: 0, 83660: 0, 24192: 0, 332979: 6174491, 9448: 27007143, 737793: 0, 10476: 23563727, 737778: 0, 369697: 3814868, 10835: 0, 11462: 4500000, 2087: 30, 425751: 4077333, 543033: 218184, 20755: 0, 15741: 0, 65034: 0, 114606: 0, 40969: 0, 37269: 0, 19542: 0, 13996: 4040588, 351043: 0, 25566: 0, 10122: 18564613, 236885: 0, 27281: 0, 12764: 10755447, 14242: 0, 43266: 6000000, 15749: 391410, 11515: 9448082, 9262: 0, 22345: 36450736, 15804: 0, 40850: 0, 15356: 0, 550205: 0, 10720: 20298207, 501624: 0, 309924: 234417, 29963: 0, 29756: 0, 385736: 0, 91679: 0, 10407: 0, 477016: 17682, 86822: 0, 500535: 0, 423878: 0, 10723: 22611954, 3513: 0, 470819: 1723379, 15671: 0, 11910: 0, 357974: 0, 451877: 0, 12698: 0, 11044: 0, 375343: 0, 27815: 0, 79698: 0, 24102: 0, 1633: 119418501, 275060: 0, 267467: 0, 11880: 0, 81870: 0, 26275: 0, 20529: 0, 641543: 0, 20309: 12320393}\n"
     ]
    }
   ],
   "source": [
    "print(movie_dict_final)"
   ]
  },
  {
   "cell_type": "code",
   "execution_count": 21,
   "metadata": {},
   "outputs": [
    {
     "data": {
      "text/plain": [
       "9998"
      ]
     },
     "execution_count": 21,
     "metadata": {},
     "output_type": "execute_result"
    }
   ],
   "source": [
    "# Find the length of the dictionary that contains the key:value pairs for movie id and revenue\n",
    "\n",
    "len(movie_dict_final)"
   ]
  },
  {
   "cell_type": "markdown",
   "metadata": {},
   "source": [
    "Great! We now have a dictionary that includes 9,998 rows of data for revenue. We will now turn this information into a DataFrame as well."
   ]
  },
  {
   "cell_type": "code",
   "execution_count": 22,
   "metadata": {},
   "outputs": [
    {
     "data": {
      "text/html": [
       "<div>\n",
       "<style scoped>\n",
       "    .dataframe tbody tr th:only-of-type {\n",
       "        vertical-align: middle;\n",
       "    }\n",
       "\n",
       "    .dataframe tbody tr th {\n",
       "        vertical-align: top;\n",
       "    }\n",
       "\n",
       "    .dataframe thead th {\n",
       "        text-align: right;\n",
       "    }\n",
       "</style>\n",
       "<table border=\"1\" class=\"dataframe\">\n",
       "  <thead>\n",
       "    <tr style=\"text-align: right;\">\n",
       "      <th></th>\n",
       "      <th>revenue</th>\n",
       "    </tr>\n",
       "  </thead>\n",
       "  <tbody>\n",
       "    <tr>\n",
       "      <th>528085</th>\n",
       "      <td>0</td>\n",
       "    </tr>\n",
       "    <tr>\n",
       "      <th>741067</th>\n",
       "      <td>0</td>\n",
       "    </tr>\n",
       "    <tr>\n",
       "      <th>497582</th>\n",
       "      <td>0</td>\n",
       "    </tr>\n",
       "    <tr>\n",
       "      <th>337401</th>\n",
       "      <td>57000000</td>\n",
       "    </tr>\n",
       "    <tr>\n",
       "      <th>724989</th>\n",
       "      <td>0</td>\n",
       "    </tr>\n",
       "    <tr>\n",
       "      <th>721656</th>\n",
       "      <td>0</td>\n",
       "    </tr>\n",
       "    <tr>\n",
       "      <th>694919</th>\n",
       "      <td>0</td>\n",
       "    </tr>\n",
       "    <tr>\n",
       "      <th>660982</th>\n",
       "      <td>0</td>\n",
       "    </tr>\n",
       "    <tr>\n",
       "      <th>718444</th>\n",
       "      <td>139757</td>\n",
       "    </tr>\n",
       "    <tr>\n",
       "      <th>697064</th>\n",
       "      <td>0</td>\n",
       "    </tr>\n",
       "  </tbody>\n",
       "</table>\n",
       "</div>"
      ],
      "text/plain": [
       "         revenue\n",
       "528085         0\n",
       "741067         0\n",
       "497582         0\n",
       "337401  57000000\n",
       "724989         0\n",
       "721656         0\n",
       "694919         0\n",
       "660982         0\n",
       "718444    139757\n",
       "697064         0"
      ]
     },
     "execution_count": 22,
     "metadata": {},
     "output_type": "execute_result"
    }
   ],
   "source": [
    "# Convert this dictionary to a DataFrame and explore the first 10 rows \n",
    "revenue = pd.DataFrame.from_dict(movie_dict_final,orient='index', columns=['revenue'])\n",
    "revenue.head(10)"
   ]
  },
  {
   "cell_type": "code",
   "execution_count": 23,
   "metadata": {},
   "outputs": [
    {
     "name": "stdout",
     "output_type": "stream",
     "text": [
      "<class 'pandas.core.frame.DataFrame'>\n",
      "Int64Index: 9998 entries, 528085 to 20309\n",
      "Data columns (total 1 columns):\n",
      "revenue    9998 non-null int64\n",
      "dtypes: int64(1)\n",
      "memory usage: 156.2 KB\n"
     ]
    }
   ],
   "source": [
    "# Find information on this dataframe\n",
    "revenue.info()"
   ]
  },
  {
   "cell_type": "markdown",
   "metadata": {},
   "source": [
    "\n",
    "## Part IV: Joining Tables and Cleaning DataFrames\n",
    "\n",
    "Our final step in the data cleaning process will be to join these two newly created DataFrames together, in order to have one clear DataFrames that includes all of the information that we would like to consider using for our analysis. Lastly, we will remove unnecessary columns from our DataFrames in order to provide a final clean table. Then, we will save these DataFrames to a new csv file so that they can be accessed in our next notebook, which is where we will conduct our exploratory analysis and create data visualizations."
   ]
  },
  {
   "cell_type": "code",
   "execution_count": null,
   "metadata": {},
   "outputs": [],
   "source": [
    "# Join the two tables together on movie id\n",
    "total_df = df.merge(revenue, left_on=\"id\", right_index=True)"
   ]
  },
  {
   "cell_type": "code",
   "execution_count": null,
   "metadata": {
    "scrolled": true
   },
   "outputs": [],
   "source": [
    "# View the first two rows of the DataFrame to see that revenue was joined correctly\n",
    "total_df.head(2)"
   ]
  },
  {
   "cell_type": "code",
   "execution_count": null,
   "metadata": {},
   "outputs": [],
   "source": [
    "# Drop poster path, backdrop path and overview as these columns contain text we will not use. \n",
    "# Drop original_title since we will use the \"title\" column as a reference instead.\n",
    "\n",
    "total_df = total_df.drop(['poster_path', 'backdrop_path', 'overview', 'original_title'], axis=1)"
   ]
  },
  {
   "cell_type": "code",
   "execution_count": null,
   "metadata": {},
   "outputs": [],
   "source": [
    "total_df.head()"
   ]
  },
  {
   "cell_type": "code",
   "execution_count": null,
   "metadata": {},
   "outputs": [],
   "source": [
    "# Save the new DataFrame to csv file \n",
    "total_df.to_csv('Moviesdata_revenue.csv')\n"
   ]
  },
  {
   "cell_type": "markdown",
   "metadata": {},
   "source": [
    "## Part V: Data Visualization and Analysis"
   ]
  },
  {
   "cell_type": "code",
   "execution_count": null,
   "metadata": {},
   "outputs": [],
   "source": [
    "new_df = total_df[total_df['revenue'] != 0]"
   ]
  },
  {
   "cell_type": "code",
   "execution_count": null,
   "metadata": {},
   "outputs": [],
   "source": []
  }
 ],
 "metadata": {
  "kernelspec": {
   "display_name": "learn-env",
   "language": "python",
   "name": "learn-env"
  },
  "language_info": {
   "codemirror_mode": {
    "name": "ipython",
    "version": 3
   },
   "file_extension": ".py",
   "mimetype": "text/x-python",
   "name": "python",
   "nbconvert_exporter": "python",
   "pygments_lexer": "ipython3",
   "version": "3.6.9"
  }
 },
 "nbformat": 4,
 "nbformat_minor": 4
}
